{
 "cells": [
  {
   "cell_type": "markdown",
   "id": "5da31677-43a9-4c51-89a1-46f89e707ab8",
   "metadata": {},
   "source": [
    "# Проект \"Формирование модели монетизации игрового приложения\""
   ]
  },
  {
   "cell_type": "markdown",
   "id": "7692e8ca-2324-4518-a5a0-0739b90f0d32",
   "metadata": {},
   "source": [
    "**Цель проекта** - проанализировать существующую систему монетизации игры «Космические братья», разработать предложения по ее оптимизации.  \n",
    "В нашем распоряжении **данные**:  \n",
    "- о действии игроков на первом уровне игры в разрезе даты, пользователя (id), вида события, типа постройки и реализованного проекта;\n",
    "- источниках привлечения пользователях в разрезе пользователь-источник;\n",
    "- стоимости рекламной кампании по каналам привлечения в разрезе даты, источника и стоимости кликов.\n",
    "    \n",
    "Текущая модель монетизации предполагает показ рекламы на экране с выбором типа объекта для постройки.  \n",
    "\n",
    "Для выполнения основной цели проекта необходимо:  \n",
    "- проанализировать поведение пользователей:  \n",
    "    - определить долю завершивших первый уровень пользователей, \n",
    "    - определить частоту выбора каждой из стратегий завершения уровня, \n",
    "    - получить ключевые показатели (время пребывания в игре, количество построек) в зависимости от факта завершения или не завершения уровня и способа его завершения  \n",
    "    \n",
    "- определить частоту появления рекламных сообщений при различных стратегиях завершения первого уровня игры,\n",
    "- просчитать окупаемость рекламы при условии использования действующей системы монетизации,\n",
    "- проработать дополнительные варианты монетизации и просчитать окупаемость рекламы при условии использования новой системы монетизации,\n",
    "- разработать и проверить статистические гипотезы по ключевым показателям действий пользователей в игре,\n",
    "- по результам исследования сформировать предложения по текщему положению дел и предложить варианты оптимизации.\n"
   ]
  },
  {
   "cell_type": "markdown",
   "id": "fba5dd75-1a6b-4115-b94f-6b14999f1254",
   "metadata": {},
   "source": [
    "Ссылка на презентацию исследования:  \n",
    "https://drive.google.com/file/d/1cZCoF647lznldLdGnCOaMbwOdN3YQ7ky/view?usp=sharing"
   ]
  },
  {
   "cell_type": "markdown",
   "id": "53ab54e9-2ef0-4a5e-a933-ab2c6ddf9466",
   "metadata": {},
   "source": [
    "## Предобработка данных:  \n",
    "- соответствие типов значений \n",
    "- наименование столбцов (PEP 8)\n",
    "- пропущенные значения (проверка наличия и замена в случае необходимости)\n",
    "- дубликаты (явные и неявные) по всему DF\n",
    "- уникальность значений отдельных столбцов (типа user_id)\n",
    "- корректность распределение по кластерам (один пользователь - один кластер)"
   ]
  },
  {
   "cell_type": "code",
   "execution_count": 1,
   "id": "ef42118d-0325-4630-9777-7ffd209f04c7",
   "metadata": {},
   "outputs": [],
   "source": [
    "%load_ext lab_black"
   ]
  },
  {
   "cell_type": "code",
   "execution_count": 2,
   "id": "95b01c38-09b3-4757-a24c-85d1343ab50b",
   "metadata": {},
   "outputs": [],
   "source": [
    "import pandas as pd\n",
    "import matplotlib.pyplot as plt\n",
    "from scipy import stats as st\n",
    "import numpy as np\n",
    "from datetime import datetime, timedelta\n",
    "import datetime as dt\n",
    "import seaborn as sns\n",
    "import plotly.express as px\n",
    "from plotly import graph_objects as go\n",
    "import math as mth"
   ]
  },
  {
   "cell_type": "code",
   "execution_count": 3,
   "id": "4fe95757-8896-43fd-9e7b-d4e1901b5988",
   "metadata": {},
   "outputs": [],
   "source": [
    "local_path = \"./\"\n",
    "server_path = \"/datasets/\"\n",
    "files = [\"user_source\", \"game_actions\", \"ad_costs\"]\n",
    "data_frames = []\n",
    "for file in files:\n",
    "    try:\n",
    "        exec(f\"data_{file} = pd.read_csv('{local_path}{file}.csv')\")\n",
    "        data_frames.append(f\"data_{file}\")\n",
    "    except:\n",
    "        exec(f\"data_{file} = pd.read_csv('{server_path}{file}.csv')\")\n",
    "        data_frames.append(f\"data_{file}\")"
   ]
  },
  {
   "cell_type": "code",
   "execution_count": 4,
   "id": "4b7dd462-ae0c-48d4-8d76-aa150e58b5ee",
   "metadata": {
    "scrolled": true,
    "tags": []
   },
   "outputs": [
    {
     "name": "stdout",
     "output_type": "stream",
     "text": [
      "data_user_source\n",
      "<class 'pandas.core.frame.DataFrame'>\n",
      "RangeIndex: 13576 entries, 0 to 13575\n",
      "Data columns (total 2 columns):\n",
      " #   Column   Non-Null Count  Dtype \n",
      "---  ------   --------------  ----- \n",
      " 0   user_id  13576 non-null  object\n",
      " 1   source   13576 non-null  object\n",
      "dtypes: object(2)\n",
      "memory usage: 212.2+ KB\n"
     ]
    },
    {
     "data": {
      "text/html": [
       "<div>\n",
       "<style scoped>\n",
       "    .dataframe tbody tr th:only-of-type {\n",
       "        vertical-align: middle;\n",
       "    }\n",
       "\n",
       "    .dataframe tbody tr th {\n",
       "        vertical-align: top;\n",
       "    }\n",
       "\n",
       "    .dataframe thead th {\n",
       "        text-align: right;\n",
       "    }\n",
       "</style>\n",
       "<table border=\"1\" class=\"dataframe\">\n",
       "  <thead>\n",
       "    <tr style=\"text-align: right;\">\n",
       "      <th></th>\n",
       "      <th>user_id</th>\n",
       "      <th>source</th>\n",
       "    </tr>\n",
       "  </thead>\n",
       "  <tbody>\n",
       "    <tr>\n",
       "      <th>0</th>\n",
       "      <td>0001f83c-c6ac-4621-b7f0-8a28b283ac30</td>\n",
       "      <td>facebook_ads</td>\n",
       "    </tr>\n",
       "    <tr>\n",
       "      <th>1</th>\n",
       "      <td>00151b4f-ba38-44a8-a650-d7cf130a0105</td>\n",
       "      <td>yandex_direct</td>\n",
       "    </tr>\n",
       "    <tr>\n",
       "      <th>2</th>\n",
       "      <td>001aaea6-3d14-43f1-8ca8-7f48820f17aa</td>\n",
       "      <td>youtube_channel_reklama</td>\n",
       "    </tr>\n",
       "    <tr>\n",
       "      <th>3</th>\n",
       "      <td>001d39dc-366c-4021-9604-6a3b9ff01e25</td>\n",
       "      <td>instagram_new_adverts</td>\n",
       "    </tr>\n",
       "    <tr>\n",
       "      <th>4</th>\n",
       "      <td>002f508f-67b6-479f-814b-b05f00d4e995</td>\n",
       "      <td>facebook_ads</td>\n",
       "    </tr>\n",
       "  </tbody>\n",
       "</table>\n",
       "</div>"
      ],
      "text/plain": [
       "                                user_id                   source\n",
       "0  0001f83c-c6ac-4621-b7f0-8a28b283ac30             facebook_ads\n",
       "1  00151b4f-ba38-44a8-a650-d7cf130a0105            yandex_direct\n",
       "2  001aaea6-3d14-43f1-8ca8-7f48820f17aa  youtube_channel_reklama\n",
       "3  001d39dc-366c-4021-9604-6a3b9ff01e25    instagram_new_adverts\n",
       "4  002f508f-67b6-479f-814b-b05f00d4e995             facebook_ads"
      ]
     },
     "metadata": {},
     "output_type": "display_data"
    },
    {
     "name": "stdout",
     "output_type": "stream",
     "text": [
      "\n",
      " __________________________________________________ \n",
      "\n",
      "data_game_actions\n",
      "<class 'pandas.core.frame.DataFrame'>\n",
      "RangeIndex: 135640 entries, 0 to 135639\n",
      "Data columns (total 5 columns):\n",
      " #   Column          Non-Null Count   Dtype \n",
      "---  ------          --------------   ----- \n",
      " 0   event_datetime  135640 non-null  object\n",
      " 1   event           135640 non-null  object\n",
      " 2   building_type   127957 non-null  object\n",
      " 3   user_id         135640 non-null  object\n",
      " 4   project_type    1866 non-null    object\n",
      "dtypes: object(5)\n",
      "memory usage: 5.2+ MB\n"
     ]
    },
    {
     "data": {
      "text/html": [
       "<div>\n",
       "<style scoped>\n",
       "    .dataframe tbody tr th:only-of-type {\n",
       "        vertical-align: middle;\n",
       "    }\n",
       "\n",
       "    .dataframe tbody tr th {\n",
       "        vertical-align: top;\n",
       "    }\n",
       "\n",
       "    .dataframe thead th {\n",
       "        text-align: right;\n",
       "    }\n",
       "</style>\n",
       "<table border=\"1\" class=\"dataframe\">\n",
       "  <thead>\n",
       "    <tr style=\"text-align: right;\">\n",
       "      <th></th>\n",
       "      <th>event_datetime</th>\n",
       "      <th>event</th>\n",
       "      <th>building_type</th>\n",
       "      <th>user_id</th>\n",
       "      <th>project_type</th>\n",
       "    </tr>\n",
       "  </thead>\n",
       "  <tbody>\n",
       "    <tr>\n",
       "      <th>0</th>\n",
       "      <td>2020-05-04 00:00:01</td>\n",
       "      <td>building</td>\n",
       "      <td>assembly_shop</td>\n",
       "      <td>55e92310-cb8e-4754-b622-597e124b03de</td>\n",
       "      <td>NaN</td>\n",
       "    </tr>\n",
       "    <tr>\n",
       "      <th>1</th>\n",
       "      <td>2020-05-04 00:00:03</td>\n",
       "      <td>building</td>\n",
       "      <td>assembly_shop</td>\n",
       "      <td>c07b1c10-f477-44dc-81dc-ec82254b1347</td>\n",
       "      <td>NaN</td>\n",
       "    </tr>\n",
       "    <tr>\n",
       "      <th>2</th>\n",
       "      <td>2020-05-04 00:00:16</td>\n",
       "      <td>building</td>\n",
       "      <td>assembly_shop</td>\n",
       "      <td>6edd42cc-e753-4ff6-a947-2107cd560710</td>\n",
       "      <td>NaN</td>\n",
       "    </tr>\n",
       "    <tr>\n",
       "      <th>3</th>\n",
       "      <td>2020-05-04 00:00:16</td>\n",
       "      <td>building</td>\n",
       "      <td>assembly_shop</td>\n",
       "      <td>92c69003-d60a-444a-827f-8cc51bf6bf4c</td>\n",
       "      <td>NaN</td>\n",
       "    </tr>\n",
       "    <tr>\n",
       "      <th>4</th>\n",
       "      <td>2020-05-04 00:00:35</td>\n",
       "      <td>building</td>\n",
       "      <td>assembly_shop</td>\n",
       "      <td>cdc6bb92-0ccb-4490-9866-ef142f09139d</td>\n",
       "      <td>NaN</td>\n",
       "    </tr>\n",
       "  </tbody>\n",
       "</table>\n",
       "</div>"
      ],
      "text/plain": [
       "        event_datetime     event  building_type  \\\n",
       "0  2020-05-04 00:00:01  building  assembly_shop   \n",
       "1  2020-05-04 00:00:03  building  assembly_shop   \n",
       "2  2020-05-04 00:00:16  building  assembly_shop   \n",
       "3  2020-05-04 00:00:16  building  assembly_shop   \n",
       "4  2020-05-04 00:00:35  building  assembly_shop   \n",
       "\n",
       "                                user_id project_type  \n",
       "0  55e92310-cb8e-4754-b622-597e124b03de          NaN  \n",
       "1  c07b1c10-f477-44dc-81dc-ec82254b1347          NaN  \n",
       "2  6edd42cc-e753-4ff6-a947-2107cd560710          NaN  \n",
       "3  92c69003-d60a-444a-827f-8cc51bf6bf4c          NaN  \n",
       "4  cdc6bb92-0ccb-4490-9866-ef142f09139d          NaN  "
      ]
     },
     "metadata": {},
     "output_type": "display_data"
    },
    {
     "name": "stdout",
     "output_type": "stream",
     "text": [
      "\n",
      " __________________________________________________ \n",
      "\n",
      "data_ad_costs\n",
      "<class 'pandas.core.frame.DataFrame'>\n",
      "RangeIndex: 28 entries, 0 to 27\n",
      "Data columns (total 3 columns):\n",
      " #   Column  Non-Null Count  Dtype  \n",
      "---  ------  --------------  -----  \n",
      " 0   source  28 non-null     object \n",
      " 1   day     28 non-null     object \n",
      " 2   cost    28 non-null     float64\n",
      "dtypes: float64(1), object(2)\n",
      "memory usage: 800.0+ bytes\n"
     ]
    },
    {
     "data": {
      "text/html": [
       "<div>\n",
       "<style scoped>\n",
       "    .dataframe tbody tr th:only-of-type {\n",
       "        vertical-align: middle;\n",
       "    }\n",
       "\n",
       "    .dataframe tbody tr th {\n",
       "        vertical-align: top;\n",
       "    }\n",
       "\n",
       "    .dataframe thead th {\n",
       "        text-align: right;\n",
       "    }\n",
       "</style>\n",
       "<table border=\"1\" class=\"dataframe\">\n",
       "  <thead>\n",
       "    <tr style=\"text-align: right;\">\n",
       "      <th></th>\n",
       "      <th>source</th>\n",
       "      <th>day</th>\n",
       "      <th>cost</th>\n",
       "    </tr>\n",
       "  </thead>\n",
       "  <tbody>\n",
       "    <tr>\n",
       "      <th>0</th>\n",
       "      <td>facebook_ads</td>\n",
       "      <td>2020-05-03</td>\n",
       "      <td>935.882786</td>\n",
       "    </tr>\n",
       "    <tr>\n",
       "      <th>1</th>\n",
       "      <td>facebook_ads</td>\n",
       "      <td>2020-05-04</td>\n",
       "      <td>548.354480</td>\n",
       "    </tr>\n",
       "    <tr>\n",
       "      <th>2</th>\n",
       "      <td>facebook_ads</td>\n",
       "      <td>2020-05-05</td>\n",
       "      <td>260.185754</td>\n",
       "    </tr>\n",
       "    <tr>\n",
       "      <th>3</th>\n",
       "      <td>facebook_ads</td>\n",
       "      <td>2020-05-06</td>\n",
       "      <td>177.982200</td>\n",
       "    </tr>\n",
       "    <tr>\n",
       "      <th>4</th>\n",
       "      <td>facebook_ads</td>\n",
       "      <td>2020-05-07</td>\n",
       "      <td>111.766796</td>\n",
       "    </tr>\n",
       "  </tbody>\n",
       "</table>\n",
       "</div>"
      ],
      "text/plain": [
       "         source         day        cost\n",
       "0  facebook_ads  2020-05-03  935.882786\n",
       "1  facebook_ads  2020-05-04  548.354480\n",
       "2  facebook_ads  2020-05-05  260.185754\n",
       "3  facebook_ads  2020-05-06  177.982200\n",
       "4  facebook_ads  2020-05-07  111.766796"
      ]
     },
     "metadata": {},
     "output_type": "display_data"
    },
    {
     "name": "stdout",
     "output_type": "stream",
     "text": [
      "\n",
      " __________________________________________________ \n",
      "\n"
     ]
    }
   ],
   "source": [
    "for df in data_frames:\n",
    "    print(df)\n",
    "    locals().get(df).info()\n",
    "    display(locals().get(df).head())\n",
    "    print(\"\\n\", \"_\" * 50, \"\\n\")"
   ]
  },
  {
   "cell_type": "code",
   "execution_count": 5,
   "id": "a605c5c9-d4ea-4732-859a-2b8526c2ae25",
   "metadata": {
    "tags": []
   },
   "outputs": [],
   "source": [
    "data_game_actions[\"event_datetime\"] = data_game_actions[\"event_datetime\"].astype(\n",
    "    \"datetime64\"\n",
    ")"
   ]
  },
  {
   "cell_type": "code",
   "execution_count": 6,
   "id": "667a9153-4240-474b-9d34-9d452e38b2b9",
   "metadata": {
    "tags": []
   },
   "outputs": [],
   "source": [
    "data_game_actions[\"date\"] = data_game_actions[\"event_datetime\"].dt.date"
   ]
  },
  {
   "cell_type": "code",
   "execution_count": 7,
   "id": "7e7af0aa-efa6-4237-864d-8dd6cfa85070",
   "metadata": {
    "tags": []
   },
   "outputs": [
    {
     "data": {
      "text/html": [
       "<div>\n",
       "<style scoped>\n",
       "    .dataframe tbody tr th:only-of-type {\n",
       "        vertical-align: middle;\n",
       "    }\n",
       "\n",
       "    .dataframe tbody tr th {\n",
       "        vertical-align: top;\n",
       "    }\n",
       "\n",
       "    .dataframe thead th {\n",
       "        text-align: right;\n",
       "    }\n",
       "</style>\n",
       "<table border=\"1\" class=\"dataframe\">\n",
       "  <thead>\n",
       "    <tr style=\"text-align: right;\">\n",
       "      <th></th>\n",
       "      <th>event_datetime</th>\n",
       "      <th>event</th>\n",
       "      <th>building_type</th>\n",
       "      <th>user_id</th>\n",
       "      <th>project_type</th>\n",
       "      <th>date</th>\n",
       "    </tr>\n",
       "  </thead>\n",
       "  <tbody>\n",
       "    <tr>\n",
       "      <th>0</th>\n",
       "      <td>2020-05-04 00:00:01</td>\n",
       "      <td>building</td>\n",
       "      <td>assembly_shop</td>\n",
       "      <td>55e92310-cb8e-4754-b622-597e124b03de</td>\n",
       "      <td>NaN</td>\n",
       "      <td>2020-05-04</td>\n",
       "    </tr>\n",
       "    <tr>\n",
       "      <th>1</th>\n",
       "      <td>2020-05-04 00:00:03</td>\n",
       "      <td>building</td>\n",
       "      <td>assembly_shop</td>\n",
       "      <td>c07b1c10-f477-44dc-81dc-ec82254b1347</td>\n",
       "      <td>NaN</td>\n",
       "      <td>2020-05-04</td>\n",
       "    </tr>\n",
       "    <tr>\n",
       "      <th>2</th>\n",
       "      <td>2020-05-04 00:00:16</td>\n",
       "      <td>building</td>\n",
       "      <td>assembly_shop</td>\n",
       "      <td>6edd42cc-e753-4ff6-a947-2107cd560710</td>\n",
       "      <td>NaN</td>\n",
       "      <td>2020-05-04</td>\n",
       "    </tr>\n",
       "    <tr>\n",
       "      <th>3</th>\n",
       "      <td>2020-05-04 00:00:16</td>\n",
       "      <td>building</td>\n",
       "      <td>assembly_shop</td>\n",
       "      <td>92c69003-d60a-444a-827f-8cc51bf6bf4c</td>\n",
       "      <td>NaN</td>\n",
       "      <td>2020-05-04</td>\n",
       "    </tr>\n",
       "    <tr>\n",
       "      <th>4</th>\n",
       "      <td>2020-05-04 00:00:35</td>\n",
       "      <td>building</td>\n",
       "      <td>assembly_shop</td>\n",
       "      <td>cdc6bb92-0ccb-4490-9866-ef142f09139d</td>\n",
       "      <td>NaN</td>\n",
       "      <td>2020-05-04</td>\n",
       "    </tr>\n",
       "  </tbody>\n",
       "</table>\n",
       "</div>"
      ],
      "text/plain": [
       "       event_datetime     event  building_type  \\\n",
       "0 2020-05-04 00:00:01  building  assembly_shop   \n",
       "1 2020-05-04 00:00:03  building  assembly_shop   \n",
       "2 2020-05-04 00:00:16  building  assembly_shop   \n",
       "3 2020-05-04 00:00:16  building  assembly_shop   \n",
       "4 2020-05-04 00:00:35  building  assembly_shop   \n",
       "\n",
       "                                user_id project_type        date  \n",
       "0  55e92310-cb8e-4754-b622-597e124b03de          NaN  2020-05-04  \n",
       "1  c07b1c10-f477-44dc-81dc-ec82254b1347          NaN  2020-05-04  \n",
       "2  6edd42cc-e753-4ff6-a947-2107cd560710          NaN  2020-05-04  \n",
       "3  92c69003-d60a-444a-827f-8cc51bf6bf4c          NaN  2020-05-04  \n",
       "4  cdc6bb92-0ccb-4490-9866-ef142f09139d          NaN  2020-05-04  "
      ]
     },
     "execution_count": 7,
     "metadata": {},
     "output_type": "execute_result"
    }
   ],
   "source": [
    "data_game_actions.head()"
   ]
  },
  {
   "cell_type": "code",
   "execution_count": 8,
   "id": "fbda4f0f-638a-445d-9d21-c389aa202e35",
   "metadata": {},
   "outputs": [
    {
     "data": {
      "text/plain": [
       "1"
      ]
     },
     "execution_count": 8,
     "metadata": {},
     "output_type": "execute_result"
    }
   ],
   "source": [
    "data_game_actions.duplicated().sum()"
   ]
  },
  {
   "cell_type": "code",
   "execution_count": 9,
   "id": "462e0453-c5f3-40ad-9f3c-09bab4c09e52",
   "metadata": {},
   "outputs": [
    {
     "data": {
      "text/html": [
       "<div>\n",
       "<style scoped>\n",
       "    .dataframe tbody tr th:only-of-type {\n",
       "        vertical-align: middle;\n",
       "    }\n",
       "\n",
       "    .dataframe tbody tr th {\n",
       "        vertical-align: top;\n",
       "    }\n",
       "\n",
       "    .dataframe thead th {\n",
       "        text-align: right;\n",
       "    }\n",
       "</style>\n",
       "<table border=\"1\" class=\"dataframe\">\n",
       "  <thead>\n",
       "    <tr style=\"text-align: right;\">\n",
       "      <th></th>\n",
       "      <th>event_datetime</th>\n",
       "      <th>event</th>\n",
       "      <th>building_type</th>\n",
       "      <th>user_id</th>\n",
       "      <th>project_type</th>\n",
       "      <th>date</th>\n",
       "    </tr>\n",
       "  </thead>\n",
       "  <tbody>\n",
       "    <tr>\n",
       "      <th>74891</th>\n",
       "      <td>2020-05-10 18:41:56</td>\n",
       "      <td>building</td>\n",
       "      <td>research_center</td>\n",
       "      <td>c9af55d2-b0ae-4bb4-b3d5-f32aa9ac03af</td>\n",
       "      <td>NaN</td>\n",
       "      <td>2020-05-10</td>\n",
       "    </tr>\n",
       "  </tbody>\n",
       "</table>\n",
       "</div>"
      ],
      "text/plain": [
       "           event_datetime     event    building_type  \\\n",
       "74891 2020-05-10 18:41:56  building  research_center   \n",
       "\n",
       "                                    user_id project_type        date  \n",
       "74891  c9af55d2-b0ae-4bb4-b3d5-f32aa9ac03af          NaN  2020-05-10  "
      ]
     },
     "execution_count": 9,
     "metadata": {},
     "output_type": "execute_result"
    }
   ],
   "source": [
    "data_game_actions[data_game_actions.duplicated() == True]"
   ]
  },
  {
   "cell_type": "code",
   "execution_count": 10,
   "id": "52de76b3-76dd-496c-91a6-fcea5c2604a3",
   "metadata": {},
   "outputs": [],
   "source": [
    "data_game_actions.drop_duplicates(inplace=True)"
   ]
  },
  {
   "cell_type": "code",
   "execution_count": 11,
   "id": "867a3704-a1ce-45b7-a2a2-80c7179693ec",
   "metadata": {
    "tags": []
   },
   "outputs": [
    {
     "data": {
      "text/html": [
       "<div>\n",
       "<style scoped>\n",
       "    .dataframe tbody tr th:only-of-type {\n",
       "        vertical-align: middle;\n",
       "    }\n",
       "\n",
       "    .dataframe tbody tr th {\n",
       "        vertical-align: top;\n",
       "    }\n",
       "\n",
       "    .dataframe thead th {\n",
       "        text-align: right;\n",
       "    }\n",
       "</style>\n",
       "<table border=\"1\" class=\"dataframe\">\n",
       "  <thead>\n",
       "    <tr style=\"text-align: right;\">\n",
       "      <th></th>\n",
       "      <th>building_type</th>\n",
       "      <th>project_type</th>\n",
       "    </tr>\n",
       "    <tr>\n",
       "      <th>event</th>\n",
       "      <th></th>\n",
       "      <th></th>\n",
       "    </tr>\n",
       "  </thead>\n",
       "  <tbody>\n",
       "    <tr>\n",
       "      <th>building</th>\n",
       "      <td>[assembly_shop, spaceport, research_center]</td>\n",
       "      <td>[nan]</td>\n",
       "    </tr>\n",
       "    <tr>\n",
       "      <th>finished_stage_1</th>\n",
       "      <td>[nan]</td>\n",
       "      <td>[nan]</td>\n",
       "    </tr>\n",
       "    <tr>\n",
       "      <th>project</th>\n",
       "      <td>[nan]</td>\n",
       "      <td>[satellite_orbital_assembly]</td>\n",
       "    </tr>\n",
       "  </tbody>\n",
       "</table>\n",
       "</div>"
      ],
      "text/plain": [
       "                                                building_type  \\\n",
       "event                                                           \n",
       "building          [assembly_shop, spaceport, research_center]   \n",
       "finished_stage_1                                        [nan]   \n",
       "project                                                 [nan]   \n",
       "\n",
       "                                  project_type  \n",
       "event                                           \n",
       "building                                 [nan]  \n",
       "finished_stage_1                         [nan]  \n",
       "project           [satellite_orbital_assembly]  "
      ]
     },
     "execution_count": 11,
     "metadata": {},
     "output_type": "execute_result"
    }
   ],
   "source": [
    "data_game_actions.groupby(\"event\").agg(\n",
    "    {\"building_type\": \"unique\", \"project_type\": \"unique\"}\n",
    ")"
   ]
  },
  {
   "cell_type": "code",
   "execution_count": 12,
   "id": "09439332-acd5-497a-9644-565cc38d1389",
   "metadata": {
    "tags": []
   },
   "outputs": [
    {
     "data": {
      "text/plain": [
       "yandex_direct              4817\n",
       "instagram_new_adverts      3347\n",
       "facebook_ads               2726\n",
       "youtube_channel_reklama    2686\n",
       "Name: source, dtype: int64"
      ]
     },
     "execution_count": 12,
     "metadata": {},
     "output_type": "execute_result"
    }
   ],
   "source": [
    "data_user_source[\"source\"].value_counts(dropna=False)"
   ]
  },
  {
   "cell_type": "code",
   "execution_count": 13,
   "id": "6e1cd0c7-3c67-459f-aa76-570fac5c54ae",
   "metadata": {
    "tags": []
   },
   "outputs": [
    {
     "data": {
      "text/plain": [
       "0"
      ]
     },
     "execution_count": 13,
     "metadata": {},
     "output_type": "execute_result"
    }
   ],
   "source": [
    "data_user_source.duplicated().sum()"
   ]
  },
  {
   "cell_type": "code",
   "execution_count": 14,
   "id": "0baf38ef-f9cf-4399-af6b-6fe8c1920fb5",
   "metadata": {
    "tags": []
   },
   "outputs": [
    {
     "data": {
      "text/plain": [
       "13576"
      ]
     },
     "execution_count": 14,
     "metadata": {},
     "output_type": "execute_result"
    }
   ],
   "source": [
    "data_user_source[\"user_id\"].nunique()"
   ]
  },
  {
   "cell_type": "code",
   "execution_count": 15,
   "id": "1cb27fb3-4e3e-447e-9f2b-f017921c9b00",
   "metadata": {
    "tags": []
   },
   "outputs": [
    {
     "data": {
      "text/html": [
       "<div>\n",
       "<style scoped>\n",
       "    .dataframe tbody tr th:only-of-type {\n",
       "        vertical-align: middle;\n",
       "    }\n",
       "\n",
       "    .dataframe tbody tr th {\n",
       "        vertical-align: top;\n",
       "    }\n",
       "\n",
       "    .dataframe thead th {\n",
       "        text-align: right;\n",
       "    }\n",
       "</style>\n",
       "<table border=\"1\" class=\"dataframe\">\n",
       "  <thead>\n",
       "    <tr style=\"text-align: right;\">\n",
       "      <th></th>\n",
       "      <th>source</th>\n",
       "    </tr>\n",
       "    <tr>\n",
       "      <th>user_id</th>\n",
       "      <th></th>\n",
       "    </tr>\n",
       "  </thead>\n",
       "  <tbody>\n",
       "  </tbody>\n",
       "</table>\n",
       "</div>"
      ],
      "text/plain": [
       "Empty DataFrame\n",
       "Columns: [source]\n",
       "Index: []"
      ]
     },
     "execution_count": 15,
     "metadata": {},
     "output_type": "execute_result"
    }
   ],
   "source": [
    "data_user_source.groupby(\"user_id\").count().query(\"source != 1\")"
   ]
  },
  {
   "cell_type": "code",
   "execution_count": 16,
   "id": "a3a9d489-2871-4874-90a8-de09562947d1",
   "metadata": {},
   "outputs": [],
   "source": [
    "data_ad_costs[\"day\"] = pd.to_datetime(data_ad_costs[\"day\"]).dt.date"
   ]
  },
  {
   "cell_type": "code",
   "execution_count": 17,
   "id": "f409bf8e-8047-4cc0-8c0e-9b829f0a7fd6",
   "metadata": {},
   "outputs": [
    {
     "data": {
      "text/plain": [
       "0"
      ]
     },
     "execution_count": 17,
     "metadata": {},
     "output_type": "execute_result"
    }
   ],
   "source": [
    "data_ad_costs.duplicated().sum()"
   ]
  },
  {
   "cell_type": "markdown",
   "id": "c14d63f3-2dfa-4810-bf54-7b14b696196b",
   "metadata": {},
   "source": [
    "### Вывод  \n",
    "\n",
    "1. DF 'data_game_actions' всего 135640 строк, 5 столбцов.  \n",
    "    Наименования столбцов корректны, нет смешения стилей, разделитель в многословных названиях - подчеркивание. По типам данных необходимо только приведение столбца \"event_datetime\" к типу datetime, для дальнейшего выделения из нее даты.  \n",
    "    Пропущенные значения есть в столбцах 'building_type' и 'project_type', но их замена не требуется, пропуски обусловлены логикой данных.\n",
    "    Удалена одна дублирующая строка.\n",
    "    \n",
    "2. DF 'data_user_source' всего 13576 строк, 2 столбца.  \n",
    "    Наименование строк корректны, пустые значения отсутствуют. Типы соответствуют размещенным в них данных. Дубликаты отсутствуют, NAN нет. Проверены на уникальность user_id, а также корректность отнесения пользователя только к одному источнику трафика.\n",
    "    \n",
    "3. DF 'data_ad_costs' всего 28 строк, 3 столбца. Типы соответствуют размещенным в них данных, кроме столбца с датой, ее необходимо привести к соответствующему типу. Дубликаты отсутствуют, пропущенные значения отсутствуют."
   ]
  },
  {
   "cell_type": "markdown",
   "id": "5ec50f1e-2801-4bab-bdcc-6a4de9398da4",
   "metadata": {},
   "source": [
    "## Исследовательский анализ данных (EDA)"
   ]
  },
  {
   "cell_type": "markdown",
   "id": "f5867a7b-31b0-4612-92b1-4b4c41c85cc0",
   "metadata": {
    "tags": []
   },
   "source": [
    "### DF 'game_actions' данные по игре пользователей на первом уровне\n",
    "\n",
    "- проанализировать распределение числа пользователей по дням и событиям \n",
    "- проанализировать распределение числа пользователей по дням и этапам строительства проекта"
   ]
  },
  {
   "cell_type": "code",
   "execution_count": 18,
   "id": "d2c59067-a1de-44a2-b9aa-73410caa5cd1",
   "metadata": {},
   "outputs": [
    {
     "name": "stdout",
     "output_type": "stream",
     "text": [
      "Общее число уникальных пользователей: 13576\n"
     ]
    }
   ],
   "source": [
    "users = data_game_actions[\"user_id\"].nunique()\n",
    "print(f\"Общее число уникальных пользователей: {users}\")"
   ]
  },
  {
   "cell_type": "code",
   "execution_count": 19,
   "id": "873d5437-e5e3-4879-9b6c-82ae290df2c8",
   "metadata": {},
   "outputs": [
    {
     "data": {
      "text/html": [
       "<div>\n",
       "<style scoped>\n",
       "    .dataframe tbody tr th:only-of-type {\n",
       "        vertical-align: middle;\n",
       "    }\n",
       "\n",
       "    .dataframe tbody tr th {\n",
       "        vertical-align: top;\n",
       "    }\n",
       "\n",
       "    .dataframe thead th {\n",
       "        text-align: right;\n",
       "    }\n",
       "</style>\n",
       "<table border=\"1\" class=\"dataframe\">\n",
       "  <thead>\n",
       "    <tr style=\"text-align: right;\">\n",
       "      <th></th>\n",
       "      <th>user_id</th>\n",
       "      <th>source</th>\n",
       "      <th>event</th>\n",
       "    </tr>\n",
       "  </thead>\n",
       "  <tbody>\n",
       "  </tbody>\n",
       "</table>\n",
       "</div>"
      ],
      "text/plain": [
       "Empty DataFrame\n",
       "Columns: [user_id, source, event]\n",
       "Index: []"
      ]
     },
     "execution_count": 19,
     "metadata": {},
     "output_type": "execute_result"
    }
   ],
   "source": [
    "# проверка согласованности данных в DF (все привлеченные пользователи совершили хотя бы 1 действие в игре)\n",
    "users_acts = data_game_actions.groupby(\"user_id\").agg({\"event\": \"count\"})\n",
    "us_merge = data_user_source.merge(users_acts, on=\"user_id\")\n",
    "us_merge[us_merge[\"event\"].isna()]"
   ]
  },
  {
   "cell_type": "code",
   "execution_count": 20,
   "id": "87a10255-6261-4fd7-837f-348030f0cead",
   "metadata": {},
   "outputs": [
    {
     "name": "stdout",
     "output_type": "stream",
     "text": [
      "Максимальная дата действий пользователей: 2020-06-05\n",
      "Минимальная дата действий пользователей: 2020-05-04\n"
     ]
    }
   ],
   "source": [
    "min_date = data_game_actions[\"date\"].min()\n",
    "max_date = data_game_actions[\"date\"].max()\n",
    "print(\n",
    "    f\"Максимальная дата действий пользователей: {max_date}\\nМинимальная дата действий пользователей: {min_date}\"\n",
    ")"
   ]
  },
  {
   "cell_type": "markdown",
   "id": "e679b0df-e780-45eb-8f60-64f086ccfd6c",
   "metadata": {},
   "source": [
    "Количество уникальных пользователей на первом уровне игры 13576 человек. Далее посмотрим сколько из них завершило и не завершило первый уровень, какая стратегия игры более популярна. Так же сделали дополнительную проверку, что каждый из привлеченных пользователей совершил хотя бы одно действие в игре (было показано хотя бы одно рекламное сообщение). Результат проверки положительный, все пользователи просмотрели рекламное сообщение хотя бы один раз.\n",
    "    \n",
    "Период доступных данных для анализа достаточный - 31 день (с 04.05.2020 по 05.06.2020), это позволит увидеть в динамике поведение пользователей разных когорот на первом уровне игры. \n"
   ]
  },
  {
   "cell_type": "code",
   "execution_count": 21,
   "id": "b6b22b87-0253-40e4-b88a-7755b3a54b71",
   "metadata": {
    "tags": []
   },
   "outputs": [
    {
     "data": {
      "image/png": "[encoded data removed]",
      "text/plain": [
       "<Figure size 864x432 with 1 Axes>"
      ]
     },
     "metadata": {
      "needs_background": "light"
     },
     "output_type": "display_data"
    }
   ],
   "source": [
    "# построение графика числа событий по дням\n",
    "event_day = data_game_actions.groupby(\"event_datetime\").agg({\"event\": \"count\"})\n",
    "event_day.rolling(500).mean().plot(\n",
    "    grid=True,\n",
    "    figsize=(12, 6),\n",
    ")\n",
    "plt.title(\"Распределение количества событий по дням\", fontsize=14)\n",
    "plt.ylabel(\"Количество событий\", fontsize=13)\n",
    "plt.xlabel(\"Дата\", fontsize=13)\n",
    "plt.legend = False\n",
    "plt.show()"
   ]
  },
  {
   "cell_type": "markdown",
   "id": "d0477c99-502d-4590-b39c-8b08ee64d34c",
   "metadata": {
    "tags": []
   },
   "source": [
    "#### Вывод\n",
    "Пик активности наблюдается в районе 10 мая, после этой даты постепенное снижение количества действий пользователей. К 5 мая показатель снизился до минимума и закрепился на этом уровне."
   ]
  },
  {
   "cell_type": "code",
   "execution_count": 22,
   "id": "9ccc0be9-3e3d-4c01-9ef4-c37ffaaa58e9",
   "metadata": {},
   "outputs": [],
   "source": [
    "# получение данных по дням и видам собыйтий для дальнейшего построения графика\n",
    "group_user_action = pd.DataFrame(data_game_actions[\"date\"].unique(), columns=[\"date\"])\n",
    "for action in data_game_actions[\"event\"].unique():\n",
    "    group_user_action = group_user_action.merge(\n",
    "        data_game_actions[data_game_actions[\"event\"] == action]\n",
    "        .groupby(\"date\")\n",
    "        .agg({\"user_id\": \"nunique\"}),\n",
    "        on=\"date\",\n",
    "        how=\"left\",\n",
    "    ).fillna(0)\n",
    "\n",
    "group_user_action.rename(\n",
    "    columns=(\n",
    "        {\"user_id_x\": \"building\", \"user_id_y\": \"finished_stage_1\", \"user_id\": \"project\"}\n",
    "    ),\n",
    "    inplace=True,\n",
    ")\n",
    "\n",
    "group_user_action.set_index(\"date\", inplace=True)"
   ]
  },
  {
   "cell_type": "code",
   "execution_count": null,
   "id": "784f091c-7248-4417-af1e-e1d9499724c9",
   "metadata": {},
   "outputs": [],
   "source": []
  },
  {
   "cell_type": "code",
   "execution_count": 23,
   "id": "8a45b5c4-940b-405f-bcaf-e46949a68f63",
   "metadata": {},
   "outputs": [
    {
     "data": {
      "image/png": "[encoded data removed]",
      "text/plain": [
       "<Figure size 864x576 with 1 Axes>"
      ]
     },
     "metadata": {
      "needs_background": "light"
     },
     "output_type": "display_data"
    }
   ],
   "source": [
    "group_user_action.plot(grid=True, figsize=(12, 8), lw=2.8)\n",
    "plt.title(\"Распределение числа пользователей по дням и событиям\", fontsize=14)\n",
    "plt.ylabel(\"Количество событий\", fontsize=13)\n",
    "plt.xlabel(\"Дата\", fontsize=13)\n",
    "plt.show()"
   ]
  },
  {
   "cell_type": "code",
   "execution_count": 24,
   "id": "780125fc-a5e9-45b3-adbf-47276edfa115",
   "metadata": {},
   "outputs": [
    {
     "data": {
      "text/html": [
       "<div>\n",
       "<style scoped>\n",
       "    .dataframe tbody tr th:only-of-type {\n",
       "        vertical-align: middle;\n",
       "    }\n",
       "\n",
       "    .dataframe tbody tr th {\n",
       "        vertical-align: top;\n",
       "    }\n",
       "\n",
       "    .dataframe thead th {\n",
       "        text-align: right;\n",
       "    }\n",
       "</style>\n",
       "<table border=\"1\" class=\"dataframe\">\n",
       "  <thead>\n",
       "    <tr style=\"text-align: right;\">\n",
       "      <th></th>\n",
       "      <th>date</th>\n",
       "      <th>event_datetime</th>\n",
       "    </tr>\n",
       "    <tr>\n",
       "      <th>event</th>\n",
       "      <th></th>\n",
       "      <th></th>\n",
       "    </tr>\n",
       "  </thead>\n",
       "  <tbody>\n",
       "    <tr>\n",
       "      <th>building</th>\n",
       "      <td>2020-05-04</td>\n",
       "      <td>2020-05-04 00:00:01</td>\n",
       "    </tr>\n",
       "    <tr>\n",
       "      <th>finished_stage_1</th>\n",
       "      <td>2020-05-04</td>\n",
       "      <td>2020-05-04 19:47:29</td>\n",
       "    </tr>\n",
       "    <tr>\n",
       "      <th>project</th>\n",
       "      <td>2020-05-08</td>\n",
       "      <td>2020-05-08 18:10:25</td>\n",
       "    </tr>\n",
       "  </tbody>\n",
       "</table>\n",
       "</div>"
      ],
      "text/plain": [
       "                        date      event_datetime\n",
       "event                                           \n",
       "building          2020-05-04 2020-05-04 00:00:01\n",
       "finished_stage_1  2020-05-04 2020-05-04 19:47:29\n",
       "project           2020-05-08 2020-05-08 18:10:25"
      ]
     },
     "execution_count": 24,
     "metadata": {},
     "output_type": "execute_result"
    }
   ],
   "source": [
    "data_game_actions.groupby(\"event\").agg({\"date\": \"min\", \"event_datetime\": \"first\"})"
   ]
  },
  {
   "cell_type": "markdown",
   "id": "6f5b2cd2-c95b-4e15-a075-2c961bf31a24",
   "metadata": {},
   "source": [
    "#### Вывод\n",
    "Наиболее популярное действие - постройка здания, пик таких действий пришелся на 10 мая. Завершение уровня и постройка проекта гораздо более редкие события, причем завершение уровня появляется уже с первого дня запуска игры, а постройка проекта только на третий день. Путь к завершению через победу более короткий, с меньшим поличеством показа рекламы или с полностью ее отсутствием."
   ]
  },
  {
   "cell_type": "markdown",
   "id": "f0904ee4-2448-4038-8245-114aa380434d",
   "metadata": {
    "tags": []
   },
   "source": [
    "### DF 'ad_cost' данные по дням с указанием источника трафика и стоимость кликов \n",
    "\n",
    "- проанализировать распределение стоимости рекламы (описательные статистики) по каналам"
   ]
  },
  {
   "cell_type": "code",
   "execution_count": null,
   "id": "718d5715-80d3-41a3-9fc2-f092db4401af",
   "metadata": {},
   "outputs": [],
   "source": []
  },
  {
   "cell_type": "code",
   "execution_count": 25,
   "id": "4869e9ab-b4f5-4294-bd3c-e4e9fdb631c6",
   "metadata": {},
   "outputs": [
    {
     "name": "stdout",
     "output_type": "stream",
     "text": [
      "facebook_ads \n",
      "              cost\n",
      "count    7.000000\n",
      "mean   305.843520\n",
      "std    326.542054\n",
      "min     38.723350\n",
      "25%     89.888036\n",
      "50%    177.982200\n",
      "75%    404.270117\n",
      "max    935.882786 \n",
      "\n",
      "instagram_new_adverts \n",
      "              cost\n",
      "count    7.000000\n",
      "mean   308.777384\n",
      "std    322.254830\n",
      "min     46.775400\n",
      "25%     90.746997\n",
      "50%    173.071145\n",
      "75%    408.448217\n",
      "max    943.204717 \n",
      "\n",
      "yandex_direct \n",
      "              cost\n",
      "count    7.000000\n",
      "mean   319.015921\n",
      "std    336.921909\n",
      "min     42.779505\n",
      "25%     88.695484\n",
      "50%    180.917099\n",
      "75%    431.442242\n",
      "max    969.139394 \n",
      "\n",
      "youtube_channel_reklama \n",
      "              cost\n",
      "count    7.000000\n",
      "mean   152.588458\n",
      "std    155.552373\n",
      "min     23.314669\n",
      "25%     47.979276\n",
      "50%     88.506074\n",
      "75%    203.057483\n",
      "max    454.224943 \n",
      "\n"
     ]
    }
   ],
   "source": [
    "for source in data_ad_costs[\"source\"].unique():\n",
    "    print(\n",
    "        source, \"\\n\", data_ad_costs[data_ad_costs[\"source\"] == source].describe(), \"\\n\"\n",
    "    )"
   ]
  },
  {
   "cell_type": "markdown",
   "id": "be62a24b-74d5-4730-a02b-62ce5dc6ddf0",
   "metadata": {},
   "source": [
    "#### Вывод\n",
    "Среди всех каналов привлечения пользователей наименьшая стоимость (средняя, минимальная и максимальная) рекламы у youtube, остальные каналы (facebook, instagram и yandex) имеют близкие значения данных показателей.  \n",
    "Для наглядности далее построим график динамики затрат на рекламу по каналам привлечения."
   ]
  },
  {
   "cell_type": "code",
   "execution_count": 26,
   "id": "48730de4-9af5-41be-b585-d904ba8b4ca5",
   "metadata": {},
   "outputs": [
    {
     "data": {
      "image/png": "[encoded data removed]",
      "text/plain": [
       "<Figure size 864x432 with 1 Axes>"
      ]
     },
     "metadata": {
      "needs_background": "light"
     },
     "output_type": "display_data"
    }
   ],
   "source": [
    "data_ad_costs.pivot_table(\n",
    "    index=\"day\",\n",
    "    columns=\"source\",\n",
    "    values=\"cost\",\n",
    "    aggfunc=\"sum\",\n",
    ").plot(figsize=(12, 6), grid=True, lw=2.8)\n",
    "plt.title(\"Динамика рекламных затрат по каналам\", fontsize=14)\n",
    "plt.ylabel(\"Сумма затрат\", fontsize=13)\n",
    "plt.xlabel(\"Дата\", fontsize=13)\n",
    "plt.show()"
   ]
  },
  {
   "cell_type": "markdown",
   "id": "527bc643-53b5-4ea0-b9cb-9fd6efded26a",
   "metadata": {
    "tags": []
   },
   "source": [
    "#### Вывод\n",
    "Наибольшие суммы затрат по всем каналам за день до начала периода запуска приложения - 03 мая. Рекламная кампания продолжалась 7 дней до 09 мая. По всем каналам динамика затрат одинаковая - плавное снижение от первого к последнему дню.   \n",
    "Стоимость затрат каналов facebook, instagram и yandex примерно на одном уровне, youtube реклама стоила меньше остальных."
   ]
  },
  {
   "cell_type": "code",
   "execution_count": null,
   "id": "5c0aadca-81f7-46f1-80f3-4dc21268512b",
   "metadata": {},
   "outputs": [],
   "source": []
  },
  {
   "cell_type": "markdown",
   "id": "9fc0410f-e711-4d48-b74f-1d57b16f19e6",
   "metadata": {
    "tags": []
   },
   "source": [
    "### DF 'user_source' данные по источнику привлечения пользователей\n",
    "- определить количество пользователей по каждому источнику привлечения"
   ]
  },
  {
   "cell_type": "code",
   "execution_count": 27,
   "id": "2315a994-9d10-4a49-848c-2e1318b2592c",
   "metadata": {},
   "outputs": [
    {
     "data": {
      "text/plain": [
       "array(['facebook_ads', 'yandex_direct', 'youtube_channel_reklama',\n",
       "       'instagram_new_adverts'], dtype=object)"
      ]
     },
     "execution_count": 27,
     "metadata": {},
     "output_type": "execute_result"
    }
   ],
   "source": [
    "data_user_source[\"source\"].unique()"
   ]
  },
  {
   "cell_type": "code",
   "execution_count": 28,
   "id": "f3a58be8-9862-4378-8b1b-97362adceca0",
   "metadata": {},
   "outputs": [
    {
     "data": {
      "text/html": [
       "<div>\n",
       "<style scoped>\n",
       "    .dataframe tbody tr th:only-of-type {\n",
       "        vertical-align: middle;\n",
       "    }\n",
       "\n",
       "    .dataframe tbody tr th {\n",
       "        vertical-align: top;\n",
       "    }\n",
       "\n",
       "    .dataframe thead th {\n",
       "        text-align: right;\n",
       "    }\n",
       "</style>\n",
       "<table border=\"1\" class=\"dataframe\">\n",
       "  <thead>\n",
       "    <tr style=\"text-align: right;\">\n",
       "      <th></th>\n",
       "      <th>user_id</th>\n",
       "    </tr>\n",
       "    <tr>\n",
       "      <th>source</th>\n",
       "      <th></th>\n",
       "    </tr>\n",
       "  </thead>\n",
       "  <tbody>\n",
       "    <tr>\n",
       "      <th>facebook_ads</th>\n",
       "      <td>2726</td>\n",
       "    </tr>\n",
       "    <tr>\n",
       "      <th>instagram_new_adverts</th>\n",
       "      <td>3347</td>\n",
       "    </tr>\n",
       "    <tr>\n",
       "      <th>yandex_direct</th>\n",
       "      <td>4817</td>\n",
       "    </tr>\n",
       "    <tr>\n",
       "      <th>youtube_channel_reklama</th>\n",
       "      <td>2686</td>\n",
       "    </tr>\n",
       "  </tbody>\n",
       "</table>\n",
       "</div>"
      ],
      "text/plain": [
       "                         user_id\n",
       "source                          \n",
       "facebook_ads                2726\n",
       "instagram_new_adverts       3347\n",
       "yandex_direct               4817\n",
       "youtube_channel_reklama     2686"
      ]
     },
     "execution_count": 28,
     "metadata": {},
     "output_type": "execute_result"
    }
   ],
   "source": [
    "data_user_source.groupby(\"source\").agg({\"user_id\": \"nunique\"})"
   ]
  },
  {
   "cell_type": "code",
   "execution_count": null,
   "id": "e314066c-62dd-4696-85be-de4debcd1657",
   "metadata": {},
   "outputs": [],
   "source": []
  },
  {
   "cell_type": "code",
   "execution_count": 29,
   "id": "1a43d373-47e1-4fe8-bf3d-ca0279718c98",
   "metadata": {},
   "outputs": [
    {
     "data": {
      "image/png": "[encoded data removed]",
      "text/plain": [
       "<Figure size 504x504 with 1 Axes>"
      ]
     },
     "metadata": {},
     "output_type": "display_data"
    }
   ],
   "source": [
    "with plt.style.context(\"fivethirtyeight\"):\n",
    "    data_user_source.groupby(\"source\").agg({\"user_id\": \"nunique\"}).plot.pie(\n",
    "        y=\"user_id\",\n",
    "        figsize=(7, 7),\n",
    "        autopct=\"%2.1f%%\",\n",
    "        legend=False,\n",
    "        counterclock=False,\n",
    "    ).set_ylabel(None)\n",
    "\n",
    "    plt.title(\"Распределение долей источников привлечения пользователей\", fontsize=14)\n",
    "\n",
    "    plt.show()"
   ]
  },
  {
   "cell_type": "markdown",
   "id": "c6b5b721-854f-4e4c-adcf-a003bf08b705",
   "metadata": {
    "tags": []
   },
   "source": [
    "#### Вывод\n",
    "    \n",
    "Основное действие в игре - постройка объекта космопорта, оно же \"рекламное\" действие при существующей системе монетизации. Однако начиная с первого дня игры, есть игроки завершившие первый уровень победой над другим игроком. Это говорит о узком месте в существующей системе монетизации - уровень можно завершить без показа рекламы или ее минимальным количеством. \n",
    "\n",
    "Относительно рекламных каналов получили следующие данные:  \n",
    "- кампания была начата за день до запуска игры (03.05.2020);\n",
    "- основной канал привлечения 'yandex-direct' (36% привлеченных пользователей), оставшиеся три привлекли 25%, 20% и 19% пользователей;\n",
    "- стоимость затрат каналов facebook, instagram и yandex примерно на одном уровне, youtube реклама стоила меньше остальных."
   ]
  },
  {
   "cell_type": "markdown",
   "id": "7641d344-8678-4979-b2f8-92c3c4222f15",
   "metadata": {
    "tags": []
   },
   "source": [
    "## Создание портрета пользователя, прошедшего первый уровень\n",
    "\n",
    "- способ завершения первого уровня игры\n",
    "- среднее время пребывания в игре (когорты по первому дню вхождения)\n",
    "- среднее количество действий в игре до завершения проекта"
   ]
  },
  {
   "cell_type": "code",
   "execution_count": 30,
   "id": "85d88201-b69a-4f3e-8f23-5e4192c1528c",
   "metadata": {},
   "outputs": [
    {
     "name": "stdout",
     "output_type": "stream",
     "text": [
      "Всего завершило первый уровень игры 5817 игроков. \n",
      "Это 42.8% от общего числа пользователей. \n",
      "Из них 1866 человек завершило уровень постройкой и 3951 человек победой над другим игроком\n"
     ]
    }
   ],
   "source": [
    "finishers = data_game_actions.query('event==\"finished_stage_1\"')[\"user_id\"].reset_index(\n",
    "    drop=True\n",
    ")\n",
    "finishers_builder = data_game_actions.query('event==\"project\"')[\"user_id\"].reset_index(\n",
    "    drop=True\n",
    ")\n",
    "finishers_warrior = pd.Series(list(set(finishers) - set(finishers_builder)))\n",
    "\n",
    "print(\n",
    "    f\"Всего завершило первый уровень игры {finishers.shape[0]} игроков. \\n\"\n",
    "    f\"Это {finishers.shape[0]/users*100:.1f}% от общего числа пользователей. \\n\"\n",
    "    f\"Из них {finishers_builder.shape[0]} человек завершило уровень постройкой и {finishers_warrior.shape[0]} человек победой над другим игроком\"\n",
    ")"
   ]
  },
  {
   "cell_type": "code",
   "execution_count": null,
   "id": "5e330715-6b33-42f6-bb9c-a41f6d311535",
   "metadata": {},
   "outputs": [],
   "source": []
  },
  {
   "cell_type": "markdown",
   "id": "88c3b65b-2b22-4209-af61-c019772809dd",
   "metadata": {},
   "source": [
    "Определим количество посетителей, запустивших приложение только 1 раз:"
   ]
  },
  {
   "cell_type": "code",
   "execution_count": 31,
   "id": "d7cd1924-610a-4f4e-8c43-76b9202834f2",
   "metadata": {},
   "outputs": [
    {
     "data": {
      "text/plain": [
       "(57, 1)"
      ]
     },
     "execution_count": 31,
     "metadata": {},
     "output_type": "execute_result"
    }
   ],
   "source": [
    "ones = data_game_actions.groupby(\"user_id\").agg({\"event\": \"count\"})\n",
    "ones[ones[\"event\"] == 1].shape"
   ]
  },
  {
   "cell_type": "markdown",
   "id": "96ff87c0-f5f2-46a1-92b3-c906581345b8",
   "metadata": {},
   "source": [
    "**Вывод**  \n",
    "    \n",
    "Всего за период наблюдений первый уровень завершило 43% игроков - 5817 человек. При этом только треть из них (1866 человек) завершили уровень постройкой, а остальные - победой над другим пользователем (3951 человек). Большинство пользователей выбрало \"короткий\" путь к завершению уровня, а мы недополучили таким образом рекламные просмотры.  \n",
    "\n",
    "\n",
    "    \n",
    "Также есть незначительное число игроков - 57 человек (менее 0,5% от общего числа пользователей), кто совершил только одно действие в игре. Это можно трактовать положительно, основная часть посетителей заинтересовалась нашим приложением.\n"
   ]
  },
  {
   "cell_type": "code",
   "execution_count": null,
   "id": "23d8bb9b-29cd-4160-a435-01f676edc4bd",
   "metadata": {},
   "outputs": [],
   "source": []
  },
  {
   "cell_type": "markdown",
   "id": "00c746b4-ecee-4bb6-ba2b-eaa9663f6a04",
   "metadata": {},
   "source": [
    "Сгруппируем пользователей на когорты по дате первого входа в игру и определим размер каждой из них.  \n",
    "\n",
    "Также для последующих вычислений рассчитаем лайфтайм каждого события каждого пользователя.  \n",
    "\n",
    "Данные добавим к исходному DF."
   ]
  },
  {
   "cell_type": "code",
   "execution_count": 32,
   "id": "078e0f11-af28-4022-8509-f2f616ac7077",
   "metadata": {},
   "outputs": [],
   "source": [
    "cohort_info = (\n",
    "    data_game_actions.groupby(\"user_id\", as_index=False)\n",
    "    .agg({\"date\": \"first\"})\n",
    "    .rename(columns=({\"date\": \"cohort_date\"}))\n",
    ")\n",
    "cohort_size = (\n",
    "    cohort_info.groupby(\"cohort_date\")\n",
    "    .agg({\"user_id\": \"nunique\"})\n",
    "    .rename(columns=({\"user_id\": \"cohort_size\"}))\n",
    ")\n",
    "cohort_info = cohort_info.merge(cohort_size, on=\"cohort_date\")"
   ]
  },
  {
   "cell_type": "code",
   "execution_count": 33,
   "id": "f01a9d3c-b88d-4107-8b39-0786eacd2aae",
   "metadata": {},
   "outputs": [],
   "source": [
    "data_game_actions = data_game_actions.merge(cohort_info, on=\"user_id\")\n",
    "data_game_actions[\"lifetime\"] = (\n",
    "    data_game_actions[\"date\"] - data_game_actions[\"cohort_date\"]\n",
    ").dt.days"
   ]
  },
  {
   "cell_type": "code",
   "execution_count": 34,
   "id": "2c23b4fd-6a99-4773-90c4-2bd56cd62995",
   "metadata": {},
   "outputs": [
    {
     "data": {
      "text/html": [
       "<div>\n",
       "<style scoped>\n",
       "    .dataframe tbody tr th:only-of-type {\n",
       "        vertical-align: middle;\n",
       "    }\n",
       "\n",
       "    .dataframe tbody tr th {\n",
       "        vertical-align: top;\n",
       "    }\n",
       "\n",
       "    .dataframe thead th {\n",
       "        text-align: right;\n",
       "    }\n",
       "</style>\n",
       "<table border=\"1\" class=\"dataframe\">\n",
       "  <thead>\n",
       "    <tr style=\"text-align: right;\">\n",
       "      <th></th>\n",
       "      <th>event_datetime</th>\n",
       "      <th>event</th>\n",
       "      <th>building_type</th>\n",
       "      <th>user_id</th>\n",
       "      <th>project_type</th>\n",
       "      <th>date</th>\n",
       "      <th>cohort_date</th>\n",
       "      <th>cohort_size</th>\n",
       "      <th>lifetime</th>\n",
       "    </tr>\n",
       "  </thead>\n",
       "  <tbody>\n",
       "    <tr>\n",
       "      <th>0</th>\n",
       "      <td>2020-05-04 00:00:01</td>\n",
       "      <td>building</td>\n",
       "      <td>assembly_shop</td>\n",
       "      <td>55e92310-cb8e-4754-b622-597e124b03de</td>\n",
       "      <td>NaN</td>\n",
       "      <td>2020-05-04</td>\n",
       "      <td>2020-05-04</td>\n",
       "      <td>5860</td>\n",
       "      <td>0</td>\n",
       "    </tr>\n",
       "    <tr>\n",
       "      <th>1</th>\n",
       "      <td>2020-05-05 05:20:15</td>\n",
       "      <td>building</td>\n",
       "      <td>assembly_shop</td>\n",
       "      <td>55e92310-cb8e-4754-b622-597e124b03de</td>\n",
       "      <td>NaN</td>\n",
       "      <td>2020-05-05</td>\n",
       "      <td>2020-05-04</td>\n",
       "      <td>5860</td>\n",
       "      <td>1</td>\n",
       "    </tr>\n",
       "    <tr>\n",
       "      <th>2</th>\n",
       "      <td>2020-05-05 19:24:02</td>\n",
       "      <td>building</td>\n",
       "      <td>assembly_shop</td>\n",
       "      <td>55e92310-cb8e-4754-b622-597e124b03de</td>\n",
       "      <td>NaN</td>\n",
       "      <td>2020-05-05</td>\n",
       "      <td>2020-05-04</td>\n",
       "      <td>5860</td>\n",
       "      <td>1</td>\n",
       "    </tr>\n",
       "    <tr>\n",
       "      <th>3</th>\n",
       "      <td>2020-05-05 20:59:19</td>\n",
       "      <td>building</td>\n",
       "      <td>assembly_shop</td>\n",
       "      <td>55e92310-cb8e-4754-b622-597e124b03de</td>\n",
       "      <td>NaN</td>\n",
       "      <td>2020-05-05</td>\n",
       "      <td>2020-05-04</td>\n",
       "      <td>5860</td>\n",
       "      <td>1</td>\n",
       "    </tr>\n",
       "    <tr>\n",
       "      <th>4</th>\n",
       "      <td>2020-05-06 00:52:56</td>\n",
       "      <td>building</td>\n",
       "      <td>assembly_shop</td>\n",
       "      <td>55e92310-cb8e-4754-b622-597e124b03de</td>\n",
       "      <td>NaN</td>\n",
       "      <td>2020-05-06</td>\n",
       "      <td>2020-05-04</td>\n",
       "      <td>5860</td>\n",
       "      <td>2</td>\n",
       "    </tr>\n",
       "  </tbody>\n",
       "</table>\n",
       "</div>"
      ],
      "text/plain": [
       "       event_datetime     event  building_type  \\\n",
       "0 2020-05-04 00:00:01  building  assembly_shop   \n",
       "1 2020-05-05 05:20:15  building  assembly_shop   \n",
       "2 2020-05-05 19:24:02  building  assembly_shop   \n",
       "3 2020-05-05 20:59:19  building  assembly_shop   \n",
       "4 2020-05-06 00:52:56  building  assembly_shop   \n",
       "\n",
       "                                user_id project_type        date cohort_date  \\\n",
       "0  55e92310-cb8e-4754-b622-597e124b03de          NaN  2020-05-04  2020-05-04   \n",
       "1  55e92310-cb8e-4754-b622-597e124b03de          NaN  2020-05-05  2020-05-04   \n",
       "2  55e92310-cb8e-4754-b622-597e124b03de          NaN  2020-05-05  2020-05-04   \n",
       "3  55e92310-cb8e-4754-b622-597e124b03de          NaN  2020-05-05  2020-05-04   \n",
       "4  55e92310-cb8e-4754-b622-597e124b03de          NaN  2020-05-06  2020-05-04   \n",
       "\n",
       "   cohort_size  lifetime  \n",
       "0         5860         0  \n",
       "1         5860         1  \n",
       "2         5860         1  \n",
       "3         5860         1  \n",
       "4         5860         2  "
      ]
     },
     "execution_count": 34,
     "metadata": {},
     "output_type": "execute_result"
    }
   ],
   "source": [
    "data_game_actions.head()"
   ]
  },
  {
   "cell_type": "code",
   "execution_count": 35,
   "id": "39d0db90-ac71-4757-a66f-7c92ce57b4ce",
   "metadata": {},
   "outputs": [
    {
     "data": {
      "text/html": [
       "<div>\n",
       "<style scoped>\n",
       "    .dataframe tbody tr th:only-of-type {\n",
       "        vertical-align: middle;\n",
       "    }\n",
       "\n",
       "    .dataframe tbody tr th {\n",
       "        vertical-align: top;\n",
       "    }\n",
       "\n",
       "    .dataframe thead th {\n",
       "        text-align: right;\n",
       "    }\n",
       "</style>\n",
       "<table border=\"1\" class=\"dataframe\">\n",
       "  <thead>\n",
       "    <tr style=\"text-align: right;\">\n",
       "      <th></th>\n",
       "      <th>share_finishers</th>\n",
       "    </tr>\n",
       "    <tr>\n",
       "      <th>cohort_date</th>\n",
       "      <th></th>\n",
       "    </tr>\n",
       "  </thead>\n",
       "  <tbody>\n",
       "    <tr>\n",
       "      <th>2020-05-04</th>\n",
       "      <td>45.6</td>\n",
       "    </tr>\n",
       "    <tr>\n",
       "      <th>2020-05-05</th>\n",
       "      <td>45.0</td>\n",
       "    </tr>\n",
       "    <tr>\n",
       "      <th>2020-05-06</th>\n",
       "      <td>41.7</td>\n",
       "    </tr>\n",
       "    <tr>\n",
       "      <th>2020-05-07</th>\n",
       "      <td>37.2</td>\n",
       "    </tr>\n",
       "    <tr>\n",
       "      <th>2020-05-08</th>\n",
       "      <td>34.2</td>\n",
       "    </tr>\n",
       "    <tr>\n",
       "      <th>2020-05-09</th>\n",
       "      <td>30.5</td>\n",
       "    </tr>\n",
       "    <tr>\n",
       "      <th>2020-05-10</th>\n",
       "      <td>30.3</td>\n",
       "    </tr>\n",
       "  </tbody>\n",
       "</table>\n",
       "</div>"
      ],
      "text/plain": [
       "             share_finishers\n",
       "cohort_date                 \n",
       "2020-05-04              45.6\n",
       "2020-05-05              45.0\n",
       "2020-05-06              41.7\n",
       "2020-05-07              37.2\n",
       "2020-05-08              34.2\n",
       "2020-05-09              30.5\n",
       "2020-05-10              30.3"
      ]
     },
     "execution_count": 35,
     "metadata": {},
     "output_type": "execute_result"
    }
   ],
   "source": [
    "finisher_per_cohort = (\n",
    "    data_game_actions.query('event == \"finished_stage_1\"')\n",
    "    .groupby(\"cohort_date\")\n",
    "    .agg({\"user_id\": \"nunique\"})\n",
    ")\n",
    "finisher_per_cohort = finisher_per_cohort.merge(\n",
    "    cohort_info.iloc[:, 1:].drop_duplicates(), on=\"cohort_date\"\n",
    ").set_index(\"cohort_date\")\n",
    "finisher_per_cohort = (\n",
    "    finisher_per_cohort.div(finisher_per_cohort[\"cohort_size\"], axis=0)\n",
    "    .drop(\"cohort_size\", axis=1)\n",
    "    .rename(columns={\"user_id\": \"share_finishers\"})\n",
    ")\n",
    "finisher_per_cohort = (finisher_per_cohort * 100).round(1)\n",
    "finisher_per_cohort"
   ]
  },
  {
   "cell_type": "markdown",
   "id": "ec5d84f3-e0ae-4938-8eb9-fa07605b2f6a",
   "metadata": {},
   "source": [
    "**Вывод**  \n",
    "По численности пользователей прослеживается четкая закономерность - убывание рамера когорты от первому к седьмому дню и это несмотря на проведение рекламной кампании. Необходимо проанализировать саму рекламу и настройки таргетирования по ней.\n",
    "В разрезе когорт большая доля завершивших первый уровень игроков наблюдается в начальных когортах, в первой этот показатель составляет 45,6%, а в седьмой только 30,3%. Из этого можно предположить, что более поздние лайфтаймы в игру пришло много нецелевых пользователей не заинтересованных в длительном прохождении.\n"
   ]
  },
  {
   "cell_type": "markdown",
   "id": "ba63f8e8-db40-4f8c-a28d-b13be56f9c72",
   "metadata": {},
   "source": [
    "Для создания профиля игрока напишем функцию, которая добавит информацию:  \n",
    "* закончил игрок или нет первый уровень\n",
    "* о способе окончания уровня\n",
    "* количестве совершенных действий (любых, кроме завершения уровня)  \n",
    "* продолжительности пребывания в игре"
   ]
  },
  {
   "cell_type": "code",
   "execution_count": 36,
   "id": "b6287075-ade4-4948-b4a1-a14db09a156a",
   "metadata": {},
   "outputs": [],
   "source": [
    "def profile(df):\n",
    "    profile = (\n",
    "        df.query('event == \"building\"')\n",
    "        .groupby(\n",
    "            [\n",
    "                \"user_id\",\n",
    "                \"cohort_date\",\n",
    "            ],\n",
    "            as_index=False,\n",
    "        )\n",
    "        .agg(\n",
    "            {\n",
    "                \"event\": \"count\",\n",
    "                \"lifetime\": \"max\",\n",
    "            }\n",
    "        )\n",
    "        .rename(\n",
    "            columns={\n",
    "                \"event\": \"number_event\",\n",
    "                \"lifetime\": \"duration\",\n",
    "            }\n",
    "        )\n",
    "    )\n",
    "\n",
    "    profile[\"finisher\"] = np.where(profile[\"user_id\"].isin(finishers), 1, 0)\n",
    "\n",
    "    profile[\"type_finisher\"] = np.where(\n",
    "        profile[\"finisher\"] == 1,\n",
    "        np.where(profile[\"user_id\"].isin(finishers_builder), \"b\", \"w\"),\n",
    "        \"n\",\n",
    "    )\n",
    "    profile = profile.merge(\n",
    "        (df.groupby(\"user_id\").agg({\"date\": \"nunique\"}) - 1), on=\"user_id\"\n",
    "    ).rename(columns={\"date\": \"returns\"})\n",
    "\n",
    "    return profile"
   ]
  },
  {
   "cell_type": "code",
   "execution_count": 37,
   "id": "f9e935ea-4cfc-4f2c-b5d9-9db9e10d1f21",
   "metadata": {},
   "outputs": [
    {
     "data": {
      "text/html": [
       "<div>\n",
       "<style scoped>\n",
       "    .dataframe tbody tr th:only-of-type {\n",
       "        vertical-align: middle;\n",
       "    }\n",
       "\n",
       "    .dataframe tbody tr th {\n",
       "        vertical-align: top;\n",
       "    }\n",
       "\n",
       "    .dataframe thead th {\n",
       "        text-align: right;\n",
       "    }\n",
       "</style>\n",
       "<table border=\"1\" class=\"dataframe\">\n",
       "  <thead>\n",
       "    <tr style=\"text-align: right;\">\n",
       "      <th></th>\n",
       "      <th>user_id</th>\n",
       "      <th>cohort_date</th>\n",
       "      <th>number_event</th>\n",
       "      <th>duration</th>\n",
       "      <th>finisher</th>\n",
       "      <th>type_finisher</th>\n",
       "      <th>returns</th>\n",
       "    </tr>\n",
       "  </thead>\n",
       "  <tbody>\n",
       "    <tr>\n",
       "      <th>0</th>\n",
       "      <td>0001f83c-c6ac-4621-b7f0-8a28b283ac30</td>\n",
       "      <td>2020-05-06</td>\n",
       "      <td>13</td>\n",
       "      <td>14</td>\n",
       "      <td>0</td>\n",
       "      <td>n</td>\n",
       "      <td>7</td>\n",
       "    </tr>\n",
       "    <tr>\n",
       "      <th>1</th>\n",
       "      <td>00151b4f-ba38-44a8-a650-d7cf130a0105</td>\n",
       "      <td>2020-05-06</td>\n",
       "      <td>9</td>\n",
       "      <td>12</td>\n",
       "      <td>0</td>\n",
       "      <td>n</td>\n",
       "      <td>5</td>\n",
       "    </tr>\n",
       "    <tr>\n",
       "      <th>2</th>\n",
       "      <td>001aaea6-3d14-43f1-8ca8-7f48820f17aa</td>\n",
       "      <td>2020-05-05</td>\n",
       "      <td>4</td>\n",
       "      <td>9</td>\n",
       "      <td>0</td>\n",
       "      <td>n</td>\n",
       "      <td>2</td>\n",
       "    </tr>\n",
       "    <tr>\n",
       "      <th>3</th>\n",
       "      <td>001d39dc-366c-4021-9604-6a3b9ff01e25</td>\n",
       "      <td>2020-05-05</td>\n",
       "      <td>8</td>\n",
       "      <td>7</td>\n",
       "      <td>1</td>\n",
       "      <td>w</td>\n",
       "      <td>5</td>\n",
       "    </tr>\n",
       "    <tr>\n",
       "      <th>4</th>\n",
       "      <td>002f508f-67b6-479f-814b-b05f00d4e995</td>\n",
       "      <td>2020-05-05</td>\n",
       "      <td>12</td>\n",
       "      <td>17</td>\n",
       "      <td>0</td>\n",
       "      <td>n</td>\n",
       "      <td>8</td>\n",
       "    </tr>\n",
       "  </tbody>\n",
       "</table>\n",
       "</div>"
      ],
      "text/plain": [
       "                                user_id cohort_date  number_event  duration  \\\n",
       "0  0001f83c-c6ac-4621-b7f0-8a28b283ac30  2020-05-06            13        14   \n",
       "1  00151b4f-ba38-44a8-a650-d7cf130a0105  2020-05-06             9        12   \n",
       "2  001aaea6-3d14-43f1-8ca8-7f48820f17aa  2020-05-05             4         9   \n",
       "3  001d39dc-366c-4021-9604-6a3b9ff01e25  2020-05-05             8         7   \n",
       "4  002f508f-67b6-479f-814b-b05f00d4e995  2020-05-05            12        17   \n",
       "\n",
       "   finisher type_finisher  returns  \n",
       "0         0             n        7  \n",
       "1         0             n        5  \n",
       "2         0             n        2  \n",
       "3         1             w        5  \n",
       "4         0             n        8  "
      ]
     },
     "execution_count": 37,
     "metadata": {},
     "output_type": "execute_result"
    }
   ],
   "source": [
    "profiles = profile(data_game_actions)\n",
    "profiles.head()"
   ]
  },
  {
   "cell_type": "code",
   "execution_count": null,
   "id": "cbf8d988-015f-4aac-b154-83e4eeb68080",
   "metadata": {},
   "outputs": [],
   "source": []
  },
  {
   "cell_type": "code",
   "execution_count": 38,
   "id": "5b032f4d-5432-47dc-a40e-4f5817011bd3",
   "metadata": {},
   "outputs": [],
   "source": [
    "group_cohort = (\n",
    "    profiles.groupby([\"cohort_date\", \"finisher\"], as_index=False)\n",
    "    .agg({\"number_event\": \"mean\", \"duration\": \"mean\"})\n",
    "    .round(3)\n",
    ")"
   ]
  },
  {
   "cell_type": "markdown",
   "id": "a407fca0-7ee4-408e-bfe3-d98a03c1e176",
   "metadata": {},
   "source": [
    "Построим графики динамики среднего количества и распределения числа действий по когортам с учетом признака \"первый уровень игры закончен\" "
   ]
  },
  {
   "cell_type": "code",
   "execution_count": 39,
   "id": "5bf4b801-956c-460c-ba11-88a9dbe8e3a8",
   "metadata": {
    "scrolled": true
   },
   "outputs": [
    {
     "data": {
      "image/png": "[encoded data removed]",
      "text/plain": [
       "<Figure size 936x360 with 1 Axes>"
      ]
     },
     "metadata": {
      "needs_background": "light"
     },
     "output_type": "display_data"
    }
   ],
   "source": [
    "plt.figure(figsize=(13, 5))\n",
    "bchart = sns.barplot(\n",
    "    data=group_cohort,\n",
    "    y=\"number_event\",\n",
    "    x=\"cohort_date\",\n",
    "    hue=\"finisher\",\n",
    "    palette=\"Paired\",\n",
    ")\n",
    "\n",
    "plt.xlabel(\"Дата когорты\", fontsize=12)\n",
    "plt.ylabel(\"Число действий\", fontsize=12)\n",
    "plt.title(\"Средние количества действий игроков по когортам\", fontsize=14)\n",
    "plt.show()"
   ]
  },
  {
   "cell_type": "markdown",
   "id": "6f3bcdda-c1c5-4401-b6c0-49b8aecd5275",
   "metadata": {},
   "source": [
    "Среднее число действий игроков закончивших первый уровень в зависимости от когорты составляет от 11,3 до 7,9.  \n",
    "У незакончивших этот показатель ниже - от 9,8 до 5,1."
   ]
  },
  {
   "cell_type": "code",
   "execution_count": null,
   "id": "d5ccf0ce-8e17-48a1-8c8b-0b43e9fe5db6",
   "metadata": {},
   "outputs": [],
   "source": []
  },
  {
   "cell_type": "code",
   "execution_count": 40,
   "id": "ea392c54-fcd5-4136-acef-1f19872273b4",
   "metadata": {},
   "outputs": [
    {
     "data": {
      "image/png": "[encoded data removed]",
      "text/plain": [
       "<Figure size 576x360 with 1 Axes>"
      ]
     },
     "metadata": {
      "needs_background": "light"
     },
     "output_type": "display_data"
    }
   ],
   "source": [
    "plt.figure(figsize=(8, 5))\n",
    "boxchart = sns.boxplot(\n",
    "    data=profiles,\n",
    "    y=\"number_event\",\n",
    "    x=\"finisher\",\n",
    "    palette=\"Paired\",\n",
    "    medianprops=dict(color=\"red\", alpha=0.7),\n",
    ")\n",
    "\n",
    "plt.xlabel(\"0 - не закончил / 1 - закончил  \", fontsize=12)\n",
    "plt.ylabel(\"Число действий\", fontsize=12)\n",
    "plt.title(\n",
    "    \"Распределение количества действий игроков \\n (закончивших и незакончивших первый уровень)\",\n",
    "    fontsize=14,\n",
    ")\n",
    "plt.show()"
   ]
  },
  {
   "cell_type": "markdown",
   "id": "3715bdb1-7085-45b6-a53c-99dc7d6f24e2",
   "metadata": {},
   "source": [
    "Распределение количества действий у игроков закончивших первый уровень распределено нормально относительно медианы (11), с небольшим количеством выбросов ниже  минимума и выше максимума.  \n",
    "У тех, кто не закончил первый уровень медианное значение составляет 7,5, большая часть значений скошена к верхнему краю."
   ]
  },
  {
   "cell_type": "code",
   "execution_count": null,
   "id": "7d2aaf70-7803-4e26-87ef-81daf7907ba7",
   "metadata": {},
   "outputs": [],
   "source": []
  },
  {
   "cell_type": "code",
   "execution_count": 41,
   "id": "c64f8379-c1d5-4a41-af8b-5d6be42ca50e",
   "metadata": {},
   "outputs": [
    {
     "data": {
      "image/png": "[encoded data removed]",
      "text/plain": [
       "<Figure size 936x360 with 1 Axes>"
      ]
     },
     "metadata": {
      "needs_background": "light"
     },
     "output_type": "display_data"
    }
   ],
   "source": [
    "plt.figure(figsize=(13, 5))\n",
    "bchart = sns.barplot(\n",
    "    data=group_cohort,\n",
    "    y=\"duration\",\n",
    "    x=\"cohort_date\",\n",
    "    hue=\"finisher\",\n",
    "    palette=\"Greens_r\",\n",
    ")\n",
    "plt.xlabel(\"Дата когорты\", fontsize=12)\n",
    "plt.ylabel(\"Число действий\", fontsize=12)\n",
    "plt.title(\n",
    "    \"Продолжительность пребывания пользователей в игре по когортам в днях\", fontsize=14\n",
    ")\n",
    "plt.show()"
   ]
  },
  {
   "cell_type": "code",
   "execution_count": null,
   "id": "88f391d8-324a-4d82-976b-801fe84493c3",
   "metadata": {},
   "outputs": [],
   "source": []
  },
  {
   "cell_type": "markdown",
   "id": "8545953a-defc-47ca-96ad-cd5c2042ec9a",
   "metadata": {},
   "source": [
    "Продолжительность пребывания игроков закончивших первый уровень в зависимости от когорты составляет от 11,5 до 9,9 дней.  \n",
    "У незакончивших этот показатель ниже - от 10,6 до 8,0 дней.  "
   ]
  },
  {
   "cell_type": "code",
   "execution_count": null,
   "id": "06ded917-eb17-4fb3-9069-e3754d112f23",
   "metadata": {},
   "outputs": [],
   "source": []
  },
  {
   "cell_type": "code",
   "execution_count": 42,
   "id": "bdb6dfbd-c8d6-4085-97e9-89ec16628157",
   "metadata": {},
   "outputs": [
    {
     "data": {
      "image/png": "[encoded data removed]",
      "text/plain": [
       "<Figure size 576x360 with 1 Axes>"
      ]
     },
     "metadata": {
      "needs_background": "light"
     },
     "output_type": "display_data"
    }
   ],
   "source": [
    "plt.figure(figsize=(8, 5))\n",
    "boxchart = sns.boxplot(\n",
    "    data=profiles,\n",
    "    y=\"duration\",\n",
    "    x=\"finisher\",\n",
    "    palette=\"Greens_r\",\n",
    "    medianprops=dict(color=\"red\", alpha=0.7),\n",
    ")\n",
    "\n",
    "plt.xlabel(\"0 - не закончил / 1 - закончил  \", fontsize=12)\n",
    "plt.ylabel(\"Количество дней\", fontsize=12)\n",
    "plt.title(\n",
    "    \"Распределение количества дней пользователей в игре \\n (закончивших и незакончивших первый уровень)\",\n",
    "    fontsize=14,\n",
    ")\n",
    "plt.show()"
   ]
  },
  {
   "cell_type": "markdown",
   "id": "89c28b75-2730-4449-9b2c-d3ed3f1e429b",
   "metadata": {},
   "source": [
    "Распределение количества дней у игроков закончивших первый уровень распределено нормально относительно значения медианы 10, некоторым количеством выбросов ниже  минимума и выше максимума.  \n",
    "У тех, кто не закончил первый уровень медианное значение также около 10 дней большая часть значений скошена к верхнему краю и присутсвуют выбросы выше максимума."
   ]
  },
  {
   "cell_type": "code",
   "execution_count": 43,
   "id": "91dd510e-fff9-4bde-a88b-41292aa87a53",
   "metadata": {},
   "outputs": [
    {
     "data": {
      "text/html": [
       "<div>\n",
       "<style scoped>\n",
       "    .dataframe tbody tr th:only-of-type {\n",
       "        vertical-align: middle;\n",
       "    }\n",
       "\n",
       "    .dataframe tbody tr th {\n",
       "        vertical-align: top;\n",
       "    }\n",
       "\n",
       "    .dataframe thead th {\n",
       "        text-align: right;\n",
       "    }\n",
       "</style>\n",
       "<table border=\"1\" class=\"dataframe\">\n",
       "  <thead>\n",
       "    <tr style=\"text-align: right;\">\n",
       "      <th></th>\n",
       "      <th></th>\n",
       "      <th>number_event</th>\n",
       "      <th>duration</th>\n",
       "    </tr>\n",
       "    <tr>\n",
       "      <th>finisher</th>\n",
       "      <th>type_finisher</th>\n",
       "      <th></th>\n",
       "      <th></th>\n",
       "    </tr>\n",
       "  </thead>\n",
       "  <tbody>\n",
       "    <tr>\n",
       "      <th>0</th>\n",
       "      <th>n</th>\n",
       "      <td>8.657</td>\n",
       "      <td>9.746</td>\n",
       "    </tr>\n",
       "    <tr>\n",
       "      <th rowspan=\"2\" valign=\"top\">1</th>\n",
       "      <th>b</th>\n",
       "      <td>12.648</td>\n",
       "      <td>12.093</td>\n",
       "    </tr>\n",
       "    <tr>\n",
       "      <th>w</th>\n",
       "      <td>9.412</td>\n",
       "      <td>10.549</td>\n",
       "    </tr>\n",
       "  </tbody>\n",
       "</table>\n",
       "</div>"
      ],
      "text/plain": [
       "                        number_event  duration\n",
       "finisher type_finisher                        \n",
       "0        n                     8.657     9.746\n",
       "1        b                    12.648    12.093\n",
       "         w                     9.412    10.549"
      ]
     },
     "execution_count": 43,
     "metadata": {},
     "output_type": "execute_result"
    }
   ],
   "source": [
    "profiles.groupby([\"finisher\", \"type_finisher\"]).agg(\n",
    "    {\"number_event\": \"mean\", \"duration\": \"mean\"}\n",
    ").round(3)"
   ]
  },
  {
   "cell_type": "markdown",
   "id": "71cd9edf-cfbe-4f7d-b958-7a8c4ad553b5",
   "metadata": {},
   "source": [
    "Средняя продолжительность в днях у:  \n",
    "- закончивших победой составляет 10,5 дней при 9,4 совершенных действиях\n",
    "- закончивших постройкой составляет 12,9 дней при 13,6 совершенных действиях\n",
    "- незакончивших уровень составляет 9,7 дней при 8,7 совершенных действиях."
   ]
  },
  {
   "cell_type": "code",
   "execution_count": 44,
   "id": "beb291c3-52c0-4efb-9164-464d49903a5b",
   "metadata": {},
   "outputs": [
    {
     "data": {
      "text/html": [
       "<div>\n",
       "<style scoped>\n",
       "    .dataframe tbody tr th:only-of-type {\n",
       "        vertical-align: middle;\n",
       "    }\n",
       "\n",
       "    .dataframe tbody tr th {\n",
       "        vertical-align: top;\n",
       "    }\n",
       "\n",
       "    .dataframe thead th {\n",
       "        text-align: right;\n",
       "    }\n",
       "</style>\n",
       "<table border=\"1\" class=\"dataframe\">\n",
       "  <thead>\n",
       "    <tr style=\"text-align: right;\">\n",
       "      <th></th>\n",
       "      <th>number_event</th>\n",
       "      <th>duration</th>\n",
       "    </tr>\n",
       "    <tr>\n",
       "      <th>finisher</th>\n",
       "      <th></th>\n",
       "      <th></th>\n",
       "    </tr>\n",
       "  </thead>\n",
       "  <tbody>\n",
       "    <tr>\n",
       "      <th>0</th>\n",
       "      <td>8.657</td>\n",
       "      <td>9.746</td>\n",
       "    </tr>\n",
       "    <tr>\n",
       "      <th>1</th>\n",
       "      <td>10.450</td>\n",
       "      <td>11.045</td>\n",
       "    </tr>\n",
       "  </tbody>\n",
       "</table>\n",
       "</div>"
      ],
      "text/plain": [
       "          number_event  duration\n",
       "finisher                        \n",
       "0                8.657     9.746\n",
       "1               10.450    11.045"
      ]
     },
     "execution_count": 44,
     "metadata": {},
     "output_type": "execute_result"
    }
   ],
   "source": [
    "profiles.groupby([\"finisher\"]).agg({\"number_event\": \"mean\", \"duration\": \"mean\"}).round(\n",
    "    3\n",
    ")"
   ]
  },
  {
   "cell_type": "markdown",
   "id": "f14a190f-9dfc-4f36-bb1d-43e67103797e",
   "metadata": {},
   "source": [
    "#### Вывод"
   ]
  },
  {
   "cell_type": "markdown",
   "id": "70cbd484-902c-41ce-b97f-9168ad828f2f",
   "metadata": {},
   "source": [
    "Пользователь, закончивший первый уровень игры провел в ней большее число дней и произвел большее количество действий, чем тот кто его не закончил. При этом стратегия закончить постройкой занимает больше времени и требует больше действий, чем стратегия победой над противником."
   ]
  },
  {
   "cell_type": "code",
   "execution_count": null,
   "id": "f9a875e2-d351-403f-839b-36abf7c97bd0",
   "metadata": {},
   "outputs": [],
   "source": []
  },
  {
   "cell_type": "markdown",
   "id": "67522073-b170-41e2-bcb7-ac1907741dde",
   "metadata": {},
   "source": [
    "### Оценка действующей системы монетизации"
   ]
  },
  {
   "cell_type": "code",
   "execution_count": 45,
   "id": "3a7075f3-9ae6-41ae-9c4b-080727576d2b",
   "metadata": {},
   "outputs": [],
   "source": [
    "buildings = data_game_actions[data_game_actions[\"event\"] == \"building\"]\n",
    "\n",
    "group_buildings = buildings.pivot_table(\n",
    "    index=\"date\",\n",
    "    columns=\"building_type\",\n",
    "    values=\"event\",\n",
    "    aggfunc=\"count\",\n",
    ").fillna(0)\n",
    "\n",
    "group_buildings[\"total_event\"] = group_buildings.iloc[:, :3].sum(axis=1)\n",
    "group_buildings[\"total_money\"] = group_buildings[\"total_event\"] * 0.07\n",
    "group_buildings[\"users\"] = buildings.groupby(\"date\").agg({\"user_id\": \"nunique\"})\n",
    "group_buildings[\"event_per_user\"] = (\n",
    "    group_buildings[\"total_event\"] / group_buildings[\"users\"]\n",
    ").round(3)\n",
    "group_buildings[\"money_per_user\"] = (\n",
    "    group_buildings[\"total_money\"] / group_buildings[\"users\"]\n",
    ").round(3)\n",
    "group_buildings = group_buildings.reset_index(level=0)"
   ]
  },
  {
   "cell_type": "code",
   "execution_count": 46,
   "id": "6824bf70-e8ee-468b-9926-b17383219df8",
   "metadata": {},
   "outputs": [
    {
     "data": {
      "text/html": [
       "<div>\n",
       "<style scoped>\n",
       "    .dataframe tbody tr th:only-of-type {\n",
       "        vertical-align: middle;\n",
       "    }\n",
       "\n",
       "    .dataframe tbody tr th {\n",
       "        vertical-align: top;\n",
       "    }\n",
       "\n",
       "    .dataframe thead th {\n",
       "        text-align: right;\n",
       "    }\n",
       "</style>\n",
       "<table border=\"1\" class=\"dataframe\">\n",
       "  <thead>\n",
       "    <tr style=\"text-align: right;\">\n",
       "      <th>building_type</th>\n",
       "      <th>assembly_shop</th>\n",
       "      <th>research_center</th>\n",
       "      <th>spaceport</th>\n",
       "      <th>total_event</th>\n",
       "      <th>total_money</th>\n",
       "      <th>users</th>\n",
       "      <th>event_per_user</th>\n",
       "      <th>money_per_user</th>\n",
       "    </tr>\n",
       "  </thead>\n",
       "  <tbody>\n",
       "    <tr>\n",
       "      <th>count</th>\n",
       "      <td>33.000</td>\n",
       "      <td>33.000</td>\n",
       "      <td>33.000</td>\n",
       "      <td>33.000</td>\n",
       "      <td>33.000</td>\n",
       "      <td>33.000</td>\n",
       "      <td>33.000</td>\n",
       "      <td>33.000</td>\n",
       "    </tr>\n",
       "    <tr>\n",
       "      <th>mean</th>\n",
       "      <td>1651.333</td>\n",
       "      <td>428.394</td>\n",
       "      <td>1797.727</td>\n",
       "      <td>3877.455</td>\n",
       "      <td>271.422</td>\n",
       "      <td>2759.697</td>\n",
       "      <td>1.231</td>\n",
       "      <td>0.086</td>\n",
       "    </tr>\n",
       "    <tr>\n",
       "      <th>std</th>\n",
       "      <td>3231.974</td>\n",
       "      <td>537.057</td>\n",
       "      <td>2202.949</td>\n",
       "      <td>4617.749</td>\n",
       "      <td>323.242</td>\n",
       "      <td>3072.027</td>\n",
       "      <td>0.170</td>\n",
       "      <td>0.012</td>\n",
       "    </tr>\n",
       "    <tr>\n",
       "      <th>min</th>\n",
       "      <td>0.000</td>\n",
       "      <td>0.000</td>\n",
       "      <td>0.000</td>\n",
       "      <td>2.000</td>\n",
       "      <td>0.140</td>\n",
       "      <td>2.000</td>\n",
       "      <td>1.000</td>\n",
       "      <td>0.070</td>\n",
       "    </tr>\n",
       "    <tr>\n",
       "      <th>25%</th>\n",
       "      <td>0.000</td>\n",
       "      <td>11.000</td>\n",
       "      <td>37.000</td>\n",
       "      <td>81.000</td>\n",
       "      <td>5.670</td>\n",
       "      <td>68.000</td>\n",
       "      <td>1.143</td>\n",
       "      <td>0.080</td>\n",
       "    </tr>\n",
       "    <tr>\n",
       "      <th>50%</th>\n",
       "      <td>0.000</td>\n",
       "      <td>123.000</td>\n",
       "      <td>606.000</td>\n",
       "      <td>1349.000</td>\n",
       "      <td>94.430</td>\n",
       "      <td>1176.000</td>\n",
       "      <td>1.179</td>\n",
       "      <td>0.082</td>\n",
       "    </tr>\n",
       "    <tr>\n",
       "      <th>75%</th>\n",
       "      <td>0.000</td>\n",
       "      <td>833.000</td>\n",
       "      <td>3041.000</td>\n",
       "      <td>7509.000</td>\n",
       "      <td>525.630</td>\n",
       "      <td>5600.000</td>\n",
       "      <td>1.341</td>\n",
       "      <td>0.094</td>\n",
       "    </tr>\n",
       "    <tr>\n",
       "      <th>max</th>\n",
       "      <td>7869.000</td>\n",
       "      <td>1540.000</td>\n",
       "      <td>6585.000</td>\n",
       "      <td>15022.000</td>\n",
       "      <td>1051.540</td>\n",
       "      <td>9158.000</td>\n",
       "      <td>1.640</td>\n",
       "      <td>0.115</td>\n",
       "    </tr>\n",
       "  </tbody>\n",
       "</table>\n",
       "</div>"
      ],
      "text/plain": [
       "building_type  assembly_shop  research_center  spaceport  total_event  \\\n",
       "count                 33.000           33.000     33.000       33.000   \n",
       "mean                1651.333          428.394   1797.727     3877.455   \n",
       "std                 3231.974          537.057   2202.949     4617.749   \n",
       "min                    0.000            0.000      0.000        2.000   \n",
       "25%                    0.000           11.000     37.000       81.000   \n",
       "50%                    0.000          123.000    606.000     1349.000   \n",
       "75%                    0.000          833.000   3041.000     7509.000   \n",
       "max                 7869.000         1540.000   6585.000    15022.000   \n",
       "\n",
       "building_type  total_money     users  event_per_user  money_per_user  \n",
       "count               33.000    33.000          33.000          33.000  \n",
       "mean               271.422  2759.697           1.231           0.086  \n",
       "std                323.242  3072.027           0.170           0.012  \n",
       "min                  0.140     2.000           1.000           0.070  \n",
       "25%                  5.670    68.000           1.143           0.080  \n",
       "50%                 94.430  1176.000           1.179           0.082  \n",
       "75%                525.630  5600.000           1.341           0.094  \n",
       "max               1051.540  9158.000           1.640           0.115  "
      ]
     },
     "execution_count": 46,
     "metadata": {},
     "output_type": "execute_result"
    }
   ],
   "source": [
    "group_buildings.describe().round(3)"
   ]
  },
  {
   "cell_type": "code",
   "execution_count": 47,
   "id": "f1c1a20b-690e-43bf-8bd7-67219e9a8416",
   "metadata": {},
   "outputs": [
    {
     "data": {
      "text/html": [
       "<div>\n",
       "<style scoped>\n",
       "    .dataframe tbody tr th:only-of-type {\n",
       "        vertical-align: middle;\n",
       "    }\n",
       "\n",
       "    .dataframe tbody tr th {\n",
       "        vertical-align: top;\n",
       "    }\n",
       "\n",
       "    .dataframe thead th {\n",
       "        text-align: right;\n",
       "    }\n",
       "</style>\n",
       "<table border=\"1\" class=\"dataframe\">\n",
       "  <thead>\n",
       "    <tr style=\"text-align: right;\">\n",
       "      <th>building_type</th>\n",
       "      <th>date</th>\n",
       "      <th>assembly_shop</th>\n",
       "      <th>research_center</th>\n",
       "      <th>spaceport</th>\n",
       "      <th>total_event</th>\n",
       "      <th>total_money</th>\n",
       "      <th>users</th>\n",
       "      <th>event_per_user</th>\n",
       "      <th>money_per_user</th>\n",
       "    </tr>\n",
       "  </thead>\n",
       "  <tbody>\n",
       "    <tr>\n",
       "      <th>0</th>\n",
       "      <td>2020-05-04</td>\n",
       "      <td>7767.0</td>\n",
       "      <td>0.0</td>\n",
       "      <td>403.0</td>\n",
       "      <td>8170.0</td>\n",
       "      <td>571.90</td>\n",
       "      <td>5860</td>\n",
       "      <td>1.394</td>\n",
       "      <td>0.098</td>\n",
       "    </tr>\n",
       "    <tr>\n",
       "      <th>1</th>\n",
       "      <td>2020-05-05</td>\n",
       "      <td>7816.0</td>\n",
       "      <td>0.0</td>\n",
       "      <td>1236.0</td>\n",
       "      <td>9052.0</td>\n",
       "      <td>633.64</td>\n",
       "      <td>6381</td>\n",
       "      <td>1.419</td>\n",
       "      <td>0.099</td>\n",
       "    </tr>\n",
       "    <tr>\n",
       "      <th>2</th>\n",
       "      <td>2020-05-06</td>\n",
       "      <td>7736.0</td>\n",
       "      <td>5.0</td>\n",
       "      <td>2180.0</td>\n",
       "      <td>9921.0</td>\n",
       "      <td>694.47</td>\n",
       "      <td>6853</td>\n",
       "      <td>1.448</td>\n",
       "      <td>0.101</td>\n",
       "    </tr>\n",
       "    <tr>\n",
       "      <th>3</th>\n",
       "      <td>2020-05-07</td>\n",
       "      <td>7775.0</td>\n",
       "      <td>31.0</td>\n",
       "      <td>3041.0</td>\n",
       "      <td>10847.0</td>\n",
       "      <td>759.29</td>\n",
       "      <td>7382</td>\n",
       "      <td>1.469</td>\n",
       "      <td>0.103</td>\n",
       "    </tr>\n",
       "    <tr>\n",
       "      <th>4</th>\n",
       "      <td>2020-05-08</td>\n",
       "      <td>7833.0</td>\n",
       "      <td>123.0</td>\n",
       "      <td>4074.0</td>\n",
       "      <td>12030.0</td>\n",
       "      <td>842.10</td>\n",
       "      <td>7877</td>\n",
       "      <td>1.527</td>\n",
       "      <td>0.107</td>\n",
       "    </tr>\n",
       "  </tbody>\n",
       "</table>\n",
       "</div>"
      ],
      "text/plain": [
       "building_type        date  assembly_shop  research_center  spaceport  \\\n",
       "0              2020-05-04         7767.0              0.0      403.0   \n",
       "1              2020-05-05         7816.0              0.0     1236.0   \n",
       "2              2020-05-06         7736.0              5.0     2180.0   \n",
       "3              2020-05-07         7775.0             31.0     3041.0   \n",
       "4              2020-05-08         7833.0            123.0     4074.0   \n",
       "\n",
       "building_type  total_event  total_money  users  event_per_user  money_per_user  \n",
       "0                   8170.0       571.90   5860           1.394           0.098  \n",
       "1                   9052.0       633.64   6381           1.419           0.099  \n",
       "2                   9921.0       694.47   6853           1.448           0.101  \n",
       "3                  10847.0       759.29   7382           1.469           0.103  \n",
       "4                  12030.0       842.10   7877           1.527           0.107  "
      ]
     },
     "execution_count": 47,
     "metadata": {},
     "output_type": "execute_result"
    }
   ],
   "source": [
    "group_buildings.head()"
   ]
  },
  {
   "cell_type": "markdown",
   "id": "69eea485-a6e3-4a27-81d5-e099c558769c",
   "metadata": {},
   "source": [
    "Для наглядности построим график динамики построек в разрезе типа и даты."
   ]
  },
  {
   "cell_type": "code",
   "execution_count": 48,
   "id": "7b014ca7-605d-4374-b0c3-e6958b810d37",
   "metadata": {},
   "outputs": [
    {
     "data": {
      "image/png": "[encoded data removed]",
      "text/plain": [
       "<Figure size 864x432 with 1 Axes>"
      ]
     },
     "metadata": {
      "needs_background": "light"
     },
     "output_type": "display_data"
    }
   ],
   "source": [
    "group_buildings.iloc[:, :4].set_index(\"date\").plot(\n",
    "    figsize=(12, 6),\n",
    "    grid=True,\n",
    "    linestyle=\"--\",\n",
    "    linewidth=3,\n",
    ")\n",
    "plt.xlabel(\"Дата\")\n",
    "plt.ylabel(\"Количество построек\")\n",
    "plt.title(\"Динамика числа построек по типам\", fontsize=14)\n",
    "plt.show()"
   ]
  },
  {
   "cell_type": "markdown",
   "id": "159a5f28-0e7e-4a7e-8392-1e87d87048f4",
   "metadata": {},
   "source": [
    "На графике хорошо заметен резкий спад до нулевой отметки построек типа 'assembly_shop' 07 мая и в дальнейшем таких построек больше не было. Вероятность, что это связано с ошибками в программе выше, чем в сменившихся предпочтениях игроков. Данный вопрос необходимо передать в команду разработки. Также заметен пик числа построек типа \"spaceport\" в районе 10 мая, далее наблюдается спад. К 25 мая число построек всех типов упало практически до нуля. "
   ]
  },
  {
   "cell_type": "markdown",
   "id": "d8b8e14d-00b8-4266-a9ec-fa6f55ead5a8",
   "metadata": {},
   "source": [
    "Далее построим график динамики числа построек по дням в расчете на 1 пользователя:"
   ]
  },
  {
   "cell_type": "code",
   "execution_count": 49,
   "id": "f8abe7cc-1302-45ee-b248-8707e218b8e6",
   "metadata": {},
   "outputs": [
    {
     "data": {
      "image/png": "[encoded data removed]",
      "text/plain": [
       "<Figure size 1080x360 with 1 Axes>"
      ]
     },
     "metadata": {
      "needs_background": "light"
     },
     "output_type": "display_data"
    }
   ],
   "source": [
    "plt.figure(figsize=(15, 5))\n",
    "lchart = sns.lineplot(\n",
    "    data=group_buildings[[\"date\", \"event_per_user\"]],\n",
    "    y=\"event_per_user\",\n",
    "    x=\"date\",\n",
    "    linewidth=2.5,\n",
    "    color=\"green\",\n",
    "    linestyle=\"-.\",\n",
    ")\n",
    "plt.axhline(y=group_buildings[\"event_per_user\"].mean(), color=\"red\", linestyle=\"--\")\n",
    "plt.xlabel(\"Дата\", fontsize=13)\n",
    "plt.ylabel(\"Количество построек\", fontsize=13)\n",
    "plt.title(\"Количество построек по дням на 1 пользователя в день\", fontsize=14)\n",
    "plt.show()"
   ]
  },
  {
   "cell_type": "code",
   "execution_count": 50,
   "id": "21e6905d-cb3d-47cb-96ce-7456a38b1ace",
   "metadata": {},
   "outputs": [
    {
     "name": "stdout",
     "output_type": "stream",
     "text": [
      "Общее число рекламных показов (при выборе типа объекта при постройке) составило 127956.\n",
      "В среднем на 1 одного уникального пользователя 9.4 показов.\n",
      "В среднем на 1 одного уникального пользователя в день 1.2 показов.\n",
      "\n",
      "Общая сумма вознаграждения за рекламные показы составила 8957 единиц.\n",
      "Среднее вознаграждение на 1 одного уникального пользователя 0.7 единиц.\n",
      "Среднее вознаграждение на 1 одного уникального пользователя в день 0.1 единиц.\n",
      "\n",
      "Общая сумма рекламных затрат 7603.6 единиц.\n",
      "\n",
      "Доход от рекламных показов 1353 единиц.\n",
      "Рентабельность рекламных показов 17.8%.\n",
      "\n"
     ]
    }
   ],
   "source": [
    "print(\n",
    "    f\"Общее число рекламных показов (при выборе типа объекта при постройке) составило {group_buildings['total_event'].sum():.0f}.\\n\"\n",
    "    f\"В среднем на 1 одного уникального пользователя {group_buildings['total_event'].sum()/users:.1f} показов.\\n\"\n",
    "    f\"В среднем на 1 одного уникального пользователя в день {group_buildings['event_per_user'].mean():.1f} показов.\\n\\n\"\n",
    "    f\"Общая сумма вознаграждения за рекламные показы составила {group_buildings['total_money'].sum():.0f} единиц.\\n\"\n",
    "    f\"Среднее вознаграждение на 1 одного уникального пользователя {group_buildings['total_money'].sum()/users:.1f} единиц.\\n\"\n",
    "    f\"Среднее вознаграждение на 1 одного уникального пользователя в день {group_buildings['money_per_user'].mean():.1f} единиц.\\n\\n\"\n",
    "    f\"Общая сумма рекламных затрат {data_ad_costs['cost'].sum():.1f} единиц.\\n\\n\"\n",
    "    f\"Доход от рекламных показов {group_buildings['total_money'].sum() - data_ad_costs['cost'].sum():.0f} единиц.\\n\"\n",
    "    f\"Рентабельность рекламных показов {(group_buildings['total_money'].sum() / data_ad_costs['cost'].sum() - 1):0.1%}.\\n\"\n",
    ")"
   ]
  },
  {
   "cell_type": "markdown",
   "id": "0eac40ea-1981-4390-b6d6-6dc5e588690d",
   "metadata": {},
   "source": [
    "Для полноты картины построим тепловую карту доли завершивших первый уровень пользователей для когорт с 1 по 21 лайфтайм. Максимальное число лайфтаймов 31, однако не у всех когорт, поэтому часть данных в визуалицию не взята. "
   ]
  },
  {
   "cell_type": "code",
   "execution_count": 51,
   "id": "f4b29ffe-50c9-4816-9ace-81f7074f002f",
   "metadata": {},
   "outputs": [
    {
     "data": {
      "image/png": "[encoded data removed]",
      "text/plain": [
       "<Figure size 1440x720 with 2 Axes>"
      ]
     },
     "metadata": {
      "needs_background": "light"
     },
     "output_type": "display_data"
    }
   ],
   "source": [
    "retention_group = data_game_actions.query('event == \"finished_stage_1\"').pivot_table(\n",
    "    index=[\"cohort_date\"], columns=\"lifetime\", values=\"user_id\", aggfunc=\"nunique\"\n",
    ")\n",
    "\n",
    "retention_group = retention_group.merge(\n",
    "    cohort_info.iloc[:, 1:].drop_duplicates(), on=\"cohort_date\"\n",
    ").set_index(\"cohort_date\")\n",
    "retention_group = retention_group.div(retention_group[\"cohort_size\"], axis=0)\n",
    "plt.figure(figsize=(20, 10))\n",
    "sns.heatmap(retention_group.loc[:, 1:21], annot=True, fmt=\".1%\")\n",
    "plt.title(\"Тепловая карта удержания\", fontsize=14)\n",
    "plt.xlabel(\"Лайфтайм\", fontsize=13)\n",
    "plt.ylabel(\"Дата когорты\", fontsize=13)\n",
    "plt.show()"
   ]
  },
  {
   "cell_type": "code",
   "execution_count": null,
   "id": "abe156ca-a114-4c89-b213-fc3c4defe1a5",
   "metadata": {},
   "outputs": [],
   "source": []
  },
  {
   "cell_type": "markdown",
   "id": "12b2147f-32ec-4814-9588-30f4df18de61",
   "metadata": {},
   "source": [
    "#### Вывод  \n",
    "Существующую сиситему монетизации приложения можно считать относительно успешной, т.к. каждый из активных пользователей хотя бы 1 раз в день просматривает рекламное сообщение. В стоимостном выражении сумма потраченная на рекламную кампанию, меньше суммы заработанной на рекламных показах в игре на 1353 единицы. Рентабельность действующей системы монетизации 17,8%.\n",
    "\n",
    "Однако заметны проблемы с постройками типа 'assembly_shop', причины которых необходимо проанализировать глубже. Это негативно сказывается и на монетизации, т.к. выпадает одно из рекламных действий, так и возможно на удовлетворенности игрой (слабое удержание).  \n",
    "\n",
    "Наибольшее число завершений первого уровня приходится на 7-15 лайфтайм по каждой из когорт. Вероятность того, что пользователь продолжит играть после 21 лайфтайма весьма мала.\n",
    "\n",
    "Далее рассмотрим варианты повышения эффективности монетизации за счет увеличение числа показов рекламных сообщений."
   ]
  },
  {
   "cell_type": "markdown",
   "id": "628870fe-ef45-42fd-9402-9d71f5f6095c",
   "metadata": {},
   "source": [
    "### Разработка новых схем монетизации"
   ]
  },
  {
   "cell_type": "markdown",
   "id": "2dddb064-03b8-4f55-994e-c31771c4b1de",
   "metadata": {},
   "source": [
    "Дополнительные показы рекламы можно осуществлять:  \n",
    "- после завершения уровня. На имеющихся данных это принесло бы 5817 показов (+ 4,5%) или 407 дополнительных единиц. \n",
    "- повторный заход в игру, в последующие дни после первого посещения (1 раз в день). На имеющихся данных это принесло бы 81625 показов (+64%). Дополнительные поступления составили бы 5713 единиц.  \n",
    "\n",
    "При действующей системе монетизации игрок видел рекламное сообщение в среднем 9,4 раза за игру, при дополнительных показах при ежедневном входе этот показатель увеличился бы до 15,4 раз за игру.  \n",
    "\n",
    "Второй вариант численно предпочтительнее, но необходимо провести тесты для определения лояльности игроков к таким действиям."
   ]
  },
  {
   "cell_type": "code",
   "execution_count": 52,
   "id": "32c2a698-e808-4eec-90e9-e9d6bb45ce5c",
   "metadata": {},
   "outputs": [
    {
     "name": "stdout",
     "output_type": "stream",
     "text": [
      "number_event    127956\n",
      "user_id          13576\n",
      "dtype: int64\n",
      "81625\n"
     ]
    }
   ],
   "source": [
    "print(profiles.agg({\"number_event\": \"sum\", \"user_id\": \"nunique\"}).round(3))\n",
    "print(profiles[\"returns\"].sum())"
   ]
  },
  {
   "cell_type": "code",
   "execution_count": null,
   "id": "21c19a10-d2c2-4bef-8832-9270d949eb73",
   "metadata": {},
   "outputs": [],
   "source": []
  },
  {
   "cell_type": "markdown",
   "id": "a98a93fe-008f-4446-b4b6-d65f39728378",
   "metadata": {},
   "source": [
    "<b> Вывод </b>  \n",
    "\n",
    "По условию задачи реклама пока не показывается совсем, формулировка \"Основная монетизация игры — только планируется. Но предполагается, что в приложении будет происходить показ рекламы на экране с выбором типа объекта для постройки.\" Поэтому предположить вывод, что пользователей отпугнула реклама было бы некорректно. Пользователи перестают заходить в приложение по каким-то другим причинам. \n",
    "\n",
    "Чтобы оценить много это или мало, что 40% пользователей захотело закончить первый уровень тоже недостаточно информации. Необходимы данные о типичных показателях мобильных игр в целом, по жанру и по тематике игры, а также плановый показатель маркетинга.  \n",
    "    \n",
    "Мы смогли \"оцифровать\" предполагаемую модель монетизации и предложили как увеличить сумму рекламных выплат. Снизить этот показатель при текущем варианте возможным не представляется, т.к. окупаемость на очень высоком уровне - 18%.\n"
   ]
  },
  {
   "cell_type": "markdown",
   "id": "cf683acf-663d-48a7-abb8-38448517f295",
   "metadata": {
    "tags": []
   },
   "source": [
    "## Анализ стоимости рекламы\n",
    "\n",
    "- стоимость рекламных расходов на 1 пользователя по каналам за весь период наблюдения\n",
    "- стоимость рекламных расходов на 1 пользователя по каналам и по дням"
   ]
  },
  {
   "cell_type": "code",
   "execution_count": 53,
   "id": "b4f7c8d4-46c8-4fac-9ace-0a0d95348147",
   "metadata": {},
   "outputs": [],
   "source": [
    "# добавим к DF данные о канале привлечения пользователя и группируем по этому каналу\n",
    "data_game_actions = data_game_actions.merge(data_user_source, on=\"user_id\")"
   ]
  },
  {
   "cell_type": "code",
   "execution_count": 54,
   "id": "08265e52-85f5-4686-8b8e-399fa137e2e2",
   "metadata": {},
   "outputs": [],
   "source": [
    "group_ad_source = (\n",
    "    data_game_actions.groupby([\"source\"])\n",
    "    .agg({\"user_id\": \"nunique\"})\n",
    "    .rename(columns={\"user_id\": \"users\"})\n",
    ")\n",
    "group_ad_source = group_ad_source.merge(\n",
    "    data_ad_costs.groupby(\"source\").agg({\"cost\": \"sum\"}), on=\"source\"\n",
    ")\n",
    "group_ad_source[\"per_user\"] = group_ad_source[\"cost\"] / group_ad_source[\"users\"]"
   ]
  },
  {
   "cell_type": "code",
   "execution_count": 55,
   "id": "a7f67c0a-a9d6-4bd1-a9af-df6013b5e95f",
   "metadata": {},
   "outputs": [
    {
     "data": {
      "text/html": [
       "<div>\n",
       "<style scoped>\n",
       "    .dataframe tbody tr th:only-of-type {\n",
       "        vertical-align: middle;\n",
       "    }\n",
       "\n",
       "    .dataframe tbody tr th {\n",
       "        vertical-align: top;\n",
       "    }\n",
       "\n",
       "    .dataframe thead th {\n",
       "        text-align: right;\n",
       "    }\n",
       "</style>\n",
       "<table border=\"1\" class=\"dataframe\">\n",
       "  <thead>\n",
       "    <tr style=\"text-align: right;\">\n",
       "      <th></th>\n",
       "      <th>users</th>\n",
       "      <th>cost</th>\n",
       "      <th>per_user</th>\n",
       "    </tr>\n",
       "    <tr>\n",
       "      <th>source</th>\n",
       "      <th></th>\n",
       "      <th></th>\n",
       "      <th></th>\n",
       "    </tr>\n",
       "  </thead>\n",
       "  <tbody>\n",
       "    <tr>\n",
       "      <th>facebook_ads</th>\n",
       "      <td>2726</td>\n",
       "      <td>2140.904643</td>\n",
       "      <td>0.785365</td>\n",
       "    </tr>\n",
       "    <tr>\n",
       "      <th>instagram_new_adverts</th>\n",
       "      <td>3347</td>\n",
       "      <td>2161.441691</td>\n",
       "      <td>0.645785</td>\n",
       "    </tr>\n",
       "    <tr>\n",
       "      <th>yandex_direct</th>\n",
       "      <td>4817</td>\n",
       "      <td>2233.111449</td>\n",
       "      <td>0.463590</td>\n",
       "    </tr>\n",
       "    <tr>\n",
       "      <th>youtube_channel_reklama</th>\n",
       "      <td>2686</td>\n",
       "      <td>1068.119204</td>\n",
       "      <td>0.397662</td>\n",
       "    </tr>\n",
       "  </tbody>\n",
       "</table>\n",
       "</div>"
      ],
      "text/plain": [
       "                         users         cost  per_user\n",
       "source                                               \n",
       "facebook_ads              2726  2140.904643  0.785365\n",
       "instagram_new_adverts     3347  2161.441691  0.645785\n",
       "yandex_direct             4817  2233.111449  0.463590\n",
       "youtube_channel_reklama   2686  1068.119204  0.397662"
      ]
     },
     "execution_count": 55,
     "metadata": {},
     "output_type": "execute_result"
    }
   ],
   "source": [
    "group_ad_source"
   ]
  },
  {
   "cell_type": "markdown",
   "id": "2f65617e-ab1a-4ca6-8cfc-f082a59c921c",
   "metadata": {},
   "source": [
    "Самая высокая стоимость привлечения в игру одного человека у канала \"facebook_ads\" - 0,78 единиц, самая низкая у \"youtube_channel_reklama\" - 0,40 единиц. Однако наибольшее число привлеченных пользователей у \"yandex_direct\" - 4817 человек. Канал \"instagram_new_adverts\" демонстрирует \"средние\" значения по всем показателям."
   ]
  },
  {
   "cell_type": "markdown",
   "id": "b883381c-4056-4276-bdf0-ee015470780b",
   "metadata": {},
   "source": [
    "Далее проанализируем эффективность рекламных затрат по когортам. Для этого в DF с рекламными затратами добавим еще один столбец дата рекламы + 1 день,чтобы провести соответствие между двумя группами данных."
   ]
  },
  {
   "cell_type": "code",
   "execution_count": 56,
   "id": "3e54e008-d4e6-4cce-bb2f-8a79e8efab8a",
   "metadata": {},
   "outputs": [
    {
     "data": {
      "text/html": [
       "<div>\n",
       "<style scoped>\n",
       "    .dataframe tbody tr th:only-of-type {\n",
       "        vertical-align: middle;\n",
       "    }\n",
       "\n",
       "    .dataframe tbody tr th {\n",
       "        vertical-align: top;\n",
       "    }\n",
       "\n",
       "    .dataframe thead th {\n",
       "        text-align: right;\n",
       "    }\n",
       "</style>\n",
       "<table border=\"1\" class=\"dataframe\">\n",
       "  <thead>\n",
       "    <tr style=\"text-align: right;\">\n",
       "      <th></th>\n",
       "      <th>source</th>\n",
       "      <th>day</th>\n",
       "      <th>cost</th>\n",
       "      <th>cohort_date</th>\n",
       "    </tr>\n",
       "  </thead>\n",
       "  <tbody>\n",
       "    <tr>\n",
       "      <th>0</th>\n",
       "      <td>facebook_ads</td>\n",
       "      <td>2020-05-03</td>\n",
       "      <td>935.882786</td>\n",
       "      <td>2020-05-04</td>\n",
       "    </tr>\n",
       "    <tr>\n",
       "      <th>1</th>\n",
       "      <td>facebook_ads</td>\n",
       "      <td>2020-05-04</td>\n",
       "      <td>548.354480</td>\n",
       "      <td>2020-05-05</td>\n",
       "    </tr>\n",
       "    <tr>\n",
       "      <th>2</th>\n",
       "      <td>facebook_ads</td>\n",
       "      <td>2020-05-05</td>\n",
       "      <td>260.185754</td>\n",
       "      <td>2020-05-06</td>\n",
       "    </tr>\n",
       "    <tr>\n",
       "      <th>3</th>\n",
       "      <td>facebook_ads</td>\n",
       "      <td>2020-05-06</td>\n",
       "      <td>177.982200</td>\n",
       "      <td>2020-05-07</td>\n",
       "    </tr>\n",
       "    <tr>\n",
       "      <th>4</th>\n",
       "      <td>facebook_ads</td>\n",
       "      <td>2020-05-07</td>\n",
       "      <td>111.766796</td>\n",
       "      <td>2020-05-08</td>\n",
       "    </tr>\n",
       "  </tbody>\n",
       "</table>\n",
       "</div>"
      ],
      "text/plain": [
       "         source         day        cost cohort_date\n",
       "0  facebook_ads  2020-05-03  935.882786  2020-05-04\n",
       "1  facebook_ads  2020-05-04  548.354480  2020-05-05\n",
       "2  facebook_ads  2020-05-05  260.185754  2020-05-06\n",
       "3  facebook_ads  2020-05-06  177.982200  2020-05-07\n",
       "4  facebook_ads  2020-05-07  111.766796  2020-05-08"
      ]
     },
     "execution_count": 56,
     "metadata": {},
     "output_type": "execute_result"
    }
   ],
   "source": [
    "data_ad_costs[\"cohort_date\"] = data_ad_costs[\"day\"] + timedelta(days=1)\n",
    "data_ad_costs.head()"
   ]
  },
  {
   "cell_type": "code",
   "execution_count": 57,
   "id": "40b2f191-2228-4757-9dee-961c46135c4c",
   "metadata": {},
   "outputs": [
    {
     "data": {
      "text/html": [
       "<div>\n",
       "<style scoped>\n",
       "    .dataframe tbody tr th:only-of-type {\n",
       "        vertical-align: middle;\n",
       "    }\n",
       "\n",
       "    .dataframe tbody tr th {\n",
       "        vertical-align: top;\n",
       "    }\n",
       "\n",
       "    .dataframe thead th {\n",
       "        text-align: right;\n",
       "    }\n",
       "</style>\n",
       "<table border=\"1\" class=\"dataframe\">\n",
       "  <thead>\n",
       "    <tr style=\"text-align: right;\">\n",
       "      <th></th>\n",
       "      <th>cohort_date</th>\n",
       "      <th>source</th>\n",
       "      <th>user_id</th>\n",
       "      <th>ad_cost</th>\n",
       "      <th>ad_income</th>\n",
       "      <th>ad_profit</th>\n",
       "      <th>costs_per_user</th>\n",
       "      <th>incomes_per_user</th>\n",
       "    </tr>\n",
       "  </thead>\n",
       "  <tbody>\n",
       "    <tr>\n",
       "      <th>0</th>\n",
       "      <td>2020-05-04</td>\n",
       "      <td>facebook_ads</td>\n",
       "      <td>1184</td>\n",
       "      <td>935.882786</td>\n",
       "      <td>874.58</td>\n",
       "      <td>-61.302786</td>\n",
       "      <td>0.790442</td>\n",
       "      <td>0.738666</td>\n",
       "    </tr>\n",
       "    <tr>\n",
       "      <th>1</th>\n",
       "      <td>2020-05-05</td>\n",
       "      <td>facebook_ads</td>\n",
       "      <td>694</td>\n",
       "      <td>548.354480</td>\n",
       "      <td>482.65</td>\n",
       "      <td>-65.704480</td>\n",
       "      <td>0.790136</td>\n",
       "      <td>0.695461</td>\n",
       "    </tr>\n",
       "    <tr>\n",
       "      <th>2</th>\n",
       "      <td>2020-05-06</td>\n",
       "      <td>facebook_ads</td>\n",
       "      <td>345</td>\n",
       "      <td>260.185754</td>\n",
       "      <td>216.09</td>\n",
       "      <td>-44.095754</td>\n",
       "      <td>0.754162</td>\n",
       "      <td>0.626348</td>\n",
       "    </tr>\n",
       "    <tr>\n",
       "      <th>3</th>\n",
       "      <td>2020-05-07</td>\n",
       "      <td>facebook_ads</td>\n",
       "      <td>224</td>\n",
       "      <td>177.982200</td>\n",
       "      <td>125.23</td>\n",
       "      <td>-52.752200</td>\n",
       "      <td>0.794563</td>\n",
       "      <td>0.559063</td>\n",
       "    </tr>\n",
       "    <tr>\n",
       "      <th>4</th>\n",
       "      <td>2020-05-08</td>\n",
       "      <td>facebook_ads</td>\n",
       "      <td>139</td>\n",
       "      <td>111.766796</td>\n",
       "      <td>66.43</td>\n",
       "      <td>-45.336796</td>\n",
       "      <td>0.804078</td>\n",
       "      <td>0.477914</td>\n",
       "    </tr>\n",
       "  </tbody>\n",
       "</table>\n",
       "</div>"
      ],
      "text/plain": [
       "  cohort_date        source  user_id     ad_cost  ad_income  ad_profit  \\\n",
       "0  2020-05-04  facebook_ads     1184  935.882786     874.58 -61.302786   \n",
       "1  2020-05-05  facebook_ads      694  548.354480     482.65 -65.704480   \n",
       "2  2020-05-06  facebook_ads      345  260.185754     216.09 -44.095754   \n",
       "3  2020-05-07  facebook_ads      224  177.982200     125.23 -52.752200   \n",
       "4  2020-05-08  facebook_ads      139  111.766796      66.43 -45.336796   \n",
       "\n",
       "   costs_per_user  incomes_per_user  \n",
       "0        0.790442          0.738666  \n",
       "1        0.790136          0.695461  \n",
       "2        0.754162          0.626348  \n",
       "3        0.794563          0.559063  \n",
       "4        0.804078          0.477914  "
      ]
     },
     "execution_count": 57,
     "metadata": {},
     "output_type": "execute_result"
    }
   ],
   "source": [
    "group_ad_cohort = data_game_actions.groupby([\"source\", \"cohort_date\"]).agg(\n",
    "    {\"user_id\": \"nunique\"}\n",
    ")\n",
    "group_ad_cohort = group_ad_cohort.merge(\n",
    "    data_ad_costs[[\"cohort_date\", \"source\", \"cost\"]], on=[\"cohort_date\", \"source\"]\n",
    ").rename(columns={\"cost\": \"ad_cost\"})\n",
    "\n",
    "group_building_cohort = (\n",
    "    data_game_actions.query('event == \"building\"')\n",
    "    .groupby([\"cohort_date\", \"source\"])\n",
    "    .agg({\"event\": \"count\"})\n",
    "    .rename(columns={\"event\": \"ad_income\"})\n",
    ")\n",
    "\n",
    "group_ad_cohort = group_ad_cohort.merge(\n",
    "    group_building_cohort, on=[\"cohort_date\", \"source\"]\n",
    ")\n",
    "group_ad_cohort[\"ad_income\"] = group_ad_cohort[\"ad_income\"] * 0.07\n",
    "group_ad_cohort[\"ad_profit\"] = group_ad_cohort[\"ad_income\"] - group_ad_cohort[\"ad_cost\"]\n",
    "\n",
    "group_ad_cohort[\"costs_per_user\"] = (\n",
    "    group_ad_cohort[\"ad_cost\"] / group_ad_cohort[\"user_id\"]\n",
    ")\n",
    "group_ad_cohort[\"incomes_per_user\"] = (\n",
    "    group_ad_cohort[\"ad_income\"] / group_ad_cohort[\"user_id\"]\n",
    ")\n",
    "group_ad_cohort.head()"
   ]
  },
  {
   "cell_type": "code",
   "execution_count": 58,
   "id": "d017e01b-89da-4b7b-aafc-1e599b62f0cb",
   "metadata": {},
   "outputs": [
    {
     "data": {
      "image/png": "[encoded data removed]",
      "text/plain": [
       "<Figure size 864x432 with 1 Axes>"
      ]
     },
     "metadata": {
      "needs_background": "light"
     },
     "output_type": "display_data"
    }
   ],
   "source": [
    "# построим график динамики дохода от рекламных показов в разрезе канала привлечения пользователей\n",
    "plt.figure(figsize=(12, 6))\n",
    "lchart = sns.lineplot(\n",
    "    data=group_ad_cohort.pivot_table(\n",
    "        index=\"cohort_date\",\n",
    "        columns=\"source\",\n",
    "        values=\"ad_profit\",\n",
    "        aggfunc=\"min\",\n",
    "    ),\n",
    "    linewidth=3,\n",
    "    palette=(\"winter\"),\n",
    "    linestyle=\"-.\",\n",
    ")\n",
    "plt.axhline(y=0, color=\"red\", linewidth=2.5)\n",
    "plt.xlabel(\"Дата\", fontsize=13)\n",
    "plt.ylabel(\"Сумма прибыли\", fontsize=13)\n",
    "plt.title(\"Динамика прибыли от рекламы по дням\", fontsize=14)\n",
    "plt.show()"
   ]
  },
  {
   "cell_type": "markdown",
   "id": "2750b5e1-ca2d-4063-bed7-91fe3ed81ccc",
   "metadata": {},
   "source": [
    "На графике хорошо заметно, что привлечение пользователей через канал 'facebook_ads' для всех когорт было убыточно. Каналы 'instagram_new_adverts' и 'yandex_direct' до когорты третьего и пятого дня показывали положительную доходность, хоть и со снижением по сравнению с когортой первого дня, однако в последствии также ушли ниже точки безубыточности. Реклама канала 'youtube_channel_reklama' показала наилучший результат - прибыльность выше точки безубыточности у всех когорт.  \n",
    "В целом за период наблюдения получена положительная окупаемость рекламы (1353 единицы дохода), однако динамика от первого к последнему дню по когортам отрицательная.  \n",
    "Далее на графиках рассмотрим динамику затрат на 1 пользователя и полученный от 1 рекламный доход."
   ]
  },
  {
   "cell_type": "code",
   "execution_count": 59,
   "id": "0fc75398-0202-412e-bda9-0d91d6426860",
   "metadata": {},
   "outputs": [
    {
     "data": {
      "image/png": "[encoded data removed]",
      "text/plain": [
       "<Figure size 1152x360 with 2 Axes>"
      ]
     },
     "metadata": {
      "needs_background": "light"
     },
     "output_type": "display_data"
    }
   ],
   "source": [
    "plt.figure(figsize=(16, 5))\n",
    "\n",
    "ax1 = plt.subplot(1, 2, 1)\n",
    "\n",
    "group_ad_cohort.pivot_table(\n",
    "    index=\"cohort_date\", columns=\"source\", values=\"costs_per_user\", aggfunc=\"min\"\n",
    ").plot(grid=True, linestyle=\"--\", linewidth=2.7, ax=ax1)\n",
    "\n",
    "plt.ylabel(\"Стоимость привлечения\", fontsize=13)\n",
    "plt.xlabel(\"Дата когорты\", fontsize=13)\n",
    "plt.title(\"Динамика стоимости привлечения 1 пользователя по каналам\", fontsize=14)\n",
    "\n",
    "ax2 = plt.subplot(1, 2, 2, sharex=ax1)\n",
    "\n",
    "group_ad_cohort.pivot_table(\n",
    "    index=\"cohort_date\", columns=\"source\", values=\"incomes_per_user\", aggfunc=\"min\"\n",
    ").plot(grid=True, linestyle=\"--\", linewidth=2.7, ax=ax2)\n",
    "\n",
    "plt.ylabel(\"Доход от рекламы\", fontsize=13)\n",
    "plt.xlabel(\"Дата когорты\", fontsize=13)\n",
    "plt.title(\"Динамика дохода от рекламы 1 пользователя по каналам\", fontsize=14)\n",
    "\n",
    "plt.show()"
   ]
  },
  {
   "cell_type": "markdown",
   "id": "825ac7c4-7302-48a4-be1b-dd39a19dae86",
   "metadata": {},
   "source": [
    "#### Вывод  \n",
    "Каналы \"facebook_ads\" и \"instagram_new_adverts\" характеризуются более высокой стоимостью привлечения 1 пользователя и большей изменчивостью значения этого показателя в течение рекламной кампании.  \n",
    "Каналы \"youtube_channel_reklama\" и  \"yandex_direct\" напротив менее дорогие и стоимость привлечения изменяется слабо.  \n",
    "Однако доход от рекламы 1 игрока (связанный с количеством построенных ими объектами) отличается практически в два раза по сравнению с когортой первого и последнего дня. Очевидно рекламамная кампания не может признаться успешной."
   ]
  },
  {
   "cell_type": "code",
   "execution_count": null,
   "id": "33780c8b-1da0-420f-a97d-02fa9ad6b748",
   "metadata": {},
   "outputs": [],
   "source": []
  },
  {
   "cell_type": "markdown",
   "id": "89becbae-1e54-4949-b3d0-4a00d7894a60",
   "metadata": {
    "tags": []
   },
   "source": [
    "## Работа со статистическими гипотезами  \n",
    "### Вариант 1\n",
    "Определим зависимость количества времени нахождения пользователя в игре от способа завершения уровня\n",
    "- нулевая гипотеза H0:  \n",
    "    среднее время, необходимое для завершения уровня *победой* над другим игроком **равно** среднему времени, необходимому для завершения *реализацией проекта* \n",
    "- альтернативная гипотеза H1:  \n",
    "    среднее время, необходимое для завершения уровня *победой* над другим игроком **не равно** среднему времени, необходимому завершения *реализацией проекта*   "
   ]
  },
  {
   "cell_type": "code",
   "execution_count": null,
   "id": "a476bd45-4e0d-41e2-8e67-10474529b3ad",
   "metadata": {},
   "outputs": [],
   "source": []
  },
  {
   "cell_type": "code",
   "execution_count": 60,
   "id": "8260bd50-f5de-4f1c-a65a-c13436117c5b",
   "metadata": {},
   "outputs": [
    {
     "data": {
      "text/plain": [
       "19     11\n",
       "98     14\n",
       "112    15\n",
       "150    11\n",
       "221    11\n",
       "Name: lifetime, dtype: int64"
      ]
     },
     "execution_count": 60,
     "metadata": {},
     "output_type": "execute_result"
    }
   ],
   "source": [
    "time_finishers_builder = data_game_actions[\n",
    "    (data_game_actions[\"user_id\"].isin(finishers_builder))\n",
    "    & (data_game_actions[\"event\"] == \"finished_stage_1\")\n",
    "][\"lifetime\"]\n",
    "time_finishers_builder.head()"
   ]
  },
  {
   "cell_type": "code",
   "execution_count": null,
   "id": "caa247d6-9a04-469d-b62c-cf59fd7135f3",
   "metadata": {},
   "outputs": [],
   "source": []
  },
  {
   "cell_type": "code",
   "execution_count": 61,
   "id": "7f42c993-3869-4c7d-8000-ff4b18c9afb2",
   "metadata": {},
   "outputs": [
    {
     "data": {
      "text/plain": [
       "32     12\n",
       "49      7\n",
       "73     12\n",
       "134     8\n",
       "172     7\n",
       "Name: lifetime, dtype: int64"
      ]
     },
     "execution_count": 61,
     "metadata": {},
     "output_type": "execute_result"
    }
   ],
   "source": [
    "time_finishers_warrior = data_game_actions[\n",
    "    (data_game_actions[\"user_id\"].isin(finishers_warrior))\n",
    "    & (data_game_actions[\"event\"] == \"finished_stage_1\")\n",
    "][\"lifetime\"]\n",
    "time_finishers_warrior.head()"
   ]
  },
  {
   "cell_type": "markdown",
   "id": "b182ef6d-4226-4f79-bc94-d7ed2da30f0d",
   "metadata": {},
   "source": [
    "Перед проверкой гипотез проверим распределение и дисперсии выборок:"
   ]
  },
  {
   "cell_type": "code",
   "execution_count": 62,
   "id": "ed8cc914-464b-423e-9e32-a856fb3b7ebd",
   "metadata": {},
   "outputs": [],
   "source": [
    "var_builder = np.var(time_finishers_builder, ddof=1)\n",
    "var_warrior = np.var(time_finishers_warrior, ddof=1)"
   ]
  },
  {
   "cell_type": "code",
   "execution_count": 63,
   "id": "1411eb01-641c-4267-ae1d-8a4dec9a5ff2",
   "metadata": {},
   "outputs": [
    {
     "name": "stdout",
     "output_type": "stream",
     "text": [
      "Дисперсии выборок: \n",
      " окончание первого уровня постройкой 12.408867586757813 \n",
      " окончание первого уровня победой 16.849998558288398\n"
     ]
    }
   ],
   "source": [
    "print(\n",
    "    f\"Дисперсии выборок: \\n окончание первого уровня постройкой {var_builder} \\n окончание первого уровня победой {var_warrior}\"\n",
    ")"
   ]
  },
  {
   "cell_type": "code",
   "execution_count": 64,
   "id": "3edff706-c99b-4e12-9cf7-cfe151a50b4f",
   "metadata": {},
   "outputs": [
    {
     "data": {
      "image/png": "[encoded data removed]",
      "text/plain": [
       "<Figure size 576x360 with 1 Axes>"
      ]
     },
     "metadata": {
      "needs_background": "light"
     },
     "output_type": "display_data"
    }
   ],
   "source": [
    "plt.figure(figsize=(8, 5))\n",
    "time_finishers_builder.plot.density(style=\"--\", label=\"builder\").legend()\n",
    "time_finishers_warrior.plot.density(style=\"-.\", label=\"warrior\").legend()\n",
    "plt.title(\"Распределение количества дней до завершения первого уровня\")\n",
    "plt.show()"
   ]
  },
  {
   "cell_type": "markdown",
   "id": "71cc5943-0f9d-46e6-8325-310ce1f8d0b5",
   "metadata": {},
   "source": [
    "Дисперсии выборок не равны, их распределения близки к нормальным"
   ]
  },
  {
   "cell_type": "code",
   "execution_count": null,
   "id": "3e9296e9-f9ad-466d-ba88-d7d60bf7d9dc",
   "metadata": {},
   "outputs": [],
   "source": []
  },
  {
   "cell_type": "code",
   "execution_count": 65,
   "id": "2f8eb882-3136-480c-9819-2affe6a182e2",
   "metadata": {},
   "outputs": [
    {
     "name": "stdout",
     "output_type": "stream",
     "text": [
      "p-значение:  6.5704667556436364e-105\n",
      "Отвергаем нулевую гипотезу\n"
     ]
    }
   ],
   "source": [
    "alpha = 0.05\n",
    "\n",
    "results = st.ttest_ind(time_finishers_builder, time_finishers_warrior, equal_var=False)\n",
    "print(\"p-значение: \", results.pvalue)\n",
    "\n",
    "if results.pvalue < alpha:\n",
    "    print(\"Отвергаем нулевую гипотезу\")\n",
    "else:\n",
    "    print(\"Не получилось отвергнуть нулевую гипотезу\")"
   ]
  },
  {
   "cell_type": "code",
   "execution_count": null,
   "id": "ae126ac2-96db-4fa0-be76-9e7fc17a63cf",
   "metadata": {},
   "outputs": [],
   "source": []
  },
  {
   "cell_type": "markdown",
   "id": "f4d8f869-d46f-445f-bf15-f6b6f00fe67f",
   "metadata": {
    "tags": []
   },
   "source": [
    "Согласно полученному значению p-value (6.5704667556436364e-105) можно отвергнуть нулевую гипотезу.  \n",
    "\n",
    "Значение p-value значительно ниже критического уровня статистической значимости (установлено для проверки этой гипотезы на уровне 0,05).  \n",
    "\n",
    "Таким образом альтернативная не отвергается - *среднее время, необходимое для завершения первого уровня победой над другим игроком **не равно** среднему времени, необходимому завершения реализацией проекта*"
   ]
  },
  {
   "cell_type": "code",
   "execution_count": null,
   "id": "8e927beb-4257-42f7-a552-271c846fa78a",
   "metadata": {
    "tags": []
   },
   "outputs": [],
   "source": []
  },
  {
   "cell_type": "markdown",
   "id": "f48e2602-c711-438d-9bb2-87bd710cccfe",
   "metadata": {
    "tags": []
   },
   "source": [
    "### Вариант 2\n",
    "Зависимость количества \"рекламных\" действий пользователя в игре от способа завершения уровня\n",
    "- нулевая гипотеза H0:  \n",
    "    среднее количество \"рекламных\" действий пользователя при схеме игры *победа над врагом* **равно** среднему количеству действий действий пользователя при схеме игры *реализация проекта*.\n",
    "- альтернативная гипотеза H1:  \n",
    "   среднее количество \"рекламных\" действий пользователя при схеме игры *победа над врагом* **не равно** среднему количеству действий действий пользователя при схеме игры *реализация проекта*.   "
   ]
  },
  {
   "cell_type": "code",
   "execution_count": null,
   "id": "efb9c1e2-0833-41a0-bd53-90fb74aabac0",
   "metadata": {},
   "outputs": [],
   "source": []
  },
  {
   "cell_type": "code",
   "execution_count": 66,
   "id": "f599be87-6bf3-4abf-b949-7ce59629407b",
   "metadata": {},
   "outputs": [
    {
     "data": {
      "text/plain": [
       "user_id\n",
       "006380d6-67a6-45de-ab1e-6eb54ad8dbe8    11\n",
       "00be7371-fa79-4fbd-b8e7-8ba32e3f8f82    12\n",
       "00c2b9f2-2615-439c-aed0-6974e4c6c1c1    11\n",
       "00de2809-403e-4476-a2f7-ca1b11700190    13\n",
       "00e83261-5fd4-4939-9616-802b5a0202c6    13\n",
       "Name: event, dtype: int64"
      ]
     },
     "execution_count": 66,
     "metadata": {},
     "output_type": "execute_result"
    }
   ],
   "source": [
    "event_finishers_builder = (\n",
    "    data_game_actions[\n",
    "        (data_game_actions[\"user_id\"].isin(finishers_builder))\n",
    "        & (data_game_actions[\"event\"] == \"building\")\n",
    "    ]\n",
    "    .groupby(\"user_id\")\n",
    "    .agg({\"event\": \"count\"})[\"event\"]\n",
    ")\n",
    "\n",
    "event_finishers_builder.head()"
   ]
  },
  {
   "cell_type": "code",
   "execution_count": 67,
   "id": "6d16927c-fe27-4fcb-a516-b6c6ef0af129",
   "metadata": {},
   "outputs": [
    {
     "data": {
      "text/plain": [
       "user_id\n",
       "001d39dc-366c-4021-9604-6a3b9ff01e25     8\n",
       "003ee7e8-6356-4286-a715-62f22a18d2a1     8\n",
       "004074f8-251a-4776-922c-8348dca1a2f6    12\n",
       "00464e5e-28ed-4be6-bf44-517ef7b3937b     8\n",
       "0056c007-c082-43cc-bdef-afc49bca4cb9     3\n",
       "Name: event, dtype: int64"
      ]
     },
     "execution_count": 67,
     "metadata": {},
     "output_type": "execute_result"
    }
   ],
   "source": [
    "event_finishers_warrior = (\n",
    "    data_game_actions[\n",
    "        (data_game_actions[\"user_id\"].isin(finishers_warrior))\n",
    "        & (data_game_actions[\"event\"] != \"finished_stage_1\")\n",
    "    ]\n",
    "    .groupby(\"user_id\")\n",
    "    .agg({\"event\": \"count\"})[\"event\"]\n",
    ")\n",
    "\n",
    "event_finishers_warrior.head()"
   ]
  },
  {
   "cell_type": "code",
   "execution_count": null,
   "id": "4024463f-a147-4813-ad5c-1a9079cd6cd1",
   "metadata": {},
   "outputs": [],
   "source": []
  },
  {
   "cell_type": "markdown",
   "id": "96b295df-b712-4850-935e-5a0740595ccd",
   "metadata": {},
   "source": [
    "Также перед проверкой и этих гипотез проверим распределение и дисперсии выборок:"
   ]
  },
  {
   "cell_type": "code",
   "execution_count": 68,
   "id": "96af325e-f5bd-4478-9bda-2b4751dce377",
   "metadata": {},
   "outputs": [],
   "source": [
    "var_builder_e = np.var(event_finishers_builder, ddof=1)\n",
    "var_warrior_e = np.var(event_finishers_warrior, ddof=1)"
   ]
  },
  {
   "cell_type": "code",
   "execution_count": 69,
   "id": "7393de58-99c4-4da9-ae3f-add5fedcc839",
   "metadata": {},
   "outputs": [
    {
     "name": "stdout",
     "output_type": "stream",
     "text": [
      "Дисперсии выборок: \n",
      " окончание первого уровня постройкой 4.676502331836245 \n",
      " окончание первого уровня победой 9.360717395692165\n"
     ]
    }
   ],
   "source": [
    "print(\n",
    "    f\"Дисперсии выборок: \\n окончание первого уровня постройкой {var_builder_e} \\n окончание первого уровня победой {var_warrior_e}\"\n",
    ")"
   ]
  },
  {
   "cell_type": "code",
   "execution_count": 70,
   "id": "102351df-575a-40c1-b338-226b843c3035",
   "metadata": {},
   "outputs": [],
   "source": [
    "# plt.figure(figsize=(8,5))\n",
    "# user_score_xone.plot.density(style='--', label='XOne')\n",
    "# user_score_pc.plot.density(style='-.', label='PC')\n",
    "# plt.legend()\n",
    "# plt.show()"
   ]
  },
  {
   "cell_type": "code",
   "execution_count": 71,
   "id": "cf4a5d09-a9aa-49ae-964b-eb06d6319bd2",
   "metadata": {},
   "outputs": [
    {
     "data": {
      "image/png": "[encoded data removed]",
      "text/plain": [
       "<Figure size 576x360 with 1 Axes>"
      ]
     },
     "metadata": {
      "needs_background": "light"
     },
     "output_type": "display_data"
    }
   ],
   "source": [
    "plt.figure(figsize=(8, 5))\n",
    "event_finishers_builder.plot.density(style=\"--\", label=\"builder\").legend()\n",
    "event_finishers_warrior.plot.density(style=\"-.\", label=\"warrior\").legend()\n",
    "plt.title(\"Распределение количества дней до завершения первого уровня\")\n",
    "plt.show()"
   ]
  },
  {
   "cell_type": "markdown",
   "id": "0b7b8241-f403-4906-8b46-6a936188664d",
   "metadata": {},
   "source": [
    "Дисперсии выборок не равны, их распределения близки к нормальным, однако у значений выборки победа заметны два пика."
   ]
  },
  {
   "cell_type": "code",
   "execution_count": null,
   "id": "ae01c6e7-fd41-4f81-8833-73263e9a0975",
   "metadata": {},
   "outputs": [],
   "source": []
  },
  {
   "cell_type": "code",
   "execution_count": 72,
   "id": "5b3eafd5-c983-41d6-bd53-e541d26f904c",
   "metadata": {},
   "outputs": [
    {
     "name": "stdout",
     "output_type": "stream",
     "text": [
      "p-значение:  0.0\n",
      "Отвергаем нулевую гипотезу\n"
     ]
    }
   ],
   "source": [
    "alpha = 0.05\n",
    "\n",
    "results = st.ttest_ind(\n",
    "    event_finishers_builder, event_finishers_warrior, equal_var=False\n",
    ")\n",
    "print(\"p-значение: \", results.pvalue)\n",
    "\n",
    "if results.pvalue < alpha:\n",
    "    print(\"Отвергаем нулевую гипотезу\")\n",
    "else:\n",
    "    print(\"Не получилось отвергнуть нулевую гипотезу\")"
   ]
  },
  {
   "cell_type": "code",
   "execution_count": null,
   "id": "5ab56296-51ba-42b9-b872-046ef9297177",
   "metadata": {},
   "outputs": [],
   "source": []
  },
  {
   "cell_type": "markdown",
   "id": "58a21f03-a4fe-48e8-bf2d-a75cbabb43c7",
   "metadata": {
    "tags": []
   },
   "source": [
    "Согласно полученному значению p-value (0.0) можно отвергнуть нулевую гипотезу.  \n",
    "\n",
    "Значение p-value значительно ниже критического уровеня статистической значимости (установлено для проверки этой гипотезы на уровне 0,05).  \n",
    "\n",
    "Таким образом альтернативная не отвергается - *среднее количество \"рекламных\" действий пользователя при схеме игры победа над врагом **не равно** среднему количеству действий действий пользователя при схеме игры реализация проекта.*"
   ]
  },
  {
   "cell_type": "code",
   "execution_count": null,
   "id": "df7da01b-eddc-48fb-b5ab-dd02bfe19236",
   "metadata": {},
   "outputs": [],
   "source": []
  },
  {
   "cell_type": "markdown",
   "id": "54c29d71-5295-470f-8e4f-5e229eba3572",
   "metadata": {},
   "source": [
    "## Вывод по проекту\n",
    "- текстовые выводы\n",
    "- подготовка презентации\n",
    "- подготовка дашбордов"
   ]
  },
  {
   "cell_type": "markdown",
   "id": "019e3680-085f-491a-88f9-37290e4a3307",
   "metadata": {},
   "source": [
    "По результатам произведенного исследования можно сделать следующие выводы:  \n",
    "\n",
    "**По количеству пользователей**:  \n",
    "- за период наблюдения 2020-06-05 - 2020-05-04 (31 день) в игре зарегистрировалось 13576 пользователя  \n",
    "- из них завершило первый уровень игры 5817 игроков (42.8% от всего числа игроков)  \n",
    "- 1866 человек завершило уровень постройкой  и 3951 человек победой над другим игроком (32% и 68% соответственно от завершивших первый уровень).\n",
    "\n",
    "\n",
    "**По количеству действий, совершенных пользователями**:  \n",
    "- среднее число действий игроков закончивших первый уровень в зависимости от когорты составляет от 11,3 до 7,9.\n",
    "- у незакончивших этот показатель составляет от 9,8 до 5,1.\n",
    "\n",
    "**По средней продолжительности игры в днях**:\n",
    "- у закончивших победой продолжительность составляет 10,5 дней при 9,4 совершенных действиях\n",
    "- у закончивших постройкой продолжительность составляет 12,9 дней при 13,6 совершенных действиях\n",
    "- у незакончивших уровень продолжительность составляет 9,7 дней при 8,7 совершенных действиях.\n",
    "\n",
    "**По источнику привлечения пользователей**\n",
    "- наибольшее число пользователей пришло с рекламного канала yandex (35.5%), \n",
    "- на втором месте instagram (24.7%), \n",
    "- каналы facebook и youtube делят третье место (20.1% и 19.8% соответственно).\n",
    "\n",
    "**По стоимости привлечения пользователей:**\n",
    "- каналы \"facebook_ads\" и \"instagram_new_adverts\" характеризуются более высокой стоимостью привлечения 1 пользователя и большей изменчивостью значения этого показателя в течение рекламной кампании.\n",
    "- каналы \"youtube_channel_reklama\" и \"yandex_direct\" напротив менее дорогие и стоимость привлечения изменяется слабо.  \n",
    "\n",
    "**По полученому доходу от рекламы:**\n",
    "- привлечение пользователей через канал 'facebook_ads' для всех когорт было убыточно. \n",
    "- каналы 'instagram_new_adverts' и 'yandex_direct' до когорты третьего и пятого дня показывали положительную доходность, хоть и со снижением по сравнению с когортой первого дня, однако в последствии также ушли ниже точки безубыточности. \n",
    "- реклама канала 'youtube_channel_reklama' показала наилучший результат - прибыльность выше точки безубыточности у всех когорт.\n",
    "\n",
    "В ходе анализа были проверены **две статистические гипотезы** :\n",
    "1. о равенстве / неравенстве времени, необходимое для завершения уровня победой над другим игроком и необходимому для завершения реализацией проекта\n",
    "2. о равенстве / неравенстве количество \"рекламных\" действий пользователя при схеме игры победа над врагом и при схеме игры реализация проекта.  \n",
    "\n",
    "В обеих гипотезах не были отвергнуты альтернативные гипотезы (о неравенстве показателей).  \n",
    "Количество построек и, как следствие, просмотров рекламных сообщений, пользователями выбравшими стратегию проекта больше, нежели у выбравших стратегию победы. Таким образом, для поддержания более \"длинного\" варианта прохождения игры необходимо предложить игрокам \"плюшки\". Введение условных \"штрафов\" за \"короткий\" путь может негативно отразится на лояльности к игре. \n",
    "\n",
    "Проведен анализ существующей **схемы монетизации проекта**:  \n",
    "Существующую сиситему монетизации приложения можно считать относительно успешной, т.к. каждый из активных пользователей хотя бы 1 раз в день просматривает рекламное сообщение. В стоимостном выражении сумма потраченная на рекламную кампанию, меньше суммы заработанной на рекламных показах в игре на 1353 единицы. Рентабельность действующей системы монетизации 17,8%. Невысокая окупаемость не позволяет разрабатывать схемы со снижением количества рекламных показов, во избежании получения убытка.\n",
    "\n",
    "В качестве вариантов дополнительных показов рекламы можно считать:\n",
    "- показа рекламы после завершения уровня не в зависимости от способа его завершения. На имеющихся данных это принесло бы 5817 показов (+ 4,5%) или 407 дополнительных единиц. \n",
    "- при повторном заходе в игру, в последующие дни после первого посещения (1 раз в день). На имеющихся данных это принесло бы 81625 показов (+64%). Дополнительные поступления составили бы 5713 единиц.  \n",
    "При действующей системе монетизации игрок видел рекламное сообщение в среднем 9,4 раза за игру, при дополнительных показах при ежедневном входе этот показатель увеличился бы до 15,4 раз за игру на первом уровне.\n",
    "\n",
    "Команде разработки необходимо передать обнаруженые проблемы с постройками типа 'assembly_shop', причины которых необходимо проанализировать глубже. Это негативно сказывается и на монетизации, т.к. выпадает одно из рекламных действий, так и возможно на удовлетворенности игрой (слабое удержание)."
   ]
  }
 ],
 "metadata": {
  "ExecuteTimeLog": [
   {
    "duration": 1811,
    "start_time": "2022-06-19T14:00:05.283Z"
   },
   {
    "duration": 1967,
    "start_time": "2022-06-19T14:00:07.100Z"
   },
   {
    "duration": 128,
    "start_time": "2022-06-19T14:00:09.074Z"
   },
   {
    "duration": 86,
    "start_time": "2022-06-19T14:00:09.205Z"
   },
   {
    "duration": 61,
    "start_time": "2022-06-19T14:00:09.293Z"
   },
   {
    "duration": 44,
    "start_time": "2022-06-19T14:00:09.357Z"
   },
   {
    "duration": 134,
    "start_time": "2022-06-19T14:00:09.403Z"
   },
   {
    "duration": 165,
    "start_time": "2022-06-19T14:00:09.545Z"
   },
   {
    "duration": 135,
    "start_time": "2022-06-19T14:00:09.712Z"
   },
   {
    "duration": 75,
    "start_time": "2022-06-19T14:00:09.850Z"
   },
   {
    "duration": 9,
    "start_time": "2022-06-19T14:00:09.927Z"
   },
   {
    "duration": 60,
    "start_time": "2022-06-19T14:00:09.939Z"
   },
   {
    "duration": 10,
    "start_time": "2022-06-19T14:00:10.002Z"
   },
   {
    "duration": 27,
    "start_time": "2022-06-19T14:00:10.014Z"
   },
   {
    "duration": 58,
    "start_time": "2022-06-19T14:00:10.043Z"
   },
   {
    "duration": 14,
    "start_time": "2022-06-19T14:00:10.104Z"
   },
   {
    "duration": 41,
    "start_time": "2022-06-19T14:00:10.120Z"
   },
   {
    "duration": 68,
    "start_time": "2022-06-19T14:00:10.163Z"
   },
   {
    "duration": 23,
    "start_time": "2022-06-19T14:00:10.233Z"
   },
   {
    "duration": 638,
    "start_time": "2022-06-19T14:00:10.257Z"
   },
   {
    "duration": 186,
    "start_time": "2022-06-19T14:00:10.898Z"
   },
   {
    "duration": 344,
    "start_time": "2022-06-19T14:00:11.086Z"
   },
   {
    "duration": 46,
    "start_time": "2022-06-19T14:00:11.436Z"
   },
   {
    "duration": 36,
    "start_time": "2022-06-19T14:00:11.485Z"
   },
   {
    "duration": 49,
    "start_time": "2022-06-19T14:00:11.529Z"
   },
   {
    "duration": 59,
    "start_time": "2022-06-19T14:00:11.581Z"
   },
   {
    "duration": 364,
    "start_time": "2022-06-19T14:00:11.649Z"
   },
   {
    "duration": 8,
    "start_time": "2022-06-19T14:00:12.032Z"
   },
   {
    "duration": 44,
    "start_time": "2022-06-19T14:00:12.044Z"
   },
   {
    "duration": 200,
    "start_time": "2022-06-19T14:00:12.090Z"
   },
   {
    "duration": 44,
    "start_time": "2022-06-19T14:00:12.292Z"
   },
   {
    "duration": 58,
    "start_time": "2022-06-19T14:00:12.342Z"
   },
   {
    "duration": 92,
    "start_time": "2022-06-19T14:00:12.403Z"
   },
   {
    "duration": 517,
    "start_time": "2022-06-19T14:00:12.498Z"
   },
   {
    "duration": 34,
    "start_time": "2022-06-19T14:00:13.018Z"
   },
   {
    "duration": 22,
    "start_time": "2022-06-19T14:00:13.060Z"
   },
   {
    "duration": 121,
    "start_time": "2022-06-19T14:00:13.084Z"
   },
   {
    "duration": 22,
    "start_time": "2022-06-19T14:00:13.207Z"
   },
   {
    "duration": 347,
    "start_time": "2022-06-19T14:00:13.235Z"
   },
   {
    "duration": 0,
    "start_time": "2022-06-19T14:00:13.584Z"
   },
   {
    "duration": 0,
    "start_time": "2022-06-19T14:00:13.585Z"
   },
   {
    "duration": 0,
    "start_time": "2022-06-19T14:00:13.586Z"
   },
   {
    "duration": 0,
    "start_time": "2022-06-19T14:00:13.587Z"
   },
   {
    "duration": 0,
    "start_time": "2022-06-19T14:00:13.588Z"
   },
   {
    "duration": 0,
    "start_time": "2022-06-19T14:00:13.589Z"
   },
   {
    "duration": 0,
    "start_time": "2022-06-19T14:00:13.590Z"
   },
   {
    "duration": 0,
    "start_time": "2022-06-19T14:00:13.591Z"
   },
   {
    "duration": 0,
    "start_time": "2022-06-19T14:00:13.593Z"
   },
   {
    "duration": 0,
    "start_time": "2022-06-19T14:00:13.594Z"
   },
   {
    "duration": 0,
    "start_time": "2022-06-19T14:00:13.595Z"
   },
   {
    "duration": 0,
    "start_time": "2022-06-19T14:00:13.596Z"
   },
   {
    "duration": 0,
    "start_time": "2022-06-19T14:00:13.598Z"
   },
   {
    "duration": 0,
    "start_time": "2022-06-19T14:00:13.599Z"
   },
   {
    "duration": 0,
    "start_time": "2022-06-19T14:00:13.629Z"
   },
   {
    "duration": 0,
    "start_time": "2022-06-19T14:00:13.629Z"
   },
   {
    "duration": 0,
    "start_time": "2022-06-19T14:00:13.630Z"
   },
   {
    "duration": 0,
    "start_time": "2022-06-19T14:00:13.631Z"
   },
   {
    "duration": 0,
    "start_time": "2022-06-19T14:00:13.632Z"
   },
   {
    "duration": 0,
    "start_time": "2022-06-19T14:00:13.634Z"
   },
   {
    "duration": 0,
    "start_time": "2022-06-19T14:00:13.635Z"
   },
   {
    "duration": 0,
    "start_time": "2022-06-19T14:00:13.635Z"
   },
   {
    "duration": 0,
    "start_time": "2022-06-19T14:00:13.641Z"
   },
   {
    "duration": 0,
    "start_time": "2022-06-19T14:00:13.642Z"
   },
   {
    "duration": 0,
    "start_time": "2022-06-19T14:00:13.643Z"
   },
   {
    "duration": 0,
    "start_time": "2022-06-19T14:00:13.644Z"
   },
   {
    "duration": 0,
    "start_time": "2022-06-19T14:00:13.645Z"
   },
   {
    "duration": 0,
    "start_time": "2022-06-19T14:00:13.646Z"
   },
   {
    "duration": 0,
    "start_time": "2022-06-19T14:00:13.647Z"
   },
   {
    "duration": 0,
    "start_time": "2022-06-19T14:00:13.648Z"
   },
   {
    "duration": 0,
    "start_time": "2022-06-19T14:00:13.648Z"
   },
   {
    "duration": 0,
    "start_time": "2022-06-19T14:00:13.649Z"
   },
   {
    "duration": 0,
    "start_time": "2022-06-19T14:00:13.650Z"
   },
   {
    "duration": 0,
    "start_time": "2022-06-19T14:00:13.651Z"
   },
   {
    "duration": 0,
    "start_time": "2022-06-19T14:00:13.652Z"
   },
   {
    "duration": 263,
    "start_time": "2022-06-19T14:02:33.184Z"
   },
   {
    "duration": 1249,
    "start_time": "2022-06-19T14:03:25.351Z"
   },
   {
    "duration": 296,
    "start_time": "2022-06-19T14:03:26.602Z"
   },
   {
    "duration": 97,
    "start_time": "2022-06-19T14:03:26.901Z"
   },
   {
    "duration": 49,
    "start_time": "2022-06-19T14:03:27.001Z"
   },
   {
    "duration": 62,
    "start_time": "2022-06-19T14:03:27.055Z"
   },
   {
    "duration": 24,
    "start_time": "2022-06-19T14:03:27.119Z"
   },
   {
    "duration": 92,
    "start_time": "2022-06-19T14:03:27.145Z"
   },
   {
    "duration": 92,
    "start_time": "2022-06-19T14:03:27.238Z"
   },
   {
    "duration": 81,
    "start_time": "2022-06-19T14:03:27.336Z"
   },
   {
    "duration": 80,
    "start_time": "2022-06-19T14:03:27.425Z"
   },
   {
    "duration": 25,
    "start_time": "2022-06-19T14:03:27.507Z"
   },
   {
    "duration": 11,
    "start_time": "2022-06-19T14:03:27.538Z"
   },
   {
    "duration": 25,
    "start_time": "2022-06-19T14:03:27.551Z"
   },
   {
    "duration": 21,
    "start_time": "2022-06-19T14:03:27.579Z"
   },
   {
    "duration": 4,
    "start_time": "2022-06-19T14:03:27.602Z"
   },
   {
    "duration": 8,
    "start_time": "2022-06-19T14:03:27.607Z"
   },
   {
    "duration": 54,
    "start_time": "2022-06-19T14:03:27.616Z"
   },
   {
    "duration": 61,
    "start_time": "2022-06-19T14:03:27.672Z"
   },
   {
    "duration": 34,
    "start_time": "2022-06-19T14:03:27.740Z"
   },
   {
    "duration": 541,
    "start_time": "2022-06-19T14:03:27.776Z"
   },
   {
    "duration": 109,
    "start_time": "2022-06-19T14:03:28.318Z"
   },
   {
    "duration": 229,
    "start_time": "2022-06-19T14:03:28.437Z"
   },
   {
    "duration": 29,
    "start_time": "2022-06-19T14:03:28.667Z"
   },
   {
    "duration": 37,
    "start_time": "2022-06-19T14:03:28.697Z"
   },
   {
    "duration": 39,
    "start_time": "2022-06-19T14:03:28.735Z"
   },
   {
    "duration": 70,
    "start_time": "2022-06-19T14:03:28.777Z"
   },
   {
    "duration": 248,
    "start_time": "2022-06-19T14:03:28.851Z"
   },
   {
    "duration": 6,
    "start_time": "2022-06-19T14:03:29.104Z"
   },
   {
    "duration": 15,
    "start_time": "2022-06-19T14:03:29.126Z"
   },
   {
    "duration": 138,
    "start_time": "2022-06-19T14:03:29.147Z"
   },
   {
    "duration": 17,
    "start_time": "2022-06-19T14:03:29.287Z"
   },
   {
    "duration": 56,
    "start_time": "2022-06-19T14:03:29.307Z"
   },
   {
    "duration": 71,
    "start_time": "2022-06-19T14:03:29.365Z"
   },
   {
    "duration": 271,
    "start_time": "2022-06-19T14:03:29.443Z"
   },
   {
    "duration": 29,
    "start_time": "2022-06-19T14:03:29.716Z"
   },
   {
    "duration": 21,
    "start_time": "2022-06-19T14:03:29.746Z"
   },
   {
    "duration": 118,
    "start_time": "2022-06-19T14:03:29.769Z"
   },
   {
    "duration": 13,
    "start_time": "2022-06-19T14:03:29.889Z"
   },
   {
    "duration": 264,
    "start_time": "2022-06-19T14:03:29.904Z"
   },
   {
    "duration": 152,
    "start_time": "2022-06-19T14:03:30.171Z"
   },
   {
    "duration": 390,
    "start_time": "2022-06-19T14:03:30.325Z"
   },
   {
    "duration": 173,
    "start_time": "2022-06-19T14:03:30.718Z"
   },
   {
    "duration": 20,
    "start_time": "2022-06-19T14:03:30.894Z"
   },
   {
    "duration": 51,
    "start_time": "2022-06-19T14:03:30.928Z"
   },
   {
    "duration": 32,
    "start_time": "2022-06-19T14:03:30.981Z"
   },
   {
    "duration": 143,
    "start_time": "2022-06-19T14:03:31.015Z"
   },
   {
    "duration": 30,
    "start_time": "2022-06-19T14:03:31.168Z"
   },
   {
    "duration": 19,
    "start_time": "2022-06-19T14:03:31.199Z"
   },
   {
    "duration": 301,
    "start_time": "2022-06-19T14:03:31.220Z"
   },
   {
    "duration": 384,
    "start_time": "2022-06-19T14:03:31.522Z"
   },
   {
    "duration": 5,
    "start_time": "2022-06-19T14:03:31.908Z"
   },
   {
    "duration": 82,
    "start_time": "2022-06-19T14:03:31.926Z"
   },
   {
    "duration": 1340,
    "start_time": "2022-06-19T14:03:32.011Z"
   },
   {
    "duration": 56,
    "start_time": "2022-06-19T14:03:33.358Z"
   },
   {
    "duration": 12,
    "start_time": "2022-06-19T14:03:33.416Z"
   },
   {
    "duration": 98,
    "start_time": "2022-06-19T14:03:33.437Z"
   },
   {
    "duration": 15,
    "start_time": "2022-06-19T14:03:33.538Z"
   },
   {
    "duration": 22,
    "start_time": "2022-06-19T14:03:33.555Z"
   },
   {
    "duration": 67,
    "start_time": "2022-06-19T14:03:33.580Z"
   },
   {
    "duration": 21,
    "start_time": "2022-06-19T14:03:33.648Z"
   },
   {
    "duration": 280,
    "start_time": "2022-06-19T14:03:33.671Z"
   },
   {
    "duration": 62,
    "start_time": "2022-06-19T14:03:33.953Z"
   },
   {
    "duration": 31,
    "start_time": "2022-06-19T14:03:34.017Z"
   },
   {
    "duration": 41,
    "start_time": "2022-06-19T14:03:34.049Z"
   },
   {
    "duration": 10,
    "start_time": "2022-06-19T14:03:34.092Z"
   },
   {
    "duration": 4,
    "start_time": "2022-06-19T14:03:34.104Z"
   },
   {
    "duration": 286,
    "start_time": "2022-06-19T14:03:34.110Z"
   },
   {
    "duration": 6,
    "start_time": "2022-06-19T14:03:34.399Z"
   },
   {
    "duration": 50,
    "start_time": "2022-06-19T14:03:34.408Z"
   },
   {
    "duration": 32,
    "start_time": "2022-06-19T14:03:34.463Z"
   },
   {
    "duration": 3,
    "start_time": "2022-06-19T14:03:34.497Z"
   },
   {
    "duration": 7,
    "start_time": "2022-06-19T14:03:34.502Z"
   },
   {
    "duration": 272,
    "start_time": "2022-06-19T14:03:34.510Z"
   },
   {
    "duration": 8,
    "start_time": "2022-06-19T14:03:34.784Z"
   },
   {
    "duration": 1128,
    "start_time": "2022-06-19T17:16:43.862Z"
   },
   {
    "duration": 270,
    "start_time": "2022-06-19T17:16:44.992Z"
   },
   {
    "duration": 79,
    "start_time": "2022-06-19T17:16:45.264Z"
   },
   {
    "duration": 35,
    "start_time": "2022-06-19T17:16:45.346Z"
   },
   {
    "duration": 71,
    "start_time": "2022-06-19T17:16:45.383Z"
   },
   {
    "duration": 14,
    "start_time": "2022-06-19T17:16:45.470Z"
   },
   {
    "duration": 74,
    "start_time": "2022-06-19T17:16:45.487Z"
   },
   {
    "duration": 95,
    "start_time": "2022-06-19T17:16:45.563Z"
   },
   {
    "duration": 82,
    "start_time": "2022-06-19T17:16:45.660Z"
   },
   {
    "duration": 54,
    "start_time": "2022-06-19T17:16:45.747Z"
   },
   {
    "duration": 6,
    "start_time": "2022-06-19T17:16:45.802Z"
   },
   {
    "duration": 30,
    "start_time": "2022-06-19T17:16:45.810Z"
   },
   {
    "duration": 12,
    "start_time": "2022-06-19T17:16:45.842Z"
   },
   {
    "duration": 17,
    "start_time": "2022-06-19T17:16:45.856Z"
   },
   {
    "duration": 4,
    "start_time": "2022-06-19T17:16:45.874Z"
   },
   {
    "duration": 40,
    "start_time": "2022-06-19T17:16:45.879Z"
   },
   {
    "duration": 78,
    "start_time": "2022-06-19T17:16:45.921Z"
   },
   {
    "duration": 51,
    "start_time": "2022-06-19T17:16:46.001Z"
   },
   {
    "duration": 14,
    "start_time": "2022-06-19T17:16:46.054Z"
   },
   {
    "duration": 511,
    "start_time": "2022-06-19T17:16:46.070Z"
   },
   {
    "duration": 136,
    "start_time": "2022-06-19T17:16:46.583Z"
   },
   {
    "duration": 267,
    "start_time": "2022-06-19T17:16:46.721Z"
   },
   {
    "duration": 39,
    "start_time": "2022-06-19T17:16:46.990Z"
   },
   {
    "duration": 25,
    "start_time": "2022-06-19T17:16:47.030Z"
   },
   {
    "duration": 17,
    "start_time": "2022-06-19T17:16:47.057Z"
   },
   {
    "duration": 65,
    "start_time": "2022-06-19T17:16:47.076Z"
   },
   {
    "duration": 223,
    "start_time": "2022-06-19T17:16:47.143Z"
   },
   {
    "duration": 5,
    "start_time": "2022-06-19T17:16:47.370Z"
   },
   {
    "duration": 17,
    "start_time": "2022-06-19T17:16:47.376Z"
   },
   {
    "duration": 147,
    "start_time": "2022-06-19T17:16:47.395Z"
   },
   {
    "duration": 28,
    "start_time": "2022-06-19T17:16:47.545Z"
   },
   {
    "duration": 36,
    "start_time": "2022-06-19T17:16:47.575Z"
   },
   {
    "duration": 59,
    "start_time": "2022-06-19T17:16:47.628Z"
   },
   {
    "duration": 288,
    "start_time": "2022-06-19T17:16:47.689Z"
   },
   {
    "duration": 12,
    "start_time": "2022-06-19T17:16:47.978Z"
   },
   {
    "duration": 7,
    "start_time": "2022-06-19T17:16:47.992Z"
   },
   {
    "duration": 141,
    "start_time": "2022-06-19T17:16:48.002Z"
   },
   {
    "duration": 11,
    "start_time": "2022-06-19T17:16:48.145Z"
   },
   {
    "duration": 230,
    "start_time": "2022-06-19T17:16:48.158Z"
   },
   {
    "duration": 159,
    "start_time": "2022-06-19T17:16:48.390Z"
   },
   {
    "duration": 353,
    "start_time": "2022-06-19T17:16:48.551Z"
   },
   {
    "duration": 149,
    "start_time": "2022-06-19T17:16:48.906Z"
   },
   {
    "duration": 17,
    "start_time": "2022-06-19T17:16:49.057Z"
   },
   {
    "duration": 13,
    "start_time": "2022-06-19T17:16:49.075Z"
   },
   {
    "duration": 52,
    "start_time": "2022-06-19T17:16:49.090Z"
   },
   {
    "duration": 103,
    "start_time": "2022-06-19T17:16:49.144Z"
   },
   {
    "duration": 41,
    "start_time": "2022-06-19T17:16:49.249Z"
   },
   {
    "duration": 12,
    "start_time": "2022-06-19T17:16:49.292Z"
   },
   {
    "duration": 270,
    "start_time": "2022-06-19T17:16:49.306Z"
   },
   {
    "duration": 364,
    "start_time": "2022-06-19T17:16:49.578Z"
   },
   {
    "duration": 5,
    "start_time": "2022-06-19T17:16:49.943Z"
   },
   {
    "duration": 56,
    "start_time": "2022-06-19T17:16:49.950Z"
   },
   {
    "duration": 1195,
    "start_time": "2022-06-19T17:16:50.008Z"
   },
   {
    "duration": 45,
    "start_time": "2022-06-19T17:16:51.205Z"
   },
   {
    "duration": 14,
    "start_time": "2022-06-19T17:16:51.252Z"
   },
   {
    "duration": 57,
    "start_time": "2022-06-19T17:16:51.268Z"
   },
   {
    "duration": 16,
    "start_time": "2022-06-19T17:16:51.330Z"
   },
   {
    "duration": 17,
    "start_time": "2022-06-19T17:16:51.348Z"
   },
   {
    "duration": 84,
    "start_time": "2022-06-19T17:16:51.366Z"
   },
   {
    "duration": 22,
    "start_time": "2022-06-19T17:16:51.453Z"
   },
   {
    "duration": 333,
    "start_time": "2022-06-19T17:16:51.478Z"
   },
   {
    "duration": 63,
    "start_time": "2022-06-19T17:16:51.813Z"
   },
   {
    "duration": 20,
    "start_time": "2022-06-19T17:16:51.878Z"
   },
   {
    "duration": 30,
    "start_time": "2022-06-19T17:16:51.899Z"
   },
   {
    "duration": 8,
    "start_time": "2022-06-19T17:16:51.942Z"
   },
   {
    "duration": 6,
    "start_time": "2022-06-19T17:16:51.952Z"
   },
   {
    "duration": 246,
    "start_time": "2022-06-19T17:16:51.960Z"
   },
   {
    "duration": 21,
    "start_time": "2022-06-19T17:16:52.208Z"
   },
   {
    "duration": 37,
    "start_time": "2022-06-19T17:16:52.239Z"
   },
   {
    "duration": 35,
    "start_time": "2022-06-19T17:16:52.278Z"
   },
   {
    "duration": 6,
    "start_time": "2022-06-19T17:16:52.325Z"
   },
   {
    "duration": 17,
    "start_time": "2022-06-19T17:16:52.334Z"
   },
   {
    "duration": 250,
    "start_time": "2022-06-19T17:16:52.354Z"
   },
   {
    "duration": 5,
    "start_time": "2022-06-19T17:16:52.607Z"
   },
   {
    "duration": 52,
    "start_time": "2022-06-19T19:44:50.301Z"
   },
   {
    "duration": 55,
    "start_time": "2022-06-19T19:44:56.753Z"
   },
   {
    "duration": 1478,
    "start_time": "2022-06-19T19:45:04.887Z"
   },
   {
    "duration": 919,
    "start_time": "2022-06-19T19:45:06.368Z"
   },
   {
    "duration": 78,
    "start_time": "2022-06-19T19:45:07.289Z"
   },
   {
    "duration": 45,
    "start_time": "2022-06-19T19:45:07.369Z"
   },
   {
    "duration": 56,
    "start_time": "2022-06-19T19:45:07.417Z"
   },
   {
    "duration": 14,
    "start_time": "2022-06-19T19:45:07.474Z"
   },
   {
    "duration": 84,
    "start_time": "2022-06-19T19:45:07.490Z"
   },
   {
    "duration": 101,
    "start_time": "2022-06-19T19:45:07.576Z"
   },
   {
    "duration": 90,
    "start_time": "2022-06-19T19:45:07.679Z"
   },
   {
    "duration": 47,
    "start_time": "2022-06-19T19:45:07.771Z"
   },
   {
    "duration": 22,
    "start_time": "2022-06-19T19:45:07.820Z"
   },
   {
    "duration": 10,
    "start_time": "2022-06-19T19:45:07.844Z"
   },
   {
    "duration": 10,
    "start_time": "2022-06-19T19:45:07.856Z"
   },
   {
    "duration": 18,
    "start_time": "2022-06-19T19:45:07.869Z"
   },
   {
    "duration": 4,
    "start_time": "2022-06-19T19:45:07.890Z"
   },
   {
    "duration": 10,
    "start_time": "2022-06-19T19:45:07.896Z"
   },
   {
    "duration": 27,
    "start_time": "2022-06-19T19:45:07.942Z"
   },
   {
    "duration": 72,
    "start_time": "2022-06-19T19:45:07.971Z"
   },
   {
    "duration": 16,
    "start_time": "2022-06-19T19:45:08.045Z"
   },
   {
    "duration": 493,
    "start_time": "2022-06-19T19:45:08.063Z"
   },
   {
    "duration": 109,
    "start_time": "2022-06-19T19:45:08.558Z"
   },
   {
    "duration": 248,
    "start_time": "2022-06-19T19:45:08.669Z"
   },
   {
    "duration": 36,
    "start_time": "2022-06-19T19:45:08.919Z"
   },
   {
    "duration": 22,
    "start_time": "2022-06-19T19:45:08.957Z"
   },
   {
    "duration": 17,
    "start_time": "2022-06-19T19:45:08.981Z"
   },
   {
    "duration": 62,
    "start_time": "2022-06-19T19:45:09.000Z"
   },
   {
    "duration": 244,
    "start_time": "2022-06-19T19:45:09.064Z"
   },
   {
    "duration": 5,
    "start_time": "2022-06-19T19:45:09.310Z"
   },
   {
    "duration": 28,
    "start_time": "2022-06-19T19:45:09.317Z"
   },
   {
    "duration": 132,
    "start_time": "2022-06-19T19:45:09.347Z"
   },
   {
    "duration": 18,
    "start_time": "2022-06-19T19:45:09.481Z"
   },
   {
    "duration": 59,
    "start_time": "2022-06-19T19:45:09.501Z"
   },
   {
    "duration": 55,
    "start_time": "2022-06-19T19:45:09.561Z"
   },
   {
    "duration": 275,
    "start_time": "2022-06-19T19:45:09.618Z"
   },
   {
    "duration": 11,
    "start_time": "2022-06-19T19:45:09.895Z"
   },
   {
    "duration": 6,
    "start_time": "2022-06-19T19:45:09.908Z"
   },
   {
    "duration": 125,
    "start_time": "2022-06-19T19:45:09.916Z"
   },
   {
    "duration": 17,
    "start_time": "2022-06-19T19:45:10.043Z"
   },
   {
    "duration": 267,
    "start_time": "2022-06-19T19:45:10.063Z"
   },
   {
    "duration": 164,
    "start_time": "2022-06-19T19:45:10.332Z"
   },
   {
    "duration": 399,
    "start_time": "2022-06-19T19:45:10.500Z"
   },
   {
    "duration": 156,
    "start_time": "2022-06-19T19:45:10.901Z"
   },
   {
    "duration": 132,
    "start_time": "2022-06-19T19:45:11.059Z"
   },
   {
    "duration": 0,
    "start_time": "2022-06-19T19:45:11.193Z"
   },
   {
    "duration": 0,
    "start_time": "2022-06-19T19:45:11.194Z"
   },
   {
    "duration": 0,
    "start_time": "2022-06-19T19:45:11.195Z"
   },
   {
    "duration": 0,
    "start_time": "2022-06-19T19:45:11.196Z"
   },
   {
    "duration": 0,
    "start_time": "2022-06-19T19:45:11.197Z"
   },
   {
    "duration": 0,
    "start_time": "2022-06-19T19:45:11.198Z"
   },
   {
    "duration": 0,
    "start_time": "2022-06-19T19:45:11.200Z"
   },
   {
    "duration": 0,
    "start_time": "2022-06-19T19:45:11.201Z"
   },
   {
    "duration": 0,
    "start_time": "2022-06-19T19:45:11.202Z"
   },
   {
    "duration": 0,
    "start_time": "2022-06-19T19:45:11.203Z"
   },
   {
    "duration": 0,
    "start_time": "2022-06-19T19:45:11.204Z"
   },
   {
    "duration": 0,
    "start_time": "2022-06-19T19:45:11.205Z"
   },
   {
    "duration": 0,
    "start_time": "2022-06-19T19:45:11.206Z"
   },
   {
    "duration": 0,
    "start_time": "2022-06-19T19:45:11.207Z"
   },
   {
    "duration": 0,
    "start_time": "2022-06-19T19:45:11.208Z"
   },
   {
    "duration": 0,
    "start_time": "2022-06-19T19:45:11.209Z"
   },
   {
    "duration": 0,
    "start_time": "2022-06-19T19:45:11.210Z"
   },
   {
    "duration": 0,
    "start_time": "2022-06-19T19:45:11.211Z"
   },
   {
    "duration": 0,
    "start_time": "2022-06-19T19:45:11.242Z"
   },
   {
    "duration": 0,
    "start_time": "2022-06-19T19:45:11.244Z"
   },
   {
    "duration": 0,
    "start_time": "2022-06-19T19:45:11.246Z"
   },
   {
    "duration": 0,
    "start_time": "2022-06-19T19:45:11.248Z"
   },
   {
    "duration": 0,
    "start_time": "2022-06-19T19:45:11.249Z"
   },
   {
    "duration": 0,
    "start_time": "2022-06-19T19:45:11.250Z"
   },
   {
    "duration": 0,
    "start_time": "2022-06-19T19:45:11.252Z"
   },
   {
    "duration": 0,
    "start_time": "2022-06-19T19:45:11.253Z"
   },
   {
    "duration": 0,
    "start_time": "2022-06-19T19:45:11.254Z"
   },
   {
    "duration": 0,
    "start_time": "2022-06-19T19:45:11.256Z"
   },
   {
    "duration": 0,
    "start_time": "2022-06-19T19:45:11.257Z"
   },
   {
    "duration": 0,
    "start_time": "2022-06-19T19:45:11.258Z"
   },
   {
    "duration": 0,
    "start_time": "2022-06-19T19:45:11.259Z"
   },
   {
    "duration": 0,
    "start_time": "2022-06-19T19:45:11.260Z"
   },
   {
    "duration": 32,
    "start_time": "2022-06-19T19:45:31.196Z"
   },
   {
    "duration": 12,
    "start_time": "2022-06-19T19:45:43.856Z"
   },
   {
    "duration": 204,
    "start_time": "2022-06-19T19:45:46.940Z"
   },
   {
    "duration": 155,
    "start_time": "2022-06-19T19:45:53.380Z"
   },
   {
    "duration": 1236,
    "start_time": "2022-06-19T19:46:10.642Z"
   },
   {
    "duration": 281,
    "start_time": "2022-06-19T19:46:11.881Z"
   },
   {
    "duration": 78,
    "start_time": "2022-06-19T19:46:12.164Z"
   },
   {
    "duration": 38,
    "start_time": "2022-06-19T19:46:12.243Z"
   },
   {
    "duration": 40,
    "start_time": "2022-06-19T19:46:12.283Z"
   },
   {
    "duration": 11,
    "start_time": "2022-06-19T19:46:12.342Z"
   },
   {
    "duration": 101,
    "start_time": "2022-06-19T19:46:12.354Z"
   },
   {
    "duration": 162,
    "start_time": "2022-06-19T19:46:12.458Z"
   },
   {
    "duration": 91,
    "start_time": "2022-06-19T19:46:12.623Z"
   },
   {
    "duration": 58,
    "start_time": "2022-06-19T19:46:12.716Z"
   },
   {
    "duration": 7,
    "start_time": "2022-06-19T19:46:12.776Z"
   },
   {
    "duration": 16,
    "start_time": "2022-06-19T19:46:12.785Z"
   },
   {
    "duration": 9,
    "start_time": "2022-06-19T19:46:12.803Z"
   },
   {
    "duration": 40,
    "start_time": "2022-06-19T19:46:12.815Z"
   },
   {
    "duration": 4,
    "start_time": "2022-06-19T19:46:12.857Z"
   },
   {
    "duration": 8,
    "start_time": "2022-06-19T19:46:12.862Z"
   },
   {
    "duration": 28,
    "start_time": "2022-06-19T19:46:12.871Z"
   },
   {
    "duration": 78,
    "start_time": "2022-06-19T19:46:12.901Z"
   },
   {
    "duration": 16,
    "start_time": "2022-06-19T19:46:12.981Z"
   },
   {
    "duration": 482,
    "start_time": "2022-06-19T19:46:12.999Z"
   },
   {
    "duration": 117,
    "start_time": "2022-06-19T19:46:13.483Z"
   },
   {
    "duration": 252,
    "start_time": "2022-06-19T19:46:13.602Z"
   },
   {
    "duration": 31,
    "start_time": "2022-06-19T19:46:13.856Z"
   },
   {
    "duration": 20,
    "start_time": "2022-06-19T19:46:13.889Z"
   },
   {
    "duration": 35,
    "start_time": "2022-06-19T19:46:13.910Z"
   },
   {
    "duration": 33,
    "start_time": "2022-06-19T19:46:13.947Z"
   },
   {
    "duration": 263,
    "start_time": "2022-06-19T19:46:13.982Z"
   },
   {
    "duration": 6,
    "start_time": "2022-06-19T19:46:14.247Z"
   },
   {
    "duration": 15,
    "start_time": "2022-06-19T19:46:14.255Z"
   },
   {
    "duration": 146,
    "start_time": "2022-06-19T19:46:14.272Z"
   },
   {
    "duration": 30,
    "start_time": "2022-06-19T19:46:14.420Z"
   },
   {
    "duration": 50,
    "start_time": "2022-06-19T19:46:14.452Z"
   },
   {
    "duration": 82,
    "start_time": "2022-06-19T19:46:14.504Z"
   },
   {
    "duration": 271,
    "start_time": "2022-06-19T19:46:14.588Z"
   },
   {
    "duration": 11,
    "start_time": "2022-06-19T19:46:14.861Z"
   },
   {
    "duration": 15,
    "start_time": "2022-06-19T19:46:14.873Z"
   },
   {
    "duration": 116,
    "start_time": "2022-06-19T19:46:14.889Z"
   },
   {
    "duration": 21,
    "start_time": "2022-06-19T19:46:15.007Z"
   },
   {
    "duration": 222,
    "start_time": "2022-06-19T19:46:15.030Z"
   },
   {
    "duration": 156,
    "start_time": "2022-06-19T19:46:15.254Z"
   },
   {
    "duration": 379,
    "start_time": "2022-06-19T19:46:15.418Z"
   },
   {
    "duration": 156,
    "start_time": "2022-06-19T19:46:15.799Z"
   },
   {
    "duration": 25,
    "start_time": "2022-06-19T19:46:15.957Z"
   },
   {
    "duration": 18,
    "start_time": "2022-06-19T19:46:15.985Z"
   },
   {
    "duration": 44,
    "start_time": "2022-06-19T19:46:16.005Z"
   },
   {
    "duration": 122,
    "start_time": "2022-06-19T19:46:16.051Z"
   },
   {
    "duration": 30,
    "start_time": "2022-06-19T19:46:16.174Z"
   },
   {
    "duration": 12,
    "start_time": "2022-06-19T19:46:16.206Z"
   },
   {
    "duration": 263,
    "start_time": "2022-06-19T19:46:16.241Z"
   },
   {
    "duration": 390,
    "start_time": "2022-06-19T19:46:16.506Z"
   },
   {
    "duration": 7,
    "start_time": "2022-06-19T19:46:16.898Z"
   },
   {
    "duration": 129,
    "start_time": "2022-06-19T19:46:16.907Z"
   },
   {
    "duration": 1338,
    "start_time": "2022-06-19T19:46:17.039Z"
   },
   {
    "duration": 42,
    "start_time": "2022-06-19T19:46:18.380Z"
   },
   {
    "duration": 9,
    "start_time": "2022-06-19T19:46:18.424Z"
   },
   {
    "duration": 78,
    "start_time": "2022-06-19T19:46:18.435Z"
   },
   {
    "duration": 8,
    "start_time": "2022-06-19T19:46:18.515Z"
   },
   {
    "duration": 23,
    "start_time": "2022-06-19T19:46:18.525Z"
   },
   {
    "duration": 81,
    "start_time": "2022-06-19T19:46:18.550Z"
   },
   {
    "duration": 22,
    "start_time": "2022-06-19T19:46:18.633Z"
   },
   {
    "duration": 283,
    "start_time": "2022-06-19T19:46:18.657Z"
   },
   {
    "duration": 54,
    "start_time": "2022-06-19T19:46:18.942Z"
   },
   {
    "duration": 45,
    "start_time": "2022-06-19T19:46:18.998Z"
   },
   {
    "duration": 4,
    "start_time": "2022-06-19T19:46:19.045Z"
   },
   {
    "duration": 33,
    "start_time": "2022-06-19T19:46:19.051Z"
   },
   {
    "duration": 26,
    "start_time": "2022-06-19T19:46:19.085Z"
   },
   {
    "duration": 258,
    "start_time": "2022-06-19T19:46:19.113Z"
   },
   {
    "duration": 6,
    "start_time": "2022-06-19T19:46:19.373Z"
   },
   {
    "duration": 56,
    "start_time": "2022-06-19T19:46:19.381Z"
   },
   {
    "duration": 37,
    "start_time": "2022-06-19T19:46:19.439Z"
   },
   {
    "duration": 3,
    "start_time": "2022-06-19T19:46:19.478Z"
   },
   {
    "duration": 29,
    "start_time": "2022-06-19T19:46:19.483Z"
   },
   {
    "duration": 294,
    "start_time": "2022-06-19T19:46:19.514Z"
   },
   {
    "duration": 7,
    "start_time": "2022-06-19T19:46:19.810Z"
   },
   {
    "duration": 36,
    "start_time": "2022-06-19T20:22:51.975Z"
   },
   {
    "duration": 51,
    "start_time": "2022-06-19T20:23:00.744Z"
   },
   {
    "duration": 60,
    "start_time": "2022-06-19T20:23:17.984Z"
   },
   {
    "duration": 1433,
    "start_time": "2022-06-19T20:40:00.818Z"
   },
   {
    "duration": 315,
    "start_time": "2022-06-19T20:40:02.254Z"
   },
   {
    "duration": 70,
    "start_time": "2022-06-19T20:40:02.571Z"
   },
   {
    "duration": 47,
    "start_time": "2022-06-19T20:40:02.644Z"
   },
   {
    "duration": 62,
    "start_time": "2022-06-19T20:40:02.693Z"
   },
   {
    "duration": 11,
    "start_time": "2022-06-19T20:40:02.757Z"
   },
   {
    "duration": 99,
    "start_time": "2022-06-19T20:40:02.770Z"
   },
   {
    "duration": 110,
    "start_time": "2022-06-19T20:40:02.871Z"
   },
   {
    "duration": 85,
    "start_time": "2022-06-19T20:40:02.983Z"
   },
   {
    "duration": 47,
    "start_time": "2022-06-19T20:40:03.071Z"
   },
   {
    "duration": 6,
    "start_time": "2022-06-19T20:40:03.120Z"
   },
   {
    "duration": 24,
    "start_time": "2022-06-19T20:40:03.128Z"
   },
   {
    "duration": 21,
    "start_time": "2022-06-19T20:40:03.155Z"
   },
   {
    "duration": 21,
    "start_time": "2022-06-19T20:40:03.178Z"
   },
   {
    "duration": 4,
    "start_time": "2022-06-19T20:40:03.201Z"
   },
   {
    "duration": 10,
    "start_time": "2022-06-19T20:40:03.207Z"
   },
   {
    "duration": 49,
    "start_time": "2022-06-19T20:40:03.219Z"
   },
   {
    "duration": 73,
    "start_time": "2022-06-19T20:40:03.270Z"
   },
   {
    "duration": 24,
    "start_time": "2022-06-19T20:40:03.345Z"
   },
   {
    "duration": 545,
    "start_time": "2022-06-19T20:40:03.371Z"
   },
   {
    "duration": 129,
    "start_time": "2022-06-19T20:40:03.918Z"
   },
   {
    "duration": 262,
    "start_time": "2022-06-19T20:40:04.050Z"
   },
   {
    "duration": 51,
    "start_time": "2022-06-19T20:40:04.314Z"
   },
   {
    "duration": 20,
    "start_time": "2022-06-19T20:40:04.367Z"
   },
   {
    "duration": 18,
    "start_time": "2022-06-19T20:40:04.388Z"
   },
   {
    "duration": 63,
    "start_time": "2022-06-19T20:40:04.407Z"
   },
   {
    "duration": 258,
    "start_time": "2022-06-19T20:40:04.471Z"
   },
   {
    "duration": 10,
    "start_time": "2022-06-19T20:40:04.733Z"
   },
   {
    "duration": 31,
    "start_time": "2022-06-19T20:40:04.745Z"
   },
   {
    "duration": 135,
    "start_time": "2022-06-19T20:40:04.779Z"
   },
   {
    "duration": 34,
    "start_time": "2022-06-19T20:40:04.916Z"
   },
   {
    "duration": 53,
    "start_time": "2022-06-19T20:40:04.959Z"
   },
   {
    "duration": 78,
    "start_time": "2022-06-19T20:40:05.014Z"
   },
   {
    "duration": 318,
    "start_time": "2022-06-19T20:40:05.094Z"
   },
   {
    "duration": 12,
    "start_time": "2022-06-19T20:40:05.414Z"
   },
   {
    "duration": 16,
    "start_time": "2022-06-19T20:40:05.428Z"
   },
   {
    "duration": 136,
    "start_time": "2022-06-19T20:40:05.446Z"
   },
   {
    "duration": 11,
    "start_time": "2022-06-19T20:40:05.584Z"
   },
   {
    "duration": 238,
    "start_time": "2022-06-19T20:40:05.596Z"
   },
   {
    "duration": 187,
    "start_time": "2022-06-19T20:40:05.836Z"
   },
   {
    "duration": 370,
    "start_time": "2022-06-19T20:40:06.025Z"
   },
   {
    "duration": 145,
    "start_time": "2022-06-19T20:40:06.397Z"
   },
   {
    "duration": 19,
    "start_time": "2022-06-19T20:40:06.544Z"
   },
   {
    "duration": 13,
    "start_time": "2022-06-19T20:40:06.565Z"
   },
   {
    "duration": 19,
    "start_time": "2022-06-19T20:40:06.580Z"
   },
   {
    "duration": 149,
    "start_time": "2022-06-19T20:40:06.601Z"
   },
   {
    "duration": 33,
    "start_time": "2022-06-19T20:40:06.755Z"
   },
   {
    "duration": 20,
    "start_time": "2022-06-19T20:40:06.790Z"
   },
   {
    "duration": 296,
    "start_time": "2022-06-19T20:40:06.812Z"
   },
   {
    "duration": 172,
    "start_time": "2022-06-19T20:40:07.110Z"
   },
   {
    "duration": 354,
    "start_time": "2022-06-19T20:40:07.284Z"
   },
   {
    "duration": 5,
    "start_time": "2022-06-19T20:40:07.642Z"
   },
   {
    "duration": 72,
    "start_time": "2022-06-19T20:40:07.648Z"
   },
   {
    "duration": 1300,
    "start_time": "2022-06-19T20:40:07.722Z"
   },
   {
    "duration": 48,
    "start_time": "2022-06-19T20:40:09.023Z"
   },
   {
    "duration": 9,
    "start_time": "2022-06-19T20:40:09.073Z"
   },
   {
    "duration": 48,
    "start_time": "2022-06-19T20:40:09.084Z"
   },
   {
    "duration": 11,
    "start_time": "2022-06-19T20:40:09.142Z"
   },
   {
    "duration": 21,
    "start_time": "2022-06-19T20:40:09.155Z"
   },
   {
    "duration": 76,
    "start_time": "2022-06-19T20:40:09.178Z"
   },
   {
    "duration": 24,
    "start_time": "2022-06-19T20:40:09.256Z"
   },
   {
    "duration": 299,
    "start_time": "2022-06-19T20:40:09.282Z"
   },
   {
    "duration": 65,
    "start_time": "2022-06-19T20:40:09.583Z"
   },
   {
    "duration": 25,
    "start_time": "2022-06-19T20:40:09.650Z"
   },
   {
    "duration": 3,
    "start_time": "2022-06-19T20:40:09.677Z"
   },
   {
    "duration": 5,
    "start_time": "2022-06-19T20:40:09.682Z"
   },
   {
    "duration": 11,
    "start_time": "2022-06-19T20:40:09.689Z"
   },
   {
    "duration": 302,
    "start_time": "2022-06-19T20:40:09.702Z"
   },
   {
    "duration": 5,
    "start_time": "2022-06-19T20:40:10.006Z"
   },
   {
    "duration": 50,
    "start_time": "2022-06-19T20:40:10.013Z"
   },
   {
    "duration": 45,
    "start_time": "2022-06-19T20:40:10.065Z"
   },
   {
    "duration": 3,
    "start_time": "2022-06-19T20:40:10.112Z"
   },
   {
    "duration": 28,
    "start_time": "2022-06-19T20:40:10.118Z"
   },
   {
    "duration": 285,
    "start_time": "2022-06-19T20:40:10.148Z"
   },
   {
    "duration": 10,
    "start_time": "2022-06-19T20:40:10.434Z"
   },
   {
    "duration": 1545,
    "start_time": "2022-06-20T16:22:47.129Z"
   },
   {
    "duration": 1030,
    "start_time": "2022-06-20T16:22:48.676Z"
   },
   {
    "duration": 75,
    "start_time": "2022-06-20T16:22:49.708Z"
   },
   {
    "duration": 38,
    "start_time": "2022-06-20T16:22:49.785Z"
   },
   {
    "duration": 59,
    "start_time": "2022-06-20T16:22:49.825Z"
   },
   {
    "duration": 14,
    "start_time": "2022-06-20T16:22:49.886Z"
   },
   {
    "duration": 97,
    "start_time": "2022-06-20T16:22:49.902Z"
   },
   {
    "duration": 110,
    "start_time": "2022-06-20T16:22:50.000Z"
   },
   {
    "duration": 85,
    "start_time": "2022-06-20T16:22:50.112Z"
   },
   {
    "duration": 58,
    "start_time": "2022-06-20T16:22:50.199Z"
   },
   {
    "duration": 7,
    "start_time": "2022-06-20T16:22:50.259Z"
   },
   {
    "duration": 14,
    "start_time": "2022-06-20T16:22:50.267Z"
   },
   {
    "duration": 9,
    "start_time": "2022-06-20T16:22:50.283Z"
   },
   {
    "duration": 18,
    "start_time": "2022-06-20T16:22:50.293Z"
   },
   {
    "duration": 29,
    "start_time": "2022-06-20T16:22:50.313Z"
   },
   {
    "duration": 10,
    "start_time": "2022-06-20T16:22:50.343Z"
   },
   {
    "duration": 40,
    "start_time": "2022-06-20T16:22:50.355Z"
   },
   {
    "duration": 80,
    "start_time": "2022-06-20T16:22:50.397Z"
   },
   {
    "duration": 18,
    "start_time": "2022-06-20T16:22:50.479Z"
   },
   {
    "duration": 561,
    "start_time": "2022-06-20T16:22:50.499Z"
   },
   {
    "duration": 127,
    "start_time": "2022-06-20T16:22:51.061Z"
   },
   {
    "duration": 251,
    "start_time": "2022-06-20T16:22:51.190Z"
   },
   {
    "duration": 33,
    "start_time": "2022-06-20T16:22:51.443Z"
   },
   {
    "duration": 30,
    "start_time": "2022-06-20T16:22:51.477Z"
   },
   {
    "duration": 298,
    "start_time": "2022-06-20T16:22:51.508Z"
   },
   {
    "duration": 6,
    "start_time": "2022-06-20T16:22:51.807Z"
   },
   {
    "duration": 34,
    "start_time": "2022-06-20T16:22:51.814Z"
   },
   {
    "duration": 142,
    "start_time": "2022-06-20T16:22:51.851Z"
   },
   {
    "duration": 21,
    "start_time": "2022-06-20T16:22:51.995Z"
   },
   {
    "duration": 56,
    "start_time": "2022-06-20T16:22:52.018Z"
   },
   {
    "duration": 76,
    "start_time": "2022-06-20T16:22:52.076Z"
   },
   {
    "duration": 300,
    "start_time": "2022-06-20T16:22:52.154Z"
   },
   {
    "duration": 20,
    "start_time": "2022-06-20T16:22:52.456Z"
   },
   {
    "duration": 73,
    "start_time": "2022-06-20T16:22:52.478Z"
   },
   {
    "duration": 7,
    "start_time": "2022-06-20T16:22:52.553Z"
   },
   {
    "duration": 182,
    "start_time": "2022-06-20T16:22:52.563Z"
   },
   {
    "duration": 12,
    "start_time": "2022-06-20T16:22:52.746Z"
   },
   {
    "duration": 237,
    "start_time": "2022-06-20T16:22:52.760Z"
   },
   {
    "duration": 162,
    "start_time": "2022-06-20T16:22:52.999Z"
   },
   {
    "duration": 369,
    "start_time": "2022-06-20T16:22:53.163Z"
   },
   {
    "duration": 152,
    "start_time": "2022-06-20T16:22:53.533Z"
   },
   {
    "duration": 17,
    "start_time": "2022-06-20T16:22:53.687Z"
   },
   {
    "duration": 13,
    "start_time": "2022-06-20T16:22:53.706Z"
   },
   {
    "duration": 127,
    "start_time": "2022-06-20T16:22:53.741Z"
   },
   {
    "duration": 34,
    "start_time": "2022-06-20T16:22:53.870Z"
   },
   {
    "duration": 14,
    "start_time": "2022-06-20T16:22:53.906Z"
   },
   {
    "duration": 269,
    "start_time": "2022-06-20T16:22:53.942Z"
   },
   {
    "duration": 385,
    "start_time": "2022-06-20T16:22:54.213Z"
   },
   {
    "duration": 7,
    "start_time": "2022-06-20T16:22:54.601Z"
   },
   {
    "duration": 1268,
    "start_time": "2022-06-20T16:22:54.609Z"
   },
   {
    "duration": 18,
    "start_time": "2022-06-20T16:22:55.880Z"
   },
   {
    "duration": 45,
    "start_time": "2022-06-20T16:22:55.900Z"
   },
   {
    "duration": 45,
    "start_time": "2022-06-20T16:22:55.947Z"
   },
   {
    "duration": 8,
    "start_time": "2022-06-20T16:22:55.994Z"
   },
   {
    "duration": 17,
    "start_time": "2022-06-20T16:22:56.004Z"
   },
   {
    "duration": 139,
    "start_time": "2022-06-20T16:22:56.046Z"
   },
   {
    "duration": 412,
    "start_time": "2022-06-20T16:22:56.187Z"
   },
   {
    "duration": 522,
    "start_time": "2022-06-20T16:22:56.602Z"
   },
   {
    "duration": 25,
    "start_time": "2022-06-20T16:22:57.126Z"
   },
   {
    "duration": 25,
    "start_time": "2022-06-20T16:22:57.153Z"
   },
   {
    "duration": 4,
    "start_time": "2022-06-20T16:22:57.180Z"
   },
   {
    "duration": 9,
    "start_time": "2022-06-20T16:22:57.186Z"
   },
   {
    "duration": 282,
    "start_time": "2022-06-20T16:22:57.197Z"
   },
   {
    "duration": 12,
    "start_time": "2022-06-20T16:22:57.481Z"
   },
   {
    "duration": 68,
    "start_time": "2022-06-20T16:22:57.495Z"
   },
   {
    "duration": 39,
    "start_time": "2022-06-20T16:22:57.566Z"
   },
   {
    "duration": 4,
    "start_time": "2022-06-20T16:22:57.606Z"
   },
   {
    "duration": 5,
    "start_time": "2022-06-20T16:22:57.612Z"
   },
   {
    "duration": 347,
    "start_time": "2022-06-20T16:22:57.620Z"
   },
   {
    "duration": 5,
    "start_time": "2022-06-20T16:22:57.968Z"
   },
   {
    "duration": 1351,
    "start_time": "2022-06-20T20:23:52.996Z"
   },
   {
    "duration": 394,
    "start_time": "2022-06-20T20:23:54.349Z"
   },
   {
    "duration": 87,
    "start_time": "2022-06-20T20:23:54.744Z"
   },
   {
    "duration": 41,
    "start_time": "2022-06-20T20:23:54.833Z"
   },
   {
    "duration": 67,
    "start_time": "2022-06-20T20:23:54.877Z"
   },
   {
    "duration": 15,
    "start_time": "2022-06-20T20:23:54.946Z"
   },
   {
    "duration": 95,
    "start_time": "2022-06-20T20:23:54.963Z"
   },
   {
    "duration": 107,
    "start_time": "2022-06-20T20:23:55.060Z"
   },
   {
    "duration": 95,
    "start_time": "2022-06-20T20:23:55.169Z"
   },
   {
    "duration": 45,
    "start_time": "2022-06-20T20:23:55.266Z"
   },
   {
    "duration": 8,
    "start_time": "2022-06-20T20:23:55.323Z"
   },
   {
    "duration": 23,
    "start_time": "2022-06-20T20:23:55.334Z"
   },
   {
    "duration": 8,
    "start_time": "2022-06-20T20:23:55.359Z"
   },
   {
    "duration": 19,
    "start_time": "2022-06-20T20:23:55.371Z"
   },
   {
    "duration": 5,
    "start_time": "2022-06-20T20:23:55.392Z"
   },
   {
    "duration": 12,
    "start_time": "2022-06-20T20:23:55.423Z"
   },
   {
    "duration": 30,
    "start_time": "2022-06-20T20:23:55.437Z"
   },
   {
    "duration": 65,
    "start_time": "2022-06-20T20:23:55.469Z"
   },
   {
    "duration": 20,
    "start_time": "2022-06-20T20:23:55.535Z"
   },
   {
    "duration": 507,
    "start_time": "2022-06-20T20:23:55.557Z"
   },
   {
    "duration": 269,
    "start_time": "2022-06-20T20:23:56.065Z"
   },
   {
    "duration": 700,
    "start_time": "2022-06-20T20:23:56.336Z"
   },
   {
    "duration": 98,
    "start_time": "2022-06-20T20:23:57.038Z"
   },
   {
    "duration": 88,
    "start_time": "2022-06-20T20:23:57.142Z"
   },
   {
    "duration": 611,
    "start_time": "2022-06-20T20:23:57.235Z"
   },
   {
    "duration": 7,
    "start_time": "2022-06-20T20:23:57.848Z"
   },
   {
    "duration": 69,
    "start_time": "2022-06-20T20:23:57.857Z"
   },
   {
    "duration": 249,
    "start_time": "2022-06-20T20:23:57.929Z"
   },
   {
    "duration": 17,
    "start_time": "2022-06-20T20:23:58.180Z"
   },
   {
    "duration": 61,
    "start_time": "2022-06-20T20:23:58.199Z"
   },
   {
    "duration": 75,
    "start_time": "2022-06-20T20:23:58.263Z"
   },
   {
    "duration": 261,
    "start_time": "2022-06-20T20:23:58.340Z"
   },
   {
    "duration": 11,
    "start_time": "2022-06-20T20:23:58.603Z"
   },
   {
    "duration": 55,
    "start_time": "2022-06-20T20:23:58.625Z"
   },
   {
    "duration": 4,
    "start_time": "2022-06-20T20:23:58.682Z"
   },
   {
    "duration": 202,
    "start_time": "2022-06-20T20:23:58.687Z"
   },
   {
    "duration": 11,
    "start_time": "2022-06-20T20:23:58.890Z"
   },
   {
    "duration": 238,
    "start_time": "2022-06-20T20:23:58.903Z"
   },
   {
    "duration": 156,
    "start_time": "2022-06-20T20:23:59.143Z"
   },
   {
    "duration": 336,
    "start_time": "2022-06-20T20:23:59.302Z"
   },
   {
    "duration": 147,
    "start_time": "2022-06-20T20:23:59.643Z"
   },
   {
    "duration": 15,
    "start_time": "2022-06-20T20:23:59.792Z"
   },
   {
    "duration": 31,
    "start_time": "2022-06-20T20:23:59.809Z"
   },
   {
    "duration": 113,
    "start_time": "2022-06-20T20:23:59.842Z"
   },
   {
    "duration": 42,
    "start_time": "2022-06-20T20:23:59.958Z"
   },
   {
    "duration": 31,
    "start_time": "2022-06-20T20:24:00.002Z"
   },
   {
    "duration": 264,
    "start_time": "2022-06-20T20:24:00.036Z"
   },
   {
    "duration": 340,
    "start_time": "2022-06-20T20:24:00.302Z"
   },
   {
    "duration": 8,
    "start_time": "2022-06-20T20:24:00.643Z"
   },
   {
    "duration": 1301,
    "start_time": "2022-06-20T20:24:00.653Z"
   },
   {
    "duration": 21,
    "start_time": "2022-06-20T20:24:01.955Z"
   },
   {
    "duration": 93,
    "start_time": "2022-06-20T20:24:01.979Z"
   },
   {
    "duration": 61,
    "start_time": "2022-06-20T20:24:02.075Z"
   },
   {
    "duration": 11,
    "start_time": "2022-06-20T20:24:02.140Z"
   },
   {
    "duration": 13,
    "start_time": "2022-06-20T20:24:02.152Z"
   },
   {
    "duration": 176,
    "start_time": "2022-06-20T20:24:02.167Z"
   },
   {
    "duration": 451,
    "start_time": "2022-06-20T20:24:02.344Z"
   },
   {
    "duration": 502,
    "start_time": "2022-06-20T20:24:02.797Z"
   },
   {
    "duration": 36,
    "start_time": "2022-06-20T20:24:03.302Z"
   },
   {
    "duration": 37,
    "start_time": "2022-06-20T20:24:03.343Z"
   },
   {
    "duration": 8,
    "start_time": "2022-06-20T20:24:03.383Z"
   },
   {
    "duration": 10,
    "start_time": "2022-06-20T20:24:03.393Z"
   },
   {
    "duration": 259,
    "start_time": "2022-06-20T20:24:03.405Z"
   },
   {
    "duration": 7,
    "start_time": "2022-06-20T20:24:03.667Z"
   },
   {
    "duration": 65,
    "start_time": "2022-06-20T20:24:03.676Z"
   },
   {
    "duration": 35,
    "start_time": "2022-06-20T20:24:03.742Z"
   },
   {
    "duration": 4,
    "start_time": "2022-06-20T20:24:03.779Z"
   },
   {
    "duration": 6,
    "start_time": "2022-06-20T20:24:03.784Z"
   },
   {
    "duration": 350,
    "start_time": "2022-06-20T20:24:03.792Z"
   },
   {
    "duration": 8,
    "start_time": "2022-06-20T20:24:04.145Z"
   }
  ],
  "kernelspec": {
   "display_name": "Python 3 (ipykernel)",
   "language": "python",
   "name": "python3"
  },
  "language_info": {
   "codemirror_mode": {
    "name": "ipython",
    "version": 3
   },
   "file_extension": ".py",
   "mimetype": "text/x-python",
   "name": "python",
   "nbconvert_exporter": "python",
   "pygments_lexer": "ipython3",
   "version": "3.9.7"
  },
  "toc": {
   "base_numbering": 1,
   "nav_menu": {},
   "number_sections": true,
   "sideBar": true,
   "skip_h1_title": true,
   "title_cell": "Table of Contents",
   "title_sidebar": "Contents",
   "toc_cell": false,
   "toc_position": {},
   "toc_section_display": true,
   "toc_window_display": true
  },
  "toc-autonumbering": true,
  "toc-showcode": false,
  "toc-showmarkdowntxt": false
 },
 "nbformat": 4,
 "nbformat_minor": 5
}
