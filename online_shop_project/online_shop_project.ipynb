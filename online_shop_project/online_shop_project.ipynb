{
 "cells": [
  {
   "cell_type": "markdown",
   "metadata": {},
   "source": [
    "# Анализ гипотез для увеличения выручки интернет-магазина\n",
    "\n",
    "**Цель проекта:**  \n",
    "Вместе с отделом маркетинга вы подготовили список гипотез для увеличения выручки.\n",
    "Необходимо изучить:\n",
    "- приоретизацию гипотез, \n",
    "- результат А/В теста. \n",
    "\n",
    "**Имеющиеся данные**  \n",
    "- гипотезы, позволяющие увеличить выручку,  \n",
    "- данные по датам о количестве посетителей в каждой из групп (А и В), \n",
    "- данные о совершенных пользователями покупках (в разрезе пользователя и даты).     \n",
    "\n",
    "**Ход исследования**  \n",
    "- приоретизация гипотез\n",
    "- предобработка данных о пользователях и их действиях\n",
    "- анализ А/В теста:  \n",
    "    - анализ кумулятивной выручки по группам, \n",
    "    - анализ среднего куммулятивного чека по группам, \n",
    "    - анализ куммулятивной конверсии по группам,\n",
    "    - определения аномальных пользователей (по числу заказов и сумме заказа)\n",
    "    - определение статистической значимости различий конверсии:  \n",
    "        - по сырым данным\n",
    "        - по очищенным данным\n",
    "    - определение статистической значимости различий среднего чека:  \n",
    "        - по сырым данным\n",
    "        - по очищенным данным        \n",
    "- вывод по проекту"
   ]
  },
  {
   "cell_type": "code",
   "execution_count": 1,
   "metadata": {},
   "outputs": [],
   "source": [
    "%load_ext lab_black"
   ]
  },
  {
   "cell_type": "code",
   "execution_count": 2,
   "metadata": {},
   "outputs": [],
   "source": [
    "import matplotlib.pyplot as plt\n",
    "import pandas as pd\n",
    "from scipy import stats as st\n",
    "import numpy as np\n",
    "import datetime as dt\n",
    "import scipy.stats as stats\n",
    "from functools import reduce"
   ]
  },
  {
   "cell_type": "code",
   "execution_count": 3,
   "metadata": {},
   "outputs": [],
   "source": [
    "pd.set_option(\"max_colwidth\", 400)"
   ]
  },
  {
   "cell_type": "markdown",
   "metadata": {},
   "source": [
    "## Приоритизация гипотез"
   ]
  },
  {
   "cell_type": "code",
   "execution_count": 4,
   "metadata": {},
   "outputs": [],
   "source": [
    "local_path = \"./\"\n",
    "server_path = \"/datasets/\"\n",
    "file = \"hypothesis.csv\"\n",
    "try:\n",
    "    data_hypothesis = pd.read_csv(f\"{local_path}{file}\")\n",
    "except:\n",
    "    data_hypothesis = pd.read_csv(f\"{server_path}{file}\")"
   ]
  },
  {
   "cell_type": "code",
   "execution_count": 5,
   "metadata": {},
   "outputs": [
    {
     "name": "stdout",
     "output_type": "stream",
     "text": [
      "<class 'pandas.core.frame.DataFrame'>\n",
      "RangeIndex: 9 entries, 0 to 8\n",
      "Data columns (total 5 columns):\n",
      " #   Column      Non-Null Count  Dtype \n",
      "---  ------      --------------  ----- \n",
      " 0   Hypothesis  9 non-null      object\n",
      " 1   Reach       9 non-null      int64 \n",
      " 2   Impact      9 non-null      int64 \n",
      " 3   Confidence  9 non-null      int64 \n",
      " 4   Efforts     9 non-null      int64 \n",
      "dtypes: int64(4), object(1)\n",
      "memory usage: 488.0+ bytes\n"
     ]
    }
   ],
   "source": [
    "data_hypothesis.info()"
   ]
  },
  {
   "cell_type": "markdown",
   "metadata": {},
   "source": [
    "Для удобства обращения переименовала столбцы - убрала заглавные буквы."
   ]
  },
  {
   "cell_type": "code",
   "execution_count": 6,
   "metadata": {},
   "outputs": [],
   "source": [
    "data_hypothesis.columns = [c.lower() for c in data_hypothesis.columns.values]"
   ]
  },
  {
   "cell_type": "code",
   "execution_count": 7,
   "metadata": {},
   "outputs": [
    {
     "data": {
      "text/html": [
       "<div>\n",
       "<style scoped>\n",
       "    .dataframe tbody tr th:only-of-type {\n",
       "        vertical-align: middle;\n",
       "    }\n",
       "\n",
       "    .dataframe tbody tr th {\n",
       "        vertical-align: top;\n",
       "    }\n",
       "\n",
       "    .dataframe thead th {\n",
       "        text-align: right;\n",
       "    }\n",
       "</style>\n",
       "<table border=\"1\" class=\"dataframe\">\n",
       "  <thead>\n",
       "    <tr style=\"text-align: right;\">\n",
       "      <th></th>\n",
       "      <th>hypothesis</th>\n",
       "      <th>reach</th>\n",
       "      <th>impact</th>\n",
       "      <th>confidence</th>\n",
       "      <th>efforts</th>\n",
       "    </tr>\n",
       "  </thead>\n",
       "  <tbody>\n",
       "    <tr>\n",
       "      <th>0</th>\n",
       "      <td>Добавить два новых канала привлечения трафика, что позволит привлекать на 30% больше пользователей</td>\n",
       "      <td>3</td>\n",
       "      <td>10</td>\n",
       "      <td>8</td>\n",
       "      <td>6</td>\n",
       "    </tr>\n",
       "    <tr>\n",
       "      <th>1</th>\n",
       "      <td>Запустить собственную службу доставки, что сократит срок доставки заказов</td>\n",
       "      <td>2</td>\n",
       "      <td>5</td>\n",
       "      <td>4</td>\n",
       "      <td>10</td>\n",
       "    </tr>\n",
       "    <tr>\n",
       "      <th>2</th>\n",
       "      <td>Добавить блоки рекомендаций товаров на сайт интернет магазина, чтобы повысить конверсию и средний чек заказа</td>\n",
       "      <td>8</td>\n",
       "      <td>3</td>\n",
       "      <td>7</td>\n",
       "      <td>3</td>\n",
       "    </tr>\n",
       "    <tr>\n",
       "      <th>3</th>\n",
       "      <td>Изменить структура категорий, что увеличит конверсию, т.к. пользователи быстрее найдут нужный товар</td>\n",
       "      <td>8</td>\n",
       "      <td>3</td>\n",
       "      <td>3</td>\n",
       "      <td>8</td>\n",
       "    </tr>\n",
       "    <tr>\n",
       "      <th>4</th>\n",
       "      <td>Изменить цвет фона главной страницы, чтобы увеличить вовлеченность пользователей</td>\n",
       "      <td>3</td>\n",
       "      <td>1</td>\n",
       "      <td>1</td>\n",
       "      <td>1</td>\n",
       "    </tr>\n",
       "    <tr>\n",
       "      <th>5</th>\n",
       "      <td>Добавить страницу отзывов клиентов о магазине, что позволит увеличить количество заказов</td>\n",
       "      <td>3</td>\n",
       "      <td>2</td>\n",
       "      <td>2</td>\n",
       "      <td>3</td>\n",
       "    </tr>\n",
       "    <tr>\n",
       "      <th>6</th>\n",
       "      <td>Показать на главной странице баннеры с актуальными акциями и распродажами, чтобы увеличить конверсию</td>\n",
       "      <td>5</td>\n",
       "      <td>3</td>\n",
       "      <td>8</td>\n",
       "      <td>3</td>\n",
       "    </tr>\n",
       "    <tr>\n",
       "      <th>7</th>\n",
       "      <td>Добавить форму подписки на все основные страницы, чтобы собрать базу клиентов для email-рассылок</td>\n",
       "      <td>10</td>\n",
       "      <td>7</td>\n",
       "      <td>8</td>\n",
       "      <td>5</td>\n",
       "    </tr>\n",
       "    <tr>\n",
       "      <th>8</th>\n",
       "      <td>Запустить акцию, дающую скидку на товар в день рождения</td>\n",
       "      <td>1</td>\n",
       "      <td>9</td>\n",
       "      <td>9</td>\n",
       "      <td>5</td>\n",
       "    </tr>\n",
       "  </tbody>\n",
       "</table>\n",
       "</div>"
      ],
      "text/plain": [
       "                                                                                                     hypothesis  \\\n",
       "0            Добавить два новых канала привлечения трафика, что позволит привлекать на 30% больше пользователей   \n",
       "1                                     Запустить собственную службу доставки, что сократит срок доставки заказов   \n",
       "2  Добавить блоки рекомендаций товаров на сайт интернет магазина, чтобы повысить конверсию и средний чек заказа   \n",
       "3           Изменить структура категорий, что увеличит конверсию, т.к. пользователи быстрее найдут нужный товар   \n",
       "4                              Изменить цвет фона главной страницы, чтобы увеличить вовлеченность пользователей   \n",
       "5                      Добавить страницу отзывов клиентов о магазине, что позволит увеличить количество заказов   \n",
       "6          Показать на главной странице баннеры с актуальными акциями и распродажами, чтобы увеличить конверсию   \n",
       "7              Добавить форму подписки на все основные страницы, чтобы собрать базу клиентов для email-рассылок   \n",
       "8                                                       Запустить акцию, дающую скидку на товар в день рождения   \n",
       "\n",
       "   reach  impact  confidence  efforts  \n",
       "0      3      10           8        6  \n",
       "1      2       5           4       10  \n",
       "2      8       3           7        3  \n",
       "3      8       3           3        8  \n",
       "4      3       1           1        1  \n",
       "5      3       2           2        3  \n",
       "6      5       3           8        3  \n",
       "7     10       7           8        5  \n",
       "8      1       9           9        5  "
      ]
     },
     "execution_count": 7,
     "metadata": {},
     "output_type": "execute_result"
    }
   ],
   "source": [
    "data_hypothesis"
   ]
  },
  {
   "cell_type": "markdown",
   "metadata": {},
   "source": [
    "В файле представлены 9 гипотез по увеличению выручки интернет-магазина.  \n",
    "Для выбора оптимальных применим поочередно фреймворки ICE и RICE и определим наиболее приоритетные из них."
   ]
  },
  {
   "cell_type": "code",
   "execution_count": 8,
   "metadata": {},
   "outputs": [
    {
     "data": {
      "text/html": [
       "<div>\n",
       "<style scoped>\n",
       "    .dataframe tbody tr th:only-of-type {\n",
       "        vertical-align: middle;\n",
       "    }\n",
       "\n",
       "    .dataframe tbody tr th {\n",
       "        vertical-align: top;\n",
       "    }\n",
       "\n",
       "    .dataframe thead th {\n",
       "        text-align: right;\n",
       "    }\n",
       "</style>\n",
       "<table border=\"1\" class=\"dataframe\">\n",
       "  <thead>\n",
       "    <tr style=\"text-align: right;\">\n",
       "      <th></th>\n",
       "      <th>hypothesis</th>\n",
       "      <th>ICE</th>\n",
       "    </tr>\n",
       "  </thead>\n",
       "  <tbody>\n",
       "    <tr>\n",
       "      <th>8</th>\n",
       "      <td>Запустить акцию, дающую скидку на товар в день рождения</td>\n",
       "      <td>16.200</td>\n",
       "    </tr>\n",
       "    <tr>\n",
       "      <th>0</th>\n",
       "      <td>Добавить два новых канала привлечения трафика, что позволит привлекать на 30% больше пользователей</td>\n",
       "      <td>13.333</td>\n",
       "    </tr>\n",
       "    <tr>\n",
       "      <th>7</th>\n",
       "      <td>Добавить форму подписки на все основные страницы, чтобы собрать базу клиентов для email-рассылок</td>\n",
       "      <td>11.200</td>\n",
       "    </tr>\n",
       "    <tr>\n",
       "      <th>6</th>\n",
       "      <td>Показать на главной странице баннеры с актуальными акциями и распродажами, чтобы увеличить конверсию</td>\n",
       "      <td>8.000</td>\n",
       "    </tr>\n",
       "    <tr>\n",
       "      <th>2</th>\n",
       "      <td>Добавить блоки рекомендаций товаров на сайт интернет магазина, чтобы повысить конверсию и средний чек заказа</td>\n",
       "      <td>7.000</td>\n",
       "    </tr>\n",
       "    <tr>\n",
       "      <th>1</th>\n",
       "      <td>Запустить собственную службу доставки, что сократит срок доставки заказов</td>\n",
       "      <td>2.000</td>\n",
       "    </tr>\n",
       "    <tr>\n",
       "      <th>5</th>\n",
       "      <td>Добавить страницу отзывов клиентов о магазине, что позволит увеличить количество заказов</td>\n",
       "      <td>1.333</td>\n",
       "    </tr>\n",
       "    <tr>\n",
       "      <th>3</th>\n",
       "      <td>Изменить структура категорий, что увеличит конверсию, т.к. пользователи быстрее найдут нужный товар</td>\n",
       "      <td>1.125</td>\n",
       "    </tr>\n",
       "    <tr>\n",
       "      <th>4</th>\n",
       "      <td>Изменить цвет фона главной страницы, чтобы увеличить вовлеченность пользователей</td>\n",
       "      <td>1.000</td>\n",
       "    </tr>\n",
       "  </tbody>\n",
       "</table>\n",
       "</div>"
      ],
      "text/plain": [
       "                                                                                                     hypothesis  \\\n",
       "8                                                       Запустить акцию, дающую скидку на товар в день рождения   \n",
       "0            Добавить два новых канала привлечения трафика, что позволит привлекать на 30% больше пользователей   \n",
       "7              Добавить форму подписки на все основные страницы, чтобы собрать базу клиентов для email-рассылок   \n",
       "6          Показать на главной странице баннеры с актуальными акциями и распродажами, чтобы увеличить конверсию   \n",
       "2  Добавить блоки рекомендаций товаров на сайт интернет магазина, чтобы повысить конверсию и средний чек заказа   \n",
       "1                                     Запустить собственную службу доставки, что сократит срок доставки заказов   \n",
       "5                      Добавить страницу отзывов клиентов о магазине, что позволит увеличить количество заказов   \n",
       "3           Изменить структура категорий, что увеличит конверсию, т.к. пользователи быстрее найдут нужный товар   \n",
       "4                              Изменить цвет фона главной страницы, чтобы увеличить вовлеченность пользователей   \n",
       "\n",
       "      ICE  \n",
       "8  16.200  \n",
       "0  13.333  \n",
       "7  11.200  \n",
       "6   8.000  \n",
       "2   7.000  \n",
       "1   2.000  \n",
       "5   1.333  \n",
       "3   1.125  \n",
       "4   1.000  "
      ]
     },
     "execution_count": 8,
     "metadata": {},
     "output_type": "execute_result"
    }
   ],
   "source": [
    "data_hypothesis[\"ICE\"] = (\n",
    "    (data_hypothesis[\"impact\"] * data_hypothesis[\"confidence\"])\n",
    "    / data_hypothesis[\"efforts\"]\n",
    ").round(3)\n",
    "data_hypothesis.iloc[:, [0, 5]].sort_values(by=\"ICE\", ascending=False)"
   ]
  },
  {
   "cell_type": "markdown",
   "metadata": {},
   "source": [
    "Наиболее перспективные гипотезы по ICE это 9, 1 и 8 - их приоритет наибольший. "
   ]
  },
  {
   "cell_type": "code",
   "execution_count": 9,
   "metadata": {},
   "outputs": [
    {
     "data": {
      "text/html": [
       "<div>\n",
       "<style scoped>\n",
       "    .dataframe tbody tr th:only-of-type {\n",
       "        vertical-align: middle;\n",
       "    }\n",
       "\n",
       "    .dataframe tbody tr th {\n",
       "        vertical-align: top;\n",
       "    }\n",
       "\n",
       "    .dataframe thead th {\n",
       "        text-align: right;\n",
       "    }\n",
       "</style>\n",
       "<table border=\"1\" class=\"dataframe\">\n",
       "  <thead>\n",
       "    <tr style=\"text-align: right;\">\n",
       "      <th></th>\n",
       "      <th>hypothesis</th>\n",
       "      <th>reach</th>\n",
       "      <th>RICE</th>\n",
       "    </tr>\n",
       "  </thead>\n",
       "  <tbody>\n",
       "    <tr>\n",
       "      <th>7</th>\n",
       "      <td>Добавить форму подписки на все основные страницы, чтобы собрать базу клиентов для email-рассылок</td>\n",
       "      <td>10</td>\n",
       "      <td>112.0</td>\n",
       "    </tr>\n",
       "    <tr>\n",
       "      <th>2</th>\n",
       "      <td>Добавить блоки рекомендаций товаров на сайт интернет магазина, чтобы повысить конверсию и средний чек заказа</td>\n",
       "      <td>8</td>\n",
       "      <td>56.0</td>\n",
       "    </tr>\n",
       "    <tr>\n",
       "      <th>0</th>\n",
       "      <td>Добавить два новых канала привлечения трафика, что позволит привлекать на 30% больше пользователей</td>\n",
       "      <td>3</td>\n",
       "      <td>40.0</td>\n",
       "    </tr>\n",
       "    <tr>\n",
       "      <th>6</th>\n",
       "      <td>Показать на главной странице баннеры с актуальными акциями и распродажами, чтобы увеличить конверсию</td>\n",
       "      <td>5</td>\n",
       "      <td>40.0</td>\n",
       "    </tr>\n",
       "    <tr>\n",
       "      <th>8</th>\n",
       "      <td>Запустить акцию, дающую скидку на товар в день рождения</td>\n",
       "      <td>1</td>\n",
       "      <td>16.2</td>\n",
       "    </tr>\n",
       "    <tr>\n",
       "      <th>3</th>\n",
       "      <td>Изменить структура категорий, что увеличит конверсию, т.к. пользователи быстрее найдут нужный товар</td>\n",
       "      <td>8</td>\n",
       "      <td>9.0</td>\n",
       "    </tr>\n",
       "    <tr>\n",
       "      <th>1</th>\n",
       "      <td>Запустить собственную службу доставки, что сократит срок доставки заказов</td>\n",
       "      <td>2</td>\n",
       "      <td>4.0</td>\n",
       "    </tr>\n",
       "    <tr>\n",
       "      <th>5</th>\n",
       "      <td>Добавить страницу отзывов клиентов о магазине, что позволит увеличить количество заказов</td>\n",
       "      <td>3</td>\n",
       "      <td>4.0</td>\n",
       "    </tr>\n",
       "    <tr>\n",
       "      <th>4</th>\n",
       "      <td>Изменить цвет фона главной страницы, чтобы увеличить вовлеченность пользователей</td>\n",
       "      <td>3</td>\n",
       "      <td>3.0</td>\n",
       "    </tr>\n",
       "  </tbody>\n",
       "</table>\n",
       "</div>"
      ],
      "text/plain": [
       "                                                                                                     hypothesis  \\\n",
       "7              Добавить форму подписки на все основные страницы, чтобы собрать базу клиентов для email-рассылок   \n",
       "2  Добавить блоки рекомендаций товаров на сайт интернет магазина, чтобы повысить конверсию и средний чек заказа   \n",
       "0            Добавить два новых канала привлечения трафика, что позволит привлекать на 30% больше пользователей   \n",
       "6          Показать на главной странице баннеры с актуальными акциями и распродажами, чтобы увеличить конверсию   \n",
       "8                                                       Запустить акцию, дающую скидку на товар в день рождения   \n",
       "3           Изменить структура категорий, что увеличит конверсию, т.к. пользователи быстрее найдут нужный товар   \n",
       "1                                     Запустить собственную службу доставки, что сократит срок доставки заказов   \n",
       "5                      Добавить страницу отзывов клиентов о магазине, что позволит увеличить количество заказов   \n",
       "4                              Изменить цвет фона главной страницы, чтобы увеличить вовлеченность пользователей   \n",
       "\n",
       "   reach   RICE  \n",
       "7     10  112.0  \n",
       "2      8   56.0  \n",
       "0      3   40.0  \n",
       "6      5   40.0  \n",
       "8      1   16.2  \n",
       "3      8    9.0  \n",
       "1      2    4.0  \n",
       "5      3    4.0  \n",
       "4      3    3.0  "
      ]
     },
     "execution_count": 9,
     "metadata": {},
     "output_type": "execute_result"
    }
   ],
   "source": [
    "data_hypothesis[\"RICE\"] = (\n",
    "    data_hypothesis[\"reach\"] * data_hypothesis[\"impact\"] * data_hypothesis[\"confidence\"]\n",
    ") / data_hypothesis[\"efforts\"]\n",
    "data_hypothesis.iloc[:, [0, 1, 6]].sort_values(by=\"RICE\", ascending=False)"
   ]
  },
  {
   "cell_type": "markdown",
   "metadata": {},
   "source": [
    "Наиболее перспективные гипотезы по RICE это 8, 3 и 1 - их приоритет наибольший. "
   ]
  },
  {
   "cell_type": "code",
   "execution_count": 10,
   "metadata": {},
   "outputs": [],
   "source": [
    "# построим график на котором будут видны изменения приоритета гипотеза при использовании разных фреймворков\n",
    "data_ice = (\n",
    "    pd.DataFrame(\n",
    "        {\n",
    "            \"num\": data_hypothesis.index,\n",
    "            \"ICE\": (data_hypothesis[\"impact\"] * data_hypothesis[\"confidence\"])\n",
    "            / data_hypothesis[\"efforts\"],\n",
    "        }\n",
    "    )\n",
    "    .round(3)\n",
    "    .sort_values(\n",
    "        by=\"ICE\",\n",
    "    )\n",
    "    .reset_index(drop=True)\n",
    ")\n",
    "data_ice = data_ice.reset_index().rename(\n",
    "    columns={\"index\": \"position\"},\n",
    ")\n",
    "\n",
    "data_rice = (\n",
    "    pd.DataFrame(\n",
    "        {\n",
    "            \"num\": data_hypothesis.index,\n",
    "            \"RICE\": (\n",
    "                data_hypothesis[\"reach\"]\n",
    "                * data_hypothesis[\"impact\"]\n",
    "                * data_hypothesis[\"confidence\"]\n",
    "            )\n",
    "            / data_hypothesis[\"efforts\"],\n",
    "        }\n",
    "    )\n",
    "    .sort_values(\n",
    "        by=\"RICE\",\n",
    "    )\n",
    "    .reset_index(drop=True)\n",
    ")\n",
    "data_rice = data_rice.reset_index().rename(columns={\"index\": \"position\"})\n",
    "\n",
    "data_ice[\"coef\"] = \"ICE\"\n",
    "data_rice[\"coef\"] = \"RICE\""
   ]
  },
  {
   "cell_type": "code",
   "execution_count": 11,
   "metadata": {},
   "outputs": [
    {
     "data": {
      "image/png": "[encoded data removed]",
      "text/plain": [
       "<Figure size 432x432 with 1 Axes>"
      ]
     },
     "metadata": {
      "needs_background": "light"
     },
     "output_type": "display_data"
    }
   ],
   "source": [
    "data_agg = data_ice.append(data_rice)\n",
    "\n",
    "fig, ax = plt.subplots(1, figsize=(6, 6))\n",
    "\n",
    "for i in data_agg.num:\n",
    "    temp = data_agg[data_agg[\"num\"] == i]\n",
    "\n",
    "    plt.plot(\n",
    "        temp.coef,\n",
    "        temp.position,\n",
    "        marker=\"x\",\n",
    "        markersize=5,\n",
    "    )\n",
    "\n",
    "    plt.text(0 + 0.02, temp.position.values[0], i)\n",
    "\n",
    "    plt.text(1 - 0.02, temp.position.values[1], i, ha=\"right\")\n",
    "\n",
    "plt.ylabel(\"Приоритет гипотезы\")\n",
    "plt.grid()\n",
    "plt.show()"
   ]
  },
  {
   "cell_type": "markdown",
   "metadata": {},
   "source": [
    "__Вывод__"
   ]
  },
  {
   "cell_type": "markdown",
   "metadata": {},
   "source": [
    "При сравнении приоритетов гипотез по ICE и RICE можно заметить, что 8 и 1 гипотезы (индексы 7 и 0) находятся в двух списках в топ-3, но на разных позициях.  \n",
    "Изменение приоритизации при использовании разных фреймворков обусловлено разным набором компонент - в RICE используется дополнительный параметр reach, \n",
    "который показывает охват пользователей, которых коснутся изменения из проверяемых гипотез. По этой причине гипотеза 9 покинула тройку наиболее приоритетных - ее значение охвата составило 1, и это самое маленькое значение по сравнению с остальными гипотезами.  \n",
    "Наиболее приоритетной гипотезой можно считать гипотезу 8 (индекс 7) *\"Добавить форму подписки на все основные страницы, чтобы собрать базу клиентов для email-рассылок\"*. Предположим, что она была выбрана для проведения А/В теста. Далее проанализируем полученные результаты этого теста."
   ]
  },
  {
   "cell_type": "markdown",
   "metadata": {},
   "source": [
    "## Анализ A/B-теста"
   ]
  },
  {
   "cell_type": "code",
   "execution_count": 12,
   "metadata": {},
   "outputs": [],
   "source": [
    "local_path = \"./\"\n",
    "server_path = \"/datasets/\"\n",
    "files = [\"visitors\", \"orders\"]\n",
    "data_frames = []\n",
    "for file in files:\n",
    "    try:\n",
    "        exec(f\"data_{file} = pd.read_csv('{local_path}{file}.csv')\")\n",
    "        data_frames.append(f\"data_{file}\")\n",
    "    except:\n",
    "        exec(f\"data_{file} = pd.read_csv('{server_path}{file}.csv')\")\n",
    "        data_frames.append(f\"data_{file}\")"
   ]
  },
  {
   "cell_type": "code",
   "execution_count": 13,
   "metadata": {
    "tags": []
   },
   "outputs": [
    {
     "name": "stdout",
     "output_type": "stream",
     "text": [
      "data_visitors\n",
      "<class 'pandas.core.frame.DataFrame'>\n",
      "RangeIndex: 62 entries, 0 to 61\n",
      "Data columns (total 3 columns):\n",
      " #   Column    Non-Null Count  Dtype \n",
      "---  ------    --------------  ----- \n",
      " 0   date      62 non-null     object\n",
      " 1   group     62 non-null     object\n",
      " 2   visitors  62 non-null     int64 \n",
      "dtypes: int64(1), object(2)\n",
      "memory usage: 1.6+ KB\n",
      "\n",
      "         date group  visitors\n",
      "0  2019-08-01     A       719\n",
      "1  2019-08-02     A       619\n",
      "2  2019-08-03     A       507\n",
      "3  2019-08-04     A       717\n",
      "4  2019-08-05     A       756\n",
      "\n",
      "\n",
      "data_orders\n",
      "<class 'pandas.core.frame.DataFrame'>\n",
      "RangeIndex: 1197 entries, 0 to 1196\n",
      "Data columns (total 5 columns):\n",
      " #   Column         Non-Null Count  Dtype \n",
      "---  ------         --------------  ----- \n",
      " 0   transactionId  1197 non-null   int64 \n",
      " 1   visitorId      1197 non-null   int64 \n",
      " 2   date           1197 non-null   object\n",
      " 3   revenue        1197 non-null   int64 \n",
      " 4   group          1197 non-null   object\n",
      "dtypes: int64(3), object(2)\n",
      "memory usage: 46.9+ KB\n",
      "\n",
      "   transactionId   visitorId        date  revenue group\n",
      "0     3667963787  3312258926  2019-08-15     1650     B\n",
      "1     2804400009  3642806036  2019-08-15      730     B\n",
      "2     2961555356  4069496402  2019-08-15      400     A\n",
      "3     3797467345  1196621759  2019-08-15     9759     B\n",
      "4     2282983706  2322279887  2019-08-15     2308     B\n",
      "\n",
      "\n"
     ]
    }
   ],
   "source": [
    "for df in data_frames:\n",
    "    print(df)\n",
    "    locals().get(df).info()\n",
    "    print(\"\")\n",
    "    print(locals().get(df).head())\n",
    "    print(\"\\n\")"
   ]
  },
  {
   "cell_type": "code",
   "execution_count": 14,
   "metadata": {},
   "outputs": [
    {
     "name": "stdout",
     "output_type": "stream",
     "text": [
      "Дата начала теста: 2019-08-01\n",
      "Дата окончания теста: 2019-08-31\n"
     ]
    }
   ],
   "source": [
    "start_date = data_visitors[\"date\"].astype(\"datetime64\").dt.date.min()\n",
    "end_date = data_visitors[\"date\"].astype(\"datetime64\").dt.date.max()\n",
    "print(f\"Дата начала теста: {start_date}\\nДата окончания теста: {end_date}\")"
   ]
  },
  {
   "cell_type": "code",
   "execution_count": 15,
   "metadata": {},
   "outputs": [
    {
     "data": {
      "text/plain": [
       "(58,)"
      ]
     },
     "execution_count": 15,
     "metadata": {},
     "output_type": "execute_result"
    }
   ],
   "source": [
    "usersA = data_orders.query('group == \"A\"')[\"visitorId\"].unique()\n",
    "usersB = data_orders.query('group == \"B\"')[\"visitorId\"].unique()\n",
    "intersection = np.intersect1d(usersA, usersB)\n",
    "intersection.shape"
   ]
  },
  {
   "cell_type": "markdown",
   "metadata": {},
   "source": [
    "В данных есть пользователи которые попали при группировке в обе группы (58 человек). Правильным решением было бы их удалить, но т.к. таблица data_visitors уже не содержит данных по идентификаторам пользователей, то их удаление только из одной части данных (одной таблицы) может исказить общую картину."
   ]
  },
  {
   "cell_type": "markdown",
   "metadata": {},
   "source": [
    "### Анализ кумулятивной выручки по группам"
   ]
  },
  {
   "cell_type": "code",
   "execution_count": 16,
   "metadata": {
    "tags": []
   },
   "outputs": [],
   "source": [
    "# приведем данные к нужному типу и выделим день\n",
    "data_orders[\"date\"] = data_orders[\"date\"].astype(\"datetime64\").dt.day\n",
    "data_visitors[\"date\"] = data_visitors[\"date\"].astype(\"datetime64\").dt.day"
   ]
  },
  {
   "cell_type": "markdown",
   "metadata": {},
   "source": [
    "Учитывая, что анализ данных ограничен только одним месяцем - августом, считаю более наглядно представлять дату только числом."
   ]
  },
  {
   "cell_type": "code",
   "execution_count": 17,
   "metadata": {},
   "outputs": [
    {
     "data": {
      "text/html": [
       "<div>\n",
       "<style scoped>\n",
       "    .dataframe tbody tr th:only-of-type {\n",
       "        vertical-align: middle;\n",
       "    }\n",
       "\n",
       "    .dataframe tbody tr th {\n",
       "        vertical-align: top;\n",
       "    }\n",
       "\n",
       "    .dataframe thead th {\n",
       "        text-align: right;\n",
       "    }\n",
       "</style>\n",
       "<table border=\"1\" class=\"dataframe\">\n",
       "  <thead>\n",
       "    <tr style=\"text-align: right;\">\n",
       "      <th></th>\n",
       "      <th>date</th>\n",
       "      <th>group</th>\n",
       "    </tr>\n",
       "  </thead>\n",
       "  <tbody>\n",
       "    <tr>\n",
       "      <th>0</th>\n",
       "      <td>15</td>\n",
       "      <td>B</td>\n",
       "    </tr>\n",
       "    <tr>\n",
       "      <th>2</th>\n",
       "      <td>15</td>\n",
       "      <td>A</td>\n",
       "    </tr>\n",
       "    <tr>\n",
       "      <th>45</th>\n",
       "      <td>16</td>\n",
       "      <td>A</td>\n",
       "    </tr>\n",
       "    <tr>\n",
       "      <th>47</th>\n",
       "      <td>16</td>\n",
       "      <td>B</td>\n",
       "    </tr>\n",
       "    <tr>\n",
       "      <th>55</th>\n",
       "      <td>1</td>\n",
       "      <td>A</td>\n",
       "    </tr>\n",
       "  </tbody>\n",
       "</table>\n",
       "</div>"
      ],
      "text/plain": [
       "    date group\n",
       "0     15     B\n",
       "2     15     A\n",
       "45    16     A\n",
       "47    16     B\n",
       "55     1     A"
      ]
     },
     "execution_count": 17,
     "metadata": {},
     "output_type": "execute_result"
    }
   ],
   "source": [
    "# сгруппируем данные по дате и группе\n",
    "dates_groups = data_orders[[\"date\", \"group\"]].drop_duplicates()\n",
    "dates_groups.head()"
   ]
  },
  {
   "cell_type": "code",
   "execution_count": 18,
   "metadata": {},
   "outputs": [],
   "source": [
    "# подготовим данные для куммулятивной таблицы\n",
    "# в разрезе даты и группы расчитаем количество уникальных пользователей, заказов и выручку\n",
    "orders_agg = dates_groups.apply(\n",
    "    lambda x: data_orders[\n",
    "        np.logical_and(\n",
    "            data_orders[\"date\"] <= x[\"date\"], data_orders[\"group\"] == x[\"group\"]\n",
    "        )\n",
    "    ].agg(\n",
    "        {\n",
    "            \"date\": \"max\",\n",
    "            \"group\": \"max\",\n",
    "            \"transactionId\": \"nunique\",\n",
    "            \"visitorId\": \"nunique\",\n",
    "            \"revenue\": \"sum\",\n",
    "        }\n",
    "    ),\n",
    "    axis=1,\n",
    ").sort_values(by=[\"date\", \"group\"])"
   ]
  },
  {
   "cell_type": "code",
   "execution_count": 19,
   "metadata": {},
   "outputs": [],
   "source": [
    "# в разрезе даты и группы определим число посетителей\n",
    "visitors_agg = dates_groups.apply(\n",
    "    lambda x: data_visitors[\n",
    "        np.logical_and(\n",
    "            data_visitors[\"date\"] <= x[\"date\"], data_visitors[\"group\"] == x[\"group\"]\n",
    "        )\n",
    "    ].agg({\"date\": \"max\", \"group\": \"max\", \"visitors\": \"sum\"}),\n",
    "    axis=1,\n",
    ").sort_values(by=[\"date\", \"group\"])"
   ]
  },
  {
   "cell_type": "code",
   "execution_count": 20,
   "metadata": {},
   "outputs": [
    {
     "data": {
      "text/html": [
       "<div>\n",
       "<style scoped>\n",
       "    .dataframe tbody tr th:only-of-type {\n",
       "        vertical-align: middle;\n",
       "    }\n",
       "\n",
       "    .dataframe tbody tr th {\n",
       "        vertical-align: top;\n",
       "    }\n",
       "\n",
       "    .dataframe thead th {\n",
       "        text-align: right;\n",
       "    }\n",
       "</style>\n",
       "<table border=\"1\" class=\"dataframe\">\n",
       "  <thead>\n",
       "    <tr style=\"text-align: right;\">\n",
       "      <th></th>\n",
       "      <th>date</th>\n",
       "      <th>group</th>\n",
       "      <th>orders</th>\n",
       "      <th>buyers</th>\n",
       "      <th>revenue</th>\n",
       "      <th>visitors</th>\n",
       "    </tr>\n",
       "  </thead>\n",
       "  <tbody>\n",
       "    <tr>\n",
       "      <th>0</th>\n",
       "      <td>1</td>\n",
       "      <td>A</td>\n",
       "      <td>24</td>\n",
       "      <td>20</td>\n",
       "      <td>148579</td>\n",
       "      <td>719</td>\n",
       "    </tr>\n",
       "    <tr>\n",
       "      <th>1</th>\n",
       "      <td>1</td>\n",
       "      <td>B</td>\n",
       "      <td>21</td>\n",
       "      <td>20</td>\n",
       "      <td>101217</td>\n",
       "      <td>713</td>\n",
       "    </tr>\n",
       "    <tr>\n",
       "      <th>2</th>\n",
       "      <td>2</td>\n",
       "      <td>A</td>\n",
       "      <td>44</td>\n",
       "      <td>38</td>\n",
       "      <td>242401</td>\n",
       "      <td>1338</td>\n",
       "    </tr>\n",
       "    <tr>\n",
       "      <th>3</th>\n",
       "      <td>2</td>\n",
       "      <td>B</td>\n",
       "      <td>45</td>\n",
       "      <td>43</td>\n",
       "      <td>266748</td>\n",
       "      <td>1294</td>\n",
       "    </tr>\n",
       "    <tr>\n",
       "      <th>4</th>\n",
       "      <td>3</td>\n",
       "      <td>A</td>\n",
       "      <td>68</td>\n",
       "      <td>62</td>\n",
       "      <td>354874</td>\n",
       "      <td>1845</td>\n",
       "    </tr>\n",
       "  </tbody>\n",
       "</table>\n",
       "</div>"
      ],
      "text/plain": [
       "   date group  orders  buyers  revenue  visitors\n",
       "0     1     A      24      20   148579       719\n",
       "1     1     B      21      20   101217       713\n",
       "2     2     A      44      38   242401      1338\n",
       "3     2     B      45      43   266748      1294\n",
       "4     3     A      68      62   354874      1845"
      ]
     },
     "execution_count": 20,
     "metadata": {},
     "output_type": "execute_result"
    }
   ],
   "source": [
    "cum_data = orders_agg.merge(\n",
    "    visitors_agg, left_on=[\"date\", \"group\"], right_on=[\"date\", \"group\"]\n",
    ")\n",
    "cum_data.columns = [\"date\", \"group\", \"orders\", \"buyers\", \"revenue\", \"visitors\"]\n",
    "\n",
    "cum_data.head()"
   ]
  },
  {
   "cell_type": "code",
   "execution_count": 21,
   "metadata": {},
   "outputs": [],
   "source": [
    "cum_revenueA = cum_data[cum_data[\"group\"] == \"A\"][[\"date\", \"revenue\", \"orders\"]]\n",
    "cum_revenueB = cum_data[cum_data[\"group\"] == \"B\"][[\"date\", \"revenue\", \"orders\"]]"
   ]
  },
  {
   "cell_type": "code",
   "execution_count": 22,
   "metadata": {},
   "outputs": [
    {
     "data": {
      "image/png": "[encoded data removed]",
      "text/plain": [
       "<Figure size 864x360 with 1 Axes>"
      ]
     },
     "metadata": {
      "needs_background": "light"
     },
     "output_type": "display_data"
    }
   ],
   "source": [
    "# построим график кумулятивной выручки по группам\n",
    "plt.figure(figsize=(12, 5))\n",
    "plt.xlabel(\"день\")\n",
    "plt.ylabel(\"выручка\")\n",
    "plt.grid()\n",
    "plt.plot(cum_revenueA[\"date\"], cum_revenueA[\"revenue\"], label=\"A\", lw=3)\n",
    "plt.plot(cum_revenueB[\"date\"], cum_revenueB[\"revenue\"], label=\"B\", lw=3)\n",
    "plt.title(\"График кумулятивной выручки по группам\")\n",
    "plt.legend()\n",
    "plt.show()"
   ]
  },
  {
   "cell_type": "markdown",
   "metadata": {},
   "source": [
    "На графике кумулятивной выручки по группам можно заметить, что сегмент B опередил сегмент А на 5 день теста (5 августа) и далее продолжился его рост. Отдельно можно отметить резкий скачок 18 числа, вероятно связанный с заказом на крупную сумму либо резко увеличилось число покупателей. \n"
   ]
  },
  {
   "cell_type": "markdown",
   "metadata": {},
   "source": [
    "### Анализ кумулятивного среднего чека по группам"
   ]
  },
  {
   "cell_type": "code",
   "execution_count": 23,
   "metadata": {},
   "outputs": [
    {
     "data": {
      "image/png": "[encoded data removed]",
      "text/plain": [
       "<Figure size 864x360 with 1 Axes>"
      ]
     },
     "metadata": {
      "needs_background": "light"
     },
     "output_type": "display_data"
    }
   ],
   "source": [
    "plt.figure(figsize=(12, 5))\n",
    "plt.xlabel(\"день\")\n",
    "plt.ylabel(\"средний чек\")\n",
    "plt.grid()\n",
    "plt.plot(\n",
    "    cum_revenueA[\"date\"],\n",
    "    cum_revenueA[\"revenue\"] / cum_revenueA[\"orders\"],\n",
    "    label=\"A\",\n",
    "    lw=3,\n",
    ")\n",
    "plt.plot(\n",
    "    cum_revenueB[\"date\"],\n",
    "    cum_revenueB[\"revenue\"] / cum_revenueB[\"orders\"],\n",
    "    label=\"B\",\n",
    "    lw=3,\n",
    ")\n",
    "plt.title(\"График кумулятивного среднего чека по группам\", size=15)\n",
    "plt.legend()\n",
    "plt.show()"
   ]
  },
  {
   "cell_type": "markdown",
   "metadata": {},
   "source": [
    "График кумулятивного среднего чека по группам показывает, что на протяжении всего периода наблюдения средний чек группы В выше, среднего чека группы А, за исключением краткого отрезка (12-15 дни). В районе 18 числа наблюдается резкий подъем показателя по группе В, в то время как по группе А два менее заметных подъема в районе 8 и 11 числа. После этих выбросов значения по обеим группам относительно стабилизировались."
   ]
  },
  {
   "cell_type": "markdown",
   "metadata": {},
   "source": [
    "### Анализ относительного изменения кумулятивного среднего чека группы B к группе A"
   ]
  },
  {
   "cell_type": "code",
   "execution_count": 24,
   "metadata": {},
   "outputs": [
    {
     "data": {
      "image/png": "[encoded data removed]",
      "text/plain": [
       "<Figure size 864x360 with 1 Axes>"
      ]
     },
     "metadata": {
      "needs_background": "light"
     },
     "output_type": "display_data"
    }
   ],
   "source": [
    "plt.figure(figsize=(12, 5))\n",
    "cum_revenue = cum_revenueA.merge(\n",
    "    cum_revenueB, left_on=\"date\", right_on=\"date\", how=\"left\", suffixes=[\"A\", \"B\"]\n",
    ")\n",
    "plt.plot(\n",
    "    cum_revenue[\"date\"],\n",
    "    (cum_revenue[\"revenueB\"] / cum_revenue[\"ordersB\"])\n",
    "    / (cum_revenue[\"revenueA\"] / cum_revenue[\"ordersA\"])\n",
    "    - 1,\n",
    "    lw=2.5,\n",
    ")\n",
    "plt.axhline(y=0, color=\"#c70226\", linestyle=\"--\")\n",
    "plt.title(\n",
    "    \"График относительного изменения кумулятивного среднего чека группы B к группе A\",\n",
    "    size=15,\n",
    ")\n",
    "plt.xlabel(\"день\")\n",
    "plt.ylabel(\"относительное изменение\")\n",
    "plt.show()"
   ]
  },
  {
   "cell_type": "markdown",
   "metadata": {},
   "source": [
    "Большую часть времени проведения теста кумулятивный средний чек группы В выше значений теста А, однако наблюдаются резкие колебания графика в период с 9 по 15 день теста. Аномальные по стоимости заказы в эти даты привели к снижению показателя по группе В и росту показателя по группе А."
   ]
  },
  {
   "cell_type": "markdown",
   "metadata": {},
   "source": [
    "### Анализ кумулятивной конверсии по группам"
   ]
  },
  {
   "cell_type": "code",
   "execution_count": 25,
   "metadata": {},
   "outputs": [],
   "source": [
    "# расчитаем конверсию по каждой из групп\n",
    "cum_data[\"conversion\"] = cum_data[\"orders\"] / cum_data[\"visitors\"]\n",
    "cum_dataA = cum_data[cum_data[\"group\"] == \"A\"]\n",
    "cum_dataB = cum_data[cum_data[\"group\"] == \"B\"]"
   ]
  },
  {
   "cell_type": "code",
   "execution_count": 26,
   "metadata": {},
   "outputs": [
    {
     "data": {
      "image/png": "[encoded data removed]",
      "text/plain": [
       "<Figure size 864x360 with 1 Axes>"
      ]
     },
     "metadata": {
      "needs_background": "light"
     },
     "output_type": "display_data"
    }
   ],
   "source": [
    "plt.figure(figsize=(12, 5))\n",
    "plt.plot(cum_dataA[\"date\"], cum_dataA[\"conversion\"], label=\"A\", lw=3)\n",
    "plt.plot(cum_dataB[\"date\"], cum_dataB[\"conversion\"], label=\"B\", lw=3)\n",
    "plt.axis([1, 31, 0, 0.05])\n",
    "plt.xlabel(\"день\")\n",
    "plt.ylabel(\"конверсия\")\n",
    "plt.legend()\n",
    "plt.title(\"График кумулятивной конверсии по группам\", size=15)\n",
    "plt.show()"
   ]
  },
  {
   "cell_type": "markdown",
   "metadata": {},
   "source": [
    "В начале теста (до 5 дня) конверсия группы А была выше конверсии группы В, далее ситуация стала прямо противоположной, при этом показатели конверсии обеих групп постепенно стабилизировались (после 10 дня теста)."
   ]
  },
  {
   "cell_type": "markdown",
   "metadata": {},
   "source": [
    "### Анализ относительного изменения кумулятивной конверсии группы B к группе A"
   ]
  },
  {
   "cell_type": "code",
   "execution_count": 27,
   "metadata": {},
   "outputs": [
    {
     "data": {
      "image/png": "[encoded data removed]",
      "text/plain": [
       "<Figure size 864x360 with 1 Axes>"
      ]
     },
     "metadata": {
      "needs_background": "light"
     },
     "output_type": "display_data"
    }
   ],
   "source": [
    "cum_conversions = cum_dataA[[\"date\", \"conversion\"]].merge(\n",
    "    cum_dataB[[\"date\", \"conversion\"]],\n",
    "    left_on=\"date\",\n",
    "    right_on=\"date\",\n",
    "    how=\"left\",\n",
    "    suffixes=[\"A\", \"B\"],\n",
    ")\n",
    "\n",
    "plt.figure(figsize=(12, 5))\n",
    "plt.plot(\n",
    "    cum_conversions[\"date\"],\n",
    "    cum_conversions[\"conversionB\"] / cum_conversions[\"conversionA\"] - 1,\n",
    "    label=\"Относительный прирост конверсии группы B относительно группы A\",\n",
    "    lw=2.7,\n",
    ")\n",
    "plt.legend()\n",
    "plt.axhline(y=0, color=\"red\", linestyle=\"--\")\n",
    "plt.axhline(y=0.15, color=\"black\", linestyle=\"--\")\n",
    "plt.axis(plt.axis([1, 31, -0.3, 0.5]))\n",
    "plt.title(\n",
    "    \"График относительного изменения кумулятивной конверсии группы B к группе A\",\n",
    "    size=15,\n",
    ")\n",
    "plt.xlabel(\"день\")\n",
    "plt.ylabel(\"относительне изменение\")\n",
    "plt.show()"
   ]
  },
  {
   "cell_type": "markdown",
   "metadata": {},
   "source": [
    "С пятого дня теста кумулятивная конверсия группы В превысила показатель группы А и далее зафиксировалась на уровне 15% его прироста."
   ]
  },
  {
   "cell_type": "markdown",
   "metadata": {},
   "source": [
    "### Анализ количества заказов по пользователям"
   ]
  },
  {
   "cell_type": "code",
   "execution_count": 28,
   "metadata": {},
   "outputs": [
    {
     "data": {
      "image/png": "[encoded data removed]",
      "text/plain": [
       "<Figure size 864x360 with 1 Axes>"
      ]
     },
     "metadata": {
      "needs_background": "light"
     },
     "output_type": "display_data"
    }
   ],
   "source": [
    "# построим диаграмму разброса количества заказов по пользователям для выявления аномалий\n",
    "plt.figure(figsize=(12, 5))\n",
    "orders_per_user = data_orders.groupby(\"visitorId\", as_index=False).agg(\n",
    "    {\"transactionId\": \"nunique\"}\n",
    ")\n",
    "orders_per_user.columns = [\"visitorId\", \"orders\"]\n",
    "x_values = pd.Series(range(0, len(orders_per_user)))\n",
    "plt.scatter(x=x_values, y=orders_per_user[\"orders\"])\n",
    "plt.title(\"Диаграмма разброса количества заказов по пользователям\", size=15)\n",
    "plt.show()"
   ]
  },
  {
   "cell_type": "markdown",
   "metadata": {},
   "source": [
    "По диаграмме разброса количества пользователей можно сделать вывод, что наиболее часто встречающееся значение 1, второе по частоте 2. Пользователей с количеством заказов больше двух гораздо меньше."
   ]
  },
  {
   "cell_type": "markdown",
   "metadata": {},
   "source": [
    "### Определение границы количества заказов аномальных пользователей"
   ]
  },
  {
   "cell_type": "code",
   "execution_count": 29,
   "metadata": {},
   "outputs": [
    {
     "name": "stdout",
     "output_type": "stream",
     "text": [
      "95-й перцентиль равен 2.0 \n",
      "99-й перцентиль равен 4.0\n"
     ]
    }
   ],
   "source": [
    "percentiles = np.percentile(orders_per_user[\"orders\"], [95, 99])\n",
    "print(\n",
    "    f\"95-й перцентиль равен {percentiles[0]} \\n99-й перцентиль равен {percentiles[1]}\"\n",
    ")"
   ]
  },
  {
   "cell_type": "markdown",
   "metadata": {},
   "source": [
    "Согласно расчетам 95 и 99 перцентиля не больше 5% пользователей совершают более 2 заказов, и только 1% пользователей более четырех.  \n",
    "На основании этих вычислений границу аномальных значений можно принять как 3 заказа. "
   ]
  },
  {
   "cell_type": "markdown",
   "metadata": {},
   "source": [
    "### Анализ суммы заказов"
   ]
  },
  {
   "cell_type": "code",
   "execution_count": 30,
   "metadata": {},
   "outputs": [
    {
     "data": {
      "image/png": "[encoded data removed]",
      "text/plain": [
       "<Figure size 864x360 with 1 Axes>"
      ]
     },
     "metadata": {
      "needs_background": "light"
     },
     "output_type": "display_data"
    }
   ],
   "source": [
    "plt.figure(figsize=(12, 5))\n",
    "x_values = pd.Series(range(0, len(data_orders[\"revenue\"])))\n",
    "plt.scatter(x_values, data_orders[\"revenue\"])\n",
    "plt.title(\"Диаграмма разброса суммы заказов\", size=15)\n",
    "plt.show()"
   ]
  },
  {
   "cell_type": "markdown",
   "metadata": {},
   "source": [
    "Согласно диаграмме рассеяния основная масса заказов была на сумму не превышающую 150 000 единиц. Заказ свыше 200000 единиц, а также 1200000 единиц можно считать выбросами."
   ]
  },
  {
   "cell_type": "markdown",
   "metadata": {},
   "source": [
    "### Определение границы суммы аномальных заказов"
   ]
  },
  {
   "cell_type": "code",
   "execution_count": 31,
   "metadata": {},
   "outputs": [
    {
     "name": "stdout",
     "output_type": "stream",
     "text": [
      "95-й перцентиль равен 28000.00 \n",
      "99-й перцентиль равен 58233.20\n"
     ]
    }
   ],
   "source": [
    "percentiles = np.percentile(data_orders[\"revenue\"], [95, 99])\n",
    "print(\n",
    "    \"95-й перцентиль равен {:.2f} \\n99-й перцентиль равен {:.2f}\".format(*percentiles)\n",
    ")"
   ]
  },
  {
   "cell_type": "markdown",
   "metadata": {},
   "source": [
    "Согласно расчетам 95 и 99 перцентиля не больше 5% пользователей совершают заказы на сумму свыше 28000 единиц, и только 1% пользователей более 58000 единиц.  \n",
    "На основании этих вычислений границу аномальных значений можно принять как 30 000 единиц."
   ]
  },
  {
   "cell_type": "markdown",
   "metadata": {},
   "source": [
    "### Статистическая значимость различий в конверсии между группами по «сырым» данным"
   ]
  },
  {
   "cell_type": "code",
   "execution_count": 32,
   "metadata": {},
   "outputs": [],
   "source": [
    "# рассчитаем куммулятивное число посетителей по группам и по дням\n",
    "day_visitorsA = data_visitors[data_visitors[\"group\"] == \"A\"][[\"date\", \"visitors\"]]\n",
    "day_visitorsA.columns = [\"date\", \"date_visitorsA\"]\n",
    "\n",
    "cum_visitorsA = day_visitorsA.apply(\n",
    "    lambda x: day_visitorsA[day_visitorsA[\"date\"] <= x[\"date\"]].agg(\n",
    "        {\"date\": \"max\", \"date_visitorsA\": \"sum\"}\n",
    "    ),\n",
    "    axis=1,\n",
    ")\n",
    "\n",
    "cum_visitorsA.columns = [\"date\", \"cum_visitorsA\"]"
   ]
  },
  {
   "cell_type": "code",
   "execution_count": 33,
   "metadata": {},
   "outputs": [],
   "source": [
    "day_visitorsB = data_visitors[data_visitors[\"group\"] == \"B\"][[\"date\", \"visitors\"]]\n",
    "day_visitorsB.columns = [\"date\", \"date_visitorsB\"]\n",
    "\n",
    "cum_visitorsB = day_visitorsB.apply(\n",
    "    lambda x: day_visitorsB[day_visitorsB[\"date\"] <= x[\"date\"]].agg(\n",
    "        {\"date\": \"max\", \"date_visitorsB\": \"sum\"}\n",
    "    ),\n",
    "    axis=1,\n",
    ")\n",
    "\n",
    "cum_visitorsB.columns = [\"date\", \"cum_visitorsB\"]"
   ]
  },
  {
   "cell_type": "code",
   "execution_count": 34,
   "metadata": {},
   "outputs": [],
   "source": [
    "# рассчитаем куммулятивное число заказов и их сумму по группам и по дням\n",
    "day_ordersA = (\n",
    "    data_orders[data_orders[\"group\"] == \"A\"][\n",
    "        [\"date\", \"transactionId\", \"visitorId\", \"revenue\"]\n",
    "    ]\n",
    "    .groupby(\"date\", as_index=False)\n",
    "    .agg({\"transactionId\": pd.Series.nunique, \"revenue\": \"sum\"})\n",
    ")\n",
    "\n",
    "day_ordersA.columns = [\"date\", \"date_ordersA\", \"date_revenueA\"]\n",
    "\n",
    "cum_ordersA = day_ordersA.apply(\n",
    "    lambda x: day_ordersA[day_ordersA[\"date\"] <= x[\"date\"]].agg(\n",
    "        {\"date\": \"max\", \"date_ordersA\": \"sum\", \"date_revenueA\": \"sum\"}\n",
    "    ),\n",
    "    axis=1,\n",
    ").sort_values(by=[\"date\"])\n",
    "\n",
    "cum_ordersA.columns = [\n",
    "    \"date\",\n",
    "    \"cum_ordersA\",\n",
    "    \"cum_revenueA\",\n",
    "]"
   ]
  },
  {
   "cell_type": "code",
   "execution_count": 35,
   "metadata": {},
   "outputs": [],
   "source": [
    "day_ordersB = (\n",
    "    data_orders[data_orders[\"group\"] == \"B\"][\n",
    "        [\"date\", \"transactionId\", \"visitorId\", \"revenue\"]\n",
    "    ]\n",
    "    .groupby(\"date\", as_index=False)\n",
    "    .agg({\"transactionId\": pd.Series.nunique, \"revenue\": \"sum\"})\n",
    ")\n",
    "\n",
    "day_ordersB.columns = [\"date\", \"date_ordersB\", \"date_revenueB\"]\n",
    "\n",
    "cum_ordersB = day_ordersB.apply(\n",
    "    lambda x: day_ordersB[day_ordersB[\"date\"] <= x[\"date\"]].agg(\n",
    "        {\"date\": \"max\", \"date_ordersB\": \"sum\", \"date_revenueB\": \"sum\"}\n",
    "    ),\n",
    "    axis=1,\n",
    ").sort_values(by=[\"date\"])\n",
    "cum_ordersB.columns = [\n",
    "    \"date\",\n",
    "    \"cum_ordersB\",\n",
    "    \"cum_revenueB\",\n",
    "]"
   ]
  },
  {
   "cell_type": "code",
   "execution_count": 36,
   "metadata": {},
   "outputs": [],
   "source": [
    "# сведем все полученные данные в одну таблицу для удобства использования\n",
    "big_table = reduce(\n",
    "    lambda left, right: pd.merge(left, right, on=[\"date\"], how=\"left\"),\n",
    "    [\n",
    "        day_visitorsA,\n",
    "        day_visitorsB,\n",
    "        cum_visitorsA,\n",
    "        cum_visitorsB,\n",
    "        day_ordersA,\n",
    "        day_ordersB,\n",
    "        cum_ordersA,\n",
    "        cum_ordersB,\n",
    "    ],\n",
    ").reset_index(drop=True)"
   ]
  },
  {
   "cell_type": "code",
   "execution_count": 37,
   "metadata": {},
   "outputs": [],
   "source": [
    "# получим информаци о количестве заказов каждого пользователя по группам\n",
    "orders_per_userA = (\n",
    "    data_orders[data_orders[\"group\"] == \"A\"]\n",
    "    .groupby(\"visitorId\", as_index=False)\n",
    "    .agg({\"transactionId\": pd.Series.nunique})\n",
    ")\n",
    "\n",
    "orders_per_userA.columns = [\"visitorId\", \"orders\"]\n",
    "\n",
    "orders_per_userB = (\n",
    "    data_orders[data_orders[\"group\"] == \"B\"]\n",
    "    .groupby(\"visitorId\", as_index=False)\n",
    "    .agg({\"transactionId\": pd.Series.nunique})\n",
    ")\n",
    "\n",
    "orders_per_userB.columns = [\"visitorId\", \"orders\"]"
   ]
  },
  {
   "cell_type": "markdown",
   "metadata": {},
   "source": [
    "В качестве нулевой и альтернативной **гипотезы** для выяснения **статистической значимости различия конверсии** можно взять следующие утверждения:  \n",
    "**Н0** \"различий в конверсии между группами нет\"  \n",
    "**Н1** \"различия в конверсии между группами есть\".  \n",
    "Анализ произведен по *\"сырым\" данным*.  "
   ]
  },
  {
   "cell_type": "code",
   "execution_count": 38,
   "metadata": {},
   "outputs": [
    {
     "name": "stdout",
     "output_type": "stream",
     "text": [
      " p-value равно 0.01679 \n",
      " относительное различие в конверсии между группами 0.138\n"
     ]
    }
   ],
   "source": [
    "# проверим выдвинутые гипотезы рассчетами\n",
    "sampleA = pd.concat(\n",
    "    [\n",
    "        orders_per_userA[\"orders\"],\n",
    "        pd.Series(\n",
    "            0,\n",
    "            index=np.arange(\n",
    "                big_table[\"date_visitorsA\"].sum() - len(orders_per_userA[\"orders\"])\n",
    "            ),\n",
    "            name=\"orders\",\n",
    "        ),\n",
    "    ],\n",
    "    axis=0,\n",
    ")\n",
    "\n",
    "sampleB = pd.concat(\n",
    "    [\n",
    "        orders_per_userB[\"orders\"],\n",
    "        pd.Series(\n",
    "            0,\n",
    "            index=np.arange(\n",
    "                big_table[\"date_visitorsB\"].sum() - len(orders_per_userB[\"orders\"])\n",
    "            ),\n",
    "            name=\"orders\",\n",
    "        ),\n",
    "    ],\n",
    "    axis=0,\n",
    ")\n",
    "\n",
    "print(\n",
    "    \" p-value равно {0:.5f}\".format(stats.mannwhitneyu(sampleA, sampleB)[1]),\n",
    "    \"\\n\",\n",
    "    \"относительное различие в конверсии между группами {0:.3f}\".format(\n",
    "        (big_table[\"date_ordersB\"].sum() / big_table[\"date_visitorsB\"].sum())\n",
    "        / (big_table[\"date_ordersA\"].sum() / big_table[\"date_visitorsA\"].sum())\n",
    "        - 1\n",
    "    ),\n",
    ")"
   ]
  },
  {
   "cell_type": "markdown",
   "metadata": {},
   "source": [
    "Полученное значение p-value 0.01679 намного меньше критического уровня статистической значимости (установленного для этого теста 0.05), значит нулевую гипотезу можно отвергнуть и следовательно различия в конверсии между группами есть (альтернативная гипотеза).  \n",
    "Относительный прирост конверсии группы В к конверсии группы А составляет 13,8%, что довольно значительно."
   ]
  },
  {
   "cell_type": "markdown",
   "metadata": {},
   "source": [
    "### Статистическая значимость различий в среднем чеке заказа между группами по «сырым» данным"
   ]
  },
  {
   "cell_type": "markdown",
   "metadata": {},
   "source": [
    "В качестве нулевой и альтернативной **гипотезы** для выяснения **статистической значимости различия суммы среднего чека** возьмем такие утверждения:  \n",
    "**Н0** \"различий в сумме среднего чека между группами нет\"  \n",
    "**Н1** \"различия в сумме среднего чека между группами есть\".  \n",
    "Анализ произведен по *\"сырым\" данным*."
   ]
  },
  {
   "cell_type": "code",
   "execution_count": 39,
   "metadata": {},
   "outputs": [
    {
     "name": "stdout",
     "output_type": "stream",
     "text": [
      " p-value равно 0.72929 \n",
      " относительное различие в среднем чеке между группами 0.259\n"
     ]
    }
   ],
   "source": [
    "print(\n",
    "    \" p-value равно {0:.5f}\".format(\n",
    "        stats.mannwhitneyu(\n",
    "            data_orders[data_orders[\"group\"] == \"A\"][\"revenue\"],\n",
    "            data_orders[data_orders[\"group\"] == \"B\"][\"revenue\"],\n",
    "        )[1]\n",
    "    ),\n",
    "    \"\\n\",\n",
    "    \"относительное различие в среднем чеке между группами {0:.3f}\".format(\n",
    "        data_orders[data_orders[\"group\"] == \"B\"][\"revenue\"].mean()\n",
    "        / data_orders[data_orders[\"group\"] == \"A\"][\"revenue\"].mean()\n",
    "        - 1\n",
    "    ),\n",
    ")"
   ]
  },
  {
   "cell_type": "markdown",
   "metadata": {},
   "source": [
    "Полученное значение p-value 0.72929 намного больше критического уровня статистической значимости (установленного для этого теста 0.05), значит нулевую гипотезу отвергнуть нельзя и следовательно различий сумме среднего между группами нет (нулевая гипотеза).  \n",
    "Наблюдаемое отличие среднего чека группы В (на 25,9%) и аналогичного показателя группы А не является статистически значимым."
   ]
  },
  {
   "cell_type": "markdown",
   "metadata": {},
   "source": [
    "### Статистическая значимость различий в конверсии между группами по «очищенным» данным"
   ]
  },
  {
   "cell_type": "markdown",
   "metadata": {},
   "source": [
    "Для дальнейших расчетов очистим \"сырые\" данные от аномальных значений числа заказов и суммы заказа:"
   ]
  },
  {
   "cell_type": "code",
   "execution_count": 40,
   "metadata": {},
   "outputs": [],
   "source": [
    "orders_lim = np.percentile(orders_per_user[\"orders\"], 95)\n",
    "revenue_lim = np.percentile(data_orders[\"revenue\"], 95)\n",
    "\n",
    "users_many_orders = pd.concat(\n",
    "    [\n",
    "        orders_per_userA[orders_per_userA[\"orders\"] > orders_lim][\"visitorId\"],\n",
    "        orders_per_userB[orders_per_userB[\"orders\"] > orders_lim][\"visitorId\"],\n",
    "    ],\n",
    "    axis=0,\n",
    ")\n",
    "\n",
    "users_exp_orders = data_orders[data_orders[\"revenue\"] > revenue_lim][\"visitorId\"]\n",
    "\n",
    "abnorm_users = (\n",
    "    pd.concat([users_many_orders, users_exp_orders], axis=0)\n",
    "    .drop_duplicates()\n",
    "    .sort_values()\n",
    ")"
   ]
  },
  {
   "cell_type": "code",
   "execution_count": 41,
   "metadata": {},
   "outputs": [],
   "source": [
    "sampleA_filter = pd.concat(\n",
    "    [\n",
    "        orders_per_userA[\n",
    "            np.logical_not(orders_per_userA[\"visitorId\"].isin(abnorm_users))\n",
    "        ][\"orders\"],\n",
    "        pd.Series(\n",
    "            0,\n",
    "            index=np.arange(\n",
    "                big_table[\"date_visitorsA\"].sum() - len(orders_per_userA[\"orders\"])\n",
    "            ),\n",
    "            name=\"orders\",\n",
    "        ),\n",
    "    ],\n",
    "    axis=0,\n",
    ")"
   ]
  },
  {
   "cell_type": "code",
   "execution_count": 42,
   "metadata": {},
   "outputs": [],
   "source": [
    "sampleB_filter = pd.concat(\n",
    "    [\n",
    "        orders_per_userB[\n",
    "            np.logical_not(orders_per_userB[\"visitorId\"].isin(abnorm_users))\n",
    "        ][\"orders\"],\n",
    "        pd.Series(\n",
    "            0,\n",
    "            index=np.arange(\n",
    "                big_table[\"date_visitorsB\"].sum() - len(orders_per_userB[\"orders\"])\n",
    "            ),\n",
    "            name=\"orders\",\n",
    "        ),\n",
    "    ],\n",
    "    axis=0,\n",
    ")"
   ]
  },
  {
   "cell_type": "markdown",
   "metadata": {},
   "source": [
    "Проверим **гипотезы** для выяснения **статиcтической значимости различий конверсий по группам**.   \n",
    "Анализ произведен по *\"очищенным\" данным*. \n",
    "Гипотезы (нулевую и альтернативную) для выяснения статистической значимости различия конверсии используем теже, что брали для \"сырых\" данных:  \n",
    "**Н0** \"различий в конверсии между группами нет\"  \n",
    "**Н1** \"различия в конверсии между группами есть\".  \n",
    " "
   ]
  },
  {
   "cell_type": "code",
   "execution_count": 43,
   "metadata": {},
   "outputs": [
    {
     "name": "stdout",
     "output_type": "stream",
     "text": [
      " p-value равно 0.01304 \n",
      " относительное различие в конверсии между группами -0.147\n"
     ]
    }
   ],
   "source": [
    "print(\n",
    "    \" p-value равно {0:.5f}\".format(\n",
    "        stats.mannwhitneyu(sampleA_filter, sampleB_filter)[1]\n",
    "    ),\n",
    "    \"\\n\",\n",
    "    \"относительное различие в конверсии между группами {0:.3f}\".format(\n",
    "        sampleA_filter.mean() / sampleB_filter.mean() - 1\n",
    "    ),\n",
    ")"
   ]
  },
  {
   "cell_type": "markdown",
   "metadata": {},
   "source": [
    "Полученное значение p-value изменилось незначительно и составило 0.01304 . Это попрежнему меньше критического уровня статистической значимости 0.05, а значит нулевую гипотезу можно отвергнуть и следовательно различия в конверсии между группами есть (альтернативная гипотеза).  \n",
    "Относительный прирост конверсии группы В по сравнению с \"сырыми\" данными к конверсии группы А поменял знак (конверсия В меньше конверсии А) и составил -14,7%. Такое различие является статистически значимым."
   ]
  },
  {
   "cell_type": "markdown",
   "metadata": {},
   "source": [
    "### Статистическая значимость различий в среднем чеке заказа между группами по «очищенным» данным"
   ]
  },
  {
   "cell_type": "markdown",
   "metadata": {},
   "source": [
    "Очистка данных уже была произведена в предыдущем пункте, сделаем только расчеты."
   ]
  },
  {
   "cell_type": "markdown",
   "metadata": {},
   "source": [
    "Для анализа гипотез теперь используем *\"очищенные\" данные,* но в качестве нулевой и альтернативной **гипотезы статистической значимости различия суммы среднего чека** возьмем те же утверждения, что использовали ранее:  \n",
    "**Н0** \"различий в сумме среднего чека между группами нет\"  \n",
    "**Н1** \"различия в сумме среднего чека между группами есть\".  "
   ]
  },
  {
   "cell_type": "code",
   "execution_count": 44,
   "metadata": {},
   "outputs": [
    {
     "name": "stdout",
     "output_type": "stream",
     "text": [
      "p-value равно 0.73848\n",
      "относительное различие в среднем чеке между группами -0.020\n"
     ]
    }
   ],
   "source": [
    "print(\n",
    "    \"p-value равно {0:.5f}\".format(\n",
    "        stats.mannwhitneyu(\n",
    "            data_orders[\n",
    "                np.logical_and(\n",
    "                    data_orders[\"group\"] == \"A\",\n",
    "                    np.logical_not(data_orders[\"visitorId\"].isin(abnorm_users)),\n",
    "                )\n",
    "            ][\"revenue\"],\n",
    "            data_orders[\n",
    "                np.logical_and(\n",
    "                    data_orders[\"group\"] == \"B\",\n",
    "                    np.logical_not(data_orders[\"visitorId\"].isin(abnorm_users)),\n",
    "                )\n",
    "            ][\"revenue\"],\n",
    "        )[1]\n",
    "    )\n",
    ")\n",
    "\n",
    "print(\n",
    "    \"относительное различие в среднем чеке между группами {0:.3f}\".format(\n",
    "        data_orders[\n",
    "            np.logical_and(\n",
    "                data_orders[\"group\"] == \"B\",\n",
    "                np.logical_not(data_orders[\"visitorId\"].isin(abnorm_users)),\n",
    "            )\n",
    "        ][\"revenue\"].mean()\n",
    "        / data_orders[\n",
    "            np.logical_and(\n",
    "                data_orders[\"group\"] == \"A\",\n",
    "                np.logical_not(data_orders[\"visitorId\"].isin(abnorm_users)),\n",
    "            )\n",
    "        ][\"revenue\"].mean()\n",
    "        - 1\n",
    "    )\n",
    ")"
   ]
  },
  {
   "cell_type": "markdown",
   "metadata": {},
   "source": [
    "Полученное новое значение p-value увеличилось до 0.73848 и это намного больше критического уровня статистической значимости (0.05), значит нулевую гипотезу отвергуть нельзя и следовательно различий сумме среднего между группами нет.  \n",
    "Сумма среднего чека группы В теперь не только не превышает аналогичный показатель группы А, но и стала меньше его на 2%. Как и предполагалось по графикам в группе В присутствовали аномально большие суммы заказов. Наблюдаемое различие в показателе среднего чека статистически значимым не является."
   ]
  },
  {
   "cell_type": "markdown",
   "metadata": {},
   "source": [
    "## Вывод"
   ]
  },
  {
   "cell_type": "markdown",
   "metadata": {},
   "source": [
    "Основываясь на полученных результатах:  \n",
    "1. Различия конверсии между группами существуют как на \"сырых\", так и на \"очищенных\" данных. Результаты группы B лучше в этом показателе группы A и согласно графику тренд сохраняется в этом направлении.  \n",
    "2. Различия в среднем чеке по \"очищенным\" данным отсутствуют. \n",
    "можно признать, что эффективность группы В выше, кардинальные изменения ситуации по группам на текущих данных не просматриваются.  \n",
    "На этом тест можно завершать победой группы В по конверсии."
   ]
  }
 ],
 "metadata": {
  "ExecuteTimeLog": [
   {
    "duration": 1208,
    "start_time": "2022-03-30T22:25:22.401Z"
   },
   {
    "duration": 118,
    "start_time": "2022-03-30T22:25:23.611Z"
   },
   {
    "duration": 10,
    "start_time": "2022-03-30T22:25:23.731Z"
   },
   {
    "duration": 5,
    "start_time": "2022-03-30T22:25:23.743Z"
   },
   {
    "duration": 11,
    "start_time": "2022-03-30T22:25:23.750Z"
   },
   {
    "duration": 10,
    "start_time": "2022-03-30T22:25:23.762Z"
   },
   {
    "duration": 9,
    "start_time": "2022-03-30T22:25:23.774Z"
   },
   {
    "duration": 241,
    "start_time": "2022-03-30T22:25:23.785Z"
   },
   {
    "duration": 19,
    "start_time": "2022-03-30T22:25:24.028Z"
   },
   {
    "duration": 7,
    "start_time": "2022-03-30T22:25:24.050Z"
   },
   {
    "duration": 6,
    "start_time": "2022-03-30T22:25:24.058Z"
   },
   {
    "duration": 7,
    "start_time": "2022-03-30T22:25:24.066Z"
   },
   {
    "duration": 143,
    "start_time": "2022-03-30T22:25:24.075Z"
   },
   {
    "duration": 111,
    "start_time": "2022-03-30T22:25:24.219Z"
   },
   {
    "duration": 8,
    "start_time": "2022-03-30T22:25:24.332Z"
   },
   {
    "duration": 9,
    "start_time": "2022-03-30T22:25:24.342Z"
   },
   {
    "duration": 6,
    "start_time": "2022-03-30T22:25:24.352Z"
   },
   {
    "duration": 173,
    "start_time": "2022-03-30T22:25:24.360Z"
   },
   {
    "duration": 147,
    "start_time": "2022-03-30T22:25:24.535Z"
   },
   {
    "duration": 287,
    "start_time": "2022-03-30T22:25:24.684Z"
   },
   {
    "duration": 5,
    "start_time": "2022-03-30T22:25:24.981Z"
   },
   {
    "duration": 131,
    "start_time": "2022-03-30T22:25:24.988Z"
   },
   {
    "duration": 249,
    "start_time": "2022-03-30T22:25:25.121Z"
   },
   {
    "duration": 123,
    "start_time": "2022-03-30T22:25:25.371Z"
   },
   {
    "duration": 3,
    "start_time": "2022-03-30T22:25:25.496Z"
   },
   {
    "duration": 126,
    "start_time": "2022-03-30T22:25:25.501Z"
   },
   {
    "duration": 4,
    "start_time": "2022-03-30T22:25:25.629Z"
   },
   {
    "duration": 50,
    "start_time": "2022-03-30T22:25:25.636Z"
   },
   {
    "duration": 41,
    "start_time": "2022-03-30T22:25:25.687Z"
   },
   {
    "duration": 59,
    "start_time": "2022-03-30T22:25:25.729Z"
   },
   {
    "duration": 47,
    "start_time": "2022-03-30T22:25:25.789Z"
   },
   {
    "duration": 17,
    "start_time": "2022-03-30T22:25:25.837Z"
   },
   {
    "duration": 75,
    "start_time": "2022-03-30T22:25:25.856Z"
   },
   {
    "duration": 85,
    "start_time": "2022-03-30T22:25:25.933Z"
   },
   {
    "duration": 7,
    "start_time": "2022-03-30T22:25:26.020Z"
   },
   {
    "duration": 191,
    "start_time": "2022-03-30T22:25:26.028Z"
   },
   {
    "duration": 0,
    "start_time": "2022-03-30T22:25:26.221Z"
   },
   {
    "duration": 0,
    "start_time": "2022-03-30T22:25:26.222Z"
   },
   {
    "duration": 0,
    "start_time": "2022-03-30T22:25:26.223Z"
   },
   {
    "duration": 0,
    "start_time": "2022-03-30T22:25:26.224Z"
   },
   {
    "duration": 0,
    "start_time": "2022-03-30T22:25:26.225Z"
   },
   {
    "duration": 1,
    "start_time": "2022-03-30T22:25:26.225Z"
   },
   {
    "duration": 0,
    "start_time": "2022-03-30T22:25:26.226Z"
   },
   {
    "duration": 23,
    "start_time": "2022-03-30T22:26:16.846Z"
   },
   {
    "duration": 1038,
    "start_time": "2022-03-30T22:26:28.496Z"
   },
   {
    "duration": 99,
    "start_time": "2022-03-30T22:26:29.536Z"
   },
   {
    "duration": 10,
    "start_time": "2022-03-30T22:26:29.637Z"
   },
   {
    "duration": 4,
    "start_time": "2022-03-30T22:26:29.649Z"
   },
   {
    "duration": 12,
    "start_time": "2022-03-30T22:26:29.655Z"
   },
   {
    "duration": 9,
    "start_time": "2022-03-30T22:26:29.668Z"
   },
   {
    "duration": 10,
    "start_time": "2022-03-30T22:26:29.678Z"
   },
   {
    "duration": 233,
    "start_time": "2022-03-30T22:26:29.689Z"
   },
   {
    "duration": 18,
    "start_time": "2022-03-30T22:26:29.924Z"
   },
   {
    "duration": 8,
    "start_time": "2022-03-30T22:26:29.944Z"
   },
   {
    "duration": 8,
    "start_time": "2022-03-30T22:26:29.954Z"
   },
   {
    "duration": 12,
    "start_time": "2022-03-30T22:26:29.963Z"
   },
   {
    "duration": 136,
    "start_time": "2022-03-30T22:26:29.976Z"
   },
   {
    "duration": 102,
    "start_time": "2022-03-30T22:26:30.113Z"
   },
   {
    "duration": 6,
    "start_time": "2022-03-30T22:26:30.217Z"
   },
   {
    "duration": 18,
    "start_time": "2022-03-30T22:26:30.224Z"
   },
   {
    "duration": 11,
    "start_time": "2022-03-30T22:26:30.244Z"
   },
   {
    "duration": 167,
    "start_time": "2022-03-30T22:26:30.256Z"
   },
   {
    "duration": 149,
    "start_time": "2022-03-30T22:26:30.424Z"
   },
   {
    "duration": 253,
    "start_time": "2022-03-30T22:26:30.574Z"
   },
   {
    "duration": 5,
    "start_time": "2022-03-30T22:26:30.829Z"
   },
   {
    "duration": 136,
    "start_time": "2022-03-30T22:26:30.835Z"
   },
   {
    "duration": 259,
    "start_time": "2022-03-30T22:26:30.980Z"
   },
   {
    "duration": 116,
    "start_time": "2022-03-30T22:26:31.241Z"
   },
   {
    "duration": 4,
    "start_time": "2022-03-30T22:26:31.359Z"
   },
   {
    "duration": 135,
    "start_time": "2022-03-30T22:26:31.364Z"
   },
   {
    "duration": 4,
    "start_time": "2022-03-30T22:26:31.501Z"
   },
   {
    "duration": 38,
    "start_time": "2022-03-30T22:26:31.509Z"
   },
   {
    "duration": 57,
    "start_time": "2022-03-30T22:26:31.548Z"
   },
   {
    "duration": 50,
    "start_time": "2022-03-30T22:26:31.606Z"
   },
   {
    "duration": 55,
    "start_time": "2022-03-30T22:26:31.658Z"
   },
   {
    "duration": 17,
    "start_time": "2022-03-30T22:26:31.715Z"
   },
   {
    "duration": 73,
    "start_time": "2022-03-30T22:26:31.734Z"
   },
   {
    "duration": 87,
    "start_time": "2022-03-30T22:26:31.809Z"
   },
   {
    "duration": 7,
    "start_time": "2022-03-30T22:26:31.897Z"
   },
   {
    "duration": 23,
    "start_time": "2022-03-30T22:26:31.905Z"
   },
   {
    "duration": 9,
    "start_time": "2022-03-30T22:26:31.929Z"
   },
   {
    "duration": 8,
    "start_time": "2022-03-30T22:26:31.939Z"
   },
   {
    "duration": 33,
    "start_time": "2022-03-30T22:26:31.948Z"
   },
   {
    "duration": 5,
    "start_time": "2022-03-30T22:26:31.983Z"
   },
   {
    "duration": 20,
    "start_time": "2022-03-30T22:26:31.990Z"
   },
   {
    "duration": 8,
    "start_time": "2022-03-30T22:26:32.012Z"
   },
   {
    "duration": 7,
    "start_time": "2022-03-30T22:26:32.021Z"
   },
   {
    "duration": 1250,
    "start_time": "2022-03-31T10:42:20.761Z"
   },
   {
    "duration": 112,
    "start_time": "2022-03-31T10:42:22.013Z"
   },
   {
    "duration": 10,
    "start_time": "2022-03-31T10:42:22.127Z"
   },
   {
    "duration": 8,
    "start_time": "2022-03-31T10:42:22.139Z"
   },
   {
    "duration": 13,
    "start_time": "2022-03-31T10:42:22.149Z"
   },
   {
    "duration": 12,
    "start_time": "2022-03-31T10:42:22.163Z"
   },
   {
    "duration": 12,
    "start_time": "2022-03-31T10:42:22.176Z"
   },
   {
    "duration": 158,
    "start_time": "2022-03-31T10:42:22.189Z"
   },
   {
    "duration": 21,
    "start_time": "2022-03-31T10:42:22.349Z"
   },
   {
    "duration": 6,
    "start_time": "2022-03-31T10:42:22.373Z"
   },
   {
    "duration": 8,
    "start_time": "2022-03-31T10:42:22.380Z"
   },
   {
    "duration": 22,
    "start_time": "2022-03-31T10:42:22.389Z"
   },
   {
    "duration": 169,
    "start_time": "2022-03-31T10:42:22.413Z"
   },
   {
    "duration": 118,
    "start_time": "2022-03-31T10:42:22.584Z"
   },
   {
    "duration": 6,
    "start_time": "2022-03-31T10:42:22.704Z"
   },
   {
    "duration": 11,
    "start_time": "2022-03-31T10:42:22.712Z"
   },
   {
    "duration": 14,
    "start_time": "2022-03-31T10:42:22.724Z"
   },
   {
    "duration": 272,
    "start_time": "2022-03-31T10:42:22.740Z"
   },
   {
    "duration": 182,
    "start_time": "2022-03-31T10:42:23.014Z"
   },
   {
    "duration": 274,
    "start_time": "2022-03-31T10:42:23.198Z"
   },
   {
    "duration": 5,
    "start_time": "2022-03-31T10:42:23.474Z"
   },
   {
    "duration": 142,
    "start_time": "2022-03-31T10:42:23.481Z"
   },
   {
    "duration": 309,
    "start_time": "2022-03-31T10:42:23.625Z"
   },
   {
    "duration": 154,
    "start_time": "2022-03-31T10:42:23.935Z"
   },
   {
    "duration": 5,
    "start_time": "2022-03-31T10:42:24.091Z"
   },
   {
    "duration": 181,
    "start_time": "2022-03-31T10:42:24.098Z"
   },
   {
    "duration": 4,
    "start_time": "2022-03-31T10:42:24.280Z"
   },
   {
    "duration": 43,
    "start_time": "2022-03-31T10:42:24.287Z"
   },
   {
    "duration": 59,
    "start_time": "2022-03-31T10:42:24.332Z"
   },
   {
    "duration": 51,
    "start_time": "2022-03-31T10:42:24.393Z"
   },
   {
    "duration": 65,
    "start_time": "2022-03-31T10:42:24.445Z"
   },
   {
    "duration": 21,
    "start_time": "2022-03-31T10:42:24.511Z"
   },
   {
    "duration": 90,
    "start_time": "2022-03-31T10:42:24.533Z"
   },
   {
    "duration": 92,
    "start_time": "2022-03-31T10:42:24.625Z"
   },
   {
    "duration": 15,
    "start_time": "2022-03-31T10:42:24.718Z"
   },
   {
    "duration": 29,
    "start_time": "2022-03-31T10:42:24.735Z"
   },
   {
    "duration": 10,
    "start_time": "2022-03-31T10:42:24.766Z"
   },
   {
    "duration": 8,
    "start_time": "2022-03-31T10:42:24.777Z"
   },
   {
    "duration": 9,
    "start_time": "2022-03-31T10:42:24.787Z"
   },
   {
    "duration": 6,
    "start_time": "2022-03-31T10:42:24.798Z"
   },
   {
    "duration": 23,
    "start_time": "2022-03-31T10:42:24.806Z"
   },
   {
    "duration": 39,
    "start_time": "2022-03-31T10:42:24.830Z"
   },
   {
    "duration": 6,
    "start_time": "2022-03-31T10:42:24.871Z"
   },
   {
    "duration": 142,
    "start_time": "2022-03-31T10:45:43.923Z"
   },
   {
    "duration": 46,
    "start_time": "2022-03-31T11:57:12.587Z"
   },
   {
    "duration": 1259,
    "start_time": "2022-03-31T11:57:21.920Z"
   },
   {
    "duration": 3,
    "start_time": "2022-03-31T11:57:23.181Z"
   },
   {
    "duration": 92,
    "start_time": "2022-03-31T11:57:23.185Z"
   },
   {
    "duration": 11,
    "start_time": "2022-03-31T11:57:23.279Z"
   },
   {
    "duration": 12,
    "start_time": "2022-03-31T11:57:23.292Z"
   },
   {
    "duration": 17,
    "start_time": "2022-03-31T11:57:23.306Z"
   },
   {
    "duration": 12,
    "start_time": "2022-03-31T11:57:23.324Z"
   },
   {
    "duration": 11,
    "start_time": "2022-03-31T11:57:23.337Z"
   },
   {
    "duration": 165,
    "start_time": "2022-03-31T11:57:23.349Z"
   },
   {
    "duration": 22,
    "start_time": "2022-03-31T11:57:23.516Z"
   },
   {
    "duration": 12,
    "start_time": "2022-03-31T11:57:23.539Z"
   },
   {
    "duration": 14,
    "start_time": "2022-03-31T11:57:23.552Z"
   },
   {
    "duration": 13,
    "start_time": "2022-03-31T11:57:23.568Z"
   },
   {
    "duration": 178,
    "start_time": "2022-03-31T11:57:23.583Z"
   },
   {
    "duration": 186,
    "start_time": "2022-03-31T11:57:23.763Z"
   },
   {
    "duration": 7,
    "start_time": "2022-03-31T11:57:23.951Z"
   },
   {
    "duration": 26,
    "start_time": "2022-03-31T11:57:23.959Z"
   },
   {
    "duration": 10,
    "start_time": "2022-03-31T11:57:23.986Z"
   },
   {
    "duration": 160,
    "start_time": "2022-03-31T11:57:23.998Z"
   },
   {
    "duration": 160,
    "start_time": "2022-03-31T11:57:24.159Z"
   },
   {
    "duration": 312,
    "start_time": "2022-03-31T11:57:24.321Z"
   },
   {
    "duration": 5,
    "start_time": "2022-03-31T11:57:24.634Z"
   },
   {
    "duration": 139,
    "start_time": "2022-03-31T11:57:24.641Z"
   },
   {
    "duration": 254,
    "start_time": "2022-03-31T11:57:24.782Z"
   },
   {
    "duration": 125,
    "start_time": "2022-03-31T11:57:25.038Z"
   },
   {
    "duration": 4,
    "start_time": "2022-03-31T11:57:25.165Z"
   },
   {
    "duration": 138,
    "start_time": "2022-03-31T11:57:25.171Z"
   },
   {
    "duration": 4,
    "start_time": "2022-03-31T11:57:25.312Z"
   },
   {
    "duration": 52,
    "start_time": "2022-03-31T11:57:25.317Z"
   },
   {
    "duration": 50,
    "start_time": "2022-03-31T11:57:25.371Z"
   },
   {
    "duration": 52,
    "start_time": "2022-03-31T11:57:25.423Z"
   },
   {
    "duration": 61,
    "start_time": "2022-03-31T11:57:25.476Z"
   },
   {
    "duration": 18,
    "start_time": "2022-03-31T11:57:25.538Z"
   },
   {
    "duration": 82,
    "start_time": "2022-03-31T11:57:25.558Z"
   },
   {
    "duration": 74,
    "start_time": "2022-03-31T11:57:25.641Z"
   },
   {
    "duration": 17,
    "start_time": "2022-03-31T11:57:25.717Z"
   },
   {
    "duration": 23,
    "start_time": "2022-03-31T11:57:25.736Z"
   },
   {
    "duration": 9,
    "start_time": "2022-03-31T11:57:25.760Z"
   },
   {
    "duration": 9,
    "start_time": "2022-03-31T11:57:25.770Z"
   },
   {
    "duration": 14,
    "start_time": "2022-03-31T11:57:25.780Z"
   },
   {
    "duration": 10,
    "start_time": "2022-03-31T11:57:25.795Z"
   },
   {
    "duration": 35,
    "start_time": "2022-03-31T11:57:25.806Z"
   },
   {
    "duration": 8,
    "start_time": "2022-03-31T11:57:25.843Z"
   },
   {
    "duration": 7,
    "start_time": "2022-03-31T11:57:25.852Z"
   },
   {
    "duration": 9,
    "start_time": "2022-03-31T12:37:41.965Z"
   },
   {
    "duration": 11,
    "start_time": "2022-03-31T12:38:01.037Z"
   },
   {
    "duration": 1230,
    "start_time": "2022-03-31T18:04:00.743Z"
   },
   {
    "duration": 3,
    "start_time": "2022-03-31T18:04:01.975Z"
   },
   {
    "duration": 140,
    "start_time": "2022-03-31T18:04:01.980Z"
   },
   {
    "duration": 11,
    "start_time": "2022-03-31T18:04:02.122Z"
   },
   {
    "duration": 15,
    "start_time": "2022-03-31T18:04:02.135Z"
   },
   {
    "duration": 44,
    "start_time": "2022-03-31T18:04:02.152Z"
   },
   {
    "duration": 50,
    "start_time": "2022-03-31T18:04:02.198Z"
   },
   {
    "duration": 61,
    "start_time": "2022-03-31T18:04:02.250Z"
   },
   {
    "duration": 248,
    "start_time": "2022-03-31T18:04:02.312Z"
   },
   {
    "duration": 32,
    "start_time": "2022-03-31T18:04:02.562Z"
   },
   {
    "duration": 13,
    "start_time": "2022-03-31T18:04:02.596Z"
   },
   {
    "duration": 35,
    "start_time": "2022-03-31T18:04:02.611Z"
   },
   {
    "duration": 37,
    "start_time": "2022-03-31T18:04:02.648Z"
   },
   {
    "duration": 31,
    "start_time": "2022-03-31T18:04:02.687Z"
   },
   {
    "duration": 176,
    "start_time": "2022-03-31T18:04:02.720Z"
   },
   {
    "duration": 117,
    "start_time": "2022-03-31T18:04:02.898Z"
   },
   {
    "duration": 19,
    "start_time": "2022-03-31T18:04:03.017Z"
   },
   {
    "duration": 60,
    "start_time": "2022-03-31T18:04:03.038Z"
   },
   {
    "duration": 16,
    "start_time": "2022-03-31T18:04:03.100Z"
   },
   {
    "duration": 226,
    "start_time": "2022-03-31T18:04:03.117Z"
   },
   {
    "duration": 241,
    "start_time": "2022-03-31T18:04:03.345Z"
   },
   {
    "duration": 260,
    "start_time": "2022-03-31T18:04:03.587Z"
   },
   {
    "duration": 14,
    "start_time": "2022-03-31T18:04:03.849Z"
   },
   {
    "duration": 159,
    "start_time": "2022-03-31T18:04:03.865Z"
   },
   {
    "duration": 325,
    "start_time": "2022-03-31T18:04:04.025Z"
   },
   {
    "duration": 128,
    "start_time": "2022-03-31T18:04:04.352Z"
   },
   {
    "duration": 4,
    "start_time": "2022-03-31T18:04:04.481Z"
   },
   {
    "duration": 146,
    "start_time": "2022-03-31T18:04:04.487Z"
   },
   {
    "duration": 5,
    "start_time": "2022-03-31T18:04:04.635Z"
   },
   {
    "duration": 70,
    "start_time": "2022-03-31T18:04:04.641Z"
   },
   {
    "duration": 45,
    "start_time": "2022-03-31T18:04:04.713Z"
   },
   {
    "duration": 114,
    "start_time": "2022-03-31T18:04:04.760Z"
   },
   {
    "duration": 56,
    "start_time": "2022-03-31T18:04:04.876Z"
   },
   {
    "duration": 19,
    "start_time": "2022-03-31T18:04:04.933Z"
   },
   {
    "duration": 64,
    "start_time": "2022-03-31T18:04:04.953Z"
   },
   {
    "duration": 77,
    "start_time": "2022-03-31T18:04:05.019Z"
   },
   {
    "duration": 6,
    "start_time": "2022-03-31T18:04:05.098Z"
   },
   {
    "duration": 39,
    "start_time": "2022-03-31T18:04:05.106Z"
   },
   {
    "duration": 19,
    "start_time": "2022-03-31T18:04:05.146Z"
   },
   {
    "duration": 35,
    "start_time": "2022-03-31T18:04:05.166Z"
   },
   {
    "duration": 18,
    "start_time": "2022-03-31T18:04:05.206Z"
   },
   {
    "duration": 25,
    "start_time": "2022-03-31T18:04:05.226Z"
   },
   {
    "duration": 45,
    "start_time": "2022-03-31T18:04:05.252Z"
   },
   {
    "duration": 17,
    "start_time": "2022-03-31T18:04:05.298Z"
   },
   {
    "duration": 25,
    "start_time": "2022-03-31T18:04:05.316Z"
   },
   {
    "duration": 94,
    "start_time": "2022-03-31T18:06:04.429Z"
   },
   {
    "duration": 11,
    "start_time": "2022-03-31T18:06:28.570Z"
   },
   {
    "duration": 13,
    "start_time": "2022-03-31T18:06:51.464Z"
   },
   {
    "duration": 9,
    "start_time": "2022-03-31T18:07:00.165Z"
   },
   {
    "duration": 10,
    "start_time": "2022-03-31T18:07:15.768Z"
   },
   {
    "duration": 9,
    "start_time": "2022-03-31T18:07:34.418Z"
   },
   {
    "duration": 16,
    "start_time": "2022-03-31T18:08:01.805Z"
   },
   {
    "duration": 11,
    "start_time": "2022-03-31T18:08:18.360Z"
   },
   {
    "duration": 12,
    "start_time": "2022-03-31T18:08:40.156Z"
   },
   {
    "duration": 13,
    "start_time": "2022-03-31T18:09:06.749Z"
   },
   {
    "duration": 6,
    "start_time": "2022-03-31T18:09:19.334Z"
   }
  ],
  "kernelspec": {
   "display_name": "Python 3 (ipykernel)",
   "language": "python",
   "name": "python3"
  },
  "language_info": {
   "codemirror_mode": {
    "name": "ipython",
    "version": 3
   },
   "file_extension": ".py",
   "mimetype": "text/x-python",
   "name": "python",
   "nbconvert_exporter": "python",
   "pygments_lexer": "ipython3",
   "version": "3.9.7"
  },
  "toc": {
   "base_numbering": 1,
   "nav_menu": {},
   "number_sections": true,
   "sideBar": true,
   "skip_h1_title": true,
   "title_cell": "Table of Contents",
   "title_sidebar": "Contents",
   "toc_cell": false,
   "toc_position": {
    "height": "calc(100% - 180px)",
    "left": "10px",
    "top": "150px",
    "width": "255px"
   },
   "toc_section_display": true,
   "toc_window_display": true
  },
  "toc-autonumbering": true,
  "toc-showmarkdowntxt": false
 },
 "nbformat": 4,
 "nbformat_minor": 4
}
