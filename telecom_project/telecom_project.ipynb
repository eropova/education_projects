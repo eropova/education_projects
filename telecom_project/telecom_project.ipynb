{
 "cells": [
  {
   "cell_type": "markdown",
   "id": "1fbf6bc1",
   "metadata": {},
   "source": [
    "# Анализ тарифов телеком-компании\n",
    "\n",
    "**Цель проекта**:  \n",
    "Определение перспективного тарифа для телеком-компании. Заказчик исследования коммерческий департамент, необходимо выяснить какой тариф приносит больше денег. Это необходимо для планирования и корректровок рекламного бюджет.  \n",
    "\n",
    "**Имеющиеся данные:**  \n",
    "  \n",
    "В нашем распоряжении небольшая выборка клиентов - данные 500 пользователей «Мегалайна»:  \n",
    "- личные данные (ФИ, возраст, город, тариф, период пользования услугами), \n",
    "- данные о длительности звонков, количестве сообщений, объеме интернет-трафика по каждому пользователю за 2018 год,\n",
    "- данные по стоимости тарифов. Клиентам предлагают два тарифных плана: «Смарт» и «Ультра».  \n",
    "\n",
    "**Ход исследования**  \n",
    "- предобработка данных\n",
    "- создания портрета пользователя\n",
    "- анализ использования минут разговора, СМС и интернет-трафика в разрезе тарифного плана\n",
    "- проверка гипотез\n"
   ]
  },
  {
   "cell_type": "markdown",
   "id": "bb1dbe3b",
   "metadata": {},
   "source": [
    "## Изучение данных из файла"
   ]
  },
  {
   "cell_type": "code",
   "execution_count": 1,
   "id": "f132d06a-ee47-4968-9e3d-f6a8377da987",
   "metadata": {},
   "outputs": [],
   "source": [
    "import warnings\n",
    "warnings.simplefilter(action='ignore', category=FutureWarning)"
   ]
  },
  {
   "cell_type": "code",
   "execution_count": 2,
   "id": "7120a9c7",
   "metadata": {},
   "outputs": [],
   "source": [
    "import pandas as pd\n",
    "import matplotlib.pyplot as plt\n",
    "import seaborn as sns\n",
    "from scipy import stats as st\n",
    "import numpy as np\n",
    "import math as mt\n",
    "from functools import reduce"
   ]
  },
  {
   "cell_type": "code",
   "execution_count": 3,
   "id": "50a29a53",
   "metadata": {},
   "outputs": [],
   "source": [
    "local_path = './'\n",
    "server_path = '/datasets/'\n",
    "files = ['calls', 'internet', 'messages', 'tariffs', 'users']\n",
    "data_frames = []\n",
    "for file in files:\n",
    "    try:\n",
    "        exec(f\"data_{file} = pd.read_csv('{local_path}{file}.csv')\")\n",
    "        data_frames.append(f\"data_{file}\")\n",
    "    except:\n",
    "        exec(f\"data_{file} = pd.read_csv('{server_path}{file}.csv')\")\n",
    "        data_frames.append(f\"data_{file}\")"
   ]
  },
  {
   "cell_type": "code",
   "execution_count": 4,
   "id": "08b76a08",
   "metadata": {},
   "outputs": [
    {
     "name": "stdout",
     "output_type": "stream",
     "text": [
      "data_calls\n",
      "<class 'pandas.core.frame.DataFrame'>\n",
      "RangeIndex: 202607 entries, 0 to 202606\n",
      "Data columns (total 4 columns):\n",
      " #   Column     Non-Null Count   Dtype  \n",
      "---  ------     --------------   -----  \n",
      " 0   id         202607 non-null  object \n",
      " 1   call_date  202607 non-null  object \n",
      " 2   duration   202607 non-null  float64\n",
      " 3   user_id    202607 non-null  int64  \n",
      "dtypes: float64(1), int64(1), object(2)\n",
      "memory usage: 6.2+ MB\n"
     ]
    },
    {
     "data": {
      "text/html": [
       "<div>\n",
       "<style scoped>\n",
       "    .dataframe tbody tr th:only-of-type {\n",
       "        vertical-align: middle;\n",
       "    }\n",
       "\n",
       "    .dataframe tbody tr th {\n",
       "        vertical-align: top;\n",
       "    }\n",
       "\n",
       "    .dataframe thead th {\n",
       "        text-align: right;\n",
       "    }\n",
       "</style>\n",
       "<table border=\"1\" class=\"dataframe\">\n",
       "  <thead>\n",
       "    <tr style=\"text-align: right;\">\n",
       "      <th></th>\n",
       "      <th>id</th>\n",
       "      <th>call_date</th>\n",
       "      <th>duration</th>\n",
       "      <th>user_id</th>\n",
       "    </tr>\n",
       "  </thead>\n",
       "  <tbody>\n",
       "    <tr>\n",
       "      <th>0</th>\n",
       "      <td>1000_0</td>\n",
       "      <td>2018-07-25</td>\n",
       "      <td>0.00</td>\n",
       "      <td>1000</td>\n",
       "    </tr>\n",
       "    <tr>\n",
       "      <th>1</th>\n",
       "      <td>1000_1</td>\n",
       "      <td>2018-08-17</td>\n",
       "      <td>0.00</td>\n",
       "      <td>1000</td>\n",
       "    </tr>\n",
       "    <tr>\n",
       "      <th>2</th>\n",
       "      <td>1000_2</td>\n",
       "      <td>2018-06-11</td>\n",
       "      <td>2.85</td>\n",
       "      <td>1000</td>\n",
       "    </tr>\n",
       "    <tr>\n",
       "      <th>3</th>\n",
       "      <td>1000_3</td>\n",
       "      <td>2018-09-21</td>\n",
       "      <td>13.80</td>\n",
       "      <td>1000</td>\n",
       "    </tr>\n",
       "    <tr>\n",
       "      <th>4</th>\n",
       "      <td>1000_4</td>\n",
       "      <td>2018-12-15</td>\n",
       "      <td>5.18</td>\n",
       "      <td>1000</td>\n",
       "    </tr>\n",
       "  </tbody>\n",
       "</table>\n",
       "</div>"
      ],
      "text/plain": [
       "       id   call_date  duration  user_id\n",
       "0  1000_0  2018-07-25      0.00     1000\n",
       "1  1000_1  2018-08-17      0.00     1000\n",
       "2  1000_2  2018-06-11      2.85     1000\n",
       "3  1000_3  2018-09-21     13.80     1000\n",
       "4  1000_4  2018-12-15      5.18     1000"
      ]
     },
     "metadata": {},
     "output_type": "display_data"
    },
    {
     "name": "stdout",
     "output_type": "stream",
     "text": [
      "\n",
      " __________________________________________________ \n",
      "\n",
      "data_internet\n",
      "<class 'pandas.core.frame.DataFrame'>\n",
      "RangeIndex: 149396 entries, 0 to 149395\n",
      "Data columns (total 5 columns):\n",
      " #   Column        Non-Null Count   Dtype  \n",
      "---  ------        --------------   -----  \n",
      " 0   Unnamed: 0    149396 non-null  int64  \n",
      " 1   id            149396 non-null  object \n",
      " 2   mb_used       149396 non-null  float64\n",
      " 3   session_date  149396 non-null  object \n",
      " 4   user_id       149396 non-null  int64  \n",
      "dtypes: float64(1), int64(2), object(2)\n",
      "memory usage: 5.7+ MB\n"
     ]
    },
    {
     "data": {
      "text/html": [
       "<div>\n",
       "<style scoped>\n",
       "    .dataframe tbody tr th:only-of-type {\n",
       "        vertical-align: middle;\n",
       "    }\n",
       "\n",
       "    .dataframe tbody tr th {\n",
       "        vertical-align: top;\n",
       "    }\n",
       "\n",
       "    .dataframe thead th {\n",
       "        text-align: right;\n",
       "    }\n",
       "</style>\n",
       "<table border=\"1\" class=\"dataframe\">\n",
       "  <thead>\n",
       "    <tr style=\"text-align: right;\">\n",
       "      <th></th>\n",
       "      <th>Unnamed: 0</th>\n",
       "      <th>id</th>\n",
       "      <th>mb_used</th>\n",
       "      <th>session_date</th>\n",
       "      <th>user_id</th>\n",
       "    </tr>\n",
       "  </thead>\n",
       "  <tbody>\n",
       "    <tr>\n",
       "      <th>0</th>\n",
       "      <td>0</td>\n",
       "      <td>1000_0</td>\n",
       "      <td>112.95</td>\n",
       "      <td>2018-11-25</td>\n",
       "      <td>1000</td>\n",
       "    </tr>\n",
       "    <tr>\n",
       "      <th>1</th>\n",
       "      <td>1</td>\n",
       "      <td>1000_1</td>\n",
       "      <td>1052.81</td>\n",
       "      <td>2018-09-07</td>\n",
       "      <td>1000</td>\n",
       "    </tr>\n",
       "    <tr>\n",
       "      <th>2</th>\n",
       "      <td>2</td>\n",
       "      <td>1000_2</td>\n",
       "      <td>1197.26</td>\n",
       "      <td>2018-06-25</td>\n",
       "      <td>1000</td>\n",
       "    </tr>\n",
       "    <tr>\n",
       "      <th>3</th>\n",
       "      <td>3</td>\n",
       "      <td>1000_3</td>\n",
       "      <td>550.27</td>\n",
       "      <td>2018-08-22</td>\n",
       "      <td>1000</td>\n",
       "    </tr>\n",
       "    <tr>\n",
       "      <th>4</th>\n",
       "      <td>4</td>\n",
       "      <td>1000_4</td>\n",
       "      <td>302.56</td>\n",
       "      <td>2018-09-24</td>\n",
       "      <td>1000</td>\n",
       "    </tr>\n",
       "  </tbody>\n",
       "</table>\n",
       "</div>"
      ],
      "text/plain": [
       "   Unnamed: 0      id  mb_used session_date  user_id\n",
       "0           0  1000_0   112.95   2018-11-25     1000\n",
       "1           1  1000_1  1052.81   2018-09-07     1000\n",
       "2           2  1000_2  1197.26   2018-06-25     1000\n",
       "3           3  1000_3   550.27   2018-08-22     1000\n",
       "4           4  1000_4   302.56   2018-09-24     1000"
      ]
     },
     "metadata": {},
     "output_type": "display_data"
    },
    {
     "name": "stdout",
     "output_type": "stream",
     "text": [
      "\n",
      " __________________________________________________ \n",
      "\n",
      "data_messages\n",
      "<class 'pandas.core.frame.DataFrame'>\n",
      "RangeIndex: 123036 entries, 0 to 123035\n",
      "Data columns (total 3 columns):\n",
      " #   Column        Non-Null Count   Dtype \n",
      "---  ------        --------------   ----- \n",
      " 0   id            123036 non-null  object\n",
      " 1   message_date  123036 non-null  object\n",
      " 2   user_id       123036 non-null  int64 \n",
      "dtypes: int64(1), object(2)\n",
      "memory usage: 2.8+ MB\n"
     ]
    },
    {
     "data": {
      "text/html": [
       "<div>\n",
       "<style scoped>\n",
       "    .dataframe tbody tr th:only-of-type {\n",
       "        vertical-align: middle;\n",
       "    }\n",
       "\n",
       "    .dataframe tbody tr th {\n",
       "        vertical-align: top;\n",
       "    }\n",
       "\n",
       "    .dataframe thead th {\n",
       "        text-align: right;\n",
       "    }\n",
       "</style>\n",
       "<table border=\"1\" class=\"dataframe\">\n",
       "  <thead>\n",
       "    <tr style=\"text-align: right;\">\n",
       "      <th></th>\n",
       "      <th>id</th>\n",
       "      <th>message_date</th>\n",
       "      <th>user_id</th>\n",
       "    </tr>\n",
       "  </thead>\n",
       "  <tbody>\n",
       "    <tr>\n",
       "      <th>0</th>\n",
       "      <td>1000_0</td>\n",
       "      <td>2018-06-27</td>\n",
       "      <td>1000</td>\n",
       "    </tr>\n",
       "    <tr>\n",
       "      <th>1</th>\n",
       "      <td>1000_1</td>\n",
       "      <td>2018-10-08</td>\n",
       "      <td>1000</td>\n",
       "    </tr>\n",
       "    <tr>\n",
       "      <th>2</th>\n",
       "      <td>1000_2</td>\n",
       "      <td>2018-08-04</td>\n",
       "      <td>1000</td>\n",
       "    </tr>\n",
       "    <tr>\n",
       "      <th>3</th>\n",
       "      <td>1000_3</td>\n",
       "      <td>2018-06-16</td>\n",
       "      <td>1000</td>\n",
       "    </tr>\n",
       "    <tr>\n",
       "      <th>4</th>\n",
       "      <td>1000_4</td>\n",
       "      <td>2018-12-05</td>\n",
       "      <td>1000</td>\n",
       "    </tr>\n",
       "  </tbody>\n",
       "</table>\n",
       "</div>"
      ],
      "text/plain": [
       "       id message_date  user_id\n",
       "0  1000_0   2018-06-27     1000\n",
       "1  1000_1   2018-10-08     1000\n",
       "2  1000_2   2018-08-04     1000\n",
       "3  1000_3   2018-06-16     1000\n",
       "4  1000_4   2018-12-05     1000"
      ]
     },
     "metadata": {},
     "output_type": "display_data"
    },
    {
     "name": "stdout",
     "output_type": "stream",
     "text": [
      "\n",
      " __________________________________________________ \n",
      "\n",
      "data_tariffs\n",
      "<class 'pandas.core.frame.DataFrame'>\n",
      "RangeIndex: 2 entries, 0 to 1\n",
      "Data columns (total 8 columns):\n",
      " #   Column                 Non-Null Count  Dtype \n",
      "---  ------                 --------------  ----- \n",
      " 0   messages_included      2 non-null      int64 \n",
      " 1   mb_per_month_included  2 non-null      int64 \n",
      " 2   minutes_included       2 non-null      int64 \n",
      " 3   rub_monthly_fee        2 non-null      int64 \n",
      " 4   rub_per_gb             2 non-null      int64 \n",
      " 5   rub_per_message        2 non-null      int64 \n",
      " 6   rub_per_minute         2 non-null      int64 \n",
      " 7   tariff_name            2 non-null      object\n",
      "dtypes: int64(7), object(1)\n",
      "memory usage: 256.0+ bytes\n"
     ]
    },
    {
     "data": {
      "text/html": [
       "<div>\n",
       "<style scoped>\n",
       "    .dataframe tbody tr th:only-of-type {\n",
       "        vertical-align: middle;\n",
       "    }\n",
       "\n",
       "    .dataframe tbody tr th {\n",
       "        vertical-align: top;\n",
       "    }\n",
       "\n",
       "    .dataframe thead th {\n",
       "        text-align: right;\n",
       "    }\n",
       "</style>\n",
       "<table border=\"1\" class=\"dataframe\">\n",
       "  <thead>\n",
       "    <tr style=\"text-align: right;\">\n",
       "      <th></th>\n",
       "      <th>messages_included</th>\n",
       "      <th>mb_per_month_included</th>\n",
       "      <th>minutes_included</th>\n",
       "      <th>rub_monthly_fee</th>\n",
       "      <th>rub_per_gb</th>\n",
       "      <th>rub_per_message</th>\n",
       "      <th>rub_per_minute</th>\n",
       "      <th>tariff_name</th>\n",
       "    </tr>\n",
       "  </thead>\n",
       "  <tbody>\n",
       "    <tr>\n",
       "      <th>0</th>\n",
       "      <td>50</td>\n",
       "      <td>15360</td>\n",
       "      <td>500</td>\n",
       "      <td>550</td>\n",
       "      <td>200</td>\n",
       "      <td>3</td>\n",
       "      <td>3</td>\n",
       "      <td>smart</td>\n",
       "    </tr>\n",
       "    <tr>\n",
       "      <th>1</th>\n",
       "      <td>1000</td>\n",
       "      <td>30720</td>\n",
       "      <td>3000</td>\n",
       "      <td>1950</td>\n",
       "      <td>150</td>\n",
       "      <td>1</td>\n",
       "      <td>1</td>\n",
       "      <td>ultra</td>\n",
       "    </tr>\n",
       "  </tbody>\n",
       "</table>\n",
       "</div>"
      ],
      "text/plain": [
       "   messages_included  mb_per_month_included  minutes_included  \\\n",
       "0                 50                  15360               500   \n",
       "1               1000                  30720              3000   \n",
       "\n",
       "   rub_monthly_fee  rub_per_gb  rub_per_message  rub_per_minute tariff_name  \n",
       "0              550         200                3               3       smart  \n",
       "1             1950         150                1               1       ultra  "
      ]
     },
     "metadata": {},
     "output_type": "display_data"
    },
    {
     "name": "stdout",
     "output_type": "stream",
     "text": [
      "\n",
      " __________________________________________________ \n",
      "\n",
      "data_users\n",
      "<class 'pandas.core.frame.DataFrame'>\n",
      "RangeIndex: 500 entries, 0 to 499\n",
      "Data columns (total 8 columns):\n",
      " #   Column      Non-Null Count  Dtype \n",
      "---  ------      --------------  ----- \n",
      " 0   user_id     500 non-null    int64 \n",
      " 1   age         500 non-null    int64 \n",
      " 2   churn_date  38 non-null     object\n",
      " 3   city        500 non-null    object\n",
      " 4   first_name  500 non-null    object\n",
      " 5   last_name   500 non-null    object\n",
      " 6   reg_date    500 non-null    object\n",
      " 7   tariff      500 non-null    object\n",
      "dtypes: int64(2), object(6)\n",
      "memory usage: 31.4+ KB\n"
     ]
    },
    {
     "data": {
      "text/html": [
       "<div>\n",
       "<style scoped>\n",
       "    .dataframe tbody tr th:only-of-type {\n",
       "        vertical-align: middle;\n",
       "    }\n",
       "\n",
       "    .dataframe tbody tr th {\n",
       "        vertical-align: top;\n",
       "    }\n",
       "\n",
       "    .dataframe thead th {\n",
       "        text-align: right;\n",
       "    }\n",
       "</style>\n",
       "<table border=\"1\" class=\"dataframe\">\n",
       "  <thead>\n",
       "    <tr style=\"text-align: right;\">\n",
       "      <th></th>\n",
       "      <th>user_id</th>\n",
       "      <th>age</th>\n",
       "      <th>churn_date</th>\n",
       "      <th>city</th>\n",
       "      <th>first_name</th>\n",
       "      <th>last_name</th>\n",
       "      <th>reg_date</th>\n",
       "      <th>tariff</th>\n",
       "    </tr>\n",
       "  </thead>\n",
       "  <tbody>\n",
       "    <tr>\n",
       "      <th>0</th>\n",
       "      <td>1000</td>\n",
       "      <td>52</td>\n",
       "      <td>NaN</td>\n",
       "      <td>Краснодар</td>\n",
       "      <td>Рафаил</td>\n",
       "      <td>Верещагин</td>\n",
       "      <td>2018-05-25</td>\n",
       "      <td>ultra</td>\n",
       "    </tr>\n",
       "    <tr>\n",
       "      <th>1</th>\n",
       "      <td>1001</td>\n",
       "      <td>41</td>\n",
       "      <td>NaN</td>\n",
       "      <td>Москва</td>\n",
       "      <td>Иван</td>\n",
       "      <td>Ежов</td>\n",
       "      <td>2018-11-01</td>\n",
       "      <td>smart</td>\n",
       "    </tr>\n",
       "    <tr>\n",
       "      <th>2</th>\n",
       "      <td>1002</td>\n",
       "      <td>59</td>\n",
       "      <td>NaN</td>\n",
       "      <td>Стерлитамак</td>\n",
       "      <td>Евгений</td>\n",
       "      <td>Абрамович</td>\n",
       "      <td>2018-06-17</td>\n",
       "      <td>smart</td>\n",
       "    </tr>\n",
       "    <tr>\n",
       "      <th>3</th>\n",
       "      <td>1003</td>\n",
       "      <td>23</td>\n",
       "      <td>NaN</td>\n",
       "      <td>Москва</td>\n",
       "      <td>Белла</td>\n",
       "      <td>Белякова</td>\n",
       "      <td>2018-08-17</td>\n",
       "      <td>ultra</td>\n",
       "    </tr>\n",
       "    <tr>\n",
       "      <th>4</th>\n",
       "      <td>1004</td>\n",
       "      <td>68</td>\n",
       "      <td>NaN</td>\n",
       "      <td>Новокузнецк</td>\n",
       "      <td>Татьяна</td>\n",
       "      <td>Авдеенко</td>\n",
       "      <td>2018-05-14</td>\n",
       "      <td>ultra</td>\n",
       "    </tr>\n",
       "  </tbody>\n",
       "</table>\n",
       "</div>"
      ],
      "text/plain": [
       "   user_id  age churn_date         city first_name  last_name    reg_date  \\\n",
       "0     1000   52        NaN    Краснодар     Рафаил  Верещагин  2018-05-25   \n",
       "1     1001   41        NaN       Москва       Иван       Ежов  2018-11-01   \n",
       "2     1002   59        NaN  Стерлитамак    Евгений  Абрамович  2018-06-17   \n",
       "3     1003   23        NaN       Москва      Белла   Белякова  2018-08-17   \n",
       "4     1004   68        NaN  Новокузнецк    Татьяна   Авдеенко  2018-05-14   \n",
       "\n",
       "  tariff  \n",
       "0  ultra  \n",
       "1  smart  \n",
       "2  smart  \n",
       "3  ultra  \n",
       "4  ultra  "
      ]
     },
     "metadata": {},
     "output_type": "display_data"
    },
    {
     "name": "stdout",
     "output_type": "stream",
     "text": [
      "\n",
      " __________________________________________________ \n",
      "\n"
     ]
    }
   ],
   "source": [
    "for df in data_frames:\n",
    "    print(df)\n",
    "    locals().get(df).info()\n",
    "    display(locals().get(df).head())\n",
    "    print('\\n','_'*50, '\\n')"
   ]
  },
  {
   "cell_type": "markdown",
   "id": "9e83dad8",
   "metadata": {},
   "source": [
    "### Вывод"
   ]
  },
  {
   "cell_type": "markdown",
   "id": "3f795aa3",
   "metadata": {},
   "source": [
    "Методом info() получена общая информация по всем DataFrame.  \n",
    "    \n",
    "Пустые значения во всех столбцах всех DF отсутствуют, иключение столбец \"churn_date\" датафрейма \"data_users\".  \n",
    "Однако здесь пустое значение оправдано, т.к. это свидетельствует о действительности тарифа на момент выгрузки данных.\n",
    "    \n",
    "Названия столбцов во всех DF корректны - отсутствуют лишние пробелы и кирилические символы, а в качестве разделителя слов использовано подчеркивание.  \n",
    "   \n",
    "Типы данные столбцов соответствуют, содержащимся в них данных. Исключение составляют столбцы с датами в DF:\n",
    "- \"data_calls\" - call_date, \n",
    "- \"data_internet\" - session_date,\n",
    "- \"data_messages\" - messages_date\n",
    "- \"data_users\" - churn_date, reg_date\n",
    "    \n",
    "в них данные представлены в виде строк.  \n",
    "Для использования их в дальнейших расчетах они будут приведены к типу данных datetime.  \n",
    "    \n",
    "В разных DF одинаковые столбцы (например user_id) имеют один тип данных, это упростит объединение таблиц.\n"
   ]
  },
  {
   "cell_type": "markdown",
   "id": "74bbe842",
   "metadata": {},
   "source": [
    "## Предобработка данных"
   ]
  },
  {
   "cell_type": "markdown",
   "id": "946346ce",
   "metadata": {},
   "source": [
    "### Изменение типов данных и добавление столбца \"месяц\""
   ]
  },
  {
   "cell_type": "code",
   "execution_count": 5,
   "id": "d3fa0ee2",
   "metadata": {},
   "outputs": [],
   "source": [
    "data_users['churn_date'].fillna(value=0, inplace=True)"
   ]
  },
  {
   "cell_type": "code",
   "execution_count": 6,
   "id": "26a031a2",
   "metadata": {},
   "outputs": [
    {
     "data": {
      "text/html": [
       "<div>\n",
       "<style scoped>\n",
       "    .dataframe tbody tr th:only-of-type {\n",
       "        vertical-align: middle;\n",
       "    }\n",
       "\n",
       "    .dataframe tbody tr th {\n",
       "        vertical-align: top;\n",
       "    }\n",
       "\n",
       "    .dataframe thead th {\n",
       "        text-align: right;\n",
       "    }\n",
       "</style>\n",
       "<table border=\"1\" class=\"dataframe\">\n",
       "  <thead>\n",
       "    <tr style=\"text-align: right;\">\n",
       "      <th></th>\n",
       "      <th>user_id</th>\n",
       "      <th>age</th>\n",
       "      <th>churn_date</th>\n",
       "      <th>city</th>\n",
       "      <th>first_name</th>\n",
       "      <th>last_name</th>\n",
       "      <th>reg_date</th>\n",
       "      <th>tariff</th>\n",
       "    </tr>\n",
       "  </thead>\n",
       "  <tbody>\n",
       "    <tr>\n",
       "      <th>0</th>\n",
       "      <td>1000</td>\n",
       "      <td>52</td>\n",
       "      <td>0</td>\n",
       "      <td>Краснодар</td>\n",
       "      <td>Рафаил</td>\n",
       "      <td>Верещагин</td>\n",
       "      <td>2018-05-25</td>\n",
       "      <td>ultra</td>\n",
       "    </tr>\n",
       "    <tr>\n",
       "      <th>1</th>\n",
       "      <td>1001</td>\n",
       "      <td>41</td>\n",
       "      <td>0</td>\n",
       "      <td>Москва</td>\n",
       "      <td>Иван</td>\n",
       "      <td>Ежов</td>\n",
       "      <td>2018-11-01</td>\n",
       "      <td>smart</td>\n",
       "    </tr>\n",
       "    <tr>\n",
       "      <th>2</th>\n",
       "      <td>1002</td>\n",
       "      <td>59</td>\n",
       "      <td>0</td>\n",
       "      <td>Стерлитамак</td>\n",
       "      <td>Евгений</td>\n",
       "      <td>Абрамович</td>\n",
       "      <td>2018-06-17</td>\n",
       "      <td>smart</td>\n",
       "    </tr>\n",
       "    <tr>\n",
       "      <th>3</th>\n",
       "      <td>1003</td>\n",
       "      <td>23</td>\n",
       "      <td>0</td>\n",
       "      <td>Москва</td>\n",
       "      <td>Белла</td>\n",
       "      <td>Белякова</td>\n",
       "      <td>2018-08-17</td>\n",
       "      <td>ultra</td>\n",
       "    </tr>\n",
       "    <tr>\n",
       "      <th>4</th>\n",
       "      <td>1004</td>\n",
       "      <td>68</td>\n",
       "      <td>0</td>\n",
       "      <td>Новокузнецк</td>\n",
       "      <td>Татьяна</td>\n",
       "      <td>Авдеенко</td>\n",
       "      <td>2018-05-14</td>\n",
       "      <td>ultra</td>\n",
       "    </tr>\n",
       "  </tbody>\n",
       "</table>\n",
       "</div>"
      ],
      "text/plain": [
       "   user_id  age churn_date         city first_name  last_name    reg_date  \\\n",
       "0     1000   52          0    Краснодар     Рафаил  Верещагин  2018-05-25   \n",
       "1     1001   41          0       Москва       Иван       Ежов  2018-11-01   \n",
       "2     1002   59          0  Стерлитамак    Евгений  Абрамович  2018-06-17   \n",
       "3     1003   23          0       Москва      Белла   Белякова  2018-08-17   \n",
       "4     1004   68          0  Новокузнецк    Татьяна   Авдеенко  2018-05-14   \n",
       "\n",
       "  tariff  \n",
       "0  ultra  \n",
       "1  smart  \n",
       "2  smart  \n",
       "3  ultra  \n",
       "4  ultra  "
      ]
     },
     "execution_count": 6,
     "metadata": {},
     "output_type": "execute_result"
    }
   ],
   "source": [
    "data_users.head()"
   ]
  },
  {
   "cell_type": "code",
   "execution_count": 7,
   "id": "56b3983a",
   "metadata": {},
   "outputs": [],
   "source": [
    "dframes = [data_calls, data_internet, data_messages, data_users, ]\n",
    "colmns = ['call_date', 'session_date', 'message_date', 'reg_date']\n",
    "for i in range(len(dframes)):\n",
    "    dframes[i][colmns[i]] = pd.to_datetime(dframes[i][colmns[i]], format='%Y-%m-%d')\n",
    "    dframes[i]['month'] = dframes[i][colmns[i]].dt.month\n",
    "data_users.rename(columns={'month':'reg_month'}, inplace=True)"
   ]
  },
  {
   "cell_type": "code",
   "execution_count": 8,
   "id": "7bf6f8ed",
   "metadata": {},
   "outputs": [
    {
     "name": "stdout",
     "output_type": "stream",
     "text": [
      "<class 'pandas.core.frame.DataFrame'>\n",
      "RangeIndex: 5 entries, 0 to 4\n",
      "Data columns (total 9 columns):\n",
      " #   Column      Non-Null Count  Dtype         \n",
      "---  ------      --------------  -----         \n",
      " 0   user_id     5 non-null      int64         \n",
      " 1   age         5 non-null      int64         \n",
      " 2   churn_date  5 non-null      object        \n",
      " 3   city        5 non-null      object        \n",
      " 4   first_name  5 non-null      object        \n",
      " 5   last_name   5 non-null      object        \n",
      " 6   reg_date    5 non-null      datetime64[ns]\n",
      " 7   tariff      5 non-null      object        \n",
      " 8   reg_month   5 non-null      int64         \n",
      "dtypes: datetime64[ns](1), int64(3), object(5)\n",
      "memory usage: 488.0+ bytes\n"
     ]
    }
   ],
   "source": [
    "data_users.head().info()"
   ]
  },
  {
   "cell_type": "markdown",
   "id": "a12a98c3",
   "metadata": {},
   "source": [
    "### Удаление дубликатов"
   ]
  },
  {
   "cell_type": "code",
   "execution_count": 9,
   "id": "a6d7884e",
   "metadata": {},
   "outputs": [
    {
     "name": "stdout",
     "output_type": "stream",
     "text": [
      "data_calls\n",
      "0\n",
      "\n",
      "data_internet\n",
      "0\n",
      "\n",
      "data_messages\n",
      "0\n",
      "\n",
      "data_tariffs\n",
      "0\n",
      "\n",
      "data_users\n",
      "0\n",
      "\n"
     ]
    }
   ],
   "source": [
    "for df in data_frames:\n",
    "    print(df)\n",
    "    print(locals().get(df).duplicated().sum())\n",
    "    print('')"
   ]
  },
  {
   "cell_type": "markdown",
   "id": "6e622db0-7ee2-4e46-b0e1-6c7fcedcf92d",
   "metadata": {},
   "source": [
    "### Удаление столбца "
   ]
  },
  {
   "cell_type": "code",
   "execution_count": 10,
   "id": "6115fee1-6b04-42ee-9216-9ce3823a2264",
   "metadata": {},
   "outputs": [],
   "source": [
    "# DF был загружен без указания уже существующей колонки с индексами (index_col=0), произошло ее дублирование.\n",
    "# для чистоты данных удалим лишнюю\n",
    "data_internet.drop(columns='Unnamed: 0', inplace=True)"
   ]
  },
  {
   "cell_type": "markdown",
   "id": "060d61db-4e65-4d1c-a07d-fa4790686cc5",
   "metadata": {},
   "source": [
    "### Вывод\n",
    "\n",
    "   \n",
    "Данные в столбцах типа object (строка) для использования их в дальнейших расчетах приведены к типу данных datetime в DF 'data_calls', 'data_internet', data_messages, 'data_users'.  \n",
    "    \n",
    "Для последующей аналитики в разрезе месяца добавлен соответствующий столбец.    \n",
    "    \n",
    "Проведена проверка на наличие дубликатов по всем DF. Во всех DataFrame дубликаты отсутствуют.\n"
   ]
  },
  {
   "cell_type": "markdown",
   "id": "d1a54b79",
   "metadata": {},
   "source": [
    "## Портрет пользователя\n",
    "\n",
    "- количество сделанных звонков и израсходованных минут разговора по месяцам;\n",
    "- количество отправленных сообщений по месяцам;\n",
    "- объем израсходованного интернет-трафика по месяцам;\n",
    "- помесячную выручку с каждого пользователя (вычтите бесплатный лимит из суммарного количества звонков, сообщений и интернет-трафика; остаток умножьте на значение из тарифного плана; прибавьте абонентскую плату, соответствующую тарифному плану).\n"
   ]
  },
  {
   "cell_type": "code",
   "execution_count": 11,
   "id": "33fc0bd4-7257-4e07-8115-e120dbb62036",
   "metadata": {},
   "outputs": [],
   "source": [
    "data_calls['duration'] = np.ceil(data_calls['duration'])\n",
    "\n",
    "data_calls_corr = data_calls.query('duration != 0')\n",
    "\n",
    "group_calls = data_calls_corr.pivot_table(\n",
    "    index=['user_id', 'month'], \n",
    "    values=['duration'], \n",
    "    aggfunc=['sum', 'count'])\n",
    "\n",
    "group_calls.columns = ['sum_calls', 'count_calls']"
   ]
  },
  {
   "cell_type": "code",
   "execution_count": 12,
   "id": "0f1ffcae",
   "metadata": {},
   "outputs": [],
   "source": [
    "group_messages = data_messages.pivot_table(\n",
    "    index=['user_id', 'month'], \n",
    "    values=['message_date'], \n",
    "    aggfunc='count')\n",
    "\n",
    "group_messages.columns = ['count_mess']"
   ]
  },
  {
   "cell_type": "code",
   "execution_count": 13,
   "id": "d7f370d1",
   "metadata": {},
   "outputs": [],
   "source": [
    "group_internet = data_internet.pivot_table(\n",
    "    index=['user_id', 'month'], \n",
    "    values=['mb_used'], \n",
    "    aggfunc='sum')\n",
    "\n",
    "group_internet.columns = ['sum_internet']"
   ]
  },
  {
   "cell_type": "code",
   "execution_count": 14,
   "id": "2da51c92-650f-42bb-a050-08e4d5774fd2",
   "metadata": {},
   "outputs": [],
   "source": [
    "big_table = reduce(lambda  left, right: pd.merge(left, right, on=['user_id', 'month'],\n",
    "                                                how='outer'), \n",
    "                   [group_calls, group_messages, group_internet, ]).reset_index()\n",
    "\n",
    "big_table = big_table.merge(data_users[['user_id', 'tariff', 'reg_month']], on=['user_id'])\n",
    "\n",
    "big_table = big_table.fillna(0)"
   ]
  },
  {
   "cell_type": "code",
   "execution_count": 15,
   "id": "7f41a84c",
   "metadata": {},
   "outputs": [],
   "source": [
    "tariff_smart = data_tariffs.query('tariff_name == \"smart\"')\n",
    "tariff_ultra = data_tariffs.query('tariff_name == \"ultra\"')"
   ]
  },
  {
   "cell_type": "code",
   "execution_count": 16,
   "id": "8804a7d4-7651-4701-ae54-7125321a2309",
   "metadata": {},
   "outputs": [],
   "source": [
    "def month_cost(row):\n",
    "    calls = row['sum_calls']\n",
    "    mess = row['count_mess']\n",
    "    mb = row['sum_internet']\n",
    "    tariff = row['tariff']\n",
    "\n",
    "    total_money = 0\n",
    "    \n",
    "    if tariff == 'smart':\n",
    "        total_money += tariff_smart['rub_monthly_fee'].item()\n",
    "        \n",
    "        total_money += np.where(\n",
    "            calls - tariff_smart['minutes_included'].item() > 0, \n",
    "            int((calls - tariff_smart['minutes_included']) * tariff_smart['rub_per_minute'].item()),\n",
    "            0\n",
    "        )\n",
    "        \n",
    "            \n",
    "        total_money +=  np.where(\n",
    "            mess - tariff_smart['messages_included'].item() > 0,\n",
    "            (mess - tariff_smart['messages_included']) * tariff_smart['rub_per_message'].item(),\n",
    "            0\n",
    "        )\n",
    "            \n",
    "        total_money +=  np.where(\n",
    "            mb - tariff_smart['mb_per_month_included'].item() > 0,\n",
    "            mt.ceil((mb - tariff_smart['mb_per_month_included'].item())/1024) * tariff_smart['rub_per_gb'].item(),\n",
    "            0\n",
    "        )    \n",
    "        \n",
    "\n",
    "    else:\n",
    "        total_money += tariff_ultra['rub_monthly_fee'].item()\n",
    "        \n",
    "        total_money += np.where(\n",
    "            calls - tariff_ultra['minutes_included'].item() > 0, \n",
    "            int((calls - tariff_ultra['minutes_included']) * tariff_ultra['rub_per_minute'].item()),\n",
    "            0\n",
    "        )\n",
    "        \n",
    "            \n",
    "        total_money +=  np.where(\n",
    "            mess - tariff_ultra['messages_included'].item() > 0,\n",
    "            (mess - tariff_ultra['messages_included']) * tariff_ultra['rub_per_message'].item(),\n",
    "            0\n",
    "        )\n",
    "            \n",
    "        total_money +=  np.where(\n",
    "            mb - tariff_ultra['mb_per_month_included'].item() > 0,\n",
    "            mt.ceil((mb - tariff_ultra['mb_per_month_included'].item())/1024) * tariff_ultra['rub_per_gb'].item(),\n",
    "            0\n",
    "        )            \n",
    "       \n",
    "    return int(total_money)"
   ]
  },
  {
   "cell_type": "code",
   "execution_count": 17,
   "id": "eac4fe1f",
   "metadata": {},
   "outputs": [],
   "source": [
    "big_table['total_costs'] = big_table.apply(month_cost, axis=1)"
   ]
  },
  {
   "cell_type": "markdown",
   "id": "e950f100",
   "metadata": {},
   "source": [
    "### Вывод"
   ]
  },
  {
   "cell_type": "markdown",
   "id": "8d3b3480",
   "metadata": {},
   "source": [
    "В DF 'data_calls', 'data_messages', 'data_internet' при помощи метода pivot_table получены сгруппированные данные по каждому пользователю в разрезе месяца.  \n",
    "Для объединения нескольких DF в один применен метод merge. Получившиеся после слияния отсутствующие значения (NaN) заменены методом fillna() на нули.  \n",
    "Это позволит производить в дальнейшем математические операции с этими данными.    \n",
    "На основании сводных данных произведен расчет ежемесячных расходов каждого пользователя по каждой услуге, входящей в тарифный план  (абонентская плата и сверхлимитные использования звонков, СМС и интернета).  \n",
    "Для этого написана функция month_cost() и применена методом apply к сводному накопительному DF big_table.\n",
    "    \n"
   ]
  },
  {
   "cell_type": "markdown",
   "id": "fbac4261",
   "metadata": {},
   "source": [
    "## Анализ использования минут разговора, СМС и интернет-трафика в разрезе тарифного плана\n",
    "\n",
    "- расчет среднего количества, дисперсии и стандартного отклонения по показателям по каждому из тарифов:\n",
    "    * количество израсходованных минут разговора\n",
    "    * количество отправленных сообщений \n",
    "    * объем израсходованного интернет-трафика в месяц\n",
    "\n",
    "\n",
    "- построение гистограмм по полученным данным\n",
    "- описание распределения\n"
   ]
  },
  {
   "cell_type": "markdown",
   "id": "4f2c57c0",
   "metadata": {},
   "source": [
    "### Расчет среднего количества, дисперсии и стандартного отклонения по показателям по каждому из тарифов"
   ]
  },
  {
   "cell_type": "code",
   "execution_count": 18,
   "id": "83d4442c-c9d8-46e1-8128-98851806ed6e",
   "metadata": {},
   "outputs": [],
   "source": [
    "stats_table = big_table.pivot_table(\n",
    "    index=['tariff'], \n",
    "    values=['sum_calls', \n",
    "            'count_mess', \n",
    "            'sum_internet']\n",
    ")\n",
    "\n",
    "stats_table.columns = ['mean_mess', 'mean_calls', 'mean_internet']"
   ]
  },
  {
   "cell_type": "code",
   "execution_count": 19,
   "id": "5185b260",
   "metadata": {},
   "outputs": [],
   "source": [
    "smart_slice = big_table.query('tariff == \"smart\"')[['sum_calls', 'count_mess', 'sum_internet']]\n",
    "var_smart = np.var(smart_slice)\n",
    "std_smart = np.std(smart_slice)"
   ]
  },
  {
   "cell_type": "code",
   "execution_count": 20,
   "id": "033cd41a",
   "metadata": {},
   "outputs": [],
   "source": [
    "ultra_slice = big_table.query('tariff == \"ultra\"')[['sum_calls', 'count_mess', 'sum_internet']]\n",
    "var_ultra = np.var(ultra_slice)\n",
    "std_ultra = np.std(ultra_slice)"
   ]
  },
  {
   "cell_type": "code",
   "execution_count": 21,
   "id": "8294cc6d",
   "metadata": {},
   "outputs": [],
   "source": [
    "var_smart = (pd.DataFrame(var_smart, index=['sum_calls', 'count_mess', 'sum_internet'], columns=['smart'])).T\n",
    "var_ultra = (pd.DataFrame(var_ultra, index=['sum_calls', 'count_mess', 'sum_internet'], columns=['ultra'])).T\n",
    "\n",
    "std_smart = (pd.DataFrame(std_smart, index=['sum_calls', 'count_mess', 'sum_internet'], columns=['smart'])).T\n",
    "std_ultra = (pd.DataFrame(std_ultra, index=['sum_calls', 'count_mess', 'sum_internet'], columns=['ultra'])).T"
   ]
  },
  {
   "cell_type": "code",
   "execution_count": 22,
   "id": "1813bdd0",
   "metadata": {},
   "outputs": [],
   "source": [
    "var_smart.columns = ['var_sum_calls', 'var_count_mess', 'var_sum_internet']\n",
    "var_ultra.columns = ['var_sum_calls', 'var_count_mess', 'var_sum_internet']\n",
    "\n",
    "std_smart.columns = ['std_sum_calls', 'std_count_mess', 'std_sum_internet']\n",
    "std_ultra.columns = ['std_sum_calls', 'std_count_mess', 'std_sum_internet']"
   ]
  },
  {
   "cell_type": "code",
   "execution_count": 23,
   "id": "23f2f3bc",
   "metadata": {},
   "outputs": [],
   "source": [
    "var_stat =var_smart.append(var_ultra)\n",
    "std_stat =std_smart.append(std_ultra)"
   ]
  },
  {
   "cell_type": "code",
   "execution_count": 24,
   "id": "155cf4af",
   "metadata": {},
   "outputs": [],
   "source": [
    "stats_table[['var_sum_calls', 'var_count_mess', 'var_sum_internet']] = var_stat[['var_sum_calls', 'var_count_mess', 'var_sum_internet']]\n",
    "stats_table[['std_sum_calls', 'std_count_mess', 'std_sum_internet']] = std_stat[['std_sum_calls', 'std_count_mess', 'std_sum_internet']]"
   ]
  },
  {
   "cell_type": "code",
   "execution_count": 25,
   "id": "aab0e85c",
   "metadata": {},
   "outputs": [
    {
     "data": {
      "text/html": [
       "<div>\n",
       "<style scoped>\n",
       "    .dataframe tbody tr th:only-of-type {\n",
       "        vertical-align: middle;\n",
       "    }\n",
       "\n",
       "    .dataframe tbody tr th {\n",
       "        vertical-align: top;\n",
       "    }\n",
       "\n",
       "    .dataframe thead th {\n",
       "        text-align: right;\n",
       "    }\n",
       "</style>\n",
       "<table border=\"1\" class=\"dataframe\">\n",
       "  <thead>\n",
       "    <tr style=\"text-align: right;\">\n",
       "      <th></th>\n",
       "      <th>mean_mess</th>\n",
       "      <th>mean_calls</th>\n",
       "      <th>mean_internet</th>\n",
       "      <th>var_sum_calls</th>\n",
       "      <th>var_count_mess</th>\n",
       "      <th>var_sum_internet</th>\n",
       "      <th>std_sum_calls</th>\n",
       "      <th>std_count_mess</th>\n",
       "      <th>std_sum_internet</th>\n",
       "    </tr>\n",
       "    <tr>\n",
       "      <th>tariff</th>\n",
       "      <th></th>\n",
       "      <th></th>\n",
       "      <th></th>\n",
       "      <th></th>\n",
       "      <th></th>\n",
       "      <th></th>\n",
       "      <th></th>\n",
       "      <th></th>\n",
       "      <th></th>\n",
       "    </tr>\n",
       "  </thead>\n",
       "  <tbody>\n",
       "    <tr>\n",
       "      <th>smart</th>\n",
       "      <td>33.384029</td>\n",
       "      <td>417.934948</td>\n",
       "      <td>16208.386990</td>\n",
       "      <td>36203.066652</td>\n",
       "      <td>796.455483</td>\n",
       "      <td>3.444704e+07</td>\n",
       "      <td>190.271035</td>\n",
       "      <td>28.221543</td>\n",
       "      <td>5869.159692</td>\n",
       "    </tr>\n",
       "    <tr>\n",
       "      <th>ultra</th>\n",
       "      <td>49.363452</td>\n",
       "      <td>526.623350</td>\n",
       "      <td>19468.805208</td>\n",
       "      <td>100771.223617</td>\n",
       "      <td>2282.946075</td>\n",
       "      <td>1.016477e+08</td>\n",
       "      <td>317.444836</td>\n",
       "      <td>47.780185</td>\n",
       "      <td>10082.049061</td>\n",
       "    </tr>\n",
       "  </tbody>\n",
       "</table>\n",
       "</div>"
      ],
      "text/plain": [
       "        mean_mess  mean_calls  mean_internet  var_sum_calls  var_count_mess  \\\n",
       "tariff                                                                        \n",
       "smart   33.384029  417.934948   16208.386990   36203.066652      796.455483   \n",
       "ultra   49.363452  526.623350   19468.805208  100771.223617     2282.946075   \n",
       "\n",
       "        var_sum_internet  std_sum_calls  std_count_mess  std_sum_internet  \n",
       "tariff                                                                     \n",
       "smart       3.444704e+07     190.271035       28.221543       5869.159692  \n",
       "ultra       1.016477e+08     317.444836       47.780185      10082.049061  "
      ]
     },
     "execution_count": 25,
     "metadata": {},
     "output_type": "execute_result"
    }
   ],
   "source": [
    "stats_table"
   ]
  },
  {
   "cell_type": "markdown",
   "id": "ee211835",
   "metadata": {},
   "source": [
    "  \n",
    "Произведен расчет среднего количества, дисперсии и стандартного отклонения по показателям по каждому из тарифов:  \n",
    "* количество израсходованных минут разговора\n",
    "* количество отправленных сообщений \n",
    "* объем израсходованного интернет-трафика в месяц.\n",
    "Расчетные данные для наглядности помещены в одну таблицу \"stats_table\".\n"
   ]
  },
  {
   "cell_type": "markdown",
   "id": "f223f832",
   "metadata": {},
   "source": [
    "### Построение графиков"
   ]
  },
  {
   "cell_type": "markdown",
   "id": "8dabbfb5",
   "metadata": {},
   "source": [
    "Для описания распределения построены гистограммы плотности вероятностей и диаграммы размаха по каждому из показателей:  \n",
    "    \n",
    "* количество израсходованных минут разговора\n",
    "* количество отправленных сообщений \n",
    "* объем израсходованного интернет-трафика в месяц. \n"
   ]
  },
  {
   "cell_type": "code",
   "execution_count": 26,
   "id": "6e21aedc-8ce3-478d-8d01-bb25d315c371",
   "metadata": {},
   "outputs": [
    {
     "data": {
      "image/png": "[encoded data removed]",
      "text/plain": [
       "<Figure size 1080x432 with 2 Axes>"
      ]
     },
     "metadata": {
      "needs_background": "light"
     },
     "output_type": "display_data"
    }
   ],
   "source": [
    "fig, axes = plt.subplots(1, 2, figsize=(15,6))\n",
    "\n",
    "axes[0] = plt.subplot(121)\n",
    "sns.distplot(\n",
    "    smart_slice['sum_calls'],\n",
    "    label='smart',\n",
    "    color= 'g'\n",
    "\n",
    "   )\n",
    "sns.distplot(\n",
    "    ultra_slice['sum_calls'],\n",
    "    label='ultra',\n",
    "    color='b'\n",
    "   )\n",
    "plt.title('Гистограмма')\n",
    "plt.xlabel('Минуты разговора')\n",
    "plt.legend()\n",
    "\n",
    "axes[1] = plt.subplot(122)\n",
    "sns.boxplot(\n",
    "    data =  big_table,\n",
    "    x='tariff',\n",
    "    y = 'sum_calls',\n",
    "    palette='BuGn',\n",
    "    medianprops=dict(color=\"#f7cf05\", alpha=0.7)\n",
    ")\n",
    "plt.title('Диаграмма размаха')\n",
    "plt.ylabel('Длительность звонка')\n",
    "plt.xlabel('Тариф')\n",
    "\n",
    "plt.suptitle('Распределение длительности звонка по тарифам', size=15)\n",
    "plt.show()"
   ]
  },
  {
   "cell_type": "markdown",
   "id": "21cdf14a",
   "metadata": {
    "tags": []
   },
   "source": [
    "    \n",
    "**Количество израсходованных минут разговора**\n",
    "    \n",
    "- на тарифе 'smart' распределение стремится к нормальному. Наиболее частые значения (практически равные по частоте появления) 380 и 420 минут.\n",
    "- на тарифе 'ultra' заметен сильный выброс в значении 0, остальные значения скошены вправо. Второе по частоте всречающееся значениее 500 минут.\n"
   ]
  },
  {
   "cell_type": "code",
   "execution_count": 27,
   "id": "4bc630fa-8ad9-4597-96e5-b3454de9020b",
   "metadata": {},
   "outputs": [
    {
     "data": {
      "image/png": "[encoded data removed]",
      "text/plain": [
       "<Figure size 1080x432 with 2 Axes>"
      ]
     },
     "metadata": {
      "needs_background": "light"
     },
     "output_type": "display_data"
    }
   ],
   "source": [
    "fig, axes = plt.subplots(1, 2, figsize=(15,6))\n",
    "\n",
    "axes[0] = plt.subplot(121)\n",
    "sns.distplot(\n",
    "    smart_slice['count_mess'],\n",
    "    label='smart',\n",
    "    color= 'g'\n",
    "\n",
    "   )\n",
    "sns.distplot(\n",
    "    ultra_slice['count_mess'],\n",
    "    label='ultra',\n",
    "    color='b'\n",
    "   )\n",
    "plt.title('Гистограмма')\n",
    "plt.xlabel('Сообщения')\n",
    "plt.legend()\n",
    "\n",
    "axes[1] = plt.subplot(122)\n",
    "sns.boxplot(\n",
    "    data =  big_table,\n",
    "    x='tariff',\n",
    "    y = 'count_mess',\n",
    "    palette='BuGn',\n",
    "    medianprops=dict(color=\"#f7cf05\", alpha=0.7)\n",
    ")\n",
    "plt.title('Диаграмма размаха')\n",
    "plt.ylabel('Сообщения')\n",
    "plt.xlabel('Тариф')\n",
    "\n",
    "plt.suptitle('Распределение числа сообщений по тарифам', size=15)\n",
    "plt.show()"
   ]
  },
  {
   "cell_type": "markdown",
   "id": "1c72c2b5",
   "metadata": {},
   "source": [
    "  \n",
    "**Количество отправленных сообщений**\n",
    "    \n",
    "- на тарифе 'smart' заметна сильная скошенность вправо, распределение ассиметрично, сильный выброс в значении 0-5 сообщений.\n",
    "- на тарифе 'ultra' так же заметна сильная скошенность вправо, распределение ассиметрично, однако сильный выброс уже в значении 0-10 сообщений.\n"
   ]
  },
  {
   "cell_type": "code",
   "execution_count": null,
   "id": "9e44352c-879d-4a33-aed3-8977b9153fdb",
   "metadata": {},
   "outputs": [],
   "source": []
  },
  {
   "cell_type": "code",
   "execution_count": 28,
   "id": "e530c40a-1eac-4d08-a8d1-cfe1214b7f89",
   "metadata": {},
   "outputs": [
    {
     "data": {
      "image/png": "[encoded data removed]",
      "text/plain": [
       "<Figure size 1080x432 with 2 Axes>"
      ]
     },
     "metadata": {
      "needs_background": "light"
     },
     "output_type": "display_data"
    }
   ],
   "source": [
    "fig, axes = plt.subplots(1, 2, figsize=(15,6))\n",
    "\n",
    "axes[0] = plt.subplot(121)\n",
    "sns.distplot(\n",
    "    smart_slice['sum_internet'],\n",
    "    label='smart',\n",
    "    color= 'g'\n",
    "\n",
    "   )\n",
    "sns.distplot(\n",
    "    ultra_slice['sum_internet'],\n",
    "    label='ultra',\n",
    "    color='b'\n",
    "   )\n",
    "plt.title('Гистограмма')\n",
    "plt.xlabel('Интернет-трафик (Мб)')\n",
    "plt.legend()\n",
    "\n",
    "axes[1] = plt.subplot(122)\n",
    "sns.boxplot(\n",
    "    data =  big_table,\n",
    "    x='tariff',\n",
    "    y = 'sum_internet',\n",
    "    palette='BuGn',\n",
    "    medianprops=dict(color=\"#f7cf05\", alpha=0.7)\n",
    ")\n",
    "plt.title('Диаграмма размаха')\n",
    "plt.ylabel('Интернет-трафик (Мб)')\n",
    "plt.xlabel('Тариф')\n",
    "\n",
    "plt.suptitle('Распределение интернет трафика по тарифам', size=15)\n",
    "plt.show()"
   ]
  },
  {
   "cell_type": "markdown",
   "id": "946e3bee",
   "metadata": {},
   "source": [
    "**Объем израсходованного интернет-трафика в месяц.**\n",
    "    \n",
    "- на тарифе 'smart' распределение стремится к нормальному. Наиболее частое значение - 15-20 тыс. мб. Множественные выбросы выше максимума.\n",
    "- на тарифе 'ultra' распределение стремится к нормальному, но заметна скошеность вправо. Наиболее частое значение - 15-20 тыс. мб.  \n"
   ]
  },
  {
   "cell_type": "markdown",
   "id": "5c948c73",
   "metadata": {},
   "source": [
    "## Проверка гипотез\n",
    "\n",
    "- средняя выручка пользователей тарифов «Ультра» и «Смарт» различаются;\n",
    "- средняя выручка пользователей из Москвы отличается от выручки пользователей из других регионов.\n",
    "\n"
   ]
  },
  {
   "cell_type": "markdown",
   "id": "d3210c63",
   "metadata": {},
   "source": [
    "**Гипотеза: средняя выручка пользователей тарифов «Ультра» и «Смарт» различаются**  \n",
    "    \n",
    "**H0**: Средняя выручка пользователей тарифа «Ультра» **равна** средней выручке пользователей тарифа «Смарт».     \n",
    "    \n",
    "**H1**: Средняя выручка пользователей тарифа «Ультра» **не равна** средней выручке пользователей тарифа «Смарт».  \n",
    "Данные гипотезы выбраны в качестве нулевой и альтернативной потому что они противоречат друг другу и в случае если отвергается одна из них, другая не отвергается.\n"
   ]
  },
  {
   "cell_type": "code",
   "execution_count": 29,
   "id": "68664240-2386-4735-8be6-466ef5619602",
   "metadata": {},
   "outputs": [],
   "source": [
    "total_costs_smart = big_table.query('tariff == \"smart\"')['total_costs']\n",
    "total_costs_ultra = big_table.query('tariff == \"ultra\"')['total_costs']"
   ]
  },
  {
   "cell_type": "code",
   "execution_count": 30,
   "id": "4f590038-093a-4366-a79f-a663e6e0ce67",
   "metadata": {},
   "outputs": [
    {
     "data": {
      "text/plain": [
       "count    2229.000000\n",
       "mean     1289.973531\n",
       "std       818.404367\n",
       "min       550.000000\n",
       "25%       550.000000\n",
       "50%      1023.000000\n",
       "75%      1750.000000\n",
       "max      6770.000000\n",
       "Name: total_costs, dtype: float64"
      ]
     },
     "execution_count": 30,
     "metadata": {},
     "output_type": "execute_result"
    }
   ],
   "source": [
    "total_costs_smart.describe()"
   ]
  },
  {
   "cell_type": "code",
   "execution_count": 31,
   "id": "ae4904fa-e66c-489c-8321-81af1b34c8b2",
   "metadata": {},
   "outputs": [
    {
     "data": {
      "text/plain": [
       "count     985.000000\n",
       "mean     2070.152284\n",
       "std       376.187114\n",
       "min      1950.000000\n",
       "25%      1950.000000\n",
       "50%      1950.000000\n",
       "75%      1950.000000\n",
       "max      4800.000000\n",
       "Name: total_costs, dtype: float64"
      ]
     },
     "execution_count": 31,
     "metadata": {},
     "output_type": "execute_result"
    }
   ],
   "source": [
    "total_costs_ultra.describe()"
   ]
  },
  {
   "cell_type": "markdown",
   "id": "424af4a1-0425-477f-a274-4853c29ed79b",
   "metadata": {},
   "source": [
    "Перед проверкой гипотез проверим распределение и дисперсии выборок:"
   ]
  },
  {
   "cell_type": "code",
   "execution_count": 32,
   "id": "7039f27b-9e41-43ad-9b7d-d68ca78a6806",
   "metadata": {},
   "outputs": [],
   "source": [
    "var_smart = np.var(total_costs_smart, ddof=1)\n",
    "var_ultra = np.var(total_costs_ultra, ddof=1)"
   ]
  },
  {
   "cell_type": "code",
   "execution_count": 33,
   "id": "af9f8f5f-d774-4e07-8833-0a7f7b121977",
   "metadata": {},
   "outputs": [
    {
     "name": "stdout",
     "output_type": "stream",
     "text": [
      "Дисперсии выборок: \n",
      " расходы на тарифе smart 669785.7080064242\n",
      " расходы на тарифе ultra 141516.74507861826\n"
     ]
    }
   ],
   "source": [
    "print(f'Дисперсии выборок: \\n расходы на тарифе smart {var_smart}\\\n",
    "\\n расходы на тарифе ultra {var_ultra}')"
   ]
  },
  {
   "cell_type": "code",
   "execution_count": 34,
   "id": "36836240-c9e9-4269-b4d3-e1f48aa07c91",
   "metadata": {},
   "outputs": [
    {
     "data": {
      "image/png": "[encoded data removed]",
      "text/plain": [
       "<Figure size 576x360 with 1 Axes>"
      ]
     },
     "metadata": {
      "needs_background": "light"
     },
     "output_type": "display_data"
    }
   ],
   "source": [
    "plt.figure(figsize=(8,5))\n",
    "total_costs_smart.plot.density(style='--', label='smart')\n",
    "total_costs_ultra.plot.density(style='-.', label='ultra')\n",
    "plt.legend()\n",
    "plt.show()"
   ]
  },
  {
   "cell_type": "markdown",
   "id": "31e8b4f9-8916-41bc-87f7-d72d0c639925",
   "metadata": {},
   "source": [
    "Дисперсии выборок не равны, их распределения близки к нормальным."
   ]
  },
  {
   "cell_type": "code",
   "execution_count": 35,
   "id": "8d2c7970",
   "metadata": {},
   "outputs": [
    {
     "name": "stdout",
     "output_type": "stream",
     "text": [
      "p-значение:  4.2606313931076085e-250\n",
      "Отвергаем нулевую гипотезу\n"
     ]
    }
   ],
   "source": [
    "alpha = 0.01\n",
    "\n",
    "results = st.ttest_ind(total_costs_smart, total_costs_ultra, equal_var = False)\n",
    "print('p-значение: ', results.pvalue)\n",
    "\n",
    "if results.pvalue < alpha:\n",
    "    print(\"Отвергаем нулевую гипотезу\")\n",
    "else:\n",
    "    print(\"Не получилось отвергнуть нулевую гипотезу\") "
   ]
  },
  {
   "cell_type": "markdown",
   "id": "0e663c16",
   "metadata": {},
   "source": [
    "Согласно полученному значению p-value (4.2606313931076085e-250) можно отвергнуть нулевую гипотезу -   \n",
    "    \"Средняя выручка пользователей тарифа «Ультра» равна средней выручке пользователей тарифа «Смарт»\".  \n",
    "Значение p-value значительно ниже критического уровеня статистической значимости (установлено для проверки этой гипотезы на уровне 0,01).    \n",
    "Таким образом альтернативная гипотеза \"Средняя выручка пользователей тарифа «Ультра» не равна средней выручке пользователей тарифа «Смарт»\" не отвергается.      \n",
    "</div>"
   ]
  },
  {
   "cell_type": "markdown",
   "id": "5200b56c",
   "metadata": {},
   "source": [
    "**Гипотеза**  \n",
    "**Средняя выручка пользователей из Москвы отличается от выручки пользователей из других регионов**  \n",
    "    \n",
    "**H0**: Средняя выручка пользователей из Москвы **равна** выручке пользователей из других регионов.     \n",
    "    \n",
    "**H1**: Средняя выручка пользователей из Москвы **не равна** выручке пользователей из других регионов.   \n",
    "Данные гипотезы выбраны в качестве нулевой и альтернативной потому что они противоречат друг другу и в случае если отвергается одна из них, другая не отвергается.\n",
    "</div>"
   ]
  },
  {
   "cell_type": "code",
   "execution_count": 36,
   "id": "4b003178",
   "metadata": {},
   "outputs": [],
   "source": [
    "group_city = big_table[['user_id', 'month', 'total_costs']].merge(data_users[['user_id', 'city']], on='user_id')"
   ]
  },
  {
   "cell_type": "code",
   "execution_count": 37,
   "id": "b202b197",
   "metadata": {},
   "outputs": [],
   "source": [
    "# Категоризирум данные по признаку город Москва / любой другой\n",
    "def region(row):\n",
    "    city = row['city'] \n",
    "    if city == 'Москва':\n",
    "        return \"Москва\"\n",
    "    else:\n",
    "        return \"другой\"\n",
    "group_city['city'] = group_city.apply(region, axis=1)\n",
    "total_costs_mos = group_city.query('city == \"Москва\"')['total_costs']\n",
    "total_costs_other = group_city.query('city != \"Москва\"')['total_costs']"
   ]
  },
  {
   "cell_type": "markdown",
   "id": "5d09e57e-1218-45ca-bd15-938451393a86",
   "metadata": {},
   "source": [
    "Перед проверкой гипотез проверим распределение и дисперсии выборок:"
   ]
  },
  {
   "cell_type": "code",
   "execution_count": 38,
   "id": "97d3de5e-704a-46c6-a547-c8d29b47fe33",
   "metadata": {},
   "outputs": [],
   "source": [
    "var_mos = np.var(total_costs_mos, ddof=1)\n",
    "var_other = np.var(total_costs_other, ddof=1)"
   ]
  },
  {
   "cell_type": "code",
   "execution_count": 39,
   "id": "d30320ec-8b6c-40f4-9c4d-ee97e603c179",
   "metadata": {},
   "outputs": [
    {
     "name": "stdout",
     "output_type": "stream",
     "text": [
      "Дисперсии выборок: \n",
      " расходы на мобильную связь в Москве 565636.467011886\n",
      " расходы на мобильную связь в любом городе кроме Москвы 654137.6285218114\n"
     ]
    }
   ],
   "source": [
    "print(f'Дисперсии выборок: \\n расходы на мобильную связь в Москве {var_mos}\\\n",
    "\\n расходы на мобильную связь в любом городе кроме Москвы {var_other}')"
   ]
  },
  {
   "cell_type": "code",
   "execution_count": 40,
   "id": "6c0d37c1-09d0-4bbd-bb3a-c52fe6eb641e",
   "metadata": {},
   "outputs": [
    {
     "data": {
      "image/png": "[encoded data removed]",
      "text/plain": [
       "<Figure size 576x360 with 1 Axes>"
      ]
     },
     "metadata": {
      "needs_background": "light"
     },
     "output_type": "display_data"
    }
   ],
   "source": [
    "plt.figure(figsize=(8,5))\n",
    "total_costs_mos.plot.density(style='--', label='smart')\n",
    "total_costs_other.plot.density(style='-.', label='ultra')\n",
    "plt.legend()\n",
    "plt.show()"
   ]
  },
  {
   "cell_type": "code",
   "execution_count": 41,
   "id": "a1c6577b-0ddd-4e86-a4cd-efb13d78ac1f",
   "metadata": {},
   "outputs": [
    {
     "name": "stdout",
     "output_type": "stream",
     "text": [
      "p-значение:  0.5257376663729298\n",
      "Не получилось отвергнуть нулевую гипотезу\n"
     ]
    }
   ],
   "source": [
    "alpha = 0.01\n",
    "\n",
    "results = st.ttest_ind(total_costs_mos, total_costs_other, equal_var = False)\n",
    "print('p-значение: ', results.pvalue)\n",
    "\n",
    "if results.pvalue < alpha:\n",
    "    print(\"Отвергаем нулевую гипотезу\")\n",
    "else:\n",
    "    print(\"Не получилось отвергнуть нулевую гипотезу\") "
   ]
  },
  {
   "cell_type": "markdown",
   "id": "ee8765ee",
   "metadata": {},
   "source": [
    "Для проверки гипотез проведена категоризация по региону проживания пользователя Москва / любой другой. Это реализовано с помощью собственной функции и метода apply()    \n",
    "    \n",
    "Согласно полученному значению p-value (0.5257376663729298) нельзя отвергнуть нулевую гипотезу -   \n",
    "    \"Средняя выручка пользователей из Москвы равна выручке пользователей из других регионов\".  \n",
    "Значение p-value выше критического уровеня статистической значимости (установлено для проверки этой гипотезы на уровне 0,01).\n",
    "Таким образом альтернативная гипотеза \"Средняя выручка пользователей из Москвы не равна выручке пользователей из других регионов\" будет отвергнута.   \n"
   ]
  },
  {
   "cell_type": "markdown",
   "id": "6e673918",
   "metadata": {},
   "source": [
    "## Общий вывод"
   ]
  },
  {
   "cell_type": "markdown",
   "id": "e318032e",
   "metadata": {},
   "source": [
    "Согласно проведенным иследованиям тарифов мобильного оператора \"смарт\" и \"ультра\" можно сделать следующие выводы:\n",
    "- среднее количество, дисперсия и стандарное отклонение по тарифу \"ультра\" по всем анализируемым показателям \n",
    "(количество израсходованных минут разговора, количество отправленных сообщений, объем израсходованного интернет-трафика в месяц)\n",
    "выше, чем по тарифу \"смарт\". Это свидетельствует о точ, что пользователи тарифа \"ультра\" более активно используют связь.\n",
    "- в разрезе выручки тариф \"ультра\" имеет более высокий средний показатель, но и меньший разброс 1-3 квантили равны 1950 руб. \n",
    "В тарифе \"смарт\" разброс значений достаточно широкий - минимальное 550 руб, максимальное 6613 руб., а стандарное отклонение составляет 800руб.\n",
    "- Провереные в ходе анализа гипотезы показали следующие результаты:\n",
    "    - \"средняя выручка пользователей тарифов «Ультра» и «Смарт» различаются\" была принята альтернативная гипотеза \"Средняя выручка пользователей тарифа «Ультра» не равна средней выручке пользователей тарифа «Смарт»\"\"\n",
    "    - \"средняя выручка пользователей из Москвы отличается от выручки пользователей из других регионов\" была принята нулевая гипотеза \"Средняя выручка пользователей из Москвы равна выручке пользователей из других регионов\"\n"
   ]
  }
 ],
 "metadata": {
  "ExecuteTimeLog": [
   {
    "duration": 1457,
    "start_time": "2022-02-12T19:04:37.099Z"
   },
   {
    "duration": 1557,
    "start_time": "2022-02-12T19:04:38.559Z"
   },
   {
    "duration": 72,
    "start_time": "2022-02-12T19:04:40.119Z"
   },
   {
    "duration": 16,
    "start_time": "2022-02-12T19:04:40.193Z"
   },
   {
    "duration": 4,
    "start_time": "2022-02-12T19:04:40.233Z"
   },
   {
    "duration": 18,
    "start_time": "2022-02-12T19:04:40.239Z"
   },
   {
    "duration": 187,
    "start_time": "2022-02-12T19:04:40.259Z"
   },
   {
    "duration": 9,
    "start_time": "2022-02-12T19:04:40.450Z"
   },
   {
    "duration": 293,
    "start_time": "2022-02-12T19:04:40.463Z"
   },
   {
    "duration": 4,
    "start_time": "2022-02-12T19:04:40.759Z"
   },
   {
    "duration": 23,
    "start_time": "2022-02-12T19:04:40.766Z"
   },
   {
    "duration": 7,
    "start_time": "2022-02-12T19:04:40.791Z"
   },
   {
    "duration": 93,
    "start_time": "2022-02-12T19:04:40.832Z"
   },
   {
    "duration": 25,
    "start_time": "2022-02-12T19:04:40.927Z"
   },
   {
    "duration": 29,
    "start_time": "2022-02-12T19:04:40.954Z"
   },
   {
    "duration": 65,
    "start_time": "2022-02-12T19:04:40.986Z"
   },
   {
    "duration": 6,
    "start_time": "2022-02-12T19:04:41.053Z"
   },
   {
    "duration": 21,
    "start_time": "2022-02-12T19:04:41.062Z"
   },
   {
    "duration": 11,
    "start_time": "2022-02-12T19:04:41.087Z"
   },
   {
    "duration": 39,
    "start_time": "2022-02-12T19:04:41.101Z"
   },
   {
    "duration": 653,
    "start_time": "2022-02-12T19:04:41.143Z"
   },
   {
    "duration": 15,
    "start_time": "2022-02-12T19:04:41.798Z"
   },
   {
    "duration": 5,
    "start_time": "2022-02-12T19:04:41.835Z"
   },
   {
    "duration": 11,
    "start_time": "2022-02-12T19:04:41.844Z"
   },
   {
    "duration": 15,
    "start_time": "2022-02-12T19:04:41.858Z"
   },
   {
    "duration": 13,
    "start_time": "2022-02-12T19:04:41.875Z"
   },
   {
    "duration": 47,
    "start_time": "2022-02-12T19:04:41.890Z"
   },
   {
    "duration": 8,
    "start_time": "2022-02-12T19:04:41.939Z"
   },
   {
    "duration": 14,
    "start_time": "2022-02-12T19:04:41.950Z"
   },
   {
    "duration": 19,
    "start_time": "2022-02-12T19:04:41.967Z"
   },
   {
    "duration": 1194,
    "start_time": "2022-02-12T19:04:41.989Z"
   },
   {
    "duration": 656,
    "start_time": "2022-02-12T19:04:43.186Z"
   },
   {
    "duration": 639,
    "start_time": "2022-02-12T19:04:43.844Z"
   },
   {
    "duration": 10,
    "start_time": "2022-02-12T19:04:44.486Z"
   },
   {
    "duration": 8,
    "start_time": "2022-02-12T19:04:44.499Z"
   },
   {
    "duration": 456,
    "start_time": "2022-02-12T19:04:44.509Z"
   },
   {
    "duration": 12,
    "start_time": "2022-02-12T19:04:44.967Z"
   },
   {
    "duration": 14,
    "start_time": "2022-02-12T19:04:44.981Z"
   },
   {
    "duration": 39,
    "start_time": "2022-02-12T19:04:44.997Z"
   },
   {
    "duration": 81,
    "start_time": "2022-02-12T19:04:45.038Z"
   },
   {
    "duration": 14,
    "start_time": "2022-02-12T19:04:45.121Z"
   },
   {
    "duration": 15,
    "start_time": "2022-02-12T19:04:45.137Z"
   },
   {
    "duration": 493,
    "start_time": "2022-02-12T19:04:45.154Z"
   },
   {
    "duration": 1381,
    "start_time": "2022-02-12T19:10:50.926Z"
   },
   {
    "duration": 1537,
    "start_time": "2022-02-12T19:10:52.310Z"
   },
   {
    "duration": 71,
    "start_time": "2022-02-12T19:10:53.850Z"
   },
   {
    "duration": 22,
    "start_time": "2022-02-12T19:10:53.924Z"
   },
   {
    "duration": 6,
    "start_time": "2022-02-12T19:10:53.948Z"
   },
   {
    "duration": 24,
    "start_time": "2022-02-12T19:10:53.957Z"
   },
   {
    "duration": 200,
    "start_time": "2022-02-12T19:10:53.983Z"
   },
   {
    "duration": 10,
    "start_time": "2022-02-12T19:10:54.187Z"
   },
   {
    "duration": 287,
    "start_time": "2022-02-12T19:10:54.200Z"
   },
   {
    "duration": 5,
    "start_time": "2022-02-12T19:10:54.490Z"
   },
   {
    "duration": 41,
    "start_time": "2022-02-12T19:10:54.497Z"
   },
   {
    "duration": 5,
    "start_time": "2022-02-12T19:10:54.540Z"
   },
   {
    "duration": 97,
    "start_time": "2022-02-12T19:10:54.548Z"
   },
   {
    "duration": 24,
    "start_time": "2022-02-12T19:10:54.647Z"
   },
   {
    "duration": 27,
    "start_time": "2022-02-12T19:10:54.674Z"
   },
   {
    "duration": 56,
    "start_time": "2022-02-12T19:10:54.704Z"
   },
   {
    "duration": 6,
    "start_time": "2022-02-12T19:10:54.763Z"
   },
   {
    "duration": 30,
    "start_time": "2022-02-12T19:10:54.771Z"
   },
   {
    "duration": 18,
    "start_time": "2022-02-12T19:10:54.804Z"
   },
   {
    "duration": 11,
    "start_time": "2022-02-12T19:10:54.832Z"
   },
   {
    "duration": 646,
    "start_time": "2022-02-12T19:10:54.845Z"
   },
   {
    "duration": 14,
    "start_time": "2022-02-12T19:10:55.493Z"
   },
   {
    "duration": 18,
    "start_time": "2022-02-12T19:10:55.514Z"
   },
   {
    "duration": 10,
    "start_time": "2022-02-12T19:10:55.535Z"
   },
   {
    "duration": 16,
    "start_time": "2022-02-12T19:10:55.547Z"
   },
   {
    "duration": 10,
    "start_time": "2022-02-12T19:10:55.565Z"
   },
   {
    "duration": 7,
    "start_time": "2022-02-12T19:10:55.578Z"
   },
   {
    "duration": 11,
    "start_time": "2022-02-12T19:10:55.587Z"
   },
   {
    "duration": 42,
    "start_time": "2022-02-12T19:10:55.600Z"
   },
   {
    "duration": 25,
    "start_time": "2022-02-12T19:10:55.645Z"
   },
   {
    "duration": 1146,
    "start_time": "2022-02-12T19:10:55.674Z"
   },
   {
    "duration": 693,
    "start_time": "2022-02-12T19:10:56.822Z"
   },
   {
    "duration": 651,
    "start_time": "2022-02-12T19:10:57.518Z"
   },
   {
    "duration": 12,
    "start_time": "2022-02-12T19:10:58.178Z"
   },
   {
    "duration": 15,
    "start_time": "2022-02-12T19:10:58.192Z"
   },
   {
    "duration": 440,
    "start_time": "2022-02-12T19:10:58.210Z"
   },
   {
    "duration": 11,
    "start_time": "2022-02-12T19:10:58.652Z"
   },
   {
    "duration": 9,
    "start_time": "2022-02-12T19:10:58.666Z"
   },
   {
    "duration": 21,
    "start_time": "2022-02-12T19:10:58.677Z"
   },
   {
    "duration": 88,
    "start_time": "2022-02-12T19:10:58.701Z"
   },
   {
    "duration": 11,
    "start_time": "2022-02-12T19:10:58.791Z"
   },
   {
    "duration": 29,
    "start_time": "2022-02-12T19:10:58.805Z"
   },
   {
    "duration": 490,
    "start_time": "2022-02-12T19:10:58.836Z"
   },
   {
    "duration": 18,
    "start_time": "2022-02-12T19:14:25.827Z"
   },
   {
    "duration": 215,
    "start_time": "2022-02-13T09:02:12.447Z"
   },
   {
    "duration": 1201,
    "start_time": "2022-02-13T09:02:24.537Z"
   },
   {
    "duration": 956,
    "start_time": "2022-02-13T09:02:25.743Z"
   },
   {
    "duration": 54,
    "start_time": "2022-02-13T09:02:26.702Z"
   },
   {
    "duration": 15,
    "start_time": "2022-02-13T09:02:26.758Z"
   },
   {
    "duration": 6,
    "start_time": "2022-02-13T09:02:26.775Z"
   },
   {
    "duration": 18,
    "start_time": "2022-02-13T09:02:26.783Z"
   },
   {
    "duration": 163,
    "start_time": "2022-02-13T09:02:26.803Z"
   },
   {
    "duration": 9,
    "start_time": "2022-02-13T09:02:26.970Z"
   },
   {
    "duration": 241,
    "start_time": "2022-02-13T09:02:26.981Z"
   },
   {
    "duration": 4,
    "start_time": "2022-02-13T09:02:27.224Z"
   },
   {
    "duration": 32,
    "start_time": "2022-02-13T09:02:27.230Z"
   },
   {
    "duration": 4,
    "start_time": "2022-02-13T09:02:27.264Z"
   },
   {
    "duration": 20,
    "start_time": "2022-02-13T09:02:27.270Z"
   },
   {
    "duration": 99,
    "start_time": "2022-02-13T09:02:27.292Z"
   },
   {
    "duration": 22,
    "start_time": "2022-02-13T09:02:27.394Z"
   },
   {
    "duration": 20,
    "start_time": "2022-02-13T09:02:27.418Z"
   },
   {
    "duration": 39,
    "start_time": "2022-02-13T09:02:27.440Z"
   },
   {
    "duration": 4,
    "start_time": "2022-02-13T09:02:27.480Z"
   },
   {
    "duration": 18,
    "start_time": "2022-02-13T09:02:27.487Z"
   },
   {
    "duration": 14,
    "start_time": "2022-02-13T09:02:27.507Z"
   },
   {
    "duration": 11,
    "start_time": "2022-02-13T09:02:27.523Z"
   },
   {
    "duration": 371,
    "start_time": "2022-02-13T09:02:27.560Z"
   },
   {
    "duration": 26,
    "start_time": "2022-02-13T09:02:27.933Z"
   },
   {
    "duration": 3,
    "start_time": "2022-02-13T09:02:27.962Z"
   },
   {
    "duration": 12,
    "start_time": "2022-02-13T09:02:27.968Z"
   },
   {
    "duration": 9,
    "start_time": "2022-02-13T09:02:27.985Z"
   },
   {
    "duration": 8,
    "start_time": "2022-02-13T09:02:27.996Z"
   },
   {
    "duration": 8,
    "start_time": "2022-02-13T09:02:28.006Z"
   },
   {
    "duration": 8,
    "start_time": "2022-02-13T09:02:28.016Z"
   },
   {
    "duration": 40,
    "start_time": "2022-02-13T09:02:28.026Z"
   },
   {
    "duration": 24,
    "start_time": "2022-02-13T09:02:28.067Z"
   },
   {
    "duration": 827,
    "start_time": "2022-02-13T09:02:28.093Z"
   },
   {
    "duration": 513,
    "start_time": "2022-02-13T09:02:28.922Z"
   },
   {
    "duration": 471,
    "start_time": "2022-02-13T09:02:29.437Z"
   },
   {
    "duration": 11,
    "start_time": "2022-02-13T09:02:29.910Z"
   },
   {
    "duration": 7,
    "start_time": "2022-02-13T09:02:29.923Z"
   },
   {
    "duration": 314,
    "start_time": "2022-02-13T09:02:29.931Z"
   },
   {
    "duration": 16,
    "start_time": "2022-02-13T09:02:30.247Z"
   },
   {
    "duration": 8,
    "start_time": "2022-02-13T09:02:30.265Z"
   },
   {
    "duration": 14,
    "start_time": "2022-02-13T09:02:30.275Z"
   },
   {
    "duration": 42,
    "start_time": "2022-02-13T09:02:30.291Z"
   },
   {
    "duration": 28,
    "start_time": "2022-02-13T09:02:30.335Z"
   },
   {
    "duration": 13,
    "start_time": "2022-02-13T09:02:30.365Z"
   },
   {
    "duration": 295,
    "start_time": "2022-02-13T09:02:30.379Z"
   },
   {
    "duration": 4,
    "start_time": "2022-02-13T09:09:20.118Z"
   },
   {
    "duration": 9,
    "start_time": "2022-02-13T09:09:21.550Z"
   },
   {
    "duration": 1068,
    "start_time": "2022-02-13T09:09:51.410Z"
   },
   {
    "duration": 1005,
    "start_time": "2022-02-13T09:09:52.480Z"
   },
   {
    "duration": 51,
    "start_time": "2022-02-13T09:09:53.487Z"
   },
   {
    "duration": 12,
    "start_time": "2022-02-13T09:09:53.540Z"
   },
   {
    "duration": 3,
    "start_time": "2022-02-13T09:09:53.554Z"
   },
   {
    "duration": 25,
    "start_time": "2022-02-13T09:09:53.560Z"
   },
   {
    "duration": 117,
    "start_time": "2022-02-13T09:09:53.588Z"
   },
   {
    "duration": 8,
    "start_time": "2022-02-13T09:09:53.707Z"
   },
   {
    "duration": 226,
    "start_time": "2022-02-13T09:09:53.717Z"
   },
   {
    "duration": 16,
    "start_time": "2022-02-13T09:09:53.945Z"
   },
   {
    "duration": 24,
    "start_time": "2022-02-13T09:09:53.963Z"
   },
   {
    "duration": 4,
    "start_time": "2022-02-13T09:09:53.989Z"
   },
   {
    "duration": 11,
    "start_time": "2022-02-13T09:09:53.994Z"
   },
   {
    "duration": 270,
    "start_time": "2022-02-13T09:09:54.007Z"
   },
   {
    "duration": -447,
    "start_time": "2022-02-13T09:09:54.729Z"
   },
   {
    "duration": -451,
    "start_time": "2022-02-13T09:09:54.734Z"
   },
   {
    "duration": -454,
    "start_time": "2022-02-13T09:09:54.738Z"
   },
   {
    "duration": -463,
    "start_time": "2022-02-13T09:09:54.748Z"
   },
   {
    "duration": -469,
    "start_time": "2022-02-13T09:09:54.755Z"
   },
   {
    "duration": -475,
    "start_time": "2022-02-13T09:09:54.762Z"
   },
   {
    "duration": -488,
    "start_time": "2022-02-13T09:09:54.776Z"
   },
   {
    "duration": -492,
    "start_time": "2022-02-13T09:09:54.781Z"
   },
   {
    "duration": -501,
    "start_time": "2022-02-13T09:09:54.791Z"
   },
   {
    "duration": -508,
    "start_time": "2022-02-13T09:09:54.799Z"
   },
   {
    "duration": -516,
    "start_time": "2022-02-13T09:09:54.808Z"
   },
   {
    "duration": -520,
    "start_time": "2022-02-13T09:09:54.813Z"
   },
   {
    "duration": -532,
    "start_time": "2022-02-13T09:09:54.826Z"
   },
   {
    "duration": -537,
    "start_time": "2022-02-13T09:09:54.832Z"
   },
   {
    "duration": -550,
    "start_time": "2022-02-13T09:09:54.846Z"
   },
   {
    "duration": -555,
    "start_time": "2022-02-13T09:09:54.852Z"
   },
   {
    "duration": -661,
    "start_time": "2022-02-13T09:09:54.959Z"
   },
   {
    "duration": -691,
    "start_time": "2022-02-13T09:09:54.990Z"
   },
   {
    "duration": -696,
    "start_time": "2022-02-13T09:09:54.996Z"
   },
   {
    "duration": -698,
    "start_time": "2022-02-13T09:09:54.999Z"
   },
   {
    "duration": -700,
    "start_time": "2022-02-13T09:09:55.002Z"
   },
   {
    "duration": -703,
    "start_time": "2022-02-13T09:09:55.006Z"
   },
   {
    "duration": -708,
    "start_time": "2022-02-13T09:09:55.012Z"
   },
   {
    "duration": -711,
    "start_time": "2022-02-13T09:09:55.016Z"
   },
   {
    "duration": -713,
    "start_time": "2022-02-13T09:09:55.019Z"
   },
   {
    "duration": -716,
    "start_time": "2022-02-13T09:09:55.023Z"
   },
   {
    "duration": -719,
    "start_time": "2022-02-13T09:09:55.027Z"
   },
   {
    "duration": -723,
    "start_time": "2022-02-13T09:09:55.032Z"
   },
   {
    "duration": -728,
    "start_time": "2022-02-13T09:09:55.038Z"
   },
   {
    "duration": -732,
    "start_time": "2022-02-13T09:09:55.043Z"
   },
   {
    "duration": -735,
    "start_time": "2022-02-13T09:09:55.047Z"
   },
   {
    "duration": -737,
    "start_time": "2022-02-13T09:09:55.050Z"
   },
   {
    "duration": 7,
    "start_time": "2022-02-13T09:16:24.636Z"
   },
   {
    "duration": 8,
    "start_time": "2022-02-13T09:16:25.900Z"
   },
   {
    "duration": 5,
    "start_time": "2022-02-13T09:16:33.755Z"
   },
   {
    "duration": 9,
    "start_time": "2022-02-13T09:16:34.444Z"
   },
   {
    "duration": 4,
    "start_time": "2022-02-13T09:17:06.667Z"
   },
   {
    "duration": 9,
    "start_time": "2022-02-13T09:17:07.725Z"
   },
   {
    "duration": 6,
    "start_time": "2022-02-13T09:18:55.874Z"
   },
   {
    "duration": 11,
    "start_time": "2022-02-13T09:18:56.489Z"
   },
   {
    "duration": 967,
    "start_time": "2022-02-13T09:19:08.320Z"
   },
   {
    "duration": 920,
    "start_time": "2022-02-13T09:19:09.289Z"
   },
   {
    "duration": 52,
    "start_time": "2022-02-13T09:19:10.211Z"
   },
   {
    "duration": 11,
    "start_time": "2022-02-13T09:19:10.264Z"
   },
   {
    "duration": 4,
    "start_time": "2022-02-13T09:19:10.277Z"
   },
   {
    "duration": 13,
    "start_time": "2022-02-13T09:19:10.282Z"
   },
   {
    "duration": 127,
    "start_time": "2022-02-13T09:19:10.296Z"
   },
   {
    "duration": 6,
    "start_time": "2022-02-13T09:19:10.426Z"
   },
   {
    "duration": 215,
    "start_time": "2022-02-13T09:19:10.434Z"
   },
   {
    "duration": 4,
    "start_time": "2022-02-13T09:19:10.658Z"
   },
   {
    "duration": 20,
    "start_time": "2022-02-13T09:19:10.663Z"
   },
   {
    "duration": 3,
    "start_time": "2022-02-13T09:19:10.685Z"
   },
   {
    "duration": 9,
    "start_time": "2022-02-13T09:19:10.690Z"
   },
   {
    "duration": 5,
    "start_time": "2022-02-13T09:19:10.701Z"
   },
   {
    "duration": 9,
    "start_time": "2022-02-13T09:19:10.708Z"
   },
   {
    "duration": 85,
    "start_time": "2022-02-13T09:19:10.719Z"
   },
   {
    "duration": 18,
    "start_time": "2022-02-13T09:19:10.806Z"
   },
   {
    "duration": 33,
    "start_time": "2022-02-13T09:19:10.826Z"
   },
   {
    "duration": 22,
    "start_time": "2022-02-13T09:19:10.860Z"
   },
   {
    "duration": 4,
    "start_time": "2022-02-13T09:19:10.884Z"
   },
   {
    "duration": 11,
    "start_time": "2022-02-13T09:19:10.889Z"
   },
   {
    "duration": 8,
    "start_time": "2022-02-13T09:19:10.902Z"
   },
   {
    "duration": 7,
    "start_time": "2022-02-13T09:19:10.913Z"
   },
   {
    "duration": 344,
    "start_time": "2022-02-13T09:19:10.923Z"
   },
   {
    "duration": 11,
    "start_time": "2022-02-13T09:19:11.269Z"
   },
   {
    "duration": 4,
    "start_time": "2022-02-13T09:19:11.281Z"
   },
   {
    "duration": 13,
    "start_time": "2022-02-13T09:19:11.286Z"
   },
   {
    "duration": 7,
    "start_time": "2022-02-13T09:19:11.301Z"
   },
   {
    "duration": 6,
    "start_time": "2022-02-13T09:19:11.310Z"
   },
   {
    "duration": 6,
    "start_time": "2022-02-13T09:19:11.318Z"
   },
   {
    "duration": 33,
    "start_time": "2022-02-13T09:19:11.326Z"
   },
   {
    "duration": 10,
    "start_time": "2022-02-13T09:19:11.361Z"
   },
   {
    "duration": 15,
    "start_time": "2022-02-13T09:19:11.372Z"
   },
   {
    "duration": 685,
    "start_time": "2022-02-13T09:19:11.389Z"
   },
   {
    "duration": 399,
    "start_time": "2022-02-13T09:19:12.076Z"
   },
   {
    "duration": 399,
    "start_time": "2022-02-13T09:19:12.477Z"
   },
   {
    "duration": 7,
    "start_time": "2022-02-13T09:19:12.878Z"
   },
   {
    "duration": 9,
    "start_time": "2022-02-13T09:19:12.886Z"
   },
   {
    "duration": 250,
    "start_time": "2022-02-13T09:19:12.896Z"
   },
   {
    "duration": 16,
    "start_time": "2022-02-13T09:19:13.148Z"
   },
   {
    "duration": 7,
    "start_time": "2022-02-13T09:19:13.166Z"
   },
   {
    "duration": 11,
    "start_time": "2022-02-13T09:19:13.175Z"
   },
   {
    "duration": 44,
    "start_time": "2022-02-13T09:19:13.187Z"
   },
   {
    "duration": 8,
    "start_time": "2022-02-13T09:19:13.233Z"
   },
   {
    "duration": 18,
    "start_time": "2022-02-13T09:19:13.243Z"
   },
   {
    "duration": 339,
    "start_time": "2022-02-13T09:19:13.262Z"
   },
   {
    "duration": 259,
    "start_time": "2022-02-13T09:24:36.972Z"
   },
   {
    "duration": 187,
    "start_time": "2022-02-13T09:26:38.194Z"
   },
   {
    "duration": 197,
    "start_time": "2022-02-13T09:26:59.993Z"
   },
   {
    "duration": 176,
    "start_time": "2022-02-13T09:27:05.113Z"
   },
   {
    "duration": 810,
    "start_time": "2022-02-13T09:27:29.402Z"
   },
   {
    "duration": 69,
    "start_time": "2022-02-13T09:27:35.521Z"
   },
   {
    "duration": 9,
    "start_time": "2022-02-13T09:27:40.888Z"
   },
   {
    "duration": 1022,
    "start_time": "2022-02-13T09:33:23.555Z"
   },
   {
    "duration": 1091,
    "start_time": "2022-02-13T09:33:24.579Z"
   },
   {
    "duration": 53,
    "start_time": "2022-02-13T09:33:25.674Z"
   },
   {
    "duration": 12,
    "start_time": "2022-02-13T09:33:25.729Z"
   },
   {
    "duration": 17,
    "start_time": "2022-02-13T09:33:25.742Z"
   },
   {
    "duration": 31,
    "start_time": "2022-02-13T09:33:25.760Z"
   },
   {
    "duration": 110,
    "start_time": "2022-02-13T09:33:25.795Z"
   },
   {
    "duration": 7,
    "start_time": "2022-02-13T09:33:25.907Z"
   },
   {
    "duration": 203,
    "start_time": "2022-02-13T09:33:25.916Z"
   },
   {
    "duration": 4,
    "start_time": "2022-02-13T09:33:26.121Z"
   },
   {
    "duration": 32,
    "start_time": "2022-02-13T09:33:26.127Z"
   },
   {
    "duration": 5,
    "start_time": "2022-02-13T09:33:26.160Z"
   },
   {
    "duration": 7,
    "start_time": "2022-02-13T09:33:26.167Z"
   },
   {
    "duration": 58,
    "start_time": "2022-02-13T09:33:26.176Z"
   },
   {
    "duration": 39,
    "start_time": "2022-02-13T09:33:26.236Z"
   },
   {
    "duration": 21,
    "start_time": "2022-02-13T09:33:26.277Z"
   },
   {
    "duration": 21,
    "start_time": "2022-02-13T09:33:26.300Z"
   },
   {
    "duration": 5,
    "start_time": "2022-02-13T09:33:26.323Z"
   },
   {
    "duration": 38,
    "start_time": "2022-02-13T09:33:26.329Z"
   },
   {
    "duration": 6,
    "start_time": "2022-02-13T09:33:26.369Z"
   },
   {
    "duration": 13,
    "start_time": "2022-02-13T09:33:26.376Z"
   },
   {
    "duration": 368,
    "start_time": "2022-02-13T09:33:26.393Z"
   },
   {
    "duration": 11,
    "start_time": "2022-02-13T09:33:26.764Z"
   },
   {
    "duration": 5,
    "start_time": "2022-02-13T09:33:26.777Z"
   },
   {
    "duration": 10,
    "start_time": "2022-02-13T09:33:26.783Z"
   },
   {
    "duration": 8,
    "start_time": "2022-02-13T09:33:26.795Z"
   },
   {
    "duration": 14,
    "start_time": "2022-02-13T09:33:26.805Z"
   },
   {
    "duration": 6,
    "start_time": "2022-02-13T09:33:26.821Z"
   },
   {
    "duration": 31,
    "start_time": "2022-02-13T09:33:26.828Z"
   },
   {
    "duration": 14,
    "start_time": "2022-02-13T09:33:26.861Z"
   },
   {
    "duration": 21,
    "start_time": "2022-02-13T09:33:26.877Z"
   },
   {
    "duration": 655,
    "start_time": "2022-02-13T09:33:26.900Z"
   },
   {
    "duration": 400,
    "start_time": "2022-02-13T09:33:27.559Z"
   },
   {
    "duration": 395,
    "start_time": "2022-02-13T09:33:27.960Z"
   },
   {
    "duration": 7,
    "start_time": "2022-02-13T09:33:28.359Z"
   },
   {
    "duration": 8,
    "start_time": "2022-02-13T09:33:28.367Z"
   },
   {
    "duration": 243,
    "start_time": "2022-02-13T09:33:28.377Z"
   },
   {
    "duration": 8,
    "start_time": "2022-02-13T09:33:28.622Z"
   },
   {
    "duration": 7,
    "start_time": "2022-02-13T09:33:28.631Z"
   },
   {
    "duration": 15,
    "start_time": "2022-02-13T09:33:28.659Z"
   },
   {
    "duration": 38,
    "start_time": "2022-02-13T09:33:28.676Z"
   },
   {
    "duration": 8,
    "start_time": "2022-02-13T09:33:28.715Z"
   },
   {
    "duration": 5,
    "start_time": "2022-02-13T09:33:28.724Z"
   },
   {
    "duration": 320,
    "start_time": "2022-02-13T09:33:28.730Z"
   },
   {
    "duration": 67,
    "start_time": "2022-02-13T09:47:25.005Z"
   },
   {
    "duration": 5,
    "start_time": "2022-02-13T09:47:29.956Z"
   },
   {
    "duration": 2,
    "start_time": "2022-02-13T09:48:51.702Z"
   },
   {
    "duration": 5,
    "start_time": "2022-02-13T09:48:56.739Z"
   },
   {
    "duration": 236,
    "start_time": "2022-02-13T09:49:01.388Z"
   },
   {
    "duration": 68,
    "start_time": "2022-02-13T09:57:44.323Z"
   },
   {
    "duration": 1006,
    "start_time": "2022-02-13T09:59:41.728Z"
   },
   {
    "duration": 956,
    "start_time": "2022-02-13T09:59:42.736Z"
   },
   {
    "duration": 49,
    "start_time": "2022-02-13T09:59:43.694Z"
   },
   {
    "duration": 11,
    "start_time": "2022-02-13T09:59:43.745Z"
   },
   {
    "duration": 5,
    "start_time": "2022-02-13T09:59:43.757Z"
   },
   {
    "duration": 34,
    "start_time": "2022-02-13T09:59:43.764Z"
   },
   {
    "duration": 122,
    "start_time": "2022-02-13T09:59:43.800Z"
   },
   {
    "duration": 6,
    "start_time": "2022-02-13T09:59:43.925Z"
   },
   {
    "duration": 219,
    "start_time": "2022-02-13T09:59:43.933Z"
   },
   {
    "duration": 6,
    "start_time": "2022-02-13T09:59:44.160Z"
   },
   {
    "duration": 156,
    "start_time": "2022-02-13T09:59:44.169Z"
   },
   {
    "duration": 35,
    "start_time": "2022-02-13T09:59:44.327Z"
   },
   {
    "duration": 125,
    "start_time": "2022-02-13T09:59:44.364Z"
   },
   {
    "duration": 68,
    "start_time": "2022-02-13T09:59:44.491Z"
   },
   {
    "duration": 25,
    "start_time": "2022-02-13T09:59:44.560Z"
   },
   {
    "duration": 22,
    "start_time": "2022-02-13T09:59:44.587Z"
   },
   {
    "duration": 19,
    "start_time": "2022-02-13T09:59:44.611Z"
   },
   {
    "duration": 4,
    "start_time": "2022-02-13T09:59:44.631Z"
   },
   {
    "duration": 51,
    "start_time": "2022-02-13T09:59:44.637Z"
   },
   {
    "duration": 18,
    "start_time": "2022-02-13T09:59:44.690Z"
   },
   {
    "duration": 25,
    "start_time": "2022-02-13T09:59:44.709Z"
   },
   {
    "duration": 384,
    "start_time": "2022-02-13T09:59:44.736Z"
   },
   {
    "duration": 9,
    "start_time": "2022-02-13T09:59:45.125Z"
   },
   {
    "duration": 8,
    "start_time": "2022-02-13T09:59:45.135Z"
   },
   {
    "duration": 18,
    "start_time": "2022-02-13T09:59:45.145Z"
   },
   {
    "duration": 6,
    "start_time": "2022-02-13T09:59:45.165Z"
   },
   {
    "duration": 15,
    "start_time": "2022-02-13T09:59:45.173Z"
   },
   {
    "duration": 6,
    "start_time": "2022-02-13T09:59:45.189Z"
   },
   {
    "duration": 8,
    "start_time": "2022-02-13T09:59:45.197Z"
   },
   {
    "duration": 11,
    "start_time": "2022-02-13T09:59:45.207Z"
   },
   {
    "duration": 15,
    "start_time": "2022-02-13T09:59:45.219Z"
   },
   {
    "duration": 665,
    "start_time": "2022-02-13T09:59:45.235Z"
   },
   {
    "duration": 391,
    "start_time": "2022-02-13T09:59:45.902Z"
   },
   {
    "duration": 376,
    "start_time": "2022-02-13T09:59:46.295Z"
   },
   {
    "duration": 7,
    "start_time": "2022-02-13T09:59:46.673Z"
   },
   {
    "duration": 9,
    "start_time": "2022-02-13T09:59:46.681Z"
   },
   {
    "duration": 236,
    "start_time": "2022-02-13T09:59:46.691Z"
   },
   {
    "duration": 8,
    "start_time": "2022-02-13T09:59:46.928Z"
   },
   {
    "duration": 21,
    "start_time": "2022-02-13T09:59:46.937Z"
   },
   {
    "duration": 9,
    "start_time": "2022-02-13T09:59:46.960Z"
   },
   {
    "duration": 38,
    "start_time": "2022-02-13T09:59:46.971Z"
   },
   {
    "duration": 8,
    "start_time": "2022-02-13T09:59:47.011Z"
   },
   {
    "duration": 5,
    "start_time": "2022-02-13T09:59:47.020Z"
   },
   {
    "duration": 7,
    "start_time": "2022-02-13T09:59:47.027Z"
   },
   {
    "duration": 238,
    "start_time": "2022-02-13T09:59:47.035Z"
   },
   {
    "duration": 971,
    "start_time": "2022-02-13T19:21:02.766Z"
   },
   {
    "duration": 1244,
    "start_time": "2022-02-13T19:21:03.739Z"
   },
   {
    "duration": 52,
    "start_time": "2022-02-13T19:21:04.985Z"
   },
   {
    "duration": 11,
    "start_time": "2022-02-13T19:21:05.039Z"
   },
   {
    "duration": 5,
    "start_time": "2022-02-13T19:21:05.051Z"
   },
   {
    "duration": 17,
    "start_time": "2022-02-13T19:21:05.058Z"
   },
   {
    "duration": 114,
    "start_time": "2022-02-13T19:21:05.076Z"
   },
   {
    "duration": 6,
    "start_time": "2022-02-13T19:21:05.193Z"
   },
   {
    "duration": 162,
    "start_time": "2022-02-13T19:21:05.201Z"
   },
   {
    "duration": 8,
    "start_time": "2022-02-13T19:21:05.364Z"
   },
   {
    "duration": 12,
    "start_time": "2022-02-13T19:21:05.374Z"
   },
   {
    "duration": 3,
    "start_time": "2022-02-13T19:21:05.388Z"
   },
   {
    "duration": 5,
    "start_time": "2022-02-13T19:21:05.393Z"
   },
   {
    "duration": 52,
    "start_time": "2022-02-13T19:21:05.399Z"
   },
   {
    "duration": 32,
    "start_time": "2022-02-13T19:21:05.452Z"
   },
   {
    "duration": 17,
    "start_time": "2022-02-13T19:21:05.485Z"
   },
   {
    "duration": 19,
    "start_time": "2022-02-13T19:21:05.503Z"
   },
   {
    "duration": 4,
    "start_time": "2022-02-13T19:21:05.523Z"
   },
   {
    "duration": 9,
    "start_time": "2022-02-13T19:21:05.528Z"
   },
   {
    "duration": 14,
    "start_time": "2022-02-13T19:21:05.538Z"
   },
   {
    "duration": 23,
    "start_time": "2022-02-13T19:21:05.553Z"
   },
   {
    "duration": 354,
    "start_time": "2022-02-13T19:21:05.578Z"
   },
   {
    "duration": 9,
    "start_time": "2022-02-13T19:21:05.935Z"
   },
   {
    "duration": 3,
    "start_time": "2022-02-13T19:21:05.946Z"
   },
   {
    "duration": 23,
    "start_time": "2022-02-13T19:21:05.951Z"
   },
   {
    "duration": 7,
    "start_time": "2022-02-13T19:21:05.976Z"
   },
   {
    "duration": 6,
    "start_time": "2022-02-13T19:21:05.985Z"
   },
   {
    "duration": 4,
    "start_time": "2022-02-13T19:21:05.993Z"
   },
   {
    "duration": 6,
    "start_time": "2022-02-13T19:21:05.999Z"
   },
   {
    "duration": 12,
    "start_time": "2022-02-13T19:21:06.007Z"
   },
   {
    "duration": 15,
    "start_time": "2022-02-13T19:21:06.021Z"
   },
   {
    "duration": 608,
    "start_time": "2022-02-13T19:21:06.037Z"
   },
   {
    "duration": 360,
    "start_time": "2022-02-13T19:21:06.647Z"
   },
   {
    "duration": 344,
    "start_time": "2022-02-13T19:21:07.009Z"
   },
   {
    "duration": 6,
    "start_time": "2022-02-13T19:21:07.355Z"
   },
   {
    "duration": 13,
    "start_time": "2022-02-13T19:21:07.362Z"
   },
   {
    "duration": 229,
    "start_time": "2022-02-13T19:21:07.376Z"
   },
   {
    "duration": 8,
    "start_time": "2022-02-13T19:21:07.607Z"
   },
   {
    "duration": 8,
    "start_time": "2022-02-13T19:21:07.616Z"
   },
   {
    "duration": 8,
    "start_time": "2022-02-13T19:21:07.625Z"
   },
   {
    "duration": 69,
    "start_time": "2022-02-13T19:21:07.634Z"
   },
   {
    "duration": 8,
    "start_time": "2022-02-13T19:21:07.704Z"
   },
   {
    "duration": 4,
    "start_time": "2022-02-13T19:21:07.714Z"
   },
   {
    "duration": 6,
    "start_time": "2022-02-13T19:21:07.719Z"
   },
   {
    "duration": 245,
    "start_time": "2022-02-13T19:21:07.726Z"
   }
  ],
  "kernelspec": {
   "display_name": "Python 3 (ipykernel)",
   "language": "python",
   "name": "python3"
  },
  "language_info": {
   "codemirror_mode": {
    "name": "ipython",
    "version": 3
   },
   "file_extension": ".py",
   "mimetype": "text/x-python",
   "name": "python",
   "nbconvert_exporter": "python",
   "pygments_lexer": "ipython3",
   "version": "3.9.7"
  },
  "toc": {
   "base_numbering": 1,
   "nav_menu": {},
   "number_sections": true,
   "sideBar": true,
   "skip_h1_title": true,
   "title_cell": "Table of Contents",
   "title_sidebar": "Contents",
   "toc_cell": false,
   "toc_position": {},
   "toc_section_display": true,
   "toc_window_display": true
  },
  "toc-autonumbering": false,
  "toc-showmarkdowntxt": false
 },
 "nbformat": 4,
 "nbformat_minor": 5
}
