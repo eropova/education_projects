{
 "cells": [
  {
   "cell_type": "markdown",
   "metadata": {},
   "source": [
    "# Исследование надёжности заёмщиков\n",
    "**Цель проекта**\n",
    "Заказчик проекта — кредитный отдел банка. Нужно разобраться, влияет ли семейное положение и количество детей клиента на факт погашения кредита в срок. \n",
    "\n",
    "**Имеющиееся данные:**  \n",
    "\n",
    "Статистика о платежеспособности клиентов с указанием категорйных признаков (возраст, доход, семейное положение, наличие детей, уровень образования).\n",
    "\n",
    "Результаты исследования будут учтены при построении модели кредитного скоринга.  \n",
    "\n",
    "**Ход исследования**  \n",
    "- предобработка данных\n",
    "- категоризация данных\n",
    "- опреление зависимости возврата кредита в срок от ключевых факторов:\n",
    "    - наличие детей\n",
    "    - семейное положение\n",
    "    - уровень дохода\n",
    "    - цель кредита"
   ]
  },
  {
   "cell_type": "markdown",
   "metadata": {},
   "source": [
    "## Предобработка данных"
   ]
  },
  {
   "cell_type": "code",
   "execution_count": 1,
   "metadata": {},
   "outputs": [],
   "source": [
    "import pandas as pd\n",
    "import pymorphy2\n",
    "import matplotlib.pyplot as plt\n",
    "import seaborn as sns"
   ]
  },
  {
   "cell_type": "code",
   "execution_count": 2,
   "metadata": {
    "id": "fFVu7vqh_Zct"
   },
   "outputs": [],
   "source": [
    "local_path = './data.csv'\n",
    "server_path = '/datasets/data.csv'\n",
    "try:\n",
    "    data = pd.read_csv(local_path)\n",
    "except:\n",
    "    data = pd.read_csv(server_path)"
   ]
  },
  {
   "cell_type": "code",
   "execution_count": 3,
   "metadata": {},
   "outputs": [
    {
     "name": "stdout",
     "output_type": "stream",
     "text": [
      "<class 'pandas.core.frame.DataFrame'>\n",
      "RangeIndex: 21525 entries, 0 to 21524\n",
      "Data columns (total 12 columns):\n",
      " #   Column            Non-Null Count  Dtype  \n",
      "---  ------            --------------  -----  \n",
      " 0   children          21525 non-null  int64  \n",
      " 1   days_employed     19351 non-null  float64\n",
      " 2   dob_years         21525 non-null  int64  \n",
      " 3   education         21525 non-null  object \n",
      " 4   education_id      21525 non-null  int64  \n",
      " 5   family_status     21525 non-null  object \n",
      " 6   family_status_id  21525 non-null  int64  \n",
      " 7   gender            21525 non-null  object \n",
      " 8   income_type       21525 non-null  object \n",
      " 9   debt              21525 non-null  int64  \n",
      " 10  total_income      19351 non-null  float64\n",
      " 11  purpose           21525 non-null  object \n",
      "dtypes: float64(2), int64(5), object(5)\n",
      "memory usage: 2.0+ MB\n"
     ]
    }
   ],
   "source": [
    "data.info()"
   ]
  },
  {
   "cell_type": "code",
   "execution_count": 4,
   "metadata": {},
   "outputs": [
    {
     "data": {
      "text/html": [
       "<div>\n",
       "<style scoped>\n",
       "    .dataframe tbody tr th:only-of-type {\n",
       "        vertical-align: middle;\n",
       "    }\n",
       "\n",
       "    .dataframe tbody tr th {\n",
       "        vertical-align: top;\n",
       "    }\n",
       "\n",
       "    .dataframe thead th {\n",
       "        text-align: right;\n",
       "    }\n",
       "</style>\n",
       "<table border=\"1\" class=\"dataframe\">\n",
       "  <thead>\n",
       "    <tr style=\"text-align: right;\">\n",
       "      <th></th>\n",
       "      <th>children</th>\n",
       "      <th>days_employed</th>\n",
       "      <th>dob_years</th>\n",
       "      <th>education</th>\n",
       "      <th>education_id</th>\n",
       "      <th>family_status</th>\n",
       "      <th>family_status_id</th>\n",
       "      <th>gender</th>\n",
       "      <th>income_type</th>\n",
       "      <th>debt</th>\n",
       "      <th>total_income</th>\n",
       "      <th>purpose</th>\n",
       "    </tr>\n",
       "  </thead>\n",
       "  <tbody>\n",
       "    <tr>\n",
       "      <th>0</th>\n",
       "      <td>1</td>\n",
       "      <td>-8437.673028</td>\n",
       "      <td>42</td>\n",
       "      <td>высшее</td>\n",
       "      <td>0</td>\n",
       "      <td>женат / замужем</td>\n",
       "      <td>0</td>\n",
       "      <td>F</td>\n",
       "      <td>сотрудник</td>\n",
       "      <td>0</td>\n",
       "      <td>253875.639453</td>\n",
       "      <td>покупка жилья</td>\n",
       "    </tr>\n",
       "    <tr>\n",
       "      <th>1</th>\n",
       "      <td>1</td>\n",
       "      <td>-4024.803754</td>\n",
       "      <td>36</td>\n",
       "      <td>среднее</td>\n",
       "      <td>1</td>\n",
       "      <td>женат / замужем</td>\n",
       "      <td>0</td>\n",
       "      <td>F</td>\n",
       "      <td>сотрудник</td>\n",
       "      <td>0</td>\n",
       "      <td>112080.014102</td>\n",
       "      <td>приобретение автомобиля</td>\n",
       "    </tr>\n",
       "    <tr>\n",
       "      <th>2</th>\n",
       "      <td>0</td>\n",
       "      <td>-5623.422610</td>\n",
       "      <td>33</td>\n",
       "      <td>Среднее</td>\n",
       "      <td>1</td>\n",
       "      <td>женат / замужем</td>\n",
       "      <td>0</td>\n",
       "      <td>M</td>\n",
       "      <td>сотрудник</td>\n",
       "      <td>0</td>\n",
       "      <td>145885.952297</td>\n",
       "      <td>покупка жилья</td>\n",
       "    </tr>\n",
       "    <tr>\n",
       "      <th>3</th>\n",
       "      <td>3</td>\n",
       "      <td>-4124.747207</td>\n",
       "      <td>32</td>\n",
       "      <td>среднее</td>\n",
       "      <td>1</td>\n",
       "      <td>женат / замужем</td>\n",
       "      <td>0</td>\n",
       "      <td>M</td>\n",
       "      <td>сотрудник</td>\n",
       "      <td>0</td>\n",
       "      <td>267628.550329</td>\n",
       "      <td>дополнительное образование</td>\n",
       "    </tr>\n",
       "    <tr>\n",
       "      <th>4</th>\n",
       "      <td>0</td>\n",
       "      <td>340266.072047</td>\n",
       "      <td>53</td>\n",
       "      <td>среднее</td>\n",
       "      <td>1</td>\n",
       "      <td>гражданский брак</td>\n",
       "      <td>1</td>\n",
       "      <td>F</td>\n",
       "      <td>пенсионер</td>\n",
       "      <td>0</td>\n",
       "      <td>158616.077870</td>\n",
       "      <td>сыграть свадьбу</td>\n",
       "    </tr>\n",
       "    <tr>\n",
       "      <th>5</th>\n",
       "      <td>0</td>\n",
       "      <td>-926.185831</td>\n",
       "      <td>27</td>\n",
       "      <td>высшее</td>\n",
       "      <td>0</td>\n",
       "      <td>гражданский брак</td>\n",
       "      <td>1</td>\n",
       "      <td>M</td>\n",
       "      <td>компаньон</td>\n",
       "      <td>0</td>\n",
       "      <td>255763.565419</td>\n",
       "      <td>покупка жилья</td>\n",
       "    </tr>\n",
       "    <tr>\n",
       "      <th>6</th>\n",
       "      <td>0</td>\n",
       "      <td>-2879.202052</td>\n",
       "      <td>43</td>\n",
       "      <td>высшее</td>\n",
       "      <td>0</td>\n",
       "      <td>женат / замужем</td>\n",
       "      <td>0</td>\n",
       "      <td>F</td>\n",
       "      <td>компаньон</td>\n",
       "      <td>0</td>\n",
       "      <td>240525.971920</td>\n",
       "      <td>операции с жильем</td>\n",
       "    </tr>\n",
       "    <tr>\n",
       "      <th>7</th>\n",
       "      <td>0</td>\n",
       "      <td>-152.779569</td>\n",
       "      <td>50</td>\n",
       "      <td>СРЕДНЕЕ</td>\n",
       "      <td>1</td>\n",
       "      <td>женат / замужем</td>\n",
       "      <td>0</td>\n",
       "      <td>M</td>\n",
       "      <td>сотрудник</td>\n",
       "      <td>0</td>\n",
       "      <td>135823.934197</td>\n",
       "      <td>образование</td>\n",
       "    </tr>\n",
       "    <tr>\n",
       "      <th>8</th>\n",
       "      <td>2</td>\n",
       "      <td>-6929.865299</td>\n",
       "      <td>35</td>\n",
       "      <td>ВЫСШЕЕ</td>\n",
       "      <td>0</td>\n",
       "      <td>гражданский брак</td>\n",
       "      <td>1</td>\n",
       "      <td>F</td>\n",
       "      <td>сотрудник</td>\n",
       "      <td>0</td>\n",
       "      <td>95856.832424</td>\n",
       "      <td>на проведение свадьбы</td>\n",
       "    </tr>\n",
       "    <tr>\n",
       "      <th>9</th>\n",
       "      <td>0</td>\n",
       "      <td>-2188.756445</td>\n",
       "      <td>41</td>\n",
       "      <td>среднее</td>\n",
       "      <td>1</td>\n",
       "      <td>женат / замужем</td>\n",
       "      <td>0</td>\n",
       "      <td>M</td>\n",
       "      <td>сотрудник</td>\n",
       "      <td>0</td>\n",
       "      <td>144425.938277</td>\n",
       "      <td>покупка жилья для семьи</td>\n",
       "    </tr>\n",
       "  </tbody>\n",
       "</table>\n",
       "</div>"
      ],
      "text/plain": [
       "   children  days_employed  dob_years education  education_id  \\\n",
       "0         1   -8437.673028         42    высшее             0   \n",
       "1         1   -4024.803754         36   среднее             1   \n",
       "2         0   -5623.422610         33   Среднее             1   \n",
       "3         3   -4124.747207         32   среднее             1   \n",
       "4         0  340266.072047         53   среднее             1   \n",
       "5         0    -926.185831         27    высшее             0   \n",
       "6         0   -2879.202052         43    высшее             0   \n",
       "7         0    -152.779569         50   СРЕДНЕЕ             1   \n",
       "8         2   -6929.865299         35    ВЫСШЕЕ             0   \n",
       "9         0   -2188.756445         41   среднее             1   \n",
       "\n",
       "      family_status  family_status_id gender income_type  debt   total_income  \\\n",
       "0   женат / замужем                 0      F   сотрудник     0  253875.639453   \n",
       "1   женат / замужем                 0      F   сотрудник     0  112080.014102   \n",
       "2   женат / замужем                 0      M   сотрудник     0  145885.952297   \n",
       "3   женат / замужем                 0      M   сотрудник     0  267628.550329   \n",
       "4  гражданский брак                 1      F   пенсионер     0  158616.077870   \n",
       "5  гражданский брак                 1      M   компаньон     0  255763.565419   \n",
       "6   женат / замужем                 0      F   компаньон     0  240525.971920   \n",
       "7   женат / замужем                 0      M   сотрудник     0  135823.934197   \n",
       "8  гражданский брак                 1      F   сотрудник     0   95856.832424   \n",
       "9   женат / замужем                 0      M   сотрудник     0  144425.938277   \n",
       "\n",
       "                      purpose  \n",
       "0               покупка жилья  \n",
       "1     приобретение автомобиля  \n",
       "2               покупка жилья  \n",
       "3  дополнительное образование  \n",
       "4             сыграть свадьбу  \n",
       "5               покупка жилья  \n",
       "6           операции с жильем  \n",
       "7                 образование  \n",
       "8       на проведение свадьбы  \n",
       "9     покупка жилья для семьи  "
      ]
     },
     "metadata": {},
     "output_type": "display_data"
    }
   ],
   "source": [
    "display(data.head(10))"
   ]
  },
  {
   "cell_type": "code",
   "execution_count": 5,
   "metadata": {},
   "outputs": [
    {
     "data": {
      "text/plain": [
       "Index(['children', 'days_employed', 'dob_years', 'education', 'education_id',\n",
       "       'family_status', 'family_status_id', 'gender', 'income_type', 'debt',\n",
       "       'total_income', 'purpose'],\n",
       "      dtype='object')"
      ]
     },
     "execution_count": 5,
     "metadata": {},
     "output_type": "execute_result"
    }
   ],
   "source": [
    "data.columns"
   ]
  },
  {
   "cell_type": "markdown",
   "metadata": {},
   "source": [
    "**Вывод**"
   ]
  },
  {
   "cell_type": "markdown",
   "metadata": {},
   "source": [
    "Всего в таблице 12 столбцов и 21525 строк. Пропуски значений (NaN) есть в столбцах \"days_employed\" и \"total_income\".  \n",
    "    \n",
    "Названия столбцов корректны:  \n",
    "- в них отсутствуют лишние пробелы и кирилические символы  \n",
    "- в качестве разделителя слов использовано подчеркивание (_).  \n",
    "\n",
    "Тип данных в колонке \"days_employed\" - float64 (вещественный), значения которые в нем хранятся (общий трудовой стаж в днях) подразумевают целочисленный тип данных (int64).  \n",
    "В столбце 'dob_years' (возраст клиента в годах) есть значение 0 для 101 строки.  \n",
    "Столбец \"children\" содержит отрицательное значение в 47 строках."
   ]
  },
  {
   "cell_type": "markdown",
   "metadata": {},
   "source": [
    "### Обработка пропусков"
   ]
  },
  {
   "cell_type": "code",
   "execution_count": 6,
   "metadata": {},
   "outputs": [
    {
     "name": "stdout",
     "output_type": "stream",
     "text": [
      "children 8\n",
      "days_employed 19352\n",
      "dob_years 58\n",
      "education 15\n",
      "education_id 5\n",
      "family_status 5\n",
      "family_status_id 5\n",
      "gender 3\n",
      "income_type 8\n",
      "debt 2\n",
      "total_income 19352\n",
      "purpose 38\n"
     ]
    }
   ],
   "source": [
    "for col in data.columns:\n",
    "    print(col, len(data[col].unique()))"
   ]
  },
  {
   "cell_type": "code",
   "execution_count": 7,
   "metadata": {
    "scrolled": true
   },
   "outputs": [
    {
     "data": {
      "text/plain": [
       "F      14236\n",
       "M       7288\n",
       "XNA        1\n",
       "Name: gender, dtype: int64"
      ]
     },
     "execution_count": 7,
     "metadata": {},
     "output_type": "execute_result"
    }
   ],
   "source": [
    "data['gender'].value_counts()"
   ]
  },
  {
   "cell_type": "markdown",
   "metadata": {},
   "source": [
    "**Вывод**"
   ]
  },
  {
   "cell_type": "markdown",
   "metadata": {},
   "source": [
    "Количество значений в столбце \"education_id\" меньше чем в \"education\", следовательно есть дубликаты которые обработаем позднее.  \n",
    "В столбце 'gender' количество значений больше двух, следовательно есть ошибки в заполнении.   "
   ]
  },
  {
   "cell_type": "code",
   "execution_count": 8,
   "metadata": {},
   "outputs": [
    {
     "data": {
      "text/plain": [
       "children               0\n",
       "days_employed       2174\n",
       "dob_years              0\n",
       "education              0\n",
       "education_id           0\n",
       "family_status          0\n",
       "family_status_id       0\n",
       "gender                 0\n",
       "income_type            0\n",
       "debt                   0\n",
       "total_income        2174\n",
       "purpose                0\n",
       "dtype: int64"
      ]
     },
     "execution_count": 8,
     "metadata": {},
     "output_type": "execute_result"
    }
   ],
   "source": [
    "data.isna().sum()"
   ]
  },
  {
   "cell_type": "code",
   "execution_count": 9,
   "metadata": {},
   "outputs": [],
   "source": [
    "data.fillna(value=0, inplace=True)"
   ]
  },
  {
   "cell_type": "code",
   "execution_count": 10,
   "metadata": {},
   "outputs": [
    {
     "data": {
      "text/plain": [
       "children            0\n",
       "days_employed       0\n",
       "dob_years           0\n",
       "education           0\n",
       "education_id        0\n",
       "family_status       0\n",
       "family_status_id    0\n",
       "gender              0\n",
       "income_type         0\n",
       "debt                0\n",
       "total_income        0\n",
       "purpose             0\n",
       "dtype: int64"
      ]
     },
     "execution_count": 10,
     "metadata": {},
     "output_type": "execute_result"
    }
   ],
   "source": [
    "data.isna().sum()"
   ]
  },
  {
   "cell_type": "code",
   "execution_count": 11,
   "metadata": {},
   "outputs": [
    {
     "data": {
      "text/plain": [
       " 0     14149\n",
       " 1      4818\n",
       " 2      2055\n",
       " 3       330\n",
       " 20       76\n",
       "-1        47\n",
       " 4        41\n",
       " 5         9\n",
       "Name: children, dtype: int64"
      ]
     },
     "execution_count": 11,
     "metadata": {},
     "output_type": "execute_result"
    }
   ],
   "source": [
    "data['children'].value_counts()"
   ]
  },
  {
   "cell_type": "markdown",
   "metadata": {},
   "source": [
    "В столбце \"children\" присутствует значение 20 в 76 строках, что вызывает сомнение в корректности данных.  \n",
    "Возможна ошибка оператора, однако проверить истинность этих данных возможным не представляется."
   ]
  },
  {
   "cell_type": "code",
   "execution_count": 12,
   "metadata": {},
   "outputs": [],
   "source": [
    "data.loc[data['children'] < 0, 'children'] = data['children'].abs()"
   ]
  },
  {
   "cell_type": "code",
   "execution_count": 13,
   "metadata": {},
   "outputs": [
    {
     "data": {
      "text/html": [
       "<div>\n",
       "<style scoped>\n",
       "    .dataframe tbody tr th:only-of-type {\n",
       "        vertical-align: middle;\n",
       "    }\n",
       "\n",
       "    .dataframe tbody tr th {\n",
       "        vertical-align: top;\n",
       "    }\n",
       "\n",
       "    .dataframe thead th {\n",
       "        text-align: right;\n",
       "    }\n",
       "</style>\n",
       "<table border=\"1\" class=\"dataframe\">\n",
       "  <thead>\n",
       "    <tr style=\"text-align: right;\">\n",
       "      <th></th>\n",
       "      <th>children</th>\n",
       "      <th>days_employed</th>\n",
       "      <th>dob_years</th>\n",
       "      <th>education</th>\n",
       "      <th>education_id</th>\n",
       "      <th>family_status</th>\n",
       "      <th>family_status_id</th>\n",
       "      <th>gender</th>\n",
       "      <th>income_type</th>\n",
       "      <th>debt</th>\n",
       "      <th>total_income</th>\n",
       "      <th>purpose</th>\n",
       "    </tr>\n",
       "  </thead>\n",
       "  <tbody>\n",
       "  </tbody>\n",
       "</table>\n",
       "</div>"
      ],
      "text/plain": [
       "Empty DataFrame\n",
       "Columns: [children, days_employed, dob_years, education, education_id, family_status, family_status_id, gender, income_type, debt, total_income, purpose]\n",
       "Index: []"
      ]
     },
     "execution_count": 13,
     "metadata": {},
     "output_type": "execute_result"
    }
   ],
   "source": [
    "data.loc[data['children'] < 0]"
   ]
  },
  {
   "cell_type": "markdown",
   "metadata": {},
   "source": [
    "**Вывод**\n",
    "\n",
    "Пропущенные значения присутствуют в стоблцах \"days_employed\" и \"total_income\".\n",
    "\n",
    "Причина появления пропуска - клиентами не предоставлена информация о трудовом стаже и размере дохода.  \n",
    "Заполнить такие данные можно нулями, чтобы можно было группировать данные и производить арифметические операции с ними. \n",
    "\n",
    "Отрицательные значение столбца 'children' заменены на положительные значения. Это можно считать ошибкой оператора.  \n",
    "    \n",
    "В столбце 'gender' есть пропущенное значение \"XNA\", но т.к. аналитики в разрезе данного столбца заданием не предусмотрено, этим пропуском можно пренебречь.\n"
   ]
  },
  {
   "cell_type": "markdown",
   "metadata": {},
   "source": [
    "### Замена типа данных"
   ]
  },
  {
   "cell_type": "code",
   "execution_count": 14,
   "metadata": {},
   "outputs": [],
   "source": [
    "data = data.astype({'days_employed':'int64', 'total_income':'int64'})"
   ]
  },
  {
   "cell_type": "markdown",
   "metadata": {},
   "source": [
    "**Вывод**\n",
    "\n",
    "Для изменения типа данных в столбцах значений ('days_employed' и 'total_income') был использован метод astype().  \n",
    "\n",
    "Для замены был передан целочисленный тип int64. \n"
   ]
  },
  {
   "cell_type": "markdown",
   "metadata": {},
   "source": [
    "### Обработка дубликатов"
   ]
  },
  {
   "cell_type": "code",
   "execution_count": 15,
   "metadata": {},
   "outputs": [
    {
     "data": {
      "text/plain": [
       "54"
      ]
     },
     "execution_count": 15,
     "metadata": {},
     "output_type": "execute_result"
    }
   ],
   "source": [
    "data.duplicated().sum()"
   ]
  },
  {
   "cell_type": "code",
   "execution_count": 16,
   "metadata": {},
   "outputs": [],
   "source": [
    "data = data.drop_duplicates()"
   ]
  },
  {
   "cell_type": "code",
   "execution_count": 17,
   "metadata": {},
   "outputs": [
    {
     "data": {
      "text/plain": [
       "0"
      ]
     },
     "execution_count": 17,
     "metadata": {},
     "output_type": "execute_result"
    }
   ],
   "source": [
    "data.duplicated().sum()"
   ]
  },
  {
   "cell_type": "code",
   "execution_count": 18,
   "metadata": {},
   "outputs": [
    {
     "data": {
      "text/plain": [
       "среднее                13705\n",
       "высшее                  4710\n",
       "СРЕДНЕЕ                  772\n",
       "Среднее                  711\n",
       "неоконченное высшее      668\n",
       "ВЫСШЕЕ                   273\n",
       "Высшее                   268\n",
       "начальное                250\n",
       "Неоконченное высшее       47\n",
       "НЕОКОНЧЕННОЕ ВЫСШЕЕ       29\n",
       "НАЧАЛЬНОЕ                 17\n",
       "Начальное                 15\n",
       "ученая степень             4\n",
       "Ученая степень             1\n",
       "УЧЕНАЯ СТЕПЕНЬ             1\n",
       "Name: education, dtype: int64"
      ]
     },
     "execution_count": 18,
     "metadata": {},
     "output_type": "execute_result"
    }
   ],
   "source": [
    "data['education'].value_counts()"
   ]
  },
  {
   "cell_type": "code",
   "execution_count": 19,
   "metadata": {},
   "outputs": [],
   "source": [
    "data['education_lowcase'] = data['education'].str.lower()"
   ]
  },
  {
   "cell_type": "code",
   "execution_count": 20,
   "metadata": {},
   "outputs": [
    {
     "data": {
      "text/plain": [
       "среднее                15188\n",
       "высшее                  5251\n",
       "неоконченное высшее      744\n",
       "начальное                282\n",
       "ученая степень             6\n",
       "Name: education_lowcase, dtype: int64"
      ]
     },
     "execution_count": 20,
     "metadata": {},
     "output_type": "execute_result"
    }
   ],
   "source": [
    "data['education_lowcase'].value_counts()"
   ]
  },
  {
   "cell_type": "markdown",
   "metadata": {},
   "source": [
    "**Вывод**\n",
    "\n",
    "Для выявления явных дубликатов использован метод .duplicated(), для их удаления .drop_duplicates().\n",
    "    \n",
    "Для удаления неявных дубликатов в колонке \"education\", связанных с различными написаниями (разные регистры в строках, начальные строчные буквы и т.д.) был использован метод str.lower().  \n",
    "Это позволило привести все строковые данные к одному регистру.  \n",
    "Причиной появления таких дубликатов можно считать небрежность исполнителя и/или отсутствием четкого регламента по заполнению этого поля в первичном документе. \n",
    "Также к такому заполнению могло привести отсутствие проверки данных на допустимость значений (выбор из предложенного) при проектировании таблицы БД.\n"
   ]
  },
  {
   "cell_type": "markdown",
   "metadata": {},
   "source": [
    "### Лемматизация"
   ]
  },
  {
   "cell_type": "code",
   "execution_count": 21,
   "metadata": {
    "tags": []
   },
   "outputs": [],
   "source": [
    "morph = pymorphy2.MorphAnalyzer()\n",
    "def lemmas_purpose(row):\n",
    "    lemmas = [morph.parse(x)[0].normal_form for x in row['purpose'].split(' ')]\n",
    "    if 'свадьба' in lemmas:\n",
    "        return 'свадьба'\n",
    "    elif 'недвижимость' in lemmas or 'жильё' in lemmas:\n",
    "        return 'недвижимость' \n",
    "    elif 'автомобиль' in lemmas:\n",
    "        return 'автомобиль' \n",
    "    elif 'образование' in lemmas:\n",
    "        return 'образование' \n",
    "    \n",
    "data['group_purpose'] = data.apply(lemmas_purpose, axis=1)"
   ]
  },
  {
   "cell_type": "code",
   "execution_count": 22,
   "metadata": {},
   "outputs": [
    {
     "data": {
      "text/plain": [
       "недвижимость    10814\n",
       "автомобиль       4308\n",
       "образование      4014\n",
       "свадьба          2335\n",
       "Name: group_purpose, dtype: int64"
      ]
     },
     "execution_count": 22,
     "metadata": {},
     "output_type": "execute_result"
    }
   ],
   "source": [
    "data['group_purpose'].value_counts(dropna=False)"
   ]
  },
  {
   "cell_type": "markdown",
   "metadata": {},
   "source": [
    "**Вывод**\n",
    "\n",
    "Лемматизация целей кредита (столбец 'purpose') проведена с помощью бибилиотеки pymystem3.  \n",
    "    \n",
    "Одновременно с лематизацией проведена категоризация этих данных по 4 категориям: свадьба, недвижимость, автомобиль, образование.  \n",
    "Это реализовано при помощи собственной функции lemmas_purpose().  \n",
    "С помощью метода apply() и функции lemmas_purpose() был создан и заполнен новый столбец с категорией цели кредита ('group_purpose').\n"
   ]
  },
  {
   "cell_type": "markdown",
   "metadata": {},
   "source": [
    "### Категоризация данных"
   ]
  },
  {
   "cell_type": "code",
   "execution_count": 23,
   "metadata": {},
   "outputs": [],
   "source": [
    "def group_children(row):\n",
    "    row = row['children']\n",
    "    if row == 0:\n",
    "        return 'без детей'\n",
    "    elif 1 <= row <= 2:\n",
    "        return '1-2 ребенка' \n",
    "    else:\n",
    "        return 'многодетный'\n",
    "\n",
    "data['group_children'] = data.apply(group_children, axis=1)   "
   ]
  },
  {
   "cell_type": "code",
   "execution_count": 24,
   "metadata": {},
   "outputs": [],
   "source": [
    "def group_income(row):\n",
    "    row = row['total_income']\n",
    "    if row <= data['total_income'].median():\n",
    "        return 'доход ниже медианного'\n",
    "    else:\n",
    "        return 'доход выше медианного'\n",
    "data['group_income'] = data.apply(group_income, axis=1)"
   ]
  },
  {
   "cell_type": "code",
   "execution_count": 25,
   "metadata": {},
   "outputs": [
    {
     "data": {
      "text/plain": [
       "group_purpose\n",
       "автомобиль       4308\n",
       "недвижимость    10814\n",
       "образование      4014\n",
       "свадьба          2335\n",
       "Name: purpose, dtype: int64"
      ]
     },
     "execution_count": 25,
     "metadata": {},
     "output_type": "execute_result"
    }
   ],
   "source": [
    "purpose_grouped = data.groupby('group_purpose')['purpose'].count()\n",
    "purpose_grouped"
   ]
  },
  {
   "cell_type": "code",
   "execution_count": 26,
   "metadata": {},
   "outputs": [
    {
     "data": {
      "text/plain": [
       "group_children\n",
       "1-2 ребенка     6908\n",
       "без детей      14107\n",
       "многодетный      456\n",
       "Name: children, dtype: int64"
      ]
     },
     "execution_count": 26,
     "metadata": {},
     "output_type": "execute_result"
    }
   ],
   "source": [
    "children_grouped = data.groupby('group_children')['children'].count()\n",
    "children_grouped"
   ]
  },
  {
   "cell_type": "code",
   "execution_count": 27,
   "metadata": {},
   "outputs": [
    {
     "data": {
      "text/plain": [
       "family_status\n",
       "Не женат / не замужем     2810\n",
       "в разводе                 1195\n",
       "вдовец / вдова             959\n",
       "гражданский брак          4163\n",
       "женат / замужем          12344\n",
       "Name: family_status_id, dtype: int64"
      ]
     },
     "execution_count": 27,
     "metadata": {},
     "output_type": "execute_result"
    }
   ],
   "source": [
    "family_status_grouped = data.groupby('family_status')['family_status_id'].count()\n",
    "family_status_grouped"
   ]
  },
  {
   "cell_type": "code",
   "execution_count": 28,
   "metadata": {},
   "outputs": [
    {
     "data": {
      "text/plain": [
       "group_income\n",
       "доход выше медианного    10735\n",
       "доход ниже медианного    10736\n",
       "Name: total_income, dtype: int64"
      ]
     },
     "execution_count": 28,
     "metadata": {},
     "output_type": "execute_result"
    }
   ],
   "source": [
    "income_grouped = data.groupby('group_income')['total_income'].count()\n",
    "income_grouped"
   ]
  },
  {
   "cell_type": "markdown",
   "metadata": {},
   "source": [
    "**Вывод**\n",
    "\n",
    "Для ответа на вопросы о зависимости возврата кредита в срок от факторов: наличия детей, семейного положения, уровня дохода и цели кредита была проведена категоризация.  \n",
    "    \n",
    "Категория дети состоит из 3 подгрупп:\n",
    "* без детей\n",
    "* 1-2 ребенка\n",
    "* многодетный\n",
    "    \n",
    "    \n",
    "Такое деление позволит ответить на вопрос \"Есть ли зависимость между наличием детей и возвратом кредита в срок?\" с дополнительной детализацией кроме есть/нет дети, но и с числом детей.\n",
    "\n",
    "Категория семейное положение создана на основе имеющихся данных в датасете.    \n",
    "    \n",
    "Категория уровень дохода создана на основе медианного дохода всех заемщиков, группировка проведена по уровню выше/ниже медианного значения.\n",
    "    \n",
    "Категория цель кредита разбита по 4 категориям: свадьба, недвижимость, автомобиль, образование.  \n"
   ]
  },
  {
   "cell_type": "markdown",
   "metadata": {},
   "source": [
    "## Определение зависимости возврата кредита в срок от факторов наличия детей, семейного положения и целей кредитования"
   ]
  },
  {
   "cell_type": "code",
   "execution_count": 29,
   "metadata": {},
   "outputs": [],
   "source": [
    "# напишем функцию с помощью которой сгруппируем исходные данные по анализируемым факторам\n",
    "def pivot_data(df, fact):\n",
    "    index=[fact, 'debt', ]\n",
    "    pdf = df.pivot_table(\n",
    "        index = index,\n",
    "        values = 'children',\n",
    "        aggfunc='count'        \n",
    "    ).rename(columns={'children':'number'})\n",
    "    \n",
    "    pdf['part'] = (pdf['number'] / data.groupby(fact).count().iloc[:,0] * 100).round(2)\n",
    "    \n",
    "    return pdf.reset_index()\n"
   ]
  },
  {
   "cell_type": "markdown",
   "metadata": {},
   "source": [
    "### Зависимость между наличием детей и возвратом кредита в срок"
   ]
  },
  {
   "cell_type": "code",
   "execution_count": 30,
   "metadata": {
    "tags": []
   },
   "outputs": [
    {
     "data": {
      "text/html": [
       "<div>\n",
       "<style scoped>\n",
       "    .dataframe tbody tr th:only-of-type {\n",
       "        vertical-align: middle;\n",
       "    }\n",
       "\n",
       "    .dataframe tbody tr th {\n",
       "        vertical-align: top;\n",
       "    }\n",
       "\n",
       "    .dataframe thead th {\n",
       "        text-align: right;\n",
       "    }\n",
       "</style>\n",
       "<table border=\"1\" class=\"dataframe\">\n",
       "  <thead>\n",
       "    <tr style=\"text-align: right;\">\n",
       "      <th></th>\n",
       "      <th>group_children</th>\n",
       "      <th>debt</th>\n",
       "      <th>number</th>\n",
       "      <th>part</th>\n",
       "    </tr>\n",
       "  </thead>\n",
       "  <tbody>\n",
       "    <tr>\n",
       "      <th>0</th>\n",
       "      <td>1-2 ребенка</td>\n",
       "      <td>0</td>\n",
       "      <td>6269</td>\n",
       "      <td>90.75</td>\n",
       "    </tr>\n",
       "    <tr>\n",
       "      <th>1</th>\n",
       "      <td>1-2 ребенка</td>\n",
       "      <td>1</td>\n",
       "      <td>639</td>\n",
       "      <td>9.25</td>\n",
       "    </tr>\n",
       "    <tr>\n",
       "      <th>2</th>\n",
       "      <td>без детей</td>\n",
       "      <td>0</td>\n",
       "      <td>13044</td>\n",
       "      <td>92.46</td>\n",
       "    </tr>\n",
       "    <tr>\n",
       "      <th>3</th>\n",
       "      <td>без детей</td>\n",
       "      <td>1</td>\n",
       "      <td>1063</td>\n",
       "      <td>7.54</td>\n",
       "    </tr>\n",
       "    <tr>\n",
       "      <th>4</th>\n",
       "      <td>многодетный</td>\n",
       "      <td>0</td>\n",
       "      <td>417</td>\n",
       "      <td>91.45</td>\n",
       "    </tr>\n",
       "    <tr>\n",
       "      <th>5</th>\n",
       "      <td>многодетный</td>\n",
       "      <td>1</td>\n",
       "      <td>39</td>\n",
       "      <td>8.55</td>\n",
       "    </tr>\n",
       "  </tbody>\n",
       "</table>\n",
       "</div>"
      ],
      "text/plain": [
       "  group_children  debt  number   part\n",
       "0    1-2 ребенка     0    6269  90.75\n",
       "1    1-2 ребенка     1     639   9.25\n",
       "2      без детей     0   13044  92.46\n",
       "3      без детей     1    1063   7.54\n",
       "4    многодетный     0     417  91.45\n",
       "5    многодетный     1      39   8.55"
      ]
     },
     "execution_count": 30,
     "metadata": {},
     "output_type": "execute_result"
    }
   ],
   "source": [
    "pivot_child = pivot_data(data, 'group_children')\n",
    "pivot_child"
   ]
  },
  {
   "cell_type": "code",
   "execution_count": 31,
   "metadata": {},
   "outputs": [
    {
     "data": {
      "image/png": "[encoded data removed]",
      "text/plain": [
       "<Figure size 720x432 with 1 Axes>"
      ]
     },
     "metadata": {
      "needs_background": "light"
     },
     "output_type": "display_data"
    }
   ],
   "source": [
    "plt.figure(figsize=(10,6))\n",
    "\n",
    "sns.histplot(\n",
    "    data = data,\n",
    "    x='children',\n",
    "    hue='debt',\n",
    "    bins=20,\n",
    "    element='step',\n",
    "    legend=True,\n",
    "\n",
    ")\n",
    "plt.xlabel('Число детей', fontsize=12)\n",
    "plt.ylabel('Количество пользователей', fontsize=12)\n",
    "plt.title('Распределение пользователей по числу детей \\n  \\\n",
    "в разрезе наличия / отсутствия задолженности по возврату кредита',\n",
    "         fontsize=14)\n",
    "plt.show()"
   ]
  },
  {
   "cell_type": "markdown",
   "metadata": {},
   "source": [
    "**Вывод**\n",
    "\n",
    "На основании полученных данных наибольшая доля клиентов, имевших задолженность по возврату кредита, приходится на группу \"1-2 ребенка\", группа \"многодетный\" на втором месте.  \n",
    "    \n",
    "Можно сделать вывод, что наличие детей увеличивает риск возникновения задолженности по кредиту.\n"
   ]
  },
  {
   "cell_type": "markdown",
   "metadata": {},
   "source": [
    "### Зависимость между семейным положением и возвратом кредита в срок"
   ]
  },
  {
   "cell_type": "code",
   "execution_count": 32,
   "metadata": {
    "tags": []
   },
   "outputs": [
    {
     "data": {
      "text/html": [
       "<div>\n",
       "<style scoped>\n",
       "    .dataframe tbody tr th:only-of-type {\n",
       "        vertical-align: middle;\n",
       "    }\n",
       "\n",
       "    .dataframe tbody tr th {\n",
       "        vertical-align: top;\n",
       "    }\n",
       "\n",
       "    .dataframe thead th {\n",
       "        text-align: right;\n",
       "    }\n",
       "</style>\n",
       "<table border=\"1\" class=\"dataframe\">\n",
       "  <thead>\n",
       "    <tr style=\"text-align: right;\">\n",
       "      <th></th>\n",
       "      <th>family_status</th>\n",
       "      <th>debt</th>\n",
       "      <th>number</th>\n",
       "      <th>part</th>\n",
       "    </tr>\n",
       "  </thead>\n",
       "  <tbody>\n",
       "    <tr>\n",
       "      <th>0</th>\n",
       "      <td>Не женат / не замужем</td>\n",
       "      <td>0</td>\n",
       "      <td>2536</td>\n",
       "      <td>90.25</td>\n",
       "    </tr>\n",
       "    <tr>\n",
       "      <th>1</th>\n",
       "      <td>Не женат / не замужем</td>\n",
       "      <td>1</td>\n",
       "      <td>274</td>\n",
       "      <td>9.75</td>\n",
       "    </tr>\n",
       "    <tr>\n",
       "      <th>2</th>\n",
       "      <td>в разводе</td>\n",
       "      <td>0</td>\n",
       "      <td>1110</td>\n",
       "      <td>92.89</td>\n",
       "    </tr>\n",
       "    <tr>\n",
       "      <th>3</th>\n",
       "      <td>в разводе</td>\n",
       "      <td>1</td>\n",
       "      <td>85</td>\n",
       "      <td>7.11</td>\n",
       "    </tr>\n",
       "    <tr>\n",
       "      <th>4</th>\n",
       "      <td>вдовец / вдова</td>\n",
       "      <td>0</td>\n",
       "      <td>896</td>\n",
       "      <td>93.43</td>\n",
       "    </tr>\n",
       "    <tr>\n",
       "      <th>5</th>\n",
       "      <td>вдовец / вдова</td>\n",
       "      <td>1</td>\n",
       "      <td>63</td>\n",
       "      <td>6.57</td>\n",
       "    </tr>\n",
       "    <tr>\n",
       "      <th>6</th>\n",
       "      <td>гражданский брак</td>\n",
       "      <td>0</td>\n",
       "      <td>3775</td>\n",
       "      <td>90.68</td>\n",
       "    </tr>\n",
       "    <tr>\n",
       "      <th>7</th>\n",
       "      <td>гражданский брак</td>\n",
       "      <td>1</td>\n",
       "      <td>388</td>\n",
       "      <td>9.32</td>\n",
       "    </tr>\n",
       "    <tr>\n",
       "      <th>8</th>\n",
       "      <td>женат / замужем</td>\n",
       "      <td>0</td>\n",
       "      <td>11413</td>\n",
       "      <td>92.46</td>\n",
       "    </tr>\n",
       "    <tr>\n",
       "      <th>9</th>\n",
       "      <td>женат / замужем</td>\n",
       "      <td>1</td>\n",
       "      <td>931</td>\n",
       "      <td>7.54</td>\n",
       "    </tr>\n",
       "  </tbody>\n",
       "</table>\n",
       "</div>"
      ],
      "text/plain": [
       "           family_status  debt  number   part\n",
       "0  Не женат / не замужем     0    2536  90.25\n",
       "1  Не женат / не замужем     1     274   9.75\n",
       "2              в разводе     0    1110  92.89\n",
       "3              в разводе     1      85   7.11\n",
       "4         вдовец / вдова     0     896  93.43\n",
       "5         вдовец / вдова     1      63   6.57\n",
       "6       гражданский брак     0    3775  90.68\n",
       "7       гражданский брак     1     388   9.32\n",
       "8        женат / замужем     0   11413  92.46\n",
       "9        женат / замужем     1     931   7.54"
      ]
     },
     "execution_count": 32,
     "metadata": {},
     "output_type": "execute_result"
    }
   ],
   "source": [
    "pivot_status = pivot_data(data, 'family_status')\n",
    "pivot_status"
   ]
  },
  {
   "cell_type": "code",
   "execution_count": 33,
   "metadata": {},
   "outputs": [
    {
     "data": {
      "image/png": "[encoded data removed]",
      "text/plain": [
       "<Figure size 720x432 with 1 Axes>"
      ]
     },
     "metadata": {
      "needs_background": "light"
     },
     "output_type": "display_data"
    }
   ],
   "source": [
    "plt.figure(figsize=(10,6))\n",
    "\n",
    "sns.histplot(\n",
    "    data = data,\n",
    "    x='family_status',\n",
    "    hue='debt',\n",
    "    bins=20,\n",
    "    element='bars',\n",
    "    legend=True,\n",
    "\n",
    ")\n",
    "plt.xlabel('Семейное положение', fontsize=12)\n",
    "plt.ylabel('Количество пользователей', fontsize=12)\n",
    "plt.title('Распределение пользователей по семейному положению \\n  \\\n",
    "в разрезе наличия / отсутствия задолженности по возврату кредита',\n",
    "         fontsize=14)\n",
    "plt.show()"
   ]
  },
  {
   "cell_type": "markdown",
   "metadata": {},
   "source": [
    "**Вывод**\n",
    "\n",
    "Если анализировать риск образования задолженности по кредиту в разрезе групп, основанных на семейном положении, то наибольший удельный вес приходится на группу \"Не женат / не замужем\".  \n",
    "    \n",
    "Группа с наименьшим риском - \"вдовец / вдова\".\n"
   ]
  },
  {
   "cell_type": "markdown",
   "metadata": {},
   "source": [
    "### Зависимость между уровнем дохода и возвратом кредита в срок"
   ]
  },
  {
   "cell_type": "code",
   "execution_count": 34,
   "metadata": {
    "tags": []
   },
   "outputs": [
    {
     "data": {
      "text/html": [
       "<div>\n",
       "<style scoped>\n",
       "    .dataframe tbody tr th:only-of-type {\n",
       "        vertical-align: middle;\n",
       "    }\n",
       "\n",
       "    .dataframe tbody tr th {\n",
       "        vertical-align: top;\n",
       "    }\n",
       "\n",
       "    .dataframe thead th {\n",
       "        text-align: right;\n",
       "    }\n",
       "</style>\n",
       "<table border=\"1\" class=\"dataframe\">\n",
       "  <thead>\n",
       "    <tr style=\"text-align: right;\">\n",
       "      <th></th>\n",
       "      <th>group_income</th>\n",
       "      <th>debt</th>\n",
       "      <th>number</th>\n",
       "      <th>part</th>\n",
       "    </tr>\n",
       "  </thead>\n",
       "  <tbody>\n",
       "    <tr>\n",
       "      <th>0</th>\n",
       "      <td>доход выше медианного</td>\n",
       "      <td>0</td>\n",
       "      <td>9868</td>\n",
       "      <td>91.92</td>\n",
       "    </tr>\n",
       "    <tr>\n",
       "      <th>1</th>\n",
       "      <td>доход выше медианного</td>\n",
       "      <td>1</td>\n",
       "      <td>867</td>\n",
       "      <td>8.08</td>\n",
       "    </tr>\n",
       "    <tr>\n",
       "      <th>2</th>\n",
       "      <td>доход ниже медианного</td>\n",
       "      <td>0</td>\n",
       "      <td>9862</td>\n",
       "      <td>91.86</td>\n",
       "    </tr>\n",
       "    <tr>\n",
       "      <th>3</th>\n",
       "      <td>доход ниже медианного</td>\n",
       "      <td>1</td>\n",
       "      <td>874</td>\n",
       "      <td>8.14</td>\n",
       "    </tr>\n",
       "  </tbody>\n",
       "</table>\n",
       "</div>"
      ],
      "text/plain": [
       "            group_income  debt  number   part\n",
       "0  доход выше медианного     0    9868  91.92\n",
       "1  доход выше медианного     1     867   8.08\n",
       "2  доход ниже медианного     0    9862  91.86\n",
       "3  доход ниже медианного     1     874   8.14"
      ]
     },
     "execution_count": 34,
     "metadata": {},
     "output_type": "execute_result"
    }
   ],
   "source": [
    "pivot_income = pivot_data(data, 'group_income')\n",
    "pivot_income"
   ]
  },
  {
   "cell_type": "code",
   "execution_count": 35,
   "metadata": {},
   "outputs": [
    {
     "data": {
      "image/png": "[encoded data removed]",
      "text/plain": [
       "<Figure size 720x432 with 1 Axes>"
      ]
     },
     "metadata": {
      "needs_background": "light"
     },
     "output_type": "display_data"
    }
   ],
   "source": [
    "plt.figure(figsize=(10,6))\n",
    "\n",
    "sns.histplot(\n",
    "    data = data,\n",
    "    x='group_income',\n",
    "    hue='debt',\n",
    "    bins=20,\n",
    "    element='bars',\n",
    "    legend=True,\n",
    "\n",
    ")\n",
    "plt.xlabel('Доход выше / ниже медианного', fontsize=12)\n",
    "plt.ylabel('Количество пользователей', fontsize=12)\n",
    "plt.title('Распределение пользователей по уровню дохода \\n  \\\n",
    "в разрезе наличия / отсутствия задолженности по возврату кредита',\n",
    "         fontsize=14)\n",
    "plt.show()"
   ]
  },
  {
   "cell_type": "markdown",
   "metadata": {},
   "source": [
    "**Вывод**\n",
    "\n",
    "В разрезе уровня дохода относительно медианного значения (выше/ниже) риск возникновения задолженности по кредиту не имеет существенного различия. Доля таких клиентов в обеих группах на уровне 8%.\n"
   ]
  },
  {
   "cell_type": "markdown",
   "metadata": {},
   "source": [
    "### Зависимость цели кредита и его возврат в срок"
   ]
  },
  {
   "cell_type": "code",
   "execution_count": 36,
   "metadata": {},
   "outputs": [
    {
     "data": {
      "text/html": [
       "<div>\n",
       "<style scoped>\n",
       "    .dataframe tbody tr th:only-of-type {\n",
       "        vertical-align: middle;\n",
       "    }\n",
       "\n",
       "    .dataframe tbody tr th {\n",
       "        vertical-align: top;\n",
       "    }\n",
       "\n",
       "    .dataframe thead th {\n",
       "        text-align: right;\n",
       "    }\n",
       "</style>\n",
       "<table border=\"1\" class=\"dataframe\">\n",
       "  <thead>\n",
       "    <tr style=\"text-align: right;\">\n",
       "      <th></th>\n",
       "      <th></th>\n",
       "      <th>children</th>\n",
       "      <th>part</th>\n",
       "    </tr>\n",
       "    <tr>\n",
       "      <th>group_purpose</th>\n",
       "      <th>debt</th>\n",
       "      <th></th>\n",
       "      <th></th>\n",
       "    </tr>\n",
       "  </thead>\n",
       "  <tbody>\n",
       "    <tr>\n",
       "      <th rowspan=\"2\" valign=\"top\">автомобиль</th>\n",
       "      <th>0</th>\n",
       "      <td>3905</td>\n",
       "      <td>90.65</td>\n",
       "    </tr>\n",
       "    <tr>\n",
       "      <th>1</th>\n",
       "      <td>403</td>\n",
       "      <td>9.35</td>\n",
       "    </tr>\n",
       "    <tr>\n",
       "      <th rowspan=\"2\" valign=\"top\">недвижимость</th>\n",
       "      <th>0</th>\n",
       "      <td>10032</td>\n",
       "      <td>92.77</td>\n",
       "    </tr>\n",
       "    <tr>\n",
       "      <th>1</th>\n",
       "      <td>782</td>\n",
       "      <td>7.23</td>\n",
       "    </tr>\n",
       "    <tr>\n",
       "      <th rowspan=\"2\" valign=\"top\">образование</th>\n",
       "      <th>0</th>\n",
       "      <td>3644</td>\n",
       "      <td>90.78</td>\n",
       "    </tr>\n",
       "    <tr>\n",
       "      <th>1</th>\n",
       "      <td>370</td>\n",
       "      <td>9.22</td>\n",
       "    </tr>\n",
       "    <tr>\n",
       "      <th rowspan=\"2\" valign=\"top\">свадьба</th>\n",
       "      <th>0</th>\n",
       "      <td>2149</td>\n",
       "      <td>92.03</td>\n",
       "    </tr>\n",
       "    <tr>\n",
       "      <th>1</th>\n",
       "      <td>186</td>\n",
       "      <td>7.97</td>\n",
       "    </tr>\n",
       "  </tbody>\n",
       "</table>\n",
       "</div>"
      ],
      "text/plain": [
       "                    children   part\n",
       "group_purpose debt                 \n",
       "автомобиль    0         3905  90.65\n",
       "              1          403   9.35\n",
       "недвижимость  0        10032  92.77\n",
       "              1          782   7.23\n",
       "образование   0         3644  90.78\n",
       "              1          370   9.22\n",
       "свадьба       0         2149  92.03\n",
       "              1          186   7.97"
      ]
     },
     "execution_count": 36,
     "metadata": {},
     "output_type": "execute_result"
    }
   ],
   "source": [
    "pivot_purpose = data.pivot_table(index=['group_purpose', 'debt'], values='children',aggfunc='count')\n",
    "pivot_purpose['part'] = (pivot_purpose['children'] / data.groupby('group_purpose')['children'].count() * 100).round(2)\n",
    "pivot_purpose"
   ]
  },
  {
   "cell_type": "code",
   "execution_count": 37,
   "metadata": {},
   "outputs": [
    {
     "data": {
      "image/png": "[encoded data removed]",
      "text/plain": [
       "<Figure size 720x432 with 1 Axes>"
      ]
     },
     "metadata": {
      "needs_background": "light"
     },
     "output_type": "display_data"
    }
   ],
   "source": [
    "plt.figure(figsize=(10,6))\n",
    "\n",
    "sns.histplot(\n",
    "    data = data,\n",
    "    x='group_purpose',\n",
    "    hue='debt',\n",
    "    bins=20,\n",
    "    element='bars',\n",
    "    legend=True,\n",
    "\n",
    ")\n",
    "plt.xlabel('Число детей', fontsize=12)\n",
    "plt.ylabel('Количество пользователей', fontsize=12)\n",
    "plt.title('Распределение пользователей по целям кредитования \\n  \\\n",
    "в разрезе наличия / отсутствия задолженности по возврату кредита',\n",
    "         fontsize=14)\n",
    "plt.show()"
   ]
  },
  {
   "cell_type": "markdown",
   "metadata": {},
   "source": [
    "**Вывод**\n",
    "\n",
    "В зависимости от цели кредита наибольшее число клиентов, допускавших задолженность по его погашению, относится к группе с целевым назначением кредита \"автомобиль\". \n"
   ]
  },
  {
   "cell_type": "markdown",
   "metadata": {},
   "source": [
    "## Шаг 4. Общий вывод"
   ]
  },
  {
   "cell_type": "markdown",
   "metadata": {},
   "source": [
    "    \n",
    "**Были проверены 4 гипотезы зависимости возврата кредита в срок.**\n",
    "    \n",
    "**Первая**: \"Есть ли зависимость между наличием детей и возвратом кредита в срок?\" подтвердилась полностью - наличие детей (не в зависимости от числа) увеличивает риск возникновения задолженности.\n",
    "    \n",
    "**Вторая**: \"Есть ли зависимость между семейным положением и возвратом кредита в срок?\" также подтвердилась - разброс доли клиентов допускавших задолженность в зависимости от группы составляет от 6,57% до 9,75%.\n",
    "\n",
    "**Третья**: \"Есть ли зависимость между уровнем дохода и возвратом кредита в срок?\" не подтвердилась. Значительной зависимости от уровня дохода кредитора (в сравнении с медианным значением) не наблюдается.\n",
    "       \n",
    "**Четвертая:** \"Как разные цели кредита влияют на его возврат в срок?\" также нашла свое подтверждение. Наибольший риск возникновения задолженности имеют кредиты на приобретение автомобиля, наименьший - на приобретение недвижимости.\n"
   ]
  },
  {
   "cell_type": "code",
   "execution_count": null,
   "metadata": {},
   "outputs": [],
   "source": []
  }
 ],
 "metadata": {
  "ExecuteTimeLog": [
   {
    "duration": 300,
    "start_time": "2022-01-04T21:32:59.280Z"
   },
   {
    "duration": 601,
    "start_time": "2022-01-04T21:34:29.507Z"
   },
   {
    "duration": 658,
    "start_time": "2022-01-04T21:34:35.069Z"
   },
   {
    "duration": 299,
    "start_time": "2022-01-04T21:34:53.204Z"
   },
   {
    "duration": 387,
    "start_time": "2022-01-04T21:35:03.011Z"
   },
   {
    "duration": 4249,
    "start_time": "2022-01-04T21:35:13.413Z"
   },
   {
    "duration": 464,
    "start_time": "2022-01-05T09:28:12.597Z"
   },
   {
    "duration": 828,
    "start_time": "2022-01-05T09:28:24.382Z"
   },
   {
    "duration": 5668,
    "start_time": "2022-01-05T09:28:25.213Z"
   },
   {
    "duration": 27,
    "start_time": "2022-01-05T09:28:30.887Z"
   },
   {
    "duration": 12340,
    "start_time": "2022-01-05T09:29:25.943Z"
   },
   {
    "duration": 5707,
    "start_time": "2022-01-05T09:29:53.134Z"
   },
   {
    "duration": 5789,
    "start_time": "2022-01-05T09:31:36.066Z"
   },
   {
    "duration": 5842,
    "start_time": "2022-01-05T09:34:27.963Z"
   },
   {
    "duration": 5776,
    "start_time": "2022-01-05T09:34:45.212Z"
   },
   {
    "duration": 12061,
    "start_time": "2022-01-05T09:35:44.297Z"
   },
   {
    "duration": 10940,
    "start_time": "2022-01-05T09:36:30.306Z"
   },
   {
    "duration": 11288,
    "start_time": "2022-01-05T09:36:46.499Z"
   },
   {
    "duration": 11082,
    "start_time": "2022-01-05T09:37:59.081Z"
   },
   {
    "duration": 11226,
    "start_time": "2022-01-05T09:56:39.415Z"
   },
   {
    "duration": 801,
    "start_time": "2022-01-05T09:57:16.673Z"
   },
   {
    "duration": 10919,
    "start_time": "2022-01-05T09:57:17.477Z"
   },
   {
    "duration": -64,
    "start_time": "2022-01-05T09:57:28.466Z"
   },
   {
    "duration": 5832,
    "start_time": "2022-01-05T09:57:44.469Z"
   },
   {
    "duration": 12307,
    "start_time": "2022-01-05T09:58:32.587Z"
   },
   {
    "duration": 85,
    "start_time": "2022-01-05T09:58:57.388Z"
   },
   {
    "duration": 5906,
    "start_time": "2022-01-05T09:59:00.761Z"
   },
   {
    "duration": 275,
    "start_time": "2022-01-05T09:59:32.896Z"
   },
   {
    "duration": 25,
    "start_time": "2022-01-05T09:59:42.800Z"
   },
   {
    "duration": 9,
    "start_time": "2022-01-05T10:00:22.160Z"
   },
   {
    "duration": 6,
    "start_time": "2022-01-05T10:00:48.471Z"
   },
   {
    "duration": 71,
    "start_time": "2022-01-05T10:57:04.874Z"
   },
   {
    "duration": 20,
    "start_time": "2022-01-05T10:57:06.163Z"
   },
   {
    "duration": 5,
    "start_time": "2022-01-05T10:58:37.073Z"
   },
   {
    "duration": 364,
    "start_time": "2022-01-05T11:00:17.528Z"
   },
   {
    "duration": 14,
    "start_time": "2022-01-05T11:00:48.390Z"
   },
   {
    "duration": 16,
    "start_time": "2022-01-05T11:00:52.702Z"
   },
   {
    "duration": 14,
    "start_time": "2022-01-05T11:00:54.129Z"
   },
   {
    "duration": 13,
    "start_time": "2022-01-05T11:02:06.237Z"
   },
   {
    "duration": 12,
    "start_time": "2022-01-05T11:03:00.997Z"
   },
   {
    "duration": 36,
    "start_time": "2022-01-05T11:03:10.630Z"
   },
   {
    "duration": 30,
    "start_time": "2022-01-05T11:03:51.741Z"
   },
   {
    "duration": 18,
    "start_time": "2022-01-05T11:03:54.684Z"
   },
   {
    "duration": 9,
    "start_time": "2022-01-05T11:06:29.619Z"
   },
   {
    "duration": 17,
    "start_time": "2022-01-05T11:06:30.529Z"
   },
   {
    "duration": 22,
    "start_time": "2022-01-05T11:08:09.254Z"
   },
   {
    "duration": 28,
    "start_time": "2022-01-05T11:08:09.912Z"
   },
   {
    "duration": 72,
    "start_time": "2022-01-05T11:08:17.584Z"
   },
   {
    "duration": 11,
    "start_time": "2022-01-05T11:08:43.306Z"
   },
   {
    "duration": 17,
    "start_time": "2022-01-05T11:08:57.880Z"
   },
   {
    "duration": 12,
    "start_time": "2022-01-05T11:09:13.807Z"
   },
   {
    "duration": 37,
    "start_time": "2022-01-05T11:11:05.389Z"
   },
   {
    "duration": 6684,
    "start_time": "2022-01-05T11:11:25.030Z"
   },
   {
    "duration": 19,
    "start_time": "2022-01-05T11:11:46.630Z"
   },
   {
    "duration": 26,
    "start_time": "2022-01-05T11:14:19.357Z"
   },
   {
    "duration": 33,
    "start_time": "2022-01-05T11:15:10.508Z"
   },
   {
    "duration": 8,
    "start_time": "2022-01-05T11:15:14.244Z"
   },
   {
    "duration": 8,
    "start_time": "2022-01-05T11:16:09.729Z"
   },
   {
    "duration": 5,
    "start_time": "2022-01-05T11:16:25.081Z"
   },
   {
    "duration": 8,
    "start_time": "2022-01-05T11:16:27.948Z"
   },
   {
    "duration": 848,
    "start_time": "2022-01-05T11:16:35.737Z"
   },
   {
    "duration": 29,
    "start_time": "2022-01-05T11:16:36.587Z"
   },
   {
    "duration": 5,
    "start_time": "2022-01-05T11:16:36.619Z"
   },
   {
    "duration": 41,
    "start_time": "2022-01-05T11:16:36.627Z"
   },
   {
    "duration": 15,
    "start_time": "2022-01-05T11:16:36.671Z"
   },
   {
    "duration": 20,
    "start_time": "2022-01-05T11:16:36.688Z"
   },
   {
    "duration": 58,
    "start_time": "2022-01-05T11:16:36.711Z"
   },
   {
    "duration": 20,
    "start_time": "2022-01-05T11:16:36.773Z"
   },
   {
    "duration": 7,
    "start_time": "2022-01-05T11:16:36.796Z"
   },
   {
    "duration": 18,
    "start_time": "2022-01-05T11:16:36.806Z"
   },
   {
    "duration": 62,
    "start_time": "2022-01-05T11:16:36.827Z"
   },
   {
    "duration": 25,
    "start_time": "2022-01-05T11:16:36.892Z"
   },
   {
    "duration": 59,
    "start_time": "2022-01-05T11:16:36.920Z"
   },
   {
    "duration": 12,
    "start_time": "2022-01-05T11:16:36.982Z"
   },
   {
    "duration": 19,
    "start_time": "2022-01-05T11:16:36.997Z"
   },
   {
    "duration": 48,
    "start_time": "2022-01-05T11:16:37.019Z"
   },
   {
    "duration": 5797,
    "start_time": "2022-01-05T11:16:37.070Z"
   },
   {
    "duration": 10,
    "start_time": "2022-01-05T11:16:42.869Z"
   },
   {
    "duration": 30,
    "start_time": "2022-01-05T11:17:45.880Z"
   },
   {
    "duration": 10,
    "start_time": "2022-01-05T11:19:20.990Z"
   },
   {
    "duration": 368,
    "start_time": "2022-01-05T11:19:37.046Z"
   },
   {
    "duration": 10,
    "start_time": "2022-01-05T11:21:01.733Z"
   },
   {
    "duration": 11,
    "start_time": "2022-01-05T11:21:02.301Z"
   },
   {
    "duration": 17,
    "start_time": "2022-01-05T11:21:03.958Z"
   },
   {
    "duration": 11,
    "start_time": "2022-01-05T11:21:24.625Z"
   },
   {
    "duration": 409,
    "start_time": "2022-01-05T11:21:39.876Z"
   },
   {
    "duration": 9,
    "start_time": "2022-01-05T11:21:41.101Z"
   },
   {
    "duration": 11,
    "start_time": "2022-01-05T11:21:41.628Z"
   },
   {
    "duration": 10,
    "start_time": "2022-01-05T11:21:42.663Z"
   },
   {
    "duration": 11,
    "start_time": "2022-01-05T11:22:25.396Z"
   },
   {
    "duration": 10,
    "start_time": "2022-01-05T11:22:50.204Z"
   },
   {
    "duration": 788,
    "start_time": "2022-01-05T11:23:09.612Z"
   },
   {
    "duration": 30,
    "start_time": "2022-01-05T11:23:10.403Z"
   },
   {
    "duration": 6,
    "start_time": "2022-01-05T11:23:10.436Z"
   },
   {
    "duration": 13,
    "start_time": "2022-01-05T11:23:10.467Z"
   },
   {
    "duration": 12,
    "start_time": "2022-01-05T11:23:10.483Z"
   },
   {
    "duration": 15,
    "start_time": "2022-01-05T11:23:10.497Z"
   },
   {
    "duration": 63,
    "start_time": "2022-01-05T11:23:10.514Z"
   },
   {
    "duration": 20,
    "start_time": "2022-01-05T11:23:10.581Z"
   },
   {
    "duration": 5,
    "start_time": "2022-01-05T11:23:10.604Z"
   },
   {
    "duration": 19,
    "start_time": "2022-01-05T11:23:10.612Z"
   },
   {
    "duration": 24,
    "start_time": "2022-01-05T11:23:10.668Z"
   },
   {
    "duration": 25,
    "start_time": "2022-01-05T11:23:10.694Z"
   },
   {
    "duration": 53,
    "start_time": "2022-01-05T11:23:10.721Z"
   },
   {
    "duration": 10,
    "start_time": "2022-01-05T11:23:10.776Z"
   },
   {
    "duration": 19,
    "start_time": "2022-01-05T11:23:10.788Z"
   },
   {
    "duration": 14,
    "start_time": "2022-01-05T11:23:10.810Z"
   },
   {
    "duration": 5770,
    "start_time": "2022-01-05T11:23:10.826Z"
   },
   {
    "duration": 398,
    "start_time": "2022-01-05T11:23:16.599Z"
   },
   {
    "duration": 429,
    "start_time": "2022-01-05T11:23:17.000Z"
   },
   {
    "duration": 17,
    "start_time": "2022-01-05T11:23:17.432Z"
   },
   {
    "duration": 11,
    "start_time": "2022-01-05T11:23:17.468Z"
   },
   {
    "duration": 10,
    "start_time": "2022-01-05T11:23:17.482Z"
   },
   {
    "duration": 10,
    "start_time": "2022-01-05T11:23:17.496Z"
   },
   {
    "duration": 30,
    "start_time": "2022-01-05T11:23:58.690Z"
   },
   {
    "duration": 382,
    "start_time": "2022-01-05T11:25:35.210Z"
   },
   {
    "duration": 795,
    "start_time": "2022-01-05T11:26:05.615Z"
   },
   {
    "duration": 32,
    "start_time": "2022-01-05T11:26:06.413Z"
   },
   {
    "duration": 23,
    "start_time": "2022-01-05T11:26:06.448Z"
   },
   {
    "duration": 16,
    "start_time": "2022-01-05T11:26:06.474Z"
   },
   {
    "duration": 13,
    "start_time": "2022-01-05T11:26:06.492Z"
   },
   {
    "duration": 18,
    "start_time": "2022-01-05T11:26:06.507Z"
   },
   {
    "duration": 57,
    "start_time": "2022-01-05T11:26:06.527Z"
   },
   {
    "duration": 18,
    "start_time": "2022-01-05T11:26:06.588Z"
   },
   {
    "duration": 6,
    "start_time": "2022-01-05T11:26:06.609Z"
   },
   {
    "duration": 26,
    "start_time": "2022-01-05T11:26:06.617Z"
   },
   {
    "duration": 25,
    "start_time": "2022-01-05T11:26:06.668Z"
   },
   {
    "duration": 24,
    "start_time": "2022-01-05T11:26:06.695Z"
   },
   {
    "duration": 52,
    "start_time": "2022-01-05T11:26:06.722Z"
   },
   {
    "duration": 10,
    "start_time": "2022-01-05T11:26:06.776Z"
   },
   {
    "duration": 22,
    "start_time": "2022-01-05T11:26:06.788Z"
   },
   {
    "duration": 10,
    "start_time": "2022-01-05T11:26:06.813Z"
   },
   {
    "duration": 5841,
    "start_time": "2022-01-05T11:26:06.826Z"
   },
   {
    "duration": 398,
    "start_time": "2022-01-05T11:26:12.669Z"
   },
   {
    "duration": 402,
    "start_time": "2022-01-05T11:26:13.069Z"
   },
   {
    "duration": 16,
    "start_time": "2022-01-05T11:26:13.473Z"
   },
   {
    "duration": 10,
    "start_time": "2022-01-05T11:26:13.491Z"
   },
   {
    "duration": 11,
    "start_time": "2022-01-05T11:26:13.503Z"
   },
   {
    "duration": 11,
    "start_time": "2022-01-05T11:26:13.518Z"
   },
   {
    "duration": 32,
    "start_time": "2022-01-05T11:26:13.569Z"
   },
   {
    "duration": 24,
    "start_time": "2022-01-05T11:27:37.225Z"
   },
   {
    "duration": 13,
    "start_time": "2022-01-05T11:27:38.273Z"
   },
   {
    "duration": 10,
    "start_time": "2022-01-05T11:27:49.570Z"
   },
   {
    "duration": 821,
    "start_time": "2022-01-05T11:27:57.985Z"
   },
   {
    "duration": 30,
    "start_time": "2022-01-05T11:27:58.808Z"
   },
   {
    "duration": 26,
    "start_time": "2022-01-05T11:27:58.841Z"
   },
   {
    "duration": 12,
    "start_time": "2022-01-05T11:27:58.870Z"
   },
   {
    "duration": 13,
    "start_time": "2022-01-05T11:27:58.884Z"
   },
   {
    "duration": 22,
    "start_time": "2022-01-05T11:27:58.900Z"
   },
   {
    "duration": 50,
    "start_time": "2022-01-05T11:27:58.924Z"
   },
   {
    "duration": 41,
    "start_time": "2022-01-05T11:27:58.978Z"
   },
   {
    "duration": 6,
    "start_time": "2022-01-05T11:27:59.022Z"
   },
   {
    "duration": 48,
    "start_time": "2022-01-05T11:27:59.030Z"
   },
   {
    "duration": 25,
    "start_time": "2022-01-05T11:27:59.080Z"
   },
   {
    "duration": 25,
    "start_time": "2022-01-05T11:27:59.107Z"
   },
   {
    "duration": 48,
    "start_time": "2022-01-05T11:27:59.134Z"
   },
   {
    "duration": 10,
    "start_time": "2022-01-05T11:27:59.184Z"
   },
   {
    "duration": 23,
    "start_time": "2022-01-05T11:27:59.196Z"
   },
   {
    "duration": 19,
    "start_time": "2022-01-05T11:27:59.222Z"
   },
   {
    "duration": 5916,
    "start_time": "2022-01-05T11:27:59.243Z"
   },
   {
    "duration": 409,
    "start_time": "2022-01-05T11:28:05.168Z"
   },
   {
    "duration": 403,
    "start_time": "2022-01-05T11:28:05.579Z"
   },
   {
    "duration": 16,
    "start_time": "2022-01-05T11:28:05.985Z"
   },
   {
    "duration": 12,
    "start_time": "2022-01-05T11:28:06.004Z"
   },
   {
    "duration": 10,
    "start_time": "2022-01-05T11:28:06.019Z"
   },
   {
    "duration": 43,
    "start_time": "2022-01-05T11:28:06.034Z"
   },
   {
    "duration": 29,
    "start_time": "2022-01-05T11:28:06.079Z"
   },
   {
    "duration": 24,
    "start_time": "2022-01-05T11:30:21.517Z"
   },
   {
    "duration": 44,
    "start_time": "2022-01-05T11:30:22.359Z"
   },
   {
    "duration": 364,
    "start_time": "2022-01-05T11:30:37.162Z"
   },
   {
    "duration": 40,
    "start_time": "2022-01-05T11:33:39.770Z"
   },
   {
    "duration": 14,
    "start_time": "2022-01-05T11:33:40.964Z"
   },
   {
    "duration": 11,
    "start_time": "2022-01-05T11:33:48.770Z"
   },
   {
    "duration": 29,
    "start_time": "2022-01-05T11:33:51.459Z"
   },
   {
    "duration": 847,
    "start_time": "2022-01-05T11:35:21.296Z"
   },
   {
    "duration": 33,
    "start_time": "2022-01-05T11:35:22.146Z"
   },
   {
    "duration": 5,
    "start_time": "2022-01-05T11:35:22.183Z"
   },
   {
    "duration": 15,
    "start_time": "2022-01-05T11:35:22.192Z"
   },
   {
    "duration": 12,
    "start_time": "2022-01-05T11:35:22.210Z"
   },
   {
    "duration": 53,
    "start_time": "2022-01-05T11:35:22.224Z"
   },
   {
    "duration": 31,
    "start_time": "2022-01-05T11:35:22.279Z"
   },
   {
    "duration": 13,
    "start_time": "2022-01-05T11:35:22.314Z"
   },
   {
    "duration": 37,
    "start_time": "2022-01-05T11:35:22.330Z"
   },
   {
    "duration": 16,
    "start_time": "2022-01-05T11:35:22.370Z"
   },
   {
    "duration": 21,
    "start_time": "2022-01-05T11:35:22.388Z"
   },
   {
    "duration": 21,
    "start_time": "2022-01-05T11:35:22.412Z"
   },
   {
    "duration": 58,
    "start_time": "2022-01-05T11:35:22.435Z"
   },
   {
    "duration": 10,
    "start_time": "2022-01-05T11:35:22.495Z"
   },
   {
    "duration": 20,
    "start_time": "2022-01-05T11:35:22.507Z"
   },
   {
    "duration": 44,
    "start_time": "2022-01-05T11:35:22.530Z"
   },
   {
    "duration": 5781,
    "start_time": "2022-01-05T11:35:22.576Z"
   },
   {
    "duration": 407,
    "start_time": "2022-01-05T11:35:28.360Z"
   },
   {
    "duration": 435,
    "start_time": "2022-01-05T11:35:28.770Z"
   },
   {
    "duration": 15,
    "start_time": "2022-01-05T11:35:29.207Z"
   },
   {
    "duration": 8,
    "start_time": "2022-01-05T11:35:29.225Z"
   },
   {
    "duration": 34,
    "start_time": "2022-01-05T11:35:29.236Z"
   },
   {
    "duration": 10,
    "start_time": "2022-01-05T11:35:29.274Z"
   },
   {
    "duration": 27,
    "start_time": "2022-01-05T11:35:29.286Z"
   },
   {
    "duration": 26,
    "start_time": "2022-01-05T11:37:06.291Z"
   },
   {
    "duration": 24,
    "start_time": "2022-01-05T11:37:31.649Z"
   },
   {
    "duration": 23,
    "start_time": "2022-01-05T11:37:46.594Z"
   },
   {
    "duration": 406,
    "start_time": "2022-01-05T11:38:06.302Z"
   },
   {
    "duration": 26,
    "start_time": "2022-01-05T11:38:11.129Z"
   },
   {
    "duration": 26,
    "start_time": "2022-01-05T11:38:25.289Z"
   },
   {
    "duration": 26,
    "start_time": "2022-01-05T11:38:40.104Z"
   },
   {
    "duration": 24,
    "start_time": "2022-01-05T11:39:18.208Z"
   },
   {
    "duration": 359,
    "start_time": "2022-01-05T12:20:54.331Z"
   },
   {
    "duration": 279,
    "start_time": "2022-01-05T12:21:07.138Z"
   },
   {
    "duration": 66,
    "start_time": "2022-01-05T12:21:14.058Z"
   },
   {
    "duration": 85,
    "start_time": "2022-01-05T12:21:33.684Z"
   },
   {
    "duration": 51,
    "start_time": "2022-01-05T12:22:20.923Z"
   },
   {
    "duration": 272,
    "start_time": "2022-01-05T12:22:40.676Z"
   },
   {
    "duration": 84,
    "start_time": "2022-01-05T12:23:16.456Z"
   },
   {
    "duration": 48,
    "start_time": "2022-01-05T12:25:43.207Z"
   },
   {
    "duration": 28,
    "start_time": "2022-01-05T12:28:44.732Z"
   },
   {
    "duration": 28,
    "start_time": "2022-01-05T12:29:19.127Z"
   },
   {
    "duration": 847,
    "start_time": "2022-01-05T12:29:50.146Z"
   },
   {
    "duration": 30,
    "start_time": "2022-01-05T12:29:50.996Z"
   },
   {
    "duration": 5,
    "start_time": "2022-01-05T12:29:51.030Z"
   },
   {
    "duration": 49,
    "start_time": "2022-01-05T12:29:51.038Z"
   },
   {
    "duration": 13,
    "start_time": "2022-01-05T12:29:51.090Z"
   },
   {
    "duration": 19,
    "start_time": "2022-01-05T12:29:51.106Z"
   },
   {
    "duration": 44,
    "start_time": "2022-01-05T12:29:51.128Z"
   },
   {
    "duration": 38,
    "start_time": "2022-01-05T12:29:51.176Z"
   },
   {
    "duration": 13,
    "start_time": "2022-01-05T12:29:51.218Z"
   },
   {
    "duration": 9,
    "start_time": "2022-01-05T12:29:51.233Z"
   },
   {
    "duration": 38,
    "start_time": "2022-01-05T12:29:51.244Z"
   },
   {
    "duration": 23,
    "start_time": "2022-01-05T12:29:51.284Z"
   },
   {
    "duration": 22,
    "start_time": "2022-01-05T12:29:51.309Z"
   },
   {
    "duration": 51,
    "start_time": "2022-01-05T12:29:51.334Z"
   },
   {
    "duration": 10,
    "start_time": "2022-01-05T12:29:51.388Z"
   },
   {
    "duration": 21,
    "start_time": "2022-01-05T12:29:51.400Z"
   },
   {
    "duration": 16,
    "start_time": "2022-01-05T12:29:51.424Z"
   },
   {
    "duration": 5806,
    "start_time": "2022-01-05T12:29:51.468Z"
   },
   {
    "duration": 421,
    "start_time": "2022-01-05T12:29:57.277Z"
   },
   {
    "duration": 447,
    "start_time": "2022-01-05T12:29:57.701Z"
   },
   {
    "duration": 19,
    "start_time": "2022-01-05T12:29:58.150Z"
   },
   {
    "duration": 9,
    "start_time": "2022-01-05T12:29:58.172Z"
   },
   {
    "duration": 11,
    "start_time": "2022-01-05T12:29:58.185Z"
   },
   {
    "duration": 10,
    "start_time": "2022-01-05T12:29:58.198Z"
   },
   {
    "duration": 69,
    "start_time": "2022-01-05T12:29:58.211Z"
   },
   {
    "duration": 23,
    "start_time": "2022-01-05T12:29:58.282Z"
   },
   {
    "duration": 25,
    "start_time": "2022-01-05T12:29:58.307Z"
   },
   {
    "duration": 54,
    "start_time": "2022-01-05T12:29:58.335Z"
   },
   {
    "duration": 788,
    "start_time": "2022-01-05T12:31:19.999Z"
   },
   {
    "duration": 28,
    "start_time": "2022-01-05T12:31:20.790Z"
   },
   {
    "duration": 19,
    "start_time": "2022-01-05T12:31:20.821Z"
   },
   {
    "duration": 40,
    "start_time": "2022-01-05T12:31:20.843Z"
   },
   {
    "duration": 13,
    "start_time": "2022-01-05T12:31:20.885Z"
   },
   {
    "duration": 29,
    "start_time": "2022-01-05T12:31:20.900Z"
   },
   {
    "duration": 15,
    "start_time": "2022-01-05T12:31:20.931Z"
   },
   {
    "duration": 48,
    "start_time": "2022-01-05T12:31:20.949Z"
   },
   {
    "duration": 12,
    "start_time": "2022-01-05T12:31:21.000Z"
   },
   {
    "duration": 15,
    "start_time": "2022-01-05T12:31:21.015Z"
   },
   {
    "duration": 39,
    "start_time": "2022-01-05T12:31:21.032Z"
   },
   {
    "duration": 21,
    "start_time": "2022-01-05T12:31:21.073Z"
   },
   {
    "duration": 22,
    "start_time": "2022-01-05T12:31:21.096Z"
   },
   {
    "duration": 50,
    "start_time": "2022-01-05T12:31:21.120Z"
   },
   {
    "duration": 9,
    "start_time": "2022-01-05T12:31:21.173Z"
   },
   {
    "duration": 19,
    "start_time": "2022-01-05T12:31:21.184Z"
   },
   {
    "duration": 16,
    "start_time": "2022-01-05T12:31:21.207Z"
   },
   {
    "duration": 5728,
    "start_time": "2022-01-05T12:31:21.225Z"
   },
   {
    "duration": 421,
    "start_time": "2022-01-05T12:31:26.956Z"
   },
   {
    "duration": 470,
    "start_time": "2022-01-05T12:31:27.379Z"
   },
   {
    "duration": 25,
    "start_time": "2022-01-05T12:31:27.851Z"
   },
   {
    "duration": 9,
    "start_time": "2022-01-05T12:31:27.879Z"
   },
   {
    "duration": 10,
    "start_time": "2022-01-05T12:31:27.893Z"
   },
   {
    "duration": 9,
    "start_time": "2022-01-05T12:31:27.906Z"
   },
   {
    "duration": 67,
    "start_time": "2022-01-05T12:31:27.917Z"
   },
   {
    "duration": 24,
    "start_time": "2022-01-05T12:31:27.986Z"
   },
   {
    "duration": 55,
    "start_time": "2022-01-05T12:31:28.013Z"
   },
   {
    "duration": 23,
    "start_time": "2022-01-05T12:31:28.070Z"
   },
   {
    "duration": 7,
    "start_time": "2022-01-05T12:32:26.420Z"
   },
   {
    "duration": -199,
    "start_time": "2022-01-05T12:33:10.594Z"
   },
   {
    "duration": 6,
    "start_time": "2022-01-05T12:33:15.489Z"
   },
   {
    "duration": 7,
    "start_time": "2022-01-05T12:33:39.552Z"
   },
   {
    "duration": 10,
    "start_time": "2022-01-05T12:34:58.584Z"
   },
   {
    "duration": 11,
    "start_time": "2022-01-05T12:35:39.887Z"
   },
   {
    "duration": 922,
    "start_time": "2022-01-05T12:35:51.691Z"
   },
   {
    "duration": 30,
    "start_time": "2022-01-05T12:35:52.616Z"
   },
   {
    "duration": 6,
    "start_time": "2022-01-05T12:35:52.667Z"
   },
   {
    "duration": 26,
    "start_time": "2022-01-05T12:35:52.677Z"
   },
   {
    "duration": 6,
    "start_time": "2022-01-05T12:35:52.706Z"
   },
   {
    "duration": 13,
    "start_time": "2022-01-05T12:35:52.715Z"
   },
   {
    "duration": 17,
    "start_time": "2022-01-05T12:35:52.769Z"
   },
   {
    "duration": 13,
    "start_time": "2022-01-05T12:35:52.790Z"
   },
   {
    "duration": 15,
    "start_time": "2022-01-05T12:35:52.806Z"
   },
   {
    "duration": 75,
    "start_time": "2022-01-05T12:35:52.823Z"
   },
   {
    "duration": 12,
    "start_time": "2022-01-05T12:35:52.901Z"
   },
   {
    "duration": 8,
    "start_time": "2022-01-05T12:35:52.916Z"
   },
   {
    "duration": 46,
    "start_time": "2022-01-05T12:35:52.927Z"
   },
   {
    "duration": 21,
    "start_time": "2022-01-05T12:35:52.976Z"
   },
   {
    "duration": 22,
    "start_time": "2022-01-05T12:35:52.999Z"
   },
   {
    "duration": 55,
    "start_time": "2022-01-05T12:35:53.023Z"
   },
   {
    "duration": 9,
    "start_time": "2022-01-05T12:35:53.081Z"
   },
   {
    "duration": 18,
    "start_time": "2022-01-05T12:35:53.093Z"
   },
   {
    "duration": 17,
    "start_time": "2022-01-05T12:35:53.114Z"
   },
   {
    "duration": 6338,
    "start_time": "2022-01-05T12:35:53.133Z"
   },
   {
    "duration": 427,
    "start_time": "2022-01-05T12:35:59.473Z"
   },
   {
    "duration": 435,
    "start_time": "2022-01-05T12:35:59.903Z"
   },
   {
    "duration": 26,
    "start_time": "2022-01-05T12:36:00.343Z"
   },
   {
    "duration": 10,
    "start_time": "2022-01-05T12:36:00.372Z"
   },
   {
    "duration": 17,
    "start_time": "2022-01-05T12:36:00.384Z"
   },
   {
    "duration": 12,
    "start_time": "2022-01-05T12:36:00.403Z"
   },
   {
    "duration": 59,
    "start_time": "2022-01-05T12:36:00.417Z"
   },
   {
    "duration": 23,
    "start_time": "2022-01-05T12:36:00.479Z"
   },
   {
    "duration": 23,
    "start_time": "2022-01-05T12:36:00.504Z"
   },
   {
    "duration": 55,
    "start_time": "2022-01-05T12:36:00.530Z"
   },
   {
    "duration": 10,
    "start_time": "2022-01-05T12:36:00.588Z"
   },
   {
    "duration": 30,
    "start_time": "2022-01-05T12:37:36.463Z"
   },
   {
    "duration": 7,
    "start_time": "2022-01-05T12:39:51.085Z"
   },
   {
    "duration": 10,
    "start_time": "2022-01-05T12:39:54.060Z"
   },
   {
    "duration": 858,
    "start_time": "2022-01-05T12:41:05.372Z"
   },
   {
    "duration": 38,
    "start_time": "2022-01-05T12:41:06.232Z"
   },
   {
    "duration": 7,
    "start_time": "2022-01-05T12:41:06.273Z"
   },
   {
    "duration": 21,
    "start_time": "2022-01-05T12:41:06.282Z"
   },
   {
    "duration": 5,
    "start_time": "2022-01-05T12:41:06.306Z"
   },
   {
    "duration": 10,
    "start_time": "2022-01-05T12:41:06.313Z"
   },
   {
    "duration": 15,
    "start_time": "2022-01-05T12:41:06.368Z"
   },
   {
    "duration": 13,
    "start_time": "2022-01-05T12:41:06.388Z"
   },
   {
    "duration": 13,
    "start_time": "2022-01-05T12:41:06.404Z"
   },
   {
    "duration": 70,
    "start_time": "2022-01-05T12:41:06.419Z"
   },
   {
    "duration": 14,
    "start_time": "2022-01-05T12:41:06.492Z"
   },
   {
    "duration": 7,
    "start_time": "2022-01-05T12:41:06.508Z"
   },
   {
    "duration": 17,
    "start_time": "2022-01-05T12:41:06.518Z"
   },
   {
    "duration": 23,
    "start_time": "2022-01-05T12:41:06.567Z"
   },
   {
    "duration": 24,
    "start_time": "2022-01-05T12:41:06.592Z"
   },
   {
    "duration": 54,
    "start_time": "2022-01-05T12:41:06.618Z"
   },
   {
    "duration": 10,
    "start_time": "2022-01-05T12:41:06.674Z"
   },
   {
    "duration": 18,
    "start_time": "2022-01-05T12:41:06.687Z"
   },
   {
    "duration": 17,
    "start_time": "2022-01-05T12:41:06.707Z"
   },
   {
    "duration": 5717,
    "start_time": "2022-01-05T12:41:06.726Z"
   },
   {
    "duration": 399,
    "start_time": "2022-01-05T12:41:12.445Z"
   },
   {
    "duration": 406,
    "start_time": "2022-01-05T12:41:12.847Z"
   },
   {
    "duration": 21,
    "start_time": "2022-01-05T12:41:13.257Z"
   },
   {
    "duration": 9,
    "start_time": "2022-01-05T12:41:13.281Z"
   },
   {
    "duration": 10,
    "start_time": "2022-01-05T12:41:13.293Z"
   },
   {
    "duration": 10,
    "start_time": "2022-01-05T12:41:13.306Z"
   },
   {
    "duration": 66,
    "start_time": "2022-01-05T12:41:13.318Z"
   },
   {
    "duration": 23,
    "start_time": "2022-01-05T12:41:13.386Z"
   },
   {
    "duration": 22,
    "start_time": "2022-01-05T12:41:13.411Z"
   },
   {
    "duration": 24,
    "start_time": "2022-01-05T12:41:13.468Z"
   },
   {
    "duration": 9,
    "start_time": "2022-01-05T12:41:13.495Z"
   },
   {
    "duration": 1182,
    "start_time": "2022-01-05T12:45:33.905Z"
   },
   {
    "duration": -256,
    "start_time": "2022-01-05T12:45:35.345Z"
   },
   {
    "duration": 1046,
    "start_time": "2022-01-05T12:46:05.148Z"
   },
   {
    "duration": 27,
    "start_time": "2022-01-05T12:47:41.037Z"
   },
   {
    "duration": 13,
    "start_time": "2022-01-05T12:47:46.575Z"
   },
   {
    "duration": 851,
    "start_time": "2022-01-05T12:47:54.457Z"
   },
   {
    "duration": 31,
    "start_time": "2022-01-05T12:47:55.311Z"
   },
   {
    "duration": 25,
    "start_time": "2022-01-05T12:47:55.345Z"
   },
   {
    "duration": 31,
    "start_time": "2022-01-05T12:47:55.373Z"
   },
   {
    "duration": 8,
    "start_time": "2022-01-05T12:47:55.407Z"
   },
   {
    "duration": 16,
    "start_time": "2022-01-05T12:47:55.417Z"
   },
   {
    "duration": 46,
    "start_time": "2022-01-05T12:47:55.436Z"
   },
   {
    "duration": 14,
    "start_time": "2022-01-05T12:47:55.486Z"
   },
   {
    "duration": 13,
    "start_time": "2022-01-05T12:47:55.503Z"
   },
   {
    "duration": 25,
    "start_time": "2022-01-05T12:47:55.518Z"
   },
   {
    "duration": 35,
    "start_time": "2022-01-05T12:47:55.567Z"
   },
   {
    "duration": 14,
    "start_time": "2022-01-05T12:47:55.604Z"
   },
   {
    "duration": 22,
    "start_time": "2022-01-05T12:47:55.620Z"
   },
   {
    "duration": 44,
    "start_time": "2022-01-05T12:47:55.644Z"
   },
   {
    "duration": 23,
    "start_time": "2022-01-05T12:47:55.691Z"
   },
   {
    "duration": 53,
    "start_time": "2022-01-05T12:47:55.716Z"
   },
   {
    "duration": 10,
    "start_time": "2022-01-05T12:47:55.771Z"
   },
   {
    "duration": 32,
    "start_time": "2022-01-05T12:47:55.784Z"
   },
   {
    "duration": 20,
    "start_time": "2022-01-05T12:47:55.819Z"
   },
   {
    "duration": 5843,
    "start_time": "2022-01-05T12:47:55.842Z"
   },
   {
    "duration": 412,
    "start_time": "2022-01-05T12:48:01.688Z"
   },
   {
    "duration": 428,
    "start_time": "2022-01-05T12:48:02.102Z"
   },
   {
    "duration": 17,
    "start_time": "2022-01-05T12:48:02.534Z"
   },
   {
    "duration": 22,
    "start_time": "2022-01-05T12:48:02.553Z"
   },
   {
    "duration": 9,
    "start_time": "2022-01-05T12:48:02.578Z"
   },
   {
    "duration": 11,
    "start_time": "2022-01-05T12:48:02.589Z"
   },
   {
    "duration": 65,
    "start_time": "2022-01-05T12:48:02.602Z"
   },
   {
    "duration": 24,
    "start_time": "2022-01-05T12:48:02.670Z"
   },
   {
    "duration": 21,
    "start_time": "2022-01-05T12:48:02.697Z"
   },
   {
    "duration": 56,
    "start_time": "2022-01-05T12:48:02.721Z"
   },
   {
    "duration": 11,
    "start_time": "2022-01-05T12:48:02.779Z"
   },
   {
    "duration": 372,
    "start_time": "2022-01-05T12:50:40.987Z"
   },
   {
    "duration": 13,
    "start_time": "2022-01-05T12:52:57.565Z"
   },
   {
    "duration": 14,
    "start_time": "2022-01-05T12:52:59.463Z"
   },
   {
    "duration": 2195,
    "start_time": "2022-01-05T12:53:10.792Z"
   },
   {
    "duration": 31,
    "start_time": "2022-01-05T12:53:12.989Z"
   },
   {
    "duration": 6,
    "start_time": "2022-01-05T12:53:13.023Z"
   },
   {
    "duration": 54,
    "start_time": "2022-01-05T12:53:13.032Z"
   },
   {
    "duration": 7,
    "start_time": "2022-01-05T12:53:13.089Z"
   },
   {
    "duration": 11,
    "start_time": "2022-01-05T12:53:13.098Z"
   },
   {
    "duration": 15,
    "start_time": "2022-01-05T12:53:13.112Z"
   },
   {
    "duration": 13,
    "start_time": "2022-01-05T12:53:13.168Z"
   },
   {
    "duration": 13,
    "start_time": "2022-01-05T12:53:13.185Z"
   },
   {
    "duration": 12,
    "start_time": "2022-01-05T12:53:13.200Z"
   },
   {
    "duration": 12,
    "start_time": "2022-01-05T12:53:13.215Z"
   },
   {
    "duration": 6,
    "start_time": "2022-01-05T12:53:13.268Z"
   },
   {
    "duration": 20,
    "start_time": "2022-01-05T12:53:13.277Z"
   },
   {
    "duration": 22,
    "start_time": "2022-01-05T12:53:13.300Z"
   },
   {
    "duration": 60,
    "start_time": "2022-01-05T12:53:13.325Z"
   },
   {
    "duration": 25,
    "start_time": "2022-01-05T12:53:13.388Z"
   },
   {
    "duration": 10,
    "start_time": "2022-01-05T12:53:13.415Z"
   },
   {
    "duration": 41,
    "start_time": "2022-01-05T12:53:13.427Z"
   },
   {
    "duration": 14,
    "start_time": "2022-01-05T12:53:13.471Z"
   },
   {
    "duration": 5884,
    "start_time": "2022-01-05T12:53:13.487Z"
   },
   {
    "duration": 408,
    "start_time": "2022-01-05T12:53:19.374Z"
   },
   {
    "duration": 439,
    "start_time": "2022-01-05T12:53:19.785Z"
   },
   {
    "duration": 15,
    "start_time": "2022-01-05T12:53:20.229Z"
   },
   {
    "duration": 29,
    "start_time": "2022-01-05T12:53:20.247Z"
   },
   {
    "duration": 12,
    "start_time": "2022-01-05T12:53:20.278Z"
   },
   {
    "duration": 12,
    "start_time": "2022-01-05T12:53:20.293Z"
   },
   {
    "duration": 67,
    "start_time": "2022-01-05T12:53:20.308Z"
   },
   {
    "duration": 24,
    "start_time": "2022-01-05T12:53:20.378Z"
   },
   {
    "duration": 25,
    "start_time": "2022-01-05T12:53:20.404Z"
   },
   {
    "duration": 56,
    "start_time": "2022-01-05T12:53:20.431Z"
   },
   {
    "duration": 10,
    "start_time": "2022-01-05T12:53:20.489Z"
   },
   {
    "duration": 9,
    "start_time": "2022-01-05T12:55:25.061Z"
   },
   {
    "duration": 820,
    "start_time": "2022-01-05T13:00:00.700Z"
   },
   {
    "duration": 30,
    "start_time": "2022-01-05T13:00:01.523Z"
   },
   {
    "duration": 29,
    "start_time": "2022-01-05T13:00:01.555Z"
   },
   {
    "duration": 45,
    "start_time": "2022-01-05T13:00:01.587Z"
   },
   {
    "duration": 9,
    "start_time": "2022-01-05T13:00:01.635Z"
   },
   {
    "duration": 8,
    "start_time": "2022-01-05T13:00:01.646Z"
   },
   {
    "duration": 21,
    "start_time": "2022-01-05T13:00:01.656Z"
   },
   {
    "duration": 33,
    "start_time": "2022-01-05T13:00:01.681Z"
   },
   {
    "duration": 17,
    "start_time": "2022-01-05T13:00:01.717Z"
   },
   {
    "duration": 30,
    "start_time": "2022-01-05T13:00:01.737Z"
   },
   {
    "duration": 16,
    "start_time": "2022-01-05T13:00:01.770Z"
   },
   {
    "duration": 24,
    "start_time": "2022-01-05T13:00:01.789Z"
   },
   {
    "duration": 20,
    "start_time": "2022-01-05T13:00:01.815Z"
   },
   {
    "duration": 29,
    "start_time": "2022-01-05T13:00:01.838Z"
   },
   {
    "duration": 23,
    "start_time": "2022-01-05T13:00:01.869Z"
   },
   {
    "duration": 25,
    "start_time": "2022-01-05T13:00:01.894Z"
   },
   {
    "duration": 49,
    "start_time": "2022-01-05T13:00:01.921Z"
   },
   {
    "duration": 10,
    "start_time": "2022-01-05T13:00:01.972Z"
   },
   {
    "duration": 28,
    "start_time": "2022-01-05T13:00:01.984Z"
   },
   {
    "duration": 27,
    "start_time": "2022-01-05T13:00:02.014Z"
   },
   {
    "duration": 5700,
    "start_time": "2022-01-05T13:00:02.044Z"
   },
   {
    "duration": 447,
    "start_time": "2022-01-05T13:00:07.747Z"
   },
   {
    "duration": 410,
    "start_time": "2022-01-05T13:00:08.199Z"
   },
   {
    "duration": 18,
    "start_time": "2022-01-05T13:00:08.612Z"
   },
   {
    "duration": 9,
    "start_time": "2022-01-05T13:00:08.632Z"
   },
   {
    "duration": 10,
    "start_time": "2022-01-05T13:00:08.643Z"
   },
   {
    "duration": 10,
    "start_time": "2022-01-05T13:00:08.666Z"
   },
   {
    "duration": 29,
    "start_time": "2022-01-05T13:00:08.678Z"
   },
   {
    "duration": 23,
    "start_time": "2022-01-05T13:00:08.709Z"
   },
   {
    "duration": 23,
    "start_time": "2022-01-05T13:00:08.735Z"
   },
   {
    "duration": 24,
    "start_time": "2022-01-05T13:00:08.767Z"
   },
   {
    "duration": 10,
    "start_time": "2022-01-05T13:00:08.794Z"
   },
   {
    "duration": 359,
    "start_time": "2022-01-05T13:10:30.541Z"
   },
   {
    "duration": 16,
    "start_time": "2022-01-05T13:10:48.972Z"
   },
   {
    "duration": 22,
    "start_time": "2022-01-05T13:10:57.075Z"
   },
   {
    "duration": 21,
    "start_time": "2022-01-05T13:11:12.852Z"
   },
   {
    "duration": 281,
    "start_time": "2022-01-05T13:11:59.340Z"
   },
   {
    "duration": 302,
    "start_time": "2022-01-05T13:12:17.147Z"
   },
   {
    "duration": 322,
    "start_time": "2022-01-05T13:13:03.218Z"
   },
   {
    "duration": 289,
    "start_time": "2022-01-05T13:13:09.955Z"
   },
   {
    "duration": 85,
    "start_time": "2022-01-05T13:13:32.043Z"
   },
   {
    "duration": 92,
    "start_time": "2022-01-05T13:13:38.145Z"
   },
   {
    "duration": 287,
    "start_time": "2022-01-05T13:13:47.233Z"
   },
   {
    "duration": 297,
    "start_time": "2022-01-05T13:14:22.530Z"
   },
   {
    "duration": 290,
    "start_time": "2022-01-05T13:15:39.679Z"
   },
   {
    "duration": 293,
    "start_time": "2022-01-05T13:16:12.311Z"
   },
   {
    "duration": 24,
    "start_time": "2022-01-05T13:16:38.927Z"
   },
   {
    "duration": 30,
    "start_time": "2022-01-05T13:18:30.684Z"
   },
   {
    "duration": 26,
    "start_time": "2022-01-05T13:19:01.900Z"
   },
   {
    "duration": 24,
    "start_time": "2022-01-05T13:19:14.868Z"
   },
   {
    "duration": 30,
    "start_time": "2022-01-05T13:19:30.540Z"
   },
   {
    "duration": 29,
    "start_time": "2022-01-05T13:19:57.798Z"
   },
   {
    "duration": 41,
    "start_time": "2022-01-05T13:24:10.169Z"
   },
   {
    "duration": 28,
    "start_time": "2022-01-05T13:24:51.785Z"
   },
   {
    "duration": 32,
    "start_time": "2022-01-05T13:25:03.423Z"
   },
   {
    "duration": 290,
    "start_time": "2022-01-05T13:26:19.495Z"
   },
   {
    "duration": 32,
    "start_time": "2022-01-05T13:26:55.871Z"
   },
   {
    "duration": 31,
    "start_time": "2022-01-05T13:27:15.973Z"
   },
   {
    "duration": 30,
    "start_time": "2022-01-05T13:28:07.773Z"
   },
   {
    "duration": 283,
    "start_time": "2022-01-05T13:29:43.220Z"
   },
   {
    "duration": 309,
    "start_time": "2022-01-05T13:30:11.876Z"
   },
   {
    "duration": 283,
    "start_time": "2022-01-05T13:30:38.747Z"
   },
   {
    "duration": 24,
    "start_time": "2022-01-05T13:30:59.337Z"
   },
   {
    "duration": 28,
    "start_time": "2022-01-05T13:31:29.522Z"
   },
   {
    "duration": 25,
    "start_time": "2022-01-05T13:31:34.098Z"
   },
   {
    "duration": 277,
    "start_time": "2022-01-05T13:33:19.008Z"
   },
   {
    "duration": -254,
    "start_time": "2022-01-05T13:33:47.930Z"
   },
   {
    "duration": 6649,
    "start_time": "2022-01-05T13:34:10.535Z"
   },
   {
    "duration": 6497,
    "start_time": "2022-01-05T13:34:43.974Z"
   },
   {
    "duration": 7804,
    "start_time": "2022-01-05T13:35:02.646Z"
   },
   {
    "duration": 23,
    "start_time": "2022-01-05T13:35:16.711Z"
   },
   {
    "duration": 23,
    "start_time": "2022-01-05T13:36:01.909Z"
   },
   {
    "duration": 592,
    "start_time": "2022-01-05T13:37:07.488Z"
   },
   {
    "duration": 282,
    "start_time": "2022-01-05T13:37:18.588Z"
   },
   {
    "duration": 32,
    "start_time": "2022-01-05T13:37:41.892Z"
   },
   {
    "duration": 29,
    "start_time": "2022-01-05T13:38:09.588Z"
   },
   {
    "duration": 34,
    "start_time": "2022-01-05T13:38:39.971Z"
   },
   {
    "duration": 797,
    "start_time": "2022-01-05T13:39:20.006Z"
   },
   {
    "duration": 29,
    "start_time": "2022-01-05T13:39:20.805Z"
   },
   {
    "duration": 5,
    "start_time": "2022-01-05T13:39:20.837Z"
   },
   {
    "duration": 20,
    "start_time": "2022-01-05T13:39:20.868Z"
   },
   {
    "duration": 7,
    "start_time": "2022-01-05T13:39:20.891Z"
   },
   {
    "duration": 17,
    "start_time": "2022-01-05T13:39:20.901Z"
   },
   {
    "duration": 55,
    "start_time": "2022-01-05T13:39:20.921Z"
   },
   {
    "duration": 12,
    "start_time": "2022-01-05T13:39:20.980Z"
   },
   {
    "duration": 19,
    "start_time": "2022-01-05T13:39:20.996Z"
   },
   {
    "duration": 12,
    "start_time": "2022-01-05T13:39:21.018Z"
   },
   {
    "duration": 41,
    "start_time": "2022-01-05T13:39:21.033Z"
   },
   {
    "duration": 5,
    "start_time": "2022-01-05T13:39:21.077Z"
   },
   {
    "duration": 27,
    "start_time": "2022-01-05T13:39:21.085Z"
   },
   {
    "duration": 23,
    "start_time": "2022-01-05T13:39:21.114Z"
   },
   {
    "duration": 44,
    "start_time": "2022-01-05T13:39:21.140Z"
   },
   {
    "duration": 22,
    "start_time": "2022-01-05T13:39:21.187Z"
   },
   {
    "duration": 10,
    "start_time": "2022-01-05T13:39:21.211Z"
   },
   {
    "duration": 52,
    "start_time": "2022-01-05T13:39:21.224Z"
   },
   {
    "duration": 14,
    "start_time": "2022-01-05T13:39:21.278Z"
   },
   {
    "duration": 5814,
    "start_time": "2022-01-05T13:39:21.295Z"
   },
   {
    "duration": 423,
    "start_time": "2022-01-05T13:39:27.112Z"
   },
   {
    "duration": 410,
    "start_time": "2022-01-05T13:39:27.538Z"
   },
   {
    "duration": 24,
    "start_time": "2022-01-05T13:39:27.953Z"
   },
   {
    "duration": 8,
    "start_time": "2022-01-05T13:39:27.980Z"
   },
   {
    "duration": 11,
    "start_time": "2022-01-05T13:39:27.990Z"
   },
   {
    "duration": 12,
    "start_time": "2022-01-05T13:39:28.003Z"
   },
   {
    "duration": 74,
    "start_time": "2022-01-05T13:39:28.017Z"
   },
   {
    "duration": 31,
    "start_time": "2022-01-05T13:39:28.095Z"
   },
   {
    "duration": 51,
    "start_time": "2022-01-05T13:39:28.128Z"
   },
   {
    "duration": 30,
    "start_time": "2022-01-05T13:39:28.181Z"
   },
   {
    "duration": 863,
    "start_time": "2022-01-05T13:51:14.775Z"
   },
   {
    "duration": 34,
    "start_time": "2022-01-05T13:51:15.641Z"
   },
   {
    "duration": 6,
    "start_time": "2022-01-05T13:51:15.678Z"
   },
   {
    "duration": 24,
    "start_time": "2022-01-05T13:51:15.686Z"
   },
   {
    "duration": 11,
    "start_time": "2022-01-05T13:51:15.714Z"
   },
   {
    "duration": 53,
    "start_time": "2022-01-05T13:51:15.728Z"
   },
   {
    "duration": 16,
    "start_time": "2022-01-05T13:51:15.784Z"
   },
   {
    "duration": 14,
    "start_time": "2022-01-05T13:51:15.805Z"
   },
   {
    "duration": 46,
    "start_time": "2022-01-05T13:51:15.823Z"
   },
   {
    "duration": 8,
    "start_time": "2022-01-05T13:51:15.871Z"
   },
   {
    "duration": 17,
    "start_time": "2022-01-05T13:51:15.882Z"
   },
   {
    "duration": 7,
    "start_time": "2022-01-05T13:51:15.901Z"
   },
   {
    "duration": 17,
    "start_time": "2022-01-05T13:51:15.910Z"
   },
   {
    "duration": 60,
    "start_time": "2022-01-05T13:51:15.929Z"
   },
   {
    "duration": 22,
    "start_time": "2022-01-05T13:51:15.991Z"
   },
   {
    "duration": 23,
    "start_time": "2022-01-05T13:51:16.015Z"
   },
   {
    "duration": 10,
    "start_time": "2022-01-05T13:51:16.068Z"
   },
   {
    "duration": 17,
    "start_time": "2022-01-05T13:51:16.081Z"
   },
   {
    "duration": 12,
    "start_time": "2022-01-05T13:51:16.101Z"
   },
   {
    "duration": 5853,
    "start_time": "2022-01-05T13:51:16.116Z"
   },
   {
    "duration": 402,
    "start_time": "2022-01-05T13:51:21.971Z"
   },
   {
    "duration": 420,
    "start_time": "2022-01-05T13:51:22.375Z"
   },
   {
    "duration": 15,
    "start_time": "2022-01-05T13:51:22.800Z"
   },
   {
    "duration": 9,
    "start_time": "2022-01-05T13:51:22.817Z"
   },
   {
    "duration": 41,
    "start_time": "2022-01-05T13:51:22.829Z"
   },
   {
    "duration": 12,
    "start_time": "2022-01-05T13:51:22.873Z"
   },
   {
    "duration": 36,
    "start_time": "2022-01-05T13:51:22.888Z"
   },
   {
    "duration": 71,
    "start_time": "2022-01-05T13:51:22.927Z"
   },
   {
    "duration": 32,
    "start_time": "2022-01-05T13:51:23.001Z"
   },
   {
    "duration": 59,
    "start_time": "2022-01-05T13:51:23.036Z"
   },
   {
    "duration": 884,
    "start_time": "2022-01-05T14:34:03.950Z"
   },
   {
    "duration": 40,
    "start_time": "2022-01-05T14:34:04.840Z"
   },
   {
    "duration": 6,
    "start_time": "2022-01-05T14:34:04.883Z"
   },
   {
    "duration": 25,
    "start_time": "2022-01-05T14:34:04.891Z"
   },
   {
    "duration": 11,
    "start_time": "2022-01-05T14:34:04.918Z"
   },
   {
    "duration": 49,
    "start_time": "2022-01-05T14:34:04.931Z"
   },
   {
    "duration": 12,
    "start_time": "2022-01-05T14:34:04.983Z"
   },
   {
    "duration": 13,
    "start_time": "2022-01-05T14:34:04.999Z"
   },
   {
    "duration": 52,
    "start_time": "2022-01-05T14:34:05.015Z"
   },
   {
    "duration": 9,
    "start_time": "2022-01-05T14:34:05.069Z"
   },
   {
    "duration": 14,
    "start_time": "2022-01-05T14:34:05.081Z"
   },
   {
    "duration": 7,
    "start_time": "2022-01-05T14:34:05.098Z"
   },
   {
    "duration": 26,
    "start_time": "2022-01-05T14:34:05.107Z"
   },
   {
    "duration": 23,
    "start_time": "2022-01-05T14:34:05.168Z"
   },
   {
    "duration": 24,
    "start_time": "2022-01-05T14:34:05.194Z"
   },
   {
    "duration": 54,
    "start_time": "2022-01-05T14:34:05.220Z"
   },
   {
    "duration": 10,
    "start_time": "2022-01-05T14:34:05.277Z"
   },
   {
    "duration": 21,
    "start_time": "2022-01-05T14:34:05.289Z"
   },
   {
    "duration": 18,
    "start_time": "2022-01-05T14:34:05.313Z"
   },
   {
    "duration": 6175,
    "start_time": "2022-01-05T14:34:05.334Z"
   },
   {
    "duration": 503,
    "start_time": "2022-01-05T14:34:11.511Z"
   },
   {
    "duration": 426,
    "start_time": "2022-01-05T14:34:12.017Z"
   },
   {
    "duration": 23,
    "start_time": "2022-01-05T14:34:12.446Z"
   },
   {
    "duration": 10,
    "start_time": "2022-01-05T14:34:12.471Z"
   },
   {
    "duration": 11,
    "start_time": "2022-01-05T14:34:12.483Z"
   },
   {
    "duration": 10,
    "start_time": "2022-01-05T14:34:12.499Z"
   },
   {
    "duration": 75,
    "start_time": "2022-01-05T14:34:12.512Z"
   },
   {
    "duration": 31,
    "start_time": "2022-01-05T14:34:12.590Z"
   },
   {
    "duration": 51,
    "start_time": "2022-01-05T14:34:12.623Z"
   },
   {
    "duration": 32,
    "start_time": "2022-01-05T14:34:12.677Z"
   },
   {
    "duration": 98,
    "start_time": "2022-01-05T14:56:46.994Z"
   },
   {
    "duration": 845,
    "start_time": "2022-01-05T14:59:52.869Z"
   },
   {
    "duration": 32,
    "start_time": "2022-01-05T14:59:53.716Z"
   },
   {
    "duration": 18,
    "start_time": "2022-01-05T14:59:53.751Z"
   },
   {
    "duration": 26,
    "start_time": "2022-01-05T14:59:53.772Z"
   },
   {
    "duration": 10,
    "start_time": "2022-01-05T14:59:53.800Z"
   },
   {
    "duration": 56,
    "start_time": "2022-01-05T14:59:53.812Z"
   },
   {
    "duration": 13,
    "start_time": "2022-01-05T14:59:53.871Z"
   },
   {
    "duration": 16,
    "start_time": "2022-01-05T14:59:53.887Z"
   },
   {
    "duration": 8,
    "start_time": "2022-01-05T14:59:53.907Z"
   },
   {
    "duration": 49,
    "start_time": "2022-01-05T14:59:53.918Z"
   },
   {
    "duration": 13,
    "start_time": "2022-01-05T14:59:53.970Z"
   },
   {
    "duration": 7,
    "start_time": "2022-01-05T14:59:53.986Z"
   },
   {
    "duration": 19,
    "start_time": "2022-01-05T14:59:53.996Z"
   },
   {
    "duration": 56,
    "start_time": "2022-01-05T14:59:54.017Z"
   },
   {
    "duration": 23,
    "start_time": "2022-01-05T14:59:54.075Z"
   },
   {
    "duration": 23,
    "start_time": "2022-01-05T14:59:54.101Z"
   },
   {
    "duration": 40,
    "start_time": "2022-01-05T14:59:54.127Z"
   },
   {
    "duration": 19,
    "start_time": "2022-01-05T14:59:54.171Z"
   },
   {
    "duration": 14,
    "start_time": "2022-01-05T14:59:54.193Z"
   },
   {
    "duration": 5910,
    "start_time": "2022-01-05T14:59:54.210Z"
   },
   {
    "duration": 408,
    "start_time": "2022-01-05T15:00:00.123Z"
   },
   {
    "duration": 422,
    "start_time": "2022-01-05T15:00:00.534Z"
   },
   {
    "duration": 18,
    "start_time": "2022-01-05T15:00:00.966Z"
   },
   {
    "duration": 20,
    "start_time": "2022-01-05T15:00:00.987Z"
   },
   {
    "duration": 20,
    "start_time": "2022-01-05T15:00:01.009Z"
   },
   {
    "duration": 39,
    "start_time": "2022-01-05T15:00:01.033Z"
   },
   {
    "duration": 38,
    "start_time": "2022-01-05T15:00:01.076Z"
   },
   {
    "duration": 59,
    "start_time": "2022-01-05T15:00:01.117Z"
   },
   {
    "duration": 35,
    "start_time": "2022-01-05T15:00:01.179Z"
   },
   {
    "duration": 61,
    "start_time": "2022-01-05T15:00:01.217Z"
   },
   {
    "duration": 899,
    "start_time": "2022-01-06T16:20:26.087Z"
   },
   {
    "duration": 29,
    "start_time": "2022-01-06T16:20:26.989Z"
   },
   {
    "duration": 6,
    "start_time": "2022-01-06T16:20:27.021Z"
   },
   {
    "duration": 55,
    "start_time": "2022-01-06T16:20:27.030Z"
   },
   {
    "duration": 9,
    "start_time": "2022-01-06T16:20:27.088Z"
   },
   {
    "duration": 18,
    "start_time": "2022-01-06T16:20:27.100Z"
   },
   {
    "duration": 46,
    "start_time": "2022-01-06T16:20:27.121Z"
   },
   {
    "duration": 19,
    "start_time": "2022-01-06T16:20:27.170Z"
   },
   {
    "duration": 12,
    "start_time": "2022-01-06T16:20:27.194Z"
   },
   {
    "duration": 11,
    "start_time": "2022-01-06T16:20:27.209Z"
   },
   {
    "duration": 54,
    "start_time": "2022-01-06T16:20:27.223Z"
   },
   {
    "duration": 7,
    "start_time": "2022-01-06T16:20:27.280Z"
   },
   {
    "duration": 23,
    "start_time": "2022-01-06T16:20:27.290Z"
   },
   {
    "duration": 68,
    "start_time": "2022-01-06T16:20:27.316Z"
   },
   {
    "duration": 28,
    "start_time": "2022-01-06T16:20:27.388Z"
   },
   {
    "duration": 50,
    "start_time": "2022-01-06T16:20:27.418Z"
   },
   {
    "duration": 14,
    "start_time": "2022-01-06T16:20:27.471Z"
   },
   {
    "duration": 20,
    "start_time": "2022-01-06T16:20:27.489Z"
   },
   {
    "duration": 15,
    "start_time": "2022-01-06T16:20:27.512Z"
   },
   {
    "duration": 6051,
    "start_time": "2022-01-06T16:20:27.530Z"
   },
   {
    "duration": 698,
    "start_time": "2022-01-06T16:20:33.585Z"
   },
   {
    "duration": 705,
    "start_time": "2022-01-06T16:20:34.286Z"
   },
   {
    "duration": 21,
    "start_time": "2022-01-06T16:20:34.994Z"
   },
   {
    "duration": 9,
    "start_time": "2022-01-06T16:20:35.017Z"
   },
   {
    "duration": 40,
    "start_time": "2022-01-06T16:20:35.028Z"
   },
   {
    "duration": 13,
    "start_time": "2022-01-06T16:20:35.071Z"
   },
   {
    "duration": 36,
    "start_time": "2022-01-06T16:20:35.089Z"
   },
   {
    "duration": 68,
    "start_time": "2022-01-06T16:20:35.127Z"
   },
   {
    "duration": 42,
    "start_time": "2022-01-06T16:20:35.198Z"
   },
   {
    "duration": 50,
    "start_time": "2022-01-06T16:20:35.243Z"
   },
   {
    "duration": 11,
    "start_time": "2022-01-06T16:21:48.659Z"
   },
   {
    "duration": 40,
    "start_time": "2022-01-06T16:22:28.843Z"
   },
   {
    "duration": 20,
    "start_time": "2022-01-06T16:24:53.535Z"
   }
  ],
  "kernelspec": {
   "display_name": "Python 3 (ipykernel)",
   "language": "python",
   "name": "python3"
  },
  "language_info": {
   "codemirror_mode": {
    "name": "ipython",
    "version": 3
   },
   "file_extension": ".py",
   "mimetype": "text/x-python",
   "name": "python",
   "nbconvert_exporter": "python",
   "pygments_lexer": "ipython3",
   "version": "3.9.7"
  },
  "toc": {
   "base_numbering": 1,
   "nav_menu": {},
   "number_sections": true,
   "sideBar": true,
   "skip_h1_title": true,
   "title_cell": "Table of Contents",
   "title_sidebar": "Contents",
   "toc_cell": false,
   "toc_position": {
    "height": "calc(100% - 180px)",
    "left": "10px",
    "top": "150px",
    "width": "165px"
   },
   "toc_section_display": true,
   "toc_window_display": true
  }
 },
 "nbformat": 4,
 "nbformat_minor": 4
}
