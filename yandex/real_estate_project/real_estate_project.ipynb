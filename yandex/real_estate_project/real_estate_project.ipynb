{
 "cells": [
  {
   "cell_type": "markdown",
   "metadata": {},
   "source": [
    "# Исследование объявлений о продаже квартир\n",
    "**Цель проекта:**  \n",
    "\n",
    "Нужно научиться определять рыночную стоимость объектов недвижимости для построения автоматизированной системы. Задача — установить параметры, что позволит отследить аномалии и мошенническую деятельность. \n",
    "\n",
    "**Имеющиеся данные**  \n",
    "\n",
    "В нашем распоряжении данные сервиса Яндекс.Недвижимость — архив объявлений о продаже квартир в Санкт-Петербурге и соседних населённых пунктах за несколько лет. По каждой квартире на продажу доступны два вида данных. Первые вписаны пользователем, вторые получены автоматически на основе картографических данных. Например, расстояние до центра, аэропорта, ближайшего парка и водоёма.  \n",
    "\n",
    "**Ход исследования**  \n",
    "- предобработка данных\n",
    "- исследовательский анализ данных \n",
    "- анализ ключевых показателей:\n",
    "    - времени продажи квартиры\n",
    "    - зависимость цены от площади, числа комнат и высоты потолков\n",
    "    - определение наиболее представленных населенных пунктов\n",
    "    - углубленный анализ по сегменту центр г.Санкт-Петербург"
   ]
  },
  {
   "cell_type": "markdown",
   "metadata": {},
   "source": [
    "## Изучение данных из файла"
   ]
  },
  {
   "cell_type": "code",
   "execution_count": 1,
   "metadata": {},
   "outputs": [],
   "source": [
    "import pandas as pd\n",
    "import matplotlib.pyplot as plt\n",
    "import seaborn as sns"
   ]
  },
  {
   "cell_type": "code",
   "execution_count": 2,
   "metadata": {
    "id": "fFVu7vqh_Zct"
   },
   "outputs": [],
   "source": [
    "local_path = './real_estate_data.csv'\n",
    "server_path = '/datasets/real_estate_data.csv'\n",
    "\n",
    "try:\n",
    "    data = pd.read_csv(local_path, sep='\\t')\n",
    "except:\n",
    "    data = pd.read_csv(server_path, sep='\\t')"
   ]
  },
  {
   "cell_type": "code",
   "execution_count": 3,
   "metadata": {},
   "outputs": [],
   "source": [
    "# data = pd.read_csv('/datasets/real_estate_data.csv', )"
   ]
  },
  {
   "cell_type": "code",
   "execution_count": 4,
   "metadata": {},
   "outputs": [
    {
     "name": "stdout",
     "output_type": "stream",
     "text": [
      "<class 'pandas.core.frame.DataFrame'>\n",
      "RangeIndex: 23699 entries, 0 to 23698\n",
      "Data columns (total 22 columns):\n",
      " #   Column                Non-Null Count  Dtype  \n",
      "---  ------                --------------  -----  \n",
      " 0   total_images          23699 non-null  int64  \n",
      " 1   last_price            23699 non-null  float64\n",
      " 2   total_area            23699 non-null  float64\n",
      " 3   first_day_exposition  23699 non-null  object \n",
      " 4   rooms                 23699 non-null  int64  \n",
      " 5   ceiling_height        14504 non-null  float64\n",
      " 6   floors_total          23613 non-null  float64\n",
      " 7   living_area           21796 non-null  float64\n",
      " 8   floor                 23699 non-null  int64  \n",
      " 9   is_apartment          2775 non-null   object \n",
      " 10  studio                23699 non-null  bool   \n",
      " 11  open_plan             23699 non-null  bool   \n",
      " 12  kitchen_area          21421 non-null  float64\n",
      " 13  balcony               12180 non-null  float64\n",
      " 14  locality_name         23650 non-null  object \n",
      " 15  airports_nearest      18157 non-null  float64\n",
      " 16  cityCenters_nearest   18180 non-null  float64\n",
      " 17  parks_around3000      18181 non-null  float64\n",
      " 18  parks_nearest         8079 non-null   float64\n",
      " 19  ponds_around3000      18181 non-null  float64\n",
      " 20  ponds_nearest         9110 non-null   float64\n",
      " 21  days_exposition       20518 non-null  float64\n",
      "dtypes: bool(2), float64(14), int64(3), object(3)\n",
      "memory usage: 3.7+ MB\n"
     ]
    }
   ],
   "source": [
    "data.info()"
   ]
  },
  {
   "cell_type": "code",
   "execution_count": 5,
   "metadata": {},
   "outputs": [
    {
     "data": {
      "text/html": [
       "<div>\n",
       "<style scoped>\n",
       "    .dataframe tbody tr th:only-of-type {\n",
       "        vertical-align: middle;\n",
       "    }\n",
       "\n",
       "    .dataframe tbody tr th {\n",
       "        vertical-align: top;\n",
       "    }\n",
       "\n",
       "    .dataframe thead th {\n",
       "        text-align: right;\n",
       "    }\n",
       "</style>\n",
       "<table border=\"1\" class=\"dataframe\">\n",
       "  <thead>\n",
       "    <tr style=\"text-align: right;\">\n",
       "      <th></th>\n",
       "      <th>total_images</th>\n",
       "      <th>last_price</th>\n",
       "      <th>total_area</th>\n",
       "      <th>first_day_exposition</th>\n",
       "      <th>rooms</th>\n",
       "      <th>ceiling_height</th>\n",
       "      <th>floors_total</th>\n",
       "      <th>living_area</th>\n",
       "      <th>floor</th>\n",
       "      <th>is_apartment</th>\n",
       "      <th>...</th>\n",
       "      <th>kitchen_area</th>\n",
       "      <th>balcony</th>\n",
       "      <th>locality_name</th>\n",
       "      <th>airports_nearest</th>\n",
       "      <th>cityCenters_nearest</th>\n",
       "      <th>parks_around3000</th>\n",
       "      <th>parks_nearest</th>\n",
       "      <th>ponds_around3000</th>\n",
       "      <th>ponds_nearest</th>\n",
       "      <th>days_exposition</th>\n",
       "    </tr>\n",
       "  </thead>\n",
       "  <tbody>\n",
       "    <tr>\n",
       "      <th>0</th>\n",
       "      <td>20</td>\n",
       "      <td>13000000.0</td>\n",
       "      <td>108.0</td>\n",
       "      <td>2019-03-07T00:00:00</td>\n",
       "      <td>3</td>\n",
       "      <td>2.70</td>\n",
       "      <td>16.0</td>\n",
       "      <td>51.0</td>\n",
       "      <td>8</td>\n",
       "      <td>NaN</td>\n",
       "      <td>...</td>\n",
       "      <td>25.0</td>\n",
       "      <td>NaN</td>\n",
       "      <td>Санкт-Петербург</td>\n",
       "      <td>18863.0</td>\n",
       "      <td>16028.0</td>\n",
       "      <td>1.0</td>\n",
       "      <td>482.0</td>\n",
       "      <td>2.0</td>\n",
       "      <td>755.0</td>\n",
       "      <td>NaN</td>\n",
       "    </tr>\n",
       "    <tr>\n",
       "      <th>1</th>\n",
       "      <td>7</td>\n",
       "      <td>3350000.0</td>\n",
       "      <td>40.4</td>\n",
       "      <td>2018-12-04T00:00:00</td>\n",
       "      <td>1</td>\n",
       "      <td>NaN</td>\n",
       "      <td>11.0</td>\n",
       "      <td>18.6</td>\n",
       "      <td>1</td>\n",
       "      <td>NaN</td>\n",
       "      <td>...</td>\n",
       "      <td>11.0</td>\n",
       "      <td>2.0</td>\n",
       "      <td>посёлок Шушары</td>\n",
       "      <td>12817.0</td>\n",
       "      <td>18603.0</td>\n",
       "      <td>0.0</td>\n",
       "      <td>NaN</td>\n",
       "      <td>0.0</td>\n",
       "      <td>NaN</td>\n",
       "      <td>81.0</td>\n",
       "    </tr>\n",
       "    <tr>\n",
       "      <th>2</th>\n",
       "      <td>10</td>\n",
       "      <td>5196000.0</td>\n",
       "      <td>56.0</td>\n",
       "      <td>2015-08-20T00:00:00</td>\n",
       "      <td>2</td>\n",
       "      <td>NaN</td>\n",
       "      <td>5.0</td>\n",
       "      <td>34.3</td>\n",
       "      <td>4</td>\n",
       "      <td>NaN</td>\n",
       "      <td>...</td>\n",
       "      <td>8.3</td>\n",
       "      <td>0.0</td>\n",
       "      <td>Санкт-Петербург</td>\n",
       "      <td>21741.0</td>\n",
       "      <td>13933.0</td>\n",
       "      <td>1.0</td>\n",
       "      <td>90.0</td>\n",
       "      <td>2.0</td>\n",
       "      <td>574.0</td>\n",
       "      <td>558.0</td>\n",
       "    </tr>\n",
       "    <tr>\n",
       "      <th>3</th>\n",
       "      <td>0</td>\n",
       "      <td>64900000.0</td>\n",
       "      <td>159.0</td>\n",
       "      <td>2015-07-24T00:00:00</td>\n",
       "      <td>3</td>\n",
       "      <td>NaN</td>\n",
       "      <td>14.0</td>\n",
       "      <td>NaN</td>\n",
       "      <td>9</td>\n",
       "      <td>NaN</td>\n",
       "      <td>...</td>\n",
       "      <td>NaN</td>\n",
       "      <td>0.0</td>\n",
       "      <td>Санкт-Петербург</td>\n",
       "      <td>28098.0</td>\n",
       "      <td>6800.0</td>\n",
       "      <td>2.0</td>\n",
       "      <td>84.0</td>\n",
       "      <td>3.0</td>\n",
       "      <td>234.0</td>\n",
       "      <td>424.0</td>\n",
       "    </tr>\n",
       "    <tr>\n",
       "      <th>4</th>\n",
       "      <td>2</td>\n",
       "      <td>10000000.0</td>\n",
       "      <td>100.0</td>\n",
       "      <td>2018-06-19T00:00:00</td>\n",
       "      <td>2</td>\n",
       "      <td>3.03</td>\n",
       "      <td>14.0</td>\n",
       "      <td>32.0</td>\n",
       "      <td>13</td>\n",
       "      <td>NaN</td>\n",
       "      <td>...</td>\n",
       "      <td>41.0</td>\n",
       "      <td>NaN</td>\n",
       "      <td>Санкт-Петербург</td>\n",
       "      <td>31856.0</td>\n",
       "      <td>8098.0</td>\n",
       "      <td>2.0</td>\n",
       "      <td>112.0</td>\n",
       "      <td>1.0</td>\n",
       "      <td>48.0</td>\n",
       "      <td>121.0</td>\n",
       "    </tr>\n",
       "  </tbody>\n",
       "</table>\n",
       "<p>5 rows × 22 columns</p>\n",
       "</div>"
      ],
      "text/plain": [
       "   total_images  last_price  total_area first_day_exposition  rooms  \\\n",
       "0            20  13000000.0       108.0  2019-03-07T00:00:00      3   \n",
       "1             7   3350000.0        40.4  2018-12-04T00:00:00      1   \n",
       "2            10   5196000.0        56.0  2015-08-20T00:00:00      2   \n",
       "3             0  64900000.0       159.0  2015-07-24T00:00:00      3   \n",
       "4             2  10000000.0       100.0  2018-06-19T00:00:00      2   \n",
       "\n",
       "   ceiling_height  floors_total  living_area  floor is_apartment  ...  \\\n",
       "0            2.70          16.0         51.0      8          NaN  ...   \n",
       "1             NaN          11.0         18.6      1          NaN  ...   \n",
       "2             NaN           5.0         34.3      4          NaN  ...   \n",
       "3             NaN          14.0          NaN      9          NaN  ...   \n",
       "4            3.03          14.0         32.0     13          NaN  ...   \n",
       "\n",
       "   kitchen_area  balcony    locality_name  airports_nearest  \\\n",
       "0          25.0      NaN  Санкт-Петербург           18863.0   \n",
       "1          11.0      2.0   посёлок Шушары           12817.0   \n",
       "2           8.3      0.0  Санкт-Петербург           21741.0   \n",
       "3           NaN      0.0  Санкт-Петербург           28098.0   \n",
       "4          41.0      NaN  Санкт-Петербург           31856.0   \n",
       "\n",
       "  cityCenters_nearest  parks_around3000  parks_nearest  ponds_around3000  \\\n",
       "0             16028.0               1.0          482.0               2.0   \n",
       "1             18603.0               0.0            NaN               0.0   \n",
       "2             13933.0               1.0           90.0               2.0   \n",
       "3              6800.0               2.0           84.0               3.0   \n",
       "4              8098.0               2.0          112.0               1.0   \n",
       "\n",
       "   ponds_nearest  days_exposition  \n",
       "0          755.0              NaN  \n",
       "1            NaN             81.0  \n",
       "2          574.0            558.0  \n",
       "3          234.0            424.0  \n",
       "4           48.0            121.0  \n",
       "\n",
       "[5 rows x 22 columns]"
      ]
     },
     "metadata": {},
     "output_type": "display_data"
    }
   ],
   "source": [
    "display(data.head(5))"
   ]
  },
  {
   "cell_type": "code",
   "execution_count": 6,
   "metadata": {},
   "outputs": [],
   "source": [
    "for col in data.columns:\n",
    "    if data[col].dtype == 'int64' or data[col].dtype == 'float64':\n",
    "        if ((data[col] < 0).any()) == True:\n",
    "            print(col)"
   ]
  },
  {
   "cell_type": "markdown",
   "metadata": {},
   "source": [
    "### Вывод\n",
    "\n",
    "Всего в таблице 22 столбцов и 23699 строк. Пропуски значений (NaN) есть в 12 столбцах.  \n",
    "    \n",
    "Названия столбцов корректны:  \n",
    "- в них отсутствуют лишние пробелы и кирилические символы  \n",
    "- в качестве разделителя слов использовано подчеркивание (_).  \n",
    "\n",
    "Тип данных в колонке \"is_apartment\" - object (строковый), значения которые в нем хранятся подразумевают булевый тип данных (bool).  \n",
    "В столбцах 'last_price', 'floors_total', 'balcony' и 'days_exposition' значения представлены типом float64, по смыслу подразумевается int64.  \n",
    "Отрицательных значений в числовых столбцах (float64 и int64) нет.\n"
   ]
  },
  {
   "cell_type": "markdown",
   "metadata": {},
   "source": [
    "## Предобработка данных"
   ]
  },
  {
   "cell_type": "markdown",
   "metadata": {},
   "source": [
    "### Обработка пропусков"
   ]
  },
  {
   "cell_type": "code",
   "execution_count": 7,
   "metadata": {},
   "outputs": [
    {
     "name": "stdout",
     "output_type": "stream",
     "text": [
      "total_images 38\n",
      "last_price 2978\n",
      "total_area 2182\n",
      "first_day_exposition 1491\n",
      "rooms 17\n",
      "ceiling_height 184\n",
      "floors_total 37\n",
      "living_area 1783\n",
      "floor 33\n",
      "is_apartment 3\n",
      "studio 2\n",
      "open_plan 2\n",
      "kitchen_area 972\n",
      "balcony 7\n",
      "locality_name 365\n",
      "airports_nearest 8276\n",
      "cityCenters_nearest 7643\n",
      "parks_around3000 5\n",
      "parks_nearest 996\n",
      "ponds_around3000 5\n",
      "ponds_nearest 1097\n",
      "days_exposition 1142\n"
     ]
    }
   ],
   "source": [
    "for col in data.columns:\n",
    "    print(col, len(data[col].unique()))"
   ]
  },
  {
   "cell_type": "code",
   "execution_count": 8,
   "metadata": {},
   "outputs": [
    {
     "data": {
      "text/plain": [
       "NaN    11519\n",
       "1.0     4195\n",
       "0.0     3758\n",
       "2.0     3659\n",
       "5.0      304\n",
       "4.0      183\n",
       "3.0       81\n",
       "Name: balcony, dtype: int64"
      ]
     },
     "execution_count": 8,
     "metadata": {},
     "output_type": "execute_result"
    }
   ],
   "source": [
    "data['balcony'].value_counts(dropna=False)"
   ]
  },
  {
   "cell_type": "markdown",
   "metadata": {},
   "source": [
    "\n",
    "Столбец \"balcony\" содержит пропуск в данных. \n",
    "Можно предположить что, пропуск обусловлен отсутствием балкона, значит можно заменить NaN на 0. \n"
   ]
  },
  {
   "cell_type": "code",
   "execution_count": 9,
   "metadata": {},
   "outputs": [
    {
     "data": {
      "text/plain": [
       "NaN      20924\n",
       "False     2725\n",
       "True        50\n",
       "Name: is_apartment, dtype: int64"
      ]
     },
     "execution_count": 9,
     "metadata": {},
     "output_type": "execute_result"
    }
   ],
   "source": [
    "data['is_apartment'].value_counts(dropna=False)"
   ]
  },
  {
   "cell_type": "markdown",
   "metadata": {},
   "source": [
    "\n",
    "Столбец \"is_apartment\" содержит пропуск в данных. \n",
    "    \n",
    "Можно предположить что, пропуски связаны со значением False\n",
    "поэтому целесообразно заполнить их значением 0.\n"
   ]
  },
  {
   "cell_type": "code",
   "execution_count": 10,
   "metadata": {},
   "outputs": [
    {
     "data": {
      "text/plain": [
       "1     8047\n",
       "2     7940\n",
       "3     5814\n",
       "4     1180\n",
       "5      326\n",
       "0      197\n",
       "6      105\n",
       "7       59\n",
       "8       12\n",
       "9        8\n",
       "10       3\n",
       "11       2\n",
       "14       2\n",
       "15       1\n",
       "19       1\n",
       "16       1\n",
       "12       1\n",
       "Name: rooms, dtype: int64"
      ]
     },
     "execution_count": 10,
     "metadata": {},
     "output_type": "execute_result"
    }
   ],
   "source": [
    "data['rooms'].value_counts()"
   ]
  },
  {
   "cell_type": "code",
   "execution_count": 11,
   "metadata": {},
   "outputs": [
    {
     "data": {
      "text/html": [
       "<div>\n",
       "<style scoped>\n",
       "    .dataframe tbody tr th:only-of-type {\n",
       "        vertical-align: middle;\n",
       "    }\n",
       "\n",
       "    .dataframe tbody tr th {\n",
       "        vertical-align: top;\n",
       "    }\n",
       "\n",
       "    .dataframe thead th {\n",
       "        text-align: right;\n",
       "    }\n",
       "</style>\n",
       "<table border=\"1\" class=\"dataframe\">\n",
       "  <thead>\n",
       "    <tr style=\"text-align: right;\">\n",
       "      <th>rooms</th>\n",
       "      <th>0</th>\n",
       "      <th>1</th>\n",
       "      <th>2</th>\n",
       "      <th>3</th>\n",
       "      <th>4</th>\n",
       "      <th>5</th>\n",
       "      <th>6</th>\n",
       "      <th>7</th>\n",
       "      <th>8</th>\n",
       "      <th>9</th>\n",
       "      <th>10</th>\n",
       "      <th>11</th>\n",
       "      <th>12</th>\n",
       "      <th>14</th>\n",
       "      <th>15</th>\n",
       "      <th>16</th>\n",
       "      <th>19</th>\n",
       "    </tr>\n",
       "    <tr>\n",
       "      <th>studio</th>\n",
       "      <th></th>\n",
       "      <th></th>\n",
       "      <th></th>\n",
       "      <th></th>\n",
       "      <th></th>\n",
       "      <th></th>\n",
       "      <th></th>\n",
       "      <th></th>\n",
       "      <th></th>\n",
       "      <th></th>\n",
       "      <th></th>\n",
       "      <th></th>\n",
       "      <th></th>\n",
       "      <th></th>\n",
       "      <th></th>\n",
       "      <th></th>\n",
       "      <th></th>\n",
       "    </tr>\n",
       "  </thead>\n",
       "  <tbody>\n",
       "    <tr>\n",
       "      <th>False</th>\n",
       "      <td>59.0</td>\n",
       "      <td>8036.0</td>\n",
       "      <td>7940.0</td>\n",
       "      <td>5814.0</td>\n",
       "      <td>1180.0</td>\n",
       "      <td>326.0</td>\n",
       "      <td>105.0</td>\n",
       "      <td>59.0</td>\n",
       "      <td>12.0</td>\n",
       "      <td>8.0</td>\n",
       "      <td>3.0</td>\n",
       "      <td>2.0</td>\n",
       "      <td>1.0</td>\n",
       "      <td>2.0</td>\n",
       "      <td>1.0</td>\n",
       "      <td>1.0</td>\n",
       "      <td>1.0</td>\n",
       "    </tr>\n",
       "    <tr>\n",
       "      <th>True</th>\n",
       "      <td>138.0</td>\n",
       "      <td>11.0</td>\n",
       "      <td>NaN</td>\n",
       "      <td>NaN</td>\n",
       "      <td>NaN</td>\n",
       "      <td>NaN</td>\n",
       "      <td>NaN</td>\n",
       "      <td>NaN</td>\n",
       "      <td>NaN</td>\n",
       "      <td>NaN</td>\n",
       "      <td>NaN</td>\n",
       "      <td>NaN</td>\n",
       "      <td>NaN</td>\n",
       "      <td>NaN</td>\n",
       "      <td>NaN</td>\n",
       "      <td>NaN</td>\n",
       "      <td>NaN</td>\n",
       "    </tr>\n",
       "  </tbody>\n",
       "</table>\n",
       "</div>"
      ],
      "text/plain": [
       "rooms      0       1       2       3       4      5      6     7     8    9   \\\n",
       "studio                                                                         \n",
       "False    59.0  8036.0  7940.0  5814.0  1180.0  326.0  105.0  59.0  12.0  8.0   \n",
       "True    138.0    11.0     NaN     NaN     NaN    NaN    NaN   NaN   NaN  NaN   \n",
       "\n",
       "rooms    10   11   12   14   15   16   19  \n",
       "studio                                     \n",
       "False   3.0  2.0  1.0  2.0  1.0  1.0  1.0  \n",
       "True    NaN  NaN  NaN  NaN  NaN  NaN  NaN  "
      ]
     },
     "execution_count": 11,
     "metadata": {},
     "output_type": "execute_result"
    }
   ],
   "source": [
    "data.pivot_table(index='studio', \n",
    "                 columns='rooms', \n",
    "                 values='total_images', \n",
    "                 aggfunc='count')"
   ]
  },
  {
   "cell_type": "markdown",
   "metadata": {},
   "source": [
    "\n",
    "Столбец \"rooms\" содержит значение 0 в 197 строках, из которых 138 студии ('studio'==True).  \n",
    "    \n",
    "Можно предположить что, оставшиеся 59 нулевых значений так же студии, но с неверно указанным параметром 'studio'.  \n",
    "Подтвердить данное предположение невозможно.\n"
   ]
  },
  {
   "cell_type": "code",
   "execution_count": 12,
   "metadata": {},
   "outputs": [
    {
     "data": {
      "text/plain": [
       "1.0       25\n",
       "2.0      383\n",
       "3.0      668\n",
       "4.0     1200\n",
       "5.0     5788\n",
       "6.0      914\n",
       "7.0      592\n",
       "8.0      390\n",
       "9.0     3761\n",
       "10.0    1174\n",
       "11.0     203\n",
       "12.0    1362\n",
       "13.0     229\n",
       "14.0     553\n",
       "15.0     365\n",
       "16.0    1376\n",
       "17.0     833\n",
       "18.0     505\n",
       "19.0     339\n",
       "20.0     271\n",
       "21.0     158\n",
       "22.0     286\n",
       "23.0     352\n",
       "24.0     469\n",
       "25.0    1075\n",
       "26.0     124\n",
       "27.0     164\n",
       "28.0      21\n",
       "29.0       1\n",
       "33.0       1\n",
       "34.0       1\n",
       "35.0      24\n",
       "36.0       3\n",
       "37.0       1\n",
       "52.0       1\n",
       "60.0       1\n",
       "NaN       86\n",
       "Name: floors_total, dtype: int64"
      ]
     },
     "execution_count": 12,
     "metadata": {},
     "output_type": "execute_result"
    }
   ],
   "source": [
    "data['floors_total'].value_counts(dropna=False).sort_index()"
   ]
  },
  {
   "cell_type": "code",
   "execution_count": 13,
   "metadata": {},
   "outputs": [
    {
     "data": {
      "text/plain": [
       "array([  1.  ,   1.2 ,   1.75,   2.  ,   2.2 ,   2.25,   2.3 ,   2.34,\n",
       "         2.4 ,   2.45,   2.46,   2.47,   2.48,   2.49,   2.5 ,   2.51,\n",
       "         2.52,   2.53,   2.54,   2.55,   2.56,   2.57,   2.58,   2.59,\n",
       "         2.6 ,   2.61,   2.62,   2.63,   2.64,   2.65,   2.66,   2.67,\n",
       "         2.68,   2.69,   2.7 ,   2.71,   2.72,   2.73,   2.74,   2.75,\n",
       "         2.76,   2.77,   2.78,   2.79,   2.8 ,   2.81,   2.82,   2.83,\n",
       "         2.84,   2.85,   2.86,   2.87,   2.88,   2.89,   2.9 ,   2.91,\n",
       "         2.92,   2.93,   2.94,   2.95,   2.96,   2.97,   2.98,   2.99,\n",
       "         3.  ,   3.01,   3.02,   3.03,   3.04,   3.05,   3.06,   3.07,\n",
       "         3.08,   3.09,   3.1 ,   3.11,   3.12,   3.13,   3.14,   3.15,\n",
       "         3.16,   3.17,   3.18,   3.2 ,   3.21,   3.22,   3.23,   3.24,\n",
       "         3.25,   3.26,   3.27,   3.28,   3.29,   3.3 ,   3.31,   3.32,\n",
       "         3.33,   3.34,   3.35,   3.36,   3.37,   3.38,   3.39,   3.4 ,\n",
       "         3.42,   3.43,   3.44,   3.45,   3.46,   3.47,   3.48,   3.49,\n",
       "         3.5 ,   3.51,   3.52,   3.53,   3.54,   3.55,   3.56,   3.57,\n",
       "         3.58,   3.59,   3.6 ,   3.62,   3.63,   3.65,   3.66,   3.67,\n",
       "         3.68,   3.69,   3.7 ,   3.75,   3.76,   3.78,   3.8 ,   3.82,\n",
       "         3.83,   3.84,   3.85,   3.86,   3.87,   3.88,   3.9 ,   3.93,\n",
       "         3.95,   3.98,   4.  ,   4.06,   4.1 ,   4.14,   4.15,   4.19,\n",
       "         4.2 ,   4.25,   4.3 ,   4.37,   4.4 ,   4.45,   4.5 ,   4.65,\n",
       "         4.7 ,   4.8 ,   4.9 ,   5.  ,   5.2 ,   5.3 ,   5.5 ,   5.6 ,\n",
       "         5.8 ,   6.  ,   8.  ,   8.3 ,  10.3 ,  14.  ,  20.  ,  22.6 ,\n",
       "        24.  ,  25.  ,  26.  ,  27.  ,  27.5 ,  32.  , 100.  ,    nan])"
      ]
     },
     "execution_count": 13,
     "metadata": {},
     "output_type": "execute_result"
    }
   ],
   "source": [
    "data['ceiling_height'].sort_values().unique()"
   ]
  },
  {
   "cell_type": "code",
   "execution_count": 14,
   "metadata": {},
   "outputs": [
    {
     "data": {
      "text/plain": [
       "39"
      ]
     },
     "execution_count": 14,
     "metadata": {},
     "output_type": "execute_result"
    }
   ],
   "source": [
    "data.query(('ceiling_height < 2 or ceiling_height > 5'))['total_images'].count()"
   ]
  },
  {
   "cell_type": "markdown",
   "metadata": {},
   "source": [
    "\n",
    "Столбец \"ceiling_height\" содержит нереально маленькие (менее двух метров) и большие значения (более четырех с половиной метров).  \n",
    "\n",
    "Вероятны ошибки в данных.    \n"
   ]
  },
  {
   "cell_type": "markdown",
   "metadata": {},
   "source": [
    "### Изменение типов данных"
   ]
  },
  {
   "cell_type": "markdown",
   "metadata": {},
   "source": [
    "\n",
    "В столбцах 'floors_total' и 'days_exposition' перед приведением к типу int64 заполним отсутствующие значения нулями.\n",
    "Столбец 'is_apartment' также заполним значением 0 перед преобразованием в булев тип.\n"
   ]
  },
  {
   "cell_type": "code",
   "execution_count": 15,
   "metadata": {},
   "outputs": [],
   "source": [
    "for col in ['floors_total', 'balcony', 'days_exposition', 'is_apartment', 'ceiling_height']:\n",
    "    data[col].fillna(value=0, inplace=True)"
   ]
  },
  {
   "cell_type": "code",
   "execution_count": 16,
   "metadata": {},
   "outputs": [],
   "source": [
    "data['is_apartment'] = data['is_apartment'].astype('bool')\n",
    "for col in ['last_price', 'floors_total', 'balcony' , 'days_exposition']:\n",
    "    data[col] = data[col].astype('int64')"
   ]
  },
  {
   "cell_type": "code",
   "execution_count": 17,
   "metadata": {},
   "outputs": [],
   "source": [
    "data['first_day_exposition'] = pd.to_datetime(data['first_day_exposition'], format='%Y-%m-%dT%H:%M:%S')"
   ]
  },
  {
   "cell_type": "markdown",
   "metadata": {},
   "source": [
    "\n",
    "Посредством применения метода .info к DataFrame мы видим, что пропуски данных есть в столбцах:\n",
    "ceiling_height, living_area, is_apartment, kitchen_area, balcony, locality_name, airports_nearest\n",
    "cityCenters_nearest, parks_around3000, parks_nearest, ponds_around3000, ponds_nearest, days_exposition.\n",
    "    \n",
    "В столбцах, которые впоследствии будут необходимы для анализа (ceiling_height, living_area, kitchen_area),  \n",
    "а также (is_apartment, balcony) в которых пропуски можно логически заменить отсутсвие значения нулем были произведены соответствующие замены.\n",
    "\n",
    "В столбце cityCenters_nearest отсутствующие значения заполнить 0 мы не можем, т.к. это исказит анализ в разрезе центрального района Санкт-Петербурга, реальный адрес нам неизвестен. Поэтому данный столбец будет \"обрезан\" впоследствии методом .dropna()\n",
    "\n",
    "Остальные столбцы можно оставить без заполнения значений NaN, т.к. данные этих столбцов в текущем анализе не используются. \n",
    "Заполнение их значениями не имеет практического смысла.    \n",
    "    \n",
    "Заполнение нулем выбрано с учетом дальнейшего приведения этих данных к числовым типам и использования их в математических расчетах. Т.к. Python - язык с сильной типизацией обработка в одном столбце DF данных разных типов недопустима.    \n"
   ]
  },
  {
   "cell_type": "markdown",
   "metadata": {},
   "source": [
    "### Удаление дубликатов"
   ]
  },
  {
   "cell_type": "code",
   "execution_count": 18,
   "metadata": {},
   "outputs": [
    {
     "data": {
      "text/plain": [
       "0"
      ]
     },
     "execution_count": 18,
     "metadata": {},
     "output_type": "execute_result"
    }
   ],
   "source": [
    "data.duplicated().sum()"
   ]
  },
  {
   "cell_type": "markdown",
   "metadata": {},
   "source": [
    "\n",
    "В данном DataFrame дубликаты отсутствуют.\n"
   ]
  },
  {
   "cell_type": "markdown",
   "metadata": {},
   "source": [
    "### Вывод\n",
    "\n",
    "\n",
    "Проведена работа по предобработке данных: \n",
    "    \n",
    "- заменены отсутствовавшие значения в столбцах  'floors_total', 'balcony' , 'days_exposition' на нули.  \n",
    "    В дальнейшем это позволит группировать данные и производить арифметические операции с ними.\n",
    "- произведено приведение типов по стоблцам 'is_apartment', 'last_price', 'floors_total', 'balcony' , 'days_exposition'  \n",
    "    для корректной обработки данных в дальнейшем.\n",
    "- приведение к типу datetime столбца 'first_day_exposition' (object) будет произведено далее. Это позволит выделить из столбца необходимые данные для среза\n",
    "    \n",
    "    (день недели, месяц, год публикации объявления).\n",
    "    \n",
    "Причинами пропусков в данных можно считать \"ошибки оператора\" - умышленно или случайно неверно или неполно указанные данные.\n"
   ]
  },
  {
   "cell_type": "markdown",
   "metadata": {},
   "source": [
    "## Расчёты и добавление результатов в таблицу"
   ]
  },
  {
   "cell_type": "markdown",
   "metadata": {},
   "source": [
    "### Расчет цены за квадратный метр"
   ]
  },
  {
   "cell_type": "code",
   "execution_count": 19,
   "metadata": {},
   "outputs": [],
   "source": [
    "# Расчет цены за квадратный метр\n",
    "data['sq_meter_price'] = data['last_price'] / data['total_area']"
   ]
  },
  {
   "cell_type": "code",
   "execution_count": 20,
   "metadata": {},
   "outputs": [],
   "source": [
    "# Добавление столбцов день недели / месяц /год подачи объявления\n",
    "data['week_day'] = data['first_day_exposition'].dt.weekday\n",
    "data['month'] = data['first_day_exposition'].dt.month\n",
    "data['year'] = data['first_day_exposition'].dt.year"
   ]
  },
  {
   "cell_type": "markdown",
   "metadata": {},
   "source": [
    "\n",
    "В DataFrame добавлены дополнительные столбцы для дальнейшего анализа на основе значений 'first_day_exposition'.\n",
    "    \n",
    "Для работы с данными столбец приведен к типу datetime.    \n"
   ]
  },
  {
   "cell_type": "markdown",
   "metadata": {},
   "source": [
    "### Категоризация квартир по этажу"
   ]
  },
  {
   "cell_type": "code",
   "execution_count": 21,
   "metadata": {},
   "outputs": [],
   "source": [
    "def floor_number(row):\n",
    "    floor = row['floor'] \n",
    "    floor_last = row['floors_total']\n",
    "    if floor == 1:\n",
    "        return \"первый\"\n",
    "    elif floor == floor_last:\n",
    "        return \"последний\"\n",
    "    else:\n",
    "        return \"другой\"\n",
    "data['floor_number'] = data.apply(floor_number, axis=1)"
   ]
  },
  {
   "cell_type": "markdown",
   "metadata": {},
   "source": [
    "\n",
    "В DataFrame добавлен новый столбец - произведена категоризация на основе этажа (первый, последний, любой другой).\n",
    "    \n",
    "Реализовано с помощью собственной функции floor_number() и метода apply().\n"
   ]
  },
  {
   "cell_type": "markdown",
   "metadata": {},
   "source": [
    "### Вывод\n",
    "\n",
    "DataFrame дополнен расчетными столбцами 'sq_meter_price', 'kitchen_ratio', 'living_ratio'.\n",
    "\n",
    "Проведена группировка на основании значения этажа.  \n",
    "    Добавлены столбцы для анализа в разрезе день недели/ месяц/ год.    \n"
   ]
  },
  {
   "cell_type": "markdown",
   "metadata": {},
   "source": [
    "## Исследовательский анализ данных"
   ]
  },
  {
   "cell_type": "markdown",
   "metadata": {},
   "source": [
    "### Построение гистограмм для параметров: общая площадь, цена, число комнат, высота потолков"
   ]
  },
  {
   "cell_type": "code",
   "execution_count": 22,
   "metadata": {},
   "outputs": [
    {
     "data": {
      "image/png": "[encoded data removed]",
      "text/plain": [
       "<Figure size 1152x648 with 4 Axes>"
      ]
     },
     "metadata": {
      "needs_background": "light"
     },
     "output_type": "display_data"
    }
   ],
   "source": [
    "plt.figure(figsize=(16, 9))\n",
    "\n",
    "ax1 = plt.subplot(2, 2, 1)\n",
    "\n",
    "data['total_area'].plot(kind='hist', bins=100, title='total_area')\n",
    "\n",
    "ax2 = plt.subplot(2, 2, 2,)\n",
    "data['rooms'].plot(kind='hist', bins=20, title='rooms')\n",
    "\n",
    "ax3 = plt.subplot(2, 2, 3, )\n",
    "data['ceiling_height'].plot(kind='hist', bins=100, title='ceiling_height', range=(0, 5))\n",
    "\n",
    "ax4 = plt.subplot(2, 2, 4, )\n",
    "data['last_price'].plot(kind='hist', bins=100, title='last_price', range=(0,50000000))\n",
    "\n",
    "\n",
    "plt.show()"
   ]
  },
  {
   "cell_type": "code",
   "execution_count": 23,
   "metadata": {},
   "outputs": [
    {
     "name": "stdout",
     "output_type": "stream",
     "text": [
      "total_area \n",
      " count    23699.000000\n",
      "mean        60.348651\n",
      "std         35.654083\n",
      "min         12.000000\n",
      "25%         40.000000\n",
      "50%         52.000000\n",
      "75%         69.900000\n",
      "max        900.000000\n",
      "Name: total_area, dtype: float64\n",
      "\n",
      "rooms \n",
      " count    23699.000000\n",
      "mean         2.070636\n",
      "std          1.078405\n",
      "min          0.000000\n",
      "25%          1.000000\n",
      "50%          2.000000\n",
      "75%          3.000000\n",
      "max         19.000000\n",
      "Name: rooms, dtype: float64\n",
      "\n",
      "ceiling_height \n",
      " count    23699.000000\n",
      "mean         1.696182\n",
      "std          1.672495\n",
      "min          0.000000\n",
      "25%          0.000000\n",
      "50%          2.500000\n",
      "75%          2.700000\n",
      "max        100.000000\n",
      "Name: ceiling_height, dtype: float64\n",
      "\n",
      "last_price \n",
      " count    2.369900e+04\n",
      "mean     6.541549e+06\n",
      "std      1.088701e+07\n",
      "min      1.219000e+04\n",
      "25%      3.400000e+06\n",
      "50%      4.650000e+06\n",
      "75%      6.800000e+06\n",
      "max      7.630000e+08\n",
      "Name: last_price, dtype: float64\n",
      "\n"
     ]
    }
   ],
   "source": [
    "for col in ['total_area', 'rooms', 'ceiling_height', 'last_price' ]:\n",
    "    print(col, '\\n', data[col].describe(), end='\\n'*2)"
   ]
  },
  {
   "cell_type": "markdown",
   "metadata": {},
   "source": [
    "\n",
    "На основании значений DataFrame построены гистограммы столбцов 'total_area' (общая площадь), 'rooms' (число комнат), 'ceiling_height'(высота потолков), 'last_price' (цена).  \n",
    "\n",
    "Распределения значений показателей стремятся к нормальным, кроме столбца 'ceiling_height'. Он имеет множественные пики.\n"
   ]
  },
  {
   "cell_type": "markdown",
   "metadata": {},
   "source": [
    "### Поиск и удаление выбросов"
   ]
  },
  {
   "cell_type": "code",
   "execution_count": 24,
   "metadata": {},
   "outputs": [
    {
     "data": {
      "text/plain": [
       "0.38963669353137265"
      ]
     },
     "execution_count": 24,
     "metadata": {},
     "output_type": "execute_result"
    }
   ],
   "source": [
    "data.query('ceiling_height < 2 or ceiling_height > 5')['total_images'].count() / len(data['total_images'])"
   ]
  },
  {
   "cell_type": "code",
   "execution_count": 25,
   "metadata": {},
   "outputs": [
    {
     "data": {
      "text/plain": [
       "0.0024895565213722097"
      ]
     },
     "execution_count": 25,
     "metadata": {},
     "output_type": "execute_result"
    }
   ],
   "source": [
    "data.query('rooms == 0 and studio == 0')['total_images'].count() / len(data['total_images'])"
   ]
  },
  {
   "cell_type": "code",
   "execution_count": 26,
   "metadata": {},
   "outputs": [
    {
     "data": {
      "text/plain": [
       "0.009578463226296468"
      ]
     },
     "execution_count": 26,
     "metadata": {},
     "output_type": "execute_result"
    }
   ],
   "source": [
    "data.query('total_area > 200')['total_images'].count() / len(data['total_images'])"
   ]
  },
  {
   "cell_type": "code",
   "execution_count": 27,
   "metadata": {},
   "outputs": [],
   "source": [
    "data_correct = data.query('ceiling_height == 0 or ceiling_height >= 2 and ceiling_height <= 5')\n",
    "data_correct = data_correct.query('rooms != 0 or studio')\n",
    "data_correct = data_correct.query('total_area < 200')"
   ]
  },
  {
   "cell_type": "markdown",
   "metadata": {},
   "source": [
    "\n",
    "Из первоначальной выборки данных можно убрать выбивающиеся значения по столбцам:\n",
    "    \n",
    "- 'ceiling_height' - значения менее двух и более 5 метров, однако чтобы не исказить анализ других показателей по всей выборке строки, содержавшие пропущенные значения не удалены.\n",
    "- 'rooms' нулевые значения при условии параметра 'studio' равным False\n",
    "- 'total_area' - значения более 200 м2\n",
    "\n",
    "Эти данные сильно искажают средние значения по своим столбцам, однако их чсло менее 1% от всей выборки.    \n"
   ]
  },
  {
   "cell_type": "markdown",
   "metadata": {},
   "source": [
    "## Анализ времени продажи квартиры"
   ]
  },
  {
   "cell_type": "code",
   "execution_count": 28,
   "metadata": {},
   "outputs": [
    {
     "data": {
      "image/png": "[encoded data removed]",
      "text/plain": [
       "<Figure size 1080x432 with 2 Axes>"
      ]
     },
     "metadata": {
      "needs_background": "light"
     },
     "output_type": "display_data"
    }
   ],
   "source": [
    "fig, axes = plt.subplots(1, 2, figsize=(15, 6))\n",
    "\n",
    "fig.suptitle('Распределение времени продажи (в днях)',\n",
    "            fontsize=15)\n",
    "\n",
    "axes[0] = plt.subplot(121).set_title('Гистограмма')\n",
    "data_correct['days_exposition'].plot(kind='hist', \n",
    "                                     bins=100, \n",
    "                                    )\n",
    "plt.ylabel('Число объявлений')\n",
    "plt.xlabel('Дни')\n",
    "\n",
    "axes[1] = plt.subplot(122).set_title('Диаграмма размаха')\n",
    "plt.ylim(-0, 1000)\n",
    "data_correct.boxplot(column=['days_exposition'])\n",
    "plt.ylabel('Дни')\n",
    "\n",
    "plt.show()"
   ]
  },
  {
   "cell_type": "code",
   "execution_count": 29,
   "metadata": {},
   "outputs": [
    {
     "name": "stdout",
     "output_type": "stream",
     "text": [
      "среднее арифметическое время продажи квартиры:155.97454545454545 дней \n",
      "медианное время продажи квартиры: 74.0 дня\n"
     ]
    }
   ],
   "source": [
    "mean_days_exposition = data_correct['days_exposition'].mean()\n",
    "median_days_exposition = data_correct['days_exposition'].median()\n",
    "print(f\"среднее арифметическое время продажи квартиры:{mean_days_exposition} дней \\nмедианное время продажи квартиры: {median_days_exposition} дня\")"
   ]
  },
  {
   "cell_type": "code",
   "execution_count": 30,
   "metadata": {},
   "outputs": [
    {
     "data": {
      "text/plain": [
       "count    23375.000000\n",
       "mean       155.974545\n",
       "std        212.461090\n",
       "min          0.000000\n",
       "25%         23.000000\n",
       "50%         74.000000\n",
       "75%        198.000000\n",
       "max       1580.000000\n",
       "Name: days_exposition, dtype: float64"
      ]
     },
     "execution_count": 30,
     "metadata": {},
     "output_type": "execute_result"
    }
   ],
   "source": [
    "data_correct['days_exposition'].describe()"
   ]
  },
  {
   "cell_type": "code",
   "execution_count": 31,
   "metadata": {},
   "outputs": [
    {
     "data": {
      "text/plain": [
       "0.049967914438502674"
      ]
     },
     "execution_count": 31,
     "metadata": {},
     "output_type": "execute_result"
    }
   ],
   "source": [
    "data_correct[data_correct['days_exposition'] > 600]['total_images'].count() / len(data_correct['days_exposition'])"
   ]
  },
  {
   "cell_type": "code",
   "execution_count": 32,
   "metadata": {},
   "outputs": [
    {
     "data": {
      "text/plain": [
       "0.1335614973262032"
      ]
     },
     "execution_count": 32,
     "metadata": {},
     "output_type": "execute_result"
    }
   ],
   "source": [
    "data_correct[data_correct['days_exposition'] == 0]['total_images'].count() / len(data_correct['days_exposition'])"
   ]
  },
  {
   "cell_type": "code",
   "execution_count": 33,
   "metadata": {},
   "outputs": [
    {
     "data": {
      "text/plain": [
       "count    22203.000000\n",
       "mean       119.264964\n",
       "std        135.482268\n",
       "min          0.000000\n",
       "25%         20.000000\n",
       "50%         65.000000\n",
       "75%        169.000000\n",
       "max        599.000000\n",
       "Name: days_exposition, dtype: float64"
      ]
     },
     "execution_count": 33,
     "metadata": {},
     "output_type": "execute_result"
    }
   ],
   "source": [
    "data_correct = data_correct.query('days_exposition < 600')\n",
    "data_correct['days_exposition'].describe()"
   ]
  },
  {
   "cell_type": "markdown",
   "metadata": {},
   "source": [
    "\n",
    "Среднее время продажи квартиры составляет 119 дней, в то время как медианное значение в два раза меньше 65 дня.\n",
    "    \n",
    "Это свидетельствует о наличии в выборке \"длинных\" выбросов (слишком долгих продаж).\n",
    "    \n",
    "Можно убрать из наблюдения слишком долгие продажи - срок размещения объявления которых свыше 600 дней.  \n",
    "Доля таких объектов 5% от общего числа квартир.  \n",
    "Однако в данных присутствуют квартиры с нулевой длительностью продаж и их 13% от общего числа.  \n",
    "Такие данные искажают анализ и требуют уточнения.    \n"
   ]
  },
  {
   "cell_type": "markdown",
   "metadata": {},
   "source": [
    "## Определение зависимости цены квартиры от площади, числа комнат, высота потолков"
   ]
  },
  {
   "cell_type": "code",
   "execution_count": 34,
   "metadata": {},
   "outputs": [
    {
     "data": {
      "image/png": "[encoded data removed]",
      "text/plain": [
       "<Figure size 864x864 with 16 Axes>"
      ]
     },
     "metadata": {
      "needs_background": "light"
     },
     "output_type": "display_data"
    }
   ],
   "source": [
    "data_stat =data_correct[['last_price', 'total_area', 'rooms', 'ceiling_height']]\n",
    "\n",
    "pd.plotting.scatter_matrix(data_stat, figsize=(12, 12)) \n",
    "plt.show()"
   ]
  },
  {
   "cell_type": "code",
   "execution_count": 35,
   "metadata": {},
   "outputs": [
    {
     "data": {
      "text/html": [
       "<div>\n",
       "<style scoped>\n",
       "    .dataframe tbody tr th:only-of-type {\n",
       "        vertical-align: middle;\n",
       "    }\n",
       "\n",
       "    .dataframe tbody tr th {\n",
       "        vertical-align: top;\n",
       "    }\n",
       "\n",
       "    .dataframe thead th {\n",
       "        text-align: right;\n",
       "    }\n",
       "</style>\n",
       "<table border=\"1\" class=\"dataframe\">\n",
       "  <thead>\n",
       "    <tr style=\"text-align: right;\">\n",
       "      <th></th>\n",
       "      <th>last_price</th>\n",
       "      <th>total_area</th>\n",
       "      <th>rooms</th>\n",
       "      <th>ceiling_height</th>\n",
       "    </tr>\n",
       "  </thead>\n",
       "  <tbody>\n",
       "    <tr>\n",
       "      <th>last_price</th>\n",
       "      <td>1.000000</td>\n",
       "      <td>0.655848</td>\n",
       "      <td>0.376186</td>\n",
       "      <td>0.110337</td>\n",
       "    </tr>\n",
       "    <tr>\n",
       "      <th>total_area</th>\n",
       "      <td>0.655848</td>\n",
       "      <td>1.000000</td>\n",
       "      <td>0.785110</td>\n",
       "      <td>0.117395</td>\n",
       "    </tr>\n",
       "    <tr>\n",
       "      <th>rooms</th>\n",
       "      <td>0.376186</td>\n",
       "      <td>0.785110</td>\n",
       "      <td>1.000000</td>\n",
       "      <td>0.100043</td>\n",
       "    </tr>\n",
       "    <tr>\n",
       "      <th>ceiling_height</th>\n",
       "      <td>0.110337</td>\n",
       "      <td>0.117395</td>\n",
       "      <td>0.100043</td>\n",
       "      <td>1.000000</td>\n",
       "    </tr>\n",
       "  </tbody>\n",
       "</table>\n",
       "</div>"
      ],
      "text/plain": [
       "                last_price  total_area     rooms  ceiling_height\n",
       "last_price        1.000000    0.655848  0.376186        0.110337\n",
       "total_area        0.655848    1.000000  0.785110        0.117395\n",
       "rooms             0.376186    0.785110  1.000000        0.100043\n",
       "ceiling_height    0.110337    0.117395  0.100043        1.000000"
      ]
     },
     "execution_count": 35,
     "metadata": {},
     "output_type": "execute_result"
    }
   ],
   "source": [
    "data_stat.corr()"
   ]
  },
  {
   "cell_type": "markdown",
   "metadata": {},
   "source": [
    "Корреляция цены с:   \n",
    "    \n",
    "- \"общая площадь\" - зависимость прямая достаточно сильная, коэффиент Пирсона положительный. С ростом площади растет цена.\n",
    "- \"количество комнат\" - зависимость прямая, коэффиент Пирсона положительный. С ростом количества комнат растет цена.\n",
    "- \"высота потолков\" - зависимость очень слабая, коэффиент Пирсона близок к нулю.\n"
   ]
  },
  {
   "cell_type": "code",
   "execution_count": 36,
   "metadata": {},
   "outputs": [
    {
     "data": {
      "text/html": [
       "<div>\n",
       "<style scoped>\n",
       "    .dataframe tbody tr th:only-of-type {\n",
       "        vertical-align: middle;\n",
       "    }\n",
       "\n",
       "    .dataframe tbody tr th {\n",
       "        vertical-align: top;\n",
       "    }\n",
       "\n",
       "    .dataframe thead th {\n",
       "        text-align: right;\n",
       "    }\n",
       "</style>\n",
       "<table border=\"1\" class=\"dataframe\">\n",
       "  <thead>\n",
       "    <tr style=\"text-align: right;\">\n",
       "      <th></th>\n",
       "      <th>count</th>\n",
       "      <th>median</th>\n",
       "    </tr>\n",
       "    <tr>\n",
       "      <th>floor_number</th>\n",
       "      <th></th>\n",
       "      <th></th>\n",
       "    </tr>\n",
       "  </thead>\n",
       "  <tbody>\n",
       "    <tr>\n",
       "      <th>другой</th>\n",
       "      <td>16399</td>\n",
       "      <td>4,800,000</td>\n",
       "    </tr>\n",
       "    <tr>\n",
       "      <th>последний</th>\n",
       "      <td>3069</td>\n",
       "      <td>4,217,233</td>\n",
       "    </tr>\n",
       "    <tr>\n",
       "      <th>первый</th>\n",
       "      <td>2735</td>\n",
       "      <td>3,900,000</td>\n",
       "    </tr>\n",
       "  </tbody>\n",
       "</table>\n",
       "</div>"
      ],
      "text/plain": [
       "              count     median\n",
       "floor_number                  \n",
       "другой        16399  4,800,000\n",
       "последний      3069  4,217,233\n",
       "первый         2735  3,900,000"
      ]
     },
     "execution_count": 36,
     "metadata": {},
     "output_type": "execute_result"
    }
   ],
   "source": [
    "data_stat_floor = data_correct.pivot_table(\n",
    "    index='floor_number', \n",
    "    values='last_price', \n",
    "    aggfunc=['count','median']) \n",
    "\n",
    "data_stat_floor.columns = data_stat_floor.columns.droplevel(1)\n",
    "\n",
    "data_stat_floor['median'] = data_stat_floor['median'].apply('{:,d}'.format)\n",
    "\n",
    "data_stat_floor.sort_values('count', ascending=False)"
   ]
  },
  {
   "cell_type": "markdown",
   "metadata": {},
   "source": [
    "\n",
    "Наибольшее число квартир в продаже на этажах кроме первого и последнего - 16399 шт.  \n",
    "    \n",
    "При этом медианная цена квартир на первом этаже самая низкая по сравнению с последним и всеми прочими.\n",
    "    \n",
    "Таким образом можно сделать вывод о наличии взаимосвязи между этажом и ценой квартиры.    \n"
   ]
  },
  {
   "cell_type": "code",
   "execution_count": 37,
   "metadata": {
    "tags": []
   },
   "outputs": [
    {
     "data": {
      "text/html": [
       "<div>\n",
       "<style scoped>\n",
       "    .dataframe tbody tr th:only-of-type {\n",
       "        vertical-align: middle;\n",
       "    }\n",
       "\n",
       "    .dataframe tbody tr th {\n",
       "        vertical-align: top;\n",
       "    }\n",
       "\n",
       "    .dataframe thead th {\n",
       "        text-align: right;\n",
       "    }\n",
       "</style>\n",
       "<table border=\"1\" class=\"dataframe\">\n",
       "  <thead>\n",
       "    <tr style=\"text-align: right;\">\n",
       "      <th></th>\n",
       "      <th>week_day_name</th>\n",
       "      <th>count</th>\n",
       "      <th>median</th>\n",
       "    </tr>\n",
       "    <tr>\n",
       "      <th>week_day</th>\n",
       "      <th></th>\n",
       "      <th></th>\n",
       "      <th></th>\n",
       "    </tr>\n",
       "  </thead>\n",
       "  <tbody>\n",
       "    <tr>\n",
       "      <th>6</th>\n",
       "      <td>воскресенье</td>\n",
       "      <td>1595</td>\n",
       "      <td>4500000</td>\n",
       "    </tr>\n",
       "    <tr>\n",
       "      <th>5</th>\n",
       "      <td>суббота</td>\n",
       "      <td>1823</td>\n",
       "      <td>4500000</td>\n",
       "    </tr>\n",
       "    <tr>\n",
       "      <th>0</th>\n",
       "      <td>понедельник</td>\n",
       "      <td>3395</td>\n",
       "      <td>4600000</td>\n",
       "    </tr>\n",
       "    <tr>\n",
       "      <th>2</th>\n",
       "      <td>среда</td>\n",
       "      <td>3694</td>\n",
       "      <td>4600000</td>\n",
       "    </tr>\n",
       "    <tr>\n",
       "      <th>4</th>\n",
       "      <td>пятница</td>\n",
       "      <td>3782</td>\n",
       "      <td>4550000</td>\n",
       "    </tr>\n",
       "    <tr>\n",
       "      <th>1</th>\n",
       "      <td>вторник</td>\n",
       "      <td>3923</td>\n",
       "      <td>4690000</td>\n",
       "    </tr>\n",
       "    <tr>\n",
       "      <th>3</th>\n",
       "      <td>четверг</td>\n",
       "      <td>3991</td>\n",
       "      <td>4600000</td>\n",
       "    </tr>\n",
       "  </tbody>\n",
       "</table>\n",
       "</div>"
      ],
      "text/plain": [
       "         week_day_name  count   median\n",
       "week_day                              \n",
       "6          воскресенье   1595  4500000\n",
       "5              суббота   1823  4500000\n",
       "0          понедельник   3395  4600000\n",
       "2                среда   3694  4600000\n",
       "4              пятница   3782  4550000\n",
       "1              вторник   3923  4690000\n",
       "3              четверг   3991  4600000"
      ]
     },
     "execution_count": 37,
     "metadata": {},
     "output_type": "execute_result"
    }
   ],
   "source": [
    "days = [\"понедельник\", \"вторник\", \"среда\", \"четверг\", \"пятница\", \"суббота\", \"воскресенье\"]\n",
    "days = pd.DataFrame(days, columns=['week_day_name'])\n",
    "\n",
    "data_stat_week = data_correct.pivot_table(\n",
    "    index='week_day', \n",
    "    values='last_price', \n",
    "    aggfunc=['count', 'median']).reset_index()\n",
    "\n",
    "data_stat_week.columns = data_stat_week.columns.droplevel(1)\n",
    "\n",
    "data_stat_week = data_stat_week.merge(days, left_on='week_day', right_on=days.index )\n",
    "\n",
    "data_stat_week = data_stat_week.set_index('week_day')\n",
    "\n",
    "data_stat_week = data_stat_week[['week_day_name','count', 'median']]\n",
    "\n",
    "data_stat_week.sort_values(by='count')"
   ]
  },
  {
   "cell_type": "code",
   "execution_count": 38,
   "metadata": {},
   "outputs": [
    {
     "data": {
      "image/png": "[encoded data removed]",
      "text/plain": [
       "<Figure size 1080x360 with 2 Axes>"
      ]
     },
     "metadata": {
      "needs_background": "light"
     },
     "output_type": "display_data"
    }
   ],
   "source": [
    "fig, axes = plt.subplots(1,2, figsize=(15,5))\n",
    "\n",
    "axes[0] = plt.subplot(121)\n",
    "sns.barplot(\n",
    "    data = data_stat_week,\n",
    "    x='week_day_name',\n",
    "    y='count',\n",
    "    \n",
    "\n",
    ")\n",
    "plt.xlabel('День недели')\n",
    "plt.ylabel('Количество объявлений')\n",
    "plt.title('Количество объявлений по дням недели',\n",
    "         fontsize=14)\n",
    "\n",
    "axes[0] = plt.subplot(122)\n",
    "sns.barplot(\n",
    "    data = data_stat_week,\n",
    "    x='week_day_name',\n",
    "    y='median',\n",
    "    \n",
    "    \n",
    "\n",
    ")\n",
    "plt.xlabel('День недели')\n",
    "plt.ylabel('Медианная цена')\n",
    "plt.title('Медианная цена квартир по дням недели',\n",
    "         fontsize=14)\n",
    "\n",
    "plt.show()"
   ]
  },
  {
   "cell_type": "markdown",
   "metadata": {},
   "source": [
    "\n",
    "Количество объявлений в рабочие дни публикуется больше, чем в выходные. Между разными рабочими днями разница по количеству объявлений несущественна.  \n",
    "Медианная цена квартир во все дни, как рабочие так и выходные, практически одинакова.    \n",
    "    \n",
    "Таким образом можно сделать вывод об отсутствии взаимосвязи между днем недели в который было подано объявление и ценой квартиры.    \n"
   ]
  },
  {
   "cell_type": "code",
   "execution_count": 39,
   "metadata": {},
   "outputs": [
    {
     "data": {
      "text/html": [
       "<div>\n",
       "<style scoped>\n",
       "    .dataframe tbody tr th:only-of-type {\n",
       "        vertical-align: middle;\n",
       "    }\n",
       "\n",
       "    .dataframe tbody tr th {\n",
       "        vertical-align: top;\n",
       "    }\n",
       "\n",
       "    .dataframe thead th {\n",
       "        text-align: right;\n",
       "    }\n",
       "</style>\n",
       "<table border=\"1\" class=\"dataframe\">\n",
       "  <thead>\n",
       "    <tr style=\"text-align: right;\">\n",
       "      <th></th>\n",
       "      <th>count</th>\n",
       "      <th>median</th>\n",
       "      <th>month_name</th>\n",
       "    </tr>\n",
       "    <tr>\n",
       "      <th>month</th>\n",
       "      <th></th>\n",
       "      <th></th>\n",
       "      <th></th>\n",
       "    </tr>\n",
       "  </thead>\n",
       "  <tbody>\n",
       "    <tr>\n",
       "      <th>2</th>\n",
       "      <td>2496</td>\n",
       "      <td>4600000</td>\n",
       "      <td>февраль</td>\n",
       "    </tr>\n",
       "    <tr>\n",
       "      <th>3</th>\n",
       "      <td>2387</td>\n",
       "      <td>4600000</td>\n",
       "      <td>март</td>\n",
       "    </tr>\n",
       "    <tr>\n",
       "      <th>4</th>\n",
       "      <td>2259</td>\n",
       "      <td>4750000</td>\n",
       "      <td>апрель</td>\n",
       "    </tr>\n",
       "    <tr>\n",
       "      <th>11</th>\n",
       "      <td>2240</td>\n",
       "      <td>4650000</td>\n",
       "      <td>ноябрь</td>\n",
       "    </tr>\n",
       "    <tr>\n",
       "      <th>10</th>\n",
       "      <td>2023</td>\n",
       "      <td>4530000</td>\n",
       "      <td>октябрь</td>\n",
       "    </tr>\n",
       "    <tr>\n",
       "      <th>9</th>\n",
       "      <td>1860</td>\n",
       "      <td>4610000</td>\n",
       "      <td>сентябрь</td>\n",
       "    </tr>\n",
       "    <tr>\n",
       "      <th>8</th>\n",
       "      <td>1667</td>\n",
       "      <td>4550000</td>\n",
       "      <td>август</td>\n",
       "    </tr>\n",
       "    <tr>\n",
       "      <th>6</th>\n",
       "      <td>1638</td>\n",
       "      <td>4350000</td>\n",
       "      <td>июнь</td>\n",
       "    </tr>\n",
       "    <tr>\n",
       "      <th>7</th>\n",
       "      <td>1590</td>\n",
       "      <td>4600000</td>\n",
       "      <td>июль</td>\n",
       "    </tr>\n",
       "    <tr>\n",
       "      <th>12</th>\n",
       "      <td>1481</td>\n",
       "      <td>4600000</td>\n",
       "      <td>декабрь</td>\n",
       "    </tr>\n",
       "    <tr>\n",
       "      <th>1</th>\n",
       "      <td>1393</td>\n",
       "      <td>4550000</td>\n",
       "      <td>январь</td>\n",
       "    </tr>\n",
       "    <tr>\n",
       "      <th>5</th>\n",
       "      <td>1169</td>\n",
       "      <td>4500000</td>\n",
       "      <td>май</td>\n",
       "    </tr>\n",
       "  </tbody>\n",
       "</table>\n",
       "</div>"
      ],
      "text/plain": [
       "       count   median month_name\n",
       "month                           \n",
       "2       2496  4600000    февраль\n",
       "3       2387  4600000       март\n",
       "4       2259  4750000     апрель\n",
       "11      2240  4650000     ноябрь\n",
       "10      2023  4530000    октябрь\n",
       "9       1860  4610000   сентябрь\n",
       "8       1667  4550000     август\n",
       "6       1638  4350000       июнь\n",
       "7       1590  4600000       июль\n",
       "12      1481  4600000    декабрь\n",
       "1       1393  4550000     январь\n",
       "5       1169  4500000        май"
      ]
     },
     "execution_count": 39,
     "metadata": {},
     "output_type": "execute_result"
    }
   ],
   "source": [
    "month = [\"январь\", \"февраль\", \"март\", \"апрель\", \"май\", \"июнь\", \"июль\", \"август\", \"сентябрь\", \"октябрь\", \"ноябрь\", \"декабрь\"]\n",
    "data_stat_month = data_correct.pivot_table(\n",
    "    index='month', \n",
    "    values='last_price',\n",
    "    aggfunc=['count', 'median']\n",
    ")\n",
    "\n",
    "data_stat_month.columns = ['count', 'median']\n",
    "data_stat_month[\"month_name\"] = month\n",
    "data_stat_month.sort_values(by='count', ascending=False)"
   ]
  },
  {
   "cell_type": "code",
   "execution_count": 40,
   "metadata": {},
   "outputs": [
    {
     "data": {
      "image/png": "[encoded data removed]",
      "text/plain": [
       "<Figure size 1440x432 with 2 Axes>"
      ]
     },
     "metadata": {
      "needs_background": "light"
     },
     "output_type": "display_data"
    }
   ],
   "source": [
    "fig, axes = plt.subplots(1,2, figsize=(20,6))\n",
    "\n",
    "axes[0] = plt.subplot(121)\n",
    "sns.barplot(\n",
    "    data = data_stat_month,\n",
    "    x='month_name',\n",
    "    y='count',\n",
    "    \n",
    "\n",
    ")\n",
    "plt.xlabel('Месяц')\n",
    "plt.ylabel('Количество объявлений')\n",
    "plt.title('Количество объявлений по месяцам',\n",
    "         fontsize=14)\n",
    "\n",
    "axes[0] = plt.subplot(122)\n",
    "sns.barplot(\n",
    "    data = data_stat_month,\n",
    "    x='month_name',\n",
    "    y='median',\n",
    "    \n",
    "    \n",
    "\n",
    ")\n",
    "plt.xlabel('Месяц')\n",
    "plt.ylabel('Медианная цена')\n",
    "plt.title('Медианная цена квартир по месяцам',\n",
    "         fontsize=14)\n",
    "\n",
    "plt.show()"
   ]
  },
  {
   "cell_type": "markdown",
   "metadata": {},
   "source": [
    "\n",
    "Количество объявлений в разные месяца года имеет широкий разброс: максимальное значение в феврале 2523 шт, минимальное в мае 1182 шт.  \n",
    "    \n",
    "Медианная цена квартир в зависимости от месяца подачи объявления изменяется слабо.     \n",
    "    \n",
    "Таким образом можно сделать вывод об отсутствии взаимосвязи между месяцем, в который было подано объявление, и ценой квартиры. "
   ]
  },
  {
   "cell_type": "code",
   "execution_count": 41,
   "metadata": {},
   "outputs": [
    {
     "data": {
      "text/html": [
       "<div>\n",
       "<style scoped>\n",
       "    .dataframe tbody tr th:only-of-type {\n",
       "        vertical-align: middle;\n",
       "    }\n",
       "\n",
       "    .dataframe tbody tr th {\n",
       "        vertical-align: top;\n",
       "    }\n",
       "\n",
       "    .dataframe thead th {\n",
       "        text-align: right;\n",
       "    }\n",
       "</style>\n",
       "<table border=\"1\" class=\"dataframe\">\n",
       "  <thead>\n",
       "    <tr style=\"text-align: right;\">\n",
       "      <th></th>\n",
       "      <th>count_flat_price</th>\n",
       "      <th>count_sq_meter_price</th>\n",
       "      <th>median_flat_price</th>\n",
       "      <th>median_sq_meter_price</th>\n",
       "    </tr>\n",
       "    <tr>\n",
       "      <th>year</th>\n",
       "      <th></th>\n",
       "      <th></th>\n",
       "      <th></th>\n",
       "      <th></th>\n",
       "    </tr>\n",
       "  </thead>\n",
       "  <tbody>\n",
       "    <tr>\n",
       "      <th>2014</th>\n",
       "      <td>46</td>\n",
       "      <td>46</td>\n",
       "      <td>9050000</td>\n",
       "      <td>113774.238965</td>\n",
       "    </tr>\n",
       "    <tr>\n",
       "      <th>2015</th>\n",
       "      <td>650</td>\n",
       "      <td>650</td>\n",
       "      <td>5083500</td>\n",
       "      <td>91715.686275</td>\n",
       "    </tr>\n",
       "    <tr>\n",
       "      <th>2016</th>\n",
       "      <td>2305</td>\n",
       "      <td>2305</td>\n",
       "      <td>4450000</td>\n",
       "      <td>91194.968553</td>\n",
       "    </tr>\n",
       "    <tr>\n",
       "      <th>2017</th>\n",
       "      <td>7909</td>\n",
       "      <td>7909</td>\n",
       "      <td>4500000</td>\n",
       "      <td>92222.222222</td>\n",
       "    </tr>\n",
       "    <tr>\n",
       "      <th>2018</th>\n",
       "      <td>8443</td>\n",
       "      <td>8443</td>\n",
       "      <td>4550000</td>\n",
       "      <td>95625.000000</td>\n",
       "    </tr>\n",
       "    <tr>\n",
       "      <th>2019</th>\n",
       "      <td>2850</td>\n",
       "      <td>2850</td>\n",
       "      <td>5000000</td>\n",
       "      <td>103328.870216</td>\n",
       "    </tr>\n",
       "  </tbody>\n",
       "</table>\n",
       "</div>"
      ],
      "text/plain": [
       "      count_flat_price  count_sq_meter_price  median_flat_price  \\\n",
       "year                                                              \n",
       "2014                46                    46            9050000   \n",
       "2015               650                   650            5083500   \n",
       "2016              2305                  2305            4450000   \n",
       "2017              7909                  7909            4500000   \n",
       "2018              8443                  8443            4550000   \n",
       "2019              2850                  2850            5000000   \n",
       "\n",
       "      median_sq_meter_price  \n",
       "year                         \n",
       "2014          113774.238965  \n",
       "2015           91715.686275  \n",
       "2016           91194.968553  \n",
       "2017           92222.222222  \n",
       "2018           95625.000000  \n",
       "2019          103328.870216  "
      ]
     },
     "execution_count": 41,
     "metadata": {},
     "output_type": "execute_result"
    }
   ],
   "source": [
    "data_stat_year = data_correct.pivot_table(index='year',\n",
    "                                          values=['last_price', 'sq_meter_price'], \n",
    "                                          aggfunc=['count', 'median']\n",
    "                                         )\n",
    "data_stat_year.columns = ['count_flat_price', 'count_sq_meter_price', 'median_flat_price',  'median_sq_meter_price']\n",
    "data_stat_year"
   ]
  },
  {
   "cell_type": "code",
   "execution_count": 42,
   "metadata": {},
   "outputs": [
    {
     "data": {
      "image/png": "[encoded data removed]",
      "text/plain": [
       "<Figure size 1152x360 with 2 Axes>"
      ]
     },
     "metadata": {
      "needs_background": "light"
     },
     "output_type": "display_data"
    }
   ],
   "source": [
    "plt.figure(figsize=(16,5))\n",
    "\n",
    "axes[0] = plt.subplot(121)\n",
    "sns.lineplot(\n",
    "    data = data_stat_year,\n",
    "    x='year',\n",
    "    y='median_flat_price',\n",
    "    linestyle='--',\n",
    "    linewidth=3,\n",
    "    color='green',\n",
    "\n",
    ")\n",
    "plt.xlabel('Год')\n",
    "plt.ylabel('Количество объявлений')\n",
    "plt.title('Количество объявлений по годам',\n",
    "         fontsize=14)\n",
    "\n",
    "axes[0] = plt.subplot(122)\n",
    "sns.lineplot(\n",
    "    data = data_stat_year,\n",
    "    x='year',\n",
    "    y='median_sq_meter_price',\n",
    "    linestyle='--',\n",
    "    linewidth=3\n",
    ")\n",
    "\n",
    "plt.xlabel('Месяц')\n",
    "plt.ylabel('Медианная цена')\n",
    "plt.title('Медианная цена квартир по дням недели',\n",
    "         fontsize=14)\n",
    "\n",
    "plt.show()"
   ]
  },
  {
   "cell_type": "markdown",
   "metadata": {},
   "source": [
    "В DataFrame представлены данные за 6 лет. \n",
    "    \n",
    "В 2014 максимальная медианная цена, с 2015 началось ее снижение, относительная стабилизация 2016-2018 гг, и снова рост в 2019.\n",
    "Тренд по ценам за квадратный метр достаточно близок к тренду по медианной цене, однако рост с 2018 года не такой существенный.\n",
    "    \n",
    "Зависимость цены от года публикации объявления налицо.    \n",
    "    \n"
   ]
  },
  {
   "cell_type": "markdown",
   "metadata": {},
   "source": [
    "## Топ-10 населенных пунктов по количеству объявлений"
   ]
  },
  {
   "cell_type": "code",
   "execution_count": 43,
   "metadata": {},
   "outputs": [
    {
     "name": "stdout",
     "output_type": "stream",
     "text": [
      "Населенный пункт с максимальной средней ценой: Санкт-Петербург. Она составляет: 113238 руб/м2\n",
      "Населенный пункт с минимальной средней ценой: Выборг. Она составляет: 58191 руб/м2\n"
     ]
    }
   ],
   "source": [
    "top_10_local_names = data_correct.pivot_table(\n",
    "    index='locality_name', \n",
    "    values='total_images', \n",
    "    aggfunc='count').sort_values('total_images', ascending=False).head(10)\n",
    "\n",
    "top_10_locals = data_correct.query('locality_name in @top_10_local_names.index')\n",
    "\n",
    "local_avg_price = top_10_locals.pivot_table(\n",
    "    index='locality_name', \n",
    "    values='sq_meter_price').sort_values('sq_meter_price')\n",
    "\n",
    "print(f\"Населенный пункт с максимальной средней ценой: {local_avg_price.index[-1]}. \\\n",
    "Она составляет: {int(local_avg_price.values[-1])} руб/м2\")\n",
    "print(f\"Населенный пункт с минимальной средней ценой: {local_avg_price.index[0]}. \\\n",
    "Она составляет: {int(local_avg_price.values[0])} руб/м2\")"
   ]
  },
  {
   "cell_type": "markdown",
   "metadata": {},
   "source": [
    "\n",
    "В зависимости от количества поданных объявлений выделено 10 населенных пунктов с их максимальным числом.   \n",
    "    \n",
    "Наибольшая средняя цена за квадратный метр среди этих населенных пунктов в г. Санкт-Петербург, наименьшая в г. Выборг.    \n"
   ]
  },
  {
   "cell_type": "markdown",
   "metadata": {},
   "source": [
    "## Зависимость цены от близости к центру Санкт-Петербурга"
   ]
  },
  {
   "cell_type": "code",
   "execution_count": 44,
   "metadata": {},
   "outputs": [
    {
     "data": {
      "image/png": "[encoded data removed]",
      "text/plain": [
       "<Figure size 720x432 with 1 Axes>"
      ]
     },
     "metadata": {
      "needs_background": "light"
     },
     "output_type": "display_data"
    }
   ],
   "source": [
    "data_spb = data_correct.query('locality_name == \"Санкт-Петербург\"').dropna()\n",
    "\n",
    "data_spb['cityCenters_km'] = (data_spb['cityCenters_nearest']/1000).astype('int64')\n",
    "\n",
    "avg_price_km = data_spb.pivot_table(\n",
    "    index='cityCenters_km', \n",
    "    values='last_price')\n",
    "\n",
    "avg_price_km.plot(\n",
    "    figsize=(10, 6),\n",
    "    style='o-', \n",
    "    grid=True,\n",
    "    legend=False\n",
    ") \n",
    "\n",
    "plt.title('Средние цены квартир в зависимости удаленности от центра')\n",
    "plt.xlabel('Расстояние до центра')\n",
    "plt.ylabel('Средняя цена')\n",
    "plt.show()"
   ]
  },
  {
   "cell_type": "markdown",
   "metadata": {},
   "source": [
    "\n",
    "Произведен расчет цены в зависмости от удаленности квартиры от центра.\n",
    "    \n",
    "\"Цена киллометра\" значительно снижается на отметке 8 км. - центральную зону можно ограничить этим значением\n"
   ]
  },
  {
   "cell_type": "markdown",
   "metadata": {},
   "source": [
    "## Сегмент квартир в центральной зоне г. Санкт-Петербурга"
   ]
  },
  {
   "cell_type": "code",
   "execution_count": 45,
   "metadata": {},
   "outputs": [
    {
     "data": {
      "image/png": "[encoded data removed]",
      "text/plain": [
       "<Figure size 576x576 with 16 Axes>"
      ]
     },
     "metadata": {
      "needs_background": "light"
     },
     "output_type": "display_data"
    }
   ],
   "source": [
    "pd.plotting.scatter_matrix(data_stat, figsize=(8, 8)) \n",
    "plt.show()"
   ]
  },
  {
   "cell_type": "code",
   "execution_count": 46,
   "metadata": {},
   "outputs": [
    {
     "data": {
      "image/png": "[encoded data removed]",
      "text/plain": [
       "<Figure size 576x576 with 16 Axes>"
      ]
     },
     "metadata": {
      "needs_background": "light"
     },
     "output_type": "display_data"
    }
   ],
   "source": [
    "data_spb_center = data_spb.query('cityCenters_km <= 8')\n",
    "data_stat_spb =data_spb_center[['last_price', 'total_area', 'rooms', 'ceiling_height']]\n",
    "pd.plotting.scatter_matrix(data_stat_spb, figsize=(8, 8)) \n",
    "plt.show()"
   ]
  },
  {
   "cell_type": "markdown",
   "metadata": {},
   "source": [
    "При попарном сравнении распределений показателей столбцов\n",
    "'last_price', 'total_area', 'rooms', 'ceiling_height' в разрезе всей выборки и сегмента центра можно заметить следующее:\n",
    "    \n",
    "- гистограмма распределения по цене в таком разрезе значительных колебаний не имеет.\n",
    "- значения цены и общей площади связаны достаточно тесно, при росте одного показателя растет и другой. При увеличении площади \n",
    "свыше 130 м2 завимость несколько ослабевает - наблюдается широкая зона с разбросом значений. Это характерно и для всей выборки,\n",
    "и сегмента центра.\n",
    "- взаимосвязь цены и количества комнат: наибольший разброс цен у 2-4 комнатных квартир в центре Санкт-Петербурга и \n",
    "    2-5 комнатных по всей выборке.\n",
    "- связь цены и высоты потолков практически отсутствует, разброс значений на графике центра чуть менее широкий, чем по всей выборке    \n",
    "- гистограмма распределения общей площади квартир в центре имеет более \"широкий\" вид, \n",
    "что свидетельствует о большем разбросе частот значений.\n",
    "- связь общей площади квартиры и количества комнат присутствует, однако \n",
    "наблюдается достаточно широкая вариативность значений площади относительно количества комнат. \n",
    "Такая зависимость характерна и для всей выборки и сегмента центра.\n",
    "- связи площади квартиры и высоты потолков не наблюдается - широкий разброс значений.\n",
    "- гистограмма распределения количества комнат имеет серьезные различия для всего массива наблюдения и квартир в центе.\n",
    "В общей выборке частота встречаемости 0-3 комнатных квартир наиболее частая, 4 несколько меньше, \n",
    "и начиная с 5 комнатных встречаемость самая низкая. В сегменте центра 0-1 комнатные квартиры представлены в 2 раза реже,\n",
    "чем 2-3 комнатные. При этом имеется пропуск на значении 4 комнатных квартир.\n",
    "- взаимосвязь количества комнат и высоты потолков: наибольший разброс высот у 0-3 комнатных квартир в центре Санкт-Петербурга и \n",
    "    1-5 комнатных по всей выборке.\n",
    "- гистограмма распределения высоты потолков имеет 2 пика: в значении 0 и 3 метров, \n",
    "однако вариативность значений у центральном сегменте значительно шире - пик рамещен на 2,5-3,5 метрах.\n",
    "В то время как в общей выборке пик более ярко выражен на 2,5 метрах\n"
   ]
  },
  {
   "cell_type": "markdown",
   "metadata": {},
   "source": [
    "## Общий вывод"
   ]
  },
  {
   "cell_type": "markdown",
   "metadata": {},
   "source": [
    "\n",
    "В ходе анализа DataFrame были проверены гипотезы о существовании зависимости цены квартиры от общей площади, числа комнат, высоты потолков и расположения относительно центра города.  \n",
    "\n",
    "Была проведена работа с по анализу объявлений продажи квартир в разрезе показателей:\n",
    "    цены, общей площади, количества комнат, высоты потолков, стоимости квадратного метра. \n",
    "    \n",
    "Анализ проводился в двух направлениях: по всей предоставленной выборке данных и по сегменту центра Санкт-Петербурга.\n",
    "\n",
    "Для выявления закономерностей влияния изучаемых факторов друг на друга главным образом использовалось построение матриц диаграмм рассеяния.    \n",
    "    \n",
    "Дополнительно анализировалось:\n",
    "время (длительность) продажи квартир,\n",
    "зависимость цены от дня недели, месяца и года подачи объявления, а также категории квартиры основанной на этаже размещения\n",
    "    (первый, последний, любой другой).\n",
    "\n",
    "**Получены результаты:**  \n",
    "    \n",
    "- *зависимость цены квартиры от общей площади* получила свое подтверждение, зависимость данных показателей наблюдается как по всей выборке, так и по отдельному сегменту.   \n",
    "   \n",
    "- *зависимость цены квартиры от числа комнат* получила свое подтверждение частично, зависимость данных показателей наблюдается, но коэффиицент Пуассона довольно (низкий около 0,3). Что говорит о несильной линейной связи этих показателей.\n",
    "    \n",
    "- *зависимость цены квартиры от высоты потолков*  не подтвердилась.  Однако при сравнении общих показателей и показателей сегмента центра наблюдается рост зависимости высоты потолков / цены квартиры.\n"
   ]
  },
  {
   "cell_type": "code",
   "execution_count": null,
   "metadata": {},
   "outputs": [],
   "source": []
  }
 ],
 "metadata": {
  "ExecuteTimeLog": [
   {
    "duration": 617,
    "start_time": "2022-01-28T16:42:16.518Z"
   },
   {
    "duration": 1848,
    "start_time": "2022-01-28T16:42:17.137Z"
   },
   {
    "duration": -3575,
    "start_time": "2022-01-28T16:42:22.563Z"
   },
   {
    "duration": -3584,
    "start_time": "2022-01-28T16:42:22.573Z"
   },
   {
    "duration": -3589,
    "start_time": "2022-01-28T16:42:22.579Z"
   },
   {
    "duration": -3592,
    "start_time": "2022-01-28T16:42:22.583Z"
   },
   {
    "duration": -3602,
    "start_time": "2022-01-28T16:42:22.594Z"
   },
   {
    "duration": -3614,
    "start_time": "2022-01-28T16:42:22.607Z"
   },
   {
    "duration": -3617,
    "start_time": "2022-01-28T16:42:22.611Z"
   },
   {
    "duration": -3619,
    "start_time": "2022-01-28T16:42:22.614Z"
   },
   {
    "duration": -3643,
    "start_time": "2022-01-28T16:42:22.639Z"
   },
   {
    "duration": -3647,
    "start_time": "2022-01-28T16:42:22.644Z"
   },
   {
    "duration": -3650,
    "start_time": "2022-01-28T16:42:22.648Z"
   },
   {
    "duration": -3657,
    "start_time": "2022-01-28T16:42:22.656Z"
   },
   {
    "duration": -3660,
    "start_time": "2022-01-28T16:42:22.660Z"
   },
   {
    "duration": -3662,
    "start_time": "2022-01-28T16:42:22.663Z"
   },
   {
    "duration": -3665,
    "start_time": "2022-01-28T16:42:22.667Z"
   },
   {
    "duration": -3668,
    "start_time": "2022-01-28T16:42:22.672Z"
   },
   {
    "duration": -3672,
    "start_time": "2022-01-28T16:42:22.677Z"
   },
   {
    "duration": -3677,
    "start_time": "2022-01-28T16:42:22.683Z"
   },
   {
    "duration": -3680,
    "start_time": "2022-01-28T16:42:22.687Z"
   },
   {
    "duration": -3683,
    "start_time": "2022-01-28T16:42:22.691Z"
   },
   {
    "duration": -3687,
    "start_time": "2022-01-28T16:42:22.696Z"
   },
   {
    "duration": -3689,
    "start_time": "2022-01-28T16:42:22.699Z"
   },
   {
    "duration": -3692,
    "start_time": "2022-01-28T16:42:22.703Z"
   },
   {
    "duration": -3701,
    "start_time": "2022-01-28T16:42:22.713Z"
   },
   {
    "duration": -3705,
    "start_time": "2022-01-28T16:42:22.718Z"
   },
   {
    "duration": -3709,
    "start_time": "2022-01-28T16:42:22.723Z"
   },
   {
    "duration": -3711,
    "start_time": "2022-01-28T16:42:22.726Z"
   },
   {
    "duration": -3713,
    "start_time": "2022-01-28T16:42:22.729Z"
   },
   {
    "duration": -3715,
    "start_time": "2022-01-28T16:42:22.732Z"
   },
   {
    "duration": -3718,
    "start_time": "2022-01-28T16:42:22.736Z"
   },
   {
    "duration": -3721,
    "start_time": "2022-01-28T16:42:22.740Z"
   },
   {
    "duration": -3724,
    "start_time": "2022-01-28T16:42:22.744Z"
   },
   {
    "duration": -3727,
    "start_time": "2022-01-28T16:42:22.748Z"
   },
   {
    "duration": -3729,
    "start_time": "2022-01-28T16:42:22.751Z"
   },
   {
    "duration": -3731,
    "start_time": "2022-01-28T16:42:22.754Z"
   },
   {
    "duration": -3735,
    "start_time": "2022-01-28T16:42:22.759Z"
   },
   {
    "duration": -3739,
    "start_time": "2022-01-28T16:42:22.764Z"
   },
   {
    "duration": -3742,
    "start_time": "2022-01-28T16:42:22.768Z"
   },
   {
    "duration": -3746,
    "start_time": "2022-01-28T16:42:22.773Z"
   },
   {
    "duration": -3750,
    "start_time": "2022-01-28T16:42:22.777Z"
   },
   {
    "duration": -3754,
    "start_time": "2022-01-28T16:42:22.782Z"
   },
   {
    "duration": -3758,
    "start_time": "2022-01-28T16:42:22.787Z"
   },
   {
    "duration": -3761,
    "start_time": "2022-01-28T16:42:22.791Z"
   },
   {
    "duration": 1742,
    "start_time": "2022-01-28T16:45:38.574Z"
   },
   {
    "duration": 70,
    "start_time": "2022-01-28T16:46:00.494Z"
   },
   {
    "duration": 611,
    "start_time": "2022-01-28T16:46:08.327Z"
   },
   {
    "duration": 69,
    "start_time": "2022-01-28T16:46:08.940Z"
   },
   {
    "duration": 22,
    "start_time": "2022-01-28T16:46:09.011Z"
   },
   {
    "duration": 7,
    "start_time": "2022-01-28T16:46:09.035Z"
   },
   {
    "duration": 22,
    "start_time": "2022-01-28T16:46:09.044Z"
   },
   {
    "duration": 6,
    "start_time": "2022-01-28T16:46:09.067Z"
   },
   {
    "duration": 4,
    "start_time": "2022-01-28T16:46:09.074Z"
   },
   {
    "duration": 7,
    "start_time": "2022-01-28T16:46:09.081Z"
   },
   {
    "duration": 38,
    "start_time": "2022-01-28T16:46:09.090Z"
   },
   {
    "duration": 6,
    "start_time": "2022-01-28T16:46:09.130Z"
   },
   {
    "duration": 15,
    "start_time": "2022-01-28T16:46:09.138Z"
   },
   {
    "duration": 6,
    "start_time": "2022-01-28T16:46:09.155Z"
   },
   {
    "duration": 5,
    "start_time": "2022-01-28T16:46:09.162Z"
   },
   {
    "duration": 10,
    "start_time": "2022-01-28T16:46:09.168Z"
   },
   {
    "duration": 6,
    "start_time": "2022-01-28T16:46:09.180Z"
   },
   {
    "duration": 44,
    "start_time": "2022-01-28T16:46:09.187Z"
   },
   {
    "duration": 10,
    "start_time": "2022-01-28T16:46:09.233Z"
   },
   {
    "duration": 16,
    "start_time": "2022-01-28T16:46:09.245Z"
   },
   {
    "duration": 26,
    "start_time": "2022-01-28T16:46:09.263Z"
   },
   {
    "duration": 4,
    "start_time": "2022-01-28T16:46:09.291Z"
   },
   {
    "duration": 16,
    "start_time": "2022-01-28T16:46:09.296Z"
   },
   {
    "duration": 19,
    "start_time": "2022-01-28T16:46:09.313Z"
   },
   {
    "duration": 419,
    "start_time": "2022-01-28T16:46:09.336Z"
   },
   {
    "duration": 5,
    "start_time": "2022-01-28T16:46:09.757Z"
   },
   {
    "duration": 1019,
    "start_time": "2022-01-28T16:46:09.764Z"
   },
   {
    "duration": 9,
    "start_time": "2022-01-28T16:46:10.785Z"
   },
   {
    "duration": 6,
    "start_time": "2022-01-28T16:46:10.796Z"
   },
   {
    "duration": 24,
    "start_time": "2022-01-28T16:46:10.804Z"
   },
   {
    "duration": 289,
    "start_time": "2022-01-28T16:46:10.829Z"
   },
   {
    "duration": 10,
    "start_time": "2022-01-28T16:46:11.119Z"
   },
   {
    "duration": 121,
    "start_time": "2022-01-28T16:46:11.130Z"
   },
   {
    "duration": 7,
    "start_time": "2022-01-28T16:46:11.252Z"
   },
   {
    "duration": 5,
    "start_time": "2022-01-28T16:46:11.261Z"
   },
   {
    "duration": 5,
    "start_time": "2022-01-28T16:46:11.268Z"
   },
   {
    "duration": 11,
    "start_time": "2022-01-28T16:46:11.274Z"
   },
   {
    "duration": 4336,
    "start_time": "2022-01-28T16:46:11.286Z"
   },
   {
    "duration": 9,
    "start_time": "2022-01-28T16:46:15.627Z"
   },
   {
    "duration": 18,
    "start_time": "2022-01-28T16:46:15.637Z"
   },
   {
    "duration": 17,
    "start_time": "2022-01-28T16:46:15.656Z"
   },
   {
    "duration": 17,
    "start_time": "2022-01-28T16:46:15.675Z"
   },
   {
    "duration": 44,
    "start_time": "2022-01-28T16:46:15.694Z"
   },
   {
    "duration": 21,
    "start_time": "2022-01-28T16:46:15.740Z"
   },
   {
    "duration": 209,
    "start_time": "2022-01-28T16:46:15.763Z"
   },
   {
    "duration": 1599,
    "start_time": "2022-01-28T16:46:15.974Z"
   },
   {
    "duration": 9,
    "start_time": "2022-01-28T16:46:17.575Z"
   },
   {
    "duration": 552,
    "start_time": "2022-01-28T16:55:09.783Z"
   },
   {
    "duration": 71,
    "start_time": "2022-01-28T16:55:10.337Z"
   },
   {
    "duration": 24,
    "start_time": "2022-01-28T16:55:10.412Z"
   },
   {
    "duration": 7,
    "start_time": "2022-01-28T16:55:10.437Z"
   },
   {
    "duration": 17,
    "start_time": "2022-01-28T16:55:10.446Z"
   },
   {
    "duration": 5,
    "start_time": "2022-01-28T16:55:10.465Z"
   },
   {
    "duration": 2,
    "start_time": "2022-01-28T16:55:10.472Z"
   },
   {
    "duration": 7,
    "start_time": "2022-01-28T16:55:10.476Z"
   },
   {
    "duration": 7,
    "start_time": "2022-01-28T16:55:10.484Z"
   },
   {
    "duration": 37,
    "start_time": "2022-01-28T16:55:10.493Z"
   },
   {
    "duration": 14,
    "start_time": "2022-01-28T16:55:10.531Z"
   },
   {
    "duration": 5,
    "start_time": "2022-01-28T16:55:10.546Z"
   },
   {
    "duration": 4,
    "start_time": "2022-01-28T16:55:10.553Z"
   },
   {
    "duration": 7,
    "start_time": "2022-01-28T16:55:10.559Z"
   },
   {
    "duration": 5,
    "start_time": "2022-01-28T16:55:10.568Z"
   },
   {
    "duration": 5,
    "start_time": "2022-01-28T16:55:10.574Z"
   },
   {
    "duration": 11,
    "start_time": "2022-01-28T16:55:10.581Z"
   },
   {
    "duration": 8,
    "start_time": "2022-01-28T16:55:10.627Z"
   },
   {
    "duration": 24,
    "start_time": "2022-01-28T16:55:10.636Z"
   },
   {
    "duration": 4,
    "start_time": "2022-01-28T16:55:10.661Z"
   },
   {
    "duration": 9,
    "start_time": "2022-01-28T16:55:10.666Z"
   },
   {
    "duration": 11,
    "start_time": "2022-01-28T16:55:10.678Z"
   },
   {
    "duration": 436,
    "start_time": "2022-01-28T16:55:10.691Z"
   },
   {
    "duration": 4,
    "start_time": "2022-01-28T16:55:11.129Z"
   },
   {
    "duration": 1028,
    "start_time": "2022-01-28T16:55:11.134Z"
   },
   {
    "duration": 7,
    "start_time": "2022-01-28T16:55:12.164Z"
   },
   {
    "duration": 6,
    "start_time": "2022-01-28T16:55:12.173Z"
   },
   {
    "duration": 7,
    "start_time": "2022-01-28T16:55:12.180Z"
   },
   {
    "duration": 306,
    "start_time": "2022-01-28T16:55:12.189Z"
   },
   {
    "duration": 5,
    "start_time": "2022-01-28T16:55:12.496Z"
   },
   {
    "duration": 126,
    "start_time": "2022-01-28T16:55:12.502Z"
   },
   {
    "duration": 7,
    "start_time": "2022-01-28T16:55:12.630Z"
   },
   {
    "duration": 7,
    "start_time": "2022-01-28T16:55:12.638Z"
   },
   {
    "duration": 8,
    "start_time": "2022-01-28T16:55:12.647Z"
   },
   {
    "duration": 12,
    "start_time": "2022-01-28T16:55:12.656Z"
   },
   {
    "duration": 4270,
    "start_time": "2022-01-28T16:55:12.669Z"
   },
   {
    "duration": 9,
    "start_time": "2022-01-28T16:55:16.941Z"
   },
   {
    "duration": 18,
    "start_time": "2022-01-28T16:55:16.951Z"
   },
   {
    "duration": 18,
    "start_time": "2022-01-28T16:55:16.970Z"
   },
   {
    "duration": 39,
    "start_time": "2022-01-28T16:55:16.989Z"
   },
   {
    "duration": 16,
    "start_time": "2022-01-28T16:55:17.029Z"
   },
   {
    "duration": 23,
    "start_time": "2022-01-28T16:55:17.046Z"
   },
   {
    "duration": 218,
    "start_time": "2022-01-28T16:55:17.070Z"
   },
   {
    "duration": 1431,
    "start_time": "2022-01-28T16:55:17.289Z"
   },
   {
    "duration": 11,
    "start_time": "2022-01-28T16:55:18.721Z"
   },
   {
    "duration": 10,
    "start_time": "2022-01-28T18:14:48.079Z"
   },
   {
    "duration": 67,
    "start_time": "2022-01-28T18:21:42.763Z"
   },
   {
    "duration": 8,
    "start_time": "2022-01-28T18:21:48.345Z"
   },
   {
    "duration": 21,
    "start_time": "2022-01-28T18:21:48.355Z"
   },
   {
    "duration": 6,
    "start_time": "2022-01-28T18:21:50.036Z"
   },
   {
    "duration": 11,
    "start_time": "2022-01-28T18:21:57.451Z"
   },
   {
    "duration": 3,
    "start_time": "2022-01-28T18:22:05.096Z"
   },
   {
    "duration": 10,
    "start_time": "2022-01-28T18:22:05.198Z"
   },
   {
    "duration": 7,
    "start_time": "2022-01-28T18:23:41.896Z"
   },
   {
    "duration": 68,
    "start_time": "2022-01-28T18:23:50.248Z"
   },
   {
    "duration": 7,
    "start_time": "2022-01-28T18:24:00.741Z"
   },
   {
    "duration": 9,
    "start_time": "2022-01-28T18:24:03.170Z"
   },
   {
    "duration": 7,
    "start_time": "2022-01-28T18:24:06.962Z"
   },
   {
    "duration": 7,
    "start_time": "2022-01-28T18:30:49.574Z"
   },
   {
    "duration": 2,
    "start_time": "2022-01-28T18:32:06.392Z"
   },
   {
    "duration": 87,
    "start_time": "2022-01-28T18:32:07.556Z"
   },
   {
    "duration": 22,
    "start_time": "2022-01-28T18:32:13.041Z"
   },
   {
    "duration": 8,
    "start_time": "2022-01-28T18:32:14.908Z"
   },
   {
    "duration": 20,
    "start_time": "2022-01-28T18:32:21.348Z"
   },
   {
    "duration": 7,
    "start_time": "2022-01-28T18:32:23.536Z"
   },
   {
    "duration": 4,
    "start_time": "2022-01-28T18:32:24.530Z"
   },
   {
    "duration": 6,
    "start_time": "2022-01-28T18:32:25.319Z"
   },
   {
    "duration": 8,
    "start_time": "2022-01-28T18:32:29.746Z"
   },
   {
    "duration": 6,
    "start_time": "2022-01-28T18:32:34.047Z"
   },
   {
    "duration": 15,
    "start_time": "2022-01-28T18:32:38.119Z"
   },
   {
    "duration": 6,
    "start_time": "2022-01-28T18:32:41.224Z"
   },
   {
    "duration": 5,
    "start_time": "2022-01-28T18:32:46.435Z"
   },
   {
    "duration": 7,
    "start_time": "2022-01-28T18:32:51.174Z"
   },
   {
    "duration": 7,
    "start_time": "2022-01-28T18:32:54.790Z"
   },
   {
    "duration": 7,
    "start_time": "2022-01-28T18:32:56.443Z"
   },
   {
    "duration": 10,
    "start_time": "2022-01-28T18:33:07.951Z"
   },
   {
    "duration": 12,
    "start_time": "2022-01-28T18:36:07.259Z"
   },
   {
    "duration": 8,
    "start_time": "2022-01-28T18:36:13.193Z"
   },
   {
    "duration": 11,
    "start_time": "2022-01-28T18:36:19.508Z"
   },
   {
    "duration": 9,
    "start_time": "2022-01-28T18:44:52.313Z"
   },
   {
    "duration": 4,
    "start_time": "2022-01-28T18:47:11.388Z"
   },
   {
    "duration": 20,
    "start_time": "2022-01-28T18:47:19.736Z"
   },
   {
    "duration": 354,
    "start_time": "2022-01-28T18:50:16.460Z"
   },
   {
    "duration": 21,
    "start_time": "2022-01-28T18:50:24.864Z"
   },
   {
    "duration": 6,
    "start_time": "2022-01-28T19:21:56.508Z"
   },
   {
    "duration": 205,
    "start_time": "2022-01-28T19:25:56.090Z"
   },
   {
    "duration": 8,
    "start_time": "2022-01-28T19:26:59.183Z"
   },
   {
    "duration": 298,
    "start_time": "2022-01-28T19:27:24.369Z"
   },
   {
    "duration": 270,
    "start_time": "2022-01-28T19:27:36.266Z"
   },
   {
    "duration": 279,
    "start_time": "2022-01-28T19:27:48.815Z"
   },
   {
    "duration": 857,
    "start_time": "2022-01-31T07:42:37.820Z"
   },
   {
    "duration": 2286,
    "start_time": "2022-01-31T07:42:38.680Z"
   },
   {
    "duration": 479,
    "start_time": "2022-01-31T07:42:40.492Z"
   },
   {
    "duration": 475,
    "start_time": "2022-01-31T07:42:40.497Z"
   },
   {
    "duration": 471,
    "start_time": "2022-01-31T07:42:40.503Z"
   },
   {
    "duration": 467,
    "start_time": "2022-01-31T07:42:40.508Z"
   },
   {
    "duration": 464,
    "start_time": "2022-01-31T07:42:40.513Z"
   },
   {
    "duration": 460,
    "start_time": "2022-01-31T07:42:40.518Z"
   },
   {
    "duration": 456,
    "start_time": "2022-01-31T07:42:40.523Z"
   },
   {
    "duration": 452,
    "start_time": "2022-01-31T07:42:40.528Z"
   },
   {
    "duration": 448,
    "start_time": "2022-01-31T07:42:40.534Z"
   },
   {
    "duration": 444,
    "start_time": "2022-01-31T07:42:40.539Z"
   },
   {
    "duration": 438,
    "start_time": "2022-01-31T07:42:40.546Z"
   },
   {
    "duration": 435,
    "start_time": "2022-01-31T07:42:40.551Z"
   },
   {
    "duration": 433,
    "start_time": "2022-01-31T07:42:40.555Z"
   },
   {
    "duration": 430,
    "start_time": "2022-01-31T07:42:40.559Z"
   },
   {
    "duration": 427,
    "start_time": "2022-01-31T07:42:40.563Z"
   },
   {
    "duration": 425,
    "start_time": "2022-01-31T07:42:40.567Z"
   },
   {
    "duration": 421,
    "start_time": "2022-01-31T07:42:40.572Z"
   },
   {
    "duration": 411,
    "start_time": "2022-01-31T07:42:40.584Z"
   },
   {
    "duration": 408,
    "start_time": "2022-01-31T07:42:40.589Z"
   },
   {
    "duration": 406,
    "start_time": "2022-01-31T07:42:40.592Z"
   },
   {
    "duration": 402,
    "start_time": "2022-01-31T07:42:40.597Z"
   },
   {
    "duration": 399,
    "start_time": "2022-01-31T07:42:40.602Z"
   },
   {
    "duration": 396,
    "start_time": "2022-01-31T07:42:40.606Z"
   },
   {
    "duration": 393,
    "start_time": "2022-01-31T07:42:40.611Z"
   },
   {
    "duration": 390,
    "start_time": "2022-01-31T07:42:40.615Z"
   },
   {
    "duration": 388,
    "start_time": "2022-01-31T07:42:40.619Z"
   },
   {
    "duration": 399,
    "start_time": "2022-01-31T07:42:40.624Z"
   },
   {
    "duration": 396,
    "start_time": "2022-01-31T07:42:40.629Z"
   },
   {
    "duration": 393,
    "start_time": "2022-01-31T07:42:40.633Z"
   },
   {
    "duration": 391,
    "start_time": "2022-01-31T07:42:40.637Z"
   },
   {
    "duration": 388,
    "start_time": "2022-01-31T07:42:40.642Z"
   },
   {
    "duration": 386,
    "start_time": "2022-01-31T07:42:40.646Z"
   },
   {
    "duration": 383,
    "start_time": "2022-01-31T07:42:40.650Z"
   },
   {
    "duration": 381,
    "start_time": "2022-01-31T07:42:40.654Z"
   },
   {
    "duration": 379,
    "start_time": "2022-01-31T07:42:40.658Z"
   },
   {
    "duration": 377,
    "start_time": "2022-01-31T07:42:40.661Z"
   },
   {
    "duration": 375,
    "start_time": "2022-01-31T07:42:40.665Z"
   },
   {
    "duration": 372,
    "start_time": "2022-01-31T07:42:40.669Z"
   },
   {
    "duration": 370,
    "start_time": "2022-01-31T07:42:40.673Z"
   },
   {
    "duration": 367,
    "start_time": "2022-01-31T07:42:40.677Z"
   },
   {
    "duration": 355,
    "start_time": "2022-01-31T07:42:40.691Z"
   },
   {
    "duration": 352,
    "start_time": "2022-01-31T07:42:40.695Z"
   },
   {
    "duration": 350,
    "start_time": "2022-01-31T07:42:40.699Z"
   },
   {
    "duration": 792,
    "start_time": "2022-01-31T07:43:23.552Z"
   },
   {
    "duration": 2171,
    "start_time": "2022-01-31T07:43:24.347Z"
   },
   {
    "duration": 454,
    "start_time": "2022-01-31T07:43:26.068Z"
   },
   {
    "duration": 452,
    "start_time": "2022-01-31T07:43:26.072Z"
   },
   {
    "duration": 447,
    "start_time": "2022-01-31T07:43:26.078Z"
   },
   {
    "duration": 445,
    "start_time": "2022-01-31T07:43:26.082Z"
   },
   {
    "duration": 442,
    "start_time": "2022-01-31T07:43:26.086Z"
   },
   {
    "duration": 439,
    "start_time": "2022-01-31T07:43:26.091Z"
   },
   {
    "duration": 436,
    "start_time": "2022-01-31T07:43:26.095Z"
   },
   {
    "duration": 434,
    "start_time": "2022-01-31T07:43:26.099Z"
   },
   {
    "duration": 432,
    "start_time": "2022-01-31T07:43:26.103Z"
   },
   {
    "duration": 430,
    "start_time": "2022-01-31T07:43:26.107Z"
   },
   {
    "duration": 426,
    "start_time": "2022-01-31T07:43:26.112Z"
   },
   {
    "duration": 425,
    "start_time": "2022-01-31T07:43:26.115Z"
   },
   {
    "duration": 421,
    "start_time": "2022-01-31T07:43:26.120Z"
   },
   {
    "duration": 419,
    "start_time": "2022-01-31T07:43:26.124Z"
   },
   {
    "duration": 416,
    "start_time": "2022-01-31T07:43:26.128Z"
   },
   {
    "duration": 415,
    "start_time": "2022-01-31T07:43:26.131Z"
   },
   {
    "duration": 412,
    "start_time": "2022-01-31T07:43:26.135Z"
   },
   {
    "duration": 410,
    "start_time": "2022-01-31T07:43:26.139Z"
   },
   {
    "duration": 407,
    "start_time": "2022-01-31T07:43:26.143Z"
   },
   {
    "duration": 405,
    "start_time": "2022-01-31T07:43:26.147Z"
   },
   {
    "duration": 396,
    "start_time": "2022-01-31T07:43:26.157Z"
   },
   {
    "duration": 394,
    "start_time": "2022-01-31T07:43:26.161Z"
   },
   {
    "duration": 391,
    "start_time": "2022-01-31T07:43:26.165Z"
   },
   {
    "duration": 389,
    "start_time": "2022-01-31T07:43:26.168Z"
   },
   {
    "duration": 387,
    "start_time": "2022-01-31T07:43:26.172Z"
   },
   {
    "duration": 383,
    "start_time": "2022-01-31T07:43:26.177Z"
   },
   {
    "duration": 381,
    "start_time": "2022-01-31T07:43:26.181Z"
   },
   {
    "duration": 377,
    "start_time": "2022-01-31T07:43:26.186Z"
   },
   {
    "duration": 374,
    "start_time": "2022-01-31T07:43:26.191Z"
   },
   {
    "duration": 427,
    "start_time": "2022-01-31T07:43:26.195Z"
   },
   {
    "duration": 425,
    "start_time": "2022-01-31T07:43:26.199Z"
   },
   {
    "duration": 421,
    "start_time": "2022-01-31T07:43:26.204Z"
   },
   {
    "duration": 420,
    "start_time": "2022-01-31T07:43:26.208Z"
   },
   {
    "duration": 418,
    "start_time": "2022-01-31T07:43:26.212Z"
   },
   {
    "duration": 415,
    "start_time": "2022-01-31T07:43:26.217Z"
   },
   {
    "duration": 413,
    "start_time": "2022-01-31T07:43:26.221Z"
   },
   {
    "duration": 411,
    "start_time": "2022-01-31T07:43:26.225Z"
   },
   {
    "duration": 409,
    "start_time": "2022-01-31T07:43:26.229Z"
   },
   {
    "duration": 408,
    "start_time": "2022-01-31T07:43:26.233Z"
   },
   {
    "duration": 407,
    "start_time": "2022-01-31T07:43:26.236Z"
   },
   {
    "duration": 405,
    "start_time": "2022-01-31T07:43:26.240Z"
   },
   {
    "duration": 403,
    "start_time": "2022-01-31T07:43:26.244Z"
   },
   {
    "duration": 388,
    "start_time": "2022-01-31T07:43:26.261Z"
   },
   {
    "duration": 94,
    "start_time": "2022-01-31T07:45:08.882Z"
   },
   {
    "duration": 1090,
    "start_time": "2022-01-31T07:45:17.698Z"
   },
   {
    "duration": 92,
    "start_time": "2022-01-31T07:45:18.791Z"
   },
   {
    "duration": 51,
    "start_time": "2022-01-31T07:45:18.886Z"
   },
   {
    "duration": 13,
    "start_time": "2022-01-31T07:45:18.941Z"
   },
   {
    "duration": 34,
    "start_time": "2022-01-31T07:45:18.957Z"
   },
   {
    "duration": 9,
    "start_time": "2022-01-31T07:45:19.024Z"
   },
   {
    "duration": 4,
    "start_time": "2022-01-31T07:45:19.036Z"
   },
   {
    "duration": 8,
    "start_time": "2022-01-31T07:45:19.044Z"
   },
   {
    "duration": 12,
    "start_time": "2022-01-31T07:45:19.055Z"
   },
   {
    "duration": 57,
    "start_time": "2022-01-31T07:45:19.069Z"
   },
   {
    "duration": 22,
    "start_time": "2022-01-31T07:45:19.128Z"
   },
   {
    "duration": 8,
    "start_time": "2022-01-31T07:45:19.152Z"
   },
   {
    "duration": 6,
    "start_time": "2022-01-31T07:45:19.163Z"
   },
   {
    "duration": 10,
    "start_time": "2022-01-31T07:45:19.171Z"
   },
   {
    "duration": 9,
    "start_time": "2022-01-31T07:45:19.223Z"
   },
   {
    "duration": 8,
    "start_time": "2022-01-31T07:45:19.235Z"
   },
   {
    "duration": 16,
    "start_time": "2022-01-31T07:45:19.245Z"
   },
   {
    "duration": 11,
    "start_time": "2022-01-31T07:45:19.263Z"
   },
   {
    "duration": 75,
    "start_time": "2022-01-31T07:45:19.276Z"
   },
   {
    "duration": 5,
    "start_time": "2022-01-31T07:45:19.353Z"
   },
   {
    "duration": 11,
    "start_time": "2022-01-31T07:45:19.360Z"
   },
   {
    "duration": 17,
    "start_time": "2022-01-31T07:45:19.373Z"
   },
   {
    "duration": 735,
    "start_time": "2022-01-31T07:45:19.423Z"
   },
   {
    "duration": 7,
    "start_time": "2022-01-31T07:45:20.161Z"
   },
   {
    "duration": 1879,
    "start_time": "2022-01-31T07:45:20.170Z"
   },
   {
    "duration": 12,
    "start_time": "2022-01-31T07:45:22.052Z"
   },
   {
    "duration": 11,
    "start_time": "2022-01-31T07:45:22.066Z"
   },
   {
    "duration": 48,
    "start_time": "2022-01-31T07:45:22.079Z"
   },
   {
    "duration": 515,
    "start_time": "2022-01-31T07:45:22.129Z"
   },
   {
    "duration": 7,
    "start_time": "2022-01-31T07:45:22.647Z"
   },
   {
    "duration": 221,
    "start_time": "2022-01-31T07:45:22.657Z"
   },
   {
    "duration": 11,
    "start_time": "2022-01-31T07:45:22.880Z"
   },
   {
    "duration": 31,
    "start_time": "2022-01-31T07:45:22.894Z"
   },
   {
    "duration": 43,
    "start_time": "2022-01-31T07:45:22.927Z"
   },
   {
    "duration": 33,
    "start_time": "2022-01-31T07:45:22.972Z"
   },
   {
    "duration": 7456,
    "start_time": "2022-01-31T07:45:23.008Z"
   },
   {
    "duration": 15,
    "start_time": "2022-01-31T07:45:30.466Z"
   },
   {
    "duration": 56,
    "start_time": "2022-01-31T07:45:30.483Z"
   },
   {
    "duration": 32,
    "start_time": "2022-01-31T07:45:30.542Z"
   },
   {
    "duration": 52,
    "start_time": "2022-01-31T07:45:30.576Z"
   },
   {
    "duration": 27,
    "start_time": "2022-01-31T07:45:30.630Z"
   },
   {
    "duration": 39,
    "start_time": "2022-01-31T07:45:30.659Z"
   },
   {
    "duration": 367,
    "start_time": "2022-01-31T07:45:30.724Z"
   },
   {
    "duration": 2760,
    "start_time": "2022-01-31T07:45:31.094Z"
   },
   {
    "duration": 13,
    "start_time": "2022-01-31T07:45:33.857Z"
   },
   {
    "duration": 9,
    "start_time": "2022-01-31T08:01:34.304Z"
   },
   {
    "duration": 377,
    "start_time": "2022-01-31T08:01:59.369Z"
   },
   {
    "duration": 321,
    "start_time": "2022-01-31T08:02:12.217Z"
   },
   {
    "duration": 10,
    "start_time": "2022-01-31T08:02:44.240Z"
   },
   {
    "duration": 8,
    "start_time": "2022-01-31T08:02:51.056Z"
   },
   {
    "duration": 11,
    "start_time": "2022-01-31T08:03:13.688Z"
   },
   {
    "duration": 288,
    "start_time": "2022-01-31T08:03:49.808Z"
   },
   {
    "duration": 8,
    "start_time": "2022-01-31T08:04:07.625Z"
   },
   {
    "duration": 10,
    "start_time": "2022-01-31T08:04:24.056Z"
   },
   {
    "duration": 13,
    "start_time": "2022-01-31T08:04:37.167Z"
   },
   {
    "duration": 10,
    "start_time": "2022-01-31T08:04:46.079Z"
   },
   {
    "duration": 9,
    "start_time": "2022-01-31T08:05:06.050Z"
   },
   {
    "duration": 10,
    "start_time": "2022-01-31T08:05:25.575Z"
   },
   {
    "duration": 12,
    "start_time": "2022-01-31T08:06:45.350Z"
   },
   {
    "duration": 11,
    "start_time": "2022-01-31T08:07:05.629Z"
   },
   {
    "duration": 11,
    "start_time": "2022-01-31T08:07:16.325Z"
   },
   {
    "duration": 11,
    "start_time": "2022-01-31T08:07:38.996Z"
   },
   {
    "duration": 11,
    "start_time": "2022-01-31T08:07:52.836Z"
   },
   {
    "duration": 11,
    "start_time": "2022-01-31T08:08:38.435Z"
   },
   {
    "duration": 12,
    "start_time": "2022-01-31T08:09:11.276Z"
   },
   {
    "duration": 10,
    "start_time": "2022-01-31T08:09:18.907Z"
   },
   {
    "duration": 16,
    "start_time": "2022-01-31T08:12:55.216Z"
   },
   {
    "duration": 12,
    "start_time": "2022-01-31T08:13:11.952Z"
   },
   {
    "duration": 820,
    "start_time": "2022-01-31T08:13:28.639Z"
   },
   {
    "duration": 95,
    "start_time": "2022-01-31T08:13:29.462Z"
   },
   {
    "duration": 39,
    "start_time": "2022-01-31T08:13:29.561Z"
   },
   {
    "duration": 13,
    "start_time": "2022-01-31T08:13:29.623Z"
   },
   {
    "duration": 32,
    "start_time": "2022-01-31T08:13:29.638Z"
   },
   {
    "duration": 8,
    "start_time": "2022-01-31T08:13:29.672Z"
   },
   {
    "duration": 4,
    "start_time": "2022-01-31T08:13:29.682Z"
   },
   {
    "duration": 8,
    "start_time": "2022-01-31T08:13:29.725Z"
   },
   {
    "duration": 12,
    "start_time": "2022-01-31T08:13:29.735Z"
   },
   {
    "duration": 11,
    "start_time": "2022-01-31T08:13:29.749Z"
   },
   {
    "duration": 30,
    "start_time": "2022-01-31T08:13:29.762Z"
   },
   {
    "duration": 33,
    "start_time": "2022-01-31T08:13:29.794Z"
   },
   {
    "duration": 5,
    "start_time": "2022-01-31T08:13:29.829Z"
   },
   {
    "duration": 14,
    "start_time": "2022-01-31T08:13:29.837Z"
   },
   {
    "duration": 13,
    "start_time": "2022-01-31T08:13:29.854Z"
   },
   {
    "duration": 7,
    "start_time": "2022-01-31T08:13:29.870Z"
   },
   {
    "duration": 16,
    "start_time": "2022-01-31T08:13:29.923Z"
   },
   {
    "duration": 11,
    "start_time": "2022-01-31T08:13:29.941Z"
   },
   {
    "duration": 34,
    "start_time": "2022-01-31T08:13:29.954Z"
   },
   {
    "duration": 34,
    "start_time": "2022-01-31T08:13:29.990Z"
   },
   {
    "duration": 17,
    "start_time": "2022-01-31T08:13:30.026Z"
   },
   {
    "duration": 28,
    "start_time": "2022-01-31T08:13:30.045Z"
   },
   {
    "duration": 762,
    "start_time": "2022-01-31T08:13:30.078Z"
   },
   {
    "duration": 6,
    "start_time": "2022-01-31T08:13:30.843Z"
   },
   {
    "duration": 1858,
    "start_time": "2022-01-31T08:13:30.852Z"
   },
   {
    "duration": 19,
    "start_time": "2022-01-31T08:13:32.712Z"
   },
   {
    "duration": 9,
    "start_time": "2022-01-31T08:13:32.734Z"
   },
   {
    "duration": 11,
    "start_time": "2022-01-31T08:13:32.746Z"
   },
   {
    "duration": 17,
    "start_time": "2022-01-31T08:13:32.759Z"
   },
   {
    "duration": 51,
    "start_time": "2022-01-31T08:13:32.779Z"
   },
   {
    "duration": 10,
    "start_time": "2022-01-31T08:13:32.832Z"
   },
   {
    "duration": 15,
    "start_time": "2022-01-31T08:13:32.844Z"
   },
   {
    "duration": 11,
    "start_time": "2022-01-31T08:13:32.861Z"
   },
   {
    "duration": 623,
    "start_time": "2022-01-31T08:13:32.875Z"
   },
   {
    "duration": 6,
    "start_time": "2022-01-31T08:13:33.501Z"
   },
   {
    "duration": 206,
    "start_time": "2022-01-31T08:13:33.524Z"
   },
   {
    "duration": 11,
    "start_time": "2022-01-31T08:13:33.733Z"
   },
   {
    "duration": 9,
    "start_time": "2022-01-31T08:13:33.747Z"
   },
   {
    "duration": 8,
    "start_time": "2022-01-31T08:13:33.759Z"
   },
   {
    "duration": 57,
    "start_time": "2022-01-31T08:13:33.769Z"
   },
   {
    "duration": 7890,
    "start_time": "2022-01-31T08:13:33.828Z"
   },
   {
    "duration": 17,
    "start_time": "2022-01-31T08:13:41.724Z"
   },
   {
    "duration": 32,
    "start_time": "2022-01-31T08:13:41.745Z"
   },
   {
    "duration": 70,
    "start_time": "2022-01-31T08:13:41.780Z"
   },
   {
    "duration": 32,
    "start_time": "2022-01-31T08:13:41.853Z"
   },
   {
    "duration": 58,
    "start_time": "2022-01-31T08:13:41.887Z"
   },
   {
    "duration": 35,
    "start_time": "2022-01-31T08:13:41.947Z"
   },
   {
    "duration": 377,
    "start_time": "2022-01-31T08:13:41.985Z"
   },
   {
    "duration": 2697,
    "start_time": "2022-01-31T08:13:42.365Z"
   },
   {
    "duration": 16,
    "start_time": "2022-01-31T08:13:45.065Z"
   },
   {
    "duration": 18,
    "start_time": "2022-01-31T08:17:09.383Z"
   },
   {
    "duration": 12,
    "start_time": "2022-01-31T08:17:10.440Z"
   },
   {
    "duration": 1407,
    "start_time": "2022-01-31T08:17:25.294Z"
   },
   {
    "duration": 91,
    "start_time": "2022-01-31T08:17:26.703Z"
   },
   {
    "duration": 46,
    "start_time": "2022-01-31T08:17:26.797Z"
   },
   {
    "duration": 13,
    "start_time": "2022-01-31T08:17:26.846Z"
   },
   {
    "duration": 29,
    "start_time": "2022-01-31T08:17:26.861Z"
   },
   {
    "duration": 8,
    "start_time": "2022-01-31T08:17:26.923Z"
   },
   {
    "duration": 5,
    "start_time": "2022-01-31T08:17:26.933Z"
   },
   {
    "duration": 9,
    "start_time": "2022-01-31T08:17:26.941Z"
   },
   {
    "duration": 12,
    "start_time": "2022-01-31T08:17:26.953Z"
   },
   {
    "duration": 7,
    "start_time": "2022-01-31T08:17:26.967Z"
   },
   {
    "duration": 25,
    "start_time": "2022-01-31T08:17:27.024Z"
   },
   {
    "duration": 11,
    "start_time": "2022-01-31T08:17:27.051Z"
   },
   {
    "duration": 8,
    "start_time": "2022-01-31T08:17:27.064Z"
   },
   {
    "duration": 56,
    "start_time": "2022-01-31T08:17:27.074Z"
   },
   {
    "duration": 9,
    "start_time": "2022-01-31T08:17:27.132Z"
   },
   {
    "duration": 8,
    "start_time": "2022-01-31T08:17:27.144Z"
   },
   {
    "duration": 17,
    "start_time": "2022-01-31T08:17:27.154Z"
   },
   {
    "duration": 55,
    "start_time": "2022-01-31T08:17:27.173Z"
   },
   {
    "duration": 38,
    "start_time": "2022-01-31T08:17:27.230Z"
   },
   {
    "duration": 7,
    "start_time": "2022-01-31T08:17:27.271Z"
   },
   {
    "duration": 12,
    "start_time": "2022-01-31T08:17:27.280Z"
   },
   {
    "duration": 44,
    "start_time": "2022-01-31T08:17:27.294Z"
   },
   {
    "duration": 791,
    "start_time": "2022-01-31T08:17:27.343Z"
   },
   {
    "duration": 6,
    "start_time": "2022-01-31T08:17:28.137Z"
   },
   {
    "duration": 1958,
    "start_time": "2022-01-31T08:17:28.146Z"
   },
   {
    "duration": 20,
    "start_time": "2022-01-31T08:17:30.107Z"
   },
   {
    "duration": 11,
    "start_time": "2022-01-31T08:17:30.129Z"
   },
   {
    "duration": 14,
    "start_time": "2022-01-31T08:17:30.142Z"
   },
   {
    "duration": 18,
    "start_time": "2022-01-31T08:17:30.159Z"
   },
   {
    "duration": 49,
    "start_time": "2022-01-31T08:17:30.180Z"
   },
   {
    "duration": 10,
    "start_time": "2022-01-31T08:17:30.231Z"
   },
   {
    "duration": 20,
    "start_time": "2022-01-31T08:17:30.244Z"
   },
   {
    "duration": 10,
    "start_time": "2022-01-31T08:17:30.267Z"
   },
   {
    "duration": 562,
    "start_time": "2022-01-31T08:17:30.280Z"
   },
   {
    "duration": 6,
    "start_time": "2022-01-31T08:17:30.845Z"
   },
   {
    "duration": 223,
    "start_time": "2022-01-31T08:17:30.853Z"
   },
   {
    "duration": 11,
    "start_time": "2022-01-31T08:17:31.078Z"
   },
   {
    "duration": 33,
    "start_time": "2022-01-31T08:17:31.091Z"
   },
   {
    "duration": 9,
    "start_time": "2022-01-31T08:17:31.126Z"
   },
   {
    "duration": 15,
    "start_time": "2022-01-31T08:17:31.138Z"
   },
   {
    "duration": 3593,
    "start_time": "2022-01-31T08:17:31.156Z"
   },
   {
    "duration": 465,
    "start_time": "2022-01-31T08:17:34.286Z"
   },
   {
    "duration": 461,
    "start_time": "2022-01-31T08:17:34.292Z"
   },
   {
    "duration": 456,
    "start_time": "2022-01-31T08:17:34.298Z"
   },
   {
    "duration": 452,
    "start_time": "2022-01-31T08:17:34.303Z"
   },
   {
    "duration": 449,
    "start_time": "2022-01-31T08:17:34.308Z"
   },
   {
    "duration": 446,
    "start_time": "2022-01-31T08:17:34.313Z"
   },
   {
    "duration": 442,
    "start_time": "2022-01-31T08:17:34.318Z"
   },
   {
    "duration": 440,
    "start_time": "2022-01-31T08:17:34.321Z"
   },
   {
    "duration": 438,
    "start_time": "2022-01-31T08:17:34.325Z"
   },
   {
    "duration": 10,
    "start_time": "2022-01-31T08:19:25.755Z"
   },
   {
    "duration": 11,
    "start_time": "2022-01-31T08:20:19.968Z"
   },
   {
    "duration": 825,
    "start_time": "2022-01-31T08:20:53.886Z"
   },
   {
    "duration": 90,
    "start_time": "2022-01-31T08:20:54.714Z"
   },
   {
    "duration": 47,
    "start_time": "2022-01-31T08:20:54.807Z"
   },
   {
    "duration": 13,
    "start_time": "2022-01-31T08:20:54.857Z"
   },
   {
    "duration": 56,
    "start_time": "2022-01-31T08:20:54.872Z"
   },
   {
    "duration": 9,
    "start_time": "2022-01-31T08:20:54.931Z"
   },
   {
    "duration": 5,
    "start_time": "2022-01-31T08:20:54.942Z"
   },
   {
    "duration": 8,
    "start_time": "2022-01-31T08:20:54.951Z"
   },
   {
    "duration": 12,
    "start_time": "2022-01-31T08:20:54.962Z"
   },
   {
    "duration": 49,
    "start_time": "2022-01-31T08:20:54.976Z"
   },
   {
    "duration": 23,
    "start_time": "2022-01-31T08:20:55.028Z"
   },
   {
    "duration": 10,
    "start_time": "2022-01-31T08:20:55.054Z"
   },
   {
    "duration": 8,
    "start_time": "2022-01-31T08:20:55.066Z"
   },
   {
    "duration": 53,
    "start_time": "2022-01-31T08:20:55.076Z"
   },
   {
    "duration": 15,
    "start_time": "2022-01-31T08:20:55.131Z"
   },
   {
    "duration": 8,
    "start_time": "2022-01-31T08:20:55.148Z"
   },
   {
    "duration": 18,
    "start_time": "2022-01-31T08:20:55.159Z"
   },
   {
    "duration": 11,
    "start_time": "2022-01-31T08:20:55.180Z"
   },
   {
    "duration": 35,
    "start_time": "2022-01-31T08:20:55.224Z"
   },
   {
    "duration": 7,
    "start_time": "2022-01-31T08:20:55.261Z"
   },
   {
    "duration": 12,
    "start_time": "2022-01-31T08:20:55.270Z"
   },
   {
    "duration": 50,
    "start_time": "2022-01-31T08:20:55.285Z"
   },
   {
    "duration": 861,
    "start_time": "2022-01-31T08:20:55.340Z"
   },
   {
    "duration": 7,
    "start_time": "2022-01-31T08:20:56.204Z"
   },
   {
    "duration": 1827,
    "start_time": "2022-01-31T08:20:56.213Z"
   },
   {
    "duration": 11,
    "start_time": "2022-01-31T08:20:58.042Z"
   },
   {
    "duration": 10,
    "start_time": "2022-01-31T08:20:58.056Z"
   },
   {
    "duration": 13,
    "start_time": "2022-01-31T08:20:58.069Z"
   },
   {
    "duration": 57,
    "start_time": "2022-01-31T08:20:58.084Z"
   },
   {
    "duration": 14,
    "start_time": "2022-01-31T08:20:58.143Z"
   },
   {
    "duration": 17,
    "start_time": "2022-01-31T08:20:58.160Z"
   },
   {
    "duration": 43,
    "start_time": "2022-01-31T08:20:58.180Z"
   },
   {
    "duration": 18,
    "start_time": "2022-01-31T08:20:58.227Z"
   },
   {
    "duration": 13,
    "start_time": "2022-01-31T08:20:58.248Z"
   },
   {
    "duration": 562,
    "start_time": "2022-01-31T08:20:58.264Z"
   },
   {
    "duration": 7,
    "start_time": "2022-01-31T08:20:58.828Z"
   },
   {
    "duration": 215,
    "start_time": "2022-01-31T08:20:58.837Z"
   },
   {
    "duration": 10,
    "start_time": "2022-01-31T08:20:59.055Z"
   },
   {
    "duration": 8,
    "start_time": "2022-01-31T08:20:59.068Z"
   },
   {
    "duration": 9,
    "start_time": "2022-01-31T08:20:59.078Z"
   },
   {
    "duration": 15,
    "start_time": "2022-01-31T08:20:59.124Z"
   },
   {
    "duration": 2570,
    "start_time": "2022-01-31T08:20:59.141Z"
   },
   {
    "duration": 21,
    "start_time": "2022-01-31T08:21:01.714Z"
   },
   {
    "duration": 29,
    "start_time": "2022-01-31T08:21:01.737Z"
   },
   {
    "duration": 29,
    "start_time": "2022-01-31T08:21:01.769Z"
   },
   {
    "duration": 401,
    "start_time": "2022-01-31T08:21:01.824Z"
   },
   {
    "duration": 463,
    "start_time": "2022-01-31T08:21:01.765Z"
   },
   {
    "duration": 459,
    "start_time": "2022-01-31T08:21:01.770Z"
   },
   {
    "duration": 456,
    "start_time": "2022-01-31T08:21:01.775Z"
   },
   {
    "duration": 451,
    "start_time": "2022-01-31T08:21:01.781Z"
   },
   {
    "duration": 448,
    "start_time": "2022-01-31T08:21:01.786Z"
   },
   {
    "duration": 865,
    "start_time": "2022-01-31T08:23:21.045Z"
   },
   {
    "duration": 99,
    "start_time": "2022-01-31T08:23:21.913Z"
   },
   {
    "duration": 41,
    "start_time": "2022-01-31T08:23:22.024Z"
   },
   {
    "duration": 15,
    "start_time": "2022-01-31T08:23:22.068Z"
   },
   {
    "duration": 62,
    "start_time": "2022-01-31T08:23:22.085Z"
   },
   {
    "duration": 11,
    "start_time": "2022-01-31T08:23:22.150Z"
   },
   {
    "duration": 4,
    "start_time": "2022-01-31T08:23:22.163Z"
   },
   {
    "duration": 8,
    "start_time": "2022-01-31T08:23:22.170Z"
   },
   {
    "duration": 51,
    "start_time": "2022-01-31T08:23:22.182Z"
   },
   {
    "duration": 9,
    "start_time": "2022-01-31T08:23:22.237Z"
   },
   {
    "duration": 25,
    "start_time": "2022-01-31T08:23:22.249Z"
   },
   {
    "duration": 50,
    "start_time": "2022-01-31T08:23:22.276Z"
   },
   {
    "duration": 7,
    "start_time": "2022-01-31T08:23:22.328Z"
   },
   {
    "duration": 15,
    "start_time": "2022-01-31T08:23:22.337Z"
   },
   {
    "duration": 15,
    "start_time": "2022-01-31T08:23:22.354Z"
   },
   {
    "duration": 9,
    "start_time": "2022-01-31T08:23:22.371Z"
   },
   {
    "duration": 17,
    "start_time": "2022-01-31T08:23:22.423Z"
   },
   {
    "duration": 12,
    "start_time": "2022-01-31T08:23:22.442Z"
   },
   {
    "duration": 38,
    "start_time": "2022-01-31T08:23:22.456Z"
   },
   {
    "duration": 30,
    "start_time": "2022-01-31T08:23:22.496Z"
   },
   {
    "duration": 14,
    "start_time": "2022-01-31T08:23:22.528Z"
   },
   {
    "duration": 18,
    "start_time": "2022-01-31T08:23:22.544Z"
   },
   {
    "duration": 811,
    "start_time": "2022-01-31T08:23:22.568Z"
   },
   {
    "duration": 6,
    "start_time": "2022-01-31T08:23:23.384Z"
   },
   {
    "duration": 1941,
    "start_time": "2022-01-31T08:23:23.393Z"
   },
   {
    "duration": 11,
    "start_time": "2022-01-31T08:23:25.336Z"
   },
   {
    "duration": 10,
    "start_time": "2022-01-31T08:23:25.349Z"
   },
   {
    "duration": 12,
    "start_time": "2022-01-31T08:23:25.361Z"
   },
   {
    "duration": 53,
    "start_time": "2022-01-31T08:23:25.375Z"
   },
   {
    "duration": 12,
    "start_time": "2022-01-31T08:23:25.431Z"
   },
   {
    "duration": 9,
    "start_time": "2022-01-31T08:23:25.445Z"
   },
   {
    "duration": 20,
    "start_time": "2022-01-31T08:23:25.456Z"
   },
   {
    "duration": 52,
    "start_time": "2022-01-31T08:23:25.478Z"
   },
   {
    "duration": 17,
    "start_time": "2022-01-31T08:23:25.533Z"
   },
   {
    "duration": 551,
    "start_time": "2022-01-31T08:23:25.553Z"
   },
   {
    "duration": 16,
    "start_time": "2022-01-31T08:23:26.108Z"
   },
   {
    "duration": 225,
    "start_time": "2022-01-31T08:23:26.128Z"
   },
   {
    "duration": 10,
    "start_time": "2022-01-31T08:23:26.355Z"
   },
   {
    "duration": 7,
    "start_time": "2022-01-31T08:23:26.368Z"
   },
   {
    "duration": 8,
    "start_time": "2022-01-31T08:23:26.378Z"
   },
   {
    "duration": 13,
    "start_time": "2022-01-31T08:23:26.424Z"
   },
   {
    "duration": 2597,
    "start_time": "2022-01-31T08:23:26.439Z"
   },
   {
    "duration": 13,
    "start_time": "2022-01-31T08:23:29.038Z"
   },
   {
    "duration": 29,
    "start_time": "2022-01-31T08:23:29.054Z"
   },
   {
    "duration": 444,
    "start_time": "2022-01-31T08:23:29.087Z"
   },
   {
    "duration": 459,
    "start_time": "2022-01-31T08:23:29.075Z"
   },
   {
    "duration": 444,
    "start_time": "2022-01-31T08:23:29.092Z"
   },
   {
    "duration": 441,
    "start_time": "2022-01-31T08:23:29.098Z"
   },
   {
    "duration": 439,
    "start_time": "2022-01-31T08:23:29.102Z"
   },
   {
    "duration": 437,
    "start_time": "2022-01-31T08:23:29.107Z"
   },
   {
    "duration": 434,
    "start_time": "2022-01-31T08:23:29.112Z"
   },
   {
    "duration": 875,
    "start_time": "2022-01-31T08:24:21.425Z"
   },
   {
    "duration": 95,
    "start_time": "2022-01-31T08:24:22.303Z"
   },
   {
    "duration": 51,
    "start_time": "2022-01-31T08:24:22.401Z"
   },
   {
    "duration": 13,
    "start_time": "2022-01-31T08:24:22.455Z"
   },
   {
    "duration": 67,
    "start_time": "2022-01-31T08:24:22.472Z"
   },
   {
    "duration": 9,
    "start_time": "2022-01-31T08:24:22.542Z"
   },
   {
    "duration": 7,
    "start_time": "2022-01-31T08:24:22.554Z"
   },
   {
    "duration": 9,
    "start_time": "2022-01-31T08:24:22.566Z"
   },
   {
    "duration": 51,
    "start_time": "2022-01-31T08:24:22.579Z"
   },
   {
    "duration": 7,
    "start_time": "2022-01-31T08:24:22.632Z"
   },
   {
    "duration": 24,
    "start_time": "2022-01-31T08:24:22.641Z"
   },
   {
    "duration": 9,
    "start_time": "2022-01-31T08:24:22.667Z"
   },
   {
    "duration": 5,
    "start_time": "2022-01-31T08:24:22.679Z"
   },
   {
    "duration": 11,
    "start_time": "2022-01-31T08:24:22.724Z"
   },
   {
    "duration": 12,
    "start_time": "2022-01-31T08:24:22.738Z"
   },
   {
    "duration": 10,
    "start_time": "2022-01-31T08:24:22.753Z"
   },
   {
    "duration": 60,
    "start_time": "2022-01-31T08:24:22.765Z"
   },
   {
    "duration": 12,
    "start_time": "2022-01-31T08:24:22.827Z"
   },
   {
    "duration": 42,
    "start_time": "2022-01-31T08:24:22.842Z"
   },
   {
    "duration": 5,
    "start_time": "2022-01-31T08:24:22.887Z"
   },
   {
    "duration": 11,
    "start_time": "2022-01-31T08:24:22.923Z"
   },
   {
    "duration": 22,
    "start_time": "2022-01-31T08:24:22.936Z"
   },
   {
    "duration": 827,
    "start_time": "2022-01-31T08:24:22.963Z"
   },
   {
    "duration": 6,
    "start_time": "2022-01-31T08:24:23.794Z"
   },
   {
    "duration": 1924,
    "start_time": "2022-01-31T08:24:23.802Z"
   },
   {
    "duration": 15,
    "start_time": "2022-01-31T08:24:25.729Z"
   },
   {
    "duration": 11,
    "start_time": "2022-01-31T08:24:25.746Z"
   },
   {
    "duration": 11,
    "start_time": "2022-01-31T08:24:25.759Z"
   },
   {
    "duration": 59,
    "start_time": "2022-01-31T08:24:25.772Z"
   },
   {
    "duration": 12,
    "start_time": "2022-01-31T08:24:25.833Z"
   },
   {
    "duration": 17,
    "start_time": "2022-01-31T08:24:25.847Z"
   },
   {
    "duration": 16,
    "start_time": "2022-01-31T08:24:25.866Z"
   },
   {
    "duration": 44,
    "start_time": "2022-01-31T08:24:25.885Z"
   },
   {
    "duration": 11,
    "start_time": "2022-01-31T08:24:25.931Z"
   },
   {
    "duration": 604,
    "start_time": "2022-01-31T08:24:25.944Z"
   },
   {
    "duration": 6,
    "start_time": "2022-01-31T08:24:26.551Z"
   },
   {
    "duration": 223,
    "start_time": "2022-01-31T08:24:26.559Z"
   },
   {
    "duration": 12,
    "start_time": "2022-01-31T08:24:26.785Z"
   },
   {
    "duration": 31,
    "start_time": "2022-01-31T08:24:26.800Z"
   },
   {
    "duration": 10,
    "start_time": "2022-01-31T08:24:26.834Z"
   },
   {
    "duration": 18,
    "start_time": "2022-01-31T08:24:26.847Z"
   },
   {
    "duration": 7375,
    "start_time": "2022-01-31T08:24:26.867Z"
   },
   {
    "duration": 13,
    "start_time": "2022-01-31T08:24:34.245Z"
   },
   {
    "duration": 32,
    "start_time": "2022-01-31T08:24:34.260Z"
   },
   {
    "duration": 58,
    "start_time": "2022-01-31T08:24:34.295Z"
   },
   {
    "duration": 31,
    "start_time": "2022-01-31T08:24:34.356Z"
   },
   {
    "duration": 65,
    "start_time": "2022-01-31T08:24:34.390Z"
   },
   {
    "duration": 32,
    "start_time": "2022-01-31T08:24:34.458Z"
   },
   {
    "duration": 418,
    "start_time": "2022-01-31T08:24:34.493Z"
   },
   {
    "duration": 2721,
    "start_time": "2022-01-31T08:24:34.913Z"
   },
   {
    "duration": 14,
    "start_time": "2022-01-31T08:24:37.637Z"
   },
   {
    "duration": 11,
    "start_time": "2022-01-31T08:26:20.180Z"
   },
   {
    "duration": 11,
    "start_time": "2022-01-31T08:26:30.941Z"
   },
   {
    "duration": 11,
    "start_time": "2022-01-31T08:26:48.372Z"
   },
   {
    "duration": 898,
    "start_time": "2022-01-31T08:27:30.721Z"
   },
   {
    "duration": 95,
    "start_time": "2022-01-31T08:27:31.624Z"
   },
   {
    "duration": 53,
    "start_time": "2022-01-31T08:27:31.721Z"
   },
   {
    "duration": 15,
    "start_time": "2022-01-31T08:27:31.777Z"
   },
   {
    "duration": 62,
    "start_time": "2022-01-31T08:27:31.794Z"
   },
   {
    "duration": 10,
    "start_time": "2022-01-31T08:27:31.858Z"
   },
   {
    "duration": 5,
    "start_time": "2022-01-31T08:27:31.870Z"
   },
   {
    "duration": 47,
    "start_time": "2022-01-31T08:27:31.878Z"
   },
   {
    "duration": 13,
    "start_time": "2022-01-31T08:27:31.927Z"
   },
   {
    "duration": 8,
    "start_time": "2022-01-31T08:27:31.942Z"
   },
   {
    "duration": 23,
    "start_time": "2022-01-31T08:27:31.952Z"
   },
   {
    "duration": 50,
    "start_time": "2022-01-31T08:27:31.978Z"
   },
   {
    "duration": 7,
    "start_time": "2022-01-31T08:27:32.030Z"
   },
   {
    "duration": 14,
    "start_time": "2022-01-31T08:27:32.039Z"
   },
   {
    "duration": 24,
    "start_time": "2022-01-31T08:27:32.055Z"
   },
   {
    "duration": 10,
    "start_time": "2022-01-31T08:27:32.081Z"
   },
   {
    "duration": 19,
    "start_time": "2022-01-31T08:27:32.124Z"
   },
   {
    "duration": 14,
    "start_time": "2022-01-31T08:27:32.146Z"
   },
   {
    "duration": 75,
    "start_time": "2022-01-31T08:27:32.162Z"
   },
   {
    "duration": 7,
    "start_time": "2022-01-31T08:27:32.240Z"
   },
   {
    "duration": 14,
    "start_time": "2022-01-31T08:27:32.249Z"
   },
   {
    "duration": 18,
    "start_time": "2022-01-31T08:27:32.266Z"
   },
   {
    "duration": 861,
    "start_time": "2022-01-31T08:27:32.290Z"
   },
   {
    "duration": 7,
    "start_time": "2022-01-31T08:27:33.154Z"
   },
   {
    "duration": 1942,
    "start_time": "2022-01-31T08:27:33.164Z"
   },
   {
    "duration": 16,
    "start_time": "2022-01-31T08:27:35.108Z"
   },
   {
    "duration": 11,
    "start_time": "2022-01-31T08:27:35.126Z"
   },
   {
    "duration": 12,
    "start_time": "2022-01-31T08:27:35.140Z"
   },
   {
    "duration": 19,
    "start_time": "2022-01-31T08:27:35.155Z"
   },
   {
    "duration": 58,
    "start_time": "2022-01-31T08:27:35.176Z"
   },
   {
    "duration": 9,
    "start_time": "2022-01-31T08:27:35.237Z"
   },
   {
    "duration": 9,
    "start_time": "2022-01-31T08:27:35.249Z"
   },
   {
    "duration": 16,
    "start_time": "2022-01-31T08:27:35.261Z"
   },
   {
    "duration": 13,
    "start_time": "2022-01-31T08:27:35.324Z"
   },
   {
    "duration": 550,
    "start_time": "2022-01-31T08:27:35.340Z"
   },
   {
    "duration": 7,
    "start_time": "2022-01-31T08:27:35.893Z"
   },
   {
    "duration": 217,
    "start_time": "2022-01-31T08:27:35.903Z"
   },
   {
    "duration": 11,
    "start_time": "2022-01-31T08:27:36.123Z"
   },
   {
    "duration": 10,
    "start_time": "2022-01-31T08:27:36.136Z"
   },
   {
    "duration": 9,
    "start_time": "2022-01-31T08:27:36.148Z"
   },
   {
    "duration": 17,
    "start_time": "2022-01-31T08:27:36.160Z"
   },
   {
    "duration": 6626,
    "start_time": "2022-01-31T08:27:36.179Z"
   },
   {
    "duration": 20,
    "start_time": "2022-01-31T08:27:42.808Z"
   },
   {
    "duration": 29,
    "start_time": "2022-01-31T08:27:42.830Z"
   },
   {
    "duration": 62,
    "start_time": "2022-01-31T08:27:42.861Z"
   },
   {
    "duration": 32,
    "start_time": "2022-01-31T08:27:42.925Z"
   },
   {
    "duration": 26,
    "start_time": "2022-01-31T08:27:42.959Z"
   },
   {
    "duration": 61,
    "start_time": "2022-01-31T08:27:42.987Z"
   },
   {
    "duration": 373,
    "start_time": "2022-01-31T08:27:43.050Z"
   },
   {
    "duration": 3178,
    "start_time": "2022-01-31T08:27:43.425Z"
   },
   {
    "duration": 23,
    "start_time": "2022-01-31T08:27:46.606Z"
   },
   {
    "duration": 18,
    "start_time": "2022-01-31T08:29:01.949Z"
   },
   {
    "duration": 9,
    "start_time": "2022-01-31T08:38:49.604Z"
   },
   {
    "duration": 13,
    "start_time": "2022-01-31T08:43:16.803Z"
   },
   {
    "duration": 14,
    "start_time": "2022-01-31T08:44:23.548Z"
   },
   {
    "duration": 411,
    "start_time": "2022-01-31T08:45:05.808Z"
   },
   {
    "duration": 19,
    "start_time": "2022-01-31T08:45:35.397Z"
   },
   {
    "duration": 18,
    "start_time": "2022-01-31T08:45:58.660Z"
   },
   {
    "duration": 10,
    "start_time": "2022-01-31T08:46:52.907Z"
   },
   {
    "duration": 20,
    "start_time": "2022-01-31T08:47:45.322Z"
   },
   {
    "duration": 16,
    "start_time": "2022-01-31T08:48:33.881Z"
   },
   {
    "duration": 21,
    "start_time": "2022-01-31T08:49:30.785Z"
   },
   {
    "duration": 17,
    "start_time": "2022-01-31T08:49:51.136Z"
   },
   {
    "duration": 20,
    "start_time": "2022-01-31T08:50:17.472Z"
   },
   {
    "duration": 20,
    "start_time": "2022-01-31T08:55:31.476Z"
   },
   {
    "duration": 12,
    "start_time": "2022-01-31T08:55:45.193Z"
   },
   {
    "duration": 16,
    "start_time": "2022-01-31T08:55:47.763Z"
   },
   {
    "duration": 31,
    "start_time": "2022-01-31T08:57:01.659Z"
   },
   {
    "duration": 12,
    "start_time": "2022-01-31T08:57:18.802Z"
   },
   {
    "duration": 11,
    "start_time": "2022-01-31T08:57:36.962Z"
   },
   {
    "duration": 16,
    "start_time": "2022-01-31T08:57:38.331Z"
   },
   {
    "duration": 35,
    "start_time": "2022-01-31T08:57:53.327Z"
   },
   {
    "duration": 17,
    "start_time": "2022-01-31T08:57:53.874Z"
   },
   {
    "duration": 10,
    "start_time": "2022-01-31T08:59:42.552Z"
   },
   {
    "duration": 16,
    "start_time": "2022-01-31T08:59:44.383Z"
   },
   {
    "duration": 17,
    "start_time": "2022-01-31T09:00:35.335Z"
   },
   {
    "duration": 26,
    "start_time": "2022-01-31T09:00:36.096Z"
   },
   {
    "duration": 9,
    "start_time": "2022-01-31T09:01:57.342Z"
   },
   {
    "duration": 12,
    "start_time": "2022-01-31T09:01:58.798Z"
   },
   {
    "duration": 11,
    "start_time": "2022-01-31T09:02:22.111Z"
   },
   {
    "duration": 16,
    "start_time": "2022-01-31T09:02:23.198Z"
   },
   {
    "duration": 9,
    "start_time": "2022-01-31T09:04:06.639Z"
   },
   {
    "duration": 11,
    "start_time": "2022-01-31T09:04:07.892Z"
   },
   {
    "duration": 12,
    "start_time": "2022-01-31T09:06:15.076Z"
   },
   {
    "duration": 16,
    "start_time": "2022-01-31T09:06:15.571Z"
   },
   {
    "duration": 12,
    "start_time": "2022-01-31T09:06:36.298Z"
   },
   {
    "duration": 17,
    "start_time": "2022-01-31T09:06:37.377Z"
   },
   {
    "duration": 10,
    "start_time": "2022-01-31T09:08:41.329Z"
   },
   {
    "duration": 16,
    "start_time": "2022-01-31T09:08:42.624Z"
   },
   {
    "duration": 16,
    "start_time": "2022-01-31T09:09:25.776Z"
   },
   {
    "duration": 12,
    "start_time": "2022-01-31T09:09:26.151Z"
   },
   {
    "duration": 21,
    "start_time": "2022-01-31T09:10:11.703Z"
   },
   {
    "duration": 15,
    "start_time": "2022-01-31T09:10:12.103Z"
   },
   {
    "duration": 10,
    "start_time": "2022-01-31T09:10:41.566Z"
   },
   {
    "duration": 15,
    "start_time": "2022-01-31T09:10:41.958Z"
   },
   {
    "duration": 18,
    "start_time": "2022-01-31T09:11:05.414Z"
   },
   {
    "duration": 17,
    "start_time": "2022-01-31T09:11:05.877Z"
   },
   {
    "duration": 5,
    "start_time": "2022-01-31T09:13:31.644Z"
   },
   {
    "duration": 903,
    "start_time": "2022-01-31T09:14:00.976Z"
   },
   {
    "duration": 107,
    "start_time": "2022-01-31T09:14:01.883Z"
   },
   {
    "duration": 51,
    "start_time": "2022-01-31T09:14:01.997Z"
   },
   {
    "duration": 14,
    "start_time": "2022-01-31T09:14:02.050Z"
   },
   {
    "duration": 58,
    "start_time": "2022-01-31T09:14:02.067Z"
   },
   {
    "duration": 10,
    "start_time": "2022-01-31T09:14:02.127Z"
   },
   {
    "duration": 5,
    "start_time": "2022-01-31T09:14:02.142Z"
   },
   {
    "duration": 12,
    "start_time": "2022-01-31T09:14:02.150Z"
   },
   {
    "duration": 12,
    "start_time": "2022-01-31T09:14:02.165Z"
   },
   {
    "duration": 48,
    "start_time": "2022-01-31T09:14:02.180Z"
   },
   {
    "duration": 24,
    "start_time": "2022-01-31T09:14:02.231Z"
   },
   {
    "duration": 11,
    "start_time": "2022-01-31T09:14:02.257Z"
   },
   {
    "duration": 7,
    "start_time": "2022-01-31T09:14:02.271Z"
   },
   {
    "duration": 14,
    "start_time": "2022-01-31T09:14:02.324Z"
   },
   {
    "duration": 15,
    "start_time": "2022-01-31T09:14:02.341Z"
   },
   {
    "duration": 10,
    "start_time": "2022-01-31T09:14:02.359Z"
   },
   {
    "duration": 57,
    "start_time": "2022-01-31T09:14:02.372Z"
   },
   {
    "duration": 12,
    "start_time": "2022-01-31T09:14:02.431Z"
   },
   {
    "duration": 38,
    "start_time": "2022-01-31T09:14:02.445Z"
   },
   {
    "duration": 39,
    "start_time": "2022-01-31T09:14:02.485Z"
   },
   {
    "duration": 19,
    "start_time": "2022-01-31T09:14:02.527Z"
   },
   {
    "duration": 18,
    "start_time": "2022-01-31T09:14:02.554Z"
   },
   {
    "duration": 818,
    "start_time": "2022-01-31T09:14:02.575Z"
   },
   {
    "duration": 9,
    "start_time": "2022-01-31T09:14:03.405Z"
   },
   {
    "duration": 1991,
    "start_time": "2022-01-31T09:14:03.416Z"
   },
   {
    "duration": 24,
    "start_time": "2022-01-31T09:14:05.410Z"
   },
   {
    "duration": 10,
    "start_time": "2022-01-31T09:14:05.436Z"
   },
   {
    "duration": 11,
    "start_time": "2022-01-31T09:14:05.449Z"
   },
   {
    "duration": 18,
    "start_time": "2022-01-31T09:14:05.462Z"
   },
   {
    "duration": 49,
    "start_time": "2022-01-31T09:14:05.482Z"
   },
   {
    "duration": 9,
    "start_time": "2022-01-31T09:14:05.534Z"
   },
   {
    "duration": 7,
    "start_time": "2022-01-31T09:14:05.545Z"
   },
   {
    "duration": 18,
    "start_time": "2022-01-31T09:14:05.554Z"
   },
   {
    "duration": 53,
    "start_time": "2022-01-31T09:14:05.574Z"
   },
   {
    "duration": 13,
    "start_time": "2022-01-31T09:14:05.630Z"
   },
   {
    "duration": 564,
    "start_time": "2022-01-31T09:14:05.645Z"
   },
   {
    "duration": 6,
    "start_time": "2022-01-31T09:14:06.212Z"
   },
   {
    "duration": 218,
    "start_time": "2022-01-31T09:14:06.224Z"
   },
   {
    "duration": 13,
    "start_time": "2022-01-31T09:14:06.444Z"
   },
   {
    "duration": 10,
    "start_time": "2022-01-31T09:14:06.460Z"
   },
   {
    "duration": 9,
    "start_time": "2022-01-31T09:14:06.472Z"
   },
   {
    "duration": 52,
    "start_time": "2022-01-31T09:14:06.483Z"
   },
   {
    "duration": 6633,
    "start_time": "2022-01-31T09:14:06.537Z"
   },
   {
    "duration": 14,
    "start_time": "2022-01-31T09:14:13.173Z"
   },
   {
    "duration": 59,
    "start_time": "2022-01-31T09:14:13.190Z"
   },
   {
    "duration": 32,
    "start_time": "2022-01-31T09:14:13.251Z"
   },
   {
    "duration": 52,
    "start_time": "2022-01-31T09:14:13.285Z"
   },
   {
    "duration": 27,
    "start_time": "2022-01-31T09:14:13.339Z"
   },
   {
    "duration": 56,
    "start_time": "2022-01-31T09:14:13.368Z"
   },
   {
    "duration": 370,
    "start_time": "2022-01-31T09:14:13.427Z"
   },
   {
    "duration": 2489,
    "start_time": "2022-01-31T09:14:13.800Z"
   },
   {
    "duration": 12,
    "start_time": "2022-01-31T09:14:16.292Z"
   },
   {
    "duration": 856,
    "start_time": "2022-01-31T09:18:05.014Z"
   },
   {
    "duration": 95,
    "start_time": "2022-01-31T09:18:05.872Z"
   },
   {
    "duration": 39,
    "start_time": "2022-01-31T09:18:05.970Z"
   },
   {
    "duration": 13,
    "start_time": "2022-01-31T09:18:06.024Z"
   },
   {
    "duration": 31,
    "start_time": "2022-01-31T09:18:06.040Z"
   },
   {
    "duration": 8,
    "start_time": "2022-01-31T09:18:06.073Z"
   },
   {
    "duration": 40,
    "start_time": "2022-01-31T09:18:06.083Z"
   },
   {
    "duration": 9,
    "start_time": "2022-01-31T09:18:06.128Z"
   },
   {
    "duration": 14,
    "start_time": "2022-01-31T09:18:06.140Z"
   },
   {
    "duration": 8,
    "start_time": "2022-01-31T09:18:06.157Z"
   },
   {
    "duration": 61,
    "start_time": "2022-01-31T09:18:06.168Z"
   },
   {
    "duration": 9,
    "start_time": "2022-01-31T09:18:06.232Z"
   },
   {
    "duration": 9,
    "start_time": "2022-01-31T09:18:06.243Z"
   },
   {
    "duration": 13,
    "start_time": "2022-01-31T09:18:06.255Z"
   },
   {
    "duration": 54,
    "start_time": "2022-01-31T09:18:06.271Z"
   },
   {
    "duration": 10,
    "start_time": "2022-01-31T09:18:06.327Z"
   },
   {
    "duration": 19,
    "start_time": "2022-01-31T09:18:06.340Z"
   },
   {
    "duration": 12,
    "start_time": "2022-01-31T09:18:06.362Z"
   },
   {
    "duration": 66,
    "start_time": "2022-01-31T09:18:06.376Z"
   },
   {
    "duration": 6,
    "start_time": "2022-01-31T09:18:06.444Z"
   },
   {
    "duration": 13,
    "start_time": "2022-01-31T09:18:06.452Z"
   },
   {
    "duration": 16,
    "start_time": "2022-01-31T09:18:06.468Z"
   },
   {
    "duration": 801,
    "start_time": "2022-01-31T09:18:06.489Z"
   },
   {
    "duration": 9,
    "start_time": "2022-01-31T09:18:07.292Z"
   },
   {
    "duration": 1899,
    "start_time": "2022-01-31T09:18:07.304Z"
   },
   {
    "duration": 22,
    "start_time": "2022-01-31T09:18:09.206Z"
   },
   {
    "duration": 17,
    "start_time": "2022-01-31T09:18:09.231Z"
   },
   {
    "duration": 13,
    "start_time": "2022-01-31T09:18:09.250Z"
   },
   {
    "duration": 66,
    "start_time": "2022-01-31T09:18:09.266Z"
   },
   {
    "duration": 12,
    "start_time": "2022-01-31T09:18:09.335Z"
   },
   {
    "duration": 10,
    "start_time": "2022-01-31T09:18:09.349Z"
   },
   {
    "duration": 22,
    "start_time": "2022-01-31T09:18:09.362Z"
   },
   {
    "duration": 50,
    "start_time": "2022-01-31T09:18:09.386Z"
   },
   {
    "duration": 11,
    "start_time": "2022-01-31T09:18:09.438Z"
   },
   {
    "duration": 540,
    "start_time": "2022-01-31T09:18:09.452Z"
   },
   {
    "duration": 6,
    "start_time": "2022-01-31T09:18:09.995Z"
   },
   {
    "duration": 219,
    "start_time": "2022-01-31T09:18:10.004Z"
   },
   {
    "duration": 12,
    "start_time": "2022-01-31T09:18:10.226Z"
   },
   {
    "duration": 8,
    "start_time": "2022-01-31T09:18:10.241Z"
   },
   {
    "duration": 9,
    "start_time": "2022-01-31T09:18:10.251Z"
   },
   {
    "duration": 17,
    "start_time": "2022-01-31T09:18:10.262Z"
   },
   {
    "duration": 9125,
    "start_time": "2022-01-31T09:18:10.324Z"
   },
   {
    "duration": 15,
    "start_time": "2022-01-31T09:18:19.452Z"
   },
   {
    "duration": 31,
    "start_time": "2022-01-31T09:18:19.469Z"
   },
   {
    "duration": 39,
    "start_time": "2022-01-31T09:18:19.503Z"
   },
   {
    "duration": 31,
    "start_time": "2022-01-31T09:18:19.544Z"
   },
   {
    "duration": 27,
    "start_time": "2022-01-31T09:18:19.577Z"
   },
   {
    "duration": 46,
    "start_time": "2022-01-31T09:18:19.606Z"
   },
   {
    "duration": 583,
    "start_time": "2022-01-31T09:18:19.655Z"
   },
   {
    "duration": 2494,
    "start_time": "2022-01-31T09:18:20.241Z"
   },
   {
    "duration": 13,
    "start_time": "2022-01-31T09:18:22.737Z"
   },
   {
    "duration": 15,
    "start_time": "2022-01-31T09:19:29.511Z"
   },
   {
    "duration": 15,
    "start_time": "2022-01-31T09:19:29.918Z"
   },
   {
    "duration": 14,
    "start_time": "2022-01-31T09:22:11.611Z"
   },
   {
    "duration": 16,
    "start_time": "2022-01-31T09:22:12.635Z"
   },
   {
    "duration": 12,
    "start_time": "2022-01-31T09:22:23.078Z"
   },
   {
    "duration": 16,
    "start_time": "2022-01-31T09:22:23.651Z"
   },
   {
    "duration": 12,
    "start_time": "2022-01-31T09:22:46.372Z"
   },
   {
    "duration": 16,
    "start_time": "2022-01-31T09:22:46.893Z"
   },
   {
    "duration": 11,
    "start_time": "2022-01-31T09:23:43.907Z"
   },
   {
    "duration": 17,
    "start_time": "2022-01-31T09:23:44.379Z"
   },
   {
    "duration": 12,
    "start_time": "2022-01-31T09:24:17.211Z"
   },
   {
    "duration": 15,
    "start_time": "2022-01-31T09:24:17.659Z"
   },
   {
    "duration": 104,
    "start_time": "2022-01-31T09:24:34.219Z"
   },
   {
    "duration": 16,
    "start_time": "2022-01-31T09:24:35.282Z"
   },
   {
    "duration": 14,
    "start_time": "2022-01-31T09:25:18.449Z"
   },
   {
    "duration": 15,
    "start_time": "2022-01-31T09:25:19.033Z"
   },
   {
    "duration": 15,
    "start_time": "2022-01-31T09:26:19.511Z"
   },
   {
    "duration": 15,
    "start_time": "2022-01-31T09:26:19.792Z"
   },
   {
    "duration": 18,
    "start_time": "2022-01-31T09:26:48.920Z"
   },
   {
    "duration": 11,
    "start_time": "2022-01-31T09:26:49.353Z"
   },
   {
    "duration": 10,
    "start_time": "2022-01-31T09:28:14.559Z"
   },
   {
    "duration": 484,
    "start_time": "2022-01-31T09:32:27.139Z"
   },
   {
    "duration": 301,
    "start_time": "2022-01-31T09:33:01.355Z"
   },
   {
    "duration": 307,
    "start_time": "2022-01-31T09:40:41.884Z"
   },
   {
    "duration": 286,
    "start_time": "2022-01-31T09:40:53.396Z"
   },
   {
    "duration": 306,
    "start_time": "2022-01-31T09:42:03.003Z"
   },
   {
    "duration": 20,
    "start_time": "2022-01-31T09:42:49.172Z"
   },
   {
    "duration": 16,
    "start_time": "2022-01-31T09:42:51.778Z"
   },
   {
    "duration": 96,
    "start_time": "2022-01-31T09:43:36.873Z"
   },
   {
    "duration": 12,
    "start_time": "2022-01-31T09:43:39.697Z"
   },
   {
    "duration": 9,
    "start_time": "2022-01-31T09:43:51.420Z"
   },
   {
    "duration": 21,
    "start_time": "2022-01-31T09:44:39.649Z"
   },
   {
    "duration": 14,
    "start_time": "2022-01-31T09:44:40.170Z"
   },
   {
    "duration": 29,
    "start_time": "2022-01-31T09:44:54.384Z"
   },
   {
    "duration": 16,
    "start_time": "2022-01-31T09:44:55.472Z"
   },
   {
    "duration": 13,
    "start_time": "2022-01-31T09:47:58.853Z"
   },
   {
    "duration": 11,
    "start_time": "2022-01-31T09:49:00.502Z"
   },
   {
    "duration": 12,
    "start_time": "2022-01-31T09:49:24.924Z"
   },
   {
    "duration": 551,
    "start_time": "2022-01-31T09:49:46.277Z"
   },
   {
    "duration": 7,
    "start_time": "2022-01-31T09:50:12.507Z"
   },
   {
    "duration": 207,
    "start_time": "2022-01-31T09:50:26.339Z"
   },
   {
    "duration": 15,
    "start_time": "2022-01-31T09:50:33.380Z"
   },
   {
    "duration": 10,
    "start_time": "2022-01-31T09:50:51.683Z"
   },
   {
    "duration": 12,
    "start_time": "2022-01-31T09:50:59.219Z"
   },
   {
    "duration": 9,
    "start_time": "2022-01-31T09:51:10.699Z"
   },
   {
    "duration": 17,
    "start_time": "2022-01-31T09:51:20.258Z"
   },
   {
    "duration": 9233,
    "start_time": "2022-01-31T09:52:21.058Z"
   },
   {
    "duration": 14,
    "start_time": "2022-01-31T09:54:36.268Z"
   },
   {
    "duration": 45,
    "start_time": "2022-01-31T09:54:55.960Z"
   },
   {
    "duration": 33,
    "start_time": "2022-01-31T09:55:19.145Z"
   },
   {
    "duration": 30,
    "start_time": "2022-01-31T09:55:29.120Z"
   },
   {
    "duration": 1500,
    "start_time": "2022-01-31T09:56:44.687Z"
   },
   {
    "duration": 32,
    "start_time": "2022-01-31T09:57:10.198Z"
   },
   {
    "duration": 32,
    "start_time": "2022-01-31T09:58:27.598Z"
   },
   {
    "duration": 31,
    "start_time": "2022-01-31T09:58:48.020Z"
   },
   {
    "duration": 880,
    "start_time": "2022-01-31T10:02:10.896Z"
   },
   {
    "duration": 98,
    "start_time": "2022-01-31T10:02:11.779Z"
   },
   {
    "duration": 53,
    "start_time": "2022-01-31T10:02:11.880Z"
   },
   {
    "duration": 12,
    "start_time": "2022-01-31T10:02:11.936Z"
   },
   {
    "duration": 33,
    "start_time": "2022-01-31T10:02:11.950Z"
   },
   {
    "duration": 9,
    "start_time": "2022-01-31T10:02:11.985Z"
   },
   {
    "duration": 6,
    "start_time": "2022-01-31T10:02:12.025Z"
   },
   {
    "duration": 8,
    "start_time": "2022-01-31T10:02:12.035Z"
   },
   {
    "duration": 12,
    "start_time": "2022-01-31T10:02:12.046Z"
   },
   {
    "duration": 7,
    "start_time": "2022-01-31T10:02:12.060Z"
   },
   {
    "duration": 71,
    "start_time": "2022-01-31T10:02:12.070Z"
   },
   {
    "duration": 10,
    "start_time": "2022-01-31T10:02:12.143Z"
   },
   {
    "duration": 6,
    "start_time": "2022-01-31T10:02:12.155Z"
   },
   {
    "duration": 11,
    "start_time": "2022-01-31T10:02:12.164Z"
   },
   {
    "duration": 53,
    "start_time": "2022-01-31T10:02:12.178Z"
   },
   {
    "duration": 13,
    "start_time": "2022-01-31T10:02:12.234Z"
   },
   {
    "duration": 19,
    "start_time": "2022-01-31T10:02:12.249Z"
   },
   {
    "duration": 12,
    "start_time": "2022-01-31T10:02:12.271Z"
   },
   {
    "duration": 72,
    "start_time": "2022-01-31T10:02:12.285Z"
   },
   {
    "duration": 5,
    "start_time": "2022-01-31T10:02:12.360Z"
   },
   {
    "duration": 13,
    "start_time": "2022-01-31T10:02:12.368Z"
   },
   {
    "duration": 44,
    "start_time": "2022-01-31T10:02:12.384Z"
   },
   {
    "duration": 872,
    "start_time": "2022-01-31T10:02:12.433Z"
   },
   {
    "duration": 15,
    "start_time": "2022-01-31T10:02:13.308Z"
   },
   {
    "duration": 2065,
    "start_time": "2022-01-31T10:02:13.326Z"
   },
   {
    "duration": 12,
    "start_time": "2022-01-31T10:02:15.393Z"
   },
   {
    "duration": 23,
    "start_time": "2022-01-31T10:02:15.408Z"
   },
   {
    "duration": 11,
    "start_time": "2022-01-31T10:02:15.434Z"
   },
   {
    "duration": 20,
    "start_time": "2022-01-31T10:02:15.447Z"
   },
   {
    "duration": 12,
    "start_time": "2022-01-31T10:02:15.469Z"
   },
   {
    "duration": 10,
    "start_time": "2022-01-31T10:02:15.523Z"
   },
   {
    "duration": 30,
    "start_time": "2022-01-31T10:02:15.535Z"
   },
   {
    "duration": 860,
    "start_time": "2022-01-31T10:02:15.567Z"
   },
   {
    "duration": 9,
    "start_time": "2022-01-31T10:02:16.430Z"
   },
   {
    "duration": 228,
    "start_time": "2022-01-31T10:02:16.442Z"
   },
   {
    "duration": 12,
    "start_time": "2022-01-31T10:02:16.672Z"
   },
   {
    "duration": 37,
    "start_time": "2022-01-31T10:02:16.686Z"
   },
   {
    "duration": 9,
    "start_time": "2022-01-31T10:02:16.725Z"
   },
   {
    "duration": 18,
    "start_time": "2022-01-31T10:02:16.737Z"
   },
   {
    "duration": 9926,
    "start_time": "2022-01-31T10:02:16.757Z"
   },
   {
    "duration": 14,
    "start_time": "2022-01-31T10:02:26.686Z"
   },
   {
    "duration": 48,
    "start_time": "2022-01-31T10:02:26.703Z"
   },
   {
    "duration": 34,
    "start_time": "2022-01-31T10:02:26.754Z"
   },
   {
    "duration": 61,
    "start_time": "2022-01-31T10:02:26.790Z"
   },
   {
    "duration": 32,
    "start_time": "2022-01-31T10:02:26.853Z"
   },
   {
    "duration": 63,
    "start_time": "2022-01-31T10:02:26.887Z"
   },
   {
    "duration": 390,
    "start_time": "2022-01-31T10:02:26.953Z"
   },
   {
    "duration": 2598,
    "start_time": "2022-01-31T10:02:27.345Z"
   },
   {
    "duration": 12,
    "start_time": "2022-01-31T10:02:29.946Z"
   },
   {
    "duration": 2771,
    "start_time": "2022-01-31T10:03:50.279Z"
   },
   {
    "duration": 14,
    "start_time": "2022-01-31T10:03:56.375Z"
   },
   {
    "duration": 11388,
    "start_time": "2022-01-31T10:08:35.339Z"
   },
   {
    "duration": 8789,
    "start_time": "2022-01-31T10:09:10.268Z"
   },
   {
    "duration": 2884,
    "start_time": "2022-01-31T10:09:28.084Z"
   },
   {
    "duration": 8865,
    "start_time": "2022-01-31T10:09:56.161Z"
   },
   {
    "duration": 2506,
    "start_time": "2022-01-31T10:10:05.029Z"
   },
   {
    "duration": 120,
    "start_time": "2022-01-31T10:13:12.959Z"
   },
   {
    "duration": 8111,
    "start_time": "2022-01-31T10:13:21.015Z"
   },
   {
    "duration": 8460,
    "start_time": "2022-01-31T10:15:01.797Z"
   },
   {
    "duration": 8206,
    "start_time": "2022-01-31T10:15:18.821Z"
   },
   {
    "duration": 733,
    "start_time": "2022-01-31T10:15:36.076Z"
   },
   {
    "duration": 2382,
    "start_time": "2022-01-31T10:15:43.973Z"
   },
   {
    "duration": 1009,
    "start_time": "2022-01-31T11:08:42.367Z"
   },
   {
    "duration": 102,
    "start_time": "2022-01-31T11:15:00.633Z"
   },
   {
    "duration": 1013,
    "start_time": "2022-01-31T11:25:13.439Z"
   },
   {
    "duration": 105,
    "start_time": "2022-01-31T11:25:14.456Z"
   },
   {
    "duration": 39,
    "start_time": "2022-01-31T11:25:14.564Z"
   },
   {
    "duration": 32,
    "start_time": "2022-01-31T11:25:14.606Z"
   },
   {
    "duration": 35,
    "start_time": "2022-01-31T11:25:14.641Z"
   },
   {
    "duration": 44,
    "start_time": "2022-01-31T11:25:14.679Z"
   },
   {
    "duration": 4,
    "start_time": "2022-01-31T11:25:14.726Z"
   },
   {
    "duration": 10,
    "start_time": "2022-01-31T11:25:14.734Z"
   },
   {
    "duration": 13,
    "start_time": "2022-01-31T11:25:14.747Z"
   },
   {
    "duration": 9,
    "start_time": "2022-01-31T11:25:14.762Z"
   },
   {
    "duration": 73,
    "start_time": "2022-01-31T11:25:14.773Z"
   },
   {
    "duration": 11,
    "start_time": "2022-01-31T11:25:14.849Z"
   },
   {
    "duration": 6,
    "start_time": "2022-01-31T11:25:14.863Z"
   },
   {
    "duration": 57,
    "start_time": "2022-01-31T11:25:14.873Z"
   },
   {
    "duration": 11,
    "start_time": "2022-01-31T11:25:14.933Z"
   },
   {
    "duration": 10,
    "start_time": "2022-01-31T11:25:14.947Z"
   },
   {
    "duration": 63,
    "start_time": "2022-01-31T11:25:14.960Z"
   },
   {
    "duration": 19,
    "start_time": "2022-01-31T11:25:15.026Z"
   },
   {
    "duration": 46,
    "start_time": "2022-01-31T11:25:15.047Z"
   },
   {
    "duration": 5,
    "start_time": "2022-01-31T11:25:15.096Z"
   },
   {
    "duration": 35,
    "start_time": "2022-01-31T11:25:15.103Z"
   },
   {
    "duration": 20,
    "start_time": "2022-01-31T11:25:15.141Z"
   },
   {
    "duration": 802,
    "start_time": "2022-01-31T11:25:15.167Z"
   },
   {
    "duration": 8,
    "start_time": "2022-01-31T11:25:15.973Z"
   },
   {
    "duration": 2112,
    "start_time": "2022-01-31T11:25:15.984Z"
   },
   {
    "duration": 26,
    "start_time": "2022-01-31T11:25:18.099Z"
   },
   {
    "duration": 10,
    "start_time": "2022-01-31T11:25:18.128Z"
   },
   {
    "duration": 11,
    "start_time": "2022-01-31T11:25:18.141Z"
   },
   {
    "duration": 71,
    "start_time": "2022-01-31T11:25:18.155Z"
   },
   {
    "duration": 15,
    "start_time": "2022-01-31T11:25:18.229Z"
   },
   {
    "duration": 12,
    "start_time": "2022-01-31T11:25:18.246Z"
   },
   {
    "duration": 75,
    "start_time": "2022-01-31T11:25:18.261Z"
   },
   {
    "duration": 601,
    "start_time": "2022-01-31T11:25:18.340Z"
   },
   {
    "duration": 7,
    "start_time": "2022-01-31T11:25:18.943Z"
   },
   {
    "duration": 227,
    "start_time": "2022-01-31T11:25:18.952Z"
   },
   {
    "duration": 11,
    "start_time": "2022-01-31T11:25:19.182Z"
   },
   {
    "duration": 29,
    "start_time": "2022-01-31T11:25:19.196Z"
   },
   {
    "duration": 9,
    "start_time": "2022-01-31T11:25:19.227Z"
   },
   {
    "duration": 19,
    "start_time": "2022-01-31T11:25:19.239Z"
   },
   {
    "duration": 8808,
    "start_time": "2022-01-31T11:25:19.261Z"
   },
   {
    "duration": 14,
    "start_time": "2022-01-31T11:25:28.071Z"
   },
   {
    "duration": 51,
    "start_time": "2022-01-31T11:25:28.087Z"
   },
   {
    "duration": 32,
    "start_time": "2022-01-31T11:25:28.141Z"
   },
   {
    "duration": 80,
    "start_time": "2022-01-31T11:25:28.177Z"
   },
   {
    "duration": 65,
    "start_time": "2022-01-31T11:25:28.260Z"
   },
   {
    "duration": 55,
    "start_time": "2022-01-31T11:25:28.329Z"
   },
   {
    "duration": 525,
    "start_time": "2022-01-31T11:25:28.387Z"
   },
   {
    "duration": 4356,
    "start_time": "2022-01-31T11:25:28.915Z"
   },
   {
    "duration": 14,
    "start_time": "2022-01-31T11:25:33.273Z"
   },
   {
    "duration": 8284,
    "start_time": "2022-01-31T11:25:33.290Z"
   },
   {
    "duration": 2254,
    "start_time": "2022-01-31T11:25:41.576Z"
   }
  ],
  "kernelspec": {
   "display_name": "Python 3 (ipykernel)",
   "language": "python",
   "name": "python3"
  },
  "language_info": {
   "codemirror_mode": {
    "name": "ipython",
    "version": 3
   },
   "file_extension": ".py",
   "mimetype": "text/x-python",
   "name": "python",
   "nbconvert_exporter": "python",
   "pygments_lexer": "ipython3",
   "version": "3.9.7"
  },
  "toc": {
   "base_numbering": 1,
   "nav_menu": {},
   "number_sections": true,
   "sideBar": true,
   "skip_h1_title": true,
   "title_cell": "Содержание",
   "title_sidebar": "Contents",
   "toc_cell": true,
   "toc_position": {
    "height": "calc(100% - 180px)",
    "left": "10px",
    "top": "150px",
    "width": "224.391px"
   },
   "toc_section_display": true,
   "toc_window_display": true
  }
 },
 "nbformat": 4,
 "nbformat_minor": 4
}
