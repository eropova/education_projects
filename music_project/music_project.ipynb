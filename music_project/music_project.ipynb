{
 "cells": [
  {
   "cell_type": "markdown",
   "metadata": {
    "id": "E0vqbgi9ay0H"
   },
   "source": [
    "# Яндекс.Музыка"
   ]
  },
  {
   "cell_type": "markdown",
   "metadata": {
    "id": "VUC88oWjTJw2"
   },
   "source": [
    "**Цель исследования** — проверить три гипотезы сравните поведение пользователей двух столиц на данных Яндекс.Музыки:\n",
    "1. Активность пользователей зависит от дня недели. Причём в Москве и Петербурге это проявляется по-разному.\n",
    "2. В понедельник утром в Москве преобладают одни жанры, а в Петербурге — другие. Так же и вечером пятницы преобладают разные жанры — в зависимости от города. \n",
    "3. Москва и Петербург предпочитают разные жанры музыки. В Москве чаще слушают поп-музыку, в Петербурге — русский рэп.\n",
    "\n",
    "**Ход исследования**  \n",
    "\n",
    "Исследование пройдёт в три этапа:\n",
    " 1. Обзор данных.\n",
    " 2. Предобработка данных.\n",
    " 3. Проверка гипотез.\n",
    "\n"
   ]
  },
  {
   "cell_type": "markdown",
   "metadata": {
    "id": "Ml1hmfXC_Zcs",
    "tags": []
   },
   "source": [
    "## Обзор данных"
   ]
  },
  {
   "cell_type": "code",
   "execution_count": 1,
   "metadata": {
    "id": "AXN7PHPN_Zcs"
   },
   "outputs": [],
   "source": [
    "import pandas as pd"
   ]
  },
  {
   "cell_type": "code",
   "execution_count": 2,
   "metadata": {
    "id": "fFVu7vqh_Zct"
   },
   "outputs": [],
   "source": [
    "local_path = './yandex_music_project.csv'\n",
    "server_path = '/datasets/yandex_music_project.csv'\n",
    "try:\n",
    "    df = pd.read_csv(local_path)\n",
    "except:\n",
    "    df = pd.read_csv(server_path)"
   ]
  },
  {
   "cell_type": "markdown",
   "metadata": {
    "id": "rDoOMd3uTqnZ"
   },
   "source": [
    "Для ознакомления с DF выведем его первые 10 строк:"
   ]
  },
  {
   "cell_type": "code",
   "execution_count": 3,
   "metadata": {
    "id": "oWTVX3gW_Zct"
   },
   "outputs": [
    {
     "data": {
      "text/html": [
       "<div>\n",
       "<style scoped>\n",
       "    .dataframe tbody tr th:only-of-type {\n",
       "        vertical-align: middle;\n",
       "    }\n",
       "\n",
       "    .dataframe tbody tr th {\n",
       "        vertical-align: top;\n",
       "    }\n",
       "\n",
       "    .dataframe thead th {\n",
       "        text-align: right;\n",
       "    }\n",
       "</style>\n",
       "<table border=\"1\" class=\"dataframe\">\n",
       "  <thead>\n",
       "    <tr style=\"text-align: right;\">\n",
       "      <th></th>\n",
       "      <th>userID</th>\n",
       "      <th>Track</th>\n",
       "      <th>artist</th>\n",
       "      <th>genre</th>\n",
       "      <th>City</th>\n",
       "      <th>time</th>\n",
       "      <th>Day</th>\n",
       "    </tr>\n",
       "  </thead>\n",
       "  <tbody>\n",
       "    <tr>\n",
       "      <th>0</th>\n",
       "      <td>FFB692EC</td>\n",
       "      <td>Kamigata To Boots</td>\n",
       "      <td>The Mass Missile</td>\n",
       "      <td>rock</td>\n",
       "      <td>Saint-Petersburg</td>\n",
       "      <td>20:28:33</td>\n",
       "      <td>Wednesday</td>\n",
       "    </tr>\n",
       "    <tr>\n",
       "      <th>1</th>\n",
       "      <td>55204538</td>\n",
       "      <td>Delayed Because of Accident</td>\n",
       "      <td>Andreas Rönnberg</td>\n",
       "      <td>rock</td>\n",
       "      <td>Moscow</td>\n",
       "      <td>14:07:09</td>\n",
       "      <td>Friday</td>\n",
       "    </tr>\n",
       "    <tr>\n",
       "      <th>2</th>\n",
       "      <td>20EC38</td>\n",
       "      <td>Funiculì funiculà</td>\n",
       "      <td>Mario Lanza</td>\n",
       "      <td>pop</td>\n",
       "      <td>Saint-Petersburg</td>\n",
       "      <td>20:58:07</td>\n",
       "      <td>Wednesday</td>\n",
       "    </tr>\n",
       "    <tr>\n",
       "      <th>3</th>\n",
       "      <td>A3DD03C9</td>\n",
       "      <td>Dragons in the Sunset</td>\n",
       "      <td>Fire + Ice</td>\n",
       "      <td>folk</td>\n",
       "      <td>Saint-Petersburg</td>\n",
       "      <td>08:37:09</td>\n",
       "      <td>Monday</td>\n",
       "    </tr>\n",
       "    <tr>\n",
       "      <th>4</th>\n",
       "      <td>E2DC1FAE</td>\n",
       "      <td>Soul People</td>\n",
       "      <td>Space Echo</td>\n",
       "      <td>dance</td>\n",
       "      <td>Moscow</td>\n",
       "      <td>08:34:34</td>\n",
       "      <td>Monday</td>\n",
       "    </tr>\n",
       "    <tr>\n",
       "      <th>5</th>\n",
       "      <td>842029A1</td>\n",
       "      <td>Преданная</td>\n",
       "      <td>IMPERVTOR</td>\n",
       "      <td>rusrap</td>\n",
       "      <td>Saint-Petersburg</td>\n",
       "      <td>13:09:41</td>\n",
       "      <td>Friday</td>\n",
       "    </tr>\n",
       "    <tr>\n",
       "      <th>6</th>\n",
       "      <td>4CB90AA5</td>\n",
       "      <td>True</td>\n",
       "      <td>Roman Messer</td>\n",
       "      <td>dance</td>\n",
       "      <td>Moscow</td>\n",
       "      <td>13:00:07</td>\n",
       "      <td>Wednesday</td>\n",
       "    </tr>\n",
       "    <tr>\n",
       "      <th>7</th>\n",
       "      <td>F03E1C1F</td>\n",
       "      <td>Feeling This Way</td>\n",
       "      <td>Polina Griffith</td>\n",
       "      <td>dance</td>\n",
       "      <td>Moscow</td>\n",
       "      <td>20:47:49</td>\n",
       "      <td>Wednesday</td>\n",
       "    </tr>\n",
       "    <tr>\n",
       "      <th>8</th>\n",
       "      <td>8FA1D3BE</td>\n",
       "      <td>И вновь продолжается бой</td>\n",
       "      <td>NaN</td>\n",
       "      <td>ruspop</td>\n",
       "      <td>Moscow</td>\n",
       "      <td>09:17:40</td>\n",
       "      <td>Friday</td>\n",
       "    </tr>\n",
       "    <tr>\n",
       "      <th>9</th>\n",
       "      <td>E772D5C0</td>\n",
       "      <td>Pessimist</td>\n",
       "      <td>NaN</td>\n",
       "      <td>dance</td>\n",
       "      <td>Saint-Petersburg</td>\n",
       "      <td>21:20:49</td>\n",
       "      <td>Wednesday</td>\n",
       "    </tr>\n",
       "  </tbody>\n",
       "</table>\n",
       "</div>"
      ],
      "text/plain": [
       "     userID                        Track            artist   genre  \\\n",
       "0  FFB692EC            Kamigata To Boots  The Mass Missile    rock   \n",
       "1  55204538  Delayed Because of Accident  Andreas Rönnberg    rock   \n",
       "2    20EC38            Funiculì funiculà       Mario Lanza     pop   \n",
       "3  A3DD03C9        Dragons in the Sunset        Fire + Ice    folk   \n",
       "4  E2DC1FAE                  Soul People        Space Echo   dance   \n",
       "5  842029A1                    Преданная         IMPERVTOR  rusrap   \n",
       "6  4CB90AA5                         True      Roman Messer   dance   \n",
       "7  F03E1C1F             Feeling This Way   Polina Griffith   dance   \n",
       "8  8FA1D3BE     И вновь продолжается бой               NaN  ruspop   \n",
       "9  E772D5C0                    Pessimist               NaN   dance   \n",
       "\n",
       "             City        time        Day  \n",
       "0  Saint-Petersburg  20:28:33  Wednesday  \n",
       "1            Moscow  14:07:09     Friday  \n",
       "2  Saint-Petersburg  20:58:07  Wednesday  \n",
       "3  Saint-Petersburg  08:37:09     Monday  \n",
       "4            Moscow  08:34:34     Monday  \n",
       "5  Saint-Petersburg  13:09:41     Friday  \n",
       "6            Moscow  13:00:07  Wednesday  \n",
       "7            Moscow  20:47:49  Wednesday  \n",
       "8            Moscow  09:17:40     Friday  \n",
       "9  Saint-Petersburg  21:20:49  Wednesday  "
      ]
     },
     "execution_count": 3,
     "metadata": {},
     "output_type": "execute_result"
    }
   ],
   "source": [
    "df.head(10)"
   ]
  },
  {
   "cell_type": "markdown",
   "metadata": {
    "id": "EO73Kwic_Zct"
   },
   "source": [
    "Получим общую информацию о таблице:"
   ]
  },
  {
   "cell_type": "code",
   "execution_count": 4,
   "metadata": {
    "id": "DSf2kIb-_Zct"
   },
   "outputs": [
    {
     "name": "stdout",
     "output_type": "stream",
     "text": [
      "<class 'pandas.core.frame.DataFrame'>\n",
      "RangeIndex: 65079 entries, 0 to 65078\n",
      "Data columns (total 7 columns):\n",
      " #   Column    Non-Null Count  Dtype \n",
      "---  ------    --------------  ----- \n",
      " 0     userID  65079 non-null  object\n",
      " 1   Track     63848 non-null  object\n",
      " 2   artist    57876 non-null  object\n",
      " 3   genre     63881 non-null  object\n",
      " 4     City    65079 non-null  object\n",
      " 5   time      65079 non-null  object\n",
      " 6   Day       65079 non-null  object\n",
      "dtypes: object(7)\n",
      "memory usage: 3.5+ MB\n"
     ]
    }
   ],
   "source": [
    "df.info()"
   ]
  },
  {
   "cell_type": "markdown",
   "metadata": {
    "id": "TaQ2Iwbr_Zct"
   },
   "source": [
    "В названиях колонок видны три нарушения стиля:\n",
    "1. строчные буквы сочетаются с прописными,\n",
    "2. встречаются пробелы в начале строки названия,\n",
    "3. названия колонок состоят из нескольких слов и в качестве разделителя использован пробел вместо _.  \n",
    "\n",
    "Кроме того количество значений в столбцах различается. Значит, в данных есть пропущенные значения."
   ]
  },
  {
   "cell_type": "markdown",
   "metadata": {
    "id": "MCB6-dXG_Zct"
   },
   "source": [
    "**Вывод**\n",
    "\n",
    "В каждой строке таблицы — данные о прослушанном треке. Часть колонок описывает саму композицию: название, исполнителя и жанр. Остальные данные рассказывают о пользователе: из какого он города, когда он слушал музыку. \n",
    "\n",
    "Предварительно можно утверждать, что, данных достаточно для проверки гипотез. Но встречаются пропуски в данных, а в названиях колонок — расхождения с хорошим стилем."
   ]
  },
  {
   "cell_type": "markdown",
   "metadata": {
    "id": "SjYF6Ub9_Zct"
   },
   "source": [
    "## Предобработка данных\n",
    "Исправим стиль в заголовках столбцов, исключим пропуски, а затем проверим данные на дубликаты."
   ]
  },
  {
   "cell_type": "markdown",
   "metadata": {
    "id": "dIaKXr29_Zct",
    "tags": []
   },
   "source": [
    "### Стиль заголовков"
   ]
  },
  {
   "cell_type": "code",
   "execution_count": 5,
   "metadata": {
    "id": "oKOTdF_Q_Zct"
   },
   "outputs": [
    {
     "data": {
      "text/plain": [
       "Index(['  userID', 'Track', 'artist', 'genre', '  City  ', 'time', 'Day'], dtype='object')"
      ]
     },
     "execution_count": 5,
     "metadata": {},
     "output_type": "execute_result"
    }
   ],
   "source": [
    "df.columns"
   ]
  },
  {
   "cell_type": "code",
   "execution_count": 6,
   "metadata": {
    "id": "ISlFqs5y_Zct"
   },
   "outputs": [],
   "source": [
    "df = df.rename(columns= {\n",
    "    '  userID': 'user_id', \n",
    "    'Track': 'track', \n",
    "    '  City  ': 'city', \n",
    "    'Day': 'day'})"
   ]
  },
  {
   "cell_type": "code",
   "execution_count": 7,
   "metadata": {
    "id": "d4NOAmTW_Zct"
   },
   "outputs": [
    {
     "data": {
      "text/plain": [
       "Index(['user_id', 'track', 'artist', 'genre', 'city', 'time', 'day'], dtype='object')"
      ]
     },
     "execution_count": 7,
     "metadata": {},
     "output_type": "execute_result"
    }
   ],
   "source": [
    "df.columns"
   ]
  },
  {
   "cell_type": "markdown",
   "metadata": {
    "id": "5ISfbcfY_Zct"
   },
   "source": [
    "### Пропуски значений"
   ]
  },
  {
   "cell_type": "code",
   "execution_count": 8,
   "metadata": {
    "id": "RskX29qr_Zct"
   },
   "outputs": [
    {
     "data": {
      "text/plain": [
       "user_id       0\n",
       "track      1231\n",
       "artist     7203\n",
       "genre      1198\n",
       "city          0\n",
       "time          0\n",
       "day           0\n",
       "dtype: int64"
      ]
     },
     "execution_count": 8,
     "metadata": {},
     "output_type": "execute_result"
    }
   ],
   "source": [
    "df.isna().sum()"
   ]
  },
  {
   "cell_type": "markdown",
   "metadata": {
    "id": "qubhgnlO_Zct"
   },
   "source": [
    "Пропуски есть в трех колонках: `track`, `artist` и `genre`. В первых двух пропуски не важны для решения поставленной задачи, а в третьей пропуски могут оказать влияние на конечный вывод. Для начала заменим пропуски во всех колонках значением `'unknown'`."
   ]
  },
  {
   "cell_type": "code",
   "execution_count": 9,
   "metadata": {
    "id": "KplB5qWs_Zct"
   },
   "outputs": [],
   "source": [
    "columns_to_replace = ['track', 'artist', 'genre']\n",
    "for column in columns_to_replace:\n",
    "    df[column] = df[column].fillna('unknown')"
   ]
  },
  {
   "cell_type": "code",
   "execution_count": 10,
   "metadata": {
    "id": "Tq4nYRX4_Zct"
   },
   "outputs": [
    {
     "data": {
      "text/plain": [
       "user_id    0\n",
       "track      0\n",
       "artist     0\n",
       "genre      0\n",
       "city       0\n",
       "time       0\n",
       "day        0\n",
       "dtype: int64"
      ]
     },
     "execution_count": 10,
     "metadata": {},
     "output_type": "execute_result"
    }
   ],
   "source": [
    "# проверим заполнение пропусков\n",
    "df.isna().sum()"
   ]
  },
  {
   "cell_type": "markdown",
   "metadata": {
    "id": "BWKRtBJ3_Zct"
   },
   "source": [
    "### Дубликаты"
   ]
  },
  {
   "cell_type": "code",
   "execution_count": 11,
   "metadata": {
    "id": "36eES_S0_Zct"
   },
   "outputs": [
    {
     "data": {
      "text/plain": [
       "3826"
      ]
     },
     "execution_count": 11,
     "metadata": {},
     "output_type": "execute_result"
    }
   ],
   "source": [
    "df.duplicated().sum()"
   ]
  },
  {
   "cell_type": "code",
   "execution_count": 12,
   "metadata": {
    "id": "exFHq6tt_Zct"
   },
   "outputs": [],
   "source": [
    "# удаление явных дубликатов (с удалением старых индексов и формированием новых)\n",
    "df = df.drop_duplicates().reset_index(drop=True)"
   ]
  },
  {
   "cell_type": "code",
   "execution_count": 13,
   "metadata": {
    "id": "-8PuNWQ0_Zct"
   },
   "outputs": [
    {
     "data": {
      "text/plain": [
       "0"
      ]
     },
     "execution_count": 13,
     "metadata": {},
     "output_type": "execute_result"
    }
   ],
   "source": [
    "# проверка на отсутствие дубликатов\n",
    "df.duplicated().sum()"
   ]
  },
  {
   "cell_type": "markdown",
   "metadata": {
    "id": "QlFBsxAr_Zct"
   },
   "source": [
    "Далее проведем очистку от неявных дубликатов в колонке `genre`."
   ]
  },
  {
   "cell_type": "code",
   "execution_count": 14,
   "metadata": {
    "id": "JIUcqzZN_Zct"
   },
   "outputs": [
    {
     "data": {
      "text/plain": [
       "['acid',\n",
       " 'acoustic',\n",
       " 'action',\n",
       " 'adult',\n",
       " 'africa',\n",
       " 'afrikaans',\n",
       " 'alternative',\n",
       " 'alternativepunk',\n",
       " 'ambient',\n",
       " 'americana',\n",
       " 'animated',\n",
       " 'anime',\n",
       " 'arabesk',\n",
       " 'arabic',\n",
       " 'arena',\n",
       " 'argentinetango',\n",
       " 'art',\n",
       " 'audiobook',\n",
       " 'author',\n",
       " 'avantgarde',\n",
       " 'axé',\n",
       " 'baile',\n",
       " 'balkan',\n",
       " 'beats',\n",
       " 'bigroom',\n",
       " 'black',\n",
       " 'bluegrass',\n",
       " 'blues',\n",
       " 'bollywood',\n",
       " 'bossa',\n",
       " 'brazilian',\n",
       " 'breakbeat',\n",
       " 'breaks',\n",
       " 'broadway',\n",
       " 'cantautori',\n",
       " 'cantopop',\n",
       " 'canzone',\n",
       " 'caribbean',\n",
       " 'caucasian',\n",
       " 'celtic',\n",
       " 'chamber',\n",
       " 'chanson',\n",
       " 'children',\n",
       " 'chill',\n",
       " 'chinese',\n",
       " 'choral',\n",
       " 'christian',\n",
       " 'christmas',\n",
       " 'classical',\n",
       " 'classicmetal',\n",
       " 'club',\n",
       " 'colombian',\n",
       " 'comedy',\n",
       " 'conjazz',\n",
       " 'contemporary',\n",
       " 'country',\n",
       " 'cuban',\n",
       " 'dance',\n",
       " 'dancehall',\n",
       " 'dancepop',\n",
       " 'dark',\n",
       " 'death',\n",
       " 'deep',\n",
       " 'deutschrock',\n",
       " 'deutschspr',\n",
       " 'dirty',\n",
       " 'disco',\n",
       " 'dnb',\n",
       " 'documentary',\n",
       " 'downbeat',\n",
       " 'downtempo',\n",
       " 'drum',\n",
       " 'dub',\n",
       " 'dubstep',\n",
       " 'eastern',\n",
       " 'easy',\n",
       " 'electronic',\n",
       " 'electropop',\n",
       " 'emo',\n",
       " 'entehno',\n",
       " 'epicmetal',\n",
       " 'estrada',\n",
       " 'ethnic',\n",
       " 'eurofolk',\n",
       " 'european',\n",
       " 'experimental',\n",
       " 'extrememetal',\n",
       " 'fado',\n",
       " 'fairytail',\n",
       " 'film',\n",
       " 'fitness',\n",
       " 'flamenco',\n",
       " 'folk',\n",
       " 'folklore',\n",
       " 'folkmetal',\n",
       " 'folkrock',\n",
       " 'folktronica',\n",
       " 'forró',\n",
       " 'frankreich',\n",
       " 'französisch',\n",
       " 'french',\n",
       " 'funk',\n",
       " 'future',\n",
       " 'gangsta',\n",
       " 'garage',\n",
       " 'german',\n",
       " 'ghazal',\n",
       " 'gitarre',\n",
       " 'glitch',\n",
       " 'gospel',\n",
       " 'gothic',\n",
       " 'grime',\n",
       " 'grunge',\n",
       " 'gypsy',\n",
       " 'handsup',\n",
       " \"hard'n'heavy\",\n",
       " 'hardcore',\n",
       " 'hardstyle',\n",
       " 'hardtechno',\n",
       " 'hip',\n",
       " 'hip-hop',\n",
       " 'hiphop',\n",
       " 'historisch',\n",
       " 'holiday',\n",
       " 'hop',\n",
       " 'horror',\n",
       " 'house',\n",
       " 'hymn',\n",
       " 'idm',\n",
       " 'independent',\n",
       " 'indian',\n",
       " 'indie',\n",
       " 'indipop',\n",
       " 'industrial',\n",
       " 'inspirational',\n",
       " 'instrumental',\n",
       " 'international',\n",
       " 'irish',\n",
       " 'jam',\n",
       " 'japanese',\n",
       " 'jazz',\n",
       " 'jewish',\n",
       " 'jpop',\n",
       " 'jungle',\n",
       " 'k-pop',\n",
       " 'karadeniz',\n",
       " 'karaoke',\n",
       " 'kayokyoku',\n",
       " 'korean',\n",
       " 'laiko',\n",
       " 'latin',\n",
       " 'latino',\n",
       " 'leftfield',\n",
       " 'local',\n",
       " 'lounge',\n",
       " 'loungeelectronic',\n",
       " 'lovers',\n",
       " 'malaysian',\n",
       " 'mandopop',\n",
       " 'marschmusik',\n",
       " 'meditative',\n",
       " 'mediterranean',\n",
       " 'melodic',\n",
       " 'metal',\n",
       " 'metalcore',\n",
       " 'mexican',\n",
       " 'middle',\n",
       " 'minimal',\n",
       " 'miscellaneous',\n",
       " 'modern',\n",
       " 'mood',\n",
       " 'mpb',\n",
       " 'muslim',\n",
       " 'native',\n",
       " 'neoklassik',\n",
       " 'neue',\n",
       " 'new',\n",
       " 'newage',\n",
       " 'newwave',\n",
       " 'nu',\n",
       " 'nujazz',\n",
       " 'numetal',\n",
       " 'oceania',\n",
       " 'old',\n",
       " 'opera',\n",
       " 'orchestral',\n",
       " 'other',\n",
       " 'piano',\n",
       " 'podcasts',\n",
       " 'pop',\n",
       " 'popdance',\n",
       " 'popelectronic',\n",
       " 'popeurodance',\n",
       " 'poprussian',\n",
       " 'post',\n",
       " 'posthardcore',\n",
       " 'postrock',\n",
       " 'power',\n",
       " 'progmetal',\n",
       " 'progressive',\n",
       " 'psychedelic',\n",
       " 'punjabi',\n",
       " 'punk',\n",
       " 'quebecois',\n",
       " 'ragga',\n",
       " 'ram',\n",
       " 'rancheras',\n",
       " 'rap',\n",
       " 'rave',\n",
       " 'reggae',\n",
       " 'reggaeton',\n",
       " 'regional',\n",
       " 'relax',\n",
       " 'religious',\n",
       " 'retro',\n",
       " 'rhythm',\n",
       " 'rnb',\n",
       " 'rnr',\n",
       " 'rock',\n",
       " 'rockabilly',\n",
       " 'rockalternative',\n",
       " 'rockindie',\n",
       " 'rockother',\n",
       " 'romance',\n",
       " 'roots',\n",
       " 'ruspop',\n",
       " 'rusrap',\n",
       " 'rusrock',\n",
       " 'russian',\n",
       " 'salsa',\n",
       " 'samba',\n",
       " 'scenic',\n",
       " 'schlager',\n",
       " 'self',\n",
       " 'sertanejo',\n",
       " 'shanson',\n",
       " 'shoegazing',\n",
       " 'showtunes',\n",
       " 'singer',\n",
       " 'ska',\n",
       " 'skarock',\n",
       " 'slow',\n",
       " 'smooth',\n",
       " 'soft',\n",
       " 'soul',\n",
       " 'soulful',\n",
       " 'sound',\n",
       " 'soundtrack',\n",
       " 'southern',\n",
       " 'specialty',\n",
       " 'speech',\n",
       " 'spiritual',\n",
       " 'sport',\n",
       " 'stonerrock',\n",
       " 'surf',\n",
       " 'swing',\n",
       " 'synthpop',\n",
       " 'synthrock',\n",
       " 'sängerportrait',\n",
       " 'tango',\n",
       " 'tanzorchester',\n",
       " 'taraftar',\n",
       " 'tatar',\n",
       " 'tech',\n",
       " 'techno',\n",
       " 'teen',\n",
       " 'thrash',\n",
       " 'top',\n",
       " 'traditional',\n",
       " 'tradjazz',\n",
       " 'trance',\n",
       " 'tribal',\n",
       " 'trip',\n",
       " 'triphop',\n",
       " 'tropical',\n",
       " 'türk',\n",
       " 'türkçe',\n",
       " 'ukrrock',\n",
       " 'unknown',\n",
       " 'urban',\n",
       " 'uzbek',\n",
       " 'variété',\n",
       " 'vi',\n",
       " 'videogame',\n",
       " 'vocal',\n",
       " 'western',\n",
       " 'world',\n",
       " 'worldbeat',\n",
       " 'ïîï',\n",
       " 'электроника']"
      ]
     },
     "execution_count": 14,
     "metadata": {},
     "output_type": "execute_result"
    }
   ],
   "source": [
    "# получим список всех вариантов написания жанров\n",
    "sorted(df['genre'].unique())"
   ]
  },
  {
   "cell_type": "markdown",
   "metadata": {
    "id": "qej-Qmuo_Zct"
   },
   "source": [
    "Визуальным осмотром полученного списка замечены неявные дубликаты названия `hiphop` - три варианта написания:\n",
    "- hip,\n",
    "- hop,\n",
    "- hip-hop."
   ]
  },
  {
   "cell_type": "markdown",
   "metadata": {
    "id": "qej-Qmuo_Zct"
   },
   "source": [
    "Чтобы очистить от них таблицу, используем собственную функцию `replace_wrong_genres()` с двумя параметрами: \n",
    "* `wrong_genres` — список дубликатов,\n",
    "* `correct_genre` — строка с правильным значением."
   ]
  },
  {
   "cell_type": "code",
   "execution_count": 15,
   "metadata": {
    "id": "ErNDkmns_Zct"
   },
   "outputs": [],
   "source": [
    "def replace_wrong_genres(wrong_genres, correct_genre):\n",
    "    for wrong_genre in wrong_genres:\n",
    "        df['genre'] = df['genre'].replace(wrong_genre, correct_genre)"
   ]
  },
  {
   "cell_type": "code",
   "execution_count": 16,
   "metadata": {
    "id": "YN5i2hpmSo09"
   },
   "outputs": [],
   "source": [
    "duplicates = ['hip', 'hop', 'hip-hop']\n",
    "genre = 'hiphop'\n",
    "replace_wrong_genres(duplicates, genre)"
   ]
  },
  {
   "cell_type": "code",
   "execution_count": 17,
   "metadata": {
    "id": "wvixALnFG15m"
   },
   "outputs": [
    {
     "data": {
      "text/plain": [
       "['acid',\n",
       " 'acoustic',\n",
       " 'action',\n",
       " 'adult',\n",
       " 'africa',\n",
       " 'afrikaans',\n",
       " 'alternative',\n",
       " 'alternativepunk',\n",
       " 'ambient',\n",
       " 'americana',\n",
       " 'animated',\n",
       " 'anime',\n",
       " 'arabesk',\n",
       " 'arabic',\n",
       " 'arena',\n",
       " 'argentinetango',\n",
       " 'art',\n",
       " 'audiobook',\n",
       " 'author',\n",
       " 'avantgarde',\n",
       " 'axé',\n",
       " 'baile',\n",
       " 'balkan',\n",
       " 'beats',\n",
       " 'bigroom',\n",
       " 'black',\n",
       " 'bluegrass',\n",
       " 'blues',\n",
       " 'bollywood',\n",
       " 'bossa',\n",
       " 'brazilian',\n",
       " 'breakbeat',\n",
       " 'breaks',\n",
       " 'broadway',\n",
       " 'cantautori',\n",
       " 'cantopop',\n",
       " 'canzone',\n",
       " 'caribbean',\n",
       " 'caucasian',\n",
       " 'celtic',\n",
       " 'chamber',\n",
       " 'chanson',\n",
       " 'children',\n",
       " 'chill',\n",
       " 'chinese',\n",
       " 'choral',\n",
       " 'christian',\n",
       " 'christmas',\n",
       " 'classical',\n",
       " 'classicmetal',\n",
       " 'club',\n",
       " 'colombian',\n",
       " 'comedy',\n",
       " 'conjazz',\n",
       " 'contemporary',\n",
       " 'country',\n",
       " 'cuban',\n",
       " 'dance',\n",
       " 'dancehall',\n",
       " 'dancepop',\n",
       " 'dark',\n",
       " 'death',\n",
       " 'deep',\n",
       " 'deutschrock',\n",
       " 'deutschspr',\n",
       " 'dirty',\n",
       " 'disco',\n",
       " 'dnb',\n",
       " 'documentary',\n",
       " 'downbeat',\n",
       " 'downtempo',\n",
       " 'drum',\n",
       " 'dub',\n",
       " 'dubstep',\n",
       " 'eastern',\n",
       " 'easy',\n",
       " 'electronic',\n",
       " 'electropop',\n",
       " 'emo',\n",
       " 'entehno',\n",
       " 'epicmetal',\n",
       " 'estrada',\n",
       " 'ethnic',\n",
       " 'eurofolk',\n",
       " 'european',\n",
       " 'experimental',\n",
       " 'extrememetal',\n",
       " 'fado',\n",
       " 'fairytail',\n",
       " 'film',\n",
       " 'fitness',\n",
       " 'flamenco',\n",
       " 'folk',\n",
       " 'folklore',\n",
       " 'folkmetal',\n",
       " 'folkrock',\n",
       " 'folktronica',\n",
       " 'forró',\n",
       " 'frankreich',\n",
       " 'französisch',\n",
       " 'french',\n",
       " 'funk',\n",
       " 'future',\n",
       " 'gangsta',\n",
       " 'garage',\n",
       " 'german',\n",
       " 'ghazal',\n",
       " 'gitarre',\n",
       " 'glitch',\n",
       " 'gospel',\n",
       " 'gothic',\n",
       " 'grime',\n",
       " 'grunge',\n",
       " 'gypsy',\n",
       " 'handsup',\n",
       " \"hard'n'heavy\",\n",
       " 'hardcore',\n",
       " 'hardstyle',\n",
       " 'hardtechno',\n",
       " 'hiphop',\n",
       " 'historisch',\n",
       " 'holiday',\n",
       " 'horror',\n",
       " 'house',\n",
       " 'hymn',\n",
       " 'idm',\n",
       " 'independent',\n",
       " 'indian',\n",
       " 'indie',\n",
       " 'indipop',\n",
       " 'industrial',\n",
       " 'inspirational',\n",
       " 'instrumental',\n",
       " 'international',\n",
       " 'irish',\n",
       " 'jam',\n",
       " 'japanese',\n",
       " 'jazz',\n",
       " 'jewish',\n",
       " 'jpop',\n",
       " 'jungle',\n",
       " 'k-pop',\n",
       " 'karadeniz',\n",
       " 'karaoke',\n",
       " 'kayokyoku',\n",
       " 'korean',\n",
       " 'laiko',\n",
       " 'latin',\n",
       " 'latino',\n",
       " 'leftfield',\n",
       " 'local',\n",
       " 'lounge',\n",
       " 'loungeelectronic',\n",
       " 'lovers',\n",
       " 'malaysian',\n",
       " 'mandopop',\n",
       " 'marschmusik',\n",
       " 'meditative',\n",
       " 'mediterranean',\n",
       " 'melodic',\n",
       " 'metal',\n",
       " 'metalcore',\n",
       " 'mexican',\n",
       " 'middle',\n",
       " 'minimal',\n",
       " 'miscellaneous',\n",
       " 'modern',\n",
       " 'mood',\n",
       " 'mpb',\n",
       " 'muslim',\n",
       " 'native',\n",
       " 'neoklassik',\n",
       " 'neue',\n",
       " 'new',\n",
       " 'newage',\n",
       " 'newwave',\n",
       " 'nu',\n",
       " 'nujazz',\n",
       " 'numetal',\n",
       " 'oceania',\n",
       " 'old',\n",
       " 'opera',\n",
       " 'orchestral',\n",
       " 'other',\n",
       " 'piano',\n",
       " 'podcasts',\n",
       " 'pop',\n",
       " 'popdance',\n",
       " 'popelectronic',\n",
       " 'popeurodance',\n",
       " 'poprussian',\n",
       " 'post',\n",
       " 'posthardcore',\n",
       " 'postrock',\n",
       " 'power',\n",
       " 'progmetal',\n",
       " 'progressive',\n",
       " 'psychedelic',\n",
       " 'punjabi',\n",
       " 'punk',\n",
       " 'quebecois',\n",
       " 'ragga',\n",
       " 'ram',\n",
       " 'rancheras',\n",
       " 'rap',\n",
       " 'rave',\n",
       " 'reggae',\n",
       " 'reggaeton',\n",
       " 'regional',\n",
       " 'relax',\n",
       " 'religious',\n",
       " 'retro',\n",
       " 'rhythm',\n",
       " 'rnb',\n",
       " 'rnr',\n",
       " 'rock',\n",
       " 'rockabilly',\n",
       " 'rockalternative',\n",
       " 'rockindie',\n",
       " 'rockother',\n",
       " 'romance',\n",
       " 'roots',\n",
       " 'ruspop',\n",
       " 'rusrap',\n",
       " 'rusrock',\n",
       " 'russian',\n",
       " 'salsa',\n",
       " 'samba',\n",
       " 'scenic',\n",
       " 'schlager',\n",
       " 'self',\n",
       " 'sertanejo',\n",
       " 'shanson',\n",
       " 'shoegazing',\n",
       " 'showtunes',\n",
       " 'singer',\n",
       " 'ska',\n",
       " 'skarock',\n",
       " 'slow',\n",
       " 'smooth',\n",
       " 'soft',\n",
       " 'soul',\n",
       " 'soulful',\n",
       " 'sound',\n",
       " 'soundtrack',\n",
       " 'southern',\n",
       " 'specialty',\n",
       " 'speech',\n",
       " 'spiritual',\n",
       " 'sport',\n",
       " 'stonerrock',\n",
       " 'surf',\n",
       " 'swing',\n",
       " 'synthpop',\n",
       " 'synthrock',\n",
       " 'sängerportrait',\n",
       " 'tango',\n",
       " 'tanzorchester',\n",
       " 'taraftar',\n",
       " 'tatar',\n",
       " 'tech',\n",
       " 'techno',\n",
       " 'teen',\n",
       " 'thrash',\n",
       " 'top',\n",
       " 'traditional',\n",
       " 'tradjazz',\n",
       " 'trance',\n",
       " 'tribal',\n",
       " 'trip',\n",
       " 'triphop',\n",
       " 'tropical',\n",
       " 'türk',\n",
       " 'türkçe',\n",
       " 'ukrrock',\n",
       " 'unknown',\n",
       " 'urban',\n",
       " 'uzbek',\n",
       " 'variété',\n",
       " 'vi',\n",
       " 'videogame',\n",
       " 'vocal',\n",
       " 'western',\n",
       " 'world',\n",
       " 'worldbeat',\n",
       " 'ïîï',\n",
       " 'электроника']"
      ]
     },
     "execution_count": 17,
     "metadata": {},
     "output_type": "execute_result"
    }
   ],
   "source": [
    "# проверка корректности отработки функции\n",
    "sorted(df['genre'].unique())"
   ]
  },
  {
   "cell_type": "markdown",
   "metadata": {
    "id": "jz6a9-7HQUDd"
   },
   "source": [
    "**Выводы**\n",
    "\n",
    "Исправлены недочеты в данных, выявленные на этапе предобработки:\n",
    "\n",
    "- нарушения в стиле заголовков,\n",
    "- пропущенные значения,\n",
    "- дубликаты — явные и неявные."
   ]
  },
  {
   "cell_type": "markdown",
   "metadata": {
    "id": "WttZHXH0SqKk"
   },
   "source": [
    "## Проверка гипотез"
   ]
  },
  {
   "cell_type": "markdown",
   "metadata": {
    "id": "Im936VVi_Zcu"
   },
   "source": [
    "### Сравнение поведения пользователей двух столиц"
   ]
  },
  {
   "cell_type": "markdown",
   "metadata": {
    "id": "nwt_MuaL_Zcu"
   },
   "source": [
    "Первая гипотеза утверждает, что пользователи по-разному слушают музыку в Москве и Санкт-Петербурге. Проверим это предположение по данным о трёх днях недели — понедельнике, среде и пятнице. "
   ]
  },
  {
   "cell_type": "markdown",
   "metadata": {
    "id": "8Dw_YMmT_Zcu"
   },
   "source": [
    "Для оценки активности пользователей в каждом городе сгруппируем данные по городу и посчитаем прослушивания в каждой группе."
   ]
  },
  {
   "cell_type": "code",
   "execution_count": 18,
   "metadata": {},
   "outputs": [
    {
     "data": {
      "text/html": [
       "<div>\n",
       "<style scoped>\n",
       "    .dataframe tbody tr th:only-of-type {\n",
       "        vertical-align: middle;\n",
       "    }\n",
       "\n",
       "    .dataframe tbody tr th {\n",
       "        vertical-align: top;\n",
       "    }\n",
       "\n",
       "    .dataframe thead th {\n",
       "        text-align: right;\n",
       "    }\n",
       "</style>\n",
       "<table border=\"1\" class=\"dataframe\">\n",
       "  <thead>\n",
       "    <tr style=\"text-align: right;\">\n",
       "      <th></th>\n",
       "      <th>user_id</th>\n",
       "    </tr>\n",
       "    <tr>\n",
       "      <th>city</th>\n",
       "      <th></th>\n",
       "    </tr>\n",
       "  </thead>\n",
       "  <tbody>\n",
       "    <tr>\n",
       "      <th>Moscow</th>\n",
       "      <td>42741</td>\n",
       "    </tr>\n",
       "    <tr>\n",
       "      <th>Saint-Petersburg</th>\n",
       "      <td>18512</td>\n",
       "    </tr>\n",
       "  </tbody>\n",
       "</table>\n",
       "</div>"
      ],
      "text/plain": [
       "                  user_id\n",
       "city                     \n",
       "Moscow              42741\n",
       "Saint-Petersburg    18512"
      ]
     },
     "execution_count": 18,
     "metadata": {},
     "output_type": "execute_result"
    }
   ],
   "source": [
    "df.pivot_table(index=['city'], aggfunc='count', values='user_id')"
   ]
  },
  {
   "cell_type": "markdown",
   "metadata": {
    "id": "dzli3w8o_Zcu"
   },
   "source": [
    "В Москве прослушиваний больше, чем в Петербурге, однако нельзя с уверенностью сказать, что там слушают больше, скорее всего самих пользователей в Москве больше.\n",
    "\n",
    "Далее просчитаем прослушивания в понедельник, среду и пятницу суммарно по двум городам."
   ]
  },
  {
   "cell_type": "code",
   "execution_count": 19,
   "metadata": {
    "id": "uZMKjiJz_Zcu"
   },
   "outputs": [
    {
     "data": {
      "text/plain": [
       "day\n",
       "Friday       21840\n",
       "Monday       21354\n",
       "Wednesday    18059\n",
       "Name: city, dtype: int64"
      ]
     },
     "execution_count": 19,
     "metadata": {},
     "output_type": "execute_result"
    }
   ],
   "source": [
    "df.groupby('day')['city'].count()"
   ]
  },
  {
   "cell_type": "markdown",
   "metadata": {
    "id": "cC2tNrlL_Zcu"
   },
   "source": [
    "В среднем пользователи из двух городов менее активны по средам. Но более объективно можно оценить эту информацию, если рассмотреть каждый город в отдельности."
   ]
  },
  {
   "cell_type": "code",
   "execution_count": 20,
   "metadata": {
    "id": "Nz3GdQB1_Zcu"
   },
   "outputs": [],
   "source": [
    "def number_tracks(day, city):\n",
    "    track_list = df[(df['city'] == city) & (df['day'] == day)]['user_id'].count()\n",
    "    return track_list"
   ]
  },
  {
   "cell_type": "code",
   "execution_count": 21,
   "metadata": {},
   "outputs": [],
   "source": [
    "city_day = {'Moscow':[], 'Saint-Petersburg':[]}\n",
    "for city in city_day.keys():\n",
    "    for day in ['Monday', 'Wednesday', 'Friday']:\n",
    "        city_day[city].append(number_tracks(day, city))"
   ]
  },
  {
   "cell_type": "code",
   "execution_count": null,
   "metadata": {},
   "outputs": [],
   "source": []
  },
  {
   "cell_type": "code",
   "execution_count": 22,
   "metadata": {},
   "outputs": [
    {
     "data": {
      "text/html": [
       "<div>\n",
       "<style scoped>\n",
       "    .dataframe tbody tr th:only-of-type {\n",
       "        vertical-align: middle;\n",
       "    }\n",
       "\n",
       "    .dataframe tbody tr th {\n",
       "        vertical-align: top;\n",
       "    }\n",
       "\n",
       "    .dataframe thead th {\n",
       "        text-align: right;\n",
       "    }\n",
       "</style>\n",
       "<table border=\"1\" class=\"dataframe\">\n",
       "  <thead>\n",
       "    <tr style=\"text-align: right;\">\n",
       "      <th></th>\n",
       "      <th>monday</th>\n",
       "      <th>wednesday</th>\n",
       "      <th>friday</th>\n",
       "    </tr>\n",
       "  </thead>\n",
       "  <tbody>\n",
       "    <tr>\n",
       "      <th>Moscow</th>\n",
       "      <td>15740</td>\n",
       "      <td>11056</td>\n",
       "      <td>15945</td>\n",
       "    </tr>\n",
       "    <tr>\n",
       "      <th>Saint-Petersburg</th>\n",
       "      <td>5614</td>\n",
       "      <td>7003</td>\n",
       "      <td>5895</td>\n",
       "    </tr>\n",
       "  </tbody>\n",
       "</table>\n",
       "</div>"
      ],
      "text/plain": [
       "                  monday  wednesday  friday\n",
       "Moscow             15740      11056   15945\n",
       "Saint-Petersburg    5614       7003    5895"
      ]
     },
     "execution_count": 22,
     "metadata": {},
     "output_type": "execute_result"
    }
   ],
   "source": [
    "data_city_day = pd.DataFrame.from_dict(\n",
    "    city_day, orient='index', \n",
    "    columns=['monday', 'wednesday', 'friday'])\n",
    "data_city_day"
   ]
  },
  {
   "cell_type": "markdown",
   "metadata": {
    "id": "-EgPIHYu_Zcu"
   },
   "source": [
    "**Выводы**\n",
    "\n",
    "Данные показывают разницу поведения пользователей:\n",
    "\n",
    "- В Москве пик прослушиваний приходится на понедельник и пятницу, а в среду заметен спад.\n",
    "- В Петербурге, наоборот, больше слушают музыку по средам. Активность в понедельник и пятницу здесь почти в равной мере уступает среде.\n",
    "\n",
    "Значит, данные говорят в пользу первой гипотезы."
   ]
  },
  {
   "cell_type": "markdown",
   "metadata": {
    "id": "atZAxtq4_Zcu"
   },
   "source": [
    "### Музыка в начале и в конце недели"
   ]
  },
  {
   "cell_type": "markdown",
   "metadata": {
    "id": "eXrQqXFH_Zcu"
   },
   "source": [
    "Согласно второй гипотезе, утром в понедельник в Москве преобладают одни жанры, а в Петербурге — другие. Так же и вечером пятницы преобладают разные жанры — в зависимости от города."
   ]
  },
  {
   "cell_type": "markdown",
   "metadata": {
    "id": "MEJV-CX2_Zcu"
   },
   "source": [
    "Создадим функцию `genre_weekday()` с четырьмя параметрами для определения предпочтений пользователей по жанрам в разное время суток:\n",
    "* таблица (датафрейм) с данными,\n",
    "* день недели,\n",
    "* начальная временная метка в формате 'hh:mm', \n",
    "* последняя временная метка в формате 'hh:mm'."
   ]
  },
  {
   "cell_type": "code",
   "execution_count": 23,
   "metadata": {
    "id": "laJT9BYl_Zcu"
   },
   "outputs": [],
   "source": [
    "def genre_weekday(table, day, time_start, time_end):\n",
    "    genre_df = table[(table['day'] == day) & (table['time'] > time_start) & (table['time'] < time_end)]\n",
    "    genre_df_count = genre_df.groupby('genre')['user_id'].count().sort_values(ascending=False)\n",
    "    return genre_df_count.head(10)"
   ]
  },
  {
   "cell_type": "markdown",
   "metadata": {
    "id": "la2s2_PF_Zcu"
   },
   "source": [
    "Для анализа используем функцию `genre_weekday()` и получим данные для Москвы и Санкт-Петербурга в понедельник утром (с 7:00 до 11:00) и в пятницу вечером (с 17:00 до 23:00):"
   ]
  },
  {
   "cell_type": "code",
   "execution_count": 24,
   "metadata": {},
   "outputs": [
    {
     "name": "stdout",
     "output_type": "stream",
     "text": [
      "('Moscow', ['Monday', '07:00', '11:00']) \n",
      " genre\n",
      "pop            781\n",
      "dance          549\n",
      "electronic     480\n",
      "rock           474\n",
      "hiphop         286\n",
      "ruspop         186\n",
      "world          181\n",
      "rusrap         175\n",
      "alternative    164\n",
      "unknown        161\n",
      "Name: user_id, dtype: int64\n",
      "\n",
      "('Moscow', ['Friday', '17:00', '23:00']) \n",
      " genre\n",
      "pop            713\n",
      "rock           517\n",
      "dance          495\n",
      "electronic     482\n",
      "hiphop         273\n",
      "world          208\n",
      "ruspop         170\n",
      "alternative    163\n",
      "classical      163\n",
      "rusrap         142\n",
      "Name: user_id, dtype: int64\n",
      "\n",
      "('Saint-Petersburg', ['Monday', '07:00', '11:00']) \n",
      " genre\n",
      "pop            218\n",
      "dance          182\n",
      "rock           162\n",
      "electronic     147\n",
      "hiphop          80\n",
      "ruspop          64\n",
      "alternative     58\n",
      "rusrap          55\n",
      "jazz            44\n",
      "classical       40\n",
      "Name: user_id, dtype: int64\n",
      "\n",
      "('Saint-Petersburg', ['Friday', '17:00', '23:00']) \n",
      " genre\n",
      "pop            256\n",
      "electronic     216\n",
      "rock           216\n",
      "dance          210\n",
      "hiphop          97\n",
      "alternative     63\n",
      "jazz            61\n",
      "classical       60\n",
      "rusrap          59\n",
      "world           54\n",
      "Name: user_id, dtype: int64\n",
      "\n"
     ]
    }
   ],
   "source": [
    "for city in ['Moscow','Saint-Petersburg']:\n",
    "    for day in [['Monday', '07:00', '11:00'], ['Friday', '17:00', '23:00']]:\n",
    "        print(f'{city, day}', '\\n',genre_weekday(df.query('city == @city'), *day))\n",
    "        print(''*30)"
   ]
  },
  {
   "cell_type": "markdown",
   "metadata": {
    "id": "wrCe4MNX_Zcu"
   },
   "source": [
    "**Выводы**\n",
    "\n",
    "Если сравнить топ-10 жанров в понедельник утром, можно сделать такие выводы:\n",
    "\n",
    "1. В Москве и Петербурге слушают похожую музыку. Единственное отличие — в московский рейтинг вошёл жанр “world”, а в петербургский — джаз и классика.\n",
    "\n",
    "2. В Москве пропущенных значений оказалось так много, что значение `'unknown'` заняло десятое место среди самых популярных жанров. Значит, пропущенные значения занимают существенную долю в данных и угрожают достоверности исследования.\n",
    "\n",
    "Вечер пятницы не меняет эту картину. Некоторые жанры поднимаются немного выше, другие спускаются, но в целом топ-10 остаётся тем же самым.\n",
    "\n",
    "Таким образом, вторая гипотеза подтвердилась лишь частично:\n",
    "* Пользователи слушают похожую музыку в начале недели и в конце.\n",
    "* Разница между Москвой и Петербургом не слишком выражена. В Москве чаще слушают русскую популярную музыку, в Петербурге — джаз.\n",
    "\n",
    "Однако пропуски в данных ставят под сомнение этот результат. В Москве их так много, что рейтинг топ-10 мог бы выглядеть иначе, если бы не утерянные  данные о жанрах."
   ]
  },
  {
   "cell_type": "markdown",
   "metadata": {
    "id": "JolODAqr_Zcu"
   },
   "source": [
    "### Жанровые предпочтения в Москве и Петербурге\n",
    "\n",
    "Гипотеза: Петербург — столица рэпа, музыку этого жанра там слушают чаще, чем в Москве.  А Москва — город контрастов, в котором, тем не менее, преобладает поп-музыка."
   ]
  },
  {
   "cell_type": "code",
   "execution_count": 25,
   "metadata": {},
   "outputs": [
    {
     "name": "stdout",
     "output_type": "stream",
     "text": [
      "Moscow \n",
      "              number\n",
      "genre              \n",
      "pop            5892\n",
      "dance          4435\n",
      "rock           3965\n",
      "electronic     3786\n",
      "hiphop         2096\n",
      "classical      1616\n",
      "world          1432\n",
      "alternative    1379\n",
      "ruspop         1372\n",
      "rusrap         1161\n",
      "\n",
      "Saint-Petersburg \n",
      "              number\n",
      "genre              \n",
      "pop            2431\n",
      "dance          1932\n",
      "rock           1879\n",
      "electronic     1736\n",
      "hiphop          960\n",
      "alternative     649\n",
      "classical       646\n",
      "rusrap          564\n",
      "ruspop          538\n",
      "world           515\n",
      "\n"
     ]
    }
   ],
   "source": [
    "for city in ['Moscow','Saint-Petersburg']:\n",
    "    print(f'{city}', '\\n', df.query('city == @city').pivot_table(\n",
    "        'user_id', 'genre', aggfunc='count').sort_values(\n",
    "        by='user_id', ascending=False).rename(columns={'user_id':'number'}).head(10))\n",
    "    print(''*30)"
   ]
  },
  {
   "cell_type": "markdown",
   "metadata": {
    "id": "RY51YJYu_Zcv"
   },
   "source": [
    "**Выводы**"
   ]
  },
  {
   "cell_type": "markdown",
   "metadata": {
    "id": "nVhnJEm__Zcv"
   },
   "source": [
    "Гипотеза частично подтвердилась:\n",
    "* Поп-музыка — самый популярный жанр в Москве, как и предполагала гипотеза. Более того, в топ-10 жанров встречается близкий жанр — русская популярная музыка.\n",
    "* Вопреки ожиданиям, рэп одинаково популярен в Москве и Петербурге. \n"
   ]
  },
  {
   "cell_type": "markdown",
   "metadata": {
    "id": "ykKQ0N65_Zcv"
   },
   "source": [
    "## Итоги исследования"
   ]
  },
  {
   "cell_type": "markdown",
   "metadata": {
    "id": "tjUwbHb3_Zcv"
   },
   "source": [
    "По результатам проведенных расчетов можно сделать следующие выводы:\n",
    "\n",
    "1. **Гипотеза 1**: *День недели по-разному влияет на активность пользователей в Москве и Петербурге*. \n",
    "\n",
    "Первая гипотеза полностью подтвердилась.\n",
    "\n",
    "2. **Гипотеза 2**: *Музыкальные предпочтения не сильно меняются в течение недели — будь то Москва или Петербург.*  \n",
    "Небольшие различия заметны в начале недели, по понедельникам:\n",
    "* в Москве слушают музыку жанра “world”,\n",
    "* в Петербурге — джаз и классику.\n",
    "\n",
    "Таким образом, вторая гипотеза подтвердилась лишь отчасти. Этот результат мог оказаться иным, если бы не пропуски в данных.\n",
    "\n",
    "3. **Гипотеза 3:** *Во вкусах пользователей Москвы и Петербурга больше общего, чем различий.*  \n",
    "Вопреки ожиданиям, предпочтения жанров в Петербурге напоминают московские.\n",
    "\n",
    "Третья гипотеза подтвердилась. Если различия в предпочтениях и существуют, на основной массе пользователей они незаметны."
   ]
  },
  {
   "cell_type": "code",
   "execution_count": null,
   "metadata": {},
   "outputs": [],
   "source": []
  }
 ],
 "metadata": {
  "ExecuteTimeLog": [
   {
    "duration": 788,
    "start_time": "2021-12-15T08:29:12.185Z"
   },
   {
    "duration": 2817,
    "start_time": "2021-12-15T08:29:14.468Z"
   },
   {
    "duration": 175,
    "start_time": "2021-12-15T08:29:46.020Z"
   },
   {
    "duration": 10,
    "start_time": "2021-12-15T08:30:02.787Z"
   },
   {
    "duration": 291,
    "start_time": "2021-12-15T08:31:03.192Z"
   },
   {
    "duration": 14,
    "start_time": "2021-12-15T08:31:07.698Z"
   },
   {
    "duration": 28,
    "start_time": "2021-12-15T08:36:26.452Z"
   },
   {
    "duration": 5,
    "start_time": "2021-12-15T08:36:40.341Z"
   },
   {
    "duration": 18,
    "start_time": "2021-12-15T08:36:53.124Z"
   },
   {
    "duration": 5,
    "start_time": "2021-12-15T08:36:57.813Z"
   },
   {
    "duration": 42,
    "start_time": "2021-12-15T08:37:34.060Z"
   },
   {
    "duration": 34,
    "start_time": "2021-12-15T08:37:44.715Z"
   },
   {
    "duration": 30,
    "start_time": "2021-12-15T08:37:53.669Z"
   },
   {
    "duration": 32,
    "start_time": "2021-12-15T08:39:15.867Z"
   },
   {
    "duration": 297,
    "start_time": "2021-12-15T08:47:54.137Z"
   },
   {
    "duration": 271,
    "start_time": "2021-12-15T08:48:10.466Z"
   },
   {
    "duration": 18,
    "start_time": "2021-12-15T08:48:19.818Z"
   },
   {
    "duration": 29,
    "start_time": "2021-12-15T08:48:39.154Z"
   },
   {
    "duration": 21,
    "start_time": "2021-12-15T08:51:58.299Z"
   },
   {
    "duration": 28,
    "start_time": "2021-12-15T08:52:00.796Z"
   },
   {
    "duration": 81,
    "start_time": "2021-12-15T08:52:19.529Z"
   },
   {
    "duration": 338,
    "start_time": "2021-12-15T08:52:25.676Z"
   },
   {
    "duration": 73,
    "start_time": "2021-12-15T08:52:29.379Z"
   },
   {
    "duration": 75,
    "start_time": "2021-12-15T08:52:38.907Z"
   },
   {
    "duration": 15,
    "start_time": "2021-12-15T08:58:00.359Z"
   },
   {
    "duration": 87,
    "start_time": "2021-12-15T08:59:26.077Z"
   },
   {
    "duration": 74,
    "start_time": "2021-12-15T08:59:35.837Z"
   },
   {
    "duration": 9,
    "start_time": "2021-12-15T09:01:36.371Z"
   },
   {
    "duration": 15,
    "start_time": "2021-12-15T09:01:50.396Z"
   },
   {
    "duration": 4,
    "start_time": "2021-12-15T09:12:18.064Z"
   },
   {
    "duration": 14,
    "start_time": "2021-12-15T09:12:37.074Z"
   },
   {
    "duration": 16,
    "start_time": "2021-12-15T09:12:54.561Z"
   },
   {
    "duration": 19,
    "start_time": "2021-12-15T09:19:23.107Z"
   },
   {
    "duration": 29,
    "start_time": "2021-12-15T09:20:15.595Z"
   },
   {
    "duration": 33,
    "start_time": "2021-12-15T09:20:41.802Z"
   },
   {
    "duration": 6,
    "start_time": "2021-12-15T09:25:54.126Z"
   },
   {
    "duration": 4,
    "start_time": "2021-12-15T09:28:55.981Z"
   },
   {
    "duration": 5,
    "start_time": "2021-12-15T09:29:45.978Z"
   },
   {
    "duration": 12,
    "start_time": "2021-12-15T09:30:31.986Z"
   },
   {
    "duration": 16,
    "start_time": "2021-12-15T09:31:09.113Z"
   },
   {
    "duration": 13,
    "start_time": "2021-12-15T09:31:29.595Z"
   },
   {
    "duration": 6,
    "start_time": "2021-12-15T10:36:21.583Z"
   },
   {
    "duration": 8160,
    "start_time": "2021-12-15T10:37:05.895Z"
   },
   {
    "duration": 7424,
    "start_time": "2021-12-15T10:37:19.112Z"
   },
   {
    "duration": 5,
    "start_time": "2021-12-15T10:38:16.560Z"
   },
   {
    "duration": 23,
    "start_time": "2021-12-15T10:38:19.470Z"
   },
   {
    "duration": 24,
    "start_time": "2021-12-15T10:38:32.550Z"
   },
   {
    "duration": 24,
    "start_time": "2021-12-15T10:38:37.967Z"
   },
   {
    "duration": 23,
    "start_time": "2021-12-15T10:39:16.319Z"
   },
   {
    "duration": 24,
    "start_time": "2021-12-15T10:39:36.373Z"
   },
   {
    "duration": 25,
    "start_time": "2021-12-15T10:40:35.708Z"
   },
   {
    "duration": 17,
    "start_time": "2021-12-15T10:40:44.101Z"
   },
   {
    "duration": 16,
    "start_time": "2021-12-15T10:42:20.715Z"
   },
   {
    "duration": 18,
    "start_time": "2021-12-15T10:42:52.787Z"
   },
   {
    "duration": 335,
    "start_time": "2021-12-15T10:47:32.879Z"
   },
   {
    "duration": 5,
    "start_time": "2021-12-15T10:51:15.739Z"
   },
   {
    "duration": 19,
    "start_time": "2021-12-15T10:51:18.267Z"
   },
   {
    "duration": 20,
    "start_time": "2021-12-15T10:51:24.635Z"
   },
   {
    "duration": 10,
    "start_time": "2021-12-15T10:53:23.866Z"
   },
   {
    "duration": 9,
    "start_time": "2021-12-15T10:56:07.472Z"
   },
   {
    "duration": 9,
    "start_time": "2021-12-15T10:57:01.687Z"
   },
   {
    "duration": 9,
    "start_time": "2021-12-15T10:59:35.300Z"
   },
   {
    "duration": 7,
    "start_time": "2021-12-15T10:59:49.469Z"
   },
   {
    "duration": 115,
    "start_time": "2021-12-15T11:01:53.714Z"
   },
   {
    "duration": 8,
    "start_time": "2021-12-15T11:02:00.938Z"
   },
   {
    "duration": 10,
    "start_time": "2021-12-15T11:03:26.561Z"
   },
   {
    "duration": 315,
    "start_time": "2021-12-15T11:04:07.720Z"
   },
   {
    "duration": 12,
    "start_time": "2021-12-15T11:04:54.647Z"
   },
   {
    "duration": 11,
    "start_time": "2021-12-15T11:05:23.687Z"
   },
   {
    "duration": 15,
    "start_time": "2021-12-15T11:06:49.086Z"
   },
   {
    "duration": 13,
    "start_time": "2021-12-15T11:07:14.845Z"
   },
   {
    "duration": 11,
    "start_time": "2021-12-15T11:09:53.332Z"
   },
   {
    "duration": 8,
    "start_time": "2021-12-15T11:16:06.567Z"
   },
   {
    "duration": 576,
    "start_time": "2021-12-15T11:16:46.549Z"
   },
   {
    "duration": 28,
    "start_time": "2021-12-15T11:19:16.011Z"
   },
   {
    "duration": 26,
    "start_time": "2021-12-15T11:20:00.531Z"
   },
   {
    "duration": 6,
    "start_time": "2021-12-15T11:25:32.118Z"
   },
   {
    "duration": 578,
    "start_time": "2021-12-15T11:25:35.326Z"
   },
   {
    "duration": 353,
    "start_time": "2021-12-15T11:29:37.601Z"
   },
   {
    "duration": 294,
    "start_time": "2021-12-15T11:30:11.002Z"
   },
   {
    "duration": 10,
    "start_time": "2021-12-15T11:31:07.898Z"
   },
   {
    "duration": 5,
    "start_time": "2021-12-15T11:35:18.054Z"
   },
   {
    "duration": 597,
    "start_time": "2021-12-15T11:35:23.621Z"
   },
   {
    "duration": 5,
    "start_time": "2021-12-15T11:39:43.866Z"
   },
   {
    "duration": 29,
    "start_time": "2021-12-15T11:39:48.729Z"
   },
   {
    "duration": 26,
    "start_time": "2021-12-15T11:40:19.288Z"
   },
   {
    "duration": 26,
    "start_time": "2021-12-15T11:41:09.192Z"
   },
   {
    "duration": 27,
    "start_time": "2021-12-15T11:41:18.066Z"
   },
   {
    "duration": 34,
    "start_time": "2021-12-15T11:41:31.667Z"
   },
   {
    "duration": 29,
    "start_time": "2021-12-15T11:42:30.023Z"
   },
   {
    "duration": 24,
    "start_time": "2021-12-15T11:42:44.455Z"
   },
   {
    "duration": 26,
    "start_time": "2021-12-15T11:43:02.925Z"
   },
   {
    "duration": 31,
    "start_time": "2021-12-15T11:43:23.142Z"
   },
   {
    "duration": 31,
    "start_time": "2021-12-15T11:44:27.933Z"
   },
   {
    "duration": 29,
    "start_time": "2021-12-15T11:44:31.245Z"
   },
   {
    "duration": 303,
    "start_time": "2021-12-15T11:47:05.491Z"
   },
   {
    "duration": 328,
    "start_time": "2021-12-15T11:47:22.658Z"
   },
   {
    "duration": 27,
    "start_time": "2021-12-15T11:47:45.730Z"
   },
   {
    "duration": 6,
    "start_time": "2021-12-15T11:48:31.435Z"
   },
   {
    "duration": 24,
    "start_time": "2021-12-15T11:48:34.577Z"
   },
   {
    "duration": 18,
    "start_time": "2021-12-15T11:48:37.057Z"
   },
   {
    "duration": 23,
    "start_time": "2021-12-15T11:48:42.113Z"
   },
   {
    "duration": 16,
    "start_time": "2021-12-15T11:48:44.241Z"
   },
   {
    "duration": 13,
    "start_time": "2021-12-15T11:52:43.670Z"
   },
   {
    "duration": 14,
    "start_time": "2021-12-15T11:53:22.262Z"
   },
   {
    "duration": 6,
    "start_time": "2021-12-15T11:53:45.572Z"
   },
   {
    "duration": 11,
    "start_time": "2021-12-15T11:53:48.453Z"
   },
   {
    "duration": 11,
    "start_time": "2021-12-15T11:54:09.749Z"
   },
   {
    "duration": 6,
    "start_time": "2021-12-15T11:54:29.117Z"
   },
   {
    "duration": 284,
    "start_time": "2021-12-15T11:54:43.725Z"
   },
   {
    "duration": 283,
    "start_time": "2021-12-15T11:55:26.572Z"
   },
   {
    "duration": 286,
    "start_time": "2021-12-15T11:55:47.356Z"
   },
   {
    "duration": 11,
    "start_time": "2021-12-15T11:56:13.524Z"
   },
   {
    "duration": 280,
    "start_time": "2021-12-15T11:56:31.099Z"
   },
   {
    "duration": 5,
    "start_time": "2021-12-15T11:57:04.019Z"
   },
   {
    "duration": 7,
    "start_time": "2021-12-15T11:57:34.162Z"
   },
   {
    "duration": 6,
    "start_time": "2021-12-15T11:57:41.746Z"
   },
   {
    "duration": 274,
    "start_time": "2021-12-15T11:58:50.809Z"
   },
   {
    "duration": 6,
    "start_time": "2021-12-15T11:59:01.753Z"
   },
   {
    "duration": 294,
    "start_time": "2021-12-15T11:59:55.873Z"
   },
   {
    "duration": 284,
    "start_time": "2021-12-15T12:00:18.721Z"
   },
   {
    "duration": 16,
    "start_time": "2021-12-15T12:00:27.408Z"
   },
   {
    "duration": 26,
    "start_time": "2021-12-15T12:00:55.430Z"
   },
   {
    "duration": 11,
    "start_time": "2021-12-15T12:01:13.624Z"
   },
   {
    "duration": 5,
    "start_time": "2021-12-15T12:01:21.750Z"
   },
   {
    "duration": 7,
    "start_time": "2021-12-15T12:04:38.156Z"
   },
   {
    "duration": 8,
    "start_time": "2021-12-15T12:04:43.131Z"
   },
   {
    "duration": 7,
    "start_time": "2021-12-15T12:04:45.403Z"
   },
   {
    "duration": 583,
    "start_time": "2021-12-15T13:20:33.380Z"
   },
   {
    "duration": 142,
    "start_time": "2021-12-15T13:20:33.965Z"
   },
   {
    "duration": 14,
    "start_time": "2021-12-15T13:20:34.109Z"
   },
   {
    "duration": 41,
    "start_time": "2021-12-15T13:20:34.125Z"
   },
   {
    "duration": 24,
    "start_time": "2021-12-15T13:20:34.168Z"
   },
   {
    "duration": 40,
    "start_time": "2021-12-15T13:20:34.193Z"
   },
   {
    "duration": 21,
    "start_time": "2021-12-15T13:20:34.235Z"
   },
   {
    "duration": 41,
    "start_time": "2021-12-15T13:20:34.258Z"
   },
   {
    "duration": 36,
    "start_time": "2021-12-15T13:20:34.302Z"
   },
   {
    "duration": 44,
    "start_time": "2021-12-15T13:20:34.340Z"
   },
   {
    "duration": 74,
    "start_time": "2021-12-15T13:20:34.386Z"
   },
   {
    "duration": 59,
    "start_time": "2021-12-15T13:20:34.462Z"
   },
   {
    "duration": 51,
    "start_time": "2021-12-15T13:20:34.523Z"
   },
   {
    "duration": 8,
    "start_time": "2021-12-15T13:20:34.577Z"
   },
   {
    "duration": 21,
    "start_time": "2021-12-15T13:20:34.587Z"
   },
   {
    "duration": 27,
    "start_time": "2021-12-15T13:20:34.609Z"
   },
   {
    "duration": 29,
    "start_time": "2021-12-15T13:20:34.638Z"
   },
   {
    "duration": 38,
    "start_time": "2021-12-15T13:20:34.669Z"
   },
   {
    "duration": 8,
    "start_time": "2021-12-15T13:20:34.709Z"
   },
   {
    "duration": 10,
    "start_time": "2021-12-15T13:20:34.719Z"
   },
   {
    "duration": 50,
    "start_time": "2021-12-15T13:20:34.731Z"
   },
   {
    "duration": 19,
    "start_time": "2021-12-15T13:20:34.782Z"
   },
   {
    "duration": 38,
    "start_time": "2021-12-15T13:20:34.804Z"
   },
   {
    "duration": 34,
    "start_time": "2021-12-15T13:20:34.844Z"
   },
   {
    "duration": 23,
    "start_time": "2021-12-15T13:20:34.880Z"
   },
   {
    "duration": 26,
    "start_time": "2021-12-15T13:20:34.905Z"
   },
   {
    "duration": 15,
    "start_time": "2021-12-15T13:20:34.933Z"
   },
   {
    "duration": 37,
    "start_time": "2021-12-15T13:20:34.950Z"
   },
   {
    "duration": 26,
    "start_time": "2021-12-15T13:20:34.989Z"
   },
   {
    "duration": 27,
    "start_time": "2021-12-15T13:20:35.016Z"
   },
   {
    "duration": 40,
    "start_time": "2021-12-15T13:20:35.045Z"
   },
   {
    "duration": 21,
    "start_time": "2021-12-15T13:20:35.087Z"
   },
   {
    "duration": 26,
    "start_time": "2021-12-15T13:20:35.109Z"
   },
   {
    "duration": 15,
    "start_time": "2021-12-15T13:20:35.137Z"
   },
   {
    "duration": 20,
    "start_time": "2021-12-15T13:20:35.154Z"
   },
   {
    "duration": 19,
    "start_time": "2021-12-15T13:20:35.176Z"
   },
   {
    "duration": 25,
    "start_time": "2021-12-15T13:20:35.197Z"
   },
   {
    "duration": 32,
    "start_time": "2021-12-15T13:20:35.224Z"
   },
   {
    "duration": 63,
    "start_time": "2021-12-15T13:55:15.904Z"
   },
   {
    "duration": 62,
    "start_time": "2021-12-15T13:58:17.686Z"
   },
   {
    "duration": 217,
    "start_time": "2021-12-15T14:05:12.349Z"
   },
   {
    "duration": 168,
    "start_time": "2021-12-15T14:05:34.809Z"
   },
   {
    "duration": 177,
    "start_time": "2021-12-15T14:05:45.176Z"
   },
   {
    "duration": 597,
    "start_time": "2021-12-15T14:06:00.072Z"
   },
   {
    "duration": 136,
    "start_time": "2021-12-15T14:06:04.351Z"
   },
   {
    "duration": 202,
    "start_time": "2021-12-15T14:06:15.671Z"
   },
   {
    "duration": 189,
    "start_time": "2021-12-15T14:06:29.103Z"
   },
   {
    "duration": 296,
    "start_time": "2021-12-15T14:07:17.751Z"
   },
   {
    "duration": 17,
    "start_time": "2021-12-15T14:07:45.503Z"
   },
   {
    "duration": 25,
    "start_time": "2021-12-15T14:07:57.510Z"
   },
   {
    "duration": 4,
    "start_time": "2021-12-15T14:08:03.056Z"
   },
   {
    "duration": 20,
    "start_time": "2021-12-15T14:08:05.752Z"
   },
   {
    "duration": 4,
    "start_time": "2021-12-15T14:08:09.077Z"
   },
   {
    "duration": 23,
    "start_time": "2021-12-15T14:08:12.317Z"
   },
   {
    "duration": 19,
    "start_time": "2021-12-15T14:08:14.949Z"
   },
   {
    "duration": 22,
    "start_time": "2021-12-15T14:08:17.106Z"
   },
   {
    "duration": 54,
    "start_time": "2021-12-15T14:08:20.413Z"
   },
   {
    "duration": 58,
    "start_time": "2021-12-15T14:08:29.158Z"
   },
   {
    "duration": 48,
    "start_time": "2021-12-15T14:08:31.134Z"
   },
   {
    "duration": 9,
    "start_time": "2021-12-15T14:08:34.814Z"
   },
   {
    "duration": 3,
    "start_time": "2021-12-15T14:08:38.734Z"
   },
   {
    "duration": 10,
    "start_time": "2021-12-15T14:08:41.325Z"
   },
   {
    "duration": 9,
    "start_time": "2021-12-15T14:08:44.404Z"
   },
   {
    "duration": 93,
    "start_time": "2021-12-15T14:08:52.685Z"
   },
   {
    "duration": 34,
    "start_time": "2021-12-15T14:09:12.477Z"
   },
   {
    "duration": 548,
    "start_time": "2021-12-15T18:30:10.796Z"
   },
   {
    "duration": 135,
    "start_time": "2021-12-15T18:30:11.346Z"
   },
   {
    "duration": 17,
    "start_time": "2021-12-15T18:30:11.484Z"
   },
   {
    "duration": 24,
    "start_time": "2021-12-15T18:30:11.503Z"
   },
   {
    "duration": 4,
    "start_time": "2021-12-15T18:30:11.544Z"
   },
   {
    "duration": 22,
    "start_time": "2021-12-15T18:30:11.550Z"
   },
   {
    "duration": 4,
    "start_time": "2021-12-15T18:30:11.573Z"
   },
   {
    "duration": 23,
    "start_time": "2021-12-15T18:30:11.580Z"
   },
   {
    "duration": 40,
    "start_time": "2021-12-15T18:30:11.605Z"
   },
   {
    "duration": 22,
    "start_time": "2021-12-15T18:30:11.647Z"
   },
   {
    "duration": 75,
    "start_time": "2021-12-15T18:30:11.671Z"
   },
   {
    "duration": 73,
    "start_time": "2021-12-15T18:30:11.749Z"
   },
   {
    "duration": 66,
    "start_time": "2021-12-15T18:30:11.824Z"
   },
   {
    "duration": 9,
    "start_time": "2021-12-15T18:30:11.892Z"
   },
   {
    "duration": 3,
    "start_time": "2021-12-15T18:30:11.903Z"
   },
   {
    "duration": 12,
    "start_time": "2021-12-15T18:30:11.907Z"
   },
   {
    "duration": 32,
    "start_time": "2021-12-15T18:30:11.921Z"
   },
   {
    "duration": 2,
    "start_time": "2021-12-15T18:30:11.955Z"
   },
   {
    "duration": 38,
    "start_time": "2021-12-15T18:30:11.959Z"
   },
   {
    "duration": 10,
    "start_time": "2021-12-15T18:30:11.999Z"
   },
   {
    "duration": 4,
    "start_time": "2021-12-15T18:30:12.010Z"
   },
   {
    "duration": 45,
    "start_time": "2021-12-15T18:30:12.016Z"
   },
   {
    "duration": 15,
    "start_time": "2021-12-15T18:30:12.065Z"
   },
   {
    "duration": 16,
    "start_time": "2021-12-15T18:30:12.082Z"
   },
   {
    "duration": 51,
    "start_time": "2021-12-15T18:30:12.100Z"
   },
   {
    "duration": 18,
    "start_time": "2021-12-15T18:30:12.153Z"
   },
   {
    "duration": 16,
    "start_time": "2021-12-15T18:30:12.173Z"
   },
   {
    "duration": 8,
    "start_time": "2021-12-15T18:30:12.191Z"
   },
   {
    "duration": 51,
    "start_time": "2021-12-15T18:30:12.201Z"
   },
   {
    "duration": 17,
    "start_time": "2021-12-15T18:30:12.254Z"
   },
   {
    "duration": 3,
    "start_time": "2021-12-15T18:30:12.273Z"
   },
   {
    "duration": 25,
    "start_time": "2021-12-15T18:30:12.278Z"
   },
   {
    "duration": 41,
    "start_time": "2021-12-15T18:30:12.304Z"
   },
   {
    "duration": 18,
    "start_time": "2021-12-15T18:30:12.347Z"
   },
   {
    "duration": 11,
    "start_time": "2021-12-15T18:30:12.367Z"
   },
   {
    "duration": 8,
    "start_time": "2021-12-15T18:30:12.380Z"
   },
   {
    "duration": 4,
    "start_time": "2021-12-15T18:30:12.389Z"
   },
   {
    "duration": 8,
    "start_time": "2021-12-15T18:30:12.395Z"
   },
   {
    "duration": 41,
    "start_time": "2021-12-15T18:30:12.405Z"
   },
   {
    "duration": 2,
    "start_time": "2021-12-15T18:32:55.644Z"
   },
   {
    "duration": 148,
    "start_time": "2021-12-15T18:32:55.648Z"
   },
   {
    "duration": 9,
    "start_time": "2021-12-15T18:32:55.798Z"
   },
   {
    "duration": 45,
    "start_time": "2021-12-15T18:32:55.809Z"
   },
   {
    "duration": 21,
    "start_time": "2021-12-15T18:32:55.855Z"
   },
   {
    "duration": 24,
    "start_time": "2021-12-15T18:32:55.878Z"
   },
   {
    "duration": 10,
    "start_time": "2021-12-15T18:32:55.905Z"
   },
   {
    "duration": 39,
    "start_time": "2021-12-15T18:32:55.917Z"
   },
   {
    "duration": 25,
    "start_time": "2021-12-15T18:32:55.958Z"
   },
   {
    "duration": 28,
    "start_time": "2021-12-15T18:32:55.985Z"
   },
   {
    "duration": 53,
    "start_time": "2021-12-15T18:32:56.015Z"
   },
   {
    "duration": 57,
    "start_time": "2021-12-15T18:32:56.070Z"
   },
   {
    "duration": 58,
    "start_time": "2021-12-15T18:32:56.129Z"
   },
   {
    "duration": 9,
    "start_time": "2021-12-15T18:32:56.189Z"
   },
   {
    "duration": 9,
    "start_time": "2021-12-15T18:32:56.200Z"
   },
   {
    "duration": 19,
    "start_time": "2021-12-15T18:32:56.211Z"
   },
   {
    "duration": 23,
    "start_time": "2021-12-15T18:32:56.232Z"
   },
   {
    "duration": 7,
    "start_time": "2021-12-15T18:32:56.257Z"
   },
   {
    "duration": 35,
    "start_time": "2021-12-15T18:32:56.267Z"
   },
   {
    "duration": 9,
    "start_time": "2021-12-15T18:32:56.304Z"
   },
   {
    "duration": 3,
    "start_time": "2021-12-15T18:32:56.315Z"
   },
   {
    "duration": 38,
    "start_time": "2021-12-15T18:32:56.320Z"
   },
   {
    "duration": 14,
    "start_time": "2021-12-15T18:32:56.360Z"
   },
   {
    "duration": 41,
    "start_time": "2021-12-15T18:32:56.375Z"
   },
   {
    "duration": 26,
    "start_time": "2021-12-15T18:32:56.417Z"
   },
   {
    "duration": 20,
    "start_time": "2021-12-15T18:32:56.445Z"
   },
   {
    "duration": 20,
    "start_time": "2021-12-15T18:32:56.467Z"
   },
   {
    "duration": 20,
    "start_time": "2021-12-15T18:32:56.489Z"
   },
   {
    "duration": 38,
    "start_time": "2021-12-15T18:32:56.510Z"
   },
   {
    "duration": 19,
    "start_time": "2021-12-15T18:32:56.550Z"
   },
   {
    "duration": 34,
    "start_time": "2021-12-15T18:32:56.571Z"
   },
   {
    "duration": 34,
    "start_time": "2021-12-15T18:32:56.606Z"
   },
   {
    "duration": 11,
    "start_time": "2021-12-15T18:32:56.642Z"
   },
   {
    "duration": 29,
    "start_time": "2021-12-15T18:32:56.655Z"
   },
   {
    "duration": 21,
    "start_time": "2021-12-15T18:32:56.685Z"
   },
   {
    "duration": 18,
    "start_time": "2021-12-15T18:32:56.708Z"
   },
   {
    "duration": 19,
    "start_time": "2021-12-15T18:32:56.727Z"
   },
   {
    "duration": 13,
    "start_time": "2021-12-15T18:32:56.747Z"
   },
   {
    "duration": 29,
    "start_time": "2021-12-15T18:32:56.762Z"
   },
   {
    "duration": 84,
    "start_time": "2021-12-15T18:41:31.282Z"
   },
   {
    "duration": 49,
    "start_time": "2021-12-15T18:41:34.843Z"
   },
   {
    "duration": 33,
    "start_time": "2021-12-15T18:41:46.931Z"
   },
   {
    "duration": 343,
    "start_time": "2021-12-15T18:41:57.248Z"
   },
   {
    "duration": 327,
    "start_time": "2021-12-15T18:42:00.779Z"
   },
   {
    "duration": 21,
    "start_time": "2021-12-15T18:42:08.579Z"
   }
  ],
  "colab": {
   "collapsed_sections": [
    "E0vqbgi9ay0H",
    "VUC88oWjTJw2"
   ],
   "name": "yandex_music_project_2021.2.ipynb",
   "provenance": []
  },
  "kernelspec": {
   "display_name": "Python 3 (ipykernel)",
   "language": "python",
   "name": "python3"
  },
  "language_info": {
   "codemirror_mode": {
    "name": "ipython",
    "version": 3
   },
   "file_extension": ".py",
   "mimetype": "text/x-python",
   "name": "python",
   "nbconvert_exporter": "python",
   "pygments_lexer": "ipython3",
   "version": "3.9.7"
  },
  "toc": {
   "base_numbering": 1,
   "nav_menu": {},
   "number_sections": true,
   "sideBar": true,
   "skip_h1_title": true,
   "title_cell": "Table of Contents",
   "title_sidebar": "Contents",
   "toc_cell": false,
   "toc_position": {},
   "toc_section_display": true,
   "toc_window_display": true
  }
 },
 "nbformat": 4,
 "nbformat_minor": 4
}
