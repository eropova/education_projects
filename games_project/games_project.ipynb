{
 "cells": [
  {
   "cell_type": "markdown",
   "id": "d49ea832",
   "metadata": {},
   "source": [
    "# Определение успешности копмьютерных игр\n",
    "**Цель проекта**  \n",
    "Определение успешных компьютерных игр. Заказчик проекта - интернет-магазин «Стримчик», который продаёт по всему миру компьютерные игры. Нужно определить потенциально популярные продукты и спланировать рекламные кампании.  \n",
    "\n",
    "**Имеющиеся данные**  \n",
    "Из открытых источников доступны исторические данные:\n",
    "- о продажах игр, \n",
    "- оценки пользователей и экспертов, \n",
    "- жанры и платформы (например, Xbox или PlayStation)\n",
    "- объемы продаж игр по рынкам Северная Америка, Европа и Япония.  \n",
    "\n",
    "**Ход исследования**  \n",
    "- предобработка данных\n",
    "- исследовательский анализ данных\n",
    "- портрет пользователя (по платформам, жанрам, регинам и возрастному рейтингу)\n",
    "- проверка гипотез.\n"
   ]
  },
  {
   "cell_type": "markdown",
   "id": "60174635",
   "metadata": {},
   "source": [
    "## Изучение данных из файла"
   ]
  },
  {
   "cell_type": "code",
   "execution_count": 1,
   "id": "e593f5de",
   "metadata": {},
   "outputs": [],
   "source": [
    "import pandas as pd\n",
    "import matplotlib.pyplot as plt\n",
    "import seaborn as sns\n",
    "from scipy import stats as st\n",
    "import numpy as np"
   ]
  },
  {
   "cell_type": "code",
   "execution_count": 2,
   "id": "d57208c3",
   "metadata": {},
   "outputs": [],
   "source": [
    "local_path = './'\n",
    "server_path = '/datasets/'\n",
    "file = 'games.csv'\n",
    "try:\n",
    "    data = pd.read_csv(f'{local_path}{file}')\n",
    "except:\n",
    "    data = pd.read_csv(f'{server_path}{file}')"
   ]
  },
  {
   "cell_type": "code",
   "execution_count": 3,
   "id": "75ccea4d",
   "metadata": {},
   "outputs": [
    {
     "name": "stdout",
     "output_type": "stream",
     "text": [
      "<class 'pandas.core.frame.DataFrame'>\n",
      "RangeIndex: 16715 entries, 0 to 16714\n",
      "Data columns (total 11 columns):\n",
      " #   Column           Non-Null Count  Dtype  \n",
      "---  ------           --------------  -----  \n",
      " 0   Name             16713 non-null  object \n",
      " 1   Platform         16715 non-null  object \n",
      " 2   Year_of_Release  16446 non-null  float64\n",
      " 3   Genre            16713 non-null  object \n",
      " 4   NA_sales         16715 non-null  float64\n",
      " 5   EU_sales         16715 non-null  float64\n",
      " 6   JP_sales         16715 non-null  float64\n",
      " 7   Other_sales      16715 non-null  float64\n",
      " 8   Critic_Score     8137 non-null   float64\n",
      " 9   User_Score       10014 non-null  object \n",
      " 10  Rating           9949 non-null   object \n",
      "dtypes: float64(6), object(5)\n",
      "memory usage: 1.4+ MB\n"
     ]
    }
   ],
   "source": [
    "data.info()"
   ]
  },
  {
   "cell_type": "code",
   "execution_count": 4,
   "id": "483b8d33",
   "metadata": {},
   "outputs": [
    {
     "data": {
      "text/html": [
       "<div>\n",
       "<style scoped>\n",
       "    .dataframe tbody tr th:only-of-type {\n",
       "        vertical-align: middle;\n",
       "    }\n",
       "\n",
       "    .dataframe tbody tr th {\n",
       "        vertical-align: top;\n",
       "    }\n",
       "\n",
       "    .dataframe thead th {\n",
       "        text-align: right;\n",
       "    }\n",
       "</style>\n",
       "<table border=\"1\" class=\"dataframe\">\n",
       "  <thead>\n",
       "    <tr style=\"text-align: right;\">\n",
       "      <th></th>\n",
       "      <th>Name</th>\n",
       "      <th>Platform</th>\n",
       "      <th>Year_of_Release</th>\n",
       "      <th>Genre</th>\n",
       "      <th>NA_sales</th>\n",
       "      <th>EU_sales</th>\n",
       "      <th>JP_sales</th>\n",
       "      <th>Other_sales</th>\n",
       "      <th>Critic_Score</th>\n",
       "      <th>User_Score</th>\n",
       "      <th>Rating</th>\n",
       "    </tr>\n",
       "  </thead>\n",
       "  <tbody>\n",
       "    <tr>\n",
       "      <th>0</th>\n",
       "      <td>Wii Sports</td>\n",
       "      <td>Wii</td>\n",
       "      <td>2006.0</td>\n",
       "      <td>Sports</td>\n",
       "      <td>41.36</td>\n",
       "      <td>28.96</td>\n",
       "      <td>3.77</td>\n",
       "      <td>8.45</td>\n",
       "      <td>76.0</td>\n",
       "      <td>8</td>\n",
       "      <td>E</td>\n",
       "    </tr>\n",
       "    <tr>\n",
       "      <th>1</th>\n",
       "      <td>Super Mario Bros.</td>\n",
       "      <td>NES</td>\n",
       "      <td>1985.0</td>\n",
       "      <td>Platform</td>\n",
       "      <td>29.08</td>\n",
       "      <td>3.58</td>\n",
       "      <td>6.81</td>\n",
       "      <td>0.77</td>\n",
       "      <td>NaN</td>\n",
       "      <td>NaN</td>\n",
       "      <td>NaN</td>\n",
       "    </tr>\n",
       "    <tr>\n",
       "      <th>2</th>\n",
       "      <td>Mario Kart Wii</td>\n",
       "      <td>Wii</td>\n",
       "      <td>2008.0</td>\n",
       "      <td>Racing</td>\n",
       "      <td>15.68</td>\n",
       "      <td>12.76</td>\n",
       "      <td>3.79</td>\n",
       "      <td>3.29</td>\n",
       "      <td>82.0</td>\n",
       "      <td>8.3</td>\n",
       "      <td>E</td>\n",
       "    </tr>\n",
       "    <tr>\n",
       "      <th>3</th>\n",
       "      <td>Wii Sports Resort</td>\n",
       "      <td>Wii</td>\n",
       "      <td>2009.0</td>\n",
       "      <td>Sports</td>\n",
       "      <td>15.61</td>\n",
       "      <td>10.93</td>\n",
       "      <td>3.28</td>\n",
       "      <td>2.95</td>\n",
       "      <td>80.0</td>\n",
       "      <td>8</td>\n",
       "      <td>E</td>\n",
       "    </tr>\n",
       "    <tr>\n",
       "      <th>4</th>\n",
       "      <td>Pokemon Red/Pokemon Blue</td>\n",
       "      <td>GB</td>\n",
       "      <td>1996.0</td>\n",
       "      <td>Role-Playing</td>\n",
       "      <td>11.27</td>\n",
       "      <td>8.89</td>\n",
       "      <td>10.22</td>\n",
       "      <td>1.00</td>\n",
       "      <td>NaN</td>\n",
       "      <td>NaN</td>\n",
       "      <td>NaN</td>\n",
       "    </tr>\n",
       "  </tbody>\n",
       "</table>\n",
       "</div>"
      ],
      "text/plain": [
       "                       Name Platform  Year_of_Release         Genre  NA_sales  \\\n",
       "0                Wii Sports      Wii           2006.0        Sports     41.36   \n",
       "1         Super Mario Bros.      NES           1985.0      Platform     29.08   \n",
       "2            Mario Kart Wii      Wii           2008.0        Racing     15.68   \n",
       "3         Wii Sports Resort      Wii           2009.0        Sports     15.61   \n",
       "4  Pokemon Red/Pokemon Blue       GB           1996.0  Role-Playing     11.27   \n",
       "\n",
       "   EU_sales  JP_sales  Other_sales  Critic_Score User_Score Rating  \n",
       "0     28.96      3.77         8.45          76.0          8      E  \n",
       "1      3.58      6.81         0.77           NaN        NaN    NaN  \n",
       "2     12.76      3.79         3.29          82.0        8.3      E  \n",
       "3     10.93      3.28         2.95          80.0          8      E  \n",
       "4      8.89     10.22         1.00           NaN        NaN    NaN  "
      ]
     },
     "execution_count": 4,
     "metadata": {},
     "output_type": "execute_result"
    }
   ],
   "source": [
    "data.head()"
   ]
  },
  {
   "cell_type": "markdown",
   "id": "0fa2a3f0",
   "metadata": {},
   "source": [
    "### Вывод"
   ]
  },
  {
   "cell_type": "markdown",
   "id": "a5fa3966",
   "metadata": {},
   "source": [
    "\n",
    "Методом info() получена общая информация по DataFrame.  \n",
    "    \n",
    "Пустые значения присутствуют в 5 из 11 столбцов.  \n",
    "Строки без значений в столбцах \"Name\" и \"Genre\" можно просто удалить - их всего 2.  \n",
    "В столбце \"User_Score\" целесообразно провести замену NaN нулями, с учетом дальнейшего приведения данных к числовому типу (float64)\n",
    "и использования его и столбца \"Critic_Score\" в математических расчетах.    \n",
    "Кроме этого в \"User_Score\" среди вариантов значения присутствует \"tbd\" - \"to be determined\" (будет определено).  \n",
    "Это можно считать так же пропущенным значением и заменить нулем.\n",
    "     \n",
    "Пропуски в столбце \"Rating\" заполнить возможным не представляется. \n",
    "    \n",
    "Названия столбцов для удобства дальнейшего использования целесообразно переименовать, убрав заглавные буквы.\n",
    "    \n",
    "Типы данные столбцов соответствуют, содержащимся в них данных. Исключение составляют:\n",
    "- \"Year_of_Release\" - дата представлена числом, \n",
    "- \"User_Score\" - оценка представлена строкой.\n",
    "\n"
   ]
  },
  {
   "cell_type": "markdown",
   "id": "9edf88b8",
   "metadata": {},
   "source": [
    "## Предобработка данных"
   ]
  },
  {
   "cell_type": "markdown",
   "id": "dc53da64",
   "metadata": {},
   "source": [
    "### Изменение названий столбцов"
   ]
  },
  {
   "cell_type": "code",
   "execution_count": 5,
   "id": "e6c025a5",
   "metadata": {},
   "outputs": [],
   "source": [
    "colmns = []\n",
    "for col in data.columns:\n",
    "    colmns.append(col.lower())\n",
    "data.columns = colmns"
   ]
  },
  {
   "cell_type": "markdown",
   "id": "5afe09a4",
   "metadata": {},
   "source": [
    "### Изменение типов данных, обработка пропущенных значений"
   ]
  },
  {
   "cell_type": "code",
   "execution_count": 6,
   "id": "46124b03",
   "metadata": {},
   "outputs": [],
   "source": [
    "cols = ['user_score', 'critic_score', 'year_of_release']\n",
    "for col in cols:\n",
    "    data[col].fillna(value=0, inplace=True)\n",
    "    \n",
    "data.loc[data['user_score'] == 'tbd', 'user_score'] = 0"
   ]
  },
  {
   "cell_type": "code",
   "execution_count": 7,
   "id": "45b5c573-d28b-4181-b13e-34ec5b3f016d",
   "metadata": {
    "tags": []
   },
   "outputs": [],
   "source": [
    "data = data.astype({'year_of_release':'int64', 'user_score':'float64'})"
   ]
  },
  {
   "cell_type": "code",
   "execution_count": 8,
   "id": "a4dc581a",
   "metadata": {},
   "outputs": [],
   "source": [
    "data = data.loc[data['name'].isnull() == 0]"
   ]
  },
  {
   "cell_type": "markdown",
   "id": "b3b3660f",
   "metadata": {},
   "source": [
    "Пропущенные значения в столбцах 'user_score', 'critic_score' и 'year_of_release' заменены нулями. Чтобы не создавать дополнительных столбцов в методе fillna() использован атрибут inplace == True. \n",
    "Причинами появления пропусков можно считать ошибки при внесении данных в БД, либо отсутствие этих данных.    \n",
    "\n",
    "Для замены текстового пропуска 'tbd' применена логичсеская индексация по условию. Причиной появления такого значения можно предлопожить \"отложенное заполнение\" к которому позднее не вернулись либо за отсутвием данных, либо забыли.\n",
    "    \n",
    "Из выборки удалены 2 строки с отсутствующим названием игры, полезность их нулевая, на общий срез их удаление никак не повлияет.   \n"
   ]
  },
  {
   "cell_type": "markdown",
   "id": "fa4f70db",
   "metadata": {},
   "source": [
    "### Удаление дубликатов"
   ]
  },
  {
   "cell_type": "code",
   "execution_count": 9,
   "id": "54634fc1",
   "metadata": {},
   "outputs": [
    {
     "data": {
      "text/plain": [
       "0"
      ]
     },
     "execution_count": 9,
     "metadata": {},
     "output_type": "execute_result"
    }
   ],
   "source": [
    "data.duplicated().sum()"
   ]
  },
  {
   "cell_type": "markdown",
   "id": "15e0d87d",
   "metadata": {},
   "source": [
    "\n",
    "Проведена проверка на наличие дубликатов, они отсутствуют.\n"
   ]
  },
  {
   "cell_type": "markdown",
   "id": "fd0ce5a9",
   "metadata": {},
   "source": [
    "### Расчет суммарных продаж во всем регионах"
   ]
  },
  {
   "cell_type": "code",
   "execution_count": 10,
   "id": "1e053a31",
   "metadata": {},
   "outputs": [],
   "source": [
    "data['total_sales'] = data.loc[:,'na_sales':'other_sales'].sum(axis=1)"
   ]
  },
  {
   "cell_type": "markdown",
   "id": "72b04046",
   "metadata": {
    "tags": []
   },
   "source": [
    "### Вывод"
   ]
  },
  {
   "cell_type": "markdown",
   "id": "a96a69f5",
   "metadata": {},
   "source": [
    " \n",
    "Проведена предобработка данных, данные приведены к нужным типам, заполнены пропуски, создан столбец с суммарными продажами по всем регионам.\n"
   ]
  },
  {
   "cell_type": "markdown",
   "id": "aad6d0f7",
   "metadata": {},
   "source": [
    "## Исследовательский анализ данных"
   ]
  },
  {
   "cell_type": "markdown",
   "id": "92c8e96d",
   "metadata": {},
   "source": [
    "### Выпуск игр по годам"
   ]
  },
  {
   "cell_type": "code",
   "execution_count": 11,
   "id": "4c8aa186-52ed-466e-840b-5e0f7388a6ab",
   "metadata": {},
   "outputs": [],
   "source": [
    "group_years = data.groupby('year_of_release').agg({'name':'count'})"
   ]
  },
  {
   "cell_type": "code",
   "execution_count": 12,
   "id": "bd41d115",
   "metadata": {
    "scrolled": true
   },
   "outputs": [
    {
     "data": {
      "image/png": "[encoded data removed]",
      "text/plain": [
       "<Figure size 720x432 with 1 Axes>"
      ]
     },
     "metadata": {
      "needs_background": "light"
     },
     "output_type": "display_data"
    }
   ],
   "source": [
    "group_years.loc[group_years.index != 0].plot(\n",
    "    style='o-', \n",
    "    grid=True, \n",
    "    figsize=(10,6), \n",
    "    title='Выпуск игр по годам')\n",
    "plt.xlabel('Год выпуска')\n",
    "plt.ylabel('Количество игр')\n",
    "plt.show()"
   ]
  },
  {
   "cell_type": "code",
   "execution_count": 13,
   "id": "ca3d862d",
   "metadata": {},
   "outputs": [],
   "source": [
    "group_years['share'] = group_years / len(data)\n",
    "group_years['cum_share'] = group_years['share'].cumsum()"
   ]
  },
  {
   "cell_type": "code",
   "execution_count": 14,
   "id": "f1ab9e31",
   "metadata": {
    "scrolled": true
   },
   "outputs": [
    {
     "data": {
      "text/html": [
       "<div>\n",
       "<style scoped>\n",
       "    .dataframe tbody tr th:only-of-type {\n",
       "        vertical-align: middle;\n",
       "    }\n",
       "\n",
       "    .dataframe tbody tr th {\n",
       "        vertical-align: top;\n",
       "    }\n",
       "\n",
       "    .dataframe thead th {\n",
       "        text-align: right;\n",
       "    }\n",
       "</style>\n",
       "<table border=\"1\" class=\"dataframe\">\n",
       "  <thead>\n",
       "    <tr style=\"text-align: right;\">\n",
       "      <th></th>\n",
       "      <th>name</th>\n",
       "      <th>share</th>\n",
       "      <th>cum_share</th>\n",
       "    </tr>\n",
       "    <tr>\n",
       "      <th>year_of_release</th>\n",
       "      <th></th>\n",
       "      <th></th>\n",
       "      <th></th>\n",
       "    </tr>\n",
       "  </thead>\n",
       "  <tbody>\n",
       "    <tr>\n",
       "      <th>0</th>\n",
       "      <td>269</td>\n",
       "      <td>0.016095</td>\n",
       "      <td>0.016095</td>\n",
       "    </tr>\n",
       "    <tr>\n",
       "      <th>1980</th>\n",
       "      <td>9</td>\n",
       "      <td>0.000539</td>\n",
       "      <td>0.016634</td>\n",
       "    </tr>\n",
       "    <tr>\n",
       "      <th>1981</th>\n",
       "      <td>46</td>\n",
       "      <td>0.002752</td>\n",
       "      <td>0.019386</td>\n",
       "    </tr>\n",
       "    <tr>\n",
       "      <th>1982</th>\n",
       "      <td>36</td>\n",
       "      <td>0.002154</td>\n",
       "      <td>0.021540</td>\n",
       "    </tr>\n",
       "    <tr>\n",
       "      <th>1983</th>\n",
       "      <td>17</td>\n",
       "      <td>0.001017</td>\n",
       "      <td>0.022557</td>\n",
       "    </tr>\n",
       "    <tr>\n",
       "      <th>1984</th>\n",
       "      <td>14</td>\n",
       "      <td>0.000838</td>\n",
       "      <td>0.023395</td>\n",
       "    </tr>\n",
       "    <tr>\n",
       "      <th>1985</th>\n",
       "      <td>14</td>\n",
       "      <td>0.000838</td>\n",
       "      <td>0.024233</td>\n",
       "    </tr>\n",
       "    <tr>\n",
       "      <th>1986</th>\n",
       "      <td>21</td>\n",
       "      <td>0.001257</td>\n",
       "      <td>0.025489</td>\n",
       "    </tr>\n",
       "    <tr>\n",
       "      <th>1987</th>\n",
       "      <td>16</td>\n",
       "      <td>0.000957</td>\n",
       "      <td>0.026446</td>\n",
       "    </tr>\n",
       "    <tr>\n",
       "      <th>1988</th>\n",
       "      <td>15</td>\n",
       "      <td>0.000898</td>\n",
       "      <td>0.027344</td>\n",
       "    </tr>\n",
       "    <tr>\n",
       "      <th>1989</th>\n",
       "      <td>17</td>\n",
       "      <td>0.001017</td>\n",
       "      <td>0.028361</td>\n",
       "    </tr>\n",
       "    <tr>\n",
       "      <th>1990</th>\n",
       "      <td>16</td>\n",
       "      <td>0.000957</td>\n",
       "      <td>0.029318</td>\n",
       "    </tr>\n",
       "    <tr>\n",
       "      <th>1991</th>\n",
       "      <td>41</td>\n",
       "      <td>0.002453</td>\n",
       "      <td>0.031772</td>\n",
       "    </tr>\n",
       "    <tr>\n",
       "      <th>1992</th>\n",
       "      <td>43</td>\n",
       "      <td>0.002573</td>\n",
       "      <td>0.034345</td>\n",
       "    </tr>\n",
       "    <tr>\n",
       "      <th>1993</th>\n",
       "      <td>60</td>\n",
       "      <td>0.003590</td>\n",
       "      <td>0.037935</td>\n",
       "    </tr>\n",
       "    <tr>\n",
       "      <th>1994</th>\n",
       "      <td>121</td>\n",
       "      <td>0.007240</td>\n",
       "      <td>0.045174</td>\n",
       "    </tr>\n",
       "    <tr>\n",
       "      <th>1995</th>\n",
       "      <td>219</td>\n",
       "      <td>0.013104</td>\n",
       "      <td>0.058278</td>\n",
       "    </tr>\n",
       "    <tr>\n",
       "      <th>1996</th>\n",
       "      <td>263</td>\n",
       "      <td>0.015736</td>\n",
       "      <td>0.074014</td>\n",
       "    </tr>\n",
       "    <tr>\n",
       "      <th>1997</th>\n",
       "      <td>289</td>\n",
       "      <td>0.017292</td>\n",
       "      <td>0.091306</td>\n",
       "    </tr>\n",
       "    <tr>\n",
       "      <th>1998</th>\n",
       "      <td>379</td>\n",
       "      <td>0.022677</td>\n",
       "      <td>0.113983</td>\n",
       "    </tr>\n",
       "    <tr>\n",
       "      <th>1999</th>\n",
       "      <td>338</td>\n",
       "      <td>0.020224</td>\n",
       "      <td>0.134207</td>\n",
       "    </tr>\n",
       "    <tr>\n",
       "      <th>2000</th>\n",
       "      <td>350</td>\n",
       "      <td>0.020942</td>\n",
       "      <td>0.155149</td>\n",
       "    </tr>\n",
       "    <tr>\n",
       "      <th>2001</th>\n",
       "      <td>482</td>\n",
       "      <td>0.028840</td>\n",
       "      <td>0.183989</td>\n",
       "    </tr>\n",
       "    <tr>\n",
       "      <th>2002</th>\n",
       "      <td>829</td>\n",
       "      <td>0.049602</td>\n",
       "      <td>0.233591</td>\n",
       "    </tr>\n",
       "    <tr>\n",
       "      <th>2003</th>\n",
       "      <td>775</td>\n",
       "      <td>0.046371</td>\n",
       "      <td>0.279962</td>\n",
       "    </tr>\n",
       "    <tr>\n",
       "      <th>2004</th>\n",
       "      <td>762</td>\n",
       "      <td>0.045593</td>\n",
       "      <td>0.325555</td>\n",
       "    </tr>\n",
       "    <tr>\n",
       "      <th>2005</th>\n",
       "      <td>939</td>\n",
       "      <td>0.056184</td>\n",
       "      <td>0.381739</td>\n",
       "    </tr>\n",
       "    <tr>\n",
       "      <th>2006</th>\n",
       "      <td>1006</td>\n",
       "      <td>0.060193</td>\n",
       "      <td>0.441931</td>\n",
       "    </tr>\n",
       "    <tr>\n",
       "      <th>2007</th>\n",
       "      <td>1197</td>\n",
       "      <td>0.071621</td>\n",
       "      <td>0.513552</td>\n",
       "    </tr>\n",
       "    <tr>\n",
       "      <th>2008</th>\n",
       "      <td>1427</td>\n",
       "      <td>0.085383</td>\n",
       "      <td>0.598935</td>\n",
       "    </tr>\n",
       "    <tr>\n",
       "      <th>2009</th>\n",
       "      <td>1426</td>\n",
       "      <td>0.085323</td>\n",
       "      <td>0.684258</td>\n",
       "    </tr>\n",
       "    <tr>\n",
       "      <th>2010</th>\n",
       "      <td>1255</td>\n",
       "      <td>0.075091</td>\n",
       "      <td>0.759349</td>\n",
       "    </tr>\n",
       "    <tr>\n",
       "      <th>2011</th>\n",
       "      <td>1136</td>\n",
       "      <td>0.067971</td>\n",
       "      <td>0.827320</td>\n",
       "    </tr>\n",
       "    <tr>\n",
       "      <th>2012</th>\n",
       "      <td>653</td>\n",
       "      <td>0.039071</td>\n",
       "      <td>0.866391</td>\n",
       "    </tr>\n",
       "    <tr>\n",
       "      <th>2013</th>\n",
       "      <td>544</td>\n",
       "      <td>0.032550</td>\n",
       "      <td>0.898941</td>\n",
       "    </tr>\n",
       "    <tr>\n",
       "      <th>2014</th>\n",
       "      <td>581</td>\n",
       "      <td>0.034763</td>\n",
       "      <td>0.933704</td>\n",
       "    </tr>\n",
       "    <tr>\n",
       "      <th>2015</th>\n",
       "      <td>606</td>\n",
       "      <td>0.036259</td>\n",
       "      <td>0.969964</td>\n",
       "    </tr>\n",
       "    <tr>\n",
       "      <th>2016</th>\n",
       "      <td>502</td>\n",
       "      <td>0.030036</td>\n",
       "      <td>1.000000</td>\n",
       "    </tr>\n",
       "  </tbody>\n",
       "</table>\n",
       "</div>"
      ],
      "text/plain": [
       "                 name     share  cum_share\n",
       "year_of_release                           \n",
       "0                 269  0.016095   0.016095\n",
       "1980                9  0.000539   0.016634\n",
       "1981               46  0.002752   0.019386\n",
       "1982               36  0.002154   0.021540\n",
       "1983               17  0.001017   0.022557\n",
       "1984               14  0.000838   0.023395\n",
       "1985               14  0.000838   0.024233\n",
       "1986               21  0.001257   0.025489\n",
       "1987               16  0.000957   0.026446\n",
       "1988               15  0.000898   0.027344\n",
       "1989               17  0.001017   0.028361\n",
       "1990               16  0.000957   0.029318\n",
       "1991               41  0.002453   0.031772\n",
       "1992               43  0.002573   0.034345\n",
       "1993               60  0.003590   0.037935\n",
       "1994              121  0.007240   0.045174\n",
       "1995              219  0.013104   0.058278\n",
       "1996              263  0.015736   0.074014\n",
       "1997              289  0.017292   0.091306\n",
       "1998              379  0.022677   0.113983\n",
       "1999              338  0.020224   0.134207\n",
       "2000              350  0.020942   0.155149\n",
       "2001              482  0.028840   0.183989\n",
       "2002              829  0.049602   0.233591\n",
       "2003              775  0.046371   0.279962\n",
       "2004              762  0.045593   0.325555\n",
       "2005              939  0.056184   0.381739\n",
       "2006             1006  0.060193   0.441931\n",
       "2007             1197  0.071621   0.513552\n",
       "2008             1427  0.085383   0.598935\n",
       "2009             1426  0.085323   0.684258\n",
       "2010             1255  0.075091   0.759349\n",
       "2011             1136  0.067971   0.827320\n",
       "2012              653  0.039071   0.866391\n",
       "2013              544  0.032550   0.898941\n",
       "2014              581  0.034763   0.933704\n",
       "2015              606  0.036259   0.969964\n",
       "2016              502  0.030036   1.000000"
      ]
     },
     "execution_count": 14,
     "metadata": {},
     "output_type": "execute_result"
    }
   ],
   "source": [
    "group_years"
   ]
  },
  {
   "cell_type": "markdown",
   "id": "3ff983a7",
   "metadata": {},
   "source": [
    "В DF представлены данные с 1980 по 2016 гг., при этом у 269 игр год выпуска не указан вовсе.  \n",
    "Для прогноза на 2017 г. актуальной будет информация для игр выпуска не позднее 2007 года (10 лет).   \n",
    "\n",
    "Принимая за период развития и уход с рынка платформ 7-8 лет выбранный период выпуска игр оптимален.\n",
    "    \n",
    "Данные до 2007 года будут исключены из DF для дальнейшего анализа. От первоначальной выборки останется порядка 50% данных.\n"
   ]
  },
  {
   "cell_type": "markdown",
   "id": "c006726f",
   "metadata": {},
   "source": [
    "### Продажа игр по платформам"
   ]
  },
  {
   "cell_type": "code",
   "execution_count": 15,
   "id": "c8a0070d",
   "metadata": {},
   "outputs": [],
   "source": [
    "# удалим данные по играм старше 2007 выпуска\n",
    "data_corr = data.query('year_of_release >= 2007')"
   ]
  },
  {
   "cell_type": "code",
   "execution_count": 16,
   "id": "ec58f898",
   "metadata": {},
   "outputs": [],
   "source": [
    "group_platform = data_corr.pivot_table(\n",
    "    index='platform', \n",
    "    values='total_sales', \n",
    "    aggfunc='sum').sort_values(\n",
    "    by='total_sales', \n",
    "    ascending=False)"
   ]
  },
  {
   "cell_type": "code",
   "execution_count": 17,
   "id": "8f2b2202",
   "metadata": {},
   "outputs": [
    {
     "data": {
      "text/html": [
       "<div>\n",
       "<style scoped>\n",
       "    .dataframe tbody tr th:only-of-type {\n",
       "        vertical-align: middle;\n",
       "    }\n",
       "\n",
       "    .dataframe tbody tr th {\n",
       "        vertical-align: top;\n",
       "    }\n",
       "\n",
       "    .dataframe thead th {\n",
       "        text-align: right;\n",
       "    }\n",
       "</style>\n",
       "<table border=\"1\" class=\"dataframe\">\n",
       "  <thead>\n",
       "    <tr style=\"text-align: right;\">\n",
       "      <th></th>\n",
       "      <th>total_sales</th>\n",
       "    </tr>\n",
       "    <tr>\n",
       "      <th>platform</th>\n",
       "      <th></th>\n",
       "    </tr>\n",
       "  </thead>\n",
       "  <tbody>\n",
       "    <tr>\n",
       "      <th>PS3</th>\n",
       "      <td>910.38</td>\n",
       "    </tr>\n",
       "    <tr>\n",
       "      <th>X360</th>\n",
       "      <td>901.37</td>\n",
       "    </tr>\n",
       "    <tr>\n",
       "      <th>Wii</th>\n",
       "      <td>754.03</td>\n",
       "    </tr>\n",
       "    <tr>\n",
       "      <th>DS</th>\n",
       "      <td>535.54</td>\n",
       "    </tr>\n",
       "    <tr>\n",
       "      <th>PS4</th>\n",
       "      <td>314.14</td>\n",
       "    </tr>\n",
       "    <tr>\n",
       "      <th>3DS</th>\n",
       "      <td>257.81</td>\n",
       "    </tr>\n",
       "    <tr>\n",
       "      <th>PSP</th>\n",
       "      <td>183.31</td>\n",
       "    </tr>\n",
       "    <tr>\n",
       "      <th>PS2</th>\n",
       "      <td>162.38</td>\n",
       "    </tr>\n",
       "    <tr>\n",
       "      <th>PC</th>\n",
       "      <td>160.57</td>\n",
       "    </tr>\n",
       "    <tr>\n",
       "      <th>XOne</th>\n",
       "      <td>159.32</td>\n",
       "    </tr>\n",
       "  </tbody>\n",
       "</table>\n",
       "</div>"
      ],
      "text/plain": [
       "          total_sales\n",
       "platform             \n",
       "PS3            910.38\n",
       "X360           901.37\n",
       "Wii            754.03\n",
       "DS             535.54\n",
       "PS4            314.14\n",
       "3DS            257.81\n",
       "PSP            183.31\n",
       "PS2            162.38\n",
       "PC             160.57\n",
       "XOne           159.32"
      ]
     },
     "execution_count": 17,
     "metadata": {},
     "output_type": "execute_result"
    }
   ],
   "source": [
    "top_platforms = group_platform.head(10)\n",
    "top_platforms"
   ]
  },
  {
   "cell_type": "code",
   "execution_count": 18,
   "id": "fd1e3bca",
   "metadata": {},
   "outputs": [],
   "source": [
    "group_platform_year = data_corr.pivot_table(\n",
    "    index=['platform', 'year_of_release'], \n",
    "    values='total_sales', \n",
    "    aggfunc='sum').reset_index(level=1)"
   ]
  },
  {
   "cell_type": "code",
   "execution_count": 19,
   "id": "b6ca684c-cf5b-424e-9ccd-bfa7525ba266",
   "metadata": {},
   "outputs": [
    {
     "data": {
      "image/png": "[encoded data removed]",
      "text/plain": [
       "<Figure size 1440x2160 with 10 Axes>"
      ]
     },
     "metadata": {
      "needs_background": "light"
     },
     "output_type": "display_data"
    }
   ],
   "source": [
    "top_platforms_names = top_platforms.index.to_list()\n",
    "\n",
    "num_c = 2\n",
    "num_r = len(top_platforms_names)//2\n",
    "\n",
    "fig, ax = plt.subplots(\n",
    "    nrows=num_r,\n",
    "    ncols=num_c,\n",
    "    figsize=(20, 30),\n",
    "    sharey=True,\n",
    "    sharex=True\n",
    "    \n",
    ")\n",
    "\n",
    "fig.suptitle(\n",
    "    'Продажа игр по платформам топ-10', \n",
    "    fontsize = 15,\n",
    "    va='center'\n",
    ")\n",
    "\n",
    "for plat in top_platforms_names:\n",
    "    row = top_platforms_names.index(plat) // num_c\n",
    "    col = top_platforms_names.index(plat) % num_c\n",
    "    ax[row, col].bar(\n",
    "        x = group_platform_year.loc[plat]['year_of_release'],\n",
    "        height = group_platform_year.loc[plat]['total_sales'],\n",
    "\n",
    "    )\n",
    "\n",
    "    ax[row, col].set_title(plat, fontsize = 14)\n",
    "    ax[row, col].set_xlabel('Год выпуска')\n",
    "    ax[row, col].set_ylabel('Продажи')\n",
    "\n",
    "plt.tight_layout()  "
   ]
  },
  {
   "cell_type": "markdown",
   "id": "12794a6e",
   "metadata": {},
   "source": [
    " \n",
    "После очистки данных от неактуальных показателей сделан срез по платформам.\n",
    "    \n",
    "Для анализа применен графический метод - построение столбчатых диаграмм по годам и сумме общих продаж для топ-10 по объему полученной выручки платформ.\n",
    "\n",
    "Выводы можно сделать следующие:\n",
    "- PS3, X360 и WII к 2016 году значительно снизили показатели по выручке. Платформы находятся на завершающем этапе жизненного цикла.\n",
    "- DS, PSP и PS2 к 2016 уже полностью ушли с рынка, хотя ранее показывали хорошие продажи.\n",
    "- PS4 в 2016 году снизили объем выручки по сравнению с 2015 г почти в два раза, но платформа на рынке только 4 года, можно предположить рост продаж в 2017\n",
    "- аналогично ситуация обстоит с XOne - платформа на рынке 4 года, но выручка 2016 гораздо ниже 2015 года    \n",
    "- 3DS c 2014 года показывает устойчивый тренд на снижение объемов выручки, можно предположить что в 2017 снижение продолжится.\n",
    "- PC замыкает топ-10 по объему выручки, в 2016 продолжился тренд на снижение.   \n",
    "    \n",
    "Потенциально прибыльными платформами на 2017 г будем считать PS4, XOne т.к. они имеют \"запас\" жизненного цикла, а также 3DS и PC - несмотря на снижение, объемы продаж существенные. "
   ]
  },
  {
   "cell_type": "markdown",
   "id": "a35005c1",
   "metadata": {},
   "source": [
    "### Построение диаграмм размаха по платформам"
   ]
  },
  {
   "cell_type": "code",
   "execution_count": 20,
   "id": "7342458f-d48e-4a5c-af5e-ea8ce77d4049",
   "metadata": {
    "tags": []
   },
   "outputs": [
    {
     "data": {
      "image/png": "[encoded data removed]",
      "text/plain": [
       "<Figure size 1440x720 with 1 Axes>"
      ]
     },
     "metadata": {
      "needs_background": "light"
     },
     "output_type": "display_data"
    }
   ],
   "source": [
    "plt.figure(figsize=(20,10),)\n",
    "sns.boxplot(\n",
    "    data = group_platform_year.query(\n",
    "        'platform in @top_platforms_names').reset_index().sort_values(\n",
    "        by='total_sales',),\n",
    "    y='total_sales',\n",
    "    x='platform',\n",
    "     medianprops=dict(color=\"#f7cf05\", alpha=.7, linewidth=3)\n",
    "\n",
    ")\n",
    "plt.title('Диаграммы размаха продаж игр по платформам', size=15)\n",
    "plt.xlabel('Платформа')\n",
    "plt.ylabel('Продажи')\n",
    "plt.show()"
   ]
  },
  {
   "cell_type": "markdown",
   "id": "45bf2d06",
   "metadata": {},
   "source": [
    "\n",
    "Построение boxplot по суммарным продажам в разрее платформ позволяет определить распределение их значений.\n",
    "На основании графиков можно сделать следующие:\n",
    "- PSP и PS2 имеют схожие распределения - медиана смещена вниз к первому квартилю, большая часть значений лежит выше медианы,\n",
    "- WII медиана смещена вниз к первому квартилю, большая часть значений лежит выше медианы,  \n",
    "- X360 медиана незначительно выше среднего, значения распределены относительно равномерно,\n",
    "- PS3 медиана смещена вверх к третьему квартилю, большая часть значений лежит ниже медианы, \n",
    "- DS медиана незначительно выше среднего, значения распределены относительно равномерно,\n",
    "- PS4 медиана незначительно выше среднего, значения распределены относительно равномерно, но с преобладанием значений в нижней части,\n",
    "- 3DS медиана смещена вверх к третьему квартилю, большая часть значений лежит ниже медианы,\n",
    "- PC медиана смещена вниз к первому квартилю, большая часть значений лежит выше медианы, верхний \"ус\" значительно длинее нижнего,\n",
    "- XOne медиана примерно равна среднему, график выглядит практически симметрично относительно середины, распределения значений небольшие. \n"
   ]
  },
  {
   "cell_type": "markdown",
   "id": "6fcc3e62",
   "metadata": {
    "tags": []
   },
   "source": [
    "### Корреляция отзывов и продаж игр на платформах \"PS4\", \"XOne\", \"PC\" и \"3DS\""
   ]
  },
  {
   "cell_type": "markdown",
   "id": "cc9a06c1-720e-4fec-bbf5-e0dd92667c69",
   "metadata": {},
   "source": [
    "Ранее были обозначены потенциально прибыльные платформы на 2017: PS4, XOne, DS и PC.  \n",
    "Проведем более глубокий анализ по ним."
   ]
  },
  {
   "cell_type": "code",
   "execution_count": 21,
   "id": "482f670e-3372-4118-88a9-1972adabda77",
   "metadata": {},
   "outputs": [],
   "source": [
    "# функция для отбора данных по платформе\n",
    "def get_data_stat(df, platform):\n",
    "    colmns = ['total_sales', 'user_score', 'critic_score']\n",
    "    data_stat = df.query('platform == @platform and critic_score !=0 and user_score !=0'\n",
    "                        ).reset_index(drop=True)\n",
    "    return data_stat[colmns]"
   ]
  },
  {
   "cell_type": "code",
   "execution_count": 22,
   "id": "a53fe21b-2d0a-44f3-b4b4-1802dc8a82d0",
   "metadata": {},
   "outputs": [],
   "source": [
    "top_4_platform = [\"PS4\", \"XOne\", \"PC\", \"3DS\"]\n",
    "\n",
    "for p in top_4_platform:\n",
    "    exec(f'data_stat_{p.lower()} = get_data_stat(data_corr, p)')"
   ]
  },
  {
   "cell_type": "code",
   "execution_count": 23,
   "id": "359a542e-3df0-48ef-8d71-5e8ab8f4ed2f",
   "metadata": {},
   "outputs": [
    {
     "data": {
      "image/png": "[encoded data removed]",
      "text/plain": [
       "<Figure size 648x648 with 9 Axes>"
      ]
     },
     "metadata": {
      "needs_background": "light"
     },
     "output_type": "display_data"
    }
   ],
   "source": [
    "#проанализируем ключевые показатели по наиболее перспективной платформе PS4\n",
    "pd.plotting.scatter_matrix(data_stat_ps4, figsize=(9, 9)) \n",
    "plt.show()"
   ]
  },
  {
   "cell_type": "markdown",
   "id": "a49a75ab",
   "metadata": {
    "tags": []
   },
   "source": [
    "\n",
    "При попарном сравнении распределений показателей столбцов 'total_sales', 'user_score' и 'critic_score' продаж игр на платформе PS4 можно заметить следующее:\n",
    "- гистограмма распределения по сумме выручки в таком разрезе значительных колебаний не имеет, пик приходит на значения 0-1 млн.копий\n",
    "- значения отзывов пользователей и продажи связаны достаточно тесно на уровне оценки 6-8, в остальных значениях присутствует разброс данных\n",
    "- аналогичным образом продажи связаны с оценками экспертов, тесная взаимосвязь на уровне оценки 60-80, в остальных значениях широкий разброс.\n",
    "- гистограмма пользовательских оценок показывает пик на уровне 8, встречаемость оценки 6-7 следующая по частоте.\n",
    "- гистограмма экспертных оценок показывает пик на уровне 80, немного меньшая частота 70, оценки больше 80 и менее 70 представлены реже.\n",
    "- значения пользовательских и экспертных оценок связаны слабо, заметен сильный разброс данных.\n"
   ]
  },
  {
   "cell_type": "markdown",
   "id": "c23f822a-64ef-435d-867f-22bf6d347b2b",
   "metadata": {},
   "source": [
    "Посмотрим далее подробнее взамосвязь оценок игры с ее суммарными продажами. Срез сделаем по топ-4 плаформ.  \n",
    "Для этого расчитаем корреляцию показателей и построим тепловые карты взаимосвязи анализируемых показателей для визуализации полученой информации "
   ]
  },
  {
   "cell_type": "code",
   "execution_count": 24,
   "id": "3423b178-138b-4874-adc3-a9d7f1ad0a24",
   "metadata": {},
   "outputs": [],
   "source": [
    "# функция создания для тепловой карты по показателям суммарные продажи и оценки пользователей / экспертов\n",
    "# дополнительный срез по платформе\n",
    "\n",
    "def get_heatmap(df, platform):\n",
    "    df['total_sales'] = df['total_sales'].round(2)\n",
    "\n",
    "    fig, (ax1, ax2) = plt.subplots(1, 2, figsize=(10,6), )\n",
    "    fig.suptitle(f'Взаимосвязь суммарных продаж на платформе {platform} \\nс оценками пользователей и экспертов',\n",
    "                fontsize=14)\n",
    "\n",
    "    ax1 = plt.subplot(121, xlabel='').set_title('Оценки пользователей')\n",
    "    sns.heatmap(\n",
    "        df.pivot_table('user_score',  'total_sales', ),\n",
    "        xticklabels=False,\n",
    "        cmap='autumn'\n",
    "    )\n",
    "\n",
    "    ax2 = plt.subplot(122, xlabel='').set_title('Оценки экспертов')\n",
    "    ax2 = sns.heatmap(\n",
    "        df.pivot_table('critic_score', 'total_sales', ),\n",
    "        xticklabels=False,\n",
    "        cmap='autumn'\n",
    "    )\n",
    "    plt.show()"
   ]
  },
  {
   "cell_type": "code",
   "execution_count": 25,
   "id": "1890453b",
   "metadata": {},
   "outputs": [
    {
     "data": {
      "text/html": [
       "<div>\n",
       "<style scoped>\n",
       "    .dataframe tbody tr th:only-of-type {\n",
       "        vertical-align: middle;\n",
       "    }\n",
       "\n",
       "    .dataframe tbody tr th {\n",
       "        vertical-align: top;\n",
       "    }\n",
       "\n",
       "    .dataframe thead th {\n",
       "        text-align: right;\n",
       "    }\n",
       "</style>\n",
       "<table border=\"1\" class=\"dataframe\">\n",
       "  <thead>\n",
       "    <tr style=\"text-align: right;\">\n",
       "      <th></th>\n",
       "      <th>total_sales</th>\n",
       "      <th>user_score</th>\n",
       "      <th>critic_score</th>\n",
       "    </tr>\n",
       "  </thead>\n",
       "  <tbody>\n",
       "    <tr>\n",
       "      <th>total_sales</th>\n",
       "      <td>1.000000</td>\n",
       "      <td>-0.033625</td>\n",
       "      <td>0.405895</td>\n",
       "    </tr>\n",
       "    <tr>\n",
       "      <th>user_score</th>\n",
       "      <td>-0.033625</td>\n",
       "      <td>1.000000</td>\n",
       "      <td>0.557654</td>\n",
       "    </tr>\n",
       "    <tr>\n",
       "      <th>critic_score</th>\n",
       "      <td>0.405895</td>\n",
       "      <td>0.557654</td>\n",
       "      <td>1.000000</td>\n",
       "    </tr>\n",
       "  </tbody>\n",
       "</table>\n",
       "</div>"
      ],
      "text/plain": [
       "              total_sales  user_score  critic_score\n",
       "total_sales      1.000000   -0.033625      0.405895\n",
       "user_score      -0.033625    1.000000      0.557654\n",
       "critic_score     0.405895    0.557654      1.000000"
      ]
     },
     "execution_count": 25,
     "metadata": {},
     "output_type": "execute_result"
    }
   ],
   "source": [
    "data_stat_ps4.corr()"
   ]
  },
  {
   "cell_type": "code",
   "execution_count": 26,
   "id": "830270af-2217-499b-88a4-30b50a693808",
   "metadata": {},
   "outputs": [
    {
     "data": {
      "image/png": "[encoded data removed]",
      "text/plain": [
       "<Figure size 720x432 with 4 Axes>"
      ]
     },
     "metadata": {
      "needs_background": "light"
     },
     "output_type": "display_data"
    }
   ],
   "source": [
    "get_heatmap(data_stat_ps4, 'PS4')"
   ]
  },
  {
   "cell_type": "markdown",
   "id": "9d3747ce-7953-4d1d-8fac-5daea44a0391",
   "metadata": {},
   "source": [
    "На тепловой карте игр на **платформе PS4** хорошо заметна тесная взаимосвязь показателей \"оценка экспертов\" и \"суммарные продажи\" - чем выше один показатель тем выше и другой. Взамосвязь \"оценка пользователей\" и \"суммарные продажи\" менее выражена - встречаются низкие оценки коммерчески успешных игр и высокие оценки игр с небольшими продажами.  \n",
    "Минимальная оценка экспертов 50 из 100, пользователей 2 из 10. Максимальные значения близки к своим пределам (100 и 10 соответственно)."
   ]
  },
  {
   "cell_type": "code",
   "execution_count": 27,
   "id": "fc476ee0",
   "metadata": {
    "tags": []
   },
   "outputs": [
    {
     "data": {
      "text/html": [
       "<div>\n",
       "<style scoped>\n",
       "    .dataframe tbody tr th:only-of-type {\n",
       "        vertical-align: middle;\n",
       "    }\n",
       "\n",
       "    .dataframe tbody tr th {\n",
       "        vertical-align: top;\n",
       "    }\n",
       "\n",
       "    .dataframe thead th {\n",
       "        text-align: right;\n",
       "    }\n",
       "</style>\n",
       "<table border=\"1\" class=\"dataframe\">\n",
       "  <thead>\n",
       "    <tr style=\"text-align: right;\">\n",
       "      <th></th>\n",
       "      <th>total_sales</th>\n",
       "      <th>user_score</th>\n",
       "      <th>critic_score</th>\n",
       "    </tr>\n",
       "  </thead>\n",
       "  <tbody>\n",
       "    <tr>\n",
       "      <th>total_sales</th>\n",
       "      <td>1.000000</td>\n",
       "      <td>-0.094003</td>\n",
       "      <td>0.410422</td>\n",
       "    </tr>\n",
       "    <tr>\n",
       "      <th>user_score</th>\n",
       "      <td>-0.094003</td>\n",
       "      <td>1.000000</td>\n",
       "      <td>0.472462</td>\n",
       "    </tr>\n",
       "    <tr>\n",
       "      <th>critic_score</th>\n",
       "      <td>0.410422</td>\n",
       "      <td>0.472462</td>\n",
       "      <td>1.000000</td>\n",
       "    </tr>\n",
       "  </tbody>\n",
       "</table>\n",
       "</div>"
      ],
      "text/plain": [
       "              total_sales  user_score  critic_score\n",
       "total_sales      1.000000   -0.094003      0.410422\n",
       "user_score      -0.094003    1.000000      0.472462\n",
       "critic_score     0.410422    0.472462      1.000000"
      ]
     },
     "execution_count": 27,
     "metadata": {},
     "output_type": "execute_result"
    }
   ],
   "source": [
    "data_stat_xone.corr()"
   ]
  },
  {
   "cell_type": "code",
   "execution_count": 28,
   "id": "e9c21f59-be71-49c8-9c61-b18d4c2a0344",
   "metadata": {},
   "outputs": [
    {
     "data": {
      "image/png": "[encoded data removed]",
      "text/plain": [
       "<Figure size 720x432 with 4 Axes>"
      ]
     },
     "metadata": {
      "needs_background": "light"
     },
     "output_type": "display_data"
    }
   ],
   "source": [
    "get_heatmap(data_stat_xone, 'XOne')"
   ]
  },
  {
   "cell_type": "markdown",
   "id": "371ae533-88fc-47c0-b735-3b6114d9fcd6",
   "metadata": {},
   "source": [
    "На тепловой карте игр на **платформе XOne** еще более отчетливо заметна тесная взаимосвязь показателей \"оценка экспертов\" и \"суммарные продажи\" - чем выше один показатель тем выше и другой. Взамосвязь \"оценка пользователей\" и \"суммарные продажи\" менее выражена - встречаются низкие оценки коммерчески успешных игр и высокие оценки игр с небольшими продажами.  \n",
    "Минимальная оценка экспертов 20 из 100, что существенно ниже минимальной оценки на платформе PS4. При этом минимальная оценка пользователей близка по значению к платформе PS4. Максимальные значения также близки к своим пределам."
   ]
  },
  {
   "cell_type": "code",
   "execution_count": 29,
   "id": "713701ab",
   "metadata": {},
   "outputs": [
    {
     "data": {
      "text/html": [
       "<div>\n",
       "<style scoped>\n",
       "    .dataframe tbody tr th:only-of-type {\n",
       "        vertical-align: middle;\n",
       "    }\n",
       "\n",
       "    .dataframe tbody tr th {\n",
       "        vertical-align: top;\n",
       "    }\n",
       "\n",
       "    .dataframe thead th {\n",
       "        text-align: right;\n",
       "    }\n",
       "</style>\n",
       "<table border=\"1\" class=\"dataframe\">\n",
       "  <thead>\n",
       "    <tr style=\"text-align: right;\">\n",
       "      <th></th>\n",
       "      <th>total_sales</th>\n",
       "      <th>user_score</th>\n",
       "      <th>critic_score</th>\n",
       "    </tr>\n",
       "  </thead>\n",
       "  <tbody>\n",
       "    <tr>\n",
       "      <th>total_sales</th>\n",
       "      <td>1.000000</td>\n",
       "      <td>-0.008355</td>\n",
       "      <td>0.298107</td>\n",
       "    </tr>\n",
       "    <tr>\n",
       "      <th>user_score</th>\n",
       "      <td>-0.008355</td>\n",
       "      <td>1.000000</td>\n",
       "      <td>0.518416</td>\n",
       "    </tr>\n",
       "    <tr>\n",
       "      <th>critic_score</th>\n",
       "      <td>0.298107</td>\n",
       "      <td>0.518416</td>\n",
       "      <td>1.000000</td>\n",
       "    </tr>\n",
       "  </tbody>\n",
       "</table>\n",
       "</div>"
      ],
      "text/plain": [
       "              total_sales  user_score  critic_score\n",
       "total_sales      1.000000   -0.008355      0.298107\n",
       "user_score      -0.008355    1.000000      0.518416\n",
       "critic_score     0.298107    0.518416      1.000000"
      ]
     },
     "execution_count": 29,
     "metadata": {},
     "output_type": "execute_result"
    }
   ],
   "source": [
    "data_stat_pc.corr()"
   ]
  },
  {
   "cell_type": "code",
   "execution_count": 30,
   "id": "09018504-2010-4cf7-a44f-52d6e2a6671b",
   "metadata": {},
   "outputs": [
    {
     "data": {
      "image/png": "[encoded data removed]",
      "text/plain": [
       "<Figure size 720x432 with 4 Axes>"
      ]
     },
     "metadata": {
      "needs_background": "light"
     },
     "output_type": "display_data"
    }
   ],
   "source": [
    "get_heatmap(data_stat_pc, 'PC')"
   ]
  },
  {
   "cell_type": "markdown",
   "id": "8b2327c6-6c4e-4402-bf4f-44985e9e2088",
   "metadata": {},
   "source": [
    "На тепловой карте игр на **платформе PC** хорошо заметна тесная взаимосвязь показателей \"оценка экспертов\" и \"суммарные продажи\" - чем выше один показатель тем выше и другой. Взамосвязь \"оценка пользователей\" и \"суммарные продажи\" менее выражена. Достаточно много низких оценок (2-4) коммерчески успешных игр (суммарные продажи свыше 0,5) и высокие оценки игр (7-8) с небольшими продажами (менее 0,2).  \n",
    "Минимальная оценка экспертов 40 из 100, это ближе к показателю минимальной оценки на платформе PS4. Максимальное значение пользовательской оценки ближе к 9 - можно сказать, что пользователи этой платформы не склонны ставить наивысший бал.  Максимальные экспертные оценки близки к 100."
   ]
  },
  {
   "cell_type": "code",
   "execution_count": 31,
   "id": "6cb00429",
   "metadata": {},
   "outputs": [
    {
     "data": {
      "text/html": [
       "<div>\n",
       "<style scoped>\n",
       "    .dataframe tbody tr th:only-of-type {\n",
       "        vertical-align: middle;\n",
       "    }\n",
       "\n",
       "    .dataframe tbody tr th {\n",
       "        vertical-align: top;\n",
       "    }\n",
       "\n",
       "    .dataframe thead th {\n",
       "        text-align: right;\n",
       "    }\n",
       "</style>\n",
       "<table border=\"1\" class=\"dataframe\">\n",
       "  <thead>\n",
       "    <tr style=\"text-align: right;\">\n",
       "      <th></th>\n",
       "      <th>total_sales</th>\n",
       "      <th>user_score</th>\n",
       "      <th>critic_score</th>\n",
       "    </tr>\n",
       "  </thead>\n",
       "  <tbody>\n",
       "    <tr>\n",
       "      <th>total_sales</th>\n",
       "      <td>1.000000</td>\n",
       "      <td>0.232089</td>\n",
       "      <td>0.338904</td>\n",
       "    </tr>\n",
       "    <tr>\n",
       "      <th>user_score</th>\n",
       "      <td>0.232089</td>\n",
       "      <td>1.000000</td>\n",
       "      <td>0.745222</td>\n",
       "    </tr>\n",
       "    <tr>\n",
       "      <th>critic_score</th>\n",
       "      <td>0.338904</td>\n",
       "      <td>0.745222</td>\n",
       "      <td>1.000000</td>\n",
       "    </tr>\n",
       "  </tbody>\n",
       "</table>\n",
       "</div>"
      ],
      "text/plain": [
       "              total_sales  user_score  critic_score\n",
       "total_sales      1.000000    0.232089      0.338904\n",
       "user_score       0.232089    1.000000      0.745222\n",
       "critic_score     0.338904    0.745222      1.000000"
      ]
     },
     "execution_count": 31,
     "metadata": {},
     "output_type": "execute_result"
    }
   ],
   "source": [
    "data_stat_3ds.corr()"
   ]
  },
  {
   "cell_type": "code",
   "execution_count": 32,
   "id": "23156a13-d537-48fb-9535-0c3798d76631",
   "metadata": {},
   "outputs": [
    {
     "data": {
      "image/png": "[encoded data removed]",
      "text/plain": [
       "<Figure size 720x432 with 4 Axes>"
      ]
     },
     "metadata": {
      "needs_background": "light"
     },
     "output_type": "display_data"
    }
   ],
   "source": [
    "get_heatmap(data_stat_3ds, '3DS')"
   ]
  },
  {
   "cell_type": "markdown",
   "id": "f77620cc-f00f-4646-8824-03d0c033c762",
   "metadata": {},
   "source": [
    "На тепловой карте игр на **платформе 3DS** менее заметна взаимосвязь показателей \"оценка экспертов\" и \"суммарные продажи\" - чем выше один показатель тем выше и другой. Взамосвязь \"оценка пользователей\" и \"суммарные продажи\" более выражена. Оценки экспертов представлены в основном значениями 50-75 на всех уровнях продаж, максимальные баллы (свыше 80) заметны в осном у самых успешных игр (продажи свыше 1,2).  \n",
    "Пользовательские оценки в целом нарастают с ростом продаж игры, однако встречаются и  исключения (оценки ниже 5 у игр с продажами выше среднего).\n",
    "Минимальная оценка экспертов 50 из 100 и пользователей 4 из 10, это приближено к минимальным оценкам на платформе PS4. Максимальные оценки также близки к показателям платформы PS4."
   ]
  },
  {
   "cell_type": "markdown",
   "id": "2ec70c74",
   "metadata": {},
   "source": [
    "Если оценивать коэффициент корреляции выручка/экспертная оценка и выручка/пользовательская оценка с помощью метода corr() получаем следующие данные:      \n",
    "- для платформ PS4, XOne и PC коэффициенты достаточно близки:\n",
    "    - выручка/экспертная оценка представлена значениями 0,405 0,410 0,298 (при увеличении оценки растет выручка)\n",
    "    - выручка/пользовательская оценка -0,034 -0,094, -0,008 (при увеличении оценки снижается выручка, судя по коэффициенту правда незначительно)\n",
    "    - экспертная оценка / пользовательская оценка 0,557 0,472 0,518 (при увеличении одной растет и вторая)\n",
    "- для платформы 3DS ситуация выглядит несколько иначе:\n",
    "    - выручка/экспертная оценка коэффициент Пуассона 0,338 и выручка/пользовательская оценка коэффициент Пуассона 0,232 (линейная зависимость второго показателя противоположна другим платформам и связь при этом более тесная)\n",
    "    - а вот экспертная оценка / пользовательская оценка связаны более тесно 0,745."
   ]
  },
  {
   "cell_type": "markdown",
   "id": "75201340",
   "metadata": {},
   "source": [
    "### Анализ прибыльности игр по жанрам"
   ]
  },
  {
   "cell_type": "code",
   "execution_count": 33,
   "id": "b407e8ad",
   "metadata": {},
   "outputs": [
    {
     "data": {
      "text/html": [
       "<div>\n",
       "<style scoped>\n",
       "    .dataframe tbody tr th:only-of-type {\n",
       "        vertical-align: middle;\n",
       "    }\n",
       "\n",
       "    .dataframe tbody tr th {\n",
       "        vertical-align: top;\n",
       "    }\n",
       "\n",
       "    .dataframe thead tr th {\n",
       "        text-align: left;\n",
       "    }\n",
       "\n",
       "    .dataframe thead tr:last-of-type th {\n",
       "        text-align: right;\n",
       "    }\n",
       "</style>\n",
       "<table border=\"1\" class=\"dataframe\">\n",
       "  <thead>\n",
       "    <tr>\n",
       "      <th></th>\n",
       "      <th>sum</th>\n",
       "      <th>mean</th>\n",
       "      <th>median</th>\n",
       "    </tr>\n",
       "    <tr>\n",
       "      <th></th>\n",
       "      <th>total_sales</th>\n",
       "      <th>total_sales</th>\n",
       "      <th>total_sales</th>\n",
       "    </tr>\n",
       "    <tr>\n",
       "      <th>genre</th>\n",
       "      <th></th>\n",
       "      <th></th>\n",
       "      <th></th>\n",
       "    </tr>\n",
       "  </thead>\n",
       "  <tbody>\n",
       "    <tr>\n",
       "      <th>Action</th>\n",
       "      <td>1050.59</td>\n",
       "      <td>0.477975</td>\n",
       "      <td>0.170</td>\n",
       "    </tr>\n",
       "    <tr>\n",
       "      <th>Adventure</th>\n",
       "      <td>129.99</td>\n",
       "      <td>0.136544</td>\n",
       "      <td>0.040</td>\n",
       "    </tr>\n",
       "    <tr>\n",
       "      <th>Fighting</th>\n",
       "      <td>166.00</td>\n",
       "      <td>0.463687</td>\n",
       "      <td>0.160</td>\n",
       "    </tr>\n",
       "    <tr>\n",
       "      <th>Misc</th>\n",
       "      <td>487.89</td>\n",
       "      <td>0.426105</td>\n",
       "      <td>0.140</td>\n",
       "    </tr>\n",
       "    <tr>\n",
       "      <th>Platform</th>\n",
       "      <td>230.45</td>\n",
       "      <td>0.805769</td>\n",
       "      <td>0.245</td>\n",
       "    </tr>\n",
       "    <tr>\n",
       "      <th>Puzzle</th>\n",
       "      <td>79.18</td>\n",
       "      <td>0.245139</td>\n",
       "      <td>0.090</td>\n",
       "    </tr>\n",
       "    <tr>\n",
       "      <th>Racing</th>\n",
       "      <td>265.19</td>\n",
       "      <td>0.544538</td>\n",
       "      <td>0.170</td>\n",
       "    </tr>\n",
       "    <tr>\n",
       "      <th>Role-Playing</th>\n",
       "      <td>465.03</td>\n",
       "      <td>0.524865</td>\n",
       "      <td>0.150</td>\n",
       "    </tr>\n",
       "    <tr>\n",
       "      <th>Shooter</th>\n",
       "      <td>678.80</td>\n",
       "      <td>1.016168</td>\n",
       "      <td>0.320</td>\n",
       "    </tr>\n",
       "    <tr>\n",
       "      <th>Simulation</th>\n",
       "      <td>199.13</td>\n",
       "      <td>0.362714</td>\n",
       "      <td>0.130</td>\n",
       "    </tr>\n",
       "    <tr>\n",
       "      <th>Sports</th>\n",
       "      <td>658.07</td>\n",
       "      <td>0.585472</td>\n",
       "      <td>0.200</td>\n",
       "    </tr>\n",
       "    <tr>\n",
       "      <th>Strategy</th>\n",
       "      <td>68.99</td>\n",
       "      <td>0.196553</td>\n",
       "      <td>0.080</td>\n",
       "    </tr>\n",
       "  </tbody>\n",
       "</table>\n",
       "</div>"
      ],
      "text/plain": [
       "                     sum        mean      median\n",
       "             total_sales total_sales total_sales\n",
       "genre                                           \n",
       "Action           1050.59    0.477975       0.170\n",
       "Adventure         129.99    0.136544       0.040\n",
       "Fighting          166.00    0.463687       0.160\n",
       "Misc              487.89    0.426105       0.140\n",
       "Platform          230.45    0.805769       0.245\n",
       "Puzzle             79.18    0.245139       0.090\n",
       "Racing            265.19    0.544538       0.170\n",
       "Role-Playing      465.03    0.524865       0.150\n",
       "Shooter           678.80    1.016168       0.320\n",
       "Simulation        199.13    0.362714       0.130\n",
       "Sports            658.07    0.585472       0.200\n",
       "Strategy           68.99    0.196553       0.080"
      ]
     },
     "execution_count": 33,
     "metadata": {},
     "output_type": "execute_result"
    }
   ],
   "source": [
    "group_genres = data_corr.pivot_table(index='genre', \n",
    "                                     values='total_sales', \n",
    "                                     aggfunc=['sum', 'mean', 'median'])\n",
    "group_genres"
   ]
  },
  {
   "cell_type": "markdown",
   "id": "a5607a36",
   "metadata": {},
   "source": [
    "\n",
    "В разрезе жанров наибольшую сумму общей выручки принесли игры Action, Shooter и Sports.  \n",
    "Если анализировать медианную стоимость 1 игры, наиболее прибыльные игры Shooter, Platform, Action и Racing.\n",
    "Таким образом можно сделать вывод, что наиболее прибыльные и при этом продающиеся в больших объемах жанры это Shooter и Action.  \n",
    "Наименьшие объемы суммарных продаж у Puzzle и Strategy.\n"
   ]
  },
  {
   "cell_type": "markdown",
   "id": "e1e0f8b7",
   "metadata": {},
   "source": [
    "## Портрет пользователя каждого региона (NA, EU, JP)"
   ]
  },
  {
   "cell_type": "markdown",
   "id": "53d112d6",
   "metadata": {},
   "source": [
    "### Самые популярные платформы (топ-5) по регионам"
   ]
  },
  {
   "cell_type": "code",
   "execution_count": 34,
   "id": "2106f3c2-07ac-40c9-a701-795b46dc6e18",
   "metadata": {},
   "outputs": [],
   "source": [
    "# напишем функцию для получения данных в разрезе региона и дополнительной характеристики\n",
    "def get_info_area(df, col, dim):\n",
    "    df_region = df.pivot_table(index=dim,\n",
    "                               values=col, \n",
    "                               aggfunc='sum'\n",
    "                              ).sort_values(by=col, \n",
    "                                            ascending=False)\n",
    "    df_region.columns = ['sales']\n",
    "    df_region['share'] = (df_region['sales'] / df_region['sales'].sum()).round(2)\n",
    "    \n",
    "    return df_region"
   ]
  },
  {
   "cell_type": "code",
   "execution_count": 35,
   "id": "43410f4b-27c5-4def-9fd0-46c4b225e524",
   "metadata": {},
   "outputs": [],
   "source": [
    "group_na_plat = get_info_area(data_corr, 'na_sales', 'platform')\n",
    "group_eu_plat = get_info_area(data_corr, 'eu_sales', 'platform')\n",
    "group_jp_plat = get_info_area(data_corr, 'jp_sales', 'platform')"
   ]
  },
  {
   "cell_type": "code",
   "execution_count": 36,
   "id": "0b40a2ec-a821-45d1-8b68-13b8d04e72d9",
   "metadata": {},
   "outputs": [],
   "source": [
    "# функция для построения круговой диаграммы в разрезе региона и дополнительной характеристики\n",
    "def get_pie(df, sales, region, dim, ax):\n",
    "    \n",
    "    top_5 = df.head().index\n",
    "    \n",
    "    df['group_name'] = (df.index.where(df.index.isin(top_5), 'Другие'))\n",
    "\n",
    "    df.pivot_table(\n",
    "        index='group_name', \n",
    "        values=sales, \n",
    "        aggfunc='sum').sort_values(by=sales,\n",
    "                                  ascending=False).plot.pie(\n",
    "        y=sales, \n",
    "        autopct='%1.1f%%',\n",
    "        legend=False,\n",
    "        startangle=110,\n",
    "        colors=['#f5ed0c', '#f76539', '#88fa6b', '#0b74bf', '#d689fa', '#afdbfa'],\n",
    "        ax=ax,\n",
    "            )"
   ]
  },
  {
   "cell_type": "code",
   "execution_count": 37,
   "id": "cf5d0fa0-dda6-4819-a2dc-21af7d1efcc2",
   "metadata": {},
   "outputs": [
    {
     "data": {
      "image/png": "[encoded data removed]",
      "text/plain": [
       "<Figure size 1512x504 with 3 Axes>"
      ]
     },
     "metadata": {},
     "output_type": "display_data"
    }
   ],
   "source": [
    "col = 'sales'\n",
    "dimension = 'платформ'\n",
    "regions = {'group_na_plat'\n",
    "           :'Северо-Американском', 'group_eu_plat':'Европейском', 'group_jp_plat':'Японском'}\n",
    "fig, ax = plt.subplots(1,3, figsize=(21, 7))\n",
    "\n",
    "for i in range(3):\n",
    "    get_pie(\n",
    "        locals().get(list(regions.keys())[i]), \n",
    "        col, \n",
    "        regions[list(regions.keys())[i]], \n",
    "        dimension,\n",
    "        ax[i]\n",
    "    )\n",
    "    ax[i].set_ylabel('')\n",
    "    ax[i].set_title(f'Распределение долей популярности \\n{dimension} на {regions[list(regions.keys())[i]]} рынке', \n",
    "                    size=10)"
   ]
  },
  {
   "cell_type": "markdown",
   "id": "b9a9821d",
   "metadata": {},
   "source": [
    "\n",
    "В *Северо-Американском* регионе топ-5 платформ выглядит следующим образом:\n",
    "- возглавляет X360 - 26% от всего числа продаж по региону, \n",
    "- на втором месте Wii - 20% продаж \n",
    "- PS3 на третьем с 18% суммарных продаж\n",
    "- DS на четвертом месте - 13% продаж по региону\n",
    "- PS4 на пятом месте с 5% по региону.\n",
    "    \n",
    "В *Европе* в топ-5 отличается только по распределенным долям:\n",
    "- возглавляет PS3 - 23% от числа продаж по региону, \n",
    "- на втором месте X360 - 19% продаж \n",
    "- Wii на третьем с 16% суммарных продаж\n",
    "- PS4 на четвертом месте - 10% продаж по региону\n",
    "- DS на пятом месте с 9% по региону.\n",
    "    \n",
    "*Японский* рынок отличается и по составу и по долям, от Северо-Американского и Европейского рынков:\n",
    "- возглавляет топ DS - 21% от числа продаж по региону, \n",
    "- на втором месте с небольшим отличием 3DS так же 21% продаж \n",
    "- PS3 на третьем с 16% суммарных продаж\n",
    "- PSP на четвертом месте - 14% продаж по региону\n",
    "- Wii на пятом месте с 12% по региону\n",
    "    \n",
    "</div>"
   ]
  },
  {
   "cell_type": "markdown",
   "id": "84999d1b",
   "metadata": {},
   "source": [
    "### Самые популярные жанры (топ-5) по регионам"
   ]
  },
  {
   "cell_type": "code",
   "execution_count": 38,
   "id": "f8f74494-1ef0-464a-861e-90c7b10f2e0a",
   "metadata": {},
   "outputs": [],
   "source": [
    "group_na_genre = get_info_area(data_corr, 'na_sales', 'genre')\n",
    "group_eu_genre = get_info_area(data_corr, 'eu_sales', 'genre')\n",
    "group_jp_genre = get_info_area(data_corr, 'jp_sales', 'genre')"
   ]
  },
  {
   "cell_type": "code",
   "execution_count": 39,
   "id": "eff649c9-f8ca-45c0-a848-11532a221646",
   "metadata": {},
   "outputs": [
    {
     "data": {
      "image/png": "[encoded data removed]",
      "text/plain": [
       "<Figure size 1512x504 with 3 Axes>"
      ]
     },
     "metadata": {},
     "output_type": "display_data"
    }
   ],
   "source": [
    "col = 'sales'\n",
    "dimension = 'жанров'\n",
    "regions = {'group_na_genre'\n",
    "           :'Северо-Американском', 'group_eu_genre':'Европейском', 'group_jp_genre':'Японском'}\n",
    "fig, ax = plt.subplots(1,3, figsize=(21, 7))\n",
    "\n",
    "for i in range(3):\n",
    "    get_pie(\n",
    "        locals().get(list(regions.keys())[i]), \n",
    "        col, \n",
    "        regions[list(regions.keys())[i]], \n",
    "        dimension,\n",
    "        ax[i]\n",
    "    )\n",
    "    ax[i].set_ylabel('')\n",
    "    ax[i].set_title(f'Распределение долей популярности \\n{dimension} на {regions[list(regions.keys())[i]]} рынке', \n",
    "                    size=10)"
   ]
  },
  {
   "cell_type": "markdown",
   "id": "b2fdd255",
   "metadata": {},
   "source": [
    "В *Северо-Американском* и *Европейском* регионах топ-5 жанров выглядит практически одинаково:\n",
    "- на первом месте Action 23% и 25% от долей по регионам соответственно   \n",
    "- на втором Shooter 16% и 20%\n",
    "- на третьем Sports 15% и 15% \n",
    "- на четвертом Misc 12% и 9%\n",
    "- замыкает топ-5 в СА регионе Role-Playing 8%, а в Европейском Racing 8%\n",
    "    \n",
    "*Японский* рынок по жанрам, так же как и по платформам, значительно отличается отличается и по составу и по долям, от Северо-Американского и Европейского рынков:\n",
    "- возглавляет топ Role-Playing - 31% от числа продаж по региону, \n",
    "- на втором месте Action 20% продаж \n",
    "- Misc на третьем с 10% суммарных продаж\n",
    "- Sports на четвертом месте - 8% продаж по региону\n",
    "- Adventure на пятом месте с 6% по региону"
   ]
  },
  {
   "cell_type": "markdown",
   "id": "33f1110f",
   "metadata": {},
   "source": [
    "### Влияние рейтинг ESRB на продажи по регионам"
   ]
  },
  {
   "cell_type": "code",
   "execution_count": 40,
   "id": "d23879a6-9702-46d4-ac9c-b4b93af13d3e",
   "metadata": {},
   "outputs": [],
   "source": [
    "# для анализа влияния рейтинга игры на проджи возьмем только игры у которых он проставлен в исходном DF\n",
    "# дополнительно расшифруем сокращеное наменование рейтинга\n",
    "data_corr_esrb = data_corr.loc[\n",
    "    data_corr['rating'].isnull() == 0].loc[\n",
    "    :,['na_sales','eu_sales','jp_sales', 'rating']].reset_index()\n",
    "\n",
    "esrb = {'E10+': '«Everyone 10 and older', \n",
    "        'M': 'Mature', \n",
    "        'T': 'Teen', \n",
    "        'E': 'Everyone', \n",
    "        'EC': 'Early childhood', \n",
    "        'RP': 'Rating Pending'}\n",
    "\n",
    "data_corr_esrb['name_rating'] = [esrb.get(i) for i in data_corr_esrb['rating']]"
   ]
  },
  {
   "cell_type": "code",
   "execution_count": null,
   "id": "d29a4bc9-1261-496b-80dd-df2cf561d5cb",
   "metadata": {},
   "outputs": [],
   "source": []
  },
  {
   "cell_type": "code",
   "execution_count": 41,
   "id": "1c1a3751-a83e-475a-810f-4408fbda5d3c",
   "metadata": {
    "tags": []
   },
   "outputs": [],
   "source": [
    "group_na_esrb = get_info_area(data_corr_esrb, 'na_sales', 'name_rating')\n",
    "group_eu_esrb = get_info_area(data_corr_esrb, 'eu_sales', 'name_rating')\n",
    "group_jp_esrb = get_info_area(data_corr_esrb, 'jp_sales', 'name_rating')"
   ]
  },
  {
   "cell_type": "code",
   "execution_count": 42,
   "id": "a65fbc56-625f-4696-9f7b-8976c90d1799",
   "metadata": {},
   "outputs": [
    {
     "data": {
      "image/png": "[encoded data removed]",
      "text/plain": [
       "<Figure size 1512x504 with 3 Axes>"
      ]
     },
     "metadata": {},
     "output_type": "display_data"
    }
   ],
   "source": [
    "col = 'sales'\n",
    "dimension = 'возрастных рейтингов'\n",
    "regions = {'group_na_esrb'\n",
    "           :'Северо-Американском', 'group_eu_esrb':'Европейском', 'group_jp_esrb':'Японском'}\n",
    "fig, ax = plt.subplots(1,3, figsize=(21, 7))\n",
    "\n",
    "for i in range(3):\n",
    "    get_pie(\n",
    "        locals().get(list(regions.keys())[i]), \n",
    "        col, \n",
    "        regions[list(regions.keys())[i]], \n",
    "        dimension,\n",
    "        ax[i]\n",
    "    )\n",
    "    ax[i].set_ylabel('')\n",
    "    ax[i].set_title(f'Распределение долей популярности \\n{dimension} на {regions[list(regions.keys())[i]]} рынке', \n",
    "                    size=10)"
   ]
  },
  {
   "cell_type": "markdown",
   "id": "b66dc50d",
   "metadata": {},
   "source": [
    "Абсолютный лидер продаж по всем регионам игры с рейтингом \"E - Everyone\", второе-третье место \"M - Mature\" и \"T - Teen\". \n",
    "    \n",
    "Четвертое \"E10 - Everyone 10 and older\" одинаково для всех.  \n",
    "Оставшиеся два варианта рейтинга \"RP - Rating Pending\", \"EC - Early childhood\" занимают пятое-шестое.  \n",
    "\n",
    "Можно сделать вывод, что на объем продаж возратной рейтинг оказывает одинаковое влияние на продажи во всех регионах.    "
   ]
  },
  {
   "cell_type": "markdown",
   "id": "0dfd2ece",
   "metadata": {},
   "source": [
    "## Проверка гипотез\n",
    "\n",
    "- средние пользовательские рейтинги платформ Xbox One и PC одинаковые;\n",
    "- средние пользовательские рейтинги жанров Action (англ. «действие», экшен-игры) и Sports (англ. «спортивные соревнования») разные.\n",
    "\n"
   ]
  },
  {
   "cell_type": "markdown",
   "id": "647b5f99",
   "metadata": {},
   "source": [
    "    \n",
    "**Гипотеза: средние пользовательские рейтинги платформ Xbox One и PC одинаковые**  \n",
    "    \n",
    "**H0**: Средние пользовательские рейтинги платформы Xbox One **равны** пользовательским рейтингам платформы PC.     \n",
    "    \n",
    "**H1**: Средние пользовательские рейтинги платформы Xbox One **не равны** пользовательским рейтингам платформы PC.    \n",
    "Данные гипотезы выбраны в качестве нулевой и альтернативной потому что они противоречат друг другу и в случае если отвергается одна из них, другая не отвергается."
   ]
  },
  {
   "cell_type": "code",
   "execution_count": 43,
   "id": "33aab942",
   "metadata": {},
   "outputs": [],
   "source": [
    "data_corr_score = data_corr.loc[data_corr['user_score'] != 0]\n",
    "user_score_xone = data_corr_score.query('platform == \"XOne\"')['user_score']\n",
    "user_score_pc = data_corr_score.query('platform == \"PC\"')['user_score']"
   ]
  },
  {
   "cell_type": "markdown",
   "id": "772ef74e-2078-4905-a8f5-f1c2fd71064c",
   "metadata": {},
   "source": [
    "Перед проверкой гипотез проверим распределение и дисперсии выборок:"
   ]
  },
  {
   "cell_type": "code",
   "execution_count": 44,
   "id": "7039f27b-9e41-43ad-9b7d-d68ca78a6806",
   "metadata": {},
   "outputs": [],
   "source": [
    "var_xone = np.var(user_score_xone, ddof=1)\n",
    "var_pc = np.var(user_score_pc, ddof=1)"
   ]
  },
  {
   "cell_type": "code",
   "execution_count": 45,
   "id": "af9f8f5f-d774-4e07-8833-0a7f7b121977",
   "metadata": {},
   "outputs": [
    {
     "name": "stdout",
     "output_type": "stream",
     "text": [
      "Дисперсии выборок: \n",
      " средние пользовательские оценки на XOne 1.9069968429360695\n",
      " средние пользовательские оценки на PC 2.3403339171044952\n"
     ]
    }
   ],
   "source": [
    "print(f'Дисперсии выборок: \\n средние пользовательские оценки на XOne {var_xone}\\\n",
    "\\n средние пользовательские оценки на PC {var_pc}')"
   ]
  },
  {
   "cell_type": "code",
   "execution_count": 46,
   "id": "36836240-c9e9-4269-b4d3-e1f48aa07c91",
   "metadata": {},
   "outputs": [
    {
     "data": {
      "image/png": "[encoded data removed]",
      "text/plain": [
       "<Figure size 576x360 with 1 Axes>"
      ]
     },
     "metadata": {
      "needs_background": "light"
     },
     "output_type": "display_data"
    }
   ],
   "source": [
    "plt.figure(figsize=(8,5))\n",
    "user_score_xone.plot.density(style='--', label='XOne')\n",
    "user_score_pc.plot.density(style='-.', label='PC')\n",
    "plt.legend()\n",
    "plt.show()"
   ]
  },
  {
   "cell_type": "markdown",
   "id": "7bff8f7f-5f5d-43e4-ac44-abe13cef8655",
   "metadata": {},
   "source": [
    "Дисперсии выборок не равны, их распределения близки к нормальным."
   ]
  },
  {
   "cell_type": "code",
   "execution_count": 47,
   "id": "c0881e7f-966c-433b-b1a1-45b2c0a37e0b",
   "metadata": {},
   "outputs": [
    {
     "name": "stdout",
     "output_type": "stream",
     "text": [
      "p-значение:  0.04401892858926169\n",
      "Отвергаем нулевую гипотезу\n"
     ]
    }
   ],
   "source": [
    "alpha = 0.05\n",
    "\n",
    "results = st.ttest_ind(user_score_xone, user_score_pc, equal_var = False)\n",
    "print('p-значение: ', results.pvalue)\n",
    "\n",
    "if results.pvalue < alpha:\n",
    "    print(\"Отвергаем нулевую гипотезу\")\n",
    "else:\n",
    "    print(\"Не получилось отвергнуть нулевую гипотезу\") "
   ]
  },
  {
   "cell_type": "markdown",
   "id": "2d1577d9",
   "metadata": {},
   "source": [
    "Согласно полученному значению p-value (0.04401892858926169) нулевую гипотезу можно отвергнуть -   \n",
    "    \"Средние пользовательские рейтинги платформы Xbox One равны пользовательским рейтингам платформы PC\".  \n",
    "Значение p-value выше критического уровня статистической значимости (установлено для проверки этой гипотезы на уровне 0,05).\n",
    "Таким образом альтернативная гипотеза \" Средние пользовательские рейтинги платформы Xbox One не равны пользовательским рейтингам платформы PC\" не будет отвергнута.\n"
   ]
  },
  {
   "cell_type": "code",
   "execution_count": null,
   "id": "594054c6",
   "metadata": {},
   "outputs": [],
   "source": []
  },
  {
   "cell_type": "markdown",
   "id": "087d174f",
   "metadata": {},
   "source": [
    "   \n",
    "**Гипотеза: cредние пользовательские рейтинги жанров Action и Sports разные.**  \n",
    "    \n",
    "**H0**: Средние пользовательские рейтинги жанра Action **равны** пользовательским рейтингам жанра Sports.     \n",
    "    \n",
    "**H1**: Средние пользовательские рейтинги жанра Action **не равны** пользовательским рейтингам жанра Sports.     "
   ]
  },
  {
   "cell_type": "code",
   "execution_count": 48,
   "id": "f5dfd0fb",
   "metadata": {},
   "outputs": [],
   "source": [
    "user_score_active = data_corr_score.query('genre == \"Action\"')['user_score']\n",
    "user_score_sport = data_corr_score.query('genre == \"Sports\"')['user_score']"
   ]
  },
  {
   "cell_type": "markdown",
   "id": "bf346076-8e87-4382-b1e6-8da2e145647b",
   "metadata": {},
   "source": [
    "Перед проверкой гипотез проверим распределение и дисперсии выборок:"
   ]
  },
  {
   "cell_type": "code",
   "execution_count": 49,
   "id": "31335c98-8a15-4116-8aa7-61bbe3f2ac62",
   "metadata": {},
   "outputs": [],
   "source": [
    "var_xone = np.var(user_score_active, ddof=1)\n",
    "var_pc = np.var(user_score_sport, ddof=1)"
   ]
  },
  {
   "cell_type": "code",
   "execution_count": 50,
   "id": "cf9bda1e-49c8-4212-90b6-326301264b58",
   "metadata": {},
   "outputs": [
    {
     "name": "stdout",
     "output_type": "stream",
     "text": [
      "Дисперсии выборок: \n",
      " средние пользовательские оценки жанра Action 1.830189395225529\n",
      " средние пользовательские оценки жанра Sports 2.814034856727071\n"
     ]
    }
   ],
   "source": [
    "print(f'Дисперсии выборок: \\n средние пользовательские оценки жанра Action {var_xone}\\\n",
    "\\n средние пользовательские оценки жанра Sports {var_pc}')"
   ]
  },
  {
   "cell_type": "code",
   "execution_count": 51,
   "id": "2785699f-5d72-4c18-9c61-34bc7de7c935",
   "metadata": {},
   "outputs": [
    {
     "data": {
      "image/png": "[encoded data removed]",
      "text/plain": [
       "<Figure size 576x360 with 1 Axes>"
      ]
     },
     "metadata": {
      "needs_background": "light"
     },
     "output_type": "display_data"
    }
   ],
   "source": [
    "plt.figure(figsize=(8,5))\n",
    "user_score_active.plot.density(style='--', label='Active')\n",
    "user_score_sport.plot.density(style='-.', label='Sport')\n",
    "plt.legend()\n",
    "plt.show()"
   ]
  },
  {
   "cell_type": "markdown",
   "id": "3c918880-f829-4d1d-bb82-eae57ca4b389",
   "metadata": {},
   "source": [
    "Дисперсии выборок не равны, их распределения близки к нормальным."
   ]
  },
  {
   "cell_type": "code",
   "execution_count": 52,
   "id": "fb1459fa",
   "metadata": {},
   "outputs": [
    {
     "name": "stdout",
     "output_type": "stream",
     "text": [
      "p-значение:  4.540665510055229e-11\n",
      "Отвергаем нулевую гипотезу\n"
     ]
    }
   ],
   "source": [
    "alpha = 0.05\n",
    "results = st.ttest_ind(user_score_active, user_score_sport, equal_var = False)\n",
    "print('p-значение: ', results.pvalue)\n",
    "\n",
    "if results.pvalue < alpha:\n",
    "    print(\"Отвергаем нулевую гипотезу\")\n",
    "else:\n",
    "    print(\"Не получилось отвергнуть нулевую гипотезу\") "
   ]
  },
  {
   "cell_type": "markdown",
   "id": "ca488c55",
   "metadata": {},
   "source": [
    "  \n",
    "Согласно полученному значению p-value (4.540665510055229e-11) нулевую гипотезу можно отвергнуть -   \n",
    "    \"Средние пользовательские рейтинги жанра Action равны пользовательским рейтингам жанра Sports\".  \n",
    "Значение p-value выше критического уровня статистической значимости (установлено для проверки этой гипотезы на уровне 0,05).\n",
    "Таким образом альтернативная гипотеза \"Средние пользовательские рейтинги жанра Action не равны пользовательским рейтингам жанра Sports\" не будет отвергнута.\n"
   ]
  },
  {
   "cell_type": "markdown",
   "id": "91455c2f",
   "metadata": {},
   "source": [
    "## Общий вывод"
   ]
  },
  {
   "cell_type": "markdown",
   "id": "8518b3e7",
   "metadata": {},
   "source": [
    "Согласно проведенному иследованию компьютерных игр по платформам, годам выпуска, жанрам, регионам продаж и возрастному рейтингу получены следующие данные:  \n",
    "- в разрезе платформ наиболее перспективны PS4, XOne т.к. они имеют \"запас\" жизненного цикла, а также 3DS и PC с учетом размеров выручки;\n",
    "- по годам выпуска были срезаны данны старше 10 лет, т.к. вероятность повышенного спроса на устаревшие игры невелика;\n",
    "- по жанрам наиболее прибыльные и при этом продающиеся в больших объемах жанры это Shooter и Action, наименьшие объемы суммарных продаж у Puzzle и Strategy;\n",
    "- при проведении анализа по регионам существует значительные отличия в предпочтениях платформ:\n",
    "    - на Северо-Американском и Европейском рынках на первом месте X360, а втором месте Wii и замыкает тройку лидеров PS3\n",
    "    - Японский рынок возглавляет DS, на втором месте 3DS, на третьем PS3.\n",
    "- также значительные отличия в зависимости от рынка и по предпочитаемым жанрам:\n",
    "    - на Северо-Американском и Европейском рынках на первом месте Action, на втором Shooter, на третьем Sports \n",
    "    - Японский рынок возглавляет Role-Playing на втором месте Action, на третьем Misc.    \n",
    "- по возрастному рейтингу отличий по регионам не зафиксировано - максимум продаж по всем регионам игры с рейтингом \"E - Everyone\", второе-третье место \"M - Mature\" и \"T - Teen\"\n",
    "\n",
    "Были проверены 2 статистические гипотезы:\n",
    "    - средние пользовательские рейтинги платформ Xbox One и PC одинаковые\n",
    "    - cредние пользовательские рейтинги жанров Action и Sports разные\n",
    "В результате проведенных расчетов для обеих гипотез были приняты альтернативные гиппотезы, т.к. значение p-value получено выше критического уровня статистической значимости.\n",
    "    \n",
    "_\"Средние пользовательские рейтинги платформ Xbox One и PC одинаковые\"_ - альтернативная гипотеза \"Средние пользовательские рейтинги платформы Xbox One не равны пользовательским рейтингам платформы PC\".  \n",
    "    \n",
    "_\"Средние пользовательские рейтинги жанров Action и Sports разные\"_ - альтернативная гипотеза \"Средние пользовательские рейтинги жанра Action не равны пользовательским рейтингам жанра Sports\"\n"
   ]
  }
 ],
 "metadata": {
  "ExecuteTimeLog": [
   {
    "duration": 1497,
    "start_time": "2022-02-14T08:24:01.629Z"
   },
   {
    "duration": 225,
    "start_time": "2022-02-14T08:24:03.129Z"
   },
   {
    "duration": 16,
    "start_time": "2022-02-14T08:24:03.357Z"
   },
   {
    "duration": 8,
    "start_time": "2022-02-14T08:24:03.376Z"
   },
   {
    "duration": 25,
    "start_time": "2022-02-14T08:24:03.387Z"
   },
   {
    "duration": 40,
    "start_time": "2022-02-14T08:24:03.415Z"
   },
   {
    "duration": 8,
    "start_time": "2022-02-14T08:24:03.457Z"
   },
   {
    "duration": 13,
    "start_time": "2022-02-14T08:24:03.468Z"
   },
   {
    "duration": 7,
    "start_time": "2022-02-14T08:24:03.485Z"
   },
   {
    "duration": 11,
    "start_time": "2022-02-14T08:24:03.494Z"
   },
   {
    "duration": 55,
    "start_time": "2022-02-14T08:24:03.507Z"
   },
   {
    "duration": 8,
    "start_time": "2022-02-14T08:24:03.564Z"
   },
   {
    "duration": 16,
    "start_time": "2022-02-14T08:24:03.575Z"
   },
   {
    "duration": 5,
    "start_time": "2022-02-14T08:24:03.594Z"
   },
   {
    "duration": 429,
    "start_time": "2022-02-14T08:24:03.601Z"
   },
   {
    "duration": 27,
    "start_time": "2022-02-14T08:24:04.033Z"
   },
   {
    "duration": 15,
    "start_time": "2022-02-14T08:24:04.063Z"
   },
   {
    "duration": 22,
    "start_time": "2022-02-14T08:24:04.081Z"
   },
   {
    "duration": 17,
    "start_time": "2022-02-14T08:24:04.106Z"
   },
   {
    "duration": 28,
    "start_time": "2022-02-14T08:24:04.126Z"
   },
   {
    "duration": 16,
    "start_time": "2022-02-14T08:24:04.157Z"
   },
   {
    "duration": 2796,
    "start_time": "2022-02-14T08:24:04.175Z"
   },
   {
    "duration": 2300,
    "start_time": "2022-02-14T08:24:06.977Z"
   },
   {
    "duration": 1356,
    "start_time": "2022-02-14T08:24:09.281Z"
   },
   {
    "duration": 30,
    "start_time": "2022-02-14T08:24:10.640Z"
   },
   {
    "duration": 12,
    "start_time": "2022-02-14T08:24:10.673Z"
   },
   {
    "duration": 18,
    "start_time": "2022-02-14T08:24:10.688Z"
   },
   {
    "duration": 44,
    "start_time": "2022-02-14T08:24:10.708Z"
   },
   {
    "duration": 18,
    "start_time": "2022-02-14T08:24:10.755Z"
   },
   {
    "duration": 56,
    "start_time": "2022-02-14T08:24:10.776Z"
   },
   {
    "duration": 23,
    "start_time": "2022-02-14T08:24:10.835Z"
   },
   {
    "duration": 40,
    "start_time": "2022-02-14T08:24:10.860Z"
   },
   {
    "duration": 10,
    "start_time": "2022-02-14T08:24:10.903Z"
   },
   {
    "duration": 42,
    "start_time": "2022-02-14T08:24:10.915Z"
   },
   {
    "duration": 13,
    "start_time": "2022-02-14T08:24:10.960Z"
   },
   {
    "duration": 38,
    "start_time": "2022-02-14T08:24:10.975Z"
   },
   {
    "duration": 40,
    "start_time": "2022-02-14T08:24:11.016Z"
   },
   {
    "duration": 15,
    "start_time": "2022-02-14T08:24:11.059Z"
   },
   {
    "duration": 10,
    "start_time": "2022-02-14T08:24:11.076Z"
   },
   {
    "duration": 85,
    "start_time": "2022-02-14T08:24:11.089Z"
   },
   {
    "duration": 10,
    "start_time": "2022-02-14T08:24:11.177Z"
   },
   {
    "duration": 15,
    "start_time": "2022-02-14T08:24:11.190Z"
   },
   {
    "duration": 40,
    "start_time": "2022-02-14T08:24:11.208Z"
   },
   {
    "duration": 8,
    "start_time": "2022-02-14T08:24:11.251Z"
   },
   {
    "duration": 12,
    "start_time": "2022-02-14T08:24:11.262Z"
   },
   {
    "duration": 7,
    "start_time": "2022-02-14T08:24:11.277Z"
   },
   {
    "duration": 13,
    "start_time": "2022-02-14T08:24:11.286Z"
   },
   {
    "duration": 8,
    "start_time": "2022-02-14T08:24:11.301Z"
   },
   {
    "duration": 44,
    "start_time": "2022-02-14T08:24:11.311Z"
   },
   {
    "duration": 8,
    "start_time": "2022-02-14T08:24:11.358Z"
   },
   {
    "duration": 342,
    "start_time": "2022-02-14T08:24:11.368Z"
   },
   {
    "duration": 12,
    "start_time": "2022-02-14T08:24:11.714Z"
   },
   {
    "duration": 26,
    "start_time": "2022-02-14T08:24:11.729Z"
   },
   {
    "duration": 8,
    "start_time": "2022-02-14T08:24:11.758Z"
   },
   {
    "duration": 6,
    "start_time": "2022-02-14T08:24:11.769Z"
   },
   {
    "duration": 8,
    "start_time": "2022-02-14T08:24:11.778Z"
   },
   {
    "duration": 6,
    "start_time": "2022-02-14T08:24:11.789Z"
   },
   {
    "duration": 418,
    "start_time": "2022-02-14T08:24:11.798Z"
   },
   {
    "duration": 1478,
    "start_time": "2022-02-14T08:25:35.020Z"
   },
   {
    "duration": 230,
    "start_time": "2022-02-14T08:25:36.501Z"
   },
   {
    "duration": 13,
    "start_time": "2022-02-14T08:25:36.734Z"
   },
   {
    "duration": 8,
    "start_time": "2022-02-14T08:25:36.750Z"
   },
   {
    "duration": 22,
    "start_time": "2022-02-14T08:25:36.761Z"
   },
   {
    "duration": 13,
    "start_time": "2022-02-14T08:25:36.786Z"
   },
   {
    "duration": 6,
    "start_time": "2022-02-14T08:25:36.802Z"
   },
   {
    "duration": 14,
    "start_time": "2022-02-14T08:25:36.849Z"
   },
   {
    "duration": 9,
    "start_time": "2022-02-14T08:25:36.866Z"
   },
   {
    "duration": 10,
    "start_time": "2022-02-14T08:25:36.878Z"
   },
   {
    "duration": 59,
    "start_time": "2022-02-14T08:25:36.891Z"
   },
   {
    "duration": 8,
    "start_time": "2022-02-14T08:25:36.953Z"
   },
   {
    "duration": 11,
    "start_time": "2022-02-14T08:25:36.963Z"
   },
   {
    "duration": 5,
    "start_time": "2022-02-14T08:25:36.977Z"
   },
   {
    "duration": 529,
    "start_time": "2022-02-14T08:25:36.984Z"
   },
   {
    "duration": 15,
    "start_time": "2022-02-14T08:25:37.515Z"
   },
   {
    "duration": 25,
    "start_time": "2022-02-14T08:25:37.532Z"
   },
   {
    "duration": 10,
    "start_time": "2022-02-14T08:25:37.560Z"
   },
   {
    "duration": 14,
    "start_time": "2022-02-14T08:25:37.572Z"
   },
   {
    "duration": 13,
    "start_time": "2022-02-14T08:25:37.589Z"
   },
   {
    "duration": 54,
    "start_time": "2022-02-14T08:25:37.604Z"
   },
   {
    "duration": 2895,
    "start_time": "2022-02-14T08:25:37.661Z"
   },
   {
    "duration": 2195,
    "start_time": "2022-02-14T08:25:40.563Z"
   },
   {
    "duration": 1347,
    "start_time": "2022-02-14T08:25:42.761Z"
   },
   {
    "duration": 39,
    "start_time": "2022-02-14T08:25:44.111Z"
   },
   {
    "duration": 11,
    "start_time": "2022-02-14T08:25:44.152Z"
   },
   {
    "duration": 14,
    "start_time": "2022-02-14T08:25:44.165Z"
   },
   {
    "duration": 14,
    "start_time": "2022-02-14T08:25:44.181Z"
   },
   {
    "duration": 49,
    "start_time": "2022-02-14T08:25:44.198Z"
   },
   {
    "duration": 42,
    "start_time": "2022-02-14T08:25:44.250Z"
   },
   {
    "duration": 20,
    "start_time": "2022-02-14T08:25:44.295Z"
   },
   {
    "duration": 69,
    "start_time": "2022-02-14T08:25:44.317Z"
   },
   {
    "duration": 10,
    "start_time": "2022-02-14T08:25:44.388Z"
   },
   {
    "duration": 14,
    "start_time": "2022-02-14T08:25:44.401Z"
   },
   {
    "duration": 36,
    "start_time": "2022-02-14T08:25:44.418Z"
   },
   {
    "duration": 39,
    "start_time": "2022-02-14T08:25:44.457Z"
   },
   {
    "duration": 10,
    "start_time": "2022-02-14T08:25:44.498Z"
   },
   {
    "duration": 43,
    "start_time": "2022-02-14T08:25:44.510Z"
   },
   {
    "duration": 17,
    "start_time": "2022-02-14T08:25:44.555Z"
   },
   {
    "duration": 74,
    "start_time": "2022-02-14T08:25:44.574Z"
   },
   {
    "duration": 9,
    "start_time": "2022-02-14T08:25:44.651Z"
   },
   {
    "duration": 19,
    "start_time": "2022-02-14T08:25:44.663Z"
   },
   {
    "duration": 14,
    "start_time": "2022-02-14T08:25:44.684Z"
   },
   {
    "duration": 14,
    "start_time": "2022-02-14T08:25:44.700Z"
   },
   {
    "duration": 35,
    "start_time": "2022-02-14T08:25:44.717Z"
   },
   {
    "duration": 8,
    "start_time": "2022-02-14T08:25:44.755Z"
   },
   {
    "duration": 8,
    "start_time": "2022-02-14T08:25:44.766Z"
   },
   {
    "duration": 6,
    "start_time": "2022-02-14T08:25:44.777Z"
   },
   {
    "duration": 9,
    "start_time": "2022-02-14T08:25:44.786Z"
   },
   {
    "duration": 10,
    "start_time": "2022-02-14T08:25:44.797Z"
   },
   {
    "duration": 356,
    "start_time": "2022-02-14T08:25:44.809Z"
   },
   {
    "duration": 11,
    "start_time": "2022-02-14T08:25:45.167Z"
   },
   {
    "duration": 13,
    "start_time": "2022-02-14T08:25:45.181Z"
   },
   {
    "duration": 13,
    "start_time": "2022-02-14T08:25:45.196Z"
   },
   {
    "duration": 11,
    "start_time": "2022-02-14T08:25:45.212Z"
   },
   {
    "duration": 25,
    "start_time": "2022-02-14T08:25:45.226Z"
   },
   {
    "duration": 11,
    "start_time": "2022-02-14T08:25:45.253Z"
   },
   {
    "duration": 362,
    "start_time": "2022-02-14T08:25:45.266Z"
   },
   {
    "duration": 888,
    "start_time": "2022-02-14T08:28:03.142Z"
   },
   {
    "duration": 230,
    "start_time": "2022-02-14T08:28:04.033Z"
   },
   {
    "duration": 14,
    "start_time": "2022-02-14T08:28:04.265Z"
   },
   {
    "duration": 18,
    "start_time": "2022-02-14T08:28:04.282Z"
   },
   {
    "duration": 26,
    "start_time": "2022-02-14T08:28:04.302Z"
   },
   {
    "duration": 29,
    "start_time": "2022-02-14T08:28:04.330Z"
   },
   {
    "duration": 19,
    "start_time": "2022-02-14T08:28:04.361Z"
   },
   {
    "duration": 27,
    "start_time": "2022-02-14T08:28:04.383Z"
   },
   {
    "duration": 7,
    "start_time": "2022-02-14T08:28:04.413Z"
   },
   {
    "duration": 17,
    "start_time": "2022-02-14T08:28:04.422Z"
   },
   {
    "duration": 30,
    "start_time": "2022-02-14T08:28:04.442Z"
   },
   {
    "duration": 8,
    "start_time": "2022-02-14T08:28:04.475Z"
   },
   {
    "duration": 13,
    "start_time": "2022-02-14T08:28:04.485Z"
   },
   {
    "duration": 19,
    "start_time": "2022-02-14T08:28:04.501Z"
   },
   {
    "duration": 395,
    "start_time": "2022-02-14T08:28:04.522Z"
   },
   {
    "duration": 9,
    "start_time": "2022-02-14T08:28:04.920Z"
   },
   {
    "duration": 29,
    "start_time": "2022-02-14T08:28:04.932Z"
   },
   {
    "duration": 13,
    "start_time": "2022-02-14T08:28:04.964Z"
   },
   {
    "duration": 18,
    "start_time": "2022-02-14T08:28:04.980Z"
   },
   {
    "duration": 13,
    "start_time": "2022-02-14T08:28:05.001Z"
   },
   {
    "duration": 43,
    "start_time": "2022-02-14T08:28:05.016Z"
   },
   {
    "duration": 2850,
    "start_time": "2022-02-14T08:28:05.062Z"
   },
   {
    "duration": 2191,
    "start_time": "2022-02-14T08:28:07.920Z"
   },
   {
    "duration": 1421,
    "start_time": "2022-02-14T08:28:10.114Z"
   },
   {
    "duration": 25,
    "start_time": "2022-02-14T08:28:11.549Z"
   },
   {
    "duration": 16,
    "start_time": "2022-02-14T08:28:11.577Z"
   },
   {
    "duration": 10,
    "start_time": "2022-02-14T08:28:11.597Z"
   },
   {
    "duration": 44,
    "start_time": "2022-02-14T08:28:11.610Z"
   },
   {
    "duration": 12,
    "start_time": "2022-02-14T08:28:11.656Z"
   },
   {
    "duration": 41,
    "start_time": "2022-02-14T08:28:11.670Z"
   },
   {
    "duration": 48,
    "start_time": "2022-02-14T08:28:11.713Z"
   },
   {
    "duration": 38,
    "start_time": "2022-02-14T08:28:11.764Z"
   },
   {
    "duration": 9,
    "start_time": "2022-02-14T08:28:11.804Z"
   },
   {
    "duration": 35,
    "start_time": "2022-02-14T08:28:11.816Z"
   },
   {
    "duration": 11,
    "start_time": "2022-02-14T08:28:11.854Z"
   },
   {
    "duration": 37,
    "start_time": "2022-02-14T08:28:11.867Z"
   },
   {
    "duration": 9,
    "start_time": "2022-02-14T08:28:11.906Z"
   },
   {
    "duration": 10,
    "start_time": "2022-02-14T08:28:11.949Z"
   },
   {
    "duration": 14,
    "start_time": "2022-02-14T08:28:11.962Z"
   },
   {
    "duration": 71,
    "start_time": "2022-02-14T08:28:11.978Z"
   },
   {
    "duration": 12,
    "start_time": "2022-02-14T08:28:12.052Z"
   },
   {
    "duration": 11,
    "start_time": "2022-02-14T08:28:12.067Z"
   },
   {
    "duration": 34,
    "start_time": "2022-02-14T08:28:12.081Z"
   },
   {
    "duration": 7,
    "start_time": "2022-02-14T08:28:12.118Z"
   },
   {
    "duration": 31,
    "start_time": "2022-02-14T08:28:12.127Z"
   },
   {
    "duration": 12,
    "start_time": "2022-02-14T08:28:12.162Z"
   },
   {
    "duration": 13,
    "start_time": "2022-02-14T08:28:12.181Z"
   },
   {
    "duration": 12,
    "start_time": "2022-02-14T08:28:12.197Z"
   },
   {
    "duration": 385,
    "start_time": "2022-02-14T08:28:12.212Z"
   },
   {
    "duration": -256,
    "start_time": "2022-02-14T08:28:12.856Z"
   },
   {
    "duration": -260,
    "start_time": "2022-02-14T08:28:12.861Z"
   },
   {
    "duration": -263,
    "start_time": "2022-02-14T08:28:12.866Z"
   },
   {
    "duration": -268,
    "start_time": "2022-02-14T08:28:12.873Z"
   },
   {
    "duration": -271,
    "start_time": "2022-02-14T08:28:12.878Z"
   },
   {
    "duration": -273,
    "start_time": "2022-02-14T08:28:12.881Z"
   },
   {
    "duration": -276,
    "start_time": "2022-02-14T08:28:12.886Z"
   },
   {
    "duration": -278,
    "start_time": "2022-02-14T08:28:12.889Z"
   },
   {
    "duration": -280,
    "start_time": "2022-02-14T08:28:12.893Z"
   },
   {
    "duration": 1610,
    "start_time": "2022-02-14T08:29:19.428Z"
   },
   {
    "duration": 231,
    "start_time": "2022-02-14T08:29:21.041Z"
   },
   {
    "duration": 15,
    "start_time": "2022-02-14T08:29:21.275Z"
   },
   {
    "duration": 8,
    "start_time": "2022-02-14T08:29:21.293Z"
   },
   {
    "duration": 46,
    "start_time": "2022-02-14T08:29:21.304Z"
   },
   {
    "duration": 10,
    "start_time": "2022-02-14T08:29:21.353Z"
   },
   {
    "duration": 10,
    "start_time": "2022-02-14T08:29:21.365Z"
   },
   {
    "duration": 14,
    "start_time": "2022-02-14T08:29:21.379Z"
   },
   {
    "duration": 8,
    "start_time": "2022-02-14T08:29:21.396Z"
   },
   {
    "duration": 49,
    "start_time": "2022-02-14T08:29:21.407Z"
   },
   {
    "duration": 22,
    "start_time": "2022-02-14T08:29:21.458Z"
   },
   {
    "duration": 8,
    "start_time": "2022-02-14T08:29:21.482Z"
   },
   {
    "duration": 12,
    "start_time": "2022-02-14T08:29:21.493Z"
   },
   {
    "duration": 5,
    "start_time": "2022-02-14T08:29:21.508Z"
   },
   {
    "duration": 417,
    "start_time": "2022-02-14T08:29:21.516Z"
   },
   {
    "duration": 24,
    "start_time": "2022-02-14T08:29:21.936Z"
   },
   {
    "duration": 15,
    "start_time": "2022-02-14T08:29:21.962Z"
   },
   {
    "duration": 12,
    "start_time": "2022-02-14T08:29:21.979Z"
   },
   {
    "duration": 18,
    "start_time": "2022-02-14T08:29:21.993Z"
   },
   {
    "duration": 43,
    "start_time": "2022-02-14T08:29:22.014Z"
   },
   {
    "duration": 24,
    "start_time": "2022-02-14T08:29:22.060Z"
   },
   {
    "duration": 2987,
    "start_time": "2022-02-14T08:29:22.087Z"
   },
   {
    "duration": 2274,
    "start_time": "2022-02-14T08:29:25.083Z"
   },
   {
    "duration": 1597,
    "start_time": "2022-02-14T08:29:27.360Z"
   },
   {
    "duration": 27,
    "start_time": "2022-02-14T08:29:28.960Z"
   },
   {
    "duration": 10,
    "start_time": "2022-02-14T08:29:28.990Z"
   },
   {
    "duration": 15,
    "start_time": "2022-02-14T08:29:29.003Z"
   },
   {
    "duration": 14,
    "start_time": "2022-02-14T08:29:29.049Z"
   },
   {
    "duration": 35,
    "start_time": "2022-02-14T08:29:29.065Z"
   },
   {
    "duration": 47,
    "start_time": "2022-02-14T08:29:29.102Z"
   },
   {
    "duration": 19,
    "start_time": "2022-02-14T08:29:29.152Z"
   },
   {
    "duration": 49,
    "start_time": "2022-02-14T08:29:29.174Z"
   },
   {
    "duration": 25,
    "start_time": "2022-02-14T08:29:29.225Z"
   },
   {
    "duration": 16,
    "start_time": "2022-02-14T08:29:29.253Z"
   },
   {
    "duration": 11,
    "start_time": "2022-02-14T08:29:29.271Z"
   },
   {
    "duration": 80,
    "start_time": "2022-02-14T08:29:29.285Z"
   },
   {
    "duration": 10,
    "start_time": "2022-02-14T08:29:29.368Z"
   },
   {
    "duration": 15,
    "start_time": "2022-02-14T08:29:29.381Z"
   },
   {
    "duration": 14,
    "start_time": "2022-02-14T08:29:29.399Z"
   },
   {
    "duration": 78,
    "start_time": "2022-02-14T08:29:29.416Z"
   },
   {
    "duration": 22,
    "start_time": "2022-02-14T08:29:29.497Z"
   },
   {
    "duration": 30,
    "start_time": "2022-02-14T08:29:29.522Z"
   },
   {
    "duration": 38,
    "start_time": "2022-02-14T08:29:29.554Z"
   },
   {
    "duration": 11,
    "start_time": "2022-02-14T08:29:29.595Z"
   },
   {
    "duration": 12,
    "start_time": "2022-02-14T08:29:29.609Z"
   },
   {
    "duration": 26,
    "start_time": "2022-02-14T08:29:29.623Z"
   },
   {
    "duration": 5,
    "start_time": "2022-02-14T08:29:29.651Z"
   },
   {
    "duration": 14,
    "start_time": "2022-02-14T08:29:29.659Z"
   },
   {
    "duration": 9,
    "start_time": "2022-02-14T08:29:29.676Z"
   },
   {
    "duration": 9,
    "start_time": "2022-02-14T08:29:29.688Z"
   },
   {
    "duration": 405,
    "start_time": "2022-02-14T08:29:29.700Z"
   },
   {
    "duration": 13,
    "start_time": "2022-02-14T08:29:30.108Z"
   },
   {
    "duration": 27,
    "start_time": "2022-02-14T08:29:30.124Z"
   },
   {
    "duration": 21,
    "start_time": "2022-02-14T08:29:30.154Z"
   },
   {
    "duration": 28,
    "start_time": "2022-02-14T08:29:30.178Z"
   },
   {
    "duration": 33,
    "start_time": "2022-02-14T08:29:30.209Z"
   },
   {
    "duration": 16,
    "start_time": "2022-02-14T08:29:30.245Z"
   },
   {
    "duration": 398,
    "start_time": "2022-02-14T08:29:30.264Z"
   },
   {
    "duration": 345,
    "start_time": "2022-02-21T09:34:55.256Z"
   },
   {
    "duration": 1347,
    "start_time": "2022-02-21T09:35:03.827Z"
   },
   {
    "duration": 205,
    "start_time": "2022-02-21T09:35:05.177Z"
   },
   {
    "duration": 15,
    "start_time": "2022-02-21T09:35:05.385Z"
   },
   {
    "duration": 12,
    "start_time": "2022-02-21T09:35:05.403Z"
   },
   {
    "duration": 24,
    "start_time": "2022-02-21T09:35:05.418Z"
   },
   {
    "duration": 11,
    "start_time": "2022-02-21T09:35:05.444Z"
   },
   {
    "duration": 37,
    "start_time": "2022-02-21T09:35:05.457Z"
   },
   {
    "duration": 13,
    "start_time": "2022-02-21T09:35:05.498Z"
   },
   {
    "duration": 8,
    "start_time": "2022-02-21T09:35:05.514Z"
   },
   {
    "duration": 11,
    "start_time": "2022-02-21T09:35:05.525Z"
   },
   {
    "duration": 61,
    "start_time": "2022-02-21T09:35:05.538Z"
   },
   {
    "duration": 10,
    "start_time": "2022-02-21T09:35:05.602Z"
   },
   {
    "duration": 9,
    "start_time": "2022-02-21T09:35:05.614Z"
   },
   {
    "duration": 4,
    "start_time": "2022-02-21T09:35:05.626Z"
   },
   {
    "duration": 439,
    "start_time": "2022-02-21T09:35:05.632Z"
   },
   {
    "duration": 12,
    "start_time": "2022-02-21T09:35:06.073Z"
   },
   {
    "duration": 15,
    "start_time": "2022-02-21T09:35:06.094Z"
   },
   {
    "duration": 11,
    "start_time": "2022-02-21T09:35:06.112Z"
   },
   {
    "duration": 15,
    "start_time": "2022-02-21T09:35:06.126Z"
   },
   {
    "duration": 11,
    "start_time": "2022-02-21T09:35:06.143Z"
   },
   {
    "duration": 59,
    "start_time": "2022-02-21T09:35:06.156Z"
   },
   {
    "duration": 2910,
    "start_time": "2022-02-21T09:35:06.218Z"
   },
   {
    "duration": 2163,
    "start_time": "2022-02-21T09:35:09.134Z"
   },
   {
    "duration": 1554,
    "start_time": "2022-02-21T09:35:11.301Z"
   },
   {
    "duration": 40,
    "start_time": "2022-02-21T09:35:12.858Z"
   },
   {
    "duration": 12,
    "start_time": "2022-02-21T09:35:12.901Z"
   },
   {
    "duration": 13,
    "start_time": "2022-02-21T09:35:12.915Z"
   },
   {
    "duration": 17,
    "start_time": "2022-02-21T09:35:12.931Z"
   },
   {
    "duration": 12,
    "start_time": "2022-02-21T09:35:12.950Z"
   },
   {
    "duration": 41,
    "start_time": "2022-02-21T09:35:12.992Z"
   },
   {
    "duration": 19,
    "start_time": "2022-02-21T09:35:13.035Z"
   },
   {
    "duration": 66,
    "start_time": "2022-02-21T09:35:13.056Z"
   },
   {
    "duration": 11,
    "start_time": "2022-02-21T09:35:13.124Z"
   },
   {
    "duration": 398,
    "start_time": "2022-02-21T09:35:13.137Z"
   },
   {
    "duration": 299,
    "start_time": "2022-02-21T09:35:13.238Z"
   },
   {
    "duration": 294,
    "start_time": "2022-02-21T09:35:13.244Z"
   },
   {
    "duration": 292,
    "start_time": "2022-02-21T09:35:13.248Z"
   },
   {
    "duration": 287,
    "start_time": "2022-02-21T09:35:13.254Z"
   },
   {
    "duration": 283,
    "start_time": "2022-02-21T09:35:13.259Z"
   },
   {
    "duration": 281,
    "start_time": "2022-02-21T09:35:13.263Z"
   },
   {
    "duration": 277,
    "start_time": "2022-02-21T09:35:13.268Z"
   },
   {
    "duration": 273,
    "start_time": "2022-02-21T09:35:13.273Z"
   },
   {
    "duration": 271,
    "start_time": "2022-02-21T09:35:13.277Z"
   },
   {
    "duration": 268,
    "start_time": "2022-02-21T09:35:13.281Z"
   },
   {
    "duration": 265,
    "start_time": "2022-02-21T09:35:13.285Z"
   },
   {
    "duration": 263,
    "start_time": "2022-02-21T09:35:13.289Z"
   },
   {
    "duration": 259,
    "start_time": "2022-02-21T09:35:13.294Z"
   },
   {
    "duration": 248,
    "start_time": "2022-02-21T09:35:13.306Z"
   },
   {
    "duration": 246,
    "start_time": "2022-02-21T09:35:13.310Z"
   },
   {
    "duration": 243,
    "start_time": "2022-02-21T09:35:13.314Z"
   },
   {
    "duration": 240,
    "start_time": "2022-02-21T09:35:13.318Z"
   },
   {
    "duration": 237,
    "start_time": "2022-02-21T09:35:13.322Z"
   },
   {
    "duration": 236,
    "start_time": "2022-02-21T09:35:13.325Z"
   },
   {
    "duration": 233,
    "start_time": "2022-02-21T09:35:13.329Z"
   },
   {
    "duration": 230,
    "start_time": "2022-02-21T09:35:13.333Z"
   },
   {
    "duration": 226,
    "start_time": "2022-02-21T09:35:13.338Z"
   },
   {
    "duration": 224,
    "start_time": "2022-02-21T09:35:13.341Z"
   },
   {
    "duration": 220,
    "start_time": "2022-02-21T09:35:13.346Z"
   },
   {
    "duration": 219,
    "start_time": "2022-02-21T09:35:13.349Z"
   },
   {
    "duration": 270,
    "start_time": "2022-02-21T09:35:27.670Z"
   },
   {
    "duration": 277,
    "start_time": "2022-02-21T09:36:15.720Z"
   },
   {
    "duration": 505,
    "start_time": "2022-02-21T09:36:28.101Z"
   },
   {
    "duration": 281,
    "start_time": "2022-02-21T09:36:39.119Z"
   },
   {
    "duration": 98,
    "start_time": "2022-02-21T09:36:48.876Z"
   },
   {
    "duration": 90,
    "start_time": "2022-02-21T09:36:52.060Z"
   },
   {
    "duration": 360,
    "start_time": "2022-02-21T09:36:56.260Z"
   },
   {
    "duration": 83,
    "start_time": "2022-02-21T09:42:55.911Z"
   },
   {
    "duration": 8164,
    "start_time": "2022-02-21T09:43:15.477Z"
   },
   {
    "duration": 7352,
    "start_time": "2022-02-21T09:44:00.414Z"
   },
   {
    "duration": 8441,
    "start_time": "2022-02-21T09:46:12.826Z"
   },
   {
    "duration": 12,
    "start_time": "2022-02-21T09:46:56.331Z"
   },
   {
    "duration": 10,
    "start_time": "2022-02-21T09:47:37.093Z"
   },
   {
    "duration": 256,
    "start_time": "2022-02-21T09:47:56.927Z"
   },
   {
    "duration": 7370,
    "start_time": "2022-02-21T09:48:06.751Z"
   },
   {
    "duration": 17,
    "start_time": "2022-02-21T09:49:19.062Z"
   },
   {
    "duration": 254,
    "start_time": "2022-02-21T09:49:38.797Z"
   },
   {
    "duration": 15,
    "start_time": "2022-02-21T09:49:50.415Z"
   },
   {
    "duration": 9,
    "start_time": "2022-02-21T09:50:03.309Z"
   },
   {
    "duration": 242,
    "start_time": "2022-02-21T09:50:21.172Z"
   },
   {
    "duration": 356,
    "start_time": "2022-02-21T09:51:06.010Z"
   },
   {
    "duration": 18,
    "start_time": "2022-02-21T09:51:37.115Z"
   },
   {
    "duration": 363,
    "start_time": "2022-02-21T09:52:27.514Z"
   },
   {
    "duration": 357,
    "start_time": "2022-02-21T09:52:55.372Z"
   },
   {
    "duration": 1375,
    "start_time": "2022-02-21T09:53:12.488Z"
   },
   {
    "duration": 203,
    "start_time": "2022-02-21T09:53:13.866Z"
   },
   {
    "duration": 16,
    "start_time": "2022-02-21T09:53:14.072Z"
   },
   {
    "duration": 13,
    "start_time": "2022-02-21T09:53:14.092Z"
   },
   {
    "duration": 35,
    "start_time": "2022-02-21T09:53:14.108Z"
   },
   {
    "duration": 16,
    "start_time": "2022-02-21T09:53:14.145Z"
   },
   {
    "duration": 30,
    "start_time": "2022-02-21T09:53:14.164Z"
   },
   {
    "duration": 13,
    "start_time": "2022-02-21T09:53:14.197Z"
   },
   {
    "duration": 8,
    "start_time": "2022-02-21T09:53:14.213Z"
   },
   {
    "duration": 11,
    "start_time": "2022-02-21T09:53:14.223Z"
   },
   {
    "duration": 35,
    "start_time": "2022-02-21T09:53:14.236Z"
   },
   {
    "duration": 25,
    "start_time": "2022-02-21T09:53:14.273Z"
   },
   {
    "duration": 15,
    "start_time": "2022-02-21T09:53:14.300Z"
   },
   {
    "duration": 31,
    "start_time": "2022-02-21T09:53:14.317Z"
   },
   {
    "duration": 404,
    "start_time": "2022-02-21T09:53:14.350Z"
   },
   {
    "duration": 12,
    "start_time": "2022-02-21T09:53:14.756Z"
   },
   {
    "duration": 25,
    "start_time": "2022-02-21T09:53:14.770Z"
   },
   {
    "duration": 24,
    "start_time": "2022-02-21T09:53:14.798Z"
   },
   {
    "duration": 20,
    "start_time": "2022-02-21T09:53:14.825Z"
   },
   {
    "duration": 9,
    "start_time": "2022-02-21T09:53:14.847Z"
   },
   {
    "duration": 35,
    "start_time": "2022-02-21T09:53:14.858Z"
   },
   {
    "duration": 3152,
    "start_time": "2022-02-21T09:53:14.896Z"
   },
   {
    "duration": 2131,
    "start_time": "2022-02-21T09:53:18.096Z"
   },
   {
    "duration": 1475,
    "start_time": "2022-02-21T09:53:20.231Z"
   },
   {
    "duration": 25,
    "start_time": "2022-02-21T09:53:21.708Z"
   },
   {
    "duration": 10,
    "start_time": "2022-02-21T09:53:21.736Z"
   },
   {
    "duration": 14,
    "start_time": "2022-02-21T09:53:21.748Z"
   },
   {
    "duration": 12,
    "start_time": "2022-02-21T09:53:21.793Z"
   },
   {
    "duration": 14,
    "start_time": "2022-02-21T09:53:21.807Z"
   },
   {
    "duration": 69,
    "start_time": "2022-02-21T09:53:21.824Z"
   },
   {
    "duration": 21,
    "start_time": "2022-02-21T09:53:21.896Z"
   },
   {
    "duration": 43,
    "start_time": "2022-02-21T09:53:21.920Z"
   },
   {
    "duration": 37,
    "start_time": "2022-02-21T09:53:21.965Z"
   },
   {
    "duration": 381,
    "start_time": "2022-02-21T09:53:22.004Z"
   },
   {
    "duration": 15,
    "start_time": "2022-02-21T09:53:22.388Z"
   },
   {
    "duration": 20,
    "start_time": "2022-02-21T09:53:22.406Z"
   },
   {
    "duration": 65,
    "start_time": "2022-02-21T09:53:22.429Z"
   },
   {
    "duration": 11,
    "start_time": "2022-02-21T09:53:22.496Z"
   },
   {
    "duration": 17,
    "start_time": "2022-02-21T09:53:22.509Z"
   },
   {
    "duration": 19,
    "start_time": "2022-02-21T09:53:22.528Z"
   },
   {
    "duration": 73,
    "start_time": "2022-02-21T09:53:22.549Z"
   },
   {
    "duration": 10,
    "start_time": "2022-02-21T09:53:22.624Z"
   },
   {
    "duration": 11,
    "start_time": "2022-02-21T09:53:22.636Z"
   },
   {
    "duration": 13,
    "start_time": "2022-02-21T09:53:22.650Z"
   },
   {
    "duration": 33,
    "start_time": "2022-02-21T09:53:22.665Z"
   },
   {
    "duration": 13,
    "start_time": "2022-02-21T09:53:22.701Z"
   },
   {
    "duration": 8,
    "start_time": "2022-02-21T09:53:22.716Z"
   },
   {
    "duration": 9,
    "start_time": "2022-02-21T09:53:22.726Z"
   },
   {
    "duration": 10,
    "start_time": "2022-02-21T09:53:22.737Z"
   },
   {
    "duration": 51,
    "start_time": "2022-02-21T09:53:22.749Z"
   },
   {
    "duration": 7,
    "start_time": "2022-02-21T09:53:22.802Z"
   },
   {
    "duration": 348,
    "start_time": "2022-02-21T09:53:22.811Z"
   },
   {
    "duration": 11,
    "start_time": "2022-02-21T09:53:23.161Z"
   },
   {
    "duration": 24,
    "start_time": "2022-02-21T09:53:23.175Z"
   },
   {
    "duration": 11,
    "start_time": "2022-02-21T09:53:23.201Z"
   },
   {
    "duration": 16,
    "start_time": "2022-02-21T09:53:23.214Z"
   },
   {
    "duration": 20,
    "start_time": "2022-02-21T09:53:23.232Z"
   },
   {
    "duration": 25,
    "start_time": "2022-02-21T09:53:23.254Z"
   },
   {
    "duration": 379,
    "start_time": "2022-02-21T09:53:23.282Z"
   },
   {
    "duration": 1348,
    "start_time": "2022-02-21T09:53:54.882Z"
   },
   {
    "duration": 339,
    "start_time": "2022-02-21T09:54:04.283Z"
   },
   {
    "duration": 351,
    "start_time": "2022-02-21T09:58:33.709Z"
   },
   {
    "duration": 983,
    "start_time": "2022-02-21T10:03:03.954Z"
   },
   {
    "duration": 376,
    "start_time": "2022-02-21T10:03:27.664Z"
   },
   {
    "duration": 271,
    "start_time": "2022-02-21T10:05:00.337Z"
   },
   {
    "duration": 213,
    "start_time": "2022-02-21T10:05:19.943Z"
   },
   {
    "duration": 93,
    "start_time": "2022-02-21T10:05:29.482Z"
   },
   {
    "duration": 286,
    "start_time": "2022-02-21T10:05:38.369Z"
   },
   {
    "duration": 92,
    "start_time": "2022-02-21T10:06:58.341Z"
   },
   {
    "duration": 267,
    "start_time": "2022-02-21T10:07:04.429Z"
   },
   {
    "duration": 290,
    "start_time": "2022-02-21T10:07:15.885Z"
   },
   {
    "duration": 13,
    "start_time": "2022-02-21T10:07:30.877Z"
   },
   {
    "duration": 1338,
    "start_time": "2022-02-21T10:07:48.529Z"
   },
   {
    "duration": 235,
    "start_time": "2022-02-21T10:07:49.869Z"
   },
   {
    "duration": 15,
    "start_time": "2022-02-21T10:07:50.107Z"
   },
   {
    "duration": 12,
    "start_time": "2022-02-21T10:07:50.125Z"
   },
   {
    "duration": 24,
    "start_time": "2022-02-21T10:07:50.140Z"
   },
   {
    "duration": 12,
    "start_time": "2022-02-21T10:07:50.194Z"
   },
   {
    "duration": 7,
    "start_time": "2022-02-21T10:07:50.208Z"
   },
   {
    "duration": 18,
    "start_time": "2022-02-21T10:07:50.220Z"
   },
   {
    "duration": 18,
    "start_time": "2022-02-21T10:07:50.241Z"
   },
   {
    "duration": 35,
    "start_time": "2022-02-21T10:07:50.261Z"
   },
   {
    "duration": 34,
    "start_time": "2022-02-21T10:07:50.298Z"
   },
   {
    "duration": 9,
    "start_time": "2022-02-21T10:07:50.335Z"
   },
   {
    "duration": 10,
    "start_time": "2022-02-21T10:07:50.347Z"
   },
   {
    "duration": 35,
    "start_time": "2022-02-21T10:07:50.359Z"
   },
   {
    "duration": 413,
    "start_time": "2022-02-21T10:07:50.396Z"
   },
   {
    "duration": 12,
    "start_time": "2022-02-21T10:07:50.811Z"
   },
   {
    "duration": 14,
    "start_time": "2022-02-21T10:07:50.825Z"
   },
   {
    "duration": 10,
    "start_time": "2022-02-21T10:07:50.841Z"
   },
   {
    "duration": 45,
    "start_time": "2022-02-21T10:07:50.853Z"
   },
   {
    "duration": 8,
    "start_time": "2022-02-21T10:07:50.901Z"
   },
   {
    "duration": 19,
    "start_time": "2022-02-21T10:07:50.911Z"
   },
   {
    "duration": 2830,
    "start_time": "2022-02-21T10:07:50.933Z"
   },
   {
    "duration": 2186,
    "start_time": "2022-02-21T10:07:53.769Z"
   },
   {
    "duration": 1577,
    "start_time": "2022-02-21T10:07:55.958Z"
   },
   {
    "duration": 24,
    "start_time": "2022-02-21T10:07:57.538Z"
   },
   {
    "duration": 34,
    "start_time": "2022-02-21T10:07:57.565Z"
   },
   {
    "duration": 12,
    "start_time": "2022-02-21T10:07:57.601Z"
   },
   {
    "duration": 14,
    "start_time": "2022-02-21T10:07:57.615Z"
   },
   {
    "duration": 10,
    "start_time": "2022-02-21T10:07:57.632Z"
   },
   {
    "duration": 75,
    "start_time": "2022-02-21T10:07:57.644Z"
   },
   {
    "duration": 22,
    "start_time": "2022-02-21T10:07:57.721Z"
   },
   {
    "duration": 67,
    "start_time": "2022-02-21T10:07:57.746Z"
   },
   {
    "duration": 11,
    "start_time": "2022-02-21T10:07:57.816Z"
   },
   {
    "duration": 357,
    "start_time": "2022-02-21T10:07:57.829Z"
   },
   {
    "duration": 13,
    "start_time": "2022-02-21T10:07:58.189Z"
   },
   {
    "duration": 12,
    "start_time": "2022-02-21T10:07:58.204Z"
   },
   {
    "duration": 41,
    "start_time": "2022-02-21T10:07:58.218Z"
   },
   {
    "duration": 11,
    "start_time": "2022-02-21T10:07:58.294Z"
   },
   {
    "duration": 19,
    "start_time": "2022-02-21T10:07:58.307Z"
   },
   {
    "duration": 14,
    "start_time": "2022-02-21T10:07:58.329Z"
   },
   {
    "duration": 74,
    "start_time": "2022-02-21T10:07:58.346Z"
   },
   {
    "duration": 11,
    "start_time": "2022-02-21T10:07:58.423Z"
   },
   {
    "duration": 13,
    "start_time": "2022-02-21T10:07:58.436Z"
   },
   {
    "duration": 13,
    "start_time": "2022-02-21T10:07:58.451Z"
   },
   {
    "duration": 6,
    "start_time": "2022-02-21T10:07:58.493Z"
   },
   {
    "duration": 13,
    "start_time": "2022-02-21T10:07:58.501Z"
   },
   {
    "duration": 14,
    "start_time": "2022-02-21T10:07:58.517Z"
   },
   {
    "duration": 11,
    "start_time": "2022-02-21T10:07:58.533Z"
   },
   {
    "duration": 7,
    "start_time": "2022-02-21T10:07:58.546Z"
   },
   {
    "duration": 8,
    "start_time": "2022-02-21T10:07:58.556Z"
   },
   {
    "duration": 5,
    "start_time": "2022-02-21T10:07:58.594Z"
   },
   {
    "duration": 345,
    "start_time": "2022-02-21T10:07:58.602Z"
   },
   {
    "duration": 12,
    "start_time": "2022-02-21T10:07:58.950Z"
   },
   {
    "duration": 28,
    "start_time": "2022-02-21T10:07:58.965Z"
   },
   {
    "duration": 4,
    "start_time": "2022-02-21T10:07:58.996Z"
   },
   {
    "duration": 9,
    "start_time": "2022-02-21T10:07:59.003Z"
   },
   {
    "duration": 11,
    "start_time": "2022-02-21T10:07:59.014Z"
   },
   {
    "duration": 14,
    "start_time": "2022-02-21T10:07:59.027Z"
   },
   {
    "duration": 611,
    "start_time": "2022-02-21T10:07:59.044Z"
   },
   {
    "duration": 12,
    "start_time": "2022-02-21T10:08:48.052Z"
   },
   {
    "duration": 382,
    "start_time": "2022-02-21T10:09:44.072Z"
   },
   {
    "duration": 1334,
    "start_time": "2022-02-21T10:09:59.328Z"
   },
   {
    "duration": 233,
    "start_time": "2022-02-21T10:10:00.665Z"
   },
   {
    "duration": 16,
    "start_time": "2022-02-21T10:10:00.902Z"
   },
   {
    "duration": 23,
    "start_time": "2022-02-21T10:10:00.922Z"
   },
   {
    "duration": 31,
    "start_time": "2022-02-21T10:10:00.947Z"
   },
   {
    "duration": 19,
    "start_time": "2022-02-21T10:10:00.980Z"
   },
   {
    "duration": 73,
    "start_time": "2022-02-21T10:10:01.001Z"
   },
   {
    "duration": 42,
    "start_time": "2022-02-21T10:10:01.079Z"
   },
   {
    "duration": 25,
    "start_time": "2022-02-21T10:10:01.125Z"
   },
   {
    "duration": 19,
    "start_time": "2022-02-21T10:10:01.153Z"
   },
   {
    "duration": 28,
    "start_time": "2022-02-21T10:10:01.174Z"
   },
   {
    "duration": 10,
    "start_time": "2022-02-21T10:10:01.204Z"
   },
   {
    "duration": 22,
    "start_time": "2022-02-21T10:10:01.216Z"
   },
   {
    "duration": 17,
    "start_time": "2022-02-21T10:10:01.241Z"
   },
   {
    "duration": 395,
    "start_time": "2022-02-21T10:10:01.260Z"
   },
   {
    "duration": 12,
    "start_time": "2022-02-21T10:10:01.657Z"
   },
   {
    "duration": 31,
    "start_time": "2022-02-21T10:10:01.672Z"
   },
   {
    "duration": 23,
    "start_time": "2022-02-21T10:10:01.705Z"
   },
   {
    "duration": 21,
    "start_time": "2022-02-21T10:10:01.731Z"
   },
   {
    "duration": 30,
    "start_time": "2022-02-21T10:10:01.754Z"
   },
   {
    "duration": 43,
    "start_time": "2022-02-21T10:10:01.786Z"
   },
   {
    "duration": 2845,
    "start_time": "2022-02-21T10:10:01.832Z"
   },
   {
    "duration": 2148,
    "start_time": "2022-02-21T10:10:04.695Z"
   },
   {
    "duration": 1613,
    "start_time": "2022-02-21T10:10:06.847Z"
   },
   {
    "duration": 33,
    "start_time": "2022-02-21T10:10:08.462Z"
   },
   {
    "duration": 12,
    "start_time": "2022-02-21T10:10:08.498Z"
   },
   {
    "duration": 15,
    "start_time": "2022-02-21T10:10:08.512Z"
   },
   {
    "duration": 11,
    "start_time": "2022-02-21T10:10:08.529Z"
   },
   {
    "duration": 52,
    "start_time": "2022-02-21T10:10:08.542Z"
   },
   {
    "duration": 41,
    "start_time": "2022-02-21T10:10:08.597Z"
   },
   {
    "duration": 19,
    "start_time": "2022-02-21T10:10:08.640Z"
   },
   {
    "duration": 64,
    "start_time": "2022-02-21T10:10:08.661Z"
   },
   {
    "duration": 10,
    "start_time": "2022-02-21T10:10:08.728Z"
   },
   {
    "duration": 367,
    "start_time": "2022-02-21T10:10:08.740Z"
   },
   {
    "duration": 11,
    "start_time": "2022-02-21T10:10:09.110Z"
   },
   {
    "duration": 12,
    "start_time": "2022-02-21T10:10:09.124Z"
   },
   {
    "duration": 73,
    "start_time": "2022-02-21T10:10:09.138Z"
   },
   {
    "duration": 11,
    "start_time": "2022-02-21T10:10:09.213Z"
   },
   {
    "duration": 13,
    "start_time": "2022-02-21T10:10:09.227Z"
   },
   {
    "duration": 13,
    "start_time": "2022-02-21T10:10:09.242Z"
   },
   {
    "duration": 85,
    "start_time": "2022-02-21T10:10:09.258Z"
   },
   {
    "duration": 10,
    "start_time": "2022-02-21T10:10:09.345Z"
   },
   {
    "duration": 14,
    "start_time": "2022-02-21T10:10:09.357Z"
   },
   {
    "duration": 28,
    "start_time": "2022-02-21T10:10:09.373Z"
   },
   {
    "duration": 9,
    "start_time": "2022-02-21T10:10:09.403Z"
   },
   {
    "duration": 12,
    "start_time": "2022-02-21T10:10:09.414Z"
   },
   {
    "duration": 9,
    "start_time": "2022-02-21T10:10:09.429Z"
   },
   {
    "duration": 8,
    "start_time": "2022-02-21T10:10:09.441Z"
   },
   {
    "duration": 43,
    "start_time": "2022-02-21T10:10:09.451Z"
   },
   {
    "duration": 7,
    "start_time": "2022-02-21T10:10:09.496Z"
   },
   {
    "duration": 30,
    "start_time": "2022-02-21T10:10:09.506Z"
   },
   {
    "duration": 339,
    "start_time": "2022-02-21T10:10:09.539Z"
   },
   {
    "duration": 19,
    "start_time": "2022-02-21T10:10:09.880Z"
   },
   {
    "duration": 13,
    "start_time": "2022-02-21T10:10:09.901Z"
   },
   {
    "duration": 21,
    "start_time": "2022-02-21T10:10:09.917Z"
   },
   {
    "duration": 14,
    "start_time": "2022-02-21T10:10:09.940Z"
   },
   {
    "duration": 16,
    "start_time": "2022-02-21T10:10:09.956Z"
   },
   {
    "duration": 14,
    "start_time": "2022-02-21T10:10:09.975Z"
   },
   {
    "duration": 387,
    "start_time": "2022-02-21T10:10:09.994Z"
   },
   {
    "duration": 369,
    "start_time": "2022-02-21T10:16:52.084Z"
   },
   {
    "duration": 514,
    "start_time": "2022-02-21T10:17:01.402Z"
   },
   {
    "duration": 388,
    "start_time": "2022-02-21T10:17:18.538Z"
   },
   {
    "duration": 402,
    "start_time": "2022-02-21T10:17:44.153Z"
   },
   {
    "duration": 996,
    "start_time": "2022-02-21T10:17:50.162Z"
   },
   {
    "duration": 670,
    "start_time": "2022-02-21T10:17:55.757Z"
   },
   {
    "duration": 387,
    "start_time": "2022-02-21T10:18:01.147Z"
   },
   {
    "duration": 392,
    "start_time": "2022-02-21T10:18:52.824Z"
   },
   {
    "duration": 411,
    "start_time": "2022-02-21T10:20:52.782Z"
   },
   {
    "duration": 316,
    "start_time": "2022-02-21T10:21:44.606Z"
   },
   {
    "duration": 337,
    "start_time": "2022-02-21T10:22:43.677Z"
   },
   {
    "duration": 8646,
    "start_time": "2022-02-21T10:24:30.357Z"
   },
   {
    "duration": 6513,
    "start_time": "2022-02-21T10:24:52.675Z"
   },
   {
    "duration": 330,
    "start_time": "2022-02-21T10:25:11.099Z"
   },
   {
    "duration": 438,
    "start_time": "2022-02-21T10:26:35.522Z"
   },
   {
    "duration": 135,
    "start_time": "2022-02-21T10:29:49.480Z"
   },
   {
    "duration": 11,
    "start_time": "2022-02-21T10:30:56.965Z"
   },
   {
    "duration": 468,
    "start_time": "2022-02-21T10:33:03.548Z"
   },
   {
    "duration": 323,
    "start_time": "2022-02-21T10:59:48.021Z"
   },
   {
    "duration": 334,
    "start_time": "2022-02-21T11:02:31.995Z"
   },
   {
    "duration": 365,
    "start_time": "2022-02-21T11:03:09.363Z"
   },
   {
    "duration": 211,
    "start_time": "2022-02-21T11:03:47.242Z"
   },
   {
    "duration": 274,
    "start_time": "2022-02-21T11:05:12.279Z"
   },
   {
    "duration": 308,
    "start_time": "2022-02-21T11:05:44.752Z"
   },
   {
    "duration": 238,
    "start_time": "2022-02-21T11:08:28.840Z"
   },
   {
    "duration": 383,
    "start_time": "2022-02-21T11:09:23.836Z"
   },
   {
    "duration": 303,
    "start_time": "2022-02-21T11:09:33.780Z"
   },
   {
    "duration": 261,
    "start_time": "2022-02-21T11:09:59.443Z"
   },
   {
    "duration": 8316,
    "start_time": "2022-02-21T11:10:08.807Z"
   },
   {
    "duration": 403,
    "start_time": "2022-02-21T11:10:22.165Z"
   },
   {
    "duration": 293,
    "start_time": "2022-02-21T11:10:53.845Z"
   },
   {
    "duration": 299,
    "start_time": "2022-02-21T11:11:01.252Z"
   },
   {
    "duration": 363,
    "start_time": "2022-02-21T11:11:10.355Z"
   },
   {
    "duration": 1499,
    "start_time": "2022-02-21T11:12:09.895Z"
   },
   {
    "duration": 226,
    "start_time": "2022-02-21T11:12:11.397Z"
   },
   {
    "duration": 21,
    "start_time": "2022-02-21T11:12:11.627Z"
   },
   {
    "duration": 7,
    "start_time": "2022-02-21T11:12:11.651Z"
   },
   {
    "duration": 53,
    "start_time": "2022-02-21T11:12:11.661Z"
   },
   {
    "duration": 12,
    "start_time": "2022-02-21T11:12:11.716Z"
   },
   {
    "duration": 8,
    "start_time": "2022-02-21T11:12:11.730Z"
   },
   {
    "duration": 14,
    "start_time": "2022-02-21T11:12:11.741Z"
   },
   {
    "duration": 35,
    "start_time": "2022-02-21T11:12:11.759Z"
   },
   {
    "duration": 13,
    "start_time": "2022-02-21T11:12:11.797Z"
   },
   {
    "duration": 31,
    "start_time": "2022-02-21T11:12:11.813Z"
   },
   {
    "duration": 9,
    "start_time": "2022-02-21T11:12:11.847Z"
   },
   {
    "duration": 43,
    "start_time": "2022-02-21T11:12:11.859Z"
   },
   {
    "duration": 9,
    "start_time": "2022-02-21T11:12:11.904Z"
   },
   {
    "duration": 411,
    "start_time": "2022-02-21T11:12:11.916Z"
   },
   {
    "duration": 12,
    "start_time": "2022-02-21T11:12:12.330Z"
   },
   {
    "duration": 15,
    "start_time": "2022-02-21T11:12:12.345Z"
   },
   {
    "duration": 33,
    "start_time": "2022-02-21T11:12:12.363Z"
   },
   {
    "duration": 22,
    "start_time": "2022-02-21T11:12:12.399Z"
   },
   {
    "duration": 10,
    "start_time": "2022-02-21T11:12:12.423Z"
   },
   {
    "duration": 21,
    "start_time": "2022-02-21T11:12:12.435Z"
   },
   {
    "duration": 2975,
    "start_time": "2022-02-21T11:12:12.459Z"
   },
   {
    "duration": 2130,
    "start_time": "2022-02-21T11:12:15.441Z"
   },
   {
    "duration": 1408,
    "start_time": "2022-02-21T11:12:17.576Z"
   },
   {
    "duration": 26,
    "start_time": "2022-02-21T11:12:18.994Z"
   },
   {
    "duration": 15,
    "start_time": "2022-02-21T11:12:19.023Z"
   },
   {
    "duration": 12,
    "start_time": "2022-02-21T11:12:19.040Z"
   },
   {
    "duration": 42,
    "start_time": "2022-02-21T11:12:19.054Z"
   },
   {
    "duration": 14,
    "start_time": "2022-02-21T11:12:19.098Z"
   },
   {
    "duration": 42,
    "start_time": "2022-02-21T11:12:19.114Z"
   },
   {
    "duration": 40,
    "start_time": "2022-02-21T11:12:19.158Z"
   },
   {
    "duration": 38,
    "start_time": "2022-02-21T11:12:19.200Z"
   },
   {
    "duration": 10,
    "start_time": "2022-02-21T11:12:19.240Z"
   },
   {
    "duration": 243,
    "start_time": "2022-02-21T11:12:19.253Z"
   },
   {
    "duration": 11,
    "start_time": "2022-02-21T11:12:19.499Z"
   },
   {
    "duration": 231,
    "start_time": "2022-02-21T11:12:19.512Z"
   },
   {
    "duration": 11,
    "start_time": "2022-02-21T11:12:19.746Z"
   },
   {
    "duration": 234,
    "start_time": "2022-02-21T11:12:19.759Z"
   },
   {
    "duration": 38,
    "start_time": "2022-02-21T11:12:19.996Z"
   },
   {
    "duration": 10,
    "start_time": "2022-02-21T11:12:20.037Z"
   },
   {
    "duration": 335,
    "start_time": "2022-02-21T11:12:20.049Z"
   },
   {
    "duration": 11,
    "start_time": "2022-02-21T11:12:20.393Z"
   },
   {
    "duration": 228,
    "start_time": "2022-02-21T11:12:20.407Z"
   },
   {
    "duration": 10,
    "start_time": "2022-02-21T11:12:20.637Z"
   },
   {
    "duration": 232,
    "start_time": "2022-02-21T11:12:20.649Z"
   },
   {
    "duration": 54,
    "start_time": "2022-02-21T11:12:20.884Z"
   },
   {
    "duration": 10,
    "start_time": "2022-02-21T11:12:20.940Z"
   },
   {
    "duration": 310,
    "start_time": "2022-02-21T11:12:20.952Z"
   },
   {
    "duration": 10,
    "start_time": "2022-02-21T11:12:21.265Z"
   },
   {
    "duration": 380,
    "start_time": "2022-02-21T11:12:21.293Z"
   },
   {
    "duration": 21,
    "start_time": "2022-02-21T11:12:21.676Z"
   },
   {
    "duration": 301,
    "start_time": "2022-02-21T11:12:21.701Z"
   },
   {
    "duration": 7,
    "start_time": "2022-02-21T11:12:22.004Z"
   },
   {
    "duration": 25,
    "start_time": "2022-02-21T11:12:22.013Z"
   },
   {
    "duration": 29,
    "start_time": "2022-02-21T11:12:22.041Z"
   },
   {
    "duration": 9,
    "start_time": "2022-02-21T11:12:22.072Z"
   },
   {
    "duration": 18,
    "start_time": "2022-02-21T11:12:22.083Z"
   },
   {
    "duration": 11,
    "start_time": "2022-02-21T11:12:22.103Z"
   },
   {
    "duration": 18,
    "start_time": "2022-02-21T11:12:22.116Z"
   },
   {
    "duration": 356,
    "start_time": "2022-02-21T11:12:22.137Z"
   },
   {
    "duration": 11,
    "start_time": "2022-02-21T11:12:22.496Z"
   },
   {
    "duration": 11,
    "start_time": "2022-02-21T11:12:22.509Z"
   },
   {
    "duration": 20,
    "start_time": "2022-02-21T11:12:22.522Z"
   },
   {
    "duration": 11,
    "start_time": "2022-02-21T11:12:22.544Z"
   },
   {
    "duration": 40,
    "start_time": "2022-02-21T11:12:22.558Z"
   },
   {
    "duration": 9,
    "start_time": "2022-02-21T11:12:22.601Z"
   },
   {
    "duration": 419,
    "start_time": "2022-02-21T11:12:22.612Z"
   }
  ],
  "kernelspec": {
   "display_name": "Python 3 (ipykernel)",
   "language": "python",
   "name": "python3"
  },
  "language_info": {
   "codemirror_mode": {
    "name": "ipython",
    "version": 3
   },
   "file_extension": ".py",
   "mimetype": "text/x-python",
   "name": "python",
   "nbconvert_exporter": "python",
   "pygments_lexer": "ipython3",
   "version": "3.9.7"
  },
  "toc": {
   "base_numbering": 1,
   "nav_menu": {},
   "number_sections": true,
   "sideBar": true,
   "skip_h1_title": true,
   "title_cell": "Table of Contents",
   "title_sidebar": "Contents",
   "toc_cell": false,
   "toc_position": {
    "height": "calc(100% - 180px)",
    "left": "10px",
    "top": "150px",
    "width": "211.188px"
   },
   "toc_section_display": true,
   "toc_window_display": true
  },
  "toc-autonumbering": false,
  "toc-showmarkdowntxt": false
 },
 "nbformat": 4,
 "nbformat_minor": 5
}
